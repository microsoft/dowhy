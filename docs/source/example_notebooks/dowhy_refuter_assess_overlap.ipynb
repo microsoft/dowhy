{
 "cells": [
  {
   "cell_type": "code",
   "execution_count": 1,
   "id": "201dfed2",
   "metadata": {},
   "outputs": [],
   "source": [
    "import numpy as np\n",
    "import pandas as pd\n",
    "\n",
    "import dowhy.datasets\n",
    "from dowhy import CausalModel"
   ]
  },
  {
   "cell_type": "code",
   "execution_count": 2,
   "id": "71a42a50",
   "metadata": {},
   "outputs": [],
   "source": [
    "test_data = pd.DataFrame(\n",
    "        np.array(\n",
    "            [\n",
    "                [0, 0, 1, 1],\n",
    "                [0, 0, 0, 0],\n",
    "                [0, 1, 0, 0],\n",
    "                [1, 0, 0, 0],\n",
    "            ]\n",
    "            * 50\n",
    "        ),\n",
    "        columns=[\"X1\", \"X2\", \"T\", \"Y\"],\n",
    "    )"
   ]
  },
  {
   "cell_type": "code",
   "execution_count": 3,
   "id": "cb218c53",
   "metadata": {},
   "outputs": [],
   "source": [
    "model = CausalModel(\n",
    "    data=test_data,\n",
    "    treatment=\"T\",\n",
    "    outcome=\"Y\",\n",
    "    common_causes=['X1', 'X2']\n",
    ")"
   ]
  },
  {
   "cell_type": "code",
   "execution_count": 4,
   "id": "d1b9d144",
   "metadata": {},
   "outputs": [],
   "source": [
    "identified_estimand = model.identify_effect(proceed_when_unidentifiable=True)\n",
    "\n",
    "estimate = model.estimate_effect(identified_estimand, method_name=\"backdoor.linear_regression\")"
   ]
  },
  {
   "cell_type": "code",
   "execution_count": 5,
   "id": "e6afb904",
   "metadata": {},
   "outputs": [],
   "source": [
    "refute = model.refute_estimate(identified_estimand, estimate, method_name='assess_overlap')"
   ]
  },
  {
   "cell_type": "code",
   "execution_count": 6,
   "id": "e11e8d3b",
   "metadata": {},
   "outputs": [
    {
     "name": "stdout",
     "output_type": "stream",
     "text": [
      "Rules cover 50.0% of all samples\n",
      "Overall, 50.0% of samples meet the criteria for inclusion in the overlap set, defined as: Covered by support rules and propensity score in (0.10, 0.90)\n",
      "Rules capture 100.0% of samples which meet these criteria\n",
      "\n",
      "DETAILED RULES:\n",
      "SUPPORT Rules: Found 2 rule(s), covering 100.0% of samples\n",
      "\t    Rule #0: (not X1)\n",
      "\t\t [Covers 75.0% of samples]\n",
      "\t OR Rule #1: (not X2)\n",
      "\t\t AND (X1)\n",
      "\t\t [Covers 25.0% of samples]\n",
      "OVERLAP Rules: Found 1 rule(s), covering 50.0% of samples\n",
      "\t    Rule #0: (not X2)\n",
      "\t\t AND (not X1)\n",
      "\t\t [Covers 50.0% of samples]\n",
      "\n"
     ]
    }
   ],
   "source": [
    "print(refute)"
   ]
  }
 ],
 "metadata": {
  "kernelspec": {
   "display_name": "Python 3 (ipykernel)",
   "language": "python",
   "name": "python3"
  },
  "language_info": {
   "codemirror_mode": {
    "name": "ipython",
    "version": 3
   },
   "file_extension": ".py",
   "mimetype": "text/x-python",
   "name": "python",
   "nbconvert_exporter": "python",
   "pygments_lexer": "ipython3",
   "version": "3.9.5"
  }
 },
 "nbformat": 4,
 "nbformat_minor": 5
}
