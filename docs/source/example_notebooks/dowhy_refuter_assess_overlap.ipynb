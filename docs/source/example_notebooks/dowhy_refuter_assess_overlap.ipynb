{
 "cells": [
  {
   "cell_type": "markdown",
   "id": "ff51ab3d",
   "metadata": {},
   "source": [
    "# Assessing Support and Overlap with OverRule\n",
    "\n",
    "## Motivation\n",
    "\n",
    "Even if all other causal assumptions hold, we can only estimate causal effects for individuals with covariates $X$ that satisfy two conditions: \n",
    "* Support: Simply put, we require that we observe similar individuals in our dataset.  For discrete covariates $X$, this can be formalized as requiring that $$P(X) > 0$$\n",
    "* Overlap: We require that there is some possibility of observing both the treatment and control for similar individuals.  Formally, we require that $$1 > P(T = 1 \\mid X) > 0$$\n",
    "\n",
    "OverRule [1] is a method for learning Boolean Rule Sets that characterize the set of individuals who satisfy both conditions, and is demonstrated in this notebook on some simple examples to build intuition.\n",
    "\n",
    "## Acknowledgements\n",
    "\n",
    "Code for OverRule is adapted (with minimal modifications, but some simplifications) from https://github.com/clinicalml/overlap-code, under the MIT License.\n",
    "\n",
    "[1] Oberst, M., Johansson, F., Wei, D., Gao, T., Brat, G., Sontag, D., & Varshney, K. (2020). Characterization of\n",
    "Overlap in Observational Studies. In S. Chiappa & R. Calandra (Eds.), Proceedings of the Twenty Third International\n",
    "Conference on Artificial Intelligence and Statistics (Vol. 108, pp. 788–798). PMLR. https://arxiv.org/abs/1907.04138"
   ]
  },
  {
   "cell_type": "code",
   "execution_count": 1,
   "id": "201dfed2",
   "metadata": {},
   "outputs": [],
   "source": [
    "import numpy as np\n",
    "import pandas as pd\n",
    "\n",
    "import dowhy.datasets\n",
    "from dowhy import CausalModel\n",
    "# Functional API\n",
    "from dowhy.causal_refuters.assess_overlap import assess_support_and_overlap_overrule\n",
    "\n",
    "# Data classes to configure ruleset optimization\n",
    "from dowhy.causal_refuters.assess_overlap_overrule import SupportConfig, OverlapConfig\n",
    "\n",
    "import matplotlib.pyplot as plt"
   ]
  },
  {
   "cell_type": "markdown",
   "id": "c1b893ae",
   "metadata": {},
   "source": [
    "# Illustration on a simple 2D example"
   ]
  },
  {
   "cell_type": "markdown",
   "id": "fc102d2c",
   "metadata": {},
   "source": [
    "## Setup \n",
    "\n",
    "In this example, we have a pair of binary covariates $X_1, X_2$, with simple violations of the above conditions:\n",
    "* Support: There are no samples where $X_1 = X_2 = 1$, i.e., $P(X_1 = 1, X_2 = 1) = 0$ \n",
    "* Overlap: Only individuals with $X_1 = 0, X_2 = 0$ have a chance of recieving both treatment $(T = 1)$ and control $(T = 0)$"
   ]
  },
  {
   "cell_type": "code",
   "execution_count": 2,
   "id": "71a42a50",
   "metadata": {},
   "outputs": [],
   "source": [
    "test_data = pd.DataFrame(\n",
    "        np.array(\n",
    "            [\n",
    "                [0, 0, 1, 1],\n",
    "                [0, 0, 0, 0],\n",
    "                [0, 1, 1, 0],\n",
    "                [1, 0, 0, 0],\n",
    "            ]\n",
    "            * 50\n",
    "        ),\n",
    "        columns=[\"X1\", \"X2\", \"T\", \"Y\"],\n",
    "    )"
   ]
  },
  {
   "cell_type": "markdown",
   "id": "0c6e3f0b",
   "metadata": {},
   "source": [
    "We can visualize these patterns as follows, where we **add some jitter** to the values to makes things easier to see"
   ]
  },
  {
   "cell_type": "code",
   "execution_count": 3,
   "id": "f9754054",
   "metadata": {},
   "outputs": [
    {
     "data": {
      "image/png": "[encoded data removed]",
      "text/plain": [
       "<Figure size 500x500 with 1 Axes>"
      ]
     },
     "metadata": {},
     "output_type": "display_data"
    }
   ],
   "source": [
    "rng = np.random.default_rng(0)\n",
    "jitter_data = test_data.copy()\n",
    "jitter_data['X1'] = jitter_data['X1'] + rng.normal(0, 0.05, size=(200,)) \n",
    "jitter_data['X2'] = jitter_data['X2'] + rng.normal(0, 0.05, size=(200,)) \n",
    "\n",
    "fig, ax = plt.subplots(1, 1, figsize=(5, 5))\n",
    "for t in [0, 1]:\n",
    "    this_data = jitter_data.query('T == @t')\n",
    "    ax.scatter(this_data['X1'], this_data['X2'], label=f'T = {t}', edgecolor='w', linewidths=0.5)\n",
    "\n",
    "plt.legend()\n",
    "plt.show()"
   ]
  },
  {
   "cell_type": "markdown",
   "id": "11abab7e",
   "metadata": {},
   "source": [
    "Notice how the only region where overlap holds is when $X_1 = X_2 = 0$."
   ]
  },
  {
   "cell_type": "markdown",
   "id": "6a5d5c53",
   "metadata": {},
   "source": [
    "## Using OverRule as a refuter"
   ]
  },
  {
   "cell_type": "markdown",
   "id": "aa1618d9",
   "metadata": {},
   "source": [
    "This method is currently implemented as a refutation method, though it can also be accessed through the functional API.  We illustrate both methods below, before discussing their arguments.\n",
    "\n",
    "Note that OverRule returns rules in Disjuntive Normal Form (DNF), which can be read as an OR of ANDs, and are given when `print(refute)` is called."
   ]
  },
  {
   "cell_type": "markdown",
   "id": "2e165ecb",
   "metadata": {},
   "source": [
    "### Example usage using CausalModel"
   ]
  },
  {
   "cell_type": "code",
   "execution_count": 4,
   "id": "cb218c53",
   "metadata": {},
   "outputs": [],
   "source": [
    "model = CausalModel(\n",
    "    data=test_data,\n",
    "    treatment=\"T\",\n",
    "    outcome=\"Y\",\n",
    "    common_causes=['X1', 'X2']\n",
    ")"
   ]
  },
  {
   "cell_type": "code",
   "execution_count": 5,
   "id": "d1b9d144",
   "metadata": {},
   "outputs": [],
   "source": [
    "identified_estimand = model.identify_effect(proceed_when_unidentifiable=True)\n",
    "\n",
    "estimate = model.estimate_effect(identified_estimand, method_name=\"backdoor.linear_regression\")"
   ]
  },
  {
   "cell_type": "code",
   "execution_count": 6,
   "id": "e6afb904",
   "metadata": {},
   "outputs": [],
   "source": [
    "refute = model.refute_estimate(identified_estimand, estimate, method_name='assess_overlap')"
   ]
  },
  {
   "cell_type": "code",
   "execution_count": 7,
   "id": "e11e8d3b",
   "metadata": {},
   "outputs": [
    {
     "name": "stdout",
     "output_type": "stream",
     "text": [
      "Rules cover 50.0% of all samples\n",
      "Overall, 50.0% of samples meet the criteria for inclusion in the overlap set, defined as: Covered by support rules and propensity score in (0.10, 0.90)\n",
      "Rules capture 100.0% of samples which meet these criteria\n",
      "\n",
      "DETAILED RULES:\n",
      "SUPPORT Rules: Found 2 rule(s), covering 100.0% of samples\n",
      "\t    Rule #0: (not X2)\n",
      "\t\t [Covers 75.0% of samples]\n",
      "\t OR Rule #1: (not X1)\n",
      "\t\t AND (X2)\n",
      "\t\t [Covers 25.0% of samples]\n",
      "OVERLAP Rules: Found 1 rule(s), covering 50.0% of samples\n",
      "\t    Rule #0: (not X1)\n",
      "\t\t AND (not X2)\n",
      "\t\t [Covers 50.0% of samples]\n",
      "\n"
     ]
    }
   ],
   "source": [
    "print(refute)"
   ]
  },
  {
   "cell_type": "markdown",
   "id": "3dee0fdd",
   "metadata": {},
   "source": [
    "### Example usage using the Functional API\n",
    "\n"
   ]
  },
  {
   "cell_type": "markdown",
   "id": "91ff2447",
   "metadata": {},
   "source": [
    "Note that the outcome $Y$ is not used as part of OverRule, so it is not required here."
   ]
  },
  {
   "cell_type": "code",
   "execution_count": 8,
   "id": "3ac5e83e",
   "metadata": {},
   "outputs": [],
   "source": [
    "refute = assess_support_and_overlap_overrule(data=test_data, backdoor_vars=['X1', 'X2'], treatment_name='T')"
   ]
  },
  {
   "cell_type": "code",
   "execution_count": 9,
   "id": "b21df2fc",
   "metadata": {},
   "outputs": [
    {
     "name": "stdout",
     "output_type": "stream",
     "text": [
      "Rules cover 50.0% of all samples\n",
      "Overall, 50.0% of samples meet the criteria for inclusion in the overlap set, defined as: Covered by support rules and propensity score in (0.10, 0.90)\n",
      "Rules capture 100.0% of samples which meet these criteria\n",
      "\n",
      "DETAILED RULES:\n",
      "SUPPORT Rules: Found 2 rule(s), covering 100.0% of samples\n",
      "\t    Rule #0: (not X1)\n",
      "\t\t [Covers 75.0% of samples]\n",
      "\t OR Rule #1: (X1)\n",
      "\t\t AND (not X2)\n",
      "\t\t [Covers 25.0% of samples]\n",
      "OVERLAP Rules: Found 1 rule(s), covering 50.0% of samples\n",
      "\t    Rule #0: (not X1)\n",
      "\t\t AND (not X2)\n",
      "\t\t [Covers 50.0% of samples]\n",
      "\n"
     ]
    }
   ],
   "source": [
    "print(refute)"
   ]
  },
  {
   "cell_type": "markdown",
   "id": "25f7b414",
   "metadata": {},
   "source": [
    "### Only fitting support or overlap rules\n",
    "\n",
    "You can also run OverRule to **only** learn either support or overlap rules, by passing in either `support_only=True` or `overlap_only=True`."
   ]
  },
  {
   "cell_type": "code",
   "execution_count": 10,
   "id": "dee3f922",
   "metadata": {},
   "outputs": [],
   "source": [
    "refute = model.refute_estimate(identified_estimand, estimate, method_name='assess_overlap', support_only=True)"
   ]
  },
  {
   "cell_type": "code",
   "execution_count": 11,
   "id": "0a0c9bda",
   "metadata": {},
   "outputs": [
    {
     "name": "stdout",
     "output_type": "stream",
     "text": [
      "Rules cover 100.0% of all samples\n",
      "\n",
      "DETAILED RULES:\n",
      "SUPPORT Rules: Found 2 rule(s), covering 100.0% of samples\n",
      "\t    Rule #0: (not X1)\n",
      "\t\t [Covers 75.0% of samples]\n",
      "\t OR Rule #1: (not X2)\n",
      "\t\t [Covers 75.0% of samples]\n",
      "No Overlap Rules Fitted (support_only=True).\n"
     ]
    }
   ],
   "source": [
    "print(refute)"
   ]
  },
  {
   "cell_type": "code",
   "execution_count": 12,
   "id": "9c1e4809",
   "metadata": {},
   "outputs": [],
   "source": [
    "refute = model.refute_estimate(identified_estimand, estimate, method_name='assess_overlap', overlap_only=True)"
   ]
  },
  {
   "cell_type": "code",
   "execution_count": 13,
   "id": "51db4ee8",
   "metadata": {},
   "outputs": [
    {
     "name": "stdout",
     "output_type": "stream",
     "text": [
      "Rules cover 50.0% of all samples\n",
      "Overall, 50.0% of samples meet the criteria for inclusion in the overlap set, defined as: Covered by support rules and propensity score in (0.10, 0.90)\n",
      "Rules capture 100.0% of samples which meet these criteria\n",
      "\n",
      "DETAILED RULES:\n",
      "No Support Rules Fitted (overlap_only=True).OVERLAP Rules: Found 1 rule(s), covering 50.0% of samples\n",
      "\t    Rule #0: (not X1)\n",
      "\t\t AND (not X2)\n",
      "\t\t [Covers 50.0% of samples]\n",
      "\n"
     ]
    }
   ],
   "source": [
    "print(refute)"
   ]
  },
  {
   "cell_type": "markdown",
   "id": "6ab1255c",
   "metadata": {},
   "source": [
    "### Configuration\n",
    "\n",
    "OverRule can be configured by passing in the following arguments\n",
    "* `overlap_eps`: This should be a number $\\epsilon$ in (0, 0.5) which defines the overlap region as those points where $P(T = 1 \\mid X)$ is in $(\\epsilon, 1 - \\epsilon)$.\n",
    "\n",
    "* `cat_feats`: A list of any categorical features (automatically inferred if dtype is object).\n",
    "\n",
    "* `support_config`: A `SupportConfig` (see below), which controls optimization parameters\n",
    "\n",
    "* `overlap_config`: An `OverlapConfig` (see below), which controls optimization parameters"
   ]
  },
  {
   "cell_type": "code",
   "execution_count": 14,
   "id": "f7fa5eb8",
   "metadata": {},
   "outputs": [],
   "source": [
    "from dowhy.causal_refuters.assess_overlap_overrule import SupportConfig, OverlapConfig"
   ]
  },
  {
   "cell_type": "code",
   "execution_count": 17,
   "id": "cc8734c5",
   "metadata": {},
   "outputs": [
    {
     "name": "stdout",
     "output_type": "stream",
     "text": [
      "SupportConfig(n_ref_multiplier=1.0, alpha=0.98, lambda0=0.01, lambda1=0.001, K=20, D=20, B=10, iterMax=10, num_thresh=9, solver='ECOS', rounding='greedy_sweep')\n"
     ]
    }
   ],
   "source": [
    "support_config = SupportConfig()\n",
    "print(support_config)"
   ]
  },
  {
   "cell_type": "code",
   "execution_count": 19,
   "id": "68fda6d1",
   "metadata": {},
   "outputs": [
    {
     "name": "stdout",
     "output_type": "stream",
     "text": [
      "OverlapConfig(alpha=0.95, lambda0=0.001, lambda1=0.001, K=20, D=20, B=10, iterMax=10, num_thresh=9, solver='ECOS', rounding='greedy_sweep')\n"
     ]
    }
   ],
   "source": [
    "overlap_config = OverlapConfig()\n",
    "print(overlap_config)"
   ]
  },
  {
   "cell_type": "markdown",
   "id": "bb2a9a2c",
   "metadata": {},
   "source": [
    "For `SupportConfig` and `OverlapConfig`, the defaults are generally sensible, but some more important to understand, and are detailed below.\n",
    "* `alpha`: \n",
    "    + For learning support rules, we require that at least an `alpha` fraction of the original data is included, while minimizing the volume of the resulting support set.  \n",
    "    + For learning overlap rules, at least an `alpha` fraction of the \"overlap points\" must be included, while excluding as many non-overlap points as possible.  Here, the \"overlap points\" are defined as those where $P(T = 1 \\mid X)$ is within `[overlap_eps, 1 - overlap_eps]`, estimated using an XGBClassifier.\n",
    "* `lambda0`, `lambda1`: These are regularization terms which control the complexity of the final rules. \n",
    "    + `lambda0` is a penalty added for every new rule (which can contain multiple literals).  For instance, `(not X1) AND (not X2)` is a single rule. \n",
    "    + `lambda1` is a penalty added for every literal.  For instance, `(not X1) AND (not X2)` contains two literals.\n",
    "* `num_thresh`: OverRule turns all features into binary rules before learning rulesets.  For continuous variables, it does so (by default) by converting into deciles.  This default behavior can be changed via changing the number of thresholds, or specifying a dictionary (in `thresh_override`) that maps features to a `np.ndarray` of thresholds."
   ]
  }
 ],
 "metadata": {
  "kernelspec": {
   "display_name": "Python 3 (ipykernel)",
   "language": "python",
   "name": "python3"
  },
  "language_info": {
   "codemirror_mode": {
    "name": "ipython",
    "version": 3
   },
   "file_extension": ".py",
   "mimetype": "text/x-python",
   "name": "python",
   "nbconvert_exporter": "python",
   "pygments_lexer": "ipython3",
   "version": "3.9.5"
  }
 },
 "nbformat": 4,
 "nbformat_minor": 5
}
