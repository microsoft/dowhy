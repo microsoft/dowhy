{
 "cells": [
  {
   "cell_type": "markdown",
   "metadata": {},
   "source": [
    "# Testing Assumptions in model with Dowhy: A simple example\n",
    "This is a quick introduction to how we can test if our assumed graph is correct and the assumptions match with the dataset.\n",
    "We do so by checking the conditional independences in the graph and see if they hold true for the data as well. Currently we are using partial correlation to do that. \n",
    "\n",
    "First, let us load all required packages."
   ]
  },
  {
   "cell_type": "code",
   "execution_count": 1,
   "metadata": {},
   "outputs": [],
   "source": [
    "%load_ext autoreload\n",
    "%autoreload 2"
   ]
  },
  {
   "cell_type": "code",
   "execution_count": 2,
   "metadata": {},
   "outputs": [],
   "source": [
    "import numpy as np\n",
    "import pandas as pd\n",
    "import os, sys\n",
    "sys.path.append(os.path.abspath(\"../../../\"))\n",
    "import dowhy\n",
    "from dowhy import CausalModel\n",
    "import dowhy.datasets "
   ]
  },
  {
   "cell_type": "markdown",
   "metadata": {},
   "source": [
    "## Step 1: Load dataset"
   ]
  },
  {
   "cell_type": "code",
   "execution_count": 3,
   "metadata": {},
   "outputs": [
    {
     "data": {
      "text/html": [
       "<div>\n",
       "<style scoped>\n",
       "    .dataframe tbody tr th:only-of-type {\n",
       "        vertical-align: middle;\n",
       "    }\n",
       "\n",
       "    .dataframe tbody tr th {\n",
       "        vertical-align: top;\n",
       "    }\n",
       "\n",
       "    .dataframe thead th {\n",
       "        text-align: right;\n",
       "    }\n",
       "</style>\n",
       "<table border=\"1\" class=\"dataframe\">\n",
       "  <thead>\n",
       "    <tr style=\"text-align: right;\">\n",
       "      <th></th>\n",
       "      <th>X0</th>\n",
       "      <th>Z0</th>\n",
       "      <th>Z1</th>\n",
       "      <th>W0</th>\n",
       "      <th>W1</th>\n",
       "      <th>W2</th>\n",
       "      <th>W3</th>\n",
       "      <th>W4</th>\n",
       "      <th>v0</th>\n",
       "      <th>y</th>\n",
       "    </tr>\n",
       "  </thead>\n",
       "  <tbody>\n",
       "    <tr>\n",
       "      <th>0</th>\n",
       "      <td>0.428479</td>\n",
       "      <td>1.0</td>\n",
       "      <td>0.608489</td>\n",
       "      <td>-0.518131</td>\n",
       "      <td>-0.682707</td>\n",
       "      <td>-0.563548</td>\n",
       "      <td>-0.017224</td>\n",
       "      <td>0</td>\n",
       "      <td>True</td>\n",
       "      <td>5.384238</td>\n",
       "    </tr>\n",
       "    <tr>\n",
       "      <th>1</th>\n",
       "      <td>-0.904170</td>\n",
       "      <td>1.0</td>\n",
       "      <td>0.385278</td>\n",
       "      <td>-0.934957</td>\n",
       "      <td>-1.003160</td>\n",
       "      <td>0.664438</td>\n",
       "      <td>-0.481610</td>\n",
       "      <td>2</td>\n",
       "      <td>False</td>\n",
       "      <td>3.287245</td>\n",
       "    </tr>\n",
       "    <tr>\n",
       "      <th>2</th>\n",
       "      <td>0.457611</td>\n",
       "      <td>1.0</td>\n",
       "      <td>0.674786</td>\n",
       "      <td>0.488935</td>\n",
       "      <td>0.432681</td>\n",
       "      <td>0.861960</td>\n",
       "      <td>0.259456</td>\n",
       "      <td>3</td>\n",
       "      <td>True</td>\n",
       "      <td>26.989301</td>\n",
       "    </tr>\n",
       "    <tr>\n",
       "      <th>3</th>\n",
       "      <td>0.304734</td>\n",
       "      <td>0.0</td>\n",
       "      <td>0.569865</td>\n",
       "      <td>-1.661278</td>\n",
       "      <td>0.719783</td>\n",
       "      <td>1.217760</td>\n",
       "      <td>-1.141764</td>\n",
       "      <td>3</td>\n",
       "      <td>False</td>\n",
       "      <td>10.631175</td>\n",
       "    </tr>\n",
       "    <tr>\n",
       "      <th>4</th>\n",
       "      <td>0.312579</td>\n",
       "      <td>0.0</td>\n",
       "      <td>0.713700</td>\n",
       "      <td>0.465390</td>\n",
       "      <td>-0.579194</td>\n",
       "      <td>-0.845035</td>\n",
       "      <td>-0.915098</td>\n",
       "      <td>3</td>\n",
       "      <td>True</td>\n",
       "      <td>11.540869</td>\n",
       "    </tr>\n",
       "  </tbody>\n",
       "</table>\n",
       "</div>"
      ],
      "text/plain": [
       "         X0   Z0        Z1        W0        W1        W2        W3  W4     v0  \\\n",
       "0  0.428479  1.0  0.608489 -0.518131 -0.682707 -0.563548 -0.017224   0   True   \n",
       "1 -0.904170  1.0  0.385278 -0.934957 -1.003160  0.664438 -0.481610   2  False   \n",
       "2  0.457611  1.0  0.674786  0.488935  0.432681  0.861960  0.259456   3   True   \n",
       "3  0.304734  0.0  0.569865 -1.661278  0.719783  1.217760 -1.141764   3  False   \n",
       "4  0.312579  0.0  0.713700  0.465390 -0.579194 -0.845035 -0.915098   3   True   \n",
       "\n",
       "           y  \n",
       "0   5.384238  \n",
       "1   3.287245  \n",
       "2  26.989301  \n",
       "3  10.631175  \n",
       "4  11.540869  "
      ]
     },
     "execution_count": 3,
     "metadata": {},
     "output_type": "execute_result"
    }
   ],
   "source": [
    "data = dowhy.datasets.linear_dataset(beta=10,\n",
    "        num_common_causes=5,\n",
    "        num_instruments = 2,\n",
    "        num_effect_modifiers=1,\n",
    "        num_samples=5000, \n",
    "        treatment_is_binary=True,\n",
    "        stddev_treatment_noise=10,\n",
    "        num_discrete_common_causes=1)\n",
    "\n",
    "df = pd.read_csv('test_data.csv')  #Insert dataset here\n",
    "df.head()"
   ]
  },
  {
   "cell_type": "markdown",
   "metadata": {},
   "source": [
    "Note that we are using a pandas dataframe to load the data. At present, DoWhy only supports pandas dataframe as input."
   ]
  },
  {
   "cell_type": "markdown",
   "metadata": {},
   "source": [
    "## Step 2: Input causal graph"
   ]
  },
  {
   "cell_type": "markdown",
   "metadata": {},
   "source": [
    "We now input a causal graph. You can do that in the GML graph format (recommended), DOT format or the output from daggity -\n",
    "To create the causal graph for your dataset, you can use a tool like [DAGitty](http://dagitty.net/dags.html#) that provides a GUI to construct the graph. You can export the graph string that it generates."
   ]
  },
  {
   "cell_type": "code",
   "execution_count": 4,
   "metadata": {},
   "outputs": [],
   "source": [
    "graph_string = \"\"\"dag {\n",
    "        W0 [pos=\"-2.200,-1.520\"]\n",
    "        W1 [pos=\"-1.457,-1.533\"]\n",
    "        W2 [pos=\"-0.763,-1.547\"]\n",
    "        W3 [pos=\"1.041,-1.587\"]\n",
    "        W4 [pos=\"1.510,-1.560\"]\n",
    "        X0 [pos=\"1.222,-0.625\"]\n",
    "        Z0 [pos=\"0.390,-1.601\"]\n",
    "        Z1 [pos=\"-0.176,-1.540\"]\n",
    "        v0 [pos=\"-0.219,-0.881\"]\n",
    "        y [pos=\"-0.144,-0.296\"]\n",
    "        W0 -> v0\n",
    "        W0 -> y\n",
    "        W1 -> v0\n",
    "        W1 -> y\n",
    "        W2 -> v0\n",
    "        W2 -> y\n",
    "        W3 -> v0\n",
    "        W3 -> y\n",
    "        W4 -> v0\n",
    "        W4 -> y\n",
    "        X0 -> y\n",
    "        Z0 -> v0\n",
    "        Z1 -> v0\n",
    "        v0 -> y\n",
    "        }\"\"\""
   ]
  },
  {
   "cell_type": "markdown",
   "metadata": {},
   "source": [
    "## Step 3: Create Causal Model"
   ]
  },
  {
   "cell_type": "code",
   "execution_count": 5,
   "metadata": {},
   "outputs": [],
   "source": [
    "model=CausalModel(\n",
    "        data = df,\n",
    "        treatment=data[\"treatment_name\"],\n",
    "        outcome=data[\"outcome_name\"],\n",
    "        graph=graph_string\n",
    "        )"
   ]
  },
  {
   "cell_type": "code",
   "execution_count": 6,
   "metadata": {},
   "outputs": [],
   "source": [
    "model.view_model()"
   ]
  },
  {
   "cell_type": "code",
   "execution_count": null,
   "metadata": {
    "scrolled": true
   },
   "outputs": [],
   "source": [
    "from IPython.display import Image, display\n",
    "display(Image(filename=\"causal_model.png\"))"
   ]
  },
  {
   "cell_type": "markdown",
   "metadata": {},
   "source": [
    "## Step 4: Testing for Conditional Independence\n",
    "We can check if the assumptions of the graph hold true for the data using model.refute_graph(k, method_name) \n",
    "We are testing X ⫫ Y | Z where X and Y are singular sets and Z can have k number of variables. \n",
    "Currently we are using \"partial_correlation\" method by default\n",
    "The function returns two lists - \n",
    "- true_implications : The list of independences from the graph which were true for the dataset\n",
    "- false_implications: The list of independences from the graph which were false for the dataset"
   ]
  },
  {
   "cell_type": "code",
   "execution_count": null,
   "metadata": {},
   "outputs": [],
   "source": [
    "true_implications, false_implications = model.refute_graph( k = 1,method_name = \"partial_correlation\") #Change k parameter to test conditional independence given different number of variables "
   ]
  },
  {
   "cell_type": "code",
   "execution_count": null,
   "metadata": {
    "scrolled": false
   },
   "outputs": [],
   "source": [
    "print(true_implications)"
   ]
  },
  {
   "cell_type": "code",
   "execution_count": null,
   "metadata": {},
   "outputs": [],
   "source": [
    "print(false_implications)"
   ]
  },
  {
   "cell_type": "code",
   "execution_count": null,
   "metadata": {},
   "outputs": [],
   "source": [
    "len(false_implications)"
   ]
  },
  {
   "cell_type": "markdown",
   "metadata": {},
   "source": [
    "## Testing with a wrong graph input"
   ]
  },
  {
   "cell_type": "code",
   "execution_count": null,
   "metadata": {},
   "outputs": [],
   "source": [
    "graph_string = \"\"\"dag {\n",
    "        W0 [pos=\"-2.200,-1.520\"]\n",
    "        W1 [pos=\"-1.457,-1.533\"]\n",
    "        W2 [pos=\"-0.763,-1.547\"]\n",
    "        W3 [pos=\"1.041,-1.587\"]\n",
    "        W4 [pos=\"1.510,-1.560\"]\n",
    "        X0 [pos=\"1.222,-0.625\"]\n",
    "        Z0 [pos=\"0.390,-1.601\"]\n",
    "        Z1 [pos=\"-0.176,-1.540\"]\n",
    "        v0 [pos=\"-0.219,-0.881\"]\n",
    "        y [pos=\"-0.144,-0.296\"]\n",
    "        W0 -> v0\n",
    "        W0 -> y\n",
    "        W1 -> v0\n",
    "        W1 -> y\n",
    "        W2 -> v0\n",
    "        W2 -> y\n",
    "        W3 -> v0\n",
    "        W3 -> y\n",
    "        W4 -> v0\n",
    "        X0 -> Z0\n",
    "        Z0 -> Z1\n",
    "        }\"\"\""
   ]
  },
  {
   "cell_type": "code",
   "execution_count": null,
   "metadata": {},
   "outputs": [],
   "source": [
    "model = CausalModel(\n",
    "            data=df,\n",
    "            treatment=data[\"treatment_name\"],\n",
    "            outcome=data[\"outcome_name\"],\n",
    "            graph=graph_string,\n",
    "            proceed_when_unidentifiable=True,\n",
    "            test_significance=None\n",
    "        )"
   ]
  },
  {
   "cell_type": "code",
   "execution_count": null,
   "metadata": {},
   "outputs": [],
   "source": [
    "model.view_model()"
   ]
  },
  {
   "cell_type": "code",
   "execution_count": null,
   "metadata": {},
   "outputs": [],
   "source": [
    "from IPython.display import Image, display\n",
    "display(Image(filename=\"causal_model.png\"))"
   ]
  },
  {
   "cell_type": "code",
   "execution_count": null,
   "metadata": {},
   "outputs": [],
   "source": [
    "true_implications, false_implications = model.refute_graph(1,method_name = \"partial_correlation\")"
   ]
  },
  {
   "cell_type": "code",
   "execution_count": null,
   "metadata": {},
   "outputs": [],
   "source": [
    "print(false_implications)"
   ]
  },
  {
   "cell_type": "markdown",
   "metadata": {},
   "source": [
    "We can see that since we input the wrong graph, many conditional independences were not met"
   ]
  },
  {
   "cell_type": "code",
   "execution_count": null,
   "metadata": {},
   "outputs": [],
   "source": [
    "print(true_implications)"
   ]
  }
 ],
 "metadata": {
  "kernelspec": {
   "display_name": "Python 3",
   "language": "python",
   "name": "python3"
  },
  "language_info": {
   "codemirror_mode": {
    "name": "ipython",
    "version": 3
   },
   "file_extension": ".py",
   "mimetype": "text/x-python",
   "name": "python",
   "nbconvert_exporter": "python",
   "pygments_lexer": "ipython3",
   "version": "3.6.10"
  },
  "toc": {
   "base_numbering": 1,
   "nav_menu": {},
   "number_sections": false,
   "sideBar": true,
   "skip_h1_title": true,
   "title_cell": "Table of Contents",
   "title_sidebar": "Contents",
   "toc_cell": false,
   "toc_position": {},
   "toc_section_display": true,
   "toc_window_display": false
  }
 },
 "nbformat": 4,
 "nbformat_minor": 4
}
