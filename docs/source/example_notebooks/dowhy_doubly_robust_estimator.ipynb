{
 "cells": [
  {
   "cell_type": "markdown",
   "metadata": {},
   "source": [
    "# DoWhy: Doubly robust estimator for causal effect estimation\n",
    "\n",
    "This notebook shows how the doubly robust estimator in doWhy can be used for causal effect estimation.\n",
    "\n",
    "The doubly robust estimator is a powerful technique in causal inference that combines the strengths of both outcome regression and propensity score methods to provide more accurate and reliable estimates of causal effects. By leveraging models for both the treatment assignment and the outcome, this method remains consistent if at least one of these models is correctly specified, offering robustness against model misspecification. "
   ]
  },
  {
   "cell_type": "markdown",
   "metadata": {},
   "source": [
    "### 0. Import required libraries"
   ]
  },
  {
   "cell_type": "code",
   "execution_count": 58,
   "metadata": {},
   "outputs": [],
   "source": [
    "import pandas as pd\n",
    "import numpy as np\n",
    "\n",
    "import dowhy\n",
    "from dowhy import CausalModel\n",
    "import dowhy.datasets \n"
   ]
  },
  {
   "cell_type": "markdown",
   "metadata": {},
   "source": [
    "### 1. Load data\n"
   ]
  },
  {
   "cell_type": "markdown",
   "metadata": {},
   "source": [
    "In this notebook, we'll be using the [Learning mindset dataset from Athey et al.](https://arxiv.org/pdf/1902.07409), which explores the impact of a growth mindset intervention on students' academic performance. The dataset includes information on various student characteristics, such as demographics and baseline academic performance, as well as details about the intervention and its outcomes. By analyzing this dataset, we aim to estimate the causal effect of the mindset intervention on students' subsequent grades. "
   ]
  },
  {
   "cell_type": "code",
   "execution_count": 59,
   "metadata": {},
   "outputs": [],
   "source": [
    "data = pd.read_csv(\"./learning_mindset.csv\")\n"
   ]
  },
  {
   "cell_type": "code",
   "execution_count": 60,
   "metadata": {},
   "outputs": [
    {
     "data": {
      "text/html": [
       "<div>\n",
       "<style scoped>\n",
       "    .dataframe tbody tr th:only-of-type {\n",
       "        vertical-align: middle;\n",
       "    }\n",
       "\n",
       "    .dataframe tbody tr th {\n",
       "        vertical-align: top;\n",
       "    }\n",
       "\n",
       "    .dataframe thead th {\n",
       "        text-align: right;\n",
       "    }\n",
       "</style>\n",
       "<table border=\"1\" class=\"dataframe\">\n",
       "  <thead>\n",
       "    <tr style=\"text-align: right;\">\n",
       "      <th></th>\n",
       "      <th>schoolid</th>\n",
       "      <th>intervention</th>\n",
       "      <th>achievement_score</th>\n",
       "      <th>success_expect</th>\n",
       "      <th>ethnicity</th>\n",
       "      <th>gender</th>\n",
       "      <th>frst_in_family</th>\n",
       "      <th>school_urbanicity</th>\n",
       "      <th>school_mindset</th>\n",
       "      <th>school_achievement</th>\n",
       "      <th>school_ethnic_minority</th>\n",
       "      <th>school_poverty</th>\n",
       "      <th>school_size</th>\n",
       "    </tr>\n",
       "  </thead>\n",
       "  <tbody>\n",
       "    <tr>\n",
       "      <th>0</th>\n",
       "      <td>76</td>\n",
       "      <td>1</td>\n",
       "      <td>0.277359</td>\n",
       "      <td>6</td>\n",
       "      <td>4</td>\n",
       "      <td>2</td>\n",
       "      <td>1</td>\n",
       "      <td>4</td>\n",
       "      <td>0.334544</td>\n",
       "      <td>0.648586</td>\n",
       "      <td>-1.310927</td>\n",
       "      <td>0.224077</td>\n",
       "      <td>-0.426757</td>\n",
       "    </tr>\n",
       "    <tr>\n",
       "      <th>1</th>\n",
       "      <td>76</td>\n",
       "      <td>1</td>\n",
       "      <td>-0.449646</td>\n",
       "      <td>4</td>\n",
       "      <td>12</td>\n",
       "      <td>2</td>\n",
       "      <td>1</td>\n",
       "      <td>4</td>\n",
       "      <td>0.334544</td>\n",
       "      <td>0.648586</td>\n",
       "      <td>-1.310927</td>\n",
       "      <td>0.224077</td>\n",
       "      <td>-0.426757</td>\n",
       "    </tr>\n",
       "    <tr>\n",
       "      <th>2</th>\n",
       "      <td>76</td>\n",
       "      <td>1</td>\n",
       "      <td>0.769703</td>\n",
       "      <td>6</td>\n",
       "      <td>4</td>\n",
       "      <td>2</td>\n",
       "      <td>0</td>\n",
       "      <td>4</td>\n",
       "      <td>0.334544</td>\n",
       "      <td>0.648586</td>\n",
       "      <td>-1.310927</td>\n",
       "      <td>0.224077</td>\n",
       "      <td>-0.426757</td>\n",
       "    </tr>\n",
       "    <tr>\n",
       "      <th>3</th>\n",
       "      <td>76</td>\n",
       "      <td>1</td>\n",
       "      <td>-0.121763</td>\n",
       "      <td>6</td>\n",
       "      <td>4</td>\n",
       "      <td>2</td>\n",
       "      <td>0</td>\n",
       "      <td>4</td>\n",
       "      <td>0.334544</td>\n",
       "      <td>0.648586</td>\n",
       "      <td>-1.310927</td>\n",
       "      <td>0.224077</td>\n",
       "      <td>-0.426757</td>\n",
       "    </tr>\n",
       "    <tr>\n",
       "      <th>4</th>\n",
       "      <td>76</td>\n",
       "      <td>1</td>\n",
       "      <td>1.526147</td>\n",
       "      <td>6</td>\n",
       "      <td>4</td>\n",
       "      <td>1</td>\n",
       "      <td>0</td>\n",
       "      <td>4</td>\n",
       "      <td>0.334544</td>\n",
       "      <td>0.648586</td>\n",
       "      <td>-1.310927</td>\n",
       "      <td>0.224077</td>\n",
       "      <td>-0.426757</td>\n",
       "    </tr>\n",
       "  </tbody>\n",
       "</table>\n",
       "</div>"
      ],
      "text/plain": [
       "   schoolid  intervention  achievement_score  success_expect  ethnicity  \\\n",
       "0        76             1           0.277359               6          4   \n",
       "1        76             1          -0.449646               4         12   \n",
       "2        76             1           0.769703               6          4   \n",
       "3        76             1          -0.121763               6          4   \n",
       "4        76             1           1.526147               6          4   \n",
       "\n",
       "   gender  frst_in_family  school_urbanicity  school_mindset  \\\n",
       "0       2               1                  4        0.334544   \n",
       "1       2               1                  4        0.334544   \n",
       "2       2               0                  4        0.334544   \n",
       "3       2               0                  4        0.334544   \n",
       "4       1               0                  4        0.334544   \n",
       "\n",
       "   school_achievement  school_ethnic_minority  school_poverty  school_size  \n",
       "0            0.648586               -1.310927        0.224077    -0.426757  \n",
       "1            0.648586               -1.310927        0.224077    -0.426757  \n",
       "2            0.648586               -1.310927        0.224077    -0.426757  \n",
       "3            0.648586               -1.310927        0.224077    -0.426757  \n",
       "4            0.648586               -1.310927        0.224077    -0.426757  "
      ]
     },
     "execution_count": 60,
     "metadata": {},
     "output_type": "execute_result"
    }
   ],
   "source": [
    "data.head()"
   ]
  },
  {
   "cell_type": "markdown",
   "metadata": {},
   "source": [
    "Here we cleanup unncessary columns from our dataset"
   ]
  },
  {
   "cell_type": "code",
   "execution_count": 61,
   "metadata": {},
   "outputs": [
    {
     "name": "stdout",
     "output_type": "stream",
     "text": [
      "(10391, 32)\n"
     ]
    }
   ],
   "source": [
    "categorical = [\"ethnicity\", \"gender\", \"school_urbanicity\"]\n",
    "continuous = [\"school_mindset\", \"school_achievement\", \"school_ethnic_minority\", \"school_poverty\", \"school_size\"]\n",
    "\n",
    "cleaned_data = pd.concat([\n",
    "    data.drop(columns=categorical),\n",
    "    pd.get_dummies(data[categorical], columns=categorical, drop_first=False) \n",
    "], axis=1)\n",
    "\n",
    "print(cleaned_data.shape)\n"
   ]
  },
  {
   "cell_type": "markdown",
   "metadata": {},
   "source": [
    "### 2. Create a causal graph"
   ]
  },
  {
   "cell_type": "markdown",
   "metadata": {},
   "source": [
    "Here, we define our assumptions in the form fo a causal gprah. This graph represents the relationships between the variables in our dataset and encodes our prior knowledge about the causal mechanisms at play."
   ]
  },
  {
   "cell_type": "code",
   "execution_count": 62,
   "metadata": {},
   "outputs": [],
   "source": [
    "causal_graph = \"\"\"\n",
    "    digraph causal_graph {\n",
    "    schoolid;\n",
    "    intervention;\n",
    "    achievement_score;\n",
    "    success_expect;\n",
    "    ethnicity;\n",
    "    gender;\n",
    "    frst_in_family;\n",
    "    school_urbanicity;\n",
    "    school_mindset;\n",
    "    school_achievement;\n",
    "    school_ethnic_minority;\n",
    "    school_poverty;\n",
    "    school_size;\n",
    "    intervention -> achievement_score;\n",
    "    intervention -> success_expect;\n",
    "    ethnicity -> achievement_score;\n",
    "    gender -> achievement_score;\n",
    "    frst_in_family -> achievement_score;\n",
    "    school_urbanicity -> achievement_score;\n",
    "    school_mindset -> achievement_score;\n",
    "    school_achievement -> achievement_score;\n",
    "    school_ethnic_minority -> achievement_score;\n",
    "    school_poverty -> achievement_score;\n",
    "    school_size -> achievement_score;\n",
    "    school_mindset -> school_achievement;\n",
    "}\"\"\""
   ]
  },
  {
   "cell_type": "code",
   "execution_count": 63,
   "metadata": {},
   "outputs": [
    {
     "data": {
      "image/png": "[encoded data removed]",
      "text/plain": [
       "<IPython.core.display.Image object>"
      ]
     },
     "metadata": {},
     "output_type": "display_data"
    }
   ],
   "source": [
    "model= dowhy.CausalModel(\n",
    "        data = cleaned_data,\n",
    "        graph=causal_graph.replace(\"\\n\", \" \"),\n",
    "        treatment=\"intervention\",\n",
    "        outcome=\"achievement_score\")\n",
    "\n",
    "model.view_model()\n",
    "\n",
    "from IPython.display import Image, display\n",
    "display(Image(filename=\"causal_model.png\"))"
   ]
  },
  {
   "cell_type": "markdown",
   "metadata": {},
   "source": [
    "### 2. Identify effect"
   ]
  },
  {
   "cell_type": "code",
   "execution_count": 64,
   "metadata": {},
   "outputs": [
    {
     "name": "stdout",
     "output_type": "stream",
     "text": [
      "Estimand type: nonparametric-ate\n",
      "\n",
      "### Estimand : 1\n",
      "Estimand name: backdoor\n",
      "Estimand expression:\n",
      "       d                             \n",
      "───────────────(E[achievement_score])\n",
      "d[intervention]                      \n",
      "Estimand assumption 1, Unconfoundedness: If U→{intervention} and U→achievement_score then P(achievement_score|intervention,,U) = P(achievement_score|intervention,)\n",
      "\n",
      "### Estimand : 2\n",
      "Estimand name: iv\n",
      "No such variable(s) found!\n",
      "\n",
      "### Estimand : 3\n",
      "Estimand name: frontdoor\n",
      "No such variable(s) found!\n",
      "\n"
     ]
    }
   ],
   "source": [
    "identified_estimand = model.identify_effect(proceed_when_unidentifiable=True)\n",
    "print(identified_estimand)"
   ]
  },
  {
   "cell_type": "markdown",
   "metadata": {},
   "source": [
    "### 3. Estimate the identified estimand with the doubly robust estimator"
   ]
  },
  {
   "cell_type": "code",
   "execution_count": 65,
   "metadata": {},
   "outputs": [
    {
     "ename": "IndexError",
     "evalue": "list index out of range",
     "output_type": "error",
     "traceback": [
      "\u001b[0;31m---------------------------------------------------------------------------\u001b[0m",
      "\u001b[0;31mIndexError\u001b[0m                                Traceback (most recent call last)",
      "Cell \u001b[0;32mIn[65], line 1\u001b[0m\n\u001b[0;32m----> 1\u001b[0m estimate \u001b[38;5;241m=\u001b[39m \u001b[43mmodel\u001b[49m\u001b[38;5;241;43m.\u001b[39;49m\u001b[43mestimate_effect\u001b[49m\u001b[43m(\u001b[49m\u001b[43midentified_estimand\u001b[49m\u001b[43m,\u001b[49m\u001b[43m \u001b[49m\n\u001b[1;32m      2\u001b[0m \u001b[43m                                 \u001b[49m\u001b[43mmethod_name\u001b[49m\u001b[38;5;241;43m=\u001b[39;49m\u001b[38;5;124;43m\"\u001b[39;49m\u001b[38;5;124;43mdoubly_robust_estimator\u001b[39;49m\u001b[38;5;124;43m\"\u001b[39;49m\u001b[43m)\u001b[49m\n",
      "File \u001b[0;32m/opt/homebrew/anaconda3/envs/dowhy/lib/python3.11/site-packages/dowhy/causal_model.py:257\u001b[0m, in \u001b[0;36mCausalModel.estimate_effect\u001b[0;34m(self, identified_estimand, method_name, control_value, treatment_value, test_significance, evaluate_effect_strength, confidence_intervals, target_units, effect_modifiers, fit_estimator, method_params)\u001b[0m\n\u001b[1;32m    255\u001b[0m str_arr \u001b[38;5;241m=\u001b[39m method_name\u001b[38;5;241m.\u001b[39msplit(\u001b[38;5;124m\"\u001b[39m\u001b[38;5;124m.\u001b[39m\u001b[38;5;124m\"\u001b[39m, maxsplit\u001b[38;5;241m=\u001b[39m\u001b[38;5;241m1\u001b[39m)\n\u001b[1;32m    256\u001b[0m identifier_name \u001b[38;5;241m=\u001b[39m str_arr[\u001b[38;5;241m0\u001b[39m]\n\u001b[0;32m--> 257\u001b[0m estimator_name \u001b[38;5;241m=\u001b[39m \u001b[43mstr_arr\u001b[49m\u001b[43m[\u001b[49m\u001b[38;5;241;43m1\u001b[39;49m\u001b[43m]\u001b[49m\n\u001b[1;32m    258\u001b[0m identified_estimand\u001b[38;5;241m.\u001b[39mset_identifier_method(identifier_name)\n\u001b[1;32m    259\u001b[0m \u001b[38;5;66;03m# This is done as all dowhy estimators have two parts and external ones have two or more parts\u001b[39;00m\n",
      "\u001b[0;31mIndexError\u001b[0m: list index out of range"
     ]
    }
   ],
   "source": [
    "estimate = model.estimate_effect(identified_estimand, \n",
    "                                 method_name=\"doubly_robust_estimator\")"
   ]
  },
  {
   "cell_type": "markdown",
   "metadata": {},
   "source": [
    "### 4. Refute results"
   ]
  },
  {
   "cell_type": "markdown",
   "metadata": {},
   "source": [
    "TODO: Write description on refuting results from doubly robust estimator"
   ]
  },
  {
   "cell_type": "code",
   "execution_count": null,
   "metadata": {},
   "outputs": [
    {
     "ename": "NameError",
     "evalue": "name 'estimate' is not defined",
     "output_type": "error",
     "traceback": [
      "\u001b[0;31m---------------------------------------------------------------------------\u001b[0m",
      "\u001b[0;31mNameError\u001b[0m                                 Traceback (most recent call last)",
      "Cell \u001b[0;32mIn[29], line 1\u001b[0m\n\u001b[0;32m----> 1\u001b[0m refute1_results\u001b[38;5;241m=\u001b[39mmodel\u001b[38;5;241m.\u001b[39mrefute_estimate(identified_estimand, \u001b[43mestimate\u001b[49m,\n\u001b[1;32m      2\u001b[0m         method_name\u001b[38;5;241m=\u001b[39m\u001b[38;5;124m\"\u001b[39m\u001b[38;5;124mrandom_common_cause\u001b[39m\u001b[38;5;124m\"\u001b[39m)\n\u001b[1;32m      3\u001b[0m \u001b[38;5;28mprint\u001b[39m(refute1_results)\n",
      "\u001b[0;31mNameError\u001b[0m: name 'estimate' is not defined"
     ]
    }
   ],
   "source": [
    "refute1_results=model.refute_estimate(identified_estimand, estimate,\n",
    "        method_name=\"random_common_cause\")\n",
    "print(refute1_results)"
   ]
  }
 ],
 "metadata": {
  "kernelspec": {
   "display_name": "dowhy",
   "language": "python",
   "name": "python3"
  },
  "language_info": {
   "codemirror_mode": {
    "name": "ipython",
    "version": 3
   },
   "file_extension": ".py",
   "mimetype": "text/x-python",
   "name": "python",
   "nbconvert_exporter": "python",
   "pygments_lexer": "ipython3",
   "version": "3.11.8"
  }
 },
 "nbformat": 4,
 "nbformat_minor": 2
}
