{
 "cells": [
  {
   "cell_type": "markdown",
   "metadata": {},
   "source": [
    "## Ranking of estimation methods for a given dataset "
   ]
  },
  {
   "cell_type": "markdown",
   "metadata": {},
   "source": [
    "We illustrate the comparison of various estimation methods for a given datasets by ranking them according to their performance against refutation tests accounting for both the observed unmodelled confounding error and unobserved confounding error. "
   ]
  },
  {
   "cell_type": "code",
   "execution_count": 1,
   "metadata": {},
   "outputs": [],
   "source": [
    "# Importing all the required libraries\n",
    "import sys\n",
    "import argparse\n",
    "import xgboost\n",
    "import numpy as np\n",
    "import pandas as pd\n",
    "import os\n",
    "import pdb\n",
    "import random\n",
    "from xgboost import XGBRegressor\n",
    "from sklearn.preprocessing import PolynomialFeatures\n",
    "from sklearn.linear_model import LassoCV\n",
    "from sklearn.ensemble import RandomForestRegressor, RandomForestClassifier, GradientBoostingRegressor\n",
    "from sklearn.linear_model import LogisticRegressionCV\n",
    "from sklearn.metrics import mean_absolute_error\n",
    "from dowhy import CausalModel\n",
    "from datetime import datetime\n",
    "from collections import namedtuple\n",
    "\n",
    "import statsmodels.api as sm\n",
    "from sklearn import linear_model\n",
    "\n",
    "import dowhy\n",
    "from dowhy.utils import dgp\n",
    "from dowhy.utils.dgps.linear_dgp import LinearDataGeneratingProcess\n",
    "from dowhy import CausalModel\n",
    "from datetime import datetime\n",
    "from collections import namedtuple\n",
    "from dowhy.causal_refuters.add_unobserved_common_cause import AddUnobservedCommonCause\n",
    "\n",
    "import matplotlib.pyplot as plt\n",
    "import matplotlib.lines as mlines\n",
    "import matplotlib.transforms as mtransforms\n"
   ]
  },
  {
   "cell_type": "code",
   "execution_count": 2,
   "metadata": {},
   "outputs": [],
   "source": [
    "def convert_singleton_to_float(arr):\n",
    "    '''Helper function.'''\n",
    "    array = []\n",
    "\n",
    "    if len(arr) == 1 and type(arr[0]) != np.ndarray:\n",
    "        return arr[0]\n",
    "\n",
    "    for element in arr:\n",
    "        while type(element) == np.ndarray or isinstance(element, list) :\n",
    "            if len(element) > 1:\n",
    "                raise ValueError(\"This script only accepts one value for the refute\")\n",
    "            element = element[0]\n",
    "        array.append(element)\n",
    "\n",
    "    return array"
   ]
  },
  {
   "cell_type": "code",
   "execution_count": 3,
   "metadata": {},
   "outputs": [],
   "source": [
    "def ensure_dir(file_path):\n",
    "    directory = os.path.dirname(file_path)\n",
    "    if not os.path.exists(directory):\n",
    "        os.makedirs(directory)\n",
    "\n",
    "RESULTSFOLDER = \"results/\"\n",
    "ensure_dir(RESULTSFOLDER)\n",
    "# Create the estimator named tuple to wrap the name and properties\n",
    "Estimator = namedtuple('Estimator', ['name','params'])\n",
    "Refuter = namedtuple('Refuter', ['name','params'])\n",
    "\n",
    "class Experiment():\n",
    "    '''\n",
    "    Class to define the experiment setup to compare a list of estimators across a list of refuters for the given dataset. \n",
    "    '''\n",
    "    def __init__(self, **kwargs):\n",
    "        self.experiment_name = kwargs['experiment_name']\n",
    "        self.experiment_id = kwargs['experiment_id']\n",
    "        self.num_experiments = kwargs['num_experiments']\n",
    "        self.sample_sizes = kwargs['sample_sizes']\n",
    "        self.dgps = kwargs['dgps']\n",
    "        self.estimators = kwargs['estimators']\n",
    "        self.refuters = kwargs['refuters']\n",
    "        self.results = []\n",
    "        self.simulate_unobserved_confounding = kwargs[\"simulate_unobserved_confounding\"]\n",
    "\n",
    "        # Handle input errors in sample_sizes\n",
    "        if isinstance(self.sample_sizes, list) == False:\n",
    "            if type(self.sample_sizes) != int:\n",
    "                raise ValueError('The input to \"sample_sizes\" should be an int or a list')\n",
    "            else:\n",
    "                self.sample_sizes = [self.sample_sizes]\n",
    "\n",
    "        # Handle input errors in DGPs\n",
    "        if isinstance(self.dgps, list) == False:\n",
    "            if isinstance(self.dgps, DataGeneratingProcess) == False:\n",
    "                raise ValueError('The input to \"dgps\" should be a list or a subclass of \"DataGeneratingProcess\"')\n",
    "            else:\n",
    "                self.dgps = [self.dgps]\n",
    "\n",
    "        # Handle inputs errors in estimators\n",
    "        if isinstance(self.estimators, list) == False:\n",
    "            if isinstance(self.estimators, Estimator) == False:\n",
    "                raise ValueError('The input to \"estimators\" should be a list or an Estimator namedtuple')\n",
    "            else:\n",
    "                self.estimators = [self.estimators]\n",
    "\n",
    "        # Handle input errors in refuters\n",
    "        if isinstance(self.refuters, list) == False:\n",
    "            if isinstance(self.refuters, Refuter) == False:\n",
    "                raise ValueError('The input to \"refuters\" should be a list of a Refuter namedtuple')\n",
    "            else:\n",
    "                self.refuters = [self.refuters]\n",
    "\n",
    "    def experiment(self):\n",
    "        print(\"\\n\\nRunning Experiment:\",self.experiment_name + '_' + str(self.experiment_id) )\n",
    "\n",
    "        for exp in range(self.num_experiments):\n",
    "            print(\"\\n\\nRunning Experiment Number:\",exp)\n",
    "\n",
    "            for sample_size in self.sample_sizes:\n",
    "\n",
    "                print(\"\\n\\nCurrent Sample Size:\",sample_size)\n",
    "\n",
    "                for dgp in self.dgps:\n",
    "                    print(\"\\n\\nThe current DGP:\")\n",
    "                    print(dgp)\n",
    "                    estimates = []\n",
    "                    estimate_values = []\n",
    "                    estimated_effect = []\n",
    "                    new_effect = []\n",
    "                    p_value = []\n",
    "                    data = dgp.generate_data(sample_size)\n",
    "                    print(\"printing data shape\")\n",
    "                    print(data.values.shape)\n",
    "                    print(dgp.true_value)\n",
    "                    print(\"check\")\n",
    "                    if dgp.treatment_is_binary:\n",
    "                        data[dgp.treatment] = data[dgp.treatment].astype(bool)\n",
    "                    #k = len(dgp.confounder)-4\n",
    "                    #confounder_list = random.sample(dgp.confounder, k)\n",
    "                    confounder_list = ['w2','w3']\n",
    "\n",
    "                    \n",
    "                    s = set(confounder_list)\n",
    "                    unobserved_confounders = [x for x in dgp.confounder if x not in s]\n",
    "                    df_unobserved_confounders = pd.DataFrame(data = data[[c for c in data.columns if c in unobserved_confounders]])\n",
    "\n",
    "                    df_unobserved_confounders.to_csv(\"results/unobserved_confounders.csv\")\n",
    "                    print(\"printing length of confounder list:\", len(confounder_list))\n",
    "                    print(\"printing confounder list:\", confounder_list)\n",
    "\n",
    "                    \n",
    "\n",
    "                    print(\"data columns\")\n",
    "                    \n",
    "                    print(\"data columns\", data.columns)\n",
    "                    model = CausalModel(\n",
    "                        data = data,\n",
    "                        treatment = dgp.treatment,\n",
    "                        outcome = dgp.outcome,\n",
    "                        common_causes = confounder_list,\n",
    "                        effect_modifiers = dgp.effect_modifier\n",
    "                    )\n",
    "\n",
    "                    identified_estimand = model.identify_effect(proceed_when_unidentifiable=True)\n",
    "                    \n",
    "                    print(\"identified_estimand:\", identified_estimand)\n",
    "                    #print(\"identified_estimand:\", identified_estimand)\n",
    "                    print(\"\\n\\nRunning the estimators:\\n\")\n",
    "                    for estimator in self.estimators:\n",
    "                        print(\"The current estimator:\", estimator)\n",
    "                        print(\"estimator.params\", estimator.params)\n",
    "                        estimate = model.estimate_effect(\n",
    "                            identified_estimand,\n",
    "                            method_name = estimator.name,\n",
    "                            method_params = estimator.params\n",
    "                        )\n",
    "                        print(\"printing estimate's type\")\n",
    "                        print(type(estimate))\n",
    "                        estimates.append(estimate)\n",
    "                        estimate_values.append(estimate.value)\n",
    "                    estimate_values = convert_singleton_to_float(estimate_values)\n",
    "                    print(\"estimate_values\", estimate_values)\n",
    "                    print(\"\\n\\nRunning the refuters:\\n\")\n",
    "                    for refuter in self.refuters:\n",
    "                        print(\"The current refuter:\", refuter)\n",
    "                        \n",
    "                        for estimate in estimates:\n",
    "                            if self.simulate_unobserved_confounding == True:\n",
    "                                print(\"********%%%%%%%%%$$$$$&&^**^^^^*^*^*\")\n",
    "                                if refuter.name == 'dummy_outcome_refuter':\n",
    "                                    add_unobserved_confounder = AddUnobservedCommonCause(data, identified_estimand, estimate)\n",
    "                                    print(\"add_unobserved_confounder\", add_unobserved_confounder)\n",
    "                                    unobserved_confounder_values = add_unobserved_confounder.include_simulated_confounder(convergence_threshold = 0.11, c_star_max = 1500)\n",
    "                                    refuter.params['unobserved_confounder_values'] = unobserved_confounder_values\n",
    "                                    print('refuter.params', refuter.params)\n",
    "                            refute = model.refute_estimate(\n",
    "                                identified_estimand,\n",
    "                                estimate,\n",
    "                                method_name = refuter.name,\n",
    "                                **refuter.params,\n",
    "    \n",
    "                                \n",
    "\n",
    "                            )\n",
    "                            print(\"printing refute's type\")\n",
    "                            print(type(refute))\n",
    "                            if(refuter.name == 'dummy_outcome_refuter'):\n",
    "                                refute = refute[0]\n",
    "                            if refute.refutation_result is not None:\n",
    "                                p_value.append(refute.refutation_result['p_value'])\n",
    "                            else:\n",
    "                                p_value.append(None) \n",
    "\n",
    "                            estimated_effect.append(refute.estimated_effect)\n",
    "                            #print(\"refute.estimate_effect()\", refute.estimate_effect())\n",
    "                            new_effect.append(refute.new_effect)\n",
    "\n",
    "                    estimated_effect = convert_singleton_to_float(estimated_effect)\n",
    "                    new_effect = convert_singleton_to_float(new_effect)\n",
    "                    p_value = convert_singleton_to_float(p_value)\n",
    "                    true_value = convert_singleton_to_float(dgp.true_value)\n",
    "                    \n",
    "                    print(\"estimated effect\", estimated_effect)\n",
    "                    print(\"new_effect\", new_effect)\n",
    "                    print(\"p_value\", p_value)\n",
    "                    print(\"true value\", true_value)\n",
    "                    self.results.append([exp, sample_size, dgp.NAME, *estimate_values, *estimated_effect, *new_effect, *p_value, true_value])\n",
    "\n",
    "\n",
    "        print(\"\\n\\nCompleted all experiments. Saving the data...\")\n",
    "\n",
    "        COLUMNS = ['EXPERIMENT', 'SAMPLE_SIZE', 'DGP']\n",
    "        RESULT_CATEGORIES = ['ESTIMATED_EFFECT', 'NEW_EFFECT', 'P_VALUE']\n",
    "        estimator_names = [estimator.name for estimator in self.estimators]\n",
    "        refuter_names = [refuter.name for refuter in self.refuters]\n",
    "\n",
    "        for estimator_name in estimator_names:\n",
    "            COLUMNS += ['ORIGINAL_ESTIMATE'+ ':' + estimator_name]\n",
    "\n",
    "        for result_category in RESULT_CATEGORIES:\n",
    "            for refuter_name in refuter_names:\n",
    "                for estimator_name in estimator_names:\n",
    "                    COLUMNS += [refuter_name + ':' + estimator_name + ':' + result_category]\n",
    "\n",
    "        COLUMNS += ['TRUE_VALUE']\n",
    "\n",
    "        csv_file = RESULTSFOLDER + self.experiment_name+ '_' + str(self.experiment_id) + '_' + str(datetime.utcnow().date()) + '_data.csv'\n",
    "        onlyres_csv_file = RESULTSFOLDER + \"onlyres_\"+ self.experiment_name+ '_' + str(self.experiment_id) + '_' + str(datetime.utcnow()) + '_data.csv'\n",
    "        self.results = pd.DataFrame(data=self.results,columns=COLUMNS)\n",
    "        self.results.to_csv(csv_file.replace(\" \", \"\"), index=False)\n",
    "\n",
    "        print(\"Data has been saved in \",csv_file)\n",
    "\n",
    "        return csv_file"
   ]
  },
  {
   "cell_type": "code",
   "execution_count": 4,
   "metadata": {},
   "outputs": [],
   "source": [
    "#Defining the Data Generating Process \n",
    "ldgp = LinearDataGeneratingProcess(treatment=['t1'], outcome=['y'], confounder=['w1','w2', 'w3','w4','w5','w6'], effect_modifier=['x1','x2'], seed=None, treatment_is_binary=True)\n",
    "\n",
    "#Defining the sample size \n",
    "sample_size = 1000\n",
    "\n",
    "dgp_dict = {'ldgp':ldgp}\n",
    "dgp_list = []\n",
    "dgp_list.append( dgp_dict['ldgp'] )\n",
    "\n",
    "\n",
    "# Create a namedtuple to store the name of the estimator and the parameters passed\n",
    "estimator_list = [\"backdoor.linear_regression\",\n",
    "                  #\"backdoor.propensity_score_stratification\",\n",
    "                  \"backdoor.propensity_score_matching\",\n",
    "                  \"backdoor.propensity_score_weighting\",\n",
    "                  \"backdoor.econml.dml.DML\",\n",
    "                  \"backdoor.econml.drlearner.LinearDRLearner\",\n",
    "                  #\"backdoor.econml.metalearners.TLearner\",\n",
    "                  #\"backdoor.econml.metalearners.XLearner\",\n",
    "                  #\"backdoor.causalml.inference.meta.LRSRegressor\",\n",
    "                  #\"backdoor.causalml.inference.meta.XGBTRegressor\",\n",
    "                  #\"backdoor.causalml.inference.meta.MLPTRegressor\",\n",
    "                  #\"backdoor.causalml.inference.meta.BaseXRegressor\"\n",
    "                ]\n",
    "method_params= [    None,\n",
    "                    #None,\n",
    "                    { \"init_params\":{} },\n",
    "                    { \"init_params\":{} },\n",
    "                    {\"init_params\":{'model_y':GradientBoostingRegressor(),\n",
    "                                    'model_t': GradientBoostingRegressor(),\n",
    "                                    \"model_final\":LassoCV(),\n",
    "                                    'featurizer':PolynomialFeatures(degree=1, include_bias=True)},\n",
    "                     \"fit_params\":{}},\n",
    "                    {\"init_params\":{ 'model_propensity': LogisticRegressionCV(cv=3, solver='lbfgs', multi_class='auto'),\n",
    "                        },\n",
    "                    \"fit_params\":{}\n",
    "                    },\n",
    "                    '''{\"init_params\": {'models': GradientBoostingRegressor(n_estimators=100, max_depth=6, min_samples_leaf=int(sample_size/100))\n",
    "                                    },\n",
    "                    \"fit_params\":{}\n",
    "                    },\n",
    "                    {\"init_params\":{'models': GradientBoostingRegressor(n_estimators=100, max_depth=6, min_samples_leaf=int(sample_size/100)),\n",
    "                        'propensity_model': RandomForestClassifier(n_estimators=100, max_depth=6,\n",
    "                                                                              min_samples_leaf=int(sample_size/100))\n",
    "                        },\n",
    "                     \"fit_params\":{}\n",
    "                    },\n",
    "                    {\"init_params\":{},},\n",
    "                    {\"init_params\":{\n",
    "                        'learner':XGBRegressor()\n",
    "                        }\n",
    "                    }'''\n",
    "                ]\n",
    "estimator_tuples = []\n",
    "refuter_tuples = []\n",
    "\n",
    "refuter_list = ['dummy_outcome_refuter']\n",
    "refuter_params = [{'num_simulations':5,'transformation_list': [('random_forest',{'n_estimators':100, 'max_depth':6})], 'true_causal_effect':(lambda x:0.5)}]\n",
    "\n",
    "\n",
    "# Iterate through the names and parameters to create a list of namedtuples\n",
    "for name, param in zip(estimator_list,method_params):\n",
    "    estimator_tuples.append(Estimator._make([name, param]))\n",
    "    \n",
    "for name, param in zip(refuter_list, refuter_params):\n",
    "    refuter_tuples.append(Refuter._make([name, param]))\n"
   ]
  },
  {
   "cell_type": "code",
   "execution_count": 5,
   "metadata": {},
   "outputs": [],
   "source": [
    "def plot_MAEs(res):\n",
    "    true_value_column = res.columns[-1]\n",
    "    estimate_columns=res.columns[3:-1]\n",
    "    #print(estimate_columns)\n",
    "    #print(type(estimate_columns))\n",
    "    estimate_columns.append(pd.Index(res[\"TRUE_VALUE\"]))\n",
    "    #print(estimate_columns)\n",
    "    fig, ax = plt.subplots()\n",
    "    MAE ={}\n",
    "    for colname in estimate_columns:\n",
    "        if colname not in ('ORIGINAL_ESTIMATE:backdoor.propensity_score_weighting',):\n",
    "                           #'ORIGINAL_ESTIMATE:backdoor.econml.metalearners.TLearner'):\n",
    "            plt.plot(res[colname], res[\"TRUE_VALUE\"], marker='o', linestyle=\"None\", label=colname)\n",
    "            \"Mean Absolute Error (MAE): {}\".format(mean_absolute_error(res[colname], res[\"TRUE_VALUE\"]))\n",
    "            MAE[colname] = mean_absolute_error(res[colname], res[\"TRUE_VALUE\"])\n",
    "    fig.suptitle('Calibration plot showing the accuracy of different causal estimators [P(T=1)=0.9]')\n",
    "    ax.set_xlabel('Estimated effect')\n",
    "    ax.set_ylabel('True causal effect')\n",
    "    plt.legend(loc='upper center', bbox_to_anchor=(0.5, -0.20),\n",
    "              fancybox=True, shadow=True, ncol=2)\n",
    "    plt.show()\n",
    "    print(\"Printing MAE of various estimates: \")\n",
    "    MAE_values = {k: v for k, v in sorted(MAE.items(), key=lambda item: item[1], reverse = True)}\n",
    "    for k,v in MAE_values.items():\n",
    "        print(k, v)"
   ]
  },
  {
   "cell_type": "code",
   "execution_count": 6,
   "metadata": {},
   "outputs": [],
   "source": [
    "def plot_estimators_and_refuters(refuter, estimator):   \n",
    "    x = list(res['EXPERIMENT'])\n",
    "    y1 = list(res[refuter+':'+estimator+':ESTIMATED_EFFECT'])\n",
    "    y2 = list(res[refuter+':'+estimator+':NEW_EFFECT'])\n",
    "    #print(res['TRUE_VALUE'])\n",
    "    y3 = list(res['TRUE_VALUE'])\n",
    "    y4 = list(res[refuter+':'+estimator+':P_VALUE'])\n",
    "    plt.scatter(x, y1, c =\"blue\", label = \"Estimated Effect\") \n",
    "    plt.scatter(x, y2, c =\"red\", label = \"New Effect\")\n",
    "    plt.scatter(x, y3, c =\"green\", label = \"True Value\")\n",
    "    plt.scatter(x, y4, c =\"yellow\", label = \"P Value\")\n",
    "    plt.xlabel(\"EXPERIMENT\") \n",
    "    plt.ylabel(\"EFFECT\")\n",
    "    legend = plt.legend(loc=4, fontsize='small', fancybox=True)\n",
    "    plt.title(estimator) \n",
    "    plt.show()\n",
    "    plt.savefig(estimator+'.png')"
   ]
  },
  {
   "cell_type": "code",
   "execution_count": 7,
   "metadata": {},
   "outputs": [],
   "source": [
    "def plot_deviations(estimator_list, deviation_list):\n",
    "    plt.scatter(estimator_list, deviation_list)\n",
    "    plt.xticks(estimator_list, estimator_list, rotation='vertical')\n",
    "    plt.show()"
   ]
  },
  {
   "cell_type": "markdown",
   "metadata": {},
   "source": [
    "## Observed unmodelled confounding error"
   ]
  },
  {
   "cell_type": "markdown",
   "metadata": {},
   "source": [
    "For each estimator, we use dummy outcome refuter to check the observed unmodelled confounding error for each estimator. That is, we run the refutation test for each estimator only on the observed confounders and analyse what amount of confounding error is present unmodelled amongst the observed variables."
   ]
  },
  {
   "cell_type": "code",
   "execution_count": 8,
   "metadata": {
    "scrolled": true
   },
   "outputs": [
    {
     "name": "stderr",
     "output_type": "stream",
     "text": [
      "WARNING:dowhy.causal_model:Causal Graph not provided. DoWhy will construct a graph based on data inputs.\n",
      "INFO:dowhy.causal_graph:If this is observed data (not from a randomized experiment), there might always be missing confounders. Adding a node named \"Unobserved Confounders\" to reflect this.\n",
      "INFO:dowhy.causal_model:Model to find the causal effect of treatment ['t1'] on outcome ['y']\n",
      "WARNING:dowhy.causal_identifier:If this is observed data (not from a randomized experiment), there might always be missing confounders. Causal effect cannot be identified perfectly.\n",
      "INFO:dowhy.causal_identifier:Continuing by ignoring these unobserved confounders because proceed_when_unidentifiable flag is True.\n",
      "INFO:dowhy.causal_identifier:Instrumental variables for treatment and outcome:[]\n",
      "INFO:dowhy.causal_identifier:Frontdoor variables for treatment and outcome:[]\n"
     ]
    },
    {
     "name": "stdout",
     "output_type": "stream",
     "text": [
      "\n",
      "\n",
      "Running Experiment: Test_1\n",
      "\n",
      "\n",
      "Running Experiment Number: 0\n",
      "\n",
      "\n",
      "Current Sample Size: 1000\n",
      "\n",
      "\n",
      "The current DGP:\n",
      "\n",
      "        Linear Data Generating Process\n",
      "        -------------------------------\n",
      "        \n",
      "        treatment:['t1']\n",
      "        outcome:['y']\n",
      "        confounder: ['w1', 'w2', 'w3', 'w4', 'w5', 'w6']\n",
      "        effect_modifier: ['x1', 'x2']\n",
      "        weights: {}\n",
      "        bias: {}\n",
      "        seed: None\n",
      "        treatment_is_binary: True\n",
      "        percentile: 0.9\n",
      "        \n",
      "printing data shape\n",
      "(1000, 10)\n",
      "[0.14357732]\n",
      "check\n",
      "printing length of confounder list: 2\n",
      "printing confounder list: ['w2', 'w3']\n",
      "data columns\n",
      "data columns Index(['x1', 'x2', 'w1', 'w2', 'w3', 'w4', 'w5', 'w6', 't1', 'y'], dtype='object')\n",
      "identified_estimand: Estimand type: nonparametric-ate\n",
      "\n",
      "### Estimand : 1\n",
      "Estimand name: backdoor1 (Default)\n",
      "Estimand expression:\n",
      "  d                        \n",
      "─────(Expectation(y|w3,w2))\n",
      "d[t₁]                      \n",
      "Estimand assumption 1, Unconfoundedness: If U→{t1} and U→y then P(y|t1,w3,w2,U) = P(y|t1,w3,w2)\n",
      "\n",
      "### Estimand : 2\n",
      "Estimand name: iv\n",
      "No such variable found!\n",
      "\n",
      "### Estimand : 3\n",
      "Estimand name: frontdoor\n",
      "No such variable found!\n",
      "\n",
      "\n",
      "\n",
      "Running the estimators:\n",
      "\n",
      "The current estimator: Estimator(name='backdoor.linear_regression', params=None)\n",
      "estimator.params None\n"
     ]
    },
    {
     "name": "stderr",
     "output_type": "stream",
     "text": [
      "INFO:dowhy.causal_estimator:b: y~t1+w3+w2+t1*x1+t1*x2\n",
      "INFO:dowhy.causal_estimator:INFO: Using Linear Regression Estimator\n",
      "INFO:dowhy.causal_estimator:INFO: Using Propensity Score Matching Estimator\n",
      "INFO:dowhy.causal_estimator:b: y~t1+w3+w2\n"
     ]
    },
    {
     "name": "stdout",
     "output_type": "stream",
     "text": [
      "printing estimate's type\n",
      "<class 'dowhy.causal_estimator.CausalEstimate'>\n",
      "The current estimator: Estimator(name='backdoor.propensity_score_matching', params={'init_params': {}})\n",
      "estimator.params {'init_params': {}}\n"
     ]
    },
    {
     "name": "stderr",
     "output_type": "stream",
     "text": [
      "INFO:dowhy.causal_estimator:INFO: Using Propensity Score Weighting Estimator\n",
      "INFO:dowhy.causal_estimator:b: y~t1+w3+w2\n",
      "INFO:numexpr.utils:NumExpr defaulting to 8 threads.\n"
     ]
    },
    {
     "name": "stdout",
     "output_type": "stream",
     "text": [
      "printing estimate's type\n",
      "<class 'dowhy.causal_estimator.CausalEstimate'>\n",
      "The current estimator: Estimator(name='backdoor.propensity_score_weighting', params={'init_params': {}})\n",
      "estimator.params {'init_params': {}}\n",
      "printing estimate's type\n",
      "<class 'dowhy.causal_estimator.CausalEstimate'>\n",
      "The current estimator: Estimator(name='backdoor.econml.dml.DML', params={'init_params': {'model_y': GradientBoostingRegressor(), 'model_t': GradientBoostingRegressor(), 'model_final': LassoCV(), 'featurizer': PolynomialFeatures(degree=1)}, 'fit_params': {}})\n",
      "estimator.params {'init_params': {'model_y': GradientBoostingRegressor(), 'model_t': GradientBoostingRegressor(), 'model_final': LassoCV(), 'featurizer': PolynomialFeatures(degree=1)}, 'fit_params': {}}\n"
     ]
    },
    {
     "name": "stderr",
     "output_type": "stream",
     "text": [
      "INFO:dowhy.causal_estimator:INFO: Using EconML Estimator\n",
      "WARNING:dowhy.causal_estimator:Effect modifiers are not a subset of common causes. For efficiency in estimation, EconML will consider all effect modifiers as common causes too.\n",
      "INFO:dowhy.causal_estimator:b: y~t1+w3+w2+x1+x2 | x1,x2\n",
      "INFO:dowhy.causal_estimator:INFO: Using EconML Estimator\n",
      "WARNING:dowhy.causal_estimator:Effect modifiers are not a subset of common causes. For efficiency in estimation, EconML will consider all effect modifiers as common causes too.\n",
      "INFO:dowhy.causal_estimator:b: y~t1+w3+w2+x1+x2 | x1,x2\n"
     ]
    },
    {
     "name": "stdout",
     "output_type": "stream",
     "text": [
      "printing estimate's type\n",
      "<class 'dowhy.causal_estimator.CausalEstimate'>\n",
      "The current estimator: Estimator(name='backdoor.econml.drlearner.LinearDRLearner', params={'init_params': {'model_propensity': LogisticRegressionCV(cv=3)}, 'fit_params': {}})\n",
      "estimator.params {'init_params': {'model_propensity': LogisticRegressionCV(cv=3)}, 'fit_params': {}}\n"
     ]
    },
    {
     "name": "stderr",
     "output_type": "stream",
     "text": [
      "INFO:dowhy.causal_refuter:All variables required: Running bootstrap adding noise to confounders, instrumental variables and effect modifiers.\n",
      "INFO:dowhy.causal_refuters.dummy_outcome_refuter:Refutation over 5 simulated datasets\n",
      "INFO:dowhy.causal_refuters.dummy_outcome_refuter:The transformation passed: [('random_forest', {'n_estimators': 100, 'max_depth': 6})]\n"
     ]
    },
    {
     "name": "stdout",
     "output_type": "stream",
     "text": [
      "printing estimate's type\n",
      "<class 'dowhy.causal_estimator.CausalEstimate'>\n",
      "estimate_values [59.281507967308805, 62.418708593442695, 59.41598709654056, 45.67013170357128, 60.984396846818875]\n",
      "\n",
      "\n",
      "Running the refuters:\n",
      "\n",
      "The current refuter: Refuter(name='dummy_outcome_refuter', params={'num_simulations': 5, 'transformation_list': [('random_forest', {'n_estimators': 100, 'max_depth': 6})], 'true_causal_effect': <function <lambda> at 0x0000022829325828>})\n"
     ]
    },
    {
     "name": "stderr",
     "output_type": "stream",
     "text": [
      "INFO:dowhy.causal_estimator:b: dummy_outcome~t1+w3+w2+t1*x1+t1*x2\n",
      "INFO:dowhy.causal_estimator:INFO: Using Linear Regression Estimator\n",
      "INFO:dowhy.causal_estimator:b: dummy_outcome~t1+w3+w2+t1*x1+t1*x2\n",
      "INFO:dowhy.causal_estimator:INFO: Using Linear Regression Estimator\n",
      "INFO:dowhy.causal_estimator:b: dummy_outcome~t1+w3+w2+t1*x1+t1*x2\n",
      "INFO:dowhy.causal_estimator:INFO: Using Linear Regression Estimator\n",
      "INFO:dowhy.causal_estimator:b: dummy_outcome~t1+w3+w2+t1*x1+t1*x2\n",
      "INFO:dowhy.causal_estimator:INFO: Using Linear Regression Estimator\n",
      "INFO:dowhy.causal_estimator:b: dummy_outcome~t1+w3+w2+t1*x1+t1*x2\n",
      "INFO:dowhy.causal_estimator:INFO: Using Linear Regression Estimator\n",
      "INFO:dowhy.causal_estimator:b: dummy_outcome~t1+w3+w2+t1*x1+t1*x2\n",
      "INFO:dowhy.causal_estimator:INFO: Using Linear Regression Estimator\n",
      "INFO:dowhy.causal_estimator:b: dummy_outcome~t1+w3+w2+t1*x1+t1*x2\n",
      "INFO:dowhy.causal_estimator:INFO: Using Linear Regression Estimator\n",
      "INFO:dowhy.causal_estimator:b: dummy_outcome~t1+w3+w2+t1*x1+t1*x2\n",
      "INFO:dowhy.causal_estimator:INFO: Using Linear Regression Estimator\n",
      "INFO:dowhy.causal_estimator:b: dummy_outcome~t1+w3+w2+t1*x1+t1*x2\n",
      "INFO:dowhy.causal_estimator:INFO: Using Linear Regression Estimator\n",
      "INFO:dowhy.causal_estimator:b: dummy_outcome~t1+w3+w2+t1*x1+t1*x2\n",
      "INFO:dowhy.causal_estimator:INFO: Using Linear Regression Estimator\n",
      "WARNING:dowhy.causal_refuters.dummy_outcome_refuter:We assume a Normal Distribution as the sample has less than 100 examples.\n",
      "                 Note: The underlying distribution may not be Normal. We assume that it approaches normal with the increase in sample size.\n",
      "WARNING:dowhy.causal_refuters.dummy_outcome_refuter:We assume a Normal Distribution as the sample has less than 100 examples.\n",
      "                 Note: The underlying distribution may not be Normal. We assume that it approaches normal with the increase in sample size.\n",
      "INFO:dowhy.causal_refuter:All variables required: Running bootstrap adding noise to confounders, instrumental variables and effect modifiers.\n",
      "INFO:dowhy.causal_refuters.dummy_outcome_refuter:Refutation over 5 simulated datasets\n",
      "INFO:dowhy.causal_refuters.dummy_outcome_refuter:The transformation passed: [('random_forest', {'n_estimators': 100, 'max_depth': 6})]\n"
     ]
    },
    {
     "name": "stdout",
     "output_type": "stream",
     "text": [
      "printing refute's type\n",
      "<class 'list'>\n"
     ]
    },
    {
     "name": "stderr",
     "output_type": "stream",
     "text": [
      "INFO:dowhy.causal_estimator:INFO: Using Propensity Score Matching Estimator\n",
      "INFO:dowhy.causal_estimator:b: dummy_outcome~t1+w3+w2\n",
      "INFO:dowhy.causal_estimator:INFO: Using Propensity Score Matching Estimator\n",
      "INFO:dowhy.causal_estimator:b: dummy_outcome~t1+w3+w2\n",
      "INFO:dowhy.causal_estimator:INFO: Using Propensity Score Matching Estimator\n",
      "INFO:dowhy.causal_estimator:b: dummy_outcome~t1+w3+w2\n",
      "INFO:dowhy.causal_estimator:INFO: Using Propensity Score Matching Estimator\n",
      "INFO:dowhy.causal_estimator:b: dummy_outcome~t1+w3+w2\n",
      "INFO:dowhy.causal_estimator:INFO: Using Propensity Score Matching Estimator\n",
      "INFO:dowhy.causal_estimator:b: dummy_outcome~t1+w3+w2\n",
      "INFO:dowhy.causal_estimator:INFO: Using Propensity Score Matching Estimator\n",
      "INFO:dowhy.causal_estimator:b: dummy_outcome~t1+w3+w2\n",
      "INFO:dowhy.causal_estimator:INFO: Using Propensity Score Matching Estimator\n",
      "INFO:dowhy.causal_estimator:b: dummy_outcome~t1+w3+w2\n",
      "INFO:dowhy.causal_estimator:INFO: Using Propensity Score Matching Estimator\n",
      "INFO:dowhy.causal_estimator:b: dummy_outcome~t1+w3+w2\n",
      "INFO:dowhy.causal_estimator:INFO: Using Propensity Score Matching Estimator\n",
      "INFO:dowhy.causal_estimator:b: dummy_outcome~t1+w3+w2\n",
      "INFO:dowhy.causal_estimator:INFO: Using Propensity Score Matching Estimator\n",
      "INFO:dowhy.causal_estimator:b: dummy_outcome~t1+w3+w2\n",
      "WARNING:dowhy.causal_refuters.dummy_outcome_refuter:We assume a Normal Distribution as the sample has less than 100 examples.\n",
      "                 Note: The underlying distribution may not be Normal. We assume that it approaches normal with the increase in sample size.\n",
      "WARNING:dowhy.causal_refuters.dummy_outcome_refuter:We assume a Normal Distribution as the sample has less than 100 examples.\n",
      "                 Note: The underlying distribution may not be Normal. We assume that it approaches normal with the increase in sample size.\n",
      "INFO:dowhy.causal_refuter:All variables required: Running bootstrap adding noise to confounders, instrumental variables and effect modifiers.\n",
      "INFO:dowhy.causal_refuters.dummy_outcome_refuter:Refutation over 5 simulated datasets\n",
      "INFO:dowhy.causal_refuters.dummy_outcome_refuter:The transformation passed: [('random_forest', {'n_estimators': 100, 'max_depth': 6})]\n"
     ]
    },
    {
     "name": "stdout",
     "output_type": "stream",
     "text": [
      "printing refute's type\n",
      "<class 'list'>\n"
     ]
    },
    {
     "name": "stderr",
     "output_type": "stream",
     "text": [
      "INFO:dowhy.causal_estimator:INFO: Using Propensity Score Weighting Estimator\n",
      "INFO:dowhy.causal_estimator:b: dummy_outcome~t1+w3+w2\n",
      "INFO:dowhy.causal_estimator:INFO: Using Propensity Score Weighting Estimator\n",
      "INFO:dowhy.causal_estimator:b: dummy_outcome~t1+w3+w2\n",
      "INFO:dowhy.causal_estimator:INFO: Using Propensity Score Weighting Estimator\n",
      "INFO:dowhy.causal_estimator:b: dummy_outcome~t1+w3+w2\n",
      "INFO:dowhy.causal_estimator:INFO: Using Propensity Score Weighting Estimator\n",
      "INFO:dowhy.causal_estimator:b: dummy_outcome~t1+w3+w2\n",
      "INFO:dowhy.causal_estimator:INFO: Using Propensity Score Weighting Estimator\n",
      "INFO:dowhy.causal_estimator:b: dummy_outcome~t1+w3+w2\n",
      "INFO:dowhy.causal_estimator:INFO: Using Propensity Score Weighting Estimator\n",
      "INFO:dowhy.causal_estimator:b: dummy_outcome~t1+w3+w2\n",
      "INFO:dowhy.causal_estimator:INFO: Using Propensity Score Weighting Estimator\n",
      "INFO:dowhy.causal_estimator:b: dummy_outcome~t1+w3+w2\n",
      "INFO:dowhy.causal_estimator:INFO: Using Propensity Score Weighting Estimator\n",
      "INFO:dowhy.causal_estimator:b: dummy_outcome~t1+w3+w2\n",
      "INFO:dowhy.causal_estimator:INFO: Using Propensity Score Weighting Estimator\n",
      "INFO:dowhy.causal_estimator:b: dummy_outcome~t1+w3+w2\n",
      "INFO:dowhy.causal_estimator:INFO: Using Propensity Score Weighting Estimator\n",
      "INFO:dowhy.causal_estimator:b: dummy_outcome~t1+w3+w2\n",
      "WARNING:dowhy.causal_refuters.dummy_outcome_refuter:We assume a Normal Distribution as the sample has less than 100 examples.\n",
      "                 Note: The underlying distribution may not be Normal. We assume that it approaches normal with the increase in sample size.\n",
      "WARNING:dowhy.causal_refuters.dummy_outcome_refuter:We assume a Normal Distribution as the sample has less than 100 examples.\n",
      "                 Note: The underlying distribution may not be Normal. We assume that it approaches normal with the increase in sample size.\n",
      "INFO:dowhy.causal_refuter:All variables required: Running bootstrap adding noise to confounders, instrumental variables and effect modifiers.\n",
      "INFO:dowhy.causal_refuters.dummy_outcome_refuter:Refutation over 5 simulated datasets\n",
      "INFO:dowhy.causal_refuters.dummy_outcome_refuter:The transformation passed: [('random_forest', {'n_estimators': 100, 'max_depth': 6})]\n"
     ]
    },
    {
     "name": "stdout",
     "output_type": "stream",
     "text": [
      "printing refute's type\n",
      "<class 'list'>\n"
     ]
    },
    {
     "name": "stderr",
     "output_type": "stream",
     "text": [
      "INFO:dowhy.causal_estimator:INFO: Using EconML Estimator\n",
      "WARNING:dowhy.causal_estimator:Effect modifiers are not a subset of common causes. For efficiency in estimation, EconML will consider all effect modifiers as common causes too.\n",
      "INFO:dowhy.causal_estimator:b: dummy_outcome~t1+w3+w2+x1+x2 | x1,x2\n",
      "INFO:dowhy.causal_estimator:INFO: Using EconML Estimator\n",
      "WARNING:dowhy.causal_estimator:Effect modifiers are not a subset of common causes. For efficiency in estimation, EconML will consider all effect modifiers as common causes too.\n",
      "INFO:dowhy.causal_estimator:b: dummy_outcome~t1+w3+w2+x1+x2 | x1,x2\n",
      "INFO:dowhy.causal_estimator:INFO: Using EconML Estimator\n",
      "WARNING:dowhy.causal_estimator:Effect modifiers are not a subset of common causes. For efficiency in estimation, EconML will consider all effect modifiers as common causes too.\n",
      "INFO:dowhy.causal_estimator:b: dummy_outcome~t1+w3+w2+x1+x2 | x1,x2\n",
      "INFO:dowhy.causal_estimator:INFO: Using EconML Estimator\n",
      "WARNING:dowhy.causal_estimator:Effect modifiers are not a subset of common causes. For efficiency in estimation, EconML will consider all effect modifiers as common causes too.\n",
      "INFO:dowhy.causal_estimator:b: dummy_outcome~t1+w3+w2+x1+x2 | x1,x2\n",
      "INFO:dowhy.causal_estimator:INFO: Using EconML Estimator\n",
      "WARNING:dowhy.causal_estimator:Effect modifiers are not a subset of common causes. For efficiency in estimation, EconML will consider all effect modifiers as common causes too.\n",
      "INFO:dowhy.causal_estimator:b: dummy_outcome~t1+w3+w2+x1+x2 | x1,x2\n",
      "INFO:dowhy.causal_estimator:INFO: Using EconML Estimator\n",
      "WARNING:dowhy.causal_estimator:Effect modifiers are not a subset of common causes. For efficiency in estimation, EconML will consider all effect modifiers as common causes too.\n",
      "INFO:dowhy.causal_estimator:b: dummy_outcome~t1+w3+w2+x1+x2 | x1,x2\n",
      "INFO:dowhy.causal_estimator:INFO: Using EconML Estimator\n",
      "WARNING:dowhy.causal_estimator:Effect modifiers are not a subset of common causes. For efficiency in estimation, EconML will consider all effect modifiers as common causes too.\n",
      "INFO:dowhy.causal_estimator:b: dummy_outcome~t1+w3+w2+x1+x2 | x1,x2\n",
      "INFO:dowhy.causal_estimator:INFO: Using EconML Estimator\n",
      "WARNING:dowhy.causal_estimator:Effect modifiers are not a subset of common causes. For efficiency in estimation, EconML will consider all effect modifiers as common causes too.\n",
      "INFO:dowhy.causal_estimator:b: dummy_outcome~t1+w3+w2+x1+x2 | x1,x2\n",
      "INFO:dowhy.causal_estimator:INFO: Using EconML Estimator\n",
      "WARNING:dowhy.causal_estimator:Effect modifiers are not a subset of common causes. For efficiency in estimation, EconML will consider all effect modifiers as common causes too.\n",
      "INFO:dowhy.causal_estimator:b: dummy_outcome~t1+w3+w2+x1+x2 | x1,x2\n",
      "INFO:dowhy.causal_estimator:INFO: Using EconML Estimator\n",
      "WARNING:dowhy.causal_estimator:Effect modifiers are not a subset of common causes. For efficiency in estimation, EconML will consider all effect modifiers as common causes too.\n",
      "INFO:dowhy.causal_estimator:b: dummy_outcome~t1+w3+w2+x1+x2 | x1,x2\n",
      "WARNING:dowhy.causal_refuters.dummy_outcome_refuter:We assume a Normal Distribution as the sample has less than 100 examples.\n",
      "                 Note: The underlying distribution may not be Normal. We assume that it approaches normal with the increase in sample size.\n",
      "WARNING:dowhy.causal_refuters.dummy_outcome_refuter:We assume a Normal Distribution as the sample has less than 100 examples.\n",
      "                 Note: The underlying distribution may not be Normal. We assume that it approaches normal with the increase in sample size.\n",
      "INFO:dowhy.causal_refuter:All variables required: Running bootstrap adding noise to confounders, instrumental variables and effect modifiers.\n",
      "INFO:dowhy.causal_refuters.dummy_outcome_refuter:Refutation over 5 simulated datasets\n",
      "INFO:dowhy.causal_refuters.dummy_outcome_refuter:The transformation passed: [('random_forest', {'n_estimators': 100, 'max_depth': 6})]\n"
     ]
    },
    {
     "name": "stdout",
     "output_type": "stream",
     "text": [
      "printing refute's type\n",
      "<class 'list'>\n"
     ]
    },
    {
     "name": "stderr",
     "output_type": "stream",
     "text": [
      "INFO:dowhy.causal_estimator:INFO: Using EconML Estimator\n",
      "WARNING:dowhy.causal_estimator:Effect modifiers are not a subset of common causes. For efficiency in estimation, EconML will consider all effect modifiers as common causes too.\n",
      "INFO:dowhy.causal_estimator:b: dummy_outcome~t1+w3+w2+x1+x2 | x1,x2\n",
      "INFO:dowhy.causal_estimator:INFO: Using EconML Estimator\n",
      "WARNING:dowhy.causal_estimator:Effect modifiers are not a subset of common causes. For efficiency in estimation, EconML will consider all effect modifiers as common causes too.\n",
      "INFO:dowhy.causal_estimator:b: dummy_outcome~t1+w3+w2+x1+x2 | x1,x2\n",
      "INFO:dowhy.causal_estimator:INFO: Using EconML Estimator\n",
      "WARNING:dowhy.causal_estimator:Effect modifiers are not a subset of common causes. For efficiency in estimation, EconML will consider all effect modifiers as common causes too.\n",
      "INFO:dowhy.causal_estimator:b: dummy_outcome~t1+w3+w2+x1+x2 | x1,x2\n",
      "INFO:dowhy.causal_estimator:INFO: Using EconML Estimator\n",
      "WARNING:dowhy.causal_estimator:Effect modifiers are not a subset of common causes. For efficiency in estimation, EconML will consider all effect modifiers as common causes too.\n",
      "INFO:dowhy.causal_estimator:b: dummy_outcome~t1+w3+w2+x1+x2 | x1,x2\n",
      "INFO:dowhy.causal_estimator:INFO: Using EconML Estimator\n",
      "WARNING:dowhy.causal_estimator:Effect modifiers are not a subset of common causes. For efficiency in estimation, EconML will consider all effect modifiers as common causes too.\n",
      "INFO:dowhy.causal_estimator:b: dummy_outcome~t1+w3+w2+x1+x2 | x1,x2\n",
      "INFO:dowhy.causal_estimator:INFO: Using EconML Estimator\n",
      "WARNING:dowhy.causal_estimator:Effect modifiers are not a subset of common causes. For efficiency in estimation, EconML will consider all effect modifiers as common causes too.\n",
      "INFO:dowhy.causal_estimator:b: dummy_outcome~t1+w3+w2+x1+x2 | x1,x2\n",
      "INFO:dowhy.causal_estimator:INFO: Using EconML Estimator\n",
      "WARNING:dowhy.causal_estimator:Effect modifiers are not a subset of common causes. For efficiency in estimation, EconML will consider all effect modifiers as common causes too.\n",
      "INFO:dowhy.causal_estimator:b: dummy_outcome~t1+w3+w2+x1+x2 | x1,x2\n",
      "INFO:dowhy.causal_estimator:INFO: Using EconML Estimator\n",
      "WARNING:dowhy.causal_estimator:Effect modifiers are not a subset of common causes. For efficiency in estimation, EconML will consider all effect modifiers as common causes too.\n",
      "INFO:dowhy.causal_estimator:b: dummy_outcome~t1+w3+w2+x1+x2 | x1,x2\n",
      "INFO:dowhy.causal_estimator:INFO: Using EconML Estimator\n",
      "WARNING:dowhy.causal_estimator:Effect modifiers are not a subset of common causes. For efficiency in estimation, EconML will consider all effect modifiers as common causes too.\n",
      "INFO:dowhy.causal_estimator:b: dummy_outcome~t1+w3+w2+x1+x2 | x1,x2\n",
      "INFO:dowhy.causal_estimator:INFO: Using EconML Estimator\n",
      "WARNING:dowhy.causal_estimator:Effect modifiers are not a subset of common causes. For efficiency in estimation, EconML will consider all effect modifiers as common causes too.\n",
      "INFO:dowhy.causal_estimator:b: dummy_outcome~t1+w3+w2+x1+x2 | x1,x2\n",
      "WARNING:dowhy.causal_refuters.dummy_outcome_refuter:We assume a Normal Distribution as the sample has less than 100 examples.\n",
      "                 Note: The underlying distribution may not be Normal. We assume that it approaches normal with the increase in sample size.\n",
      "WARNING:dowhy.causal_refuters.dummy_outcome_refuter:We assume a Normal Distribution as the sample has less than 100 examples.\n",
      "                 Note: The underlying distribution may not be Normal. We assume that it approaches normal with the increase in sample size.\n",
      "WARNING:dowhy.causal_model:Causal Graph not provided. DoWhy will construct a graph based on data inputs.\n",
      "INFO:dowhy.causal_graph:If this is observed data (not from a randomized experiment), there might always be missing confounders. Adding a node named \"Unobserved Confounders\" to reflect this.\n",
      "INFO:dowhy.causal_model:Model to find the causal effect of treatment ['t1'] on outcome ['y']\n",
      "WARNING:dowhy.causal_identifier:If this is observed data (not from a randomized experiment), there might always be missing confounders. Causal effect cannot be identified perfectly.\n",
      "INFO:dowhy.causal_identifier:Continuing by ignoring these unobserved confounders because proceed_when_unidentifiable flag is True.\n",
      "INFO:dowhy.causal_identifier:Instrumental variables for treatment and outcome:[]\n",
      "INFO:dowhy.causal_identifier:Frontdoor variables for treatment and outcome:[]\n",
      "INFO:dowhy.causal_estimator:b: y~t1+w3+w2+t1*x1+t1*x2\n",
      "INFO:dowhy.causal_estimator:INFO: Using Linear Regression Estimator\n"
     ]
    },
    {
     "name": "stdout",
     "output_type": "stream",
     "text": [
      "printing refute's type\n",
      "<class 'list'>\n",
      "estimated effect [0.5, 0.5, 0.5, 0.5, 0.5]\n",
      "new_effect [1.5104993248915284, -2.4799959590778, -1.2642404127398776, 0.2803962872779986, 0.07914706314014612]\n",
      "p_value [0.21501559916000046, 0.24859005577691917, 0.28206259071833095, 0.38817158296233123, 0.4253393941752771]\n",
      "true value 0.1435773162705152\n",
      "\n",
      "\n",
      "Running Experiment Number: 1\n",
      "\n",
      "\n",
      "Current Sample Size: 1000\n",
      "\n",
      "\n",
      "The current DGP:\n",
      "\n",
      "        Linear Data Generating Process\n",
      "        -------------------------------\n",
      "        \n",
      "        treatment:['t1']\n",
      "        outcome:['y']\n",
      "        confounder: ['w1', 'w2', 'w3', 'w4', 'w5', 'w6']\n",
      "        effect_modifier: ['x1', 'x2']\n",
      "        weights: {'confounder=>treatment': array([[100.5400532 ],\n",
      "       [  0.93615463],\n",
      "       [  0.60358939],\n",
      "       [  1.47769705],\n",
      "       [ -1.58058638],\n",
      "       [ -0.41425403]]), 'confounder=>outcome': array([[100.67531551],\n",
      "       [  0.25482963],\n",
      "       [  1.08417606],\n",
      "       [ -1.71312064],\n",
      "       [  1.18949543],\n",
      "       [  2.13293067]]), 'effect_modifier=>outcome': array([[-0.18573982],\n",
      "       [-1.28565398]]), 'treatment=>outcome': array([[0.14357732]])}\n",
      "        bias: {'confounder=>treatment': array([1.51513244]), 'confounder=>outcome': array([0.5016623])}\n",
      "        seed: None\n",
      "        treatment_is_binary: True\n",
      "        percentile: 0.9\n",
      "        \n",
      "printing data shape\n",
      "(1000, 10)\n",
      "[0.44920546]\n",
      "check\n",
      "printing length of confounder list: 2\n",
      "printing confounder list: ['w2', 'w3']\n",
      "data columns\n",
      "data columns Index(['x1', 'x2', 'w1', 'w2', 'w3', 'w4', 'w5', 'w6', 't1', 'y'], dtype='object')\n",
      "identified_estimand: Estimand type: nonparametric-ate\n",
      "\n",
      "### Estimand : 1\n",
      "Estimand name: backdoor1 (Default)\n",
      "Estimand expression:\n",
      "  d                        \n",
      "─────(Expectation(y|w3,w2))\n",
      "d[t₁]                      \n",
      "Estimand assumption 1, Unconfoundedness: If U→{t1} and U→y then P(y|t1,w3,w2,U) = P(y|t1,w3,w2)\n",
      "\n",
      "### Estimand : 2\n",
      "Estimand name: iv\n",
      "No such variable found!\n",
      "\n",
      "### Estimand : 3\n",
      "Estimand name: frontdoor\n",
      "No such variable found!\n",
      "\n",
      "\n",
      "\n",
      "Running the estimators:\n",
      "\n",
      "The current estimator: Estimator(name='backdoor.linear_regression', params=None)\n",
      "estimator.params None\n",
      "printing estimate's type\n",
      "<class 'dowhy.causal_estimator.CausalEstimate'>\n",
      "The current estimator: Estimator(name='backdoor.propensity_score_matching', params={'init_params': {}})\n",
      "estimator.params {'init_params': {}}\n"
     ]
    },
    {
     "name": "stderr",
     "output_type": "stream",
     "text": [
      "INFO:dowhy.causal_estimator:INFO: Using Propensity Score Matching Estimator\n",
      "INFO:dowhy.causal_estimator:b: y~t1+w3+w2\n",
      "INFO:dowhy.causal_estimator:INFO: Using Propensity Score Weighting Estimator\n",
      "INFO:dowhy.causal_estimator:b: y~t1+w3+w2\n",
      "INFO:dowhy.causal_estimator:INFO: Using EconML Estimator\n",
      "WARNING:dowhy.causal_estimator:Effect modifiers are not a subset of common causes. For efficiency in estimation, EconML will consider all effect modifiers as common causes too.\n",
      "INFO:dowhy.causal_estimator:b: y~t1+w3+w2+x1+x2 | x1,x2\n"
     ]
    },
    {
     "name": "stdout",
     "output_type": "stream",
     "text": [
      "printing estimate's type\n",
      "<class 'dowhy.causal_estimator.CausalEstimate'>\n",
      "The current estimator: Estimator(name='backdoor.propensity_score_weighting', params={'init_params': {}})\n",
      "estimator.params {'init_params': {}}\n",
      "printing estimate's type\n",
      "<class 'dowhy.causal_estimator.CausalEstimate'>\n",
      "The current estimator: Estimator(name='backdoor.econml.dml.DML', params={'init_params': {'model_y': GradientBoostingRegressor(), 'model_t': GradientBoostingRegressor(), 'model_final': LassoCV(), 'featurizer': PolynomialFeatures(degree=1)}, 'fit_params': {}, '_econml_methodname': 'econml.dml.DML'})\n",
      "estimator.params {'init_params': {'model_y': GradientBoostingRegressor(), 'model_t': GradientBoostingRegressor(), 'model_final': LassoCV(), 'featurizer': PolynomialFeatures(degree=1)}, 'fit_params': {}, '_econml_methodname': 'econml.dml.DML'}\n"
     ]
    },
    {
     "name": "stderr",
     "output_type": "stream",
     "text": [
      "INFO:dowhy.causal_estimator:INFO: Using EconML Estimator\n",
      "WARNING:dowhy.causal_estimator:Effect modifiers are not a subset of common causes. For efficiency in estimation, EconML will consider all effect modifiers as common causes too.\n",
      "INFO:dowhy.causal_estimator:b: y~t1+w3+w2+x1+x2 | x1,x2\n"
     ]
    },
    {
     "name": "stdout",
     "output_type": "stream",
     "text": [
      "printing estimate's type\n",
      "<class 'dowhy.causal_estimator.CausalEstimate'>\n",
      "The current estimator: Estimator(name='backdoor.econml.drlearner.LinearDRLearner', params={'init_params': {'model_propensity': LogisticRegressionCV(cv=3)}, 'fit_params': {}, '_econml_methodname': 'econml.drlearner.LinearDRLearner'})\n",
      "estimator.params {'init_params': {'model_propensity': LogisticRegressionCV(cv=3)}, 'fit_params': {}, '_econml_methodname': 'econml.drlearner.LinearDRLearner'}\n"
     ]
    },
    {
     "name": "stderr",
     "output_type": "stream",
     "text": [
      "INFO:dowhy.causal_refuter:All variables required: Running bootstrap adding noise to confounders, instrumental variables and effect modifiers.\n",
      "INFO:dowhy.causal_refuters.dummy_outcome_refuter:Refutation over 5 simulated datasets\n",
      "INFO:dowhy.causal_refuters.dummy_outcome_refuter:The transformation passed: [('random_forest', {'n_estimators': 100, 'max_depth': 6})]\n"
     ]
    },
    {
     "name": "stdout",
     "output_type": "stream",
     "text": [
      "printing estimate's type\n",
      "<class 'dowhy.causal_estimator.CausalEstimate'>\n",
      "estimate_values [60.77935464481793, 60.8839300994152, 60.85406801354386, 55.66950014532471, 61.100768037310345]\n",
      "\n",
      "\n",
      "Running the refuters:\n",
      "\n",
      "The current refuter: Refuter(name='dummy_outcome_refuter', params={'num_simulations': 5, 'transformation_list': [('random_forest', {'n_estimators': 100, 'max_depth': 6})], 'true_causal_effect': <function <lambda> at 0x0000022829325828>})\n"
     ]
    },
    {
     "name": "stderr",
     "output_type": "stream",
     "text": [
      "INFO:dowhy.causal_estimator:b: dummy_outcome~t1+w3+w2+t1*x1+t1*x2\n",
      "INFO:dowhy.causal_estimator:INFO: Using Linear Regression Estimator\n",
      "INFO:dowhy.causal_estimator:b: dummy_outcome~t1+w3+w2+t1*x1+t1*x2\n",
      "INFO:dowhy.causal_estimator:INFO: Using Linear Regression Estimator\n",
      "INFO:dowhy.causal_estimator:b: dummy_outcome~t1+w3+w2+t1*x1+t1*x2\n",
      "INFO:dowhy.causal_estimator:INFO: Using Linear Regression Estimator\n",
      "INFO:dowhy.causal_estimator:b: dummy_outcome~t1+w3+w2+t1*x1+t1*x2\n",
      "INFO:dowhy.causal_estimator:INFO: Using Linear Regression Estimator\n",
      "INFO:dowhy.causal_estimator:b: dummy_outcome~t1+w3+w2+t1*x1+t1*x2\n",
      "INFO:dowhy.causal_estimator:INFO: Using Linear Regression Estimator\n",
      "INFO:dowhy.causal_estimator:b: dummy_outcome~t1+w3+w2+t1*x1+t1*x2\n",
      "INFO:dowhy.causal_estimator:INFO: Using Linear Regression Estimator\n",
      "INFO:dowhy.causal_estimator:b: dummy_outcome~t1+w3+w2+t1*x1+t1*x2\n",
      "INFO:dowhy.causal_estimator:INFO: Using Linear Regression Estimator\n",
      "INFO:dowhy.causal_estimator:b: dummy_outcome~t1+w3+w2+t1*x1+t1*x2\n",
      "INFO:dowhy.causal_estimator:INFO: Using Linear Regression Estimator\n",
      "INFO:dowhy.causal_estimator:b: dummy_outcome~t1+w3+w2+t1*x1+t1*x2\n",
      "INFO:dowhy.causal_estimator:INFO: Using Linear Regression Estimator\n",
      "INFO:dowhy.causal_estimator:b: dummy_outcome~t1+w3+w2+t1*x1+t1*x2\n",
      "INFO:dowhy.causal_estimator:INFO: Using Linear Regression Estimator\n",
      "WARNING:dowhy.causal_refuters.dummy_outcome_refuter:We assume a Normal Distribution as the sample has less than 100 examples.\n",
      "                 Note: The underlying distribution may not be Normal. We assume that it approaches normal with the increase in sample size.\n",
      "WARNING:dowhy.causal_refuters.dummy_outcome_refuter:We assume a Normal Distribution as the sample has less than 100 examples.\n",
      "                 Note: The underlying distribution may not be Normal. We assume that it approaches normal with the increase in sample size.\n",
      "INFO:dowhy.causal_refuter:All variables required: Running bootstrap adding noise to confounders, instrumental variables and effect modifiers.\n",
      "INFO:dowhy.causal_refuters.dummy_outcome_refuter:Refutation over 5 simulated datasets\n",
      "INFO:dowhy.causal_refuters.dummy_outcome_refuter:The transformation passed: [('random_forest', {'n_estimators': 100, 'max_depth': 6})]\n"
     ]
    },
    {
     "name": "stdout",
     "output_type": "stream",
     "text": [
      "printing refute's type\n",
      "<class 'list'>\n"
     ]
    },
    {
     "name": "stderr",
     "output_type": "stream",
     "text": [
      "INFO:dowhy.causal_estimator:INFO: Using Propensity Score Matching Estimator\n",
      "INFO:dowhy.causal_estimator:b: dummy_outcome~t1+w3+w2\n",
      "INFO:dowhy.causal_estimator:INFO: Using Propensity Score Matching Estimator\n",
      "INFO:dowhy.causal_estimator:b: dummy_outcome~t1+w3+w2\n",
      "INFO:dowhy.causal_estimator:INFO: Using Propensity Score Matching Estimator\n",
      "INFO:dowhy.causal_estimator:b: dummy_outcome~t1+w3+w2\n",
      "INFO:dowhy.causal_estimator:INFO: Using Propensity Score Matching Estimator\n",
      "INFO:dowhy.causal_estimator:b: dummy_outcome~t1+w3+w2\n",
      "INFO:dowhy.causal_estimator:INFO: Using Propensity Score Matching Estimator\n",
      "INFO:dowhy.causal_estimator:b: dummy_outcome~t1+w3+w2\n",
      "INFO:dowhy.causal_estimator:INFO: Using Propensity Score Matching Estimator\n",
      "INFO:dowhy.causal_estimator:b: dummy_outcome~t1+w3+w2\n",
      "INFO:dowhy.causal_estimator:INFO: Using Propensity Score Matching Estimator\n",
      "INFO:dowhy.causal_estimator:b: dummy_outcome~t1+w3+w2\n",
      "INFO:dowhy.causal_estimator:INFO: Using Propensity Score Matching Estimator\n",
      "INFO:dowhy.causal_estimator:b: dummy_outcome~t1+w3+w2\n",
      "INFO:dowhy.causal_estimator:INFO: Using Propensity Score Matching Estimator\n",
      "INFO:dowhy.causal_estimator:b: dummy_outcome~t1+w3+w2\n",
      "INFO:dowhy.causal_estimator:INFO: Using Propensity Score Matching Estimator\n",
      "INFO:dowhy.causal_estimator:b: dummy_outcome~t1+w3+w2\n",
      "WARNING:dowhy.causal_refuters.dummy_outcome_refuter:We assume a Normal Distribution as the sample has less than 100 examples.\n",
      "                 Note: The underlying distribution may not be Normal. We assume that it approaches normal with the increase in sample size.\n",
      "WARNING:dowhy.causal_refuters.dummy_outcome_refuter:We assume a Normal Distribution as the sample has less than 100 examples.\n",
      "                 Note: The underlying distribution may not be Normal. We assume that it approaches normal with the increase in sample size.\n",
      "INFO:dowhy.causal_refuter:All variables required: Running bootstrap adding noise to confounders, instrumental variables and effect modifiers.\n",
      "INFO:dowhy.causal_refuters.dummy_outcome_refuter:Refutation over 5 simulated datasets\n",
      "INFO:dowhy.causal_refuters.dummy_outcome_refuter:The transformation passed: [('random_forest', {'n_estimators': 100, 'max_depth': 6})]\n"
     ]
    },
    {
     "name": "stdout",
     "output_type": "stream",
     "text": [
      "printing refute's type\n",
      "<class 'list'>\n"
     ]
    },
    {
     "name": "stderr",
     "output_type": "stream",
     "text": [
      "INFO:dowhy.causal_estimator:INFO: Using Propensity Score Weighting Estimator\n",
      "INFO:dowhy.causal_estimator:b: dummy_outcome~t1+w3+w2\n",
      "INFO:dowhy.causal_estimator:INFO: Using Propensity Score Weighting Estimator\n",
      "INFO:dowhy.causal_estimator:b: dummy_outcome~t1+w3+w2\n",
      "INFO:dowhy.causal_estimator:INFO: Using Propensity Score Weighting Estimator\n",
      "INFO:dowhy.causal_estimator:b: dummy_outcome~t1+w3+w2\n",
      "INFO:dowhy.causal_estimator:INFO: Using Propensity Score Weighting Estimator\n",
      "INFO:dowhy.causal_estimator:b: dummy_outcome~t1+w3+w2\n",
      "INFO:dowhy.causal_estimator:INFO: Using Propensity Score Weighting Estimator\n",
      "INFO:dowhy.causal_estimator:b: dummy_outcome~t1+w3+w2\n",
      "INFO:dowhy.causal_estimator:INFO: Using Propensity Score Weighting Estimator\n",
      "INFO:dowhy.causal_estimator:b: dummy_outcome~t1+w3+w2\n",
      "INFO:dowhy.causal_estimator:INFO: Using Propensity Score Weighting Estimator\n",
      "INFO:dowhy.causal_estimator:b: dummy_outcome~t1+w3+w2\n",
      "INFO:dowhy.causal_estimator:INFO: Using Propensity Score Weighting Estimator\n",
      "INFO:dowhy.causal_estimator:b: dummy_outcome~t1+w3+w2\n",
      "INFO:dowhy.causal_estimator:INFO: Using Propensity Score Weighting Estimator\n",
      "INFO:dowhy.causal_estimator:b: dummy_outcome~t1+w3+w2\n",
      "INFO:dowhy.causal_estimator:INFO: Using Propensity Score Weighting Estimator\n",
      "INFO:dowhy.causal_estimator:b: dummy_outcome~t1+w3+w2\n",
      "WARNING:dowhy.causal_refuters.dummy_outcome_refuter:We assume a Normal Distribution as the sample has less than 100 examples.\n",
      "                 Note: The underlying distribution may not be Normal. We assume that it approaches normal with the increase in sample size.\n",
      "WARNING:dowhy.causal_refuters.dummy_outcome_refuter:We assume a Normal Distribution as the sample has less than 100 examples.\n",
      "                 Note: The underlying distribution may not be Normal. We assume that it approaches normal with the increase in sample size.\n",
      "INFO:dowhy.causal_refuter:All variables required: Running bootstrap adding noise to confounders, instrumental variables and effect modifiers.\n",
      "INFO:dowhy.causal_refuters.dummy_outcome_refuter:Refutation over 5 simulated datasets\n",
      "INFO:dowhy.causal_refuters.dummy_outcome_refuter:The transformation passed: [('random_forest', {'n_estimators': 100, 'max_depth': 6})]\n"
     ]
    },
    {
     "name": "stdout",
     "output_type": "stream",
     "text": [
      "printing refute's type\n",
      "<class 'list'>\n"
     ]
    },
    {
     "name": "stderr",
     "output_type": "stream",
     "text": [
      "INFO:dowhy.causal_estimator:INFO: Using EconML Estimator\n",
      "WARNING:dowhy.causal_estimator:Effect modifiers are not a subset of common causes. For efficiency in estimation, EconML will consider all effect modifiers as common causes too.\n",
      "INFO:dowhy.causal_estimator:b: dummy_outcome~t1+w3+w2+x1+x2 | x1,x2\n",
      "INFO:dowhy.causal_estimator:INFO: Using EconML Estimator\n",
      "WARNING:dowhy.causal_estimator:Effect modifiers are not a subset of common causes. For efficiency in estimation, EconML will consider all effect modifiers as common causes too.\n",
      "INFO:dowhy.causal_estimator:b: dummy_outcome~t1+w3+w2+x1+x2 | x1,x2\n",
      "INFO:dowhy.causal_estimator:INFO: Using EconML Estimator\n",
      "WARNING:dowhy.causal_estimator:Effect modifiers are not a subset of common causes. For efficiency in estimation, EconML will consider all effect modifiers as common causes too.\n",
      "INFO:dowhy.causal_estimator:b: dummy_outcome~t1+w3+w2+x1+x2 | x1,x2\n",
      "INFO:dowhy.causal_estimator:INFO: Using EconML Estimator\n",
      "WARNING:dowhy.causal_estimator:Effect modifiers are not a subset of common causes. For efficiency in estimation, EconML will consider all effect modifiers as common causes too.\n",
      "INFO:dowhy.causal_estimator:b: dummy_outcome~t1+w3+w2+x1+x2 | x1,x2\n",
      "INFO:dowhy.causal_estimator:INFO: Using EconML Estimator\n",
      "WARNING:dowhy.causal_estimator:Effect modifiers are not a subset of common causes. For efficiency in estimation, EconML will consider all effect modifiers as common causes too.\n",
      "INFO:dowhy.causal_estimator:b: dummy_outcome~t1+w3+w2+x1+x2 | x1,x2\n",
      "INFO:dowhy.causal_estimator:INFO: Using EconML Estimator\n",
      "WARNING:dowhy.causal_estimator:Effect modifiers are not a subset of common causes. For efficiency in estimation, EconML will consider all effect modifiers as common causes too.\n",
      "INFO:dowhy.causal_estimator:b: dummy_outcome~t1+w3+w2+x1+x2 | x1,x2\n",
      "INFO:dowhy.causal_estimator:INFO: Using EconML Estimator\n",
      "WARNING:dowhy.causal_estimator:Effect modifiers are not a subset of common causes. For efficiency in estimation, EconML will consider all effect modifiers as common causes too.\n",
      "INFO:dowhy.causal_estimator:b: dummy_outcome~t1+w3+w2+x1+x2 | x1,x2\n",
      "INFO:dowhy.causal_estimator:INFO: Using EconML Estimator\n",
      "WARNING:dowhy.causal_estimator:Effect modifiers are not a subset of common causes. For efficiency in estimation, EconML will consider all effect modifiers as common causes too.\n",
      "INFO:dowhy.causal_estimator:b: dummy_outcome~t1+w3+w2+x1+x2 | x1,x2\n",
      "INFO:dowhy.causal_estimator:INFO: Using EconML Estimator\n",
      "WARNING:dowhy.causal_estimator:Effect modifiers are not a subset of common causes. For efficiency in estimation, EconML will consider all effect modifiers as common causes too.\n",
      "INFO:dowhy.causal_estimator:b: dummy_outcome~t1+w3+w2+x1+x2 | x1,x2\n",
      "INFO:dowhy.causal_estimator:INFO: Using EconML Estimator\n",
      "WARNING:dowhy.causal_estimator:Effect modifiers are not a subset of common causes. For efficiency in estimation, EconML will consider all effect modifiers as common causes too.\n",
      "INFO:dowhy.causal_estimator:b: dummy_outcome~t1+w3+w2+x1+x2 | x1,x2\n",
      "WARNING:dowhy.causal_refuters.dummy_outcome_refuter:We assume a Normal Distribution as the sample has less than 100 examples.\n",
      "                 Note: The underlying distribution may not be Normal. We assume that it approaches normal with the increase in sample size.\n",
      "WARNING:dowhy.causal_refuters.dummy_outcome_refuter:We assume a Normal Distribution as the sample has less than 100 examples.\n",
      "                 Note: The underlying distribution may not be Normal. We assume that it approaches normal with the increase in sample size.\n",
      "INFO:dowhy.causal_refuter:All variables required: Running bootstrap adding noise to confounders, instrumental variables and effect modifiers.\n",
      "INFO:dowhy.causal_refuters.dummy_outcome_refuter:Refutation over 5 simulated datasets\n",
      "INFO:dowhy.causal_refuters.dummy_outcome_refuter:The transformation passed: [('random_forest', {'n_estimators': 100, 'max_depth': 6})]\n"
     ]
    },
    {
     "name": "stdout",
     "output_type": "stream",
     "text": [
      "printing refute's type\n",
      "<class 'list'>\n"
     ]
    },
    {
     "name": "stderr",
     "output_type": "stream",
     "text": [
      "INFO:dowhy.causal_estimator:INFO: Using EconML Estimator\n",
      "WARNING:dowhy.causal_estimator:Effect modifiers are not a subset of common causes. For efficiency in estimation, EconML will consider all effect modifiers as common causes too.\n",
      "INFO:dowhy.causal_estimator:b: dummy_outcome~t1+w3+w2+x1+x2 | x1,x2\n",
      "INFO:dowhy.causal_estimator:INFO: Using EconML Estimator\n",
      "WARNING:dowhy.causal_estimator:Effect modifiers are not a subset of common causes. For efficiency in estimation, EconML will consider all effect modifiers as common causes too.\n",
      "INFO:dowhy.causal_estimator:b: dummy_outcome~t1+w3+w2+x1+x2 | x1,x2\n",
      "INFO:dowhy.causal_estimator:INFO: Using EconML Estimator\n",
      "WARNING:dowhy.causal_estimator:Effect modifiers are not a subset of common causes. For efficiency in estimation, EconML will consider all effect modifiers as common causes too.\n",
      "INFO:dowhy.causal_estimator:b: dummy_outcome~t1+w3+w2+x1+x2 | x1,x2\n",
      "INFO:dowhy.causal_estimator:INFO: Using EconML Estimator\n",
      "WARNING:dowhy.causal_estimator:Effect modifiers are not a subset of common causes. For efficiency in estimation, EconML will consider all effect modifiers as common causes too.\n",
      "INFO:dowhy.causal_estimator:b: dummy_outcome~t1+w3+w2+x1+x2 | x1,x2\n",
      "INFO:dowhy.causal_estimator:INFO: Using EconML Estimator\n",
      "WARNING:dowhy.causal_estimator:Effect modifiers are not a subset of common causes. For efficiency in estimation, EconML will consider all effect modifiers as common causes too.\n",
      "INFO:dowhy.causal_estimator:b: dummy_outcome~t1+w3+w2+x1+x2 | x1,x2\n",
      "INFO:dowhy.causal_estimator:INFO: Using EconML Estimator\n",
      "WARNING:dowhy.causal_estimator:Effect modifiers are not a subset of common causes. For efficiency in estimation, EconML will consider all effect modifiers as common causes too.\n",
      "INFO:dowhy.causal_estimator:b: dummy_outcome~t1+w3+w2+x1+x2 | x1,x2\n",
      "INFO:dowhy.causal_estimator:INFO: Using EconML Estimator\n",
      "WARNING:dowhy.causal_estimator:Effect modifiers are not a subset of common causes. For efficiency in estimation, EconML will consider all effect modifiers as common causes too.\n",
      "INFO:dowhy.causal_estimator:b: dummy_outcome~t1+w3+w2+x1+x2 | x1,x2\n",
      "INFO:dowhy.causal_estimator:INFO: Using EconML Estimator\n",
      "WARNING:dowhy.causal_estimator:Effect modifiers are not a subset of common causes. For efficiency in estimation, EconML will consider all effect modifiers as common causes too.\n",
      "INFO:dowhy.causal_estimator:b: dummy_outcome~t1+w3+w2+x1+x2 | x1,x2\n",
      "INFO:dowhy.causal_estimator:INFO: Using EconML Estimator\n",
      "WARNING:dowhy.causal_estimator:Effect modifiers are not a subset of common causes. For efficiency in estimation, EconML will consider all effect modifiers as common causes too.\n",
      "INFO:dowhy.causal_estimator:b: dummy_outcome~t1+w3+w2+x1+x2 | x1,x2\n",
      "INFO:dowhy.causal_estimator:INFO: Using EconML Estimator\n",
      "WARNING:dowhy.causal_estimator:Effect modifiers are not a subset of common causes. For efficiency in estimation, EconML will consider all effect modifiers as common causes too.\n",
      "INFO:dowhy.causal_estimator:b: dummy_outcome~t1+w3+w2+x1+x2 | x1,x2\n",
      "WARNING:dowhy.causal_refuters.dummy_outcome_refuter:We assume a Normal Distribution as the sample has less than 100 examples.\n",
      "                 Note: The underlying distribution may not be Normal. We assume that it approaches normal with the increase in sample size.\n",
      "WARNING:dowhy.causal_refuters.dummy_outcome_refuter:We assume a Normal Distribution as the sample has less than 100 examples.\n",
      "                 Note: The underlying distribution may not be Normal. We assume that it approaches normal with the increase in sample size.\n",
      "WARNING:dowhy.causal_model:Causal Graph not provided. DoWhy will construct a graph based on data inputs.\n",
      "INFO:dowhy.causal_graph:If this is observed data (not from a randomized experiment), there might always be missing confounders. Adding a node named \"Unobserved Confounders\" to reflect this.\n",
      "INFO:dowhy.causal_model:Model to find the causal effect of treatment ['t1'] on outcome ['y']\n",
      "WARNING:dowhy.causal_identifier:If this is observed data (not from a randomized experiment), there might always be missing confounders. Causal effect cannot be identified perfectly.\n",
      "INFO:dowhy.causal_identifier:Continuing by ignoring these unobserved confounders because proceed_when_unidentifiable flag is True.\n",
      "INFO:dowhy.causal_identifier:Instrumental variables for treatment and outcome:[]\n",
      "INFO:dowhy.causal_identifier:Frontdoor variables for treatment and outcome:[]\n",
      "INFO:dowhy.causal_estimator:b: y~t1+w3+w2+t1*x1+t1*x2\n",
      "INFO:dowhy.causal_estimator:INFO: Using Linear Regression Estimator\n"
     ]
    },
    {
     "name": "stdout",
     "output_type": "stream",
     "text": [
      "printing refute's type\n",
      "<class 'list'>\n",
      "estimated effect [0.5, 0.5, 0.5, 0.5, 0.5]\n",
      "new_effect [-2.4745530139868324, 0.39007344504342745, 1.7057218688271072, 0.19317789196700788, -2.4366625339892254]\n",
      "p_value [0.217112102742277, 0.4879151090432915, 0.1836554763863374, 0.21355581732312556, 0.006732276894335754]\n",
      "true value 0.449205464249595\n",
      "\n",
      "\n",
      "Running Experiment Number: 2\n",
      "\n",
      "\n",
      "Current Sample Size: 1000\n",
      "\n",
      "\n",
      "The current DGP:\n",
      "\n",
      "        Linear Data Generating Process\n",
      "        -------------------------------\n",
      "        \n",
      "        treatment:['t1']\n",
      "        outcome:['y']\n",
      "        confounder: ['w1', 'w2', 'w3', 'w4', 'w5', 'w6']\n",
      "        effect_modifier: ['x1', 'x2']\n",
      "        weights: {'confounder=>treatment': array([[100.28276226],\n",
      "       [  1.28803946],\n",
      "       [  0.45448878],\n",
      "       [  0.88215811],\n",
      "       [  1.13237151],\n",
      "       [ -2.91101921]]), 'confounder=>outcome': array([[99.90266926],\n",
      "       [-1.86802468],\n",
      "       [ 1.57984168],\n",
      "       [ 0.87668243],\n",
      "       [ 2.06269101],\n",
      "       [ 0.85546169]]), 'effect_modifier=>outcome': array([[ 0.17299741],\n",
      "       [-0.63257391]]), 'treatment=>outcome': array([[0.44920546]])}\n",
      "        bias: {'confounder=>treatment': array([-2.86395457]), 'confounder=>outcome': array([-0.39615528])}\n",
      "        seed: None\n",
      "        treatment_is_binary: True\n",
      "        percentile: 0.9\n",
      "        \n",
      "printing data shape\n",
      "(1000, 10)\n",
      "[-0.49785394]\n",
      "check\n",
      "printing length of confounder list: 2\n",
      "printing confounder list: ['w2', 'w3']\n",
      "data columns\n",
      "data columns Index(['x1', 'x2', 'w1', 'w2', 'w3', 'w4', 'w5', 'w6', 't1', 'y'], dtype='object')\n",
      "identified_estimand: Estimand type: nonparametric-ate\n",
      "\n",
      "### Estimand : 1\n",
      "Estimand name: backdoor1 (Default)\n",
      "Estimand expression:\n",
      "  d                        \n",
      "─────(Expectation(y|w3,w2))\n",
      "d[t₁]                      \n",
      "Estimand assumption 1, Unconfoundedness: If U→{t1} and U→y then P(y|t1,w3,w2,U) = P(y|t1,w3,w2)\n",
      "\n",
      "### Estimand : 2\n",
      "Estimand name: iv\n",
      "No such variable found!\n",
      "\n",
      "### Estimand : 3\n",
      "Estimand name: frontdoor\n",
      "No such variable found!\n",
      "\n",
      "\n",
      "\n",
      "Running the estimators:\n",
      "\n",
      "The current estimator: Estimator(name='backdoor.linear_regression', params=None)\n",
      "estimator.params None\n",
      "printing estimate's type"
     ]
    },
    {
     "name": "stderr",
     "output_type": "stream",
     "text": [
      "INFO:dowhy.causal_estimator:INFO: Using Propensity Score Matching Estimator\n",
      "INFO:dowhy.causal_estimator:b: y~t1+w3+w2\n"
     ]
    },
    {
     "name": "stdout",
     "output_type": "stream",
     "text": [
      "\n",
      "<class 'dowhy.causal_estimator.CausalEstimate'>\n",
      "The current estimator: Estimator(name='backdoor.propensity_score_matching', params={'init_params': {}})\n",
      "estimator.params {'init_params': {}}\n"
     ]
    },
    {
     "name": "stderr",
     "output_type": "stream",
     "text": [
      "INFO:dowhy.causal_estimator:INFO: Using Propensity Score Weighting Estimator\n",
      "INFO:dowhy.causal_estimator:b: y~t1+w3+w2\n",
      "INFO:dowhy.causal_estimator:INFO: Using EconML Estimator\n",
      "WARNING:dowhy.causal_estimator:Effect modifiers are not a subset of common causes. For efficiency in estimation, EconML will consider all effect modifiers as common causes too.\n",
      "INFO:dowhy.causal_estimator:b: y~t1+w3+w2+x1+x2 | x1,x2\n"
     ]
    },
    {
     "name": "stdout",
     "output_type": "stream",
     "text": [
      "printing estimate's type\n",
      "<class 'dowhy.causal_estimator.CausalEstimate'>\n",
      "The current estimator: Estimator(name='backdoor.propensity_score_weighting', params={'init_params': {}})\n",
      "estimator.params {'init_params': {}}\n",
      "printing estimate's type\n",
      "<class 'dowhy.causal_estimator.CausalEstimate'>\n",
      "The current estimator: Estimator(name='backdoor.econml.dml.DML', params={'init_params': {'model_y': GradientBoostingRegressor(), 'model_t': GradientBoostingRegressor(), 'model_final': LassoCV(), 'featurizer': PolynomialFeatures(degree=1)}, 'fit_params': {}, '_econml_methodname': 'econml.dml.DML'})\n",
      "estimator.params {'init_params': {'model_y': GradientBoostingRegressor(), 'model_t': GradientBoostingRegressor(), 'model_final': LassoCV(), 'featurizer': PolynomialFeatures(degree=1)}, 'fit_params': {}, '_econml_methodname': 'econml.dml.DML'}\n"
     ]
    },
    {
     "name": "stderr",
     "output_type": "stream",
     "text": [
      "INFO:dowhy.causal_estimator:INFO: Using EconML Estimator\n",
      "WARNING:dowhy.causal_estimator:Effect modifiers are not a subset of common causes. For efficiency in estimation, EconML will consider all effect modifiers as common causes too.\n",
      "INFO:dowhy.causal_estimator:b: y~t1+w3+w2+x1+x2 | x1,x2\n"
     ]
    },
    {
     "name": "stdout",
     "output_type": "stream",
     "text": [
      "printing estimate's type\n",
      "<class 'dowhy.causal_estimator.CausalEstimate'>\n",
      "The current estimator: Estimator(name='backdoor.econml.drlearner.LinearDRLearner', params={'init_params': {'model_propensity': LogisticRegressionCV(cv=3)}, 'fit_params': {}, '_econml_methodname': 'econml.drlearner.LinearDRLearner'})\n",
      "estimator.params {'init_params': {'model_propensity': LogisticRegressionCV(cv=3)}, 'fit_params': {}, '_econml_methodname': 'econml.drlearner.LinearDRLearner'}\n"
     ]
    },
    {
     "name": "stderr",
     "output_type": "stream",
     "text": [
      "INFO:dowhy.causal_refuter:All variables required: Running bootstrap adding noise to confounders, instrumental variables and effect modifiers.\n",
      "INFO:dowhy.causal_refuters.dummy_outcome_refuter:Refutation over 5 simulated datasets\n",
      "INFO:dowhy.causal_refuters.dummy_outcome_refuter:The transformation passed: [('random_forest', {'n_estimators': 100, 'max_depth': 6})]\n"
     ]
    },
    {
     "name": "stdout",
     "output_type": "stream",
     "text": [
      "printing estimate's type\n",
      "<class 'dowhy.causal_estimator.CausalEstimate'>\n",
      "estimate_values [72.85058217295, 80.50911773504451, 72.74528438767814, 76.47320141382123, 72.1119293553635]\n",
      "\n",
      "\n",
      "Running the refuters:\n",
      "\n",
      "The current refuter: Refuter(name='dummy_outcome_refuter', params={'num_simulations': 5, 'transformation_list': [('random_forest', {'n_estimators': 100, 'max_depth': 6})], 'true_causal_effect': <function <lambda> at 0x0000022829325828>})\n"
     ]
    },
    {
     "name": "stderr",
     "output_type": "stream",
     "text": [
      "INFO:dowhy.causal_estimator:b: dummy_outcome~t1+w3+w2+t1*x1+t1*x2\n",
      "INFO:dowhy.causal_estimator:INFO: Using Linear Regression Estimator\n",
      "INFO:dowhy.causal_estimator:b: dummy_outcome~t1+w3+w2+t1*x1+t1*x2\n",
      "INFO:dowhy.causal_estimator:INFO: Using Linear Regression Estimator\n",
      "INFO:dowhy.causal_estimator:b: dummy_outcome~t1+w3+w2+t1*x1+t1*x2\n",
      "INFO:dowhy.causal_estimator:INFO: Using Linear Regression Estimator\n",
      "INFO:dowhy.causal_estimator:b: dummy_outcome~t1+w3+w2+t1*x1+t1*x2\n",
      "INFO:dowhy.causal_estimator:INFO: Using Linear Regression Estimator\n",
      "INFO:dowhy.causal_estimator:b: dummy_outcome~t1+w3+w2+t1*x1+t1*x2\n",
      "INFO:dowhy.causal_estimator:INFO: Using Linear Regression Estimator\n",
      "INFO:dowhy.causal_estimator:b: dummy_outcome~t1+w3+w2+t1*x1+t1*x2\n",
      "INFO:dowhy.causal_estimator:INFO: Using Linear Regression Estimator\n",
      "INFO:dowhy.causal_estimator:b: dummy_outcome~t1+w3+w2+t1*x1+t1*x2\n",
      "INFO:dowhy.causal_estimator:INFO: Using Linear Regression Estimator\n",
      "INFO:dowhy.causal_estimator:b: dummy_outcome~t1+w3+w2+t1*x1+t1*x2\n",
      "INFO:dowhy.causal_estimator:INFO: Using Linear Regression Estimator\n",
      "INFO:dowhy.causal_estimator:b: dummy_outcome~t1+w3+w2+t1*x1+t1*x2\n",
      "INFO:dowhy.causal_estimator:INFO: Using Linear Regression Estimator\n",
      "INFO:dowhy.causal_estimator:b: dummy_outcome~t1+w3+w2+t1*x1+t1*x2\n",
      "INFO:dowhy.causal_estimator:INFO: Using Linear Regression Estimator\n",
      "WARNING:dowhy.causal_refuters.dummy_outcome_refuter:We assume a Normal Distribution as the sample has less than 100 examples.\n",
      "                 Note: The underlying distribution may not be Normal. We assume that it approaches normal with the increase in sample size.\n",
      "WARNING:dowhy.causal_refuters.dummy_outcome_refuter:We assume a Normal Distribution as the sample has less than 100 examples.\n",
      "                 Note: The underlying distribution may not be Normal. We assume that it approaches normal with the increase in sample size.\n",
      "INFO:dowhy.causal_refuter:All variables required: Running bootstrap adding noise to confounders, instrumental variables and effect modifiers.\n",
      "INFO:dowhy.causal_refuters.dummy_outcome_refuter:Refutation over 5 simulated datasets\n",
      "INFO:dowhy.causal_refuters.dummy_outcome_refuter:The transformation passed: [('random_forest', {'n_estimators': 100, 'max_depth': 6})]\n"
     ]
    },
    {
     "name": "stdout",
     "output_type": "stream",
     "text": [
      "printing refute's type\n",
      "<class 'list'>\n"
     ]
    },
    {
     "name": "stderr",
     "output_type": "stream",
     "text": [
      "INFO:dowhy.causal_estimator:INFO: Using Propensity Score Matching Estimator\n",
      "INFO:dowhy.causal_estimator:b: dummy_outcome~t1+w3+w2\n",
      "INFO:dowhy.causal_estimator:INFO: Using Propensity Score Matching Estimator\n",
      "INFO:dowhy.causal_estimator:b: dummy_outcome~t1+w3+w2\n",
      "INFO:dowhy.causal_estimator:INFO: Using Propensity Score Matching Estimator\n",
      "INFO:dowhy.causal_estimator:b: dummy_outcome~t1+w3+w2\n",
      "INFO:dowhy.causal_estimator:INFO: Using Propensity Score Matching Estimator\n",
      "INFO:dowhy.causal_estimator:b: dummy_outcome~t1+w3+w2\n",
      "INFO:dowhy.causal_estimator:INFO: Using Propensity Score Matching Estimator\n",
      "INFO:dowhy.causal_estimator:b: dummy_outcome~t1+w3+w2\n",
      "INFO:dowhy.causal_estimator:INFO: Using Propensity Score Matching Estimator\n",
      "INFO:dowhy.causal_estimator:b: dummy_outcome~t1+w3+w2\n",
      "INFO:dowhy.causal_estimator:INFO: Using Propensity Score Matching Estimator\n",
      "INFO:dowhy.causal_estimator:b: dummy_outcome~t1+w3+w2\n",
      "INFO:dowhy.causal_estimator:INFO: Using Propensity Score Matching Estimator\n",
      "INFO:dowhy.causal_estimator:b: dummy_outcome~t1+w3+w2\n",
      "INFO:dowhy.causal_estimator:INFO: Using Propensity Score Matching Estimator\n",
      "INFO:dowhy.causal_estimator:b: dummy_outcome~t1+w3+w2\n",
      "INFO:dowhy.causal_estimator:INFO: Using Propensity Score Matching Estimator\n",
      "INFO:dowhy.causal_estimator:b: dummy_outcome~t1+w3+w2\n",
      "WARNING:dowhy.causal_refuters.dummy_outcome_refuter:We assume a Normal Distribution as the sample has less than 100 examples.\n",
      "                 Note: The underlying distribution may not be Normal. We assume that it approaches normal with the increase in sample size.\n",
      "WARNING:dowhy.causal_refuters.dummy_outcome_refuter:We assume a Normal Distribution as the sample has less than 100 examples.\n",
      "                 Note: The underlying distribution may not be Normal. We assume that it approaches normal with the increase in sample size.\n",
      "INFO:dowhy.causal_refuter:All variables required: Running bootstrap adding noise to confounders, instrumental variables and effect modifiers.\n",
      "INFO:dowhy.causal_refuters.dummy_outcome_refuter:Refutation over 5 simulated datasets\n",
      "INFO:dowhy.causal_refuters.dummy_outcome_refuter:The transformation passed: [('random_forest', {'n_estimators': 100, 'max_depth': 6})]\n"
     ]
    },
    {
     "name": "stdout",
     "output_type": "stream",
     "text": [
      "printing refute's type\n",
      "<class 'list'>\n"
     ]
    },
    {
     "name": "stderr",
     "output_type": "stream",
     "text": [
      "INFO:dowhy.causal_estimator:INFO: Using Propensity Score Weighting Estimator\n",
      "INFO:dowhy.causal_estimator:b: dummy_outcome~t1+w3+w2\n",
      "INFO:dowhy.causal_estimator:INFO: Using Propensity Score Weighting Estimator\n",
      "INFO:dowhy.causal_estimator:b: dummy_outcome~t1+w3+w2\n",
      "INFO:dowhy.causal_estimator:INFO: Using Propensity Score Weighting Estimator\n",
      "INFO:dowhy.causal_estimator:b: dummy_outcome~t1+w3+w2\n",
      "INFO:dowhy.causal_estimator:INFO: Using Propensity Score Weighting Estimator\n",
      "INFO:dowhy.causal_estimator:b: dummy_outcome~t1+w3+w2\n",
      "INFO:dowhy.causal_estimator:INFO: Using Propensity Score Weighting Estimator\n",
      "INFO:dowhy.causal_estimator:b: dummy_outcome~t1+w3+w2\n",
      "INFO:dowhy.causal_estimator:INFO: Using Propensity Score Weighting Estimator\n",
      "INFO:dowhy.causal_estimator:b: dummy_outcome~t1+w3+w2\n",
      "INFO:dowhy.causal_estimator:INFO: Using Propensity Score Weighting Estimator\n",
      "INFO:dowhy.causal_estimator:b: dummy_outcome~t1+w3+w2\n",
      "INFO:dowhy.causal_estimator:INFO: Using Propensity Score Weighting Estimator\n",
      "INFO:dowhy.causal_estimator:b: dummy_outcome~t1+w3+w2\n",
      "INFO:dowhy.causal_estimator:INFO: Using Propensity Score Weighting Estimator\n",
      "INFO:dowhy.causal_estimator:b: dummy_outcome~t1+w3+w2\n",
      "INFO:dowhy.causal_estimator:INFO: Using Propensity Score Weighting Estimator\n",
      "INFO:dowhy.causal_estimator:b: dummy_outcome~t1+w3+w2\n",
      "WARNING:dowhy.causal_refuters.dummy_outcome_refuter:We assume a Normal Distribution as the sample has less than 100 examples.\n",
      "                 Note: The underlying distribution may not be Normal. We assume that it approaches normal with the increase in sample size.\n",
      "WARNING:dowhy.causal_refuters.dummy_outcome_refuter:We assume a Normal Distribution as the sample has less than 100 examples.\n",
      "                 Note: The underlying distribution may not be Normal. We assume that it approaches normal with the increase in sample size.\n",
      "INFO:dowhy.causal_refuter:All variables required: Running bootstrap adding noise to confounders, instrumental variables and effect modifiers.\n",
      "INFO:dowhy.causal_refuters.dummy_outcome_refuter:Refutation over 5 simulated datasets\n",
      "INFO:dowhy.causal_refuters.dummy_outcome_refuter:The transformation passed: [('random_forest', {'n_estimators': 100, 'max_depth': 6})]\n"
     ]
    },
    {
     "name": "stdout",
     "output_type": "stream",
     "text": [
      "printing refute's type\n",
      "<class 'list'>\n"
     ]
    },
    {
     "name": "stderr",
     "output_type": "stream",
     "text": [
      "INFO:dowhy.causal_estimator:INFO: Using EconML Estimator\n",
      "WARNING:dowhy.causal_estimator:Effect modifiers are not a subset of common causes. For efficiency in estimation, EconML will consider all effect modifiers as common causes too.\n",
      "INFO:dowhy.causal_estimator:b: dummy_outcome~t1+w3+w2+x1+x2 | x1,x2\n",
      "INFO:dowhy.causal_estimator:INFO: Using EconML Estimator\n",
      "WARNING:dowhy.causal_estimator:Effect modifiers are not a subset of common causes. For efficiency in estimation, EconML will consider all effect modifiers as common causes too.\n",
      "INFO:dowhy.causal_estimator:b: dummy_outcome~t1+w3+w2+x1+x2 | x1,x2\n",
      "INFO:dowhy.causal_estimator:INFO: Using EconML Estimator\n",
      "WARNING:dowhy.causal_estimator:Effect modifiers are not a subset of common causes. For efficiency in estimation, EconML will consider all effect modifiers as common causes too.\n",
      "INFO:dowhy.causal_estimator:b: dummy_outcome~t1+w3+w2+x1+x2 | x1,x2\n",
      "INFO:dowhy.causal_estimator:INFO: Using EconML Estimator\n",
      "WARNING:dowhy.causal_estimator:Effect modifiers are not a subset of common causes. For efficiency in estimation, EconML will consider all effect modifiers as common causes too.\n",
      "INFO:dowhy.causal_estimator:b: dummy_outcome~t1+w3+w2+x1+x2 | x1,x2\n",
      "INFO:dowhy.causal_estimator:INFO: Using EconML Estimator\n",
      "WARNING:dowhy.causal_estimator:Effect modifiers are not a subset of common causes. For efficiency in estimation, EconML will consider all effect modifiers as common causes too.\n",
      "INFO:dowhy.causal_estimator:b: dummy_outcome~t1+w3+w2+x1+x2 | x1,x2\n",
      "INFO:dowhy.causal_estimator:INFO: Using EconML Estimator\n",
      "WARNING:dowhy.causal_estimator:Effect modifiers are not a subset of common causes. For efficiency in estimation, EconML will consider all effect modifiers as common causes too.\n",
      "INFO:dowhy.causal_estimator:b: dummy_outcome~t1+w3+w2+x1+x2 | x1,x2\n",
      "INFO:dowhy.causal_estimator:INFO: Using EconML Estimator\n",
      "WARNING:dowhy.causal_estimator:Effect modifiers are not a subset of common causes. For efficiency in estimation, EconML will consider all effect modifiers as common causes too.\n",
      "INFO:dowhy.causal_estimator:b: dummy_outcome~t1+w3+w2+x1+x2 | x1,x2\n",
      "INFO:dowhy.causal_estimator:INFO: Using EconML Estimator\n",
      "WARNING:dowhy.causal_estimator:Effect modifiers are not a subset of common causes. For efficiency in estimation, EconML will consider all effect modifiers as common causes too.\n",
      "INFO:dowhy.causal_estimator:b: dummy_outcome~t1+w3+w2+x1+x2 | x1,x2\n",
      "INFO:dowhy.causal_estimator:INFO: Using EconML Estimator\n",
      "WARNING:dowhy.causal_estimator:Effect modifiers are not a subset of common causes. For efficiency in estimation, EconML will consider all effect modifiers as common causes too.\n",
      "INFO:dowhy.causal_estimator:b: dummy_outcome~t1+w3+w2+x1+x2 | x1,x2\n",
      "INFO:dowhy.causal_estimator:INFO: Using EconML Estimator\n",
      "WARNING:dowhy.causal_estimator:Effect modifiers are not a subset of common causes. For efficiency in estimation, EconML will consider all effect modifiers as common causes too.\n",
      "INFO:dowhy.causal_estimator:b: dummy_outcome~t1+w3+w2+x1+x2 | x1,x2\n",
      "WARNING:dowhy.causal_refuters.dummy_outcome_refuter:We assume a Normal Distribution as the sample has less than 100 examples.\n",
      "                 Note: The underlying distribution may not be Normal. We assume that it approaches normal with the increase in sample size.\n",
      "WARNING:dowhy.causal_refuters.dummy_outcome_refuter:We assume a Normal Distribution as the sample has less than 100 examples.\n",
      "                 Note: The underlying distribution may not be Normal. We assume that it approaches normal with the increase in sample size.\n",
      "INFO:dowhy.causal_refuter:All variables required: Running bootstrap adding noise to confounders, instrumental variables and effect modifiers.\n",
      "INFO:dowhy.causal_refuters.dummy_outcome_refuter:Refutation over 5 simulated datasets\n",
      "INFO:dowhy.causal_refuters.dummy_outcome_refuter:The transformation passed: [('random_forest', {'n_estimators': 100, 'max_depth': 6})]\n"
     ]
    },
    {
     "name": "stdout",
     "output_type": "stream",
     "text": [
      "printing refute's type\n",
      "<class 'list'>\n"
     ]
    },
    {
     "name": "stderr",
     "output_type": "stream",
     "text": [
      "INFO:dowhy.causal_estimator:INFO: Using EconML Estimator\n",
      "WARNING:dowhy.causal_estimator:Effect modifiers are not a subset of common causes. For efficiency in estimation, EconML will consider all effect modifiers as common causes too.\n",
      "INFO:dowhy.causal_estimator:b: dummy_outcome~t1+w3+w2+x1+x2 | x1,x2\n",
      "INFO:dowhy.causal_estimator:INFO: Using EconML Estimator\n",
      "WARNING:dowhy.causal_estimator:Effect modifiers are not a subset of common causes. For efficiency in estimation, EconML will consider all effect modifiers as common causes too.\n",
      "INFO:dowhy.causal_estimator:b: dummy_outcome~t1+w3+w2+x1+x2 | x1,x2\n",
      "INFO:dowhy.causal_estimator:INFO: Using EconML Estimator\n",
      "WARNING:dowhy.causal_estimator:Effect modifiers are not a subset of common causes. For efficiency in estimation, EconML will consider all effect modifiers as common causes too.\n",
      "INFO:dowhy.causal_estimator:b: dummy_outcome~t1+w3+w2+x1+x2 | x1,x2\n",
      "INFO:dowhy.causal_estimator:INFO: Using EconML Estimator\n",
      "WARNING:dowhy.causal_estimator:Effect modifiers are not a subset of common causes. For efficiency in estimation, EconML will consider all effect modifiers as common causes too.\n",
      "INFO:dowhy.causal_estimator:b: dummy_outcome~t1+w3+w2+x1+x2 | x1,x2\n",
      "INFO:dowhy.causal_estimator:INFO: Using EconML Estimator\n",
      "WARNING:dowhy.causal_estimator:Effect modifiers are not a subset of common causes. For efficiency in estimation, EconML will consider all effect modifiers as common causes too.\n",
      "INFO:dowhy.causal_estimator:b: dummy_outcome~t1+w3+w2+x1+x2 | x1,x2\n",
      "INFO:dowhy.causal_estimator:INFO: Using EconML Estimator\n",
      "WARNING:dowhy.causal_estimator:Effect modifiers are not a subset of common causes. For efficiency in estimation, EconML will consider all effect modifiers as common causes too.\n",
      "INFO:dowhy.causal_estimator:b: dummy_outcome~t1+w3+w2+x1+x2 | x1,x2\n",
      "INFO:dowhy.causal_estimator:INFO: Using EconML Estimator\n",
      "WARNING:dowhy.causal_estimator:Effect modifiers are not a subset of common causes. For efficiency in estimation, EconML will consider all effect modifiers as common causes too.\n",
      "INFO:dowhy.causal_estimator:b: dummy_outcome~t1+w3+w2+x1+x2 | x1,x2\n",
      "INFO:dowhy.causal_estimator:INFO: Using EconML Estimator\n",
      "WARNING:dowhy.causal_estimator:Effect modifiers are not a subset of common causes. For efficiency in estimation, EconML will consider all effect modifiers as common causes too.\n",
      "INFO:dowhy.causal_estimator:b: dummy_outcome~t1+w3+w2+x1+x2 | x1,x2\n",
      "INFO:dowhy.causal_estimator:INFO: Using EconML Estimator\n",
      "WARNING:dowhy.causal_estimator:Effect modifiers are not a subset of common causes. For efficiency in estimation, EconML will consider all effect modifiers as common causes too.\n",
      "INFO:dowhy.causal_estimator:b: dummy_outcome~t1+w3+w2+x1+x2 | x1,x2\n",
      "INFO:dowhy.causal_estimator:INFO: Using EconML Estimator\n",
      "WARNING:dowhy.causal_estimator:Effect modifiers are not a subset of common causes. For efficiency in estimation, EconML will consider all effect modifiers as common causes too.\n",
      "INFO:dowhy.causal_estimator:b: dummy_outcome~t1+w3+w2+x1+x2 | x1,x2\n",
      "WARNING:dowhy.causal_refuters.dummy_outcome_refuter:We assume a Normal Distribution as the sample has less than 100 examples.\n",
      "                 Note: The underlying distribution may not be Normal. We assume that it approaches normal with the increase in sample size.\n",
      "WARNING:dowhy.causal_refuters.dummy_outcome_refuter:We assume a Normal Distribution as the sample has less than 100 examples.\n",
      "                 Note: The underlying distribution may not be Normal. We assume that it approaches normal with the increase in sample size.\n",
      "WARNING:dowhy.causal_model:Causal Graph not provided. DoWhy will construct a graph based on data inputs.\n",
      "INFO:dowhy.causal_graph:If this is observed data (not from a randomized experiment), there might always be missing confounders. Adding a node named \"Unobserved Confounders\" to reflect this.\n",
      "INFO:dowhy.causal_model:Model to find the causal effect of treatment ['t1'] on outcome ['y']\n",
      "WARNING:dowhy.causal_identifier:If this is observed data (not from a randomized experiment), there might always be missing confounders. Causal effect cannot be identified perfectly.\n",
      "INFO:dowhy.causal_identifier:Continuing by ignoring these unobserved confounders because proceed_when_unidentifiable flag is True.\n",
      "INFO:dowhy.causal_identifier:Instrumental variables for treatment and outcome:[]\n",
      "INFO:dowhy.causal_identifier:Frontdoor variables for treatment and outcome:[]\n",
      "INFO:dowhy.causal_estimator:b: y~t1+w3+w2+t1*x1+t1*x2\n",
      "INFO:dowhy.causal_estimator:INFO: Using Linear Regression Estimator\n",
      "INFO:dowhy.causal_estimator:INFO: Using Propensity Score Matching Estimator\n",
      "INFO:dowhy.causal_estimator:b: y~t1+w3+w2\n"
     ]
    },
    {
     "name": "stdout",
     "output_type": "stream",
     "text": [
      "printing refute's type\n",
      "<class 'list'>\n",
      "estimated effect [0.5, 0.5, 0.5, 0.5, 0.5]\n",
      "new_effect [0.43811190164533054, 2.1712179181740945, 2.302718564265935, -0.08152204894251865, -0.44616894351388214]\n",
      "p_value [0.48641712532412784, 0.3566563654472135, 0.30797783844330645, 0.3157460634739604, 0.10448059058974923]\n",
      "true value -0.49785393681358786\n",
      "\n",
      "\n",
      "Running Experiment Number: 3\n",
      "\n",
      "\n",
      "Current Sample Size: 1000\n",
      "\n",
      "\n",
      "The current DGP:\n",
      "\n",
      "        Linear Data Generating Process\n",
      "        -------------------------------\n",
      "        \n",
      "        treatment:['t1']\n",
      "        outcome:['y']\n",
      "        confounder: ['w1', 'w2', 'w3', 'w4', 'w5', 'w6']\n",
      "        effect_modifier: ['x1', 'x2']\n",
      "        weights: {'confounder=>treatment': array([[ 1.00591399e+02],\n",
      "       [-1.08380637e+00],\n",
      "       [-4.01560500e-01],\n",
      "       [-1.15845280e+00],\n",
      "       [-7.73616095e-01],\n",
      "       [ 9.93766450e-02]]), 'confounder=>outcome': array([[100.1549028 ],\n",
      "       [  0.31272476],\n",
      "       [  0.61218722],\n",
      "       [ -0.6274065 ],\n",
      "       [  0.93148437],\n",
      "       [ -1.21316224]]), 'effect_modifier=>outcome': array([[-0.30800507],\n",
      "       [-0.82801053]]), 'treatment=>outcome': array([[-0.49785394]])}\n",
      "        bias: {'confounder=>treatment': array([1.59320154]), 'confounder=>outcome': array([-0.78734717])}\n",
      "        seed: None\n",
      "        treatment_is_binary: True\n",
      "        percentile: 0.9\n",
      "        \n",
      "printing data shape\n",
      "(1000, 10)\n",
      "[-0.73401559]\n",
      "check\n",
      "printing length of confounder list: 2\n",
      "printing confounder list: ['w2', 'w3']\n",
      "data columns\n",
      "data columns Index(['x1', 'x2', 'w1', 'w2', 'w3', 'w4', 'w5', 'w6', 't1', 'y'], dtype='object')\n",
      "identified_estimand: Estimand type: nonparametric-ate\n",
      "\n",
      "### Estimand : 1\n",
      "Estimand name: backdoor1 (Default)\n",
      "Estimand expression:\n",
      "  d                        \n",
      "─────(Expectation(y|w3,w2))\n",
      "d[t₁]                      \n",
      "Estimand assumption 1, Unconfoundedness: If U→{t1} and U→y then P(y|t1,w3,w2,U) = P(y|t1,w3,w2)\n",
      "\n",
      "### Estimand : 2\n",
      "Estimand name: iv\n",
      "No such variable found!\n",
      "\n",
      "### Estimand : 3\n",
      "Estimand name: frontdoor\n",
      "No such variable found!\n",
      "\n",
      "\n",
      "\n",
      "Running the estimators:\n",
      "\n",
      "The current estimator: Estimator(name='backdoor.linear_regression', params=None)\n",
      "estimator.params None\n",
      "printing estimate's type\n",
      "<class 'dowhy.causal_estimator.CausalEstimate'>\n",
      "The current estimator: Estimator(name='backdoor.propensity_score_matching', params={'init_params': {}})\n",
      "estimator.params {'init_params': {}}\n"
     ]
    },
    {
     "name": "stderr",
     "output_type": "stream",
     "text": [
      "INFO:dowhy.causal_estimator:INFO: Using Propensity Score Weighting Estimator\n",
      "INFO:dowhy.causal_estimator:b: y~t1+w3+w2\n",
      "INFO:dowhy.causal_estimator:INFO: Using EconML Estimator\n",
      "WARNING:dowhy.causal_estimator:Effect modifiers are not a subset of common causes. For efficiency in estimation, EconML will consider all effect modifiers as common causes too.\n",
      "INFO:dowhy.causal_estimator:b: y~t1+w3+w2+x1+x2 | x1,x2\n"
     ]
    },
    {
     "name": "stdout",
     "output_type": "stream",
     "text": [
      "printing estimate's type\n",
      "<class 'dowhy.causal_estimator.CausalEstimate'>\n",
      "The current estimator: Estimator(name='backdoor.propensity_score_weighting', params={'init_params': {}})\n",
      "estimator.params {'init_params': {}}\n",
      "printing estimate's type\n",
      "<class 'dowhy.causal_estimator.CausalEstimate'>\n",
      "The current estimator: Estimator(name='backdoor.econml.dml.DML', params={'init_params': {'model_y': GradientBoostingRegressor(), 'model_t': GradientBoostingRegressor(), 'model_final': LassoCV(), 'featurizer': PolynomialFeatures(degree=1)}, 'fit_params': {}, '_econml_methodname': 'econml.dml.DML'})\n",
      "estimator.params {'init_params': {'model_y': GradientBoostingRegressor(), 'model_t': GradientBoostingRegressor(), 'model_final': LassoCV(), 'featurizer': PolynomialFeatures(degree=1)}, 'fit_params': {}, '_econml_methodname': 'econml.dml.DML'}\n"
     ]
    },
    {
     "name": "stderr",
     "output_type": "stream",
     "text": [
      "INFO:dowhy.causal_estimator:INFO: Using EconML Estimator\n",
      "WARNING:dowhy.causal_estimator:Effect modifiers are not a subset of common causes. For efficiency in estimation, EconML will consider all effect modifiers as common causes too.\n",
      "INFO:dowhy.causal_estimator:b: y~t1+w3+w2+x1+x2 | x1,x2\n"
     ]
    },
    {
     "name": "stdout",
     "output_type": "stream",
     "text": [
      "printing estimate's type\n",
      "<class 'dowhy.causal_estimator.CausalEstimate'>\n",
      "The current estimator: Estimator(name='backdoor.econml.drlearner.LinearDRLearner', params={'init_params': {'model_propensity': LogisticRegressionCV(cv=3)}, 'fit_params': {}, '_econml_methodname': 'econml.drlearner.LinearDRLearner'})\n",
      "estimator.params {'init_params': {'model_propensity': LogisticRegressionCV(cv=3)}, 'fit_params': {}, '_econml_methodname': 'econml.drlearner.LinearDRLearner'}\n"
     ]
    },
    {
     "name": "stderr",
     "output_type": "stream",
     "text": [
      "INFO:dowhy.causal_refuter:All variables required: Running bootstrap adding noise to confounders, instrumental variables and effect modifiers.\n",
      "INFO:dowhy.causal_refuters.dummy_outcome_refuter:Refutation over 5 simulated datasets\n",
      "INFO:dowhy.causal_refuters.dummy_outcome_refuter:The transformation passed: [('random_forest', {'n_estimators': 100, 'max_depth': 6})]\n"
     ]
    },
    {
     "name": "stdout",
     "output_type": "stream",
     "text": [
      "printing estimate's type\n",
      "<class 'dowhy.causal_estimator.CausalEstimate'>\n",
      "estimate_values [60.02975557892618, 56.948298789802415, 59.77390172578493, 51.12301004634185, 59.96223364554626]\n",
      "\n",
      "\n",
      "Running the refuters:\n",
      "\n",
      "The current refuter: Refuter(name='dummy_outcome_refuter', params={'num_simulations': 5, 'transformation_list': [('random_forest', {'n_estimators': 100, 'max_depth': 6})], 'true_causal_effect': <function <lambda> at 0x0000022829325828>})\n"
     ]
    },
    {
     "name": "stderr",
     "output_type": "stream",
     "text": [
      "INFO:dowhy.causal_estimator:b: dummy_outcome~t1+w3+w2+t1*x1+t1*x2\n",
      "INFO:dowhy.causal_estimator:INFO: Using Linear Regression Estimator\n",
      "INFO:dowhy.causal_estimator:b: dummy_outcome~t1+w3+w2+t1*x1+t1*x2\n",
      "INFO:dowhy.causal_estimator:INFO: Using Linear Regression Estimator\n",
      "INFO:dowhy.causal_estimator:b: dummy_outcome~t1+w3+w2+t1*x1+t1*x2\n",
      "INFO:dowhy.causal_estimator:INFO: Using Linear Regression Estimator\n",
      "INFO:dowhy.causal_estimator:b: dummy_outcome~t1+w3+w2+t1*x1+t1*x2\n",
      "INFO:dowhy.causal_estimator:INFO: Using Linear Regression Estimator\n",
      "INFO:dowhy.causal_estimator:b: dummy_outcome~t1+w3+w2+t1*x1+t1*x2\n",
      "INFO:dowhy.causal_estimator:INFO: Using Linear Regression Estimator\n",
      "INFO:dowhy.causal_estimator:b: dummy_outcome~t1+w3+w2+t1*x1+t1*x2\n",
      "INFO:dowhy.causal_estimator:INFO: Using Linear Regression Estimator\n",
      "INFO:dowhy.causal_estimator:b: dummy_outcome~t1+w3+w2+t1*x1+t1*x2\n",
      "INFO:dowhy.causal_estimator:INFO: Using Linear Regression Estimator\n",
      "INFO:dowhy.causal_estimator:b: dummy_outcome~t1+w3+w2+t1*x1+t1*x2\n",
      "INFO:dowhy.causal_estimator:INFO: Using Linear Regression Estimator\n",
      "INFO:dowhy.causal_estimator:b: dummy_outcome~t1+w3+w2+t1*x1+t1*x2\n",
      "INFO:dowhy.causal_estimator:INFO: Using Linear Regression Estimator\n",
      "INFO:dowhy.causal_estimator:b: dummy_outcome~t1+w3+w2+t1*x1+t1*x2\n",
      "INFO:dowhy.causal_estimator:INFO: Using Linear Regression Estimator\n",
      "WARNING:dowhy.causal_refuters.dummy_outcome_refuter:We assume a Normal Distribution as the sample has less than 100 examples.\n",
      "                 Note: The underlying distribution may not be Normal. We assume that it approaches normal with the increase in sample size.\n",
      "WARNING:dowhy.causal_refuters.dummy_outcome_refuter:We assume a Normal Distribution as the sample has less than 100 examples.\n",
      "                 Note: The underlying distribution may not be Normal. We assume that it approaches normal with the increase in sample size.\n",
      "INFO:dowhy.causal_refuter:All variables required: Running bootstrap adding noise to confounders, instrumental variables and effect modifiers.\n",
      "INFO:dowhy.causal_refuters.dummy_outcome_refuter:Refutation over 5 simulated datasets\n",
      "INFO:dowhy.causal_refuters.dummy_outcome_refuter:The transformation passed: [('random_forest', {'n_estimators': 100, 'max_depth': 6})]\n"
     ]
    },
    {
     "name": "stdout",
     "output_type": "stream",
     "text": [
      "printing refute's type\n",
      "<class 'list'>\n"
     ]
    },
    {
     "name": "stderr",
     "output_type": "stream",
     "text": [
      "INFO:dowhy.causal_estimator:INFO: Using Propensity Score Matching Estimator\n",
      "INFO:dowhy.causal_estimator:b: dummy_outcome~t1+w3+w2\n",
      "INFO:dowhy.causal_estimator:INFO: Using Propensity Score Matching Estimator\n",
      "INFO:dowhy.causal_estimator:b: dummy_outcome~t1+w3+w2\n",
      "INFO:dowhy.causal_estimator:INFO: Using Propensity Score Matching Estimator\n",
      "INFO:dowhy.causal_estimator:b: dummy_outcome~t1+w3+w2\n",
      "INFO:dowhy.causal_estimator:INFO: Using Propensity Score Matching Estimator\n",
      "INFO:dowhy.causal_estimator:b: dummy_outcome~t1+w3+w2\n",
      "INFO:dowhy.causal_estimator:INFO: Using Propensity Score Matching Estimator\n",
      "INFO:dowhy.causal_estimator:b: dummy_outcome~t1+w3+w2\n",
      "INFO:dowhy.causal_estimator:INFO: Using Propensity Score Matching Estimator\n",
      "INFO:dowhy.causal_estimator:b: dummy_outcome~t1+w3+w2\n",
      "INFO:dowhy.causal_estimator:INFO: Using Propensity Score Matching Estimator\n",
      "INFO:dowhy.causal_estimator:b: dummy_outcome~t1+w3+w2\n",
      "INFO:dowhy.causal_estimator:INFO: Using Propensity Score Matching Estimator\n",
      "INFO:dowhy.causal_estimator:b: dummy_outcome~t1+w3+w2\n",
      "INFO:dowhy.causal_estimator:INFO: Using Propensity Score Matching Estimator\n",
      "INFO:dowhy.causal_estimator:b: dummy_outcome~t1+w3+w2\n",
      "INFO:dowhy.causal_estimator:INFO: Using Propensity Score Matching Estimator\n",
      "INFO:dowhy.causal_estimator:b: dummy_outcome~t1+w3+w2\n",
      "WARNING:dowhy.causal_refuters.dummy_outcome_refuter:We assume a Normal Distribution as the sample has less than 100 examples.\n",
      "                 Note: The underlying distribution may not be Normal. We assume that it approaches normal with the increase in sample size.\n",
      "WARNING:dowhy.causal_refuters.dummy_outcome_refuter:We assume a Normal Distribution as the sample has less than 100 examples.\n",
      "                 Note: The underlying distribution may not be Normal. We assume that it approaches normal with the increase in sample size.\n",
      "INFO:dowhy.causal_refuter:All variables required: Running bootstrap adding noise to confounders, instrumental variables and effect modifiers.\n",
      "INFO:dowhy.causal_refuters.dummy_outcome_refuter:Refutation over 5 simulated datasets\n",
      "INFO:dowhy.causal_refuters.dummy_outcome_refuter:The transformation passed: [('random_forest', {'n_estimators': 100, 'max_depth': 6})]\n"
     ]
    },
    {
     "name": "stdout",
     "output_type": "stream",
     "text": [
      "printing refute's type\n",
      "<class 'list'>\n"
     ]
    },
    {
     "name": "stderr",
     "output_type": "stream",
     "text": [
      "INFO:dowhy.causal_estimator:INFO: Using Propensity Score Weighting Estimator\n",
      "INFO:dowhy.causal_estimator:b: dummy_outcome~t1+w3+w2\n",
      "INFO:dowhy.causal_estimator:INFO: Using Propensity Score Weighting Estimator\n",
      "INFO:dowhy.causal_estimator:b: dummy_outcome~t1+w3+w2\n",
      "INFO:dowhy.causal_estimator:INFO: Using Propensity Score Weighting Estimator\n",
      "INFO:dowhy.causal_estimator:b: dummy_outcome~t1+w3+w2\n",
      "INFO:dowhy.causal_estimator:INFO: Using Propensity Score Weighting Estimator\n",
      "INFO:dowhy.causal_estimator:b: dummy_outcome~t1+w3+w2\n",
      "INFO:dowhy.causal_estimator:INFO: Using Propensity Score Weighting Estimator\n",
      "INFO:dowhy.causal_estimator:b: dummy_outcome~t1+w3+w2\n",
      "INFO:dowhy.causal_estimator:INFO: Using Propensity Score Weighting Estimator\n",
      "INFO:dowhy.causal_estimator:b: dummy_outcome~t1+w3+w2\n",
      "INFO:dowhy.causal_estimator:INFO: Using Propensity Score Weighting Estimator\n",
      "INFO:dowhy.causal_estimator:b: dummy_outcome~t1+w3+w2\n",
      "INFO:dowhy.causal_estimator:INFO: Using Propensity Score Weighting Estimator\n",
      "INFO:dowhy.causal_estimator:b: dummy_outcome~t1+w3+w2\n",
      "INFO:dowhy.causal_estimator:INFO: Using Propensity Score Weighting Estimator\n",
      "INFO:dowhy.causal_estimator:b: dummy_outcome~t1+w3+w2\n",
      "INFO:dowhy.causal_estimator:INFO: Using Propensity Score Weighting Estimator\n",
      "INFO:dowhy.causal_estimator:b: dummy_outcome~t1+w3+w2\n",
      "WARNING:dowhy.causal_refuters.dummy_outcome_refuter:We assume a Normal Distribution as the sample has less than 100 examples.\n",
      "                 Note: The underlying distribution may not be Normal. We assume that it approaches normal with the increase in sample size.\n",
      "WARNING:dowhy.causal_refuters.dummy_outcome_refuter:We assume a Normal Distribution as the sample has less than 100 examples.\n",
      "                 Note: The underlying distribution may not be Normal. We assume that it approaches normal with the increase in sample size.\n",
      "INFO:dowhy.causal_refuter:All variables required: Running bootstrap adding noise to confounders, instrumental variables and effect modifiers.\n",
      "INFO:dowhy.causal_refuters.dummy_outcome_refuter:Refutation over 5 simulated datasets\n",
      "INFO:dowhy.causal_refuters.dummy_outcome_refuter:The transformation passed: [('random_forest', {'n_estimators': 100, 'max_depth': 6})]\n"
     ]
    },
    {
     "name": "stdout",
     "output_type": "stream",
     "text": [
      "printing refute's type\n",
      "<class 'list'>\n"
     ]
    },
    {
     "name": "stderr",
     "output_type": "stream",
     "text": [
      "INFO:dowhy.causal_estimator:INFO: Using EconML Estimator\n",
      "WARNING:dowhy.causal_estimator:Effect modifiers are not a subset of common causes. For efficiency in estimation, EconML will consider all effect modifiers as common causes too.\n",
      "INFO:dowhy.causal_estimator:b: dummy_outcome~t1+w3+w2+x1+x2 | x1,x2\n",
      "INFO:dowhy.causal_estimator:INFO: Using EconML Estimator\n",
      "WARNING:dowhy.causal_estimator:Effect modifiers are not a subset of common causes. For efficiency in estimation, EconML will consider all effect modifiers as common causes too.\n",
      "INFO:dowhy.causal_estimator:b: dummy_outcome~t1+w3+w2+x1+x2 | x1,x2\n",
      "INFO:dowhy.causal_estimator:INFO: Using EconML Estimator\n",
      "WARNING:dowhy.causal_estimator:Effect modifiers are not a subset of common causes. For efficiency in estimation, EconML will consider all effect modifiers as common causes too.\n",
      "INFO:dowhy.causal_estimator:b: dummy_outcome~t1+w3+w2+x1+x2 | x1,x2\n",
      "INFO:dowhy.causal_estimator:INFO: Using EconML Estimator\n",
      "WARNING:dowhy.causal_estimator:Effect modifiers are not a subset of common causes. For efficiency in estimation, EconML will consider all effect modifiers as common causes too.\n",
      "INFO:dowhy.causal_estimator:b: dummy_outcome~t1+w3+w2+x1+x2 | x1,x2\n",
      "INFO:dowhy.causal_estimator:INFO: Using EconML Estimator\n",
      "WARNING:dowhy.causal_estimator:Effect modifiers are not a subset of common causes. For efficiency in estimation, EconML will consider all effect modifiers as common causes too.\n",
      "INFO:dowhy.causal_estimator:b: dummy_outcome~t1+w3+w2+x1+x2 | x1,x2\n",
      "INFO:dowhy.causal_estimator:INFO: Using EconML Estimator\n",
      "WARNING:dowhy.causal_estimator:Effect modifiers are not a subset of common causes. For efficiency in estimation, EconML will consider all effect modifiers as common causes too.\n",
      "INFO:dowhy.causal_estimator:b: dummy_outcome~t1+w3+w2+x1+x2 | x1,x2\n",
      "INFO:dowhy.causal_estimator:INFO: Using EconML Estimator\n",
      "WARNING:dowhy.causal_estimator:Effect modifiers are not a subset of common causes. For efficiency in estimation, EconML will consider all effect modifiers as common causes too.\n",
      "INFO:dowhy.causal_estimator:b: dummy_outcome~t1+w3+w2+x1+x2 | x1,x2\n",
      "INFO:dowhy.causal_estimator:INFO: Using EconML Estimator\n",
      "WARNING:dowhy.causal_estimator:Effect modifiers are not a subset of common causes. For efficiency in estimation, EconML will consider all effect modifiers as common causes too.\n",
      "INFO:dowhy.causal_estimator:b: dummy_outcome~t1+w3+w2+x1+x2 | x1,x2\n",
      "INFO:dowhy.causal_estimator:INFO: Using EconML Estimator\n",
      "WARNING:dowhy.causal_estimator:Effect modifiers are not a subset of common causes. For efficiency in estimation, EconML will consider all effect modifiers as common causes too.\n",
      "INFO:dowhy.causal_estimator:b: dummy_outcome~t1+w3+w2+x1+x2 | x1,x2\n",
      "INFO:dowhy.causal_estimator:INFO: Using EconML Estimator\n",
      "WARNING:dowhy.causal_estimator:Effect modifiers are not a subset of common causes. For efficiency in estimation, EconML will consider all effect modifiers as common causes too.\n",
      "INFO:dowhy.causal_estimator:b: dummy_outcome~t1+w3+w2+x1+x2 | x1,x2\n",
      "WARNING:dowhy.causal_refuters.dummy_outcome_refuter:We assume a Normal Distribution as the sample has less than 100 examples.\n",
      "                 Note: The underlying distribution may not be Normal. We assume that it approaches normal with the increase in sample size.\n",
      "WARNING:dowhy.causal_refuters.dummy_outcome_refuter:We assume a Normal Distribution as the sample has less than 100 examples.\n",
      "                 Note: The underlying distribution may not be Normal. We assume that it approaches normal with the increase in sample size.\n",
      "INFO:dowhy.causal_refuter:All variables required: Running bootstrap adding noise to confounders, instrumental variables and effect modifiers.\n",
      "INFO:dowhy.causal_refuters.dummy_outcome_refuter:Refutation over 5 simulated datasets\n",
      "INFO:dowhy.causal_refuters.dummy_outcome_refuter:The transformation passed: [('random_forest', {'n_estimators': 100, 'max_depth': 6})]\n"
     ]
    },
    {
     "name": "stdout",
     "output_type": "stream",
     "text": [
      "printing refute's type\n",
      "<class 'list'>\n"
     ]
    },
    {
     "name": "stderr",
     "output_type": "stream",
     "text": [
      "INFO:dowhy.causal_estimator:INFO: Using EconML Estimator\n",
      "WARNING:dowhy.causal_estimator:Effect modifiers are not a subset of common causes. For efficiency in estimation, EconML will consider all effect modifiers as common causes too.\n",
      "INFO:dowhy.causal_estimator:b: dummy_outcome~t1+w3+w2+x1+x2 | x1,x2\n",
      "INFO:dowhy.causal_estimator:INFO: Using EconML Estimator\n",
      "WARNING:dowhy.causal_estimator:Effect modifiers are not a subset of common causes. For efficiency in estimation, EconML will consider all effect modifiers as common causes too.\n",
      "INFO:dowhy.causal_estimator:b: dummy_outcome~t1+w3+w2+x1+x2 | x1,x2\n",
      "INFO:dowhy.causal_estimator:INFO: Using EconML Estimator\n",
      "WARNING:dowhy.causal_estimator:Effect modifiers are not a subset of common causes. For efficiency in estimation, EconML will consider all effect modifiers as common causes too.\n",
      "INFO:dowhy.causal_estimator:b: dummy_outcome~t1+w3+w2+x1+x2 | x1,x2\n",
      "INFO:dowhy.causal_estimator:INFO: Using EconML Estimator\n",
      "WARNING:dowhy.causal_estimator:Effect modifiers are not a subset of common causes. For efficiency in estimation, EconML will consider all effect modifiers as common causes too.\n",
      "INFO:dowhy.causal_estimator:b: dummy_outcome~t1+w3+w2+x1+x2 | x1,x2\n",
      "INFO:dowhy.causal_estimator:INFO: Using EconML Estimator\n",
      "WARNING:dowhy.causal_estimator:Effect modifiers are not a subset of common causes. For efficiency in estimation, EconML will consider all effect modifiers as common causes too.\n",
      "INFO:dowhy.causal_estimator:b: dummy_outcome~t1+w3+w2+x1+x2 | x1,x2\n",
      "INFO:dowhy.causal_estimator:INFO: Using EconML Estimator\n",
      "WARNING:dowhy.causal_estimator:Effect modifiers are not a subset of common causes. For efficiency in estimation, EconML will consider all effect modifiers as common causes too.\n",
      "INFO:dowhy.causal_estimator:b: dummy_outcome~t1+w3+w2+x1+x2 | x1,x2\n",
      "INFO:dowhy.causal_estimator:INFO: Using EconML Estimator\n",
      "WARNING:dowhy.causal_estimator:Effect modifiers are not a subset of common causes. For efficiency in estimation, EconML will consider all effect modifiers as common causes too.\n",
      "INFO:dowhy.causal_estimator:b: dummy_outcome~t1+w3+w2+x1+x2 | x1,x2\n",
      "INFO:dowhy.causal_estimator:INFO: Using EconML Estimator\n",
      "WARNING:dowhy.causal_estimator:Effect modifiers are not a subset of common causes. For efficiency in estimation, EconML will consider all effect modifiers as common causes too.\n",
      "INFO:dowhy.causal_estimator:b: dummy_outcome~t1+w3+w2+x1+x2 | x1,x2\n",
      "INFO:dowhy.causal_estimator:INFO: Using EconML Estimator\n",
      "WARNING:dowhy.causal_estimator:Effect modifiers are not a subset of common causes. For efficiency in estimation, EconML will consider all effect modifiers as common causes too.\n",
      "INFO:dowhy.causal_estimator:b: dummy_outcome~t1+w3+w2+x1+x2 | x1,x2\n",
      "INFO:dowhy.causal_estimator:INFO: Using EconML Estimator\n",
      "WARNING:dowhy.causal_estimator:Effect modifiers are not a subset of common causes. For efficiency in estimation, EconML will consider all effect modifiers as common causes too.\n",
      "INFO:dowhy.causal_estimator:b: dummy_outcome~t1+w3+w2+x1+x2 | x1,x2\n",
      "WARNING:dowhy.causal_refuters.dummy_outcome_refuter:We assume a Normal Distribution as the sample has less than 100 examples.\n",
      "                 Note: The underlying distribution may not be Normal. We assume that it approaches normal with the increase in sample size.\n",
      "WARNING:dowhy.causal_refuters.dummy_outcome_refuter:We assume a Normal Distribution as the sample has less than 100 examples.\n",
      "                 Note: The underlying distribution may not be Normal. We assume that it approaches normal with the increase in sample size.\n",
      "WARNING:dowhy.causal_model:Causal Graph not provided. DoWhy will construct a graph based on data inputs.\n",
      "INFO:dowhy.causal_graph:If this is observed data (not from a randomized experiment), there might always be missing confounders. Adding a node named \"Unobserved Confounders\" to reflect this.\n",
      "INFO:dowhy.causal_model:Model to find the causal effect of treatment ['t1'] on outcome ['y']\n",
      "WARNING:dowhy.causal_identifier:If this is observed data (not from a randomized experiment), there might always be missing confounders. Causal effect cannot be identified perfectly.\n",
      "INFO:dowhy.causal_identifier:Continuing by ignoring these unobserved confounders because proceed_when_unidentifiable flag is True.\n",
      "INFO:dowhy.causal_identifier:Instrumental variables for treatment and outcome:[]\n",
      "INFO:dowhy.causal_identifier:Frontdoor variables for treatment and outcome:[]\n",
      "INFO:dowhy.causal_estimator:b: y~t1+w3+w2+t1*x1+t1*x2\n",
      "INFO:dowhy.causal_estimator:INFO: Using Linear Regression Estimator\n",
      "INFO:dowhy.causal_estimator:INFO: Using Propensity Score Matching Estimator\n",
      "INFO:dowhy.causal_estimator:b: y~t1+w3+w2\n"
     ]
    },
    {
     "name": "stdout",
     "output_type": "stream",
     "text": [
      "printing refute's type\n",
      "<class 'list'>\n",
      "estimated effect [0.5, 0.5, 0.5, 0.5, 0.5]\n",
      "new_effect [0.3725939257344271, -2.1189984469477365, -0.2753599571826608, 0.2986664703263532, -2.6245647676522905]\n",
      "p_value [0.47729639555237435, 0.024529412401198658, 0.38342717914861935, 0.45991967792971833, 0.0002423425428386139]\n",
      "true value -0.7340155943284433\n",
      "\n",
      "\n",
      "Running Experiment Number: 4\n",
      "\n",
      "\n",
      "Current Sample Size: 1000\n",
      "\n",
      "\n",
      "The current DGP:\n",
      "\n",
      "        Linear Data Generating Process\n",
      "        -------------------------------\n",
      "        \n",
      "        treatment:['t1']\n",
      "        outcome:['y']\n",
      "        confounder: ['w1', 'w2', 'w3', 'w4', 'w5', 'w6']\n",
      "        effect_modifier: ['x1', 'x2']\n",
      "        weights: {'confounder=>treatment': array([[99.7679695 ],\n",
      "       [-0.20963829],\n",
      "       [-0.53930106],\n",
      "       [ 0.13745454],\n",
      "       [ 1.04403051],\n",
      "       [-0.82112326]]), 'confounder=>outcome': array([[99.23507172],\n",
      "       [ 0.12458274],\n",
      "       [-0.80990303],\n",
      "       [ 1.11090119],\n",
      "       [ 1.3998517 ],\n",
      "       [ 0.94017972]]), 'effect_modifier=>outcome': array([[ 1.58389847],\n",
      "       [-0.19268056]]), 'treatment=>outcome': array([[-0.73401559]])}\n",
      "        bias: {'confounder=>treatment': array([1.68127739]), 'confounder=>outcome': array([0.02433218])}\n",
      "        seed: None\n",
      "        treatment_is_binary: True\n",
      "        percentile: 0.9\n",
      "        \n",
      "printing data shape\n",
      "(1000, 10)\n",
      "[-1.84722791]\n",
      "check\n",
      "printing length of confounder list: 2\n",
      "printing confounder list: ['w2', 'w3']\n",
      "data columns\n",
      "data columns Index(['x1', 'x2', 'w1', 'w2', 'w3', 'w4', 'w5', 'w6', 't1', 'y'], dtype='object')\n",
      "identified_estimand: Estimand type: nonparametric-ate\n",
      "\n",
      "### Estimand : 1\n",
      "Estimand name: backdoor1 (Default)\n",
      "Estimand expression:\n",
      "  d                        \n",
      "─────(Expectation(y|w3,w2))\n",
      "d[t₁]                      \n",
      "Estimand assumption 1, Unconfoundedness: If U→{t1} and U→y then P(y|t1,w3,w2,U) = P(y|t1,w3,w2)\n",
      "\n",
      "### Estimand : 2\n",
      "Estimand name: iv\n",
      "No such variable found!\n",
      "\n",
      "### Estimand : 3\n",
      "Estimand name: frontdoor\n",
      "No such variable found!\n",
      "\n",
      "\n",
      "\n",
      "Running the estimators:\n",
      "\n",
      "The current estimator: Estimator(name='backdoor.linear_regression', params=None)\n",
      "estimator.params None\n",
      "printing estimate's type\n",
      "<class 'dowhy.causal_estimator.CausalEstimate'>\n",
      "The current estimator: Estimator(name='backdoor.propensity_score_matching', params={'init_params': {}})\n",
      "estimator.params {'init_params': {}}\n"
     ]
    },
    {
     "name": "stderr",
     "output_type": "stream",
     "text": [
      "INFO:dowhy.causal_estimator:INFO: Using Propensity Score Weighting Estimator\n",
      "INFO:dowhy.causal_estimator:b: y~t1+w3+w2\n",
      "INFO:dowhy.causal_estimator:INFO: Using EconML Estimator\n",
      "WARNING:dowhy.causal_estimator:Effect modifiers are not a subset of common causes. For efficiency in estimation, EconML will consider all effect modifiers as common causes too.\n",
      "INFO:dowhy.causal_estimator:b: y~t1+w3+w2+x1+x2 | x1,x2\n"
     ]
    },
    {
     "name": "stdout",
     "output_type": "stream",
     "text": [
      "printing estimate's type\n",
      "<class 'dowhy.causal_estimator.CausalEstimate'>\n",
      "The current estimator: Estimator(name='backdoor.propensity_score_weighting', params={'init_params': {}})\n",
      "estimator.params {'init_params': {}}\n",
      "printing estimate's type\n",
      "<class 'dowhy.causal_estimator.CausalEstimate'>\n",
      "The current estimator: Estimator(name='backdoor.econml.dml.DML', params={'init_params': {'model_y': GradientBoostingRegressor(), 'model_t': GradientBoostingRegressor(), 'model_final': LassoCV(), 'featurizer': PolynomialFeatures(degree=1)}, 'fit_params': {}, '_econml_methodname': 'econml.dml.DML'})\n",
      "estimator.params {'init_params': {'model_y': GradientBoostingRegressor(), 'model_t': GradientBoostingRegressor(), 'model_final': LassoCV(), 'featurizer': PolynomialFeatures(degree=1)}, 'fit_params': {}, '_econml_methodname': 'econml.dml.DML'}\n"
     ]
    },
    {
     "name": "stderr",
     "output_type": "stream",
     "text": [
      "INFO:dowhy.causal_estimator:INFO: Using EconML Estimator\n",
      "WARNING:dowhy.causal_estimator:Effect modifiers are not a subset of common causes. For efficiency in estimation, EconML will consider all effect modifiers as common causes too.\n",
      "INFO:dowhy.causal_estimator:b: y~t1+w3+w2+x1+x2 | x1,x2\n"
     ]
    },
    {
     "name": "stdout",
     "output_type": "stream",
     "text": [
      "printing estimate's type\n",
      "<class 'dowhy.causal_estimator.CausalEstimate'>\n",
      "The current estimator: Estimator(name='backdoor.econml.drlearner.LinearDRLearner', params={'init_params': {'model_propensity': LogisticRegressionCV(cv=3)}, 'fit_params': {}, '_econml_methodname': 'econml.drlearner.LinearDRLearner'})\n",
      "estimator.params {'init_params': {'model_propensity': LogisticRegressionCV(cv=3)}, 'fit_params': {}, '_econml_methodname': 'econml.drlearner.LinearDRLearner'}\n"
     ]
    },
    {
     "name": "stderr",
     "output_type": "stream",
     "text": [
      "INFO:dowhy.causal_refuter:All variables required: Running bootstrap adding noise to confounders, instrumental variables and effect modifiers.\n",
      "INFO:dowhy.causal_refuters.dummy_outcome_refuter:Refutation over 5 simulated datasets\n",
      "INFO:dowhy.causal_refuters.dummy_outcome_refuter:The transformation passed: [('random_forest', {'n_estimators': 100, 'max_depth': 6})]\n"
     ]
    },
    {
     "name": "stdout",
     "output_type": "stream",
     "text": [
      "printing estimate's type\n",
      "<class 'dowhy.causal_estimator.CausalEstimate'>\n",
      "estimate_values [64.42001280104063, 61.05187479851604, 64.02595566790932, 68.11042150940423, 64.55237247215436]\n",
      "\n",
      "\n",
      "Running the refuters:\n",
      "\n",
      "The current refuter: Refuter(name='dummy_outcome_refuter', params={'num_simulations': 5, 'transformation_list': [('random_forest', {'n_estimators': 100, 'max_depth': 6})], 'true_causal_effect': <function <lambda> at 0x0000022829325828>})\n"
     ]
    },
    {
     "name": "stderr",
     "output_type": "stream",
     "text": [
      "INFO:dowhy.causal_estimator:b: dummy_outcome~t1+w3+w2+t1*x1+t1*x2\n",
      "INFO:dowhy.causal_estimator:INFO: Using Linear Regression Estimator\n",
      "INFO:dowhy.causal_estimator:b: dummy_outcome~t1+w3+w2+t1*x1+t1*x2\n",
      "INFO:dowhy.causal_estimator:INFO: Using Linear Regression Estimator\n",
      "INFO:dowhy.causal_estimator:b: dummy_outcome~t1+w3+w2+t1*x1+t1*x2\n",
      "INFO:dowhy.causal_estimator:INFO: Using Linear Regression Estimator\n",
      "INFO:dowhy.causal_estimator:b: dummy_outcome~t1+w3+w2+t1*x1+t1*x2\n",
      "INFO:dowhy.causal_estimator:INFO: Using Linear Regression Estimator\n",
      "INFO:dowhy.causal_estimator:b: dummy_outcome~t1+w3+w2+t1*x1+t1*x2\n",
      "INFO:dowhy.causal_estimator:INFO: Using Linear Regression Estimator\n",
      "INFO:dowhy.causal_estimator:b: dummy_outcome~t1+w3+w2+t1*x1+t1*x2\n",
      "INFO:dowhy.causal_estimator:INFO: Using Linear Regression Estimator\n",
      "INFO:dowhy.causal_estimator:b: dummy_outcome~t1+w3+w2+t1*x1+t1*x2\n",
      "INFO:dowhy.causal_estimator:INFO: Using Linear Regression Estimator\n",
      "INFO:dowhy.causal_estimator:b: dummy_outcome~t1+w3+w2+t1*x1+t1*x2\n",
      "INFO:dowhy.causal_estimator:INFO: Using Linear Regression Estimator\n",
      "INFO:dowhy.causal_estimator:b: dummy_outcome~t1+w3+w2+t1*x1+t1*x2\n",
      "INFO:dowhy.causal_estimator:INFO: Using Linear Regression Estimator\n",
      "INFO:dowhy.causal_estimator:b: dummy_outcome~t1+w3+w2+t1*x1+t1*x2\n",
      "INFO:dowhy.causal_estimator:INFO: Using Linear Regression Estimator\n",
      "WARNING:dowhy.causal_refuters.dummy_outcome_refuter:We assume a Normal Distribution as the sample has less than 100 examples.\n",
      "                 Note: The underlying distribution may not be Normal. We assume that it approaches normal with the increase in sample size.\n",
      "WARNING:dowhy.causal_refuters.dummy_outcome_refuter:We assume a Normal Distribution as the sample has less than 100 examples.\n",
      "                 Note: The underlying distribution may not be Normal. We assume that it approaches normal with the increase in sample size.\n",
      "INFO:dowhy.causal_refuter:All variables required: Running bootstrap adding noise to confounders, instrumental variables and effect modifiers.\n",
      "INFO:dowhy.causal_refuters.dummy_outcome_refuter:Refutation over 5 simulated datasets\n",
      "INFO:dowhy.causal_refuters.dummy_outcome_refuter:The transformation passed: [('random_forest', {'n_estimators': 100, 'max_depth': 6})]\n"
     ]
    },
    {
     "name": "stdout",
     "output_type": "stream",
     "text": [
      "printing refute's type\n",
      "<class 'list'>\n"
     ]
    },
    {
     "name": "stderr",
     "output_type": "stream",
     "text": [
      "INFO:dowhy.causal_estimator:INFO: Using Propensity Score Matching Estimator\n",
      "INFO:dowhy.causal_estimator:b: dummy_outcome~t1+w3+w2\n",
      "INFO:dowhy.causal_estimator:INFO: Using Propensity Score Matching Estimator\n",
      "INFO:dowhy.causal_estimator:b: dummy_outcome~t1+w3+w2\n",
      "INFO:dowhy.causal_estimator:INFO: Using Propensity Score Matching Estimator\n",
      "INFO:dowhy.causal_estimator:b: dummy_outcome~t1+w3+w2\n",
      "INFO:dowhy.causal_estimator:INFO: Using Propensity Score Matching Estimator\n",
      "INFO:dowhy.causal_estimator:b: dummy_outcome~t1+w3+w2\n",
      "INFO:dowhy.causal_estimator:INFO: Using Propensity Score Matching Estimator\n",
      "INFO:dowhy.causal_estimator:b: dummy_outcome~t1+w3+w2\n",
      "INFO:dowhy.causal_estimator:INFO: Using Propensity Score Matching Estimator\n",
      "INFO:dowhy.causal_estimator:b: dummy_outcome~t1+w3+w2\n",
      "INFO:dowhy.causal_estimator:INFO: Using Propensity Score Matching Estimator\n",
      "INFO:dowhy.causal_estimator:b: dummy_outcome~t1+w3+w2\n",
      "INFO:dowhy.causal_estimator:INFO: Using Propensity Score Matching Estimator\n",
      "INFO:dowhy.causal_estimator:b: dummy_outcome~t1+w3+w2\n",
      "INFO:dowhy.causal_estimator:INFO: Using Propensity Score Matching Estimator\n",
      "INFO:dowhy.causal_estimator:b: dummy_outcome~t1+w3+w2\n",
      "INFO:dowhy.causal_estimator:INFO: Using Propensity Score Matching Estimator\n",
      "INFO:dowhy.causal_estimator:b: dummy_outcome~t1+w3+w2\n",
      "WARNING:dowhy.causal_refuters.dummy_outcome_refuter:We assume a Normal Distribution as the sample has less than 100 examples.\n",
      "                 Note: The underlying distribution may not be Normal. We assume that it approaches normal with the increase in sample size.\n",
      "WARNING:dowhy.causal_refuters.dummy_outcome_refuter:We assume a Normal Distribution as the sample has less than 100 examples.\n",
      "                 Note: The underlying distribution may not be Normal. We assume that it approaches normal with the increase in sample size.\n",
      "INFO:dowhy.causal_refuter:All variables required: Running bootstrap adding noise to confounders, instrumental variables and effect modifiers.\n",
      "INFO:dowhy.causal_refuters.dummy_outcome_refuter:Refutation over 5 simulated datasets\n",
      "INFO:dowhy.causal_refuters.dummy_outcome_refuter:The transformation passed: [('random_forest', {'n_estimators': 100, 'max_depth': 6})]\n"
     ]
    },
    {
     "name": "stdout",
     "output_type": "stream",
     "text": [
      "printing refute's type\n",
      "<class 'list'>\n"
     ]
    },
    {
     "name": "stderr",
     "output_type": "stream",
     "text": [
      "INFO:dowhy.causal_estimator:INFO: Using Propensity Score Weighting Estimator\n",
      "INFO:dowhy.causal_estimator:b: dummy_outcome~t1+w3+w2\n",
      "INFO:dowhy.causal_estimator:INFO: Using Propensity Score Weighting Estimator\n",
      "INFO:dowhy.causal_estimator:b: dummy_outcome~t1+w3+w2\n",
      "INFO:dowhy.causal_estimator:INFO: Using Propensity Score Weighting Estimator\n",
      "INFO:dowhy.causal_estimator:b: dummy_outcome~t1+w3+w2\n",
      "INFO:dowhy.causal_estimator:INFO: Using Propensity Score Weighting Estimator\n",
      "INFO:dowhy.causal_estimator:b: dummy_outcome~t1+w3+w2\n",
      "INFO:dowhy.causal_estimator:INFO: Using Propensity Score Weighting Estimator\n",
      "INFO:dowhy.causal_estimator:b: dummy_outcome~t1+w3+w2\n",
      "INFO:dowhy.causal_estimator:INFO: Using Propensity Score Weighting Estimator\n",
      "INFO:dowhy.causal_estimator:b: dummy_outcome~t1+w3+w2\n",
      "INFO:dowhy.causal_estimator:INFO: Using Propensity Score Weighting Estimator\n",
      "INFO:dowhy.causal_estimator:b: dummy_outcome~t1+w3+w2\n",
      "INFO:dowhy.causal_estimator:INFO: Using Propensity Score Weighting Estimator\n",
      "INFO:dowhy.causal_estimator:b: dummy_outcome~t1+w3+w2\n",
      "INFO:dowhy.causal_estimator:INFO: Using Propensity Score Weighting Estimator\n",
      "INFO:dowhy.causal_estimator:b: dummy_outcome~t1+w3+w2\n",
      "INFO:dowhy.causal_estimator:INFO: Using Propensity Score Weighting Estimator\n",
      "INFO:dowhy.causal_estimator:b: dummy_outcome~t1+w3+w2\n",
      "WARNING:dowhy.causal_refuters.dummy_outcome_refuter:We assume a Normal Distribution as the sample has less than 100 examples.\n",
      "                 Note: The underlying distribution may not be Normal. We assume that it approaches normal with the increase in sample size.\n",
      "WARNING:dowhy.causal_refuters.dummy_outcome_refuter:We assume a Normal Distribution as the sample has less than 100 examples.\n",
      "                 Note: The underlying distribution may not be Normal. We assume that it approaches normal with the increase in sample size.\n",
      "INFO:dowhy.causal_refuter:All variables required: Running bootstrap adding noise to confounders, instrumental variables and effect modifiers.\n",
      "INFO:dowhy.causal_refuters.dummy_outcome_refuter:Refutation over 5 simulated datasets\n",
      "INFO:dowhy.causal_refuters.dummy_outcome_refuter:The transformation passed: [('random_forest', {'n_estimators': 100, 'max_depth': 6})]\n"
     ]
    },
    {
     "name": "stdout",
     "output_type": "stream",
     "text": [
      "printing refute's type\n",
      "<class 'list'>\n"
     ]
    },
    {
     "name": "stderr",
     "output_type": "stream",
     "text": [
      "INFO:dowhy.causal_estimator:INFO: Using EconML Estimator\n",
      "WARNING:dowhy.causal_estimator:Effect modifiers are not a subset of common causes. For efficiency in estimation, EconML will consider all effect modifiers as common causes too.\n",
      "INFO:dowhy.causal_estimator:b: dummy_outcome~t1+w3+w2+x1+x2 | x1,x2\n",
      "INFO:dowhy.causal_estimator:INFO: Using EconML Estimator\n",
      "WARNING:dowhy.causal_estimator:Effect modifiers are not a subset of common causes. For efficiency in estimation, EconML will consider all effect modifiers as common causes too.\n",
      "INFO:dowhy.causal_estimator:b: dummy_outcome~t1+w3+w2+x1+x2 | x1,x2\n",
      "INFO:dowhy.causal_estimator:INFO: Using EconML Estimator\n",
      "WARNING:dowhy.causal_estimator:Effect modifiers are not a subset of common causes. For efficiency in estimation, EconML will consider all effect modifiers as common causes too.\n",
      "INFO:dowhy.causal_estimator:b: dummy_outcome~t1+w3+w2+x1+x2 | x1,x2\n",
      "INFO:dowhy.causal_estimator:INFO: Using EconML Estimator\n",
      "WARNING:dowhy.causal_estimator:Effect modifiers are not a subset of common causes. For efficiency in estimation, EconML will consider all effect modifiers as common causes too.\n",
      "INFO:dowhy.causal_estimator:b: dummy_outcome~t1+w3+w2+x1+x2 | x1,x2\n",
      "INFO:dowhy.causal_estimator:INFO: Using EconML Estimator\n",
      "WARNING:dowhy.causal_estimator:Effect modifiers are not a subset of common causes. For efficiency in estimation, EconML will consider all effect modifiers as common causes too.\n",
      "INFO:dowhy.causal_estimator:b: dummy_outcome~t1+w3+w2+x1+x2 | x1,x2\n",
      "INFO:dowhy.causal_estimator:INFO: Using EconML Estimator\n",
      "WARNING:dowhy.causal_estimator:Effect modifiers are not a subset of common causes. For efficiency in estimation, EconML will consider all effect modifiers as common causes too.\n",
      "INFO:dowhy.causal_estimator:b: dummy_outcome~t1+w3+w2+x1+x2 | x1,x2\n",
      "INFO:dowhy.causal_estimator:INFO: Using EconML Estimator\n",
      "WARNING:dowhy.causal_estimator:Effect modifiers are not a subset of common causes. For efficiency in estimation, EconML will consider all effect modifiers as common causes too.\n",
      "INFO:dowhy.causal_estimator:b: dummy_outcome~t1+w3+w2+x1+x2 | x1,x2\n",
      "INFO:dowhy.causal_estimator:INFO: Using EconML Estimator\n",
      "WARNING:dowhy.causal_estimator:Effect modifiers are not a subset of common causes. For efficiency in estimation, EconML will consider all effect modifiers as common causes too.\n",
      "INFO:dowhy.causal_estimator:b: dummy_outcome~t1+w3+w2+x1+x2 | x1,x2\n",
      "INFO:dowhy.causal_estimator:INFO: Using EconML Estimator\n",
      "WARNING:dowhy.causal_estimator:Effect modifiers are not a subset of common causes. For efficiency in estimation, EconML will consider all effect modifiers as common causes too.\n",
      "INFO:dowhy.causal_estimator:b: dummy_outcome~t1+w3+w2+x1+x2 | x1,x2\n",
      "INFO:dowhy.causal_estimator:INFO: Using EconML Estimator\n",
      "WARNING:dowhy.causal_estimator:Effect modifiers are not a subset of common causes. For efficiency in estimation, EconML will consider all effect modifiers as common causes too.\n",
      "INFO:dowhy.causal_estimator:b: dummy_outcome~t1+w3+w2+x1+x2 | x1,x2\n",
      "WARNING:dowhy.causal_refuters.dummy_outcome_refuter:We assume a Normal Distribution as the sample has less than 100 examples.\n",
      "                 Note: The underlying distribution may not be Normal. We assume that it approaches normal with the increase in sample size.\n",
      "WARNING:dowhy.causal_refuters.dummy_outcome_refuter:We assume a Normal Distribution as the sample has less than 100 examples.\n",
      "                 Note: The underlying distribution may not be Normal. We assume that it approaches normal with the increase in sample size.\n",
      "INFO:dowhy.causal_refuter:All variables required: Running bootstrap adding noise to confounders, instrumental variables and effect modifiers.\n",
      "INFO:dowhy.causal_refuters.dummy_outcome_refuter:Refutation over 5 simulated datasets\n",
      "INFO:dowhy.causal_refuters.dummy_outcome_refuter:The transformation passed: [('random_forest', {'n_estimators': 100, 'max_depth': 6})]\n"
     ]
    },
    {
     "name": "stdout",
     "output_type": "stream",
     "text": [
      "printing refute's type\n",
      "<class 'list'>\n"
     ]
    },
    {
     "name": "stderr",
     "output_type": "stream",
     "text": [
      "INFO:dowhy.causal_estimator:INFO: Using EconML Estimator\n",
      "WARNING:dowhy.causal_estimator:Effect modifiers are not a subset of common causes. For efficiency in estimation, EconML will consider all effect modifiers as common causes too.\n",
      "INFO:dowhy.causal_estimator:b: dummy_outcome~t1+w3+w2+x1+x2 | x1,x2\n",
      "INFO:dowhy.causal_estimator:INFO: Using EconML Estimator\n",
      "WARNING:dowhy.causal_estimator:Effect modifiers are not a subset of common causes. For efficiency in estimation, EconML will consider all effect modifiers as common causes too.\n",
      "INFO:dowhy.causal_estimator:b: dummy_outcome~t1+w3+w2+x1+x2 | x1,x2\n",
      "INFO:dowhy.causal_estimator:INFO: Using EconML Estimator\n",
      "WARNING:dowhy.causal_estimator:Effect modifiers are not a subset of common causes. For efficiency in estimation, EconML will consider all effect modifiers as common causes too.\n",
      "INFO:dowhy.causal_estimator:b: dummy_outcome~t1+w3+w2+x1+x2 | x1,x2\n",
      "INFO:dowhy.causal_estimator:INFO: Using EconML Estimator\n",
      "WARNING:dowhy.causal_estimator:Effect modifiers are not a subset of common causes. For efficiency in estimation, EconML will consider all effect modifiers as common causes too.\n",
      "INFO:dowhy.causal_estimator:b: dummy_outcome~t1+w3+w2+x1+x2 | x1,x2\n",
      "INFO:dowhy.causal_estimator:INFO: Using EconML Estimator\n",
      "WARNING:dowhy.causal_estimator:Effect modifiers are not a subset of common causes. For efficiency in estimation, EconML will consider all effect modifiers as common causes too.\n",
      "INFO:dowhy.causal_estimator:b: dummy_outcome~t1+w3+w2+x1+x2 | x1,x2\n",
      "INFO:dowhy.causal_estimator:INFO: Using EconML Estimator\n",
      "WARNING:dowhy.causal_estimator:Effect modifiers are not a subset of common causes. For efficiency in estimation, EconML will consider all effect modifiers as common causes too.\n",
      "INFO:dowhy.causal_estimator:b: dummy_outcome~t1+w3+w2+x1+x2 | x1,x2\n",
      "INFO:dowhy.causal_estimator:INFO: Using EconML Estimator\n",
      "WARNING:dowhy.causal_estimator:Effect modifiers are not a subset of common causes. For efficiency in estimation, EconML will consider all effect modifiers as common causes too.\n",
      "INFO:dowhy.causal_estimator:b: dummy_outcome~t1+w3+w2+x1+x2 | x1,x2\n",
      "INFO:dowhy.causal_estimator:INFO: Using EconML Estimator\n",
      "WARNING:dowhy.causal_estimator:Effect modifiers are not a subset of common causes. For efficiency in estimation, EconML will consider all effect modifiers as common causes too.\n",
      "INFO:dowhy.causal_estimator:b: dummy_outcome~t1+w3+w2+x1+x2 | x1,x2\n",
      "INFO:dowhy.causal_estimator:INFO: Using EconML Estimator\n",
      "WARNING:dowhy.causal_estimator:Effect modifiers are not a subset of common causes. For efficiency in estimation, EconML will consider all effect modifiers as common causes too.\n",
      "INFO:dowhy.causal_estimator:b: dummy_outcome~t1+w3+w2+x1+x2 | x1,x2\n",
      "INFO:dowhy.causal_estimator:INFO: Using EconML Estimator\n",
      "WARNING:dowhy.causal_estimator:Effect modifiers are not a subset of common causes. For efficiency in estimation, EconML will consider all effect modifiers as common causes too.\n",
      "INFO:dowhy.causal_estimator:b: dummy_outcome~t1+w3+w2+x1+x2 | x1,x2\n",
      "WARNING:dowhy.causal_refuters.dummy_outcome_refuter:We assume a Normal Distribution as the sample has less than 100 examples.\n",
      "                 Note: The underlying distribution may not be Normal. We assume that it approaches normal with the increase in sample size.\n",
      "WARNING:dowhy.causal_refuters.dummy_outcome_refuter:We assume a Normal Distribution as the sample has less than 100 examples.\n",
      "                 Note: The underlying distribution may not be Normal. We assume that it approaches normal with the increase in sample size.\n",
      "WARNING:dowhy.causal_model:Causal Graph not provided. DoWhy will construct a graph based on data inputs.\n",
      "INFO:dowhy.causal_graph:If this is observed data (not from a randomized experiment), there might always be missing confounders. Adding a node named \"Unobserved Confounders\" to reflect this.\n",
      "INFO:dowhy.causal_model:Model to find the causal effect of treatment ['t1'] on outcome ['y']\n",
      "WARNING:dowhy.causal_identifier:If this is observed data (not from a randomized experiment), there might always be missing confounders. Causal effect cannot be identified perfectly.\n",
      "INFO:dowhy.causal_identifier:Continuing by ignoring these unobserved confounders because proceed_when_unidentifiable flag is True.\n",
      "INFO:dowhy.causal_identifier:Instrumental variables for treatment and outcome:[]\n",
      "INFO:dowhy.causal_identifier:Frontdoor variables for treatment and outcome:[]\n",
      "INFO:dowhy.causal_estimator:b: y~t1+w3+w2+t1*x1+t1*x2\n",
      "INFO:dowhy.causal_estimator:INFO: Using Linear Regression Estimator\n",
      "INFO:dowhy.causal_estimator:INFO: Using Propensity Score Matching Estimator\n",
      "INFO:dowhy.causal_estimator:b: y~t1+w3+w2\n"
     ]
    },
    {
     "name": "stdout",
     "output_type": "stream",
     "text": [
      "printing refute's type\n",
      "<class 'list'>\n",
      "estimated effect [0.5, 0.5, 0.5, 0.5, 0.5]\n",
      "new_effect [-3.3951259193243204, -4.780568149121785, -1.600310340214234, -0.7907050094638091, -2.5874940538970455]\n",
      "p_value [0.059426968246072964, 0.016478883767357844, 0.06922504219915626, 0.09333753036726, 0.0968968371151997]\n",
      "true value -1.8472279130279248\n",
      "\n",
      "\n",
      "Running Experiment Number: 5\n",
      "\n",
      "\n",
      "Current Sample Size: 1000\n",
      "\n",
      "\n",
      "The current DGP:\n",
      "\n",
      "        Linear Data Generating Process\n",
      "        -------------------------------\n",
      "        \n",
      "        treatment:['t1']\n",
      "        outcome:['y']\n",
      "        confounder: ['w1', 'w2', 'w3', 'w4', 'w5', 'w6']\n",
      "        effect_modifier: ['x1', 'x2']\n",
      "        weights: {'confounder=>treatment': array([[98.81973439],\n",
      "       [ 3.04992377],\n",
      "       [ 0.31479874],\n",
      "       [-1.74434293],\n",
      "       [-1.5828148 ],\n",
      "       [ 0.15890835]]), 'confounder=>outcome': array([[100.71780153],\n",
      "       [  0.5444118 ],\n",
      "       [ -0.45438131],\n",
      "       [ -0.19288047],\n",
      "       [ -0.30670869],\n",
      "       [  0.40070554]]), 'effect_modifier=>outcome': array([[0.48418863],\n",
      "       [0.86144012]]), 'treatment=>outcome': array([[-1.84722791]])}\n",
      "        bias: {'confounder=>treatment': array([-1.62502443]), 'confounder=>outcome': array([0.62598068])}\n",
      "        seed: None\n",
      "        treatment_is_binary: True\n",
      "        percentile: 0.9\n",
      "        \n",
      "printing data shape\n",
      "(1000, 10)\n",
      "[-0.3099301]\n",
      "check\n",
      "printing length of confounder list: 2\n",
      "printing confounder list: ['w2', 'w3']\n",
      "data columns\n",
      "data columns Index(['x1', 'x2', 'w1', 'w2', 'w3', 'w4', 'w5', 'w6', 't1', 'y'], dtype='object')\n",
      "identified_estimand: Estimand type: nonparametric-ate\n",
      "\n",
      "### Estimand : 1\n",
      "Estimand name: backdoor1 (Default)\n",
      "Estimand expression:\n",
      "  d                        \n",
      "─────(Expectation(y|w3,w2))\n",
      "d[t₁]                      \n",
      "Estimand assumption 1, Unconfoundedness: If U→{t1} and U→y then P(y|t1,w3,w2,U) = P(y|t1,w3,w2)\n",
      "\n",
      "### Estimand : 2\n",
      "Estimand name: iv\n",
      "No such variable found!\n",
      "\n",
      "### Estimand : 3\n",
      "Estimand name: frontdoor\n",
      "No such variable found!\n",
      "\n",
      "\n",
      "\n",
      "Running the estimators:\n",
      "\n",
      "The current estimator: Estimator(name='backdoor.linear_regression', params=None)\n",
      "estimator.params None\n",
      "printing estimate's type\n",
      "<class 'dowhy.causal_estimator.CausalEstimate'>\n",
      "The current estimator: Estimator(name='backdoor.propensity_score_matching', params={'init_params': {}})\n",
      "estimator.params {'init_params': {}}\n"
     ]
    },
    {
     "name": "stderr",
     "output_type": "stream",
     "text": [
      "INFO:dowhy.causal_estimator:INFO: Using Propensity Score Weighting Estimator\n",
      "INFO:dowhy.causal_estimator:b: y~t1+w3+w2\n",
      "INFO:dowhy.causal_estimator:INFO: Using EconML Estimator\n",
      "WARNING:dowhy.causal_estimator:Effect modifiers are not a subset of common causes. For efficiency in estimation, EconML will consider all effect modifiers as common causes too.\n",
      "INFO:dowhy.causal_estimator:b: y~t1+w3+w2+x1+x2 | x1,x2\n"
     ]
    },
    {
     "name": "stdout",
     "output_type": "stream",
     "text": [
      "printing estimate's type\n",
      "<class 'dowhy.causal_estimator.CausalEstimate'>\n",
      "The current estimator: Estimator(name='backdoor.propensity_score_weighting', params={'init_params': {}})\n",
      "estimator.params {'init_params': {}}\n",
      "printing estimate's type\n",
      "<class 'dowhy.causal_estimator.CausalEstimate'>\n",
      "The current estimator: Estimator(name='backdoor.econml.dml.DML', params={'init_params': {'model_y': GradientBoostingRegressor(), 'model_t': GradientBoostingRegressor(), 'model_final': LassoCV(), 'featurizer': PolynomialFeatures(degree=1)}, 'fit_params': {}, '_econml_methodname': 'econml.dml.DML'})\n",
      "estimator.params {'init_params': {'model_y': GradientBoostingRegressor(), 'model_t': GradientBoostingRegressor(), 'model_final': LassoCV(), 'featurizer': PolynomialFeatures(degree=1)}, 'fit_params': {}, '_econml_methodname': 'econml.dml.DML'}\n"
     ]
    },
    {
     "name": "stderr",
     "output_type": "stream",
     "text": [
      "INFO:dowhy.causal_estimator:INFO: Using EconML Estimator\n",
      "WARNING:dowhy.causal_estimator:Effect modifiers are not a subset of common causes. For efficiency in estimation, EconML will consider all effect modifiers as common causes too.\n",
      "INFO:dowhy.causal_estimator:b: y~t1+w3+w2+x1+x2 | x1,x2\n"
     ]
    },
    {
     "name": "stdout",
     "output_type": "stream",
     "text": [
      "printing estimate's type\n",
      "<class 'dowhy.causal_estimator.CausalEstimate'>\n",
      "The current estimator: Estimator(name='backdoor.econml.drlearner.LinearDRLearner', params={'init_params': {'model_propensity': LogisticRegressionCV(cv=3)}, 'fit_params': {}, '_econml_methodname': 'econml.drlearner.LinearDRLearner'})\n",
      "estimator.params {'init_params': {'model_propensity': LogisticRegressionCV(cv=3)}, 'fit_params': {}, '_econml_methodname': 'econml.drlearner.LinearDRLearner'}\n"
     ]
    },
    {
     "name": "stderr",
     "output_type": "stream",
     "text": [
      "INFO:dowhy.causal_refuter:All variables required: Running bootstrap adding noise to confounders, instrumental variables and effect modifiers.\n",
      "INFO:dowhy.causal_refuters.dummy_outcome_refuter:Refutation over 5 simulated datasets\n",
      "INFO:dowhy.causal_refuters.dummy_outcome_refuter:The transformation passed: [('random_forest', {'n_estimators': 100, 'max_depth': 6})]\n"
     ]
    },
    {
     "name": "stdout",
     "output_type": "stream",
     "text": [
      "printing estimate's type\n",
      "<class 'dowhy.causal_estimator.CausalEstimate'>\n",
      "estimate_values [50.817883093456906, 51.89057310692511, 52.14305486261107, 34.84183062565673, 50.11765274530727]\n",
      "\n",
      "\n",
      "Running the refuters:\n",
      "\n",
      "The current refuter: Refuter(name='dummy_outcome_refuter', params={'num_simulations': 5, 'transformation_list': [('random_forest', {'n_estimators': 100, 'max_depth': 6})], 'true_causal_effect': <function <lambda> at 0x0000022829325828>})\n"
     ]
    },
    {
     "name": "stderr",
     "output_type": "stream",
     "text": [
      "INFO:dowhy.causal_estimator:b: dummy_outcome~t1+w3+w2+t1*x1+t1*x2\n",
      "INFO:dowhy.causal_estimator:INFO: Using Linear Regression Estimator\n",
      "INFO:dowhy.causal_estimator:b: dummy_outcome~t1+w3+w2+t1*x1+t1*x2\n",
      "INFO:dowhy.causal_estimator:INFO: Using Linear Regression Estimator\n",
      "INFO:dowhy.causal_estimator:b: dummy_outcome~t1+w3+w2+t1*x1+t1*x2\n",
      "INFO:dowhy.causal_estimator:INFO: Using Linear Regression Estimator\n",
      "INFO:dowhy.causal_estimator:b: dummy_outcome~t1+w3+w2+t1*x1+t1*x2\n",
      "INFO:dowhy.causal_estimator:INFO: Using Linear Regression Estimator\n",
      "INFO:dowhy.causal_estimator:b: dummy_outcome~t1+w3+w2+t1*x1+t1*x2\n",
      "INFO:dowhy.causal_estimator:INFO: Using Linear Regression Estimator\n",
      "INFO:dowhy.causal_estimator:b: dummy_outcome~t1+w3+w2+t1*x1+t1*x2\n",
      "INFO:dowhy.causal_estimator:INFO: Using Linear Regression Estimator\n",
      "INFO:dowhy.causal_estimator:b: dummy_outcome~t1+w3+w2+t1*x1+t1*x2\n",
      "INFO:dowhy.causal_estimator:INFO: Using Linear Regression Estimator\n",
      "INFO:dowhy.causal_estimator:b: dummy_outcome~t1+w3+w2+t1*x1+t1*x2\n",
      "INFO:dowhy.causal_estimator:INFO: Using Linear Regression Estimator\n",
      "INFO:dowhy.causal_estimator:b: dummy_outcome~t1+w3+w2+t1*x1+t1*x2\n",
      "INFO:dowhy.causal_estimator:INFO: Using Linear Regression Estimator\n",
      "INFO:dowhy.causal_estimator:b: dummy_outcome~t1+w3+w2+t1*x1+t1*x2\n",
      "INFO:dowhy.causal_estimator:INFO: Using Linear Regression Estimator\n",
      "WARNING:dowhy.causal_refuters.dummy_outcome_refuter:We assume a Normal Distribution as the sample has less than 100 examples.\n",
      "                 Note: The underlying distribution may not be Normal. We assume that it approaches normal with the increase in sample size.\n",
      "WARNING:dowhy.causal_refuters.dummy_outcome_refuter:We assume a Normal Distribution as the sample has less than 100 examples.\n",
      "                 Note: The underlying distribution may not be Normal. We assume that it approaches normal with the increase in sample size.\n",
      "INFO:dowhy.causal_refuter:All variables required: Running bootstrap adding noise to confounders, instrumental variables and effect modifiers.\n",
      "INFO:dowhy.causal_refuters.dummy_outcome_refuter:Refutation over 5 simulated datasets\n",
      "INFO:dowhy.causal_refuters.dummy_outcome_refuter:The transformation passed: [('random_forest', {'n_estimators': 100, 'max_depth': 6})]\n"
     ]
    },
    {
     "name": "stdout",
     "output_type": "stream",
     "text": [
      "printing refute's type\n",
      "<class 'list'>\n"
     ]
    },
    {
     "name": "stderr",
     "output_type": "stream",
     "text": [
      "INFO:dowhy.causal_estimator:INFO: Using Propensity Score Matching Estimator\n",
      "INFO:dowhy.causal_estimator:b: dummy_outcome~t1+w3+w2\n",
      "INFO:dowhy.causal_estimator:INFO: Using Propensity Score Matching Estimator\n",
      "INFO:dowhy.causal_estimator:b: dummy_outcome~t1+w3+w2\n",
      "INFO:dowhy.causal_estimator:INFO: Using Propensity Score Matching Estimator\n",
      "INFO:dowhy.causal_estimator:b: dummy_outcome~t1+w3+w2\n",
      "INFO:dowhy.causal_estimator:INFO: Using Propensity Score Matching Estimator\n",
      "INFO:dowhy.causal_estimator:b: dummy_outcome~t1+w3+w2\n",
      "INFO:dowhy.causal_estimator:INFO: Using Propensity Score Matching Estimator\n",
      "INFO:dowhy.causal_estimator:b: dummy_outcome~t1+w3+w2\n",
      "INFO:dowhy.causal_estimator:INFO: Using Propensity Score Matching Estimator\n",
      "INFO:dowhy.causal_estimator:b: dummy_outcome~t1+w3+w2\n",
      "INFO:dowhy.causal_estimator:INFO: Using Propensity Score Matching Estimator\n",
      "INFO:dowhy.causal_estimator:b: dummy_outcome~t1+w3+w2\n",
      "INFO:dowhy.causal_estimator:INFO: Using Propensity Score Matching Estimator\n",
      "INFO:dowhy.causal_estimator:b: dummy_outcome~t1+w3+w2\n",
      "INFO:dowhy.causal_estimator:INFO: Using Propensity Score Matching Estimator\n",
      "INFO:dowhy.causal_estimator:b: dummy_outcome~t1+w3+w2\n",
      "INFO:dowhy.causal_estimator:INFO: Using Propensity Score Matching Estimator\n",
      "INFO:dowhy.causal_estimator:b: dummy_outcome~t1+w3+w2\n",
      "WARNING:dowhy.causal_refuters.dummy_outcome_refuter:We assume a Normal Distribution as the sample has less than 100 examples.\n",
      "                 Note: The underlying distribution may not be Normal. We assume that it approaches normal with the increase in sample size.\n",
      "WARNING:dowhy.causal_refuters.dummy_outcome_refuter:We assume a Normal Distribution as the sample has less than 100 examples.\n",
      "                 Note: The underlying distribution may not be Normal. We assume that it approaches normal with the increase in sample size.\n",
      "INFO:dowhy.causal_refuter:All variables required: Running bootstrap adding noise to confounders, instrumental variables and effect modifiers.\n",
      "INFO:dowhy.causal_refuters.dummy_outcome_refuter:Refutation over 5 simulated datasets\n",
      "INFO:dowhy.causal_refuters.dummy_outcome_refuter:The transformation passed: [('random_forest', {'n_estimators': 100, 'max_depth': 6})]\n"
     ]
    },
    {
     "name": "stdout",
     "output_type": "stream",
     "text": [
      "printing refute's type\n",
      "<class 'list'>\n"
     ]
    },
    {
     "name": "stderr",
     "output_type": "stream",
     "text": [
      "INFO:dowhy.causal_estimator:INFO: Using Propensity Score Weighting Estimator\n",
      "INFO:dowhy.causal_estimator:b: dummy_outcome~t1+w3+w2\n",
      "INFO:dowhy.causal_estimator:INFO: Using Propensity Score Weighting Estimator\n",
      "INFO:dowhy.causal_estimator:b: dummy_outcome~t1+w3+w2\n",
      "INFO:dowhy.causal_estimator:INFO: Using Propensity Score Weighting Estimator\n",
      "INFO:dowhy.causal_estimator:b: dummy_outcome~t1+w3+w2\n",
      "INFO:dowhy.causal_estimator:INFO: Using Propensity Score Weighting Estimator\n",
      "INFO:dowhy.causal_estimator:b: dummy_outcome~t1+w3+w2\n",
      "INFO:dowhy.causal_estimator:INFO: Using Propensity Score Weighting Estimator\n",
      "INFO:dowhy.causal_estimator:b: dummy_outcome~t1+w3+w2\n",
      "INFO:dowhy.causal_estimator:INFO: Using Propensity Score Weighting Estimator\n",
      "INFO:dowhy.causal_estimator:b: dummy_outcome~t1+w3+w2\n",
      "INFO:dowhy.causal_estimator:INFO: Using Propensity Score Weighting Estimator\n",
      "INFO:dowhy.causal_estimator:b: dummy_outcome~t1+w3+w2\n",
      "INFO:dowhy.causal_estimator:INFO: Using Propensity Score Weighting Estimator\n",
      "INFO:dowhy.causal_estimator:b: dummy_outcome~t1+w3+w2\n",
      "INFO:dowhy.causal_estimator:INFO: Using Propensity Score Weighting Estimator\n",
      "INFO:dowhy.causal_estimator:b: dummy_outcome~t1+w3+w2\n",
      "INFO:dowhy.causal_estimator:INFO: Using Propensity Score Weighting Estimator\n",
      "INFO:dowhy.causal_estimator:b: dummy_outcome~t1+w3+w2\n",
      "WARNING:dowhy.causal_refuters.dummy_outcome_refuter:We assume a Normal Distribution as the sample has less than 100 examples.\n",
      "                 Note: The underlying distribution may not be Normal. We assume that it approaches normal with the increase in sample size.\n",
      "WARNING:dowhy.causal_refuters.dummy_outcome_refuter:We assume a Normal Distribution as the sample has less than 100 examples.\n",
      "                 Note: The underlying distribution may not be Normal. We assume that it approaches normal with the increase in sample size.\n",
      "INFO:dowhy.causal_refuter:All variables required: Running bootstrap adding noise to confounders, instrumental variables and effect modifiers.\n",
      "INFO:dowhy.causal_refuters.dummy_outcome_refuter:Refutation over 5 simulated datasets\n",
      "INFO:dowhy.causal_refuters.dummy_outcome_refuter:The transformation passed: [('random_forest', {'n_estimators': 100, 'max_depth': 6})]\n"
     ]
    },
    {
     "name": "stdout",
     "output_type": "stream",
     "text": [
      "printing refute's type\n",
      "<class 'list'>\n"
     ]
    },
    {
     "name": "stderr",
     "output_type": "stream",
     "text": [
      "INFO:dowhy.causal_estimator:INFO: Using EconML Estimator\n",
      "WARNING:dowhy.causal_estimator:Effect modifiers are not a subset of common causes. For efficiency in estimation, EconML will consider all effect modifiers as common causes too.\n",
      "INFO:dowhy.causal_estimator:b: dummy_outcome~t1+w3+w2+x1+x2 | x1,x2\n",
      "INFO:dowhy.causal_estimator:INFO: Using EconML Estimator\n",
      "WARNING:dowhy.causal_estimator:Effect modifiers are not a subset of common causes. For efficiency in estimation, EconML will consider all effect modifiers as common causes too.\n",
      "INFO:dowhy.causal_estimator:b: dummy_outcome~t1+w3+w2+x1+x2 | x1,x2\n",
      "INFO:dowhy.causal_estimator:INFO: Using EconML Estimator\n",
      "WARNING:dowhy.causal_estimator:Effect modifiers are not a subset of common causes. For efficiency in estimation, EconML will consider all effect modifiers as common causes too.\n",
      "INFO:dowhy.causal_estimator:b: dummy_outcome~t1+w3+w2+x1+x2 | x1,x2\n",
      "INFO:dowhy.causal_estimator:INFO: Using EconML Estimator\n",
      "WARNING:dowhy.causal_estimator:Effect modifiers are not a subset of common causes. For efficiency in estimation, EconML will consider all effect modifiers as common causes too.\n",
      "INFO:dowhy.causal_estimator:b: dummy_outcome~t1+w3+w2+x1+x2 | x1,x2\n",
      "INFO:dowhy.causal_estimator:INFO: Using EconML Estimator\n",
      "WARNING:dowhy.causal_estimator:Effect modifiers are not a subset of common causes. For efficiency in estimation, EconML will consider all effect modifiers as common causes too.\n",
      "INFO:dowhy.causal_estimator:b: dummy_outcome~t1+w3+w2+x1+x2 | x1,x2\n",
      "INFO:dowhy.causal_estimator:INFO: Using EconML Estimator\n",
      "WARNING:dowhy.causal_estimator:Effect modifiers are not a subset of common causes. For efficiency in estimation, EconML will consider all effect modifiers as common causes too.\n",
      "INFO:dowhy.causal_estimator:b: dummy_outcome~t1+w3+w2+x1+x2 | x1,x2\n",
      "INFO:dowhy.causal_estimator:INFO: Using EconML Estimator\n",
      "WARNING:dowhy.causal_estimator:Effect modifiers are not a subset of common causes. For efficiency in estimation, EconML will consider all effect modifiers as common causes too.\n",
      "INFO:dowhy.causal_estimator:b: dummy_outcome~t1+w3+w2+x1+x2 | x1,x2\n",
      "INFO:dowhy.causal_estimator:INFO: Using EconML Estimator\n",
      "WARNING:dowhy.causal_estimator:Effect modifiers are not a subset of common causes. For efficiency in estimation, EconML will consider all effect modifiers as common causes too.\n",
      "INFO:dowhy.causal_estimator:b: dummy_outcome~t1+w3+w2+x1+x2 | x1,x2\n",
      "INFO:dowhy.causal_estimator:INFO: Using EconML Estimator\n",
      "WARNING:dowhy.causal_estimator:Effect modifiers are not a subset of common causes. For efficiency in estimation, EconML will consider all effect modifiers as common causes too.\n",
      "INFO:dowhy.causal_estimator:b: dummy_outcome~t1+w3+w2+x1+x2 | x1,x2\n",
      "INFO:dowhy.causal_estimator:INFO: Using EconML Estimator\n",
      "WARNING:dowhy.causal_estimator:Effect modifiers are not a subset of common causes. For efficiency in estimation, EconML will consider all effect modifiers as common causes too.\n",
      "INFO:dowhy.causal_estimator:b: dummy_outcome~t1+w3+w2+x1+x2 | x1,x2\n",
      "WARNING:dowhy.causal_refuters.dummy_outcome_refuter:We assume a Normal Distribution as the sample has less than 100 examples.\n",
      "                 Note: The underlying distribution may not be Normal. We assume that it approaches normal with the increase in sample size.\n",
      "WARNING:dowhy.causal_refuters.dummy_outcome_refuter:We assume a Normal Distribution as the sample has less than 100 examples.\n",
      "                 Note: The underlying distribution may not be Normal. We assume that it approaches normal with the increase in sample size.\n",
      "INFO:dowhy.causal_refuter:All variables required: Running bootstrap adding noise to confounders, instrumental variables and effect modifiers.\n",
      "INFO:dowhy.causal_refuters.dummy_outcome_refuter:Refutation over 5 simulated datasets\n",
      "INFO:dowhy.causal_refuters.dummy_outcome_refuter:The transformation passed: [('random_forest', {'n_estimators': 100, 'max_depth': 6})]\n"
     ]
    },
    {
     "name": "stdout",
     "output_type": "stream",
     "text": [
      "printing refute's type\n",
      "<class 'list'>\n"
     ]
    },
    {
     "name": "stderr",
     "output_type": "stream",
     "text": [
      "INFO:dowhy.causal_estimator:INFO: Using EconML Estimator\n",
      "WARNING:dowhy.causal_estimator:Effect modifiers are not a subset of common causes. For efficiency in estimation, EconML will consider all effect modifiers as common causes too.\n",
      "INFO:dowhy.causal_estimator:b: dummy_outcome~t1+w3+w2+x1+x2 | x1,x2\n",
      "INFO:dowhy.causal_estimator:INFO: Using EconML Estimator\n",
      "WARNING:dowhy.causal_estimator:Effect modifiers are not a subset of common causes. For efficiency in estimation, EconML will consider all effect modifiers as common causes too.\n",
      "INFO:dowhy.causal_estimator:b: dummy_outcome~t1+w3+w2+x1+x2 | x1,x2\n",
      "INFO:dowhy.causal_estimator:INFO: Using EconML Estimator\n",
      "WARNING:dowhy.causal_estimator:Effect modifiers are not a subset of common causes. For efficiency in estimation, EconML will consider all effect modifiers as common causes too.\n",
      "INFO:dowhy.causal_estimator:b: dummy_outcome~t1+w3+w2+x1+x2 | x1,x2\n",
      "INFO:dowhy.causal_estimator:INFO: Using EconML Estimator\n",
      "WARNING:dowhy.causal_estimator:Effect modifiers are not a subset of common causes. For efficiency in estimation, EconML will consider all effect modifiers as common causes too.\n",
      "INFO:dowhy.causal_estimator:b: dummy_outcome~t1+w3+w2+x1+x2 | x1,x2\n",
      "INFO:dowhy.causal_estimator:INFO: Using EconML Estimator\n",
      "WARNING:dowhy.causal_estimator:Effect modifiers are not a subset of common causes. For efficiency in estimation, EconML will consider all effect modifiers as common causes too.\n",
      "INFO:dowhy.causal_estimator:b: dummy_outcome~t1+w3+w2+x1+x2 | x1,x2\n",
      "INFO:dowhy.causal_estimator:INFO: Using EconML Estimator\n",
      "WARNING:dowhy.causal_estimator:Effect modifiers are not a subset of common causes. For efficiency in estimation, EconML will consider all effect modifiers as common causes too.\n",
      "INFO:dowhy.causal_estimator:b: dummy_outcome~t1+w3+w2+x1+x2 | x1,x2\n",
      "INFO:dowhy.causal_estimator:INFO: Using EconML Estimator\n",
      "WARNING:dowhy.causal_estimator:Effect modifiers are not a subset of common causes. For efficiency in estimation, EconML will consider all effect modifiers as common causes too.\n",
      "INFO:dowhy.causal_estimator:b: dummy_outcome~t1+w3+w2+x1+x2 | x1,x2\n",
      "INFO:dowhy.causal_estimator:INFO: Using EconML Estimator\n",
      "WARNING:dowhy.causal_estimator:Effect modifiers are not a subset of common causes. For efficiency in estimation, EconML will consider all effect modifiers as common causes too.\n",
      "INFO:dowhy.causal_estimator:b: dummy_outcome~t1+w3+w2+x1+x2 | x1,x2\n",
      "INFO:dowhy.causal_estimator:INFO: Using EconML Estimator\n",
      "WARNING:dowhy.causal_estimator:Effect modifiers are not a subset of common causes. For efficiency in estimation, EconML will consider all effect modifiers as common causes too.\n",
      "INFO:dowhy.causal_estimator:b: dummy_outcome~t1+w3+w2+x1+x2 | x1,x2\n",
      "INFO:dowhy.causal_estimator:INFO: Using EconML Estimator\n",
      "WARNING:dowhy.causal_estimator:Effect modifiers are not a subset of common causes. For efficiency in estimation, EconML will consider all effect modifiers as common causes too.\n",
      "INFO:dowhy.causal_estimator:b: dummy_outcome~t1+w3+w2+x1+x2 | x1,x2\n",
      "WARNING:dowhy.causal_refuters.dummy_outcome_refuter:We assume a Normal Distribution as the sample has less than 100 examples.\n",
      "                 Note: The underlying distribution may not be Normal. We assume that it approaches normal with the increase in sample size.\n",
      "WARNING:dowhy.causal_refuters.dummy_outcome_refuter:We assume a Normal Distribution as the sample has less than 100 examples.\n",
      "                 Note: The underlying distribution may not be Normal. We assume that it approaches normal with the increase in sample size.\n",
      "WARNING:dowhy.causal_model:Causal Graph not provided. DoWhy will construct a graph based on data inputs.\n",
      "INFO:dowhy.causal_graph:If this is observed data (not from a randomized experiment), there might always be missing confounders. Adding a node named \"Unobserved Confounders\" to reflect this.\n",
      "INFO:dowhy.causal_model:Model to find the causal effect of treatment ['t1'] on outcome ['y']\n",
      "WARNING:dowhy.causal_identifier:If this is observed data (not from a randomized experiment), there might always be missing confounders. Causal effect cannot be identified perfectly.\n",
      "INFO:dowhy.causal_identifier:Continuing by ignoring these unobserved confounders because proceed_when_unidentifiable flag is True.\n",
      "INFO:dowhy.causal_identifier:Instrumental variables for treatment and outcome:[]\n",
      "INFO:dowhy.causal_identifier:Frontdoor variables for treatment and outcome:[]\n",
      "INFO:dowhy.causal_estimator:b: y~t1+w3+w2+t1*x1+t1*x2\n",
      "INFO:dowhy.causal_estimator:INFO: Using Linear Regression Estimator\n",
      "INFO:dowhy.causal_estimator:INFO: Using Propensity Score Matching Estimator\n",
      "INFO:dowhy.causal_estimator:b: y~t1+w3+w2\n"
     ]
    },
    {
     "name": "stdout",
     "output_type": "stream",
     "text": [
      "printing refute's type\n",
      "<class 'list'>\n",
      "estimated effect [0.5, 0.5, 0.5, 0.5, 0.5]\n",
      "new_effect [3.257218299101061, 1.951663788495911, 0.35056071516334175, 0.6720649317161044, 1.8737660391007451]\n",
      "p_value [0.11516476702615308, 0.22888199517050106, 0.4611845157031842, 0.46267759001031306, 0.35425385117079256]\n",
      "true value -0.30993010150527006\n",
      "\n",
      "\n",
      "Running Experiment Number: 6\n",
      "\n",
      "\n",
      "Current Sample Size: 1000\n",
      "\n",
      "\n",
      "The current DGP:\n",
      "\n",
      "        Linear Data Generating Process\n",
      "        -------------------------------\n",
      "        \n",
      "        treatment:['t1']\n",
      "        outcome:['y']\n",
      "        confounder: ['w1', 'w2', 'w3', 'w4', 'w5', 'w6']\n",
      "        effect_modifier: ['x1', 'x2']\n",
      "        weights: {'confounder=>treatment': array([[100.7960951 ],\n",
      "       [ -0.90396573],\n",
      "       [  1.1513372 ],\n",
      "       [ -0.19771394],\n",
      "       [ -0.11397792],\n",
      "       [ -0.56742083]]), 'confounder=>outcome': array([[ 1.01401779e+02],\n",
      "       [-7.78002143e-02],\n",
      "       [-1.85350135e+00],\n",
      "       [-5.24606409e-01],\n",
      "       [ 8.54072343e-01],\n",
      "       [ 4.66934459e-01]]), 'effect_modifier=>outcome': array([[2.0342518 ],\n",
      "       [0.29609684]]), 'treatment=>outcome': array([[-0.3099301]])}\n",
      "        bias: {'confounder=>treatment': array([-0.82856682]), 'confounder=>outcome': array([-0.50753819])}\n",
      "        seed: None\n",
      "        treatment_is_binary: True\n",
      "        percentile: 0.9\n",
      "        \n",
      "printing data shape\n",
      "(1000, 10)\n",
      "[-0.22228818]\n",
      "check\n",
      "printing length of confounder list: 2\n",
      "printing confounder list: ['w2', 'w3']\n",
      "data columns\n",
      "data columns Index(['x1', 'x2', 'w1', 'w2', 'w3', 'w4', 'w5', 'w6', 't1', 'y'], dtype='object')\n",
      "identified_estimand: Estimand type: nonparametric-ate\n",
      "\n",
      "### Estimand : 1\n",
      "Estimand name: backdoor1 (Default)\n",
      "Estimand expression:\n",
      "  d                        \n",
      "─────(Expectation(y|w3,w2))\n",
      "d[t₁]                      \n",
      "Estimand assumption 1, Unconfoundedness: If U→{t1} and U→y then P(y|t1,w3,w2,U) = P(y|t1,w3,w2)\n",
      "\n",
      "### Estimand : 2\n",
      "Estimand name: iv\n",
      "No such variable found!\n",
      "\n",
      "### Estimand : 3\n",
      "Estimand name: frontdoor\n",
      "No such variable found!\n",
      "\n",
      "\n",
      "\n",
      "Running the estimators:\n",
      "\n",
      "The current estimator: Estimator(name='backdoor.linear_regression', params=None)\n",
      "estimator.params None\n",
      "printing estimate's type\n",
      "<class 'dowhy.causal_estimator.CausalEstimate'>\n",
      "The current estimator: Estimator(name='backdoor.propensity_score_matching', params={'init_params': {}})\n",
      "estimator.params {'init_params': {}}\n"
     ]
    },
    {
     "name": "stderr",
     "output_type": "stream",
     "text": [
      "INFO:dowhy.causal_estimator:INFO: Using Propensity Score Weighting Estimator\n",
      "INFO:dowhy.causal_estimator:b: y~t1+w3+w2\n",
      "INFO:dowhy.causal_estimator:INFO: Using EconML Estimator\n",
      "WARNING:dowhy.causal_estimator:Effect modifiers are not a subset of common causes. For efficiency in estimation, EconML will consider all effect modifiers as common causes too.\n",
      "INFO:dowhy.causal_estimator:b: y~t1+w3+w2+x1+x2 | x1,x2\n"
     ]
    },
    {
     "name": "stdout",
     "output_type": "stream",
     "text": [
      "printing estimate's type\n",
      "<class 'dowhy.causal_estimator.CausalEstimate'>\n",
      "The current estimator: Estimator(name='backdoor.propensity_score_weighting', params={'init_params': {}})\n",
      "estimator.params {'init_params': {}}\n",
      "printing estimate's type\n",
      "<class 'dowhy.causal_estimator.CausalEstimate'>\n",
      "The current estimator: Estimator(name='backdoor.econml.dml.DML', params={'init_params': {'model_y': GradientBoostingRegressor(), 'model_t': GradientBoostingRegressor(), 'model_final': LassoCV(), 'featurizer': PolynomialFeatures(degree=1)}, 'fit_params': {}, '_econml_methodname': 'econml.dml.DML'})\n",
      "estimator.params {'init_params': {'model_y': GradientBoostingRegressor(), 'model_t': GradientBoostingRegressor(), 'model_final': LassoCV(), 'featurizer': PolynomialFeatures(degree=1)}, 'fit_params': {}, '_econml_methodname': 'econml.dml.DML'}\n"
     ]
    },
    {
     "name": "stderr",
     "output_type": "stream",
     "text": [
      "INFO:dowhy.causal_estimator:INFO: Using EconML Estimator\n",
      "WARNING:dowhy.causal_estimator:Effect modifiers are not a subset of common causes. For efficiency in estimation, EconML will consider all effect modifiers as common causes too.\n",
      "INFO:dowhy.causal_estimator:b: y~t1+w3+w2+x1+x2 | x1,x2\n"
     ]
    },
    {
     "name": "stdout",
     "output_type": "stream",
     "text": [
      "printing estimate's type\n",
      "<class 'dowhy.causal_estimator.CausalEstimate'>\n",
      "The current estimator: Estimator(name='backdoor.econml.drlearner.LinearDRLearner', params={'init_params': {'model_propensity': LogisticRegressionCV(cv=3)}, 'fit_params': {}, '_econml_methodname': 'econml.drlearner.LinearDRLearner'})\n",
      "estimator.params {'init_params': {'model_propensity': LogisticRegressionCV(cv=3)}, 'fit_params': {}, '_econml_methodname': 'econml.drlearner.LinearDRLearner'}\n"
     ]
    },
    {
     "name": "stderr",
     "output_type": "stream",
     "text": [
      "INFO:dowhy.causal_refuter:All variables required: Running bootstrap adding noise to confounders, instrumental variables and effect modifiers.\n",
      "INFO:dowhy.causal_refuters.dummy_outcome_refuter:Refutation over 5 simulated datasets\n",
      "INFO:dowhy.causal_refuters.dummy_outcome_refuter:The transformation passed: [('random_forest', {'n_estimators': 100, 'max_depth': 6})]\n"
     ]
    },
    {
     "name": "stdout",
     "output_type": "stream",
     "text": [
      "printing estimate's type\n",
      "<class 'dowhy.causal_estimator.CausalEstimate'>\n",
      "estimate_values [60.6990199965188, 50.565428203866404, 58.555306922805606, 47.739909908282456, 61.146536898318764]\n",
      "\n",
      "\n",
      "Running the refuters:\n",
      "\n",
      "The current refuter: Refuter(name='dummy_outcome_refuter', params={'num_simulations': 5, 'transformation_list': [('random_forest', {'n_estimators': 100, 'max_depth': 6})], 'true_causal_effect': <function <lambda> at 0x0000022829325828>})\n"
     ]
    },
    {
     "name": "stderr",
     "output_type": "stream",
     "text": [
      "INFO:dowhy.causal_estimator:b: dummy_outcome~t1+w3+w2+t1*x1+t1*x2\n",
      "INFO:dowhy.causal_estimator:INFO: Using Linear Regression Estimator\n",
      "INFO:dowhy.causal_estimator:b: dummy_outcome~t1+w3+w2+t1*x1+t1*x2\n",
      "INFO:dowhy.causal_estimator:INFO: Using Linear Regression Estimator\n",
      "INFO:dowhy.causal_estimator:b: dummy_outcome~t1+w3+w2+t1*x1+t1*x2\n",
      "INFO:dowhy.causal_estimator:INFO: Using Linear Regression Estimator\n",
      "INFO:dowhy.causal_estimator:b: dummy_outcome~t1+w3+w2+t1*x1+t1*x2\n",
      "INFO:dowhy.causal_estimator:INFO: Using Linear Regression Estimator\n",
      "INFO:dowhy.causal_estimator:b: dummy_outcome~t1+w3+w2+t1*x1+t1*x2\n",
      "INFO:dowhy.causal_estimator:INFO: Using Linear Regression Estimator\n",
      "INFO:dowhy.causal_estimator:b: dummy_outcome~t1+w3+w2+t1*x1+t1*x2\n",
      "INFO:dowhy.causal_estimator:INFO: Using Linear Regression Estimator\n",
      "INFO:dowhy.causal_estimator:b: dummy_outcome~t1+w3+w2+t1*x1+t1*x2\n",
      "INFO:dowhy.causal_estimator:INFO: Using Linear Regression Estimator\n",
      "INFO:dowhy.causal_estimator:b: dummy_outcome~t1+w3+w2+t1*x1+t1*x2\n",
      "INFO:dowhy.causal_estimator:INFO: Using Linear Regression Estimator\n",
      "INFO:dowhy.causal_estimator:b: dummy_outcome~t1+w3+w2+t1*x1+t1*x2\n",
      "INFO:dowhy.causal_estimator:INFO: Using Linear Regression Estimator\n",
      "INFO:dowhy.causal_estimator:b: dummy_outcome~t1+w3+w2+t1*x1+t1*x2\n",
      "INFO:dowhy.causal_estimator:INFO: Using Linear Regression Estimator\n",
      "WARNING:dowhy.causal_refuters.dummy_outcome_refuter:We assume a Normal Distribution as the sample has less than 100 examples.\n",
      "                 Note: The underlying distribution may not be Normal. We assume that it approaches normal with the increase in sample size.\n",
      "WARNING:dowhy.causal_refuters.dummy_outcome_refuter:We assume a Normal Distribution as the sample has less than 100 examples.\n",
      "                 Note: The underlying distribution may not be Normal. We assume that it approaches normal with the increase in sample size.\n",
      "INFO:dowhy.causal_refuter:All variables required: Running bootstrap adding noise to confounders, instrumental variables and effect modifiers.\n",
      "INFO:dowhy.causal_refuters.dummy_outcome_refuter:Refutation over 5 simulated datasets\n",
      "INFO:dowhy.causal_refuters.dummy_outcome_refuter:The transformation passed: [('random_forest', {'n_estimators': 100, 'max_depth': 6})]\n"
     ]
    },
    {
     "name": "stdout",
     "output_type": "stream",
     "text": [
      "printing refute's type\n",
      "<class 'list'>\n"
     ]
    },
    {
     "name": "stderr",
     "output_type": "stream",
     "text": [
      "INFO:dowhy.causal_estimator:INFO: Using Propensity Score Matching Estimator\n",
      "INFO:dowhy.causal_estimator:b: dummy_outcome~t1+w3+w2\n",
      "INFO:dowhy.causal_estimator:INFO: Using Propensity Score Matching Estimator\n",
      "INFO:dowhy.causal_estimator:b: dummy_outcome~t1+w3+w2\n",
      "INFO:dowhy.causal_estimator:INFO: Using Propensity Score Matching Estimator\n",
      "INFO:dowhy.causal_estimator:b: dummy_outcome~t1+w3+w2\n",
      "INFO:dowhy.causal_estimator:INFO: Using Propensity Score Matching Estimator\n",
      "INFO:dowhy.causal_estimator:b: dummy_outcome~t1+w3+w2\n",
      "INFO:dowhy.causal_estimator:INFO: Using Propensity Score Matching Estimator\n",
      "INFO:dowhy.causal_estimator:b: dummy_outcome~t1+w3+w2\n",
      "INFO:dowhy.causal_estimator:INFO: Using Propensity Score Matching Estimator\n",
      "INFO:dowhy.causal_estimator:b: dummy_outcome~t1+w3+w2\n",
      "INFO:dowhy.causal_estimator:INFO: Using Propensity Score Matching Estimator\n",
      "INFO:dowhy.causal_estimator:b: dummy_outcome~t1+w3+w2\n",
      "INFO:dowhy.causal_estimator:INFO: Using Propensity Score Matching Estimator\n",
      "INFO:dowhy.causal_estimator:b: dummy_outcome~t1+w3+w2\n",
      "INFO:dowhy.causal_estimator:INFO: Using Propensity Score Matching Estimator\n",
      "INFO:dowhy.causal_estimator:b: dummy_outcome~t1+w3+w2\n",
      "INFO:dowhy.causal_estimator:INFO: Using Propensity Score Matching Estimator\n",
      "INFO:dowhy.causal_estimator:b: dummy_outcome~t1+w3+w2\n",
      "WARNING:dowhy.causal_refuters.dummy_outcome_refuter:We assume a Normal Distribution as the sample has less than 100 examples.\n",
      "                 Note: The underlying distribution may not be Normal. We assume that it approaches normal with the increase in sample size.\n",
      "WARNING:dowhy.causal_refuters.dummy_outcome_refuter:We assume a Normal Distribution as the sample has less than 100 examples.\n",
      "                 Note: The underlying distribution may not be Normal. We assume that it approaches normal with the increase in sample size.\n",
      "INFO:dowhy.causal_refuter:All variables required: Running bootstrap adding noise to confounders, instrumental variables and effect modifiers.\n",
      "INFO:dowhy.causal_refuters.dummy_outcome_refuter:Refutation over 5 simulated datasets\n",
      "INFO:dowhy.causal_refuters.dummy_outcome_refuter:The transformation passed: [('random_forest', {'n_estimators': 100, 'max_depth': 6})]\n"
     ]
    },
    {
     "name": "stdout",
     "output_type": "stream",
     "text": [
      "printing refute's type\n",
      "<class 'list'>\n"
     ]
    },
    {
     "name": "stderr",
     "output_type": "stream",
     "text": [
      "INFO:dowhy.causal_estimator:INFO: Using Propensity Score Weighting Estimator\n",
      "INFO:dowhy.causal_estimator:b: dummy_outcome~t1+w3+w2\n",
      "INFO:dowhy.causal_estimator:INFO: Using Propensity Score Weighting Estimator\n",
      "INFO:dowhy.causal_estimator:b: dummy_outcome~t1+w3+w2\n",
      "INFO:dowhy.causal_estimator:INFO: Using Propensity Score Weighting Estimator\n",
      "INFO:dowhy.causal_estimator:b: dummy_outcome~t1+w3+w2\n",
      "INFO:dowhy.causal_estimator:INFO: Using Propensity Score Weighting Estimator\n",
      "INFO:dowhy.causal_estimator:b: dummy_outcome~t1+w3+w2\n",
      "INFO:dowhy.causal_estimator:INFO: Using Propensity Score Weighting Estimator\n",
      "INFO:dowhy.causal_estimator:b: dummy_outcome~t1+w3+w2\n",
      "INFO:dowhy.causal_estimator:INFO: Using Propensity Score Weighting Estimator\n",
      "INFO:dowhy.causal_estimator:b: dummy_outcome~t1+w3+w2\n",
      "INFO:dowhy.causal_estimator:INFO: Using Propensity Score Weighting Estimator\n",
      "INFO:dowhy.causal_estimator:b: dummy_outcome~t1+w3+w2\n",
      "INFO:dowhy.causal_estimator:INFO: Using Propensity Score Weighting Estimator\n",
      "INFO:dowhy.causal_estimator:b: dummy_outcome~t1+w3+w2\n",
      "INFO:dowhy.causal_estimator:INFO: Using Propensity Score Weighting Estimator\n",
      "INFO:dowhy.causal_estimator:b: dummy_outcome~t1+w3+w2\n",
      "INFO:dowhy.causal_estimator:INFO: Using Propensity Score Weighting Estimator\n",
      "INFO:dowhy.causal_estimator:b: dummy_outcome~t1+w3+w2\n",
      "WARNING:dowhy.causal_refuters.dummy_outcome_refuter:We assume a Normal Distribution as the sample has less than 100 examples.\n",
      "                 Note: The underlying distribution may not be Normal. We assume that it approaches normal with the increase in sample size.\n",
      "WARNING:dowhy.causal_refuters.dummy_outcome_refuter:We assume a Normal Distribution as the sample has less than 100 examples.\n",
      "                 Note: The underlying distribution may not be Normal. We assume that it approaches normal with the increase in sample size.\n",
      "INFO:dowhy.causal_refuter:All variables required: Running bootstrap adding noise to confounders, instrumental variables and effect modifiers.\n",
      "INFO:dowhy.causal_refuters.dummy_outcome_refuter:Refutation over 5 simulated datasets\n",
      "INFO:dowhy.causal_refuters.dummy_outcome_refuter:The transformation passed: [('random_forest', {'n_estimators': 100, 'max_depth': 6})]\n"
     ]
    },
    {
     "name": "stdout",
     "output_type": "stream",
     "text": [
      "printing refute's type\n",
      "<class 'list'>\n"
     ]
    },
    {
     "name": "stderr",
     "output_type": "stream",
     "text": [
      "INFO:dowhy.causal_estimator:INFO: Using EconML Estimator\n",
      "WARNING:dowhy.causal_estimator:Effect modifiers are not a subset of common causes. For efficiency in estimation, EconML will consider all effect modifiers as common causes too.\n",
      "INFO:dowhy.causal_estimator:b: dummy_outcome~t1+w3+w2+x1+x2 | x1,x2\n",
      "INFO:dowhy.causal_estimator:INFO: Using EconML Estimator\n",
      "WARNING:dowhy.causal_estimator:Effect modifiers are not a subset of common causes. For efficiency in estimation, EconML will consider all effect modifiers as common causes too.\n",
      "INFO:dowhy.causal_estimator:b: dummy_outcome~t1+w3+w2+x1+x2 | x1,x2\n",
      "INFO:dowhy.causal_estimator:INFO: Using EconML Estimator\n",
      "WARNING:dowhy.causal_estimator:Effect modifiers are not a subset of common causes. For efficiency in estimation, EconML will consider all effect modifiers as common causes too.\n",
      "INFO:dowhy.causal_estimator:b: dummy_outcome~t1+w3+w2+x1+x2 | x1,x2\n",
      "INFO:dowhy.causal_estimator:INFO: Using EconML Estimator\n",
      "WARNING:dowhy.causal_estimator:Effect modifiers are not a subset of common causes. For efficiency in estimation, EconML will consider all effect modifiers as common causes too.\n",
      "INFO:dowhy.causal_estimator:b: dummy_outcome~t1+w3+w2+x1+x2 | x1,x2\n",
      "INFO:dowhy.causal_estimator:INFO: Using EconML Estimator\n",
      "WARNING:dowhy.causal_estimator:Effect modifiers are not a subset of common causes. For efficiency in estimation, EconML will consider all effect modifiers as common causes too.\n",
      "INFO:dowhy.causal_estimator:b: dummy_outcome~t1+w3+w2+x1+x2 | x1,x2\n",
      "INFO:dowhy.causal_estimator:INFO: Using EconML Estimator\n",
      "WARNING:dowhy.causal_estimator:Effect modifiers are not a subset of common causes. For efficiency in estimation, EconML will consider all effect modifiers as common causes too.\n",
      "INFO:dowhy.causal_estimator:b: dummy_outcome~t1+w3+w2+x1+x2 | x1,x2\n",
      "INFO:dowhy.causal_estimator:INFO: Using EconML Estimator\n",
      "WARNING:dowhy.causal_estimator:Effect modifiers are not a subset of common causes. For efficiency in estimation, EconML will consider all effect modifiers as common causes too.\n",
      "INFO:dowhy.causal_estimator:b: dummy_outcome~t1+w3+w2+x1+x2 | x1,x2\n",
      "INFO:dowhy.causal_estimator:INFO: Using EconML Estimator\n",
      "WARNING:dowhy.causal_estimator:Effect modifiers are not a subset of common causes. For efficiency in estimation, EconML will consider all effect modifiers as common causes too.\n",
      "INFO:dowhy.causal_estimator:b: dummy_outcome~t1+w3+w2+x1+x2 | x1,x2\n",
      "INFO:dowhy.causal_estimator:INFO: Using EconML Estimator\n",
      "WARNING:dowhy.causal_estimator:Effect modifiers are not a subset of common causes. For efficiency in estimation, EconML will consider all effect modifiers as common causes too.\n",
      "INFO:dowhy.causal_estimator:b: dummy_outcome~t1+w3+w2+x1+x2 | x1,x2\n",
      "INFO:dowhy.causal_estimator:INFO: Using EconML Estimator\n",
      "WARNING:dowhy.causal_estimator:Effect modifiers are not a subset of common causes. For efficiency in estimation, EconML will consider all effect modifiers as common causes too.\n",
      "INFO:dowhy.causal_estimator:b: dummy_outcome~t1+w3+w2+x1+x2 | x1,x2\n",
      "WARNING:dowhy.causal_refuters.dummy_outcome_refuter:We assume a Normal Distribution as the sample has less than 100 examples.\n",
      "                 Note: The underlying distribution may not be Normal. We assume that it approaches normal with the increase in sample size.\n",
      "WARNING:dowhy.causal_refuters.dummy_outcome_refuter:We assume a Normal Distribution as the sample has less than 100 examples.\n",
      "                 Note: The underlying distribution may not be Normal. We assume that it approaches normal with the increase in sample size.\n",
      "INFO:dowhy.causal_refuter:All variables required: Running bootstrap adding noise to confounders, instrumental variables and effect modifiers.\n",
      "INFO:dowhy.causal_refuters.dummy_outcome_refuter:Refutation over 5 simulated datasets\n",
      "INFO:dowhy.causal_refuters.dummy_outcome_refuter:The transformation passed: [('random_forest', {'n_estimators': 100, 'max_depth': 6})]\n"
     ]
    },
    {
     "name": "stdout",
     "output_type": "stream",
     "text": [
      "printing refute's type\n",
      "<class 'list'>\n"
     ]
    },
    {
     "name": "stderr",
     "output_type": "stream",
     "text": [
      "INFO:dowhy.causal_estimator:INFO: Using EconML Estimator\n",
      "WARNING:dowhy.causal_estimator:Effect modifiers are not a subset of common causes. For efficiency in estimation, EconML will consider all effect modifiers as common causes too.\n",
      "INFO:dowhy.causal_estimator:b: dummy_outcome~t1+w3+w2+x1+x2 | x1,x2\n",
      "INFO:dowhy.causal_estimator:INFO: Using EconML Estimator\n",
      "WARNING:dowhy.causal_estimator:Effect modifiers are not a subset of common causes. For efficiency in estimation, EconML will consider all effect modifiers as common causes too.\n",
      "INFO:dowhy.causal_estimator:b: dummy_outcome~t1+w3+w2+x1+x2 | x1,x2\n",
      "INFO:dowhy.causal_estimator:INFO: Using EconML Estimator\n",
      "WARNING:dowhy.causal_estimator:Effect modifiers are not a subset of common causes. For efficiency in estimation, EconML will consider all effect modifiers as common causes too.\n",
      "INFO:dowhy.causal_estimator:b: dummy_outcome~t1+w3+w2+x1+x2 | x1,x2\n",
      "INFO:dowhy.causal_estimator:INFO: Using EconML Estimator\n",
      "WARNING:dowhy.causal_estimator:Effect modifiers are not a subset of common causes. For efficiency in estimation, EconML will consider all effect modifiers as common causes too.\n",
      "INFO:dowhy.causal_estimator:b: dummy_outcome~t1+w3+w2+x1+x2 | x1,x2\n",
      "INFO:dowhy.causal_estimator:INFO: Using EconML Estimator\n",
      "WARNING:dowhy.causal_estimator:Effect modifiers are not a subset of common causes. For efficiency in estimation, EconML will consider all effect modifiers as common causes too.\n",
      "INFO:dowhy.causal_estimator:b: dummy_outcome~t1+w3+w2+x1+x2 | x1,x2\n",
      "INFO:dowhy.causal_estimator:INFO: Using EconML Estimator\n",
      "WARNING:dowhy.causal_estimator:Effect modifiers are not a subset of common causes. For efficiency in estimation, EconML will consider all effect modifiers as common causes too.\n",
      "INFO:dowhy.causal_estimator:b: dummy_outcome~t1+w3+w2+x1+x2 | x1,x2\n",
      "INFO:dowhy.causal_estimator:INFO: Using EconML Estimator\n",
      "WARNING:dowhy.causal_estimator:Effect modifiers are not a subset of common causes. For efficiency in estimation, EconML will consider all effect modifiers as common causes too.\n",
      "INFO:dowhy.causal_estimator:b: dummy_outcome~t1+w3+w2+x1+x2 | x1,x2\n",
      "INFO:dowhy.causal_estimator:INFO: Using EconML Estimator\n",
      "WARNING:dowhy.causal_estimator:Effect modifiers are not a subset of common causes. For efficiency in estimation, EconML will consider all effect modifiers as common causes too.\n",
      "INFO:dowhy.causal_estimator:b: dummy_outcome~t1+w3+w2+x1+x2 | x1,x2\n",
      "INFO:dowhy.causal_estimator:INFO: Using EconML Estimator\n",
      "WARNING:dowhy.causal_estimator:Effect modifiers are not a subset of common causes. For efficiency in estimation, EconML will consider all effect modifiers as common causes too.\n",
      "INFO:dowhy.causal_estimator:b: dummy_outcome~t1+w3+w2+x1+x2 | x1,x2\n",
      "INFO:dowhy.causal_estimator:INFO: Using EconML Estimator\n",
      "WARNING:dowhy.causal_estimator:Effect modifiers are not a subset of common causes. For efficiency in estimation, EconML will consider all effect modifiers as common causes too.\n",
      "INFO:dowhy.causal_estimator:b: dummy_outcome~t1+w3+w2+x1+x2 | x1,x2\n",
      "WARNING:dowhy.causal_refuters.dummy_outcome_refuter:We assume a Normal Distribution as the sample has less than 100 examples.\n",
      "                 Note: The underlying distribution may not be Normal. We assume that it approaches normal with the increase in sample size.\n",
      "WARNING:dowhy.causal_refuters.dummy_outcome_refuter:We assume a Normal Distribution as the sample has less than 100 examples.\n",
      "                 Note: The underlying distribution may not be Normal. We assume that it approaches normal with the increase in sample size.\n",
      "WARNING:dowhy.causal_model:Causal Graph not provided. DoWhy will construct a graph based on data inputs.\n",
      "INFO:dowhy.causal_graph:If this is observed data (not from a randomized experiment), there might always be missing confounders. Adding a node named \"Unobserved Confounders\" to reflect this.\n",
      "INFO:dowhy.causal_model:Model to find the causal effect of treatment ['t1'] on outcome ['y']\n",
      "WARNING:dowhy.causal_identifier:If this is observed data (not from a randomized experiment), there might always be missing confounders. Causal effect cannot be identified perfectly.\n",
      "INFO:dowhy.causal_identifier:Continuing by ignoring these unobserved confounders because proceed_when_unidentifiable flag is True.\n",
      "INFO:dowhy.causal_identifier:Instrumental variables for treatment and outcome:[]\n",
      "INFO:dowhy.causal_identifier:Frontdoor variables for treatment and outcome:[]\n",
      "INFO:dowhy.causal_estimator:b: y~t1+w3+w2+t1*x1+t1*x2\n",
      "INFO:dowhy.causal_estimator:INFO: Using Linear Regression Estimator\n",
      "INFO:dowhy.causal_estimator:INFO: Using Propensity Score Matching Estimator\n",
      "INFO:dowhy.causal_estimator:b: y~t1+w3+w2\n"
     ]
    },
    {
     "name": "stdout",
     "output_type": "stream",
     "text": [
      "printing refute's type\n",
      "<class 'list'>\n",
      "estimated effect [0.5, 0.5, 0.5, 0.5, 0.5]\n",
      "new_effect [1.2878766427776736, 0.046501330220839555, 0.9040018615197614, -0.23959254163621221, 1.0724025532318024]\n",
      "p_value [0.38685649001424544, 0.44083420016346675, 0.4625072778849648, 0.3191576777243932, 0.07642849884087856]\n",
      "true value -0.22228817972977924\n",
      "\n",
      "\n",
      "Running Experiment Number: 7\n",
      "\n",
      "\n",
      "Current Sample Size: 1000\n",
      "\n",
      "\n",
      "The current DGP:\n",
      "\n",
      "        Linear Data Generating Process\n",
      "        -------------------------------\n",
      "        \n",
      "        treatment:['t1']\n",
      "        outcome:['y']\n",
      "        confounder: ['w1', 'w2', 'w3', 'w4', 'w5', 'w6']\n",
      "        effect_modifier: ['x1', 'x2']\n",
      "        weights: {'confounder=>treatment': array([[ 9.98802014e+01],\n",
      "       [ 7.29822280e-01],\n",
      "       [-1.84363071e+00],\n",
      "       [-9.09616206e-01],\n",
      "       [ 5.42622433e-02],\n",
      "       [ 3.93696572e-01]]), 'confounder=>outcome': array([[98.85150586],\n",
      "       [ 0.43908178],\n",
      "       [ 0.90515854],\n",
      "       [-0.54453427],\n",
      "       [-0.46042737],\n",
      "       [-1.22942229]]), 'effect_modifier=>outcome': array([[0.97548701],\n",
      "       [0.96037285]]), 'treatment=>outcome': array([[-0.22228818]])}\n",
      "        bias: {'confounder=>treatment': array([0.57189119]), 'confounder=>outcome': array([0.24586171])}\n",
      "        seed: None\n",
      "        treatment_is_binary: True\n",
      "        percentile: 0.9\n",
      "        \n",
      "printing data shape\n",
      "(1000, 10)\n",
      "[0.82801667]\n",
      "check\n",
      "printing length of confounder list: 2\n",
      "printing confounder list: ['w2', 'w3']\n",
      "data columns\n",
      "data columns Index(['x1', 'x2', 'w1', 'w2', 'w3', 'w4', 'w5', 'w6', 't1', 'y'], dtype='object')\n",
      "identified_estimand: Estimand type: nonparametric-ate\n",
      "\n",
      "### Estimand : 1\n",
      "Estimand name: backdoor1 (Default)\n",
      "Estimand expression:\n",
      "  d                        \n",
      "─────(Expectation(y|w3,w2))\n",
      "d[t₁]                      \n",
      "Estimand assumption 1, Unconfoundedness: If U→{t1} and U→y then P(y|t1,w3,w2,U) = P(y|t1,w3,w2)\n",
      "\n",
      "### Estimand : 2\n",
      "Estimand name: iv\n",
      "No such variable found!\n",
      "\n",
      "### Estimand : 3\n",
      "Estimand name: frontdoor\n",
      "No such variable found!\n",
      "\n",
      "\n",
      "\n",
      "Running the estimators:\n",
      "\n",
      "The current estimator: Estimator(name='backdoor.linear_regression', params=None)\n",
      "estimator.params None\n",
      "printing estimate's type\n",
      "<class 'dowhy.causal_estimator.CausalEstimate'>\n",
      "The current estimator: Estimator(name='backdoor.propensity_score_matching', params={'init_params': {}})\n",
      "estimator.params {'init_params': {}}\n"
     ]
    },
    {
     "name": "stderr",
     "output_type": "stream",
     "text": [
      "INFO:dowhy.causal_estimator:INFO: Using Propensity Score Weighting Estimator\n",
      "INFO:dowhy.causal_estimator:b: y~t1+w3+w2\n",
      "INFO:dowhy.causal_estimator:INFO: Using EconML Estimator\n",
      "WARNING:dowhy.causal_estimator:Effect modifiers are not a subset of common causes. For efficiency in estimation, EconML will consider all effect modifiers as common causes too.\n",
      "INFO:dowhy.causal_estimator:b: y~t1+w3+w2+x1+x2 | x1,x2\n"
     ]
    },
    {
     "name": "stdout",
     "output_type": "stream",
     "text": [
      "printing estimate's type\n",
      "<class 'dowhy.causal_estimator.CausalEstimate'>\n",
      "The current estimator: Estimator(name='backdoor.propensity_score_weighting', params={'init_params': {}})\n",
      "estimator.params {'init_params': {}}\n",
      "printing estimate's type\n",
      "<class 'dowhy.causal_estimator.CausalEstimate'>\n",
      "The current estimator: Estimator(name='backdoor.econml.dml.DML', params={'init_params': {'model_y': GradientBoostingRegressor(), 'model_t': GradientBoostingRegressor(), 'model_final': LassoCV(), 'featurizer': PolynomialFeatures(degree=1)}, 'fit_params': {}, '_econml_methodname': 'econml.dml.DML'})\n",
      "estimator.params {'init_params': {'model_y': GradientBoostingRegressor(), 'model_t': GradientBoostingRegressor(), 'model_final': LassoCV(), 'featurizer': PolynomialFeatures(degree=1)}, 'fit_params': {}, '_econml_methodname': 'econml.dml.DML'}\n"
     ]
    },
    {
     "name": "stderr",
     "output_type": "stream",
     "text": [
      "INFO:dowhy.causal_estimator:INFO: Using EconML Estimator\n",
      "WARNING:dowhy.causal_estimator:Effect modifiers are not a subset of common causes. For efficiency in estimation, EconML will consider all effect modifiers as common causes too.\n",
      "INFO:dowhy.causal_estimator:b: y~t1+w3+w2+x1+x2 | x1,x2\n"
     ]
    },
    {
     "name": "stdout",
     "output_type": "stream",
     "text": [
      "printing estimate's type\n",
      "<class 'dowhy.causal_estimator.CausalEstimate'>\n",
      "The current estimator: Estimator(name='backdoor.econml.drlearner.LinearDRLearner', params={'init_params': {'model_propensity': LogisticRegressionCV(cv=3)}, 'fit_params': {}, '_econml_methodname': 'econml.drlearner.LinearDRLearner'})\n",
      "estimator.params {'init_params': {'model_propensity': LogisticRegressionCV(cv=3)}, 'fit_params': {}, '_econml_methodname': 'econml.drlearner.LinearDRLearner'}\n"
     ]
    },
    {
     "name": "stderr",
     "output_type": "stream",
     "text": [
      "INFO:dowhy.causal_refuter:All variables required: Running bootstrap adding noise to confounders, instrumental variables and effect modifiers.\n",
      "INFO:dowhy.causal_refuters.dummy_outcome_refuter:Refutation over 5 simulated datasets\n",
      "INFO:dowhy.causal_refuters.dummy_outcome_refuter:The transformation passed: [('random_forest', {'n_estimators': 100, 'max_depth': 6})]\n"
     ]
    },
    {
     "name": "stdout",
     "output_type": "stream",
     "text": [
      "printing estimate's type\n",
      "<class 'dowhy.causal_estimator.CausalEstimate'>\n",
      "estimate_values [73.75251322103617, 72.13029569590095, 73.91048259869228, 65.0276882113894, 73.80015679019813]\n",
      "\n",
      "\n",
      "Running the refuters:\n",
      "\n",
      "The current refuter: Refuter(name='dummy_outcome_refuter', params={'num_simulations': 5, 'transformation_list': [('random_forest', {'n_estimators': 100, 'max_depth': 6})], 'true_causal_effect': <function <lambda> at 0x0000022829325828>})\n"
     ]
    },
    {
     "name": "stderr",
     "output_type": "stream",
     "text": [
      "INFO:dowhy.causal_estimator:b: dummy_outcome~t1+w3+w2+t1*x1+t1*x2\n",
      "INFO:dowhy.causal_estimator:INFO: Using Linear Regression Estimator\n",
      "INFO:dowhy.causal_estimator:b: dummy_outcome~t1+w3+w2+t1*x1+t1*x2\n",
      "INFO:dowhy.causal_estimator:INFO: Using Linear Regression Estimator\n",
      "INFO:dowhy.causal_estimator:b: dummy_outcome~t1+w3+w2+t1*x1+t1*x2\n",
      "INFO:dowhy.causal_estimator:INFO: Using Linear Regression Estimator\n",
      "INFO:dowhy.causal_estimator:b: dummy_outcome~t1+w3+w2+t1*x1+t1*x2\n",
      "INFO:dowhy.causal_estimator:INFO: Using Linear Regression Estimator\n",
      "INFO:dowhy.causal_estimator:b: dummy_outcome~t1+w3+w2+t1*x1+t1*x2\n",
      "INFO:dowhy.causal_estimator:INFO: Using Linear Regression Estimator\n",
      "INFO:dowhy.causal_estimator:b: dummy_outcome~t1+w3+w2+t1*x1+t1*x2\n",
      "INFO:dowhy.causal_estimator:INFO: Using Linear Regression Estimator\n",
      "INFO:dowhy.causal_estimator:b: dummy_outcome~t1+w3+w2+t1*x1+t1*x2\n",
      "INFO:dowhy.causal_estimator:INFO: Using Linear Regression Estimator\n",
      "INFO:dowhy.causal_estimator:b: dummy_outcome~t1+w3+w2+t1*x1+t1*x2\n",
      "INFO:dowhy.causal_estimator:INFO: Using Linear Regression Estimator\n",
      "INFO:dowhy.causal_estimator:b: dummy_outcome~t1+w3+w2+t1*x1+t1*x2\n",
      "INFO:dowhy.causal_estimator:INFO: Using Linear Regression Estimator\n",
      "INFO:dowhy.causal_estimator:b: dummy_outcome~t1+w3+w2+t1*x1+t1*x2\n",
      "INFO:dowhy.causal_estimator:INFO: Using Linear Regression Estimator\n",
      "WARNING:dowhy.causal_refuters.dummy_outcome_refuter:We assume a Normal Distribution as the sample has less than 100 examples.\n",
      "                 Note: The underlying distribution may not be Normal. We assume that it approaches normal with the increase in sample size.\n",
      "WARNING:dowhy.causal_refuters.dummy_outcome_refuter:We assume a Normal Distribution as the sample has less than 100 examples.\n",
      "                 Note: The underlying distribution may not be Normal. We assume that it approaches normal with the increase in sample size.\n",
      "INFO:dowhy.causal_refuter:All variables required: Running bootstrap adding noise to confounders, instrumental variables and effect modifiers.\n",
      "INFO:dowhy.causal_refuters.dummy_outcome_refuter:Refutation over 5 simulated datasets\n",
      "INFO:dowhy.causal_refuters.dummy_outcome_refuter:The transformation passed: [('random_forest', {'n_estimators': 100, 'max_depth': 6})]\n"
     ]
    },
    {
     "name": "stdout",
     "output_type": "stream",
     "text": [
      "printing refute's type\n",
      "<class 'list'>\n"
     ]
    },
    {
     "name": "stderr",
     "output_type": "stream",
     "text": [
      "INFO:dowhy.causal_estimator:INFO: Using Propensity Score Matching Estimator\n",
      "INFO:dowhy.causal_estimator:b: dummy_outcome~t1+w3+w2\n",
      "INFO:dowhy.causal_estimator:INFO: Using Propensity Score Matching Estimator\n",
      "INFO:dowhy.causal_estimator:b: dummy_outcome~t1+w3+w2\n",
      "INFO:dowhy.causal_estimator:INFO: Using Propensity Score Matching Estimator\n",
      "INFO:dowhy.causal_estimator:b: dummy_outcome~t1+w3+w2\n",
      "INFO:dowhy.causal_estimator:INFO: Using Propensity Score Matching Estimator\n",
      "INFO:dowhy.causal_estimator:b: dummy_outcome~t1+w3+w2\n",
      "INFO:dowhy.causal_estimator:INFO: Using Propensity Score Matching Estimator\n",
      "INFO:dowhy.causal_estimator:b: dummy_outcome~t1+w3+w2\n",
      "INFO:dowhy.causal_estimator:INFO: Using Propensity Score Matching Estimator\n",
      "INFO:dowhy.causal_estimator:b: dummy_outcome~t1+w3+w2\n",
      "INFO:dowhy.causal_estimator:INFO: Using Propensity Score Matching Estimator\n",
      "INFO:dowhy.causal_estimator:b: dummy_outcome~t1+w3+w2\n",
      "INFO:dowhy.causal_estimator:INFO: Using Propensity Score Matching Estimator\n",
      "INFO:dowhy.causal_estimator:b: dummy_outcome~t1+w3+w2\n",
      "INFO:dowhy.causal_estimator:INFO: Using Propensity Score Matching Estimator\n",
      "INFO:dowhy.causal_estimator:b: dummy_outcome~t1+w3+w2\n",
      "INFO:dowhy.causal_estimator:INFO: Using Propensity Score Matching Estimator\n",
      "INFO:dowhy.causal_estimator:b: dummy_outcome~t1+w3+w2\n",
      "WARNING:dowhy.causal_refuters.dummy_outcome_refuter:We assume a Normal Distribution as the sample has less than 100 examples.\n",
      "                 Note: The underlying distribution may not be Normal. We assume that it approaches normal with the increase in sample size.\n",
      "WARNING:dowhy.causal_refuters.dummy_outcome_refuter:We assume a Normal Distribution as the sample has less than 100 examples.\n",
      "                 Note: The underlying distribution may not be Normal. We assume that it approaches normal with the increase in sample size.\n",
      "INFO:dowhy.causal_refuter:All variables required: Running bootstrap adding noise to confounders, instrumental variables and effect modifiers.\n",
      "INFO:dowhy.causal_refuters.dummy_outcome_refuter:Refutation over 5 simulated datasets\n",
      "INFO:dowhy.causal_refuters.dummy_outcome_refuter:The transformation passed: [('random_forest', {'n_estimators': 100, 'max_depth': 6})]\n"
     ]
    },
    {
     "name": "stdout",
     "output_type": "stream",
     "text": [
      "printing refute's type\n",
      "<class 'list'>\n"
     ]
    },
    {
     "name": "stderr",
     "output_type": "stream",
     "text": [
      "INFO:dowhy.causal_estimator:INFO: Using Propensity Score Weighting Estimator\n",
      "INFO:dowhy.causal_estimator:b: dummy_outcome~t1+w3+w2\n",
      "INFO:dowhy.causal_estimator:INFO: Using Propensity Score Weighting Estimator\n",
      "INFO:dowhy.causal_estimator:b: dummy_outcome~t1+w3+w2\n",
      "INFO:dowhy.causal_estimator:INFO: Using Propensity Score Weighting Estimator\n",
      "INFO:dowhy.causal_estimator:b: dummy_outcome~t1+w3+w2\n",
      "INFO:dowhy.causal_estimator:INFO: Using Propensity Score Weighting Estimator\n",
      "INFO:dowhy.causal_estimator:b: dummy_outcome~t1+w3+w2\n",
      "INFO:dowhy.causal_estimator:INFO: Using Propensity Score Weighting Estimator\n",
      "INFO:dowhy.causal_estimator:b: dummy_outcome~t1+w3+w2\n",
      "INFO:dowhy.causal_estimator:INFO: Using Propensity Score Weighting Estimator\n",
      "INFO:dowhy.causal_estimator:b: dummy_outcome~t1+w3+w2\n",
      "INFO:dowhy.causal_estimator:INFO: Using Propensity Score Weighting Estimator\n",
      "INFO:dowhy.causal_estimator:b: dummy_outcome~t1+w3+w2\n",
      "INFO:dowhy.causal_estimator:INFO: Using Propensity Score Weighting Estimator\n",
      "INFO:dowhy.causal_estimator:b: dummy_outcome~t1+w3+w2\n",
      "INFO:dowhy.causal_estimator:INFO: Using Propensity Score Weighting Estimator\n",
      "INFO:dowhy.causal_estimator:b: dummy_outcome~t1+w3+w2\n",
      "INFO:dowhy.causal_estimator:INFO: Using Propensity Score Weighting Estimator\n",
      "INFO:dowhy.causal_estimator:b: dummy_outcome~t1+w3+w2\n",
      "WARNING:dowhy.causal_refuters.dummy_outcome_refuter:We assume a Normal Distribution as the sample has less than 100 examples.\n",
      "                 Note: The underlying distribution may not be Normal. We assume that it approaches normal with the increase in sample size.\n",
      "WARNING:dowhy.causal_refuters.dummy_outcome_refuter:We assume a Normal Distribution as the sample has less than 100 examples.\n",
      "                 Note: The underlying distribution may not be Normal. We assume that it approaches normal with the increase in sample size.\n",
      "INFO:dowhy.causal_refuter:All variables required: Running bootstrap adding noise to confounders, instrumental variables and effect modifiers.\n",
      "INFO:dowhy.causal_refuters.dummy_outcome_refuter:Refutation over 5 simulated datasets\n",
      "INFO:dowhy.causal_refuters.dummy_outcome_refuter:The transformation passed: [('random_forest', {'n_estimators': 100, 'max_depth': 6})]\n"
     ]
    },
    {
     "name": "stdout",
     "output_type": "stream",
     "text": [
      "printing refute's type\n",
      "<class 'list'>\n"
     ]
    },
    {
     "name": "stderr",
     "output_type": "stream",
     "text": [
      "INFO:dowhy.causal_estimator:INFO: Using EconML Estimator\n",
      "WARNING:dowhy.causal_estimator:Effect modifiers are not a subset of common causes. For efficiency in estimation, EconML will consider all effect modifiers as common causes too.\n",
      "INFO:dowhy.causal_estimator:b: dummy_outcome~t1+w3+w2+x1+x2 | x1,x2\n",
      "INFO:dowhy.causal_estimator:INFO: Using EconML Estimator\n",
      "WARNING:dowhy.causal_estimator:Effect modifiers are not a subset of common causes. For efficiency in estimation, EconML will consider all effect modifiers as common causes too.\n",
      "INFO:dowhy.causal_estimator:b: dummy_outcome~t1+w3+w2+x1+x2 | x1,x2\n",
      "INFO:dowhy.causal_estimator:INFO: Using EconML Estimator\n",
      "WARNING:dowhy.causal_estimator:Effect modifiers are not a subset of common causes. For efficiency in estimation, EconML will consider all effect modifiers as common causes too.\n",
      "INFO:dowhy.causal_estimator:b: dummy_outcome~t1+w3+w2+x1+x2 | x1,x2\n",
      "INFO:dowhy.causal_estimator:INFO: Using EconML Estimator\n",
      "WARNING:dowhy.causal_estimator:Effect modifiers are not a subset of common causes. For efficiency in estimation, EconML will consider all effect modifiers as common causes too.\n",
      "INFO:dowhy.causal_estimator:b: dummy_outcome~t1+w3+w2+x1+x2 | x1,x2\n",
      "INFO:dowhy.causal_estimator:INFO: Using EconML Estimator\n",
      "WARNING:dowhy.causal_estimator:Effect modifiers are not a subset of common causes. For efficiency in estimation, EconML will consider all effect modifiers as common causes too.\n",
      "INFO:dowhy.causal_estimator:b: dummy_outcome~t1+w3+w2+x1+x2 | x1,x2\n",
      "INFO:dowhy.causal_estimator:INFO: Using EconML Estimator\n",
      "WARNING:dowhy.causal_estimator:Effect modifiers are not a subset of common causes. For efficiency in estimation, EconML will consider all effect modifiers as common causes too.\n",
      "INFO:dowhy.causal_estimator:b: dummy_outcome~t1+w3+w2+x1+x2 | x1,x2\n",
      "INFO:dowhy.causal_estimator:INFO: Using EconML Estimator\n",
      "WARNING:dowhy.causal_estimator:Effect modifiers are not a subset of common causes. For efficiency in estimation, EconML will consider all effect modifiers as common causes too.\n",
      "INFO:dowhy.causal_estimator:b: dummy_outcome~t1+w3+w2+x1+x2 | x1,x2\n",
      "INFO:dowhy.causal_estimator:INFO: Using EconML Estimator\n",
      "WARNING:dowhy.causal_estimator:Effect modifiers are not a subset of common causes. For efficiency in estimation, EconML will consider all effect modifiers as common causes too.\n",
      "INFO:dowhy.causal_estimator:b: dummy_outcome~t1+w3+w2+x1+x2 | x1,x2\n",
      "INFO:dowhy.causal_estimator:INFO: Using EconML Estimator\n",
      "WARNING:dowhy.causal_estimator:Effect modifiers are not a subset of common causes. For efficiency in estimation, EconML will consider all effect modifiers as common causes too.\n",
      "INFO:dowhy.causal_estimator:b: dummy_outcome~t1+w3+w2+x1+x2 | x1,x2\n",
      "INFO:dowhy.causal_estimator:INFO: Using EconML Estimator\n",
      "WARNING:dowhy.causal_estimator:Effect modifiers are not a subset of common causes. For efficiency in estimation, EconML will consider all effect modifiers as common causes too.\n",
      "INFO:dowhy.causal_estimator:b: dummy_outcome~t1+w3+w2+x1+x2 | x1,x2\n",
      "WARNING:dowhy.causal_refuters.dummy_outcome_refuter:We assume a Normal Distribution as the sample has less than 100 examples.\n",
      "                 Note: The underlying distribution may not be Normal. We assume that it approaches normal with the increase in sample size.\n",
      "WARNING:dowhy.causal_refuters.dummy_outcome_refuter:We assume a Normal Distribution as the sample has less than 100 examples.\n",
      "                 Note: The underlying distribution may not be Normal. We assume that it approaches normal with the increase in sample size.\n",
      "INFO:dowhy.causal_refuter:All variables required: Running bootstrap adding noise to confounders, instrumental variables and effect modifiers.\n",
      "INFO:dowhy.causal_refuters.dummy_outcome_refuter:Refutation over 5 simulated datasets\n",
      "INFO:dowhy.causal_refuters.dummy_outcome_refuter:The transformation passed: [('random_forest', {'n_estimators': 100, 'max_depth': 6})]\n"
     ]
    },
    {
     "name": "stdout",
     "output_type": "stream",
     "text": [
      "printing refute's type\n",
      "<class 'list'>\n"
     ]
    },
    {
     "name": "stderr",
     "output_type": "stream",
     "text": [
      "INFO:dowhy.causal_estimator:INFO: Using EconML Estimator\n",
      "WARNING:dowhy.causal_estimator:Effect modifiers are not a subset of common causes. For efficiency in estimation, EconML will consider all effect modifiers as common causes too.\n",
      "INFO:dowhy.causal_estimator:b: dummy_outcome~t1+w3+w2+x1+x2 | x1,x2\n",
      "INFO:dowhy.causal_estimator:INFO: Using EconML Estimator\n",
      "WARNING:dowhy.causal_estimator:Effect modifiers are not a subset of common causes. For efficiency in estimation, EconML will consider all effect modifiers as common causes too.\n",
      "INFO:dowhy.causal_estimator:b: dummy_outcome~t1+w3+w2+x1+x2 | x1,x2\n",
      "INFO:dowhy.causal_estimator:INFO: Using EconML Estimator\n",
      "WARNING:dowhy.causal_estimator:Effect modifiers are not a subset of common causes. For efficiency in estimation, EconML will consider all effect modifiers as common causes too.\n",
      "INFO:dowhy.causal_estimator:b: dummy_outcome~t1+w3+w2+x1+x2 | x1,x2\n",
      "INFO:dowhy.causal_estimator:INFO: Using EconML Estimator\n",
      "WARNING:dowhy.causal_estimator:Effect modifiers are not a subset of common causes. For efficiency in estimation, EconML will consider all effect modifiers as common causes too.\n",
      "INFO:dowhy.causal_estimator:b: dummy_outcome~t1+w3+w2+x1+x2 | x1,x2\n",
      "INFO:dowhy.causal_estimator:INFO: Using EconML Estimator\n",
      "WARNING:dowhy.causal_estimator:Effect modifiers are not a subset of common causes. For efficiency in estimation, EconML will consider all effect modifiers as common causes too.\n",
      "INFO:dowhy.causal_estimator:b: dummy_outcome~t1+w3+w2+x1+x2 | x1,x2\n",
      "INFO:dowhy.causal_estimator:INFO: Using EconML Estimator\n",
      "WARNING:dowhy.causal_estimator:Effect modifiers are not a subset of common causes. For efficiency in estimation, EconML will consider all effect modifiers as common causes too.\n",
      "INFO:dowhy.causal_estimator:b: dummy_outcome~t1+w3+w2+x1+x2 | x1,x2\n",
      "INFO:dowhy.causal_estimator:INFO: Using EconML Estimator\n",
      "WARNING:dowhy.causal_estimator:Effect modifiers are not a subset of common causes. For efficiency in estimation, EconML will consider all effect modifiers as common causes too.\n",
      "INFO:dowhy.causal_estimator:b: dummy_outcome~t1+w3+w2+x1+x2 | x1,x2\n",
      "INFO:dowhy.causal_estimator:INFO: Using EconML Estimator\n",
      "WARNING:dowhy.causal_estimator:Effect modifiers are not a subset of common causes. For efficiency in estimation, EconML will consider all effect modifiers as common causes too.\n",
      "INFO:dowhy.causal_estimator:b: dummy_outcome~t1+w3+w2+x1+x2 | x1,x2\n",
      "INFO:dowhy.causal_estimator:INFO: Using EconML Estimator\n",
      "WARNING:dowhy.causal_estimator:Effect modifiers are not a subset of common causes. For efficiency in estimation, EconML will consider all effect modifiers as common causes too.\n",
      "INFO:dowhy.causal_estimator:b: dummy_outcome~t1+w3+w2+x1+x2 | x1,x2\n",
      "INFO:dowhy.causal_estimator:INFO: Using EconML Estimator\n",
      "WARNING:dowhy.causal_estimator:Effect modifiers are not a subset of common causes. For efficiency in estimation, EconML will consider all effect modifiers as common causes too.\n",
      "INFO:dowhy.causal_estimator:b: dummy_outcome~t1+w3+w2+x1+x2 | x1,x2\n",
      "WARNING:dowhy.causal_refuters.dummy_outcome_refuter:We assume a Normal Distribution as the sample has less than 100 examples.\n",
      "                 Note: The underlying distribution may not be Normal. We assume that it approaches normal with the increase in sample size.\n",
      "WARNING:dowhy.causal_refuters.dummy_outcome_refuter:We assume a Normal Distribution as the sample has less than 100 examples.\n",
      "                 Note: The underlying distribution may not be Normal. We assume that it approaches normal with the increase in sample size.\n",
      "WARNING:dowhy.causal_model:Causal Graph not provided. DoWhy will construct a graph based on data inputs.\n",
      "INFO:dowhy.causal_graph:If this is observed data (not from a randomized experiment), there might always be missing confounders. Adding a node named \"Unobserved Confounders\" to reflect this.\n",
      "INFO:dowhy.causal_model:Model to find the causal effect of treatment ['t1'] on outcome ['y']\n",
      "WARNING:dowhy.causal_identifier:If this is observed data (not from a randomized experiment), there might always be missing confounders. Causal effect cannot be identified perfectly.\n",
      "INFO:dowhy.causal_identifier:Continuing by ignoring these unobserved confounders because proceed_when_unidentifiable flag is True.\n",
      "INFO:dowhy.causal_identifier:Instrumental variables for treatment and outcome:[]\n",
      "INFO:dowhy.causal_identifier:Frontdoor variables for treatment and outcome:[]\n",
      "INFO:dowhy.causal_estimator:b: y~t1+w3+w2+t1*x1+t1*x2\n",
      "INFO:dowhy.causal_estimator:INFO: Using Linear Regression Estimator\n",
      "INFO:dowhy.causal_estimator:INFO: Using Propensity Score Matching Estimator\n",
      "INFO:dowhy.causal_estimator:b: y~t1+w3+w2\n"
     ]
    },
    {
     "name": "stdout",
     "output_type": "stream",
     "text": [
      "printing refute's type\n",
      "<class 'list'>\n",
      "estimated effect [0.5, 0.5, 0.5, 0.5, 0.5]\n",
      "new_effect [1.8059302787821825, 0.07889924607886659, -1.4660226969314523, 1.2076251146231978, -0.7549321754657182]\n",
      "p_value [0.326236543364673, 0.45669399885428297, 0.3061389873539744, 0.33503542821396215, 0.3994718355119159]\n",
      "true value 0.8280166745666404\n",
      "\n",
      "\n",
      "Running Experiment Number: 8\n",
      "\n",
      "\n",
      "Current Sample Size: 1000\n",
      "\n",
      "\n",
      "The current DGP:\n",
      "\n",
      "        Linear Data Generating Process\n",
      "        -------------------------------\n",
      "        \n",
      "        treatment:['t1']\n",
      "        outcome:['y']\n",
      "        confounder: ['w1', 'w2', 'w3', 'w4', 'w5', 'w6']\n",
      "        effect_modifier: ['x1', 'x2']\n",
      "        weights: {'confounder=>treatment': array([[99.70643807],\n",
      "       [-0.94166663],\n",
      "       [ 1.09699465],\n",
      "       [-1.22221714],\n",
      "       [-0.49325578],\n",
      "       [-1.08064337]]), 'confounder=>outcome': array([[101.56016925],\n",
      "       [  1.09859304],\n",
      "       [  0.52706775],\n",
      "       [  0.40143497],\n",
      "       [ -1.06768257],\n",
      "       [ -0.9257862 ]]), 'effect_modifier=>outcome': array([[0.20034776],\n",
      "       [0.67558901]]), 'treatment=>outcome': array([[0.82801667]])}\n",
      "        bias: {'confounder=>treatment': array([0.90333542]), 'confounder=>outcome': array([-0.08332703])}\n",
      "        seed: None\n",
      "        treatment_is_binary: True\n",
      "        percentile: 0.9\n",
      "        \n",
      "printing data shape\n",
      "(1000, 10)\n",
      "[-1.94787667]\n",
      "check\n",
      "printing length of confounder list: 2\n",
      "printing confounder list: ['w2', 'w3']\n",
      "data columns\n",
      "data columns Index(['x1', 'x2', 'w1', 'w2', 'w3', 'w4', 'w5', 'w6', 't1', 'y'], dtype='object')\n",
      "identified_estimand: Estimand type: nonparametric-ate\n",
      "\n",
      "### Estimand : 1\n",
      "Estimand name: backdoor1 (Default)\n",
      "Estimand expression:\n",
      "  d                        \n",
      "─────(Expectation(y|w3,w2))\n",
      "d[t₁]                      \n",
      "Estimand assumption 1, Unconfoundedness: If U→{t1} and U→y then P(y|t1,w3,w2,U) = P(y|t1,w3,w2)\n",
      "\n",
      "### Estimand : 2\n",
      "Estimand name: iv\n",
      "No such variable found!\n",
      "\n",
      "### Estimand : 3\n",
      "Estimand name: frontdoor\n",
      "No such variable found!\n",
      "\n",
      "\n",
      "\n",
      "Running the estimators:\n",
      "\n",
      "The current estimator: Estimator(name='backdoor.linear_regression', params=None)\n",
      "estimator.params None\n",
      "printing estimate's type\n",
      "<class 'dowhy.causal_estimator.CausalEstimate'>\n",
      "The current estimator: Estimator(name='backdoor.propensity_score_matching', params={'init_params': {}})\n",
      "estimator.params {'init_params': {}}\n"
     ]
    },
    {
     "name": "stderr",
     "output_type": "stream",
     "text": [
      "INFO:dowhy.causal_estimator:INFO: Using Propensity Score Weighting Estimator\n",
      "INFO:dowhy.causal_estimator:b: y~t1+w3+w2\n",
      "INFO:dowhy.causal_estimator:INFO: Using EconML Estimator\n",
      "WARNING:dowhy.causal_estimator:Effect modifiers are not a subset of common causes. For efficiency in estimation, EconML will consider all effect modifiers as common causes too.\n",
      "INFO:dowhy.causal_estimator:b: y~t1+w3+w2+x1+x2 | x1,x2\n"
     ]
    },
    {
     "name": "stdout",
     "output_type": "stream",
     "text": [
      "printing estimate's type\n",
      "<class 'dowhy.causal_estimator.CausalEstimate'>\n",
      "The current estimator: Estimator(name='backdoor.propensity_score_weighting', params={'init_params': {}})\n",
      "estimator.params {'init_params': {}}\n",
      "printing estimate's type\n",
      "<class 'dowhy.causal_estimator.CausalEstimate'>\n",
      "The current estimator: Estimator(name='backdoor.econml.dml.DML', params={'init_params': {'model_y': GradientBoostingRegressor(), 'model_t': GradientBoostingRegressor(), 'model_final': LassoCV(), 'featurizer': PolynomialFeatures(degree=1)}, 'fit_params': {}, '_econml_methodname': 'econml.dml.DML'})\n",
      "estimator.params {'init_params': {'model_y': GradientBoostingRegressor(), 'model_t': GradientBoostingRegressor(), 'model_final': LassoCV(), 'featurizer': PolynomialFeatures(degree=1)}, 'fit_params': {}, '_econml_methodname': 'econml.dml.DML'}\n"
     ]
    },
    {
     "name": "stderr",
     "output_type": "stream",
     "text": [
      "INFO:dowhy.causal_estimator:INFO: Using EconML Estimator\n",
      "WARNING:dowhy.causal_estimator:Effect modifiers are not a subset of common causes. For efficiency in estimation, EconML will consider all effect modifiers as common causes too.\n",
      "INFO:dowhy.causal_estimator:b: y~t1+w3+w2+x1+x2 | x1,x2\n"
     ]
    },
    {
     "name": "stdout",
     "output_type": "stream",
     "text": [
      "printing estimate's type\n",
      "<class 'dowhy.causal_estimator.CausalEstimate'>\n",
      "The current estimator: Estimator(name='backdoor.econml.drlearner.LinearDRLearner', params={'init_params': {'model_propensity': LogisticRegressionCV(cv=3)}, 'fit_params': {}, '_econml_methodname': 'econml.drlearner.LinearDRLearner'})\n",
      "estimator.params {'init_params': {'model_propensity': LogisticRegressionCV(cv=3)}, 'fit_params': {}, '_econml_methodname': 'econml.drlearner.LinearDRLearner'}\n"
     ]
    },
    {
     "name": "stderr",
     "output_type": "stream",
     "text": [
      "INFO:dowhy.causal_refuter:All variables required: Running bootstrap adding noise to confounders, instrumental variables and effect modifiers.\n",
      "INFO:dowhy.causal_refuters.dummy_outcome_refuter:Refutation over 5 simulated datasets\n",
      "INFO:dowhy.causal_refuters.dummy_outcome_refuter:The transformation passed: [('random_forest', {'n_estimators': 100, 'max_depth': 6})]\n"
     ]
    },
    {
     "name": "stdout",
     "output_type": "stream",
     "text": [
      "printing estimate's type\n",
      "<class 'dowhy.causal_estimator.CausalEstimate'>\n",
      "estimate_values [69.31884362705838, 87.30492836116676, 70.66659474790418, 60.635178407014905, 69.36818435528575]\n",
      "\n",
      "\n",
      "Running the refuters:\n",
      "\n",
      "The current refuter: Refuter(name='dummy_outcome_refuter', params={'num_simulations': 5, 'transformation_list': [('random_forest', {'n_estimators': 100, 'max_depth': 6})], 'true_causal_effect': <function <lambda> at 0x0000022829325828>})\n"
     ]
    },
    {
     "name": "stderr",
     "output_type": "stream",
     "text": [
      "INFO:dowhy.causal_estimator:b: dummy_outcome~t1+w3+w2+t1*x1+t1*x2\n",
      "INFO:dowhy.causal_estimator:INFO: Using Linear Regression Estimator\n",
      "INFO:dowhy.causal_estimator:b: dummy_outcome~t1+w3+w2+t1*x1+t1*x2\n",
      "INFO:dowhy.causal_estimator:INFO: Using Linear Regression Estimator\n",
      "INFO:dowhy.causal_estimator:b: dummy_outcome~t1+w3+w2+t1*x1+t1*x2\n",
      "INFO:dowhy.causal_estimator:INFO: Using Linear Regression Estimator\n",
      "INFO:dowhy.causal_estimator:b: dummy_outcome~t1+w3+w2+t1*x1+t1*x2\n",
      "INFO:dowhy.causal_estimator:INFO: Using Linear Regression Estimator\n",
      "INFO:dowhy.causal_estimator:b: dummy_outcome~t1+w3+w2+t1*x1+t1*x2\n",
      "INFO:dowhy.causal_estimator:INFO: Using Linear Regression Estimator\n",
      "INFO:dowhy.causal_estimator:b: dummy_outcome~t1+w3+w2+t1*x1+t1*x2\n",
      "INFO:dowhy.causal_estimator:INFO: Using Linear Regression Estimator\n",
      "INFO:dowhy.causal_estimator:b: dummy_outcome~t1+w3+w2+t1*x1+t1*x2\n",
      "INFO:dowhy.causal_estimator:INFO: Using Linear Regression Estimator\n",
      "INFO:dowhy.causal_estimator:b: dummy_outcome~t1+w3+w2+t1*x1+t1*x2\n",
      "INFO:dowhy.causal_estimator:INFO: Using Linear Regression Estimator\n",
      "INFO:dowhy.causal_estimator:b: dummy_outcome~t1+w3+w2+t1*x1+t1*x2\n",
      "INFO:dowhy.causal_estimator:INFO: Using Linear Regression Estimator\n",
      "INFO:dowhy.causal_estimator:b: dummy_outcome~t1+w3+w2+t1*x1+t1*x2\n",
      "INFO:dowhy.causal_estimator:INFO: Using Linear Regression Estimator\n",
      "WARNING:dowhy.causal_refuters.dummy_outcome_refuter:We assume a Normal Distribution as the sample has less than 100 examples.\n",
      "                 Note: The underlying distribution may not be Normal. We assume that it approaches normal with the increase in sample size.\n",
      "WARNING:dowhy.causal_refuters.dummy_outcome_refuter:We assume a Normal Distribution as the sample has less than 100 examples.\n",
      "                 Note: The underlying distribution may not be Normal. We assume that it approaches normal with the increase in sample size.\n",
      "INFO:dowhy.causal_refuter:All variables required: Running bootstrap adding noise to confounders, instrumental variables and effect modifiers.\n",
      "INFO:dowhy.causal_refuters.dummy_outcome_refuter:Refutation over 5 simulated datasets\n",
      "INFO:dowhy.causal_refuters.dummy_outcome_refuter:The transformation passed: [('random_forest', {'n_estimators': 100, 'max_depth': 6})]\n"
     ]
    },
    {
     "name": "stdout",
     "output_type": "stream",
     "text": [
      "printing refute's type\n",
      "<class 'list'>\n"
     ]
    },
    {
     "name": "stderr",
     "output_type": "stream",
     "text": [
      "INFO:dowhy.causal_estimator:INFO: Using Propensity Score Matching Estimator\n",
      "INFO:dowhy.causal_estimator:b: dummy_outcome~t1+w3+w2\n",
      "INFO:dowhy.causal_estimator:INFO: Using Propensity Score Matching Estimator\n",
      "INFO:dowhy.causal_estimator:b: dummy_outcome~t1+w3+w2\n",
      "INFO:dowhy.causal_estimator:INFO: Using Propensity Score Matching Estimator\n",
      "INFO:dowhy.causal_estimator:b: dummy_outcome~t1+w3+w2\n",
      "INFO:dowhy.causal_estimator:INFO: Using Propensity Score Matching Estimator\n",
      "INFO:dowhy.causal_estimator:b: dummy_outcome~t1+w3+w2\n",
      "INFO:dowhy.causal_estimator:INFO: Using Propensity Score Matching Estimator\n",
      "INFO:dowhy.causal_estimator:b: dummy_outcome~t1+w3+w2\n",
      "INFO:dowhy.causal_estimator:INFO: Using Propensity Score Matching Estimator\n",
      "INFO:dowhy.causal_estimator:b: dummy_outcome~t1+w3+w2\n",
      "INFO:dowhy.causal_estimator:INFO: Using Propensity Score Matching Estimator\n",
      "INFO:dowhy.causal_estimator:b: dummy_outcome~t1+w3+w2\n",
      "INFO:dowhy.causal_estimator:INFO: Using Propensity Score Matching Estimator\n",
      "INFO:dowhy.causal_estimator:b: dummy_outcome~t1+w3+w2\n",
      "INFO:dowhy.causal_estimator:INFO: Using Propensity Score Matching Estimator\n",
      "INFO:dowhy.causal_estimator:b: dummy_outcome~t1+w3+w2\n",
      "INFO:dowhy.causal_estimator:INFO: Using Propensity Score Matching Estimator\n",
      "INFO:dowhy.causal_estimator:b: dummy_outcome~t1+w3+w2\n",
      "WARNING:dowhy.causal_refuters.dummy_outcome_refuter:We assume a Normal Distribution as the sample has less than 100 examples.\n",
      "                 Note: The underlying distribution may not be Normal. We assume that it approaches normal with the increase in sample size.\n",
      "WARNING:dowhy.causal_refuters.dummy_outcome_refuter:We assume a Normal Distribution as the sample has less than 100 examples.\n",
      "                 Note: The underlying distribution may not be Normal. We assume that it approaches normal with the increase in sample size.\n",
      "INFO:dowhy.causal_refuter:All variables required: Running bootstrap adding noise to confounders, instrumental variables and effect modifiers.\n",
      "INFO:dowhy.causal_refuters.dummy_outcome_refuter:Refutation over 5 simulated datasets\n",
      "INFO:dowhy.causal_refuters.dummy_outcome_refuter:The transformation passed: [('random_forest', {'n_estimators': 100, 'max_depth': 6})]\n"
     ]
    },
    {
     "name": "stdout",
     "output_type": "stream",
     "text": [
      "printing refute's type\n",
      "<class 'list'>\n"
     ]
    },
    {
     "name": "stderr",
     "output_type": "stream",
     "text": [
      "INFO:dowhy.causal_estimator:INFO: Using Propensity Score Weighting Estimator\n",
      "INFO:dowhy.causal_estimator:b: dummy_outcome~t1+w3+w2\n",
      "INFO:dowhy.causal_estimator:INFO: Using Propensity Score Weighting Estimator\n",
      "INFO:dowhy.causal_estimator:b: dummy_outcome~t1+w3+w2\n",
      "INFO:dowhy.causal_estimator:INFO: Using Propensity Score Weighting Estimator\n",
      "INFO:dowhy.causal_estimator:b: dummy_outcome~t1+w3+w2\n",
      "INFO:dowhy.causal_estimator:INFO: Using Propensity Score Weighting Estimator\n",
      "INFO:dowhy.causal_estimator:b: dummy_outcome~t1+w3+w2\n",
      "INFO:dowhy.causal_estimator:INFO: Using Propensity Score Weighting Estimator\n",
      "INFO:dowhy.causal_estimator:b: dummy_outcome~t1+w3+w2\n",
      "INFO:dowhy.causal_estimator:INFO: Using Propensity Score Weighting Estimator\n",
      "INFO:dowhy.causal_estimator:b: dummy_outcome~t1+w3+w2\n",
      "INFO:dowhy.causal_estimator:INFO: Using Propensity Score Weighting Estimator\n",
      "INFO:dowhy.causal_estimator:b: dummy_outcome~t1+w3+w2\n",
      "INFO:dowhy.causal_estimator:INFO: Using Propensity Score Weighting Estimator\n",
      "INFO:dowhy.causal_estimator:b: dummy_outcome~t1+w3+w2\n",
      "INFO:dowhy.causal_estimator:INFO: Using Propensity Score Weighting Estimator\n",
      "INFO:dowhy.causal_estimator:b: dummy_outcome~t1+w3+w2\n",
      "INFO:dowhy.causal_estimator:INFO: Using Propensity Score Weighting Estimator\n",
      "INFO:dowhy.causal_estimator:b: dummy_outcome~t1+w3+w2\n",
      "WARNING:dowhy.causal_refuters.dummy_outcome_refuter:We assume a Normal Distribution as the sample has less than 100 examples.\n",
      "                 Note: The underlying distribution may not be Normal. We assume that it approaches normal with the increase in sample size.\n",
      "WARNING:dowhy.causal_refuters.dummy_outcome_refuter:We assume a Normal Distribution as the sample has less than 100 examples.\n",
      "                 Note: The underlying distribution may not be Normal. We assume that it approaches normal with the increase in sample size.\n",
      "INFO:dowhy.causal_refuter:All variables required: Running bootstrap adding noise to confounders, instrumental variables and effect modifiers.\n",
      "INFO:dowhy.causal_refuters.dummy_outcome_refuter:Refutation over 5 simulated datasets\n",
      "INFO:dowhy.causal_refuters.dummy_outcome_refuter:The transformation passed: [('random_forest', {'n_estimators': 100, 'max_depth': 6})]\n"
     ]
    },
    {
     "name": "stdout",
     "output_type": "stream",
     "text": [
      "printing refute's type\n",
      "<class 'list'>\n"
     ]
    },
    {
     "name": "stderr",
     "output_type": "stream",
     "text": [
      "INFO:dowhy.causal_estimator:INFO: Using EconML Estimator\n",
      "WARNING:dowhy.causal_estimator:Effect modifiers are not a subset of common causes. For efficiency in estimation, EconML will consider all effect modifiers as common causes too.\n",
      "INFO:dowhy.causal_estimator:b: dummy_outcome~t1+w3+w2+x1+x2 | x1,x2\n",
      "INFO:dowhy.causal_estimator:INFO: Using EconML Estimator\n",
      "WARNING:dowhy.causal_estimator:Effect modifiers are not a subset of common causes. For efficiency in estimation, EconML will consider all effect modifiers as common causes too.\n",
      "INFO:dowhy.causal_estimator:b: dummy_outcome~t1+w3+w2+x1+x2 | x1,x2\n",
      "INFO:dowhy.causal_estimator:INFO: Using EconML Estimator\n",
      "WARNING:dowhy.causal_estimator:Effect modifiers are not a subset of common causes. For efficiency in estimation, EconML will consider all effect modifiers as common causes too.\n",
      "INFO:dowhy.causal_estimator:b: dummy_outcome~t1+w3+w2+x1+x2 | x1,x2\n",
      "INFO:dowhy.causal_estimator:INFO: Using EconML Estimator\n",
      "WARNING:dowhy.causal_estimator:Effect modifiers are not a subset of common causes. For efficiency in estimation, EconML will consider all effect modifiers as common causes too.\n",
      "INFO:dowhy.causal_estimator:b: dummy_outcome~t1+w3+w2+x1+x2 | x1,x2\n",
      "INFO:dowhy.causal_estimator:INFO: Using EconML Estimator\n",
      "WARNING:dowhy.causal_estimator:Effect modifiers are not a subset of common causes. For efficiency in estimation, EconML will consider all effect modifiers as common causes too.\n",
      "INFO:dowhy.causal_estimator:b: dummy_outcome~t1+w3+w2+x1+x2 | x1,x2\n",
      "INFO:dowhy.causal_estimator:INFO: Using EconML Estimator\n",
      "WARNING:dowhy.causal_estimator:Effect modifiers are not a subset of common causes. For efficiency in estimation, EconML will consider all effect modifiers as common causes too.\n",
      "INFO:dowhy.causal_estimator:b: dummy_outcome~t1+w3+w2+x1+x2 | x1,x2\n",
      "INFO:dowhy.causal_estimator:INFO: Using EconML Estimator\n",
      "WARNING:dowhy.causal_estimator:Effect modifiers are not a subset of common causes. For efficiency in estimation, EconML will consider all effect modifiers as common causes too.\n",
      "INFO:dowhy.causal_estimator:b: dummy_outcome~t1+w3+w2+x1+x2 | x1,x2\n",
      "INFO:dowhy.causal_estimator:INFO: Using EconML Estimator\n",
      "WARNING:dowhy.causal_estimator:Effect modifiers are not a subset of common causes. For efficiency in estimation, EconML will consider all effect modifiers as common causes too.\n",
      "INFO:dowhy.causal_estimator:b: dummy_outcome~t1+w3+w2+x1+x2 | x1,x2\n",
      "INFO:dowhy.causal_estimator:INFO: Using EconML Estimator\n",
      "WARNING:dowhy.causal_estimator:Effect modifiers are not a subset of common causes. For efficiency in estimation, EconML will consider all effect modifiers as common causes too.\n",
      "INFO:dowhy.causal_estimator:b: dummy_outcome~t1+w3+w2+x1+x2 | x1,x2\n",
      "INFO:dowhy.causal_estimator:INFO: Using EconML Estimator\n",
      "WARNING:dowhy.causal_estimator:Effect modifiers are not a subset of common causes. For efficiency in estimation, EconML will consider all effect modifiers as common causes too.\n",
      "INFO:dowhy.causal_estimator:b: dummy_outcome~t1+w3+w2+x1+x2 | x1,x2\n",
      "WARNING:dowhy.causal_refuters.dummy_outcome_refuter:We assume a Normal Distribution as the sample has less than 100 examples.\n",
      "                 Note: The underlying distribution may not be Normal. We assume that it approaches normal with the increase in sample size.\n",
      "WARNING:dowhy.causal_refuters.dummy_outcome_refuter:We assume a Normal Distribution as the sample has less than 100 examples.\n",
      "                 Note: The underlying distribution may not be Normal. We assume that it approaches normal with the increase in sample size.\n",
      "INFO:dowhy.causal_refuter:All variables required: Running bootstrap adding noise to confounders, instrumental variables and effect modifiers.\n",
      "INFO:dowhy.causal_refuters.dummy_outcome_refuter:Refutation over 5 simulated datasets\n",
      "INFO:dowhy.causal_refuters.dummy_outcome_refuter:The transformation passed: [('random_forest', {'n_estimators': 100, 'max_depth': 6})]\n"
     ]
    },
    {
     "name": "stdout",
     "output_type": "stream",
     "text": [
      "printing refute's type\n",
      "<class 'list'>\n"
     ]
    },
    {
     "name": "stderr",
     "output_type": "stream",
     "text": [
      "INFO:dowhy.causal_estimator:INFO: Using EconML Estimator\n",
      "WARNING:dowhy.causal_estimator:Effect modifiers are not a subset of common causes. For efficiency in estimation, EconML will consider all effect modifiers as common causes too.\n",
      "INFO:dowhy.causal_estimator:b: dummy_outcome~t1+w3+w2+x1+x2 | x1,x2\n",
      "INFO:dowhy.causal_estimator:INFO: Using EconML Estimator\n",
      "WARNING:dowhy.causal_estimator:Effect modifiers are not a subset of common causes. For efficiency in estimation, EconML will consider all effect modifiers as common causes too.\n",
      "INFO:dowhy.causal_estimator:b: dummy_outcome~t1+w3+w2+x1+x2 | x1,x2\n",
      "INFO:dowhy.causal_estimator:INFO: Using EconML Estimator\n",
      "WARNING:dowhy.causal_estimator:Effect modifiers are not a subset of common causes. For efficiency in estimation, EconML will consider all effect modifiers as common causes too.\n",
      "INFO:dowhy.causal_estimator:b: dummy_outcome~t1+w3+w2+x1+x2 | x1,x2\n",
      "INFO:dowhy.causal_estimator:INFO: Using EconML Estimator\n",
      "WARNING:dowhy.causal_estimator:Effect modifiers are not a subset of common causes. For efficiency in estimation, EconML will consider all effect modifiers as common causes too.\n",
      "INFO:dowhy.causal_estimator:b: dummy_outcome~t1+w3+w2+x1+x2 | x1,x2\n",
      "INFO:dowhy.causal_estimator:INFO: Using EconML Estimator\n",
      "WARNING:dowhy.causal_estimator:Effect modifiers are not a subset of common causes. For efficiency in estimation, EconML will consider all effect modifiers as common causes too.\n",
      "INFO:dowhy.causal_estimator:b: dummy_outcome~t1+w3+w2+x1+x2 | x1,x2\n",
      "INFO:dowhy.causal_estimator:INFO: Using EconML Estimator\n",
      "WARNING:dowhy.causal_estimator:Effect modifiers are not a subset of common causes. For efficiency in estimation, EconML will consider all effect modifiers as common causes too.\n",
      "INFO:dowhy.causal_estimator:b: dummy_outcome~t1+w3+w2+x1+x2 | x1,x2\n",
      "INFO:dowhy.causal_estimator:INFO: Using EconML Estimator\n",
      "WARNING:dowhy.causal_estimator:Effect modifiers are not a subset of common causes. For efficiency in estimation, EconML will consider all effect modifiers as common causes too.\n",
      "INFO:dowhy.causal_estimator:b: dummy_outcome~t1+w3+w2+x1+x2 | x1,x2\n",
      "INFO:dowhy.causal_estimator:INFO: Using EconML Estimator\n",
      "WARNING:dowhy.causal_estimator:Effect modifiers are not a subset of common causes. For efficiency in estimation, EconML will consider all effect modifiers as common causes too.\n",
      "INFO:dowhy.causal_estimator:b: dummy_outcome~t1+w3+w2+x1+x2 | x1,x2\n",
      "INFO:dowhy.causal_estimator:INFO: Using EconML Estimator\n",
      "WARNING:dowhy.causal_estimator:Effect modifiers are not a subset of common causes. For efficiency in estimation, EconML will consider all effect modifiers as common causes too.\n",
      "INFO:dowhy.causal_estimator:b: dummy_outcome~t1+w3+w2+x1+x2 | x1,x2\n",
      "INFO:dowhy.causal_estimator:INFO: Using EconML Estimator\n",
      "WARNING:dowhy.causal_estimator:Effect modifiers are not a subset of common causes. For efficiency in estimation, EconML will consider all effect modifiers as common causes too.\n",
      "INFO:dowhy.causal_estimator:b: dummy_outcome~t1+w3+w2+x1+x2 | x1,x2\n",
      "WARNING:dowhy.causal_refuters.dummy_outcome_refuter:We assume a Normal Distribution as the sample has less than 100 examples.\n",
      "                 Note: The underlying distribution may not be Normal. We assume that it approaches normal with the increase in sample size.\n",
      "WARNING:dowhy.causal_refuters.dummy_outcome_refuter:We assume a Normal Distribution as the sample has less than 100 examples.\n",
      "                 Note: The underlying distribution may not be Normal. We assume that it approaches normal with the increase in sample size.\n",
      "WARNING:dowhy.causal_model:Causal Graph not provided. DoWhy will construct a graph based on data inputs.\n",
      "INFO:dowhy.causal_graph:If this is observed data (not from a randomized experiment), there might always be missing confounders. Adding a node named \"Unobserved Confounders\" to reflect this.\n",
      "INFO:dowhy.causal_model:Model to find the causal effect of treatment ['t1'] on outcome ['y']\n",
      "WARNING:dowhy.causal_identifier:If this is observed data (not from a randomized experiment), there might always be missing confounders. Causal effect cannot be identified perfectly.\n",
      "INFO:dowhy.causal_identifier:Continuing by ignoring these unobserved confounders because proceed_when_unidentifiable flag is True.\n",
      "INFO:dowhy.causal_identifier:Instrumental variables for treatment and outcome:[]\n",
      "INFO:dowhy.causal_identifier:Frontdoor variables for treatment and outcome:[]\n",
      "INFO:dowhy.causal_estimator:b: y~t1+w3+w2+t1*x1+t1*x2\n",
      "INFO:dowhy.causal_estimator:INFO: Using Linear Regression Estimator\n",
      "INFO:dowhy.causal_estimator:INFO: Using Propensity Score Matching Estimator\n",
      "INFO:dowhy.causal_estimator:b: y~t1+w3+w2\n"
     ]
    },
    {
     "name": "stdout",
     "output_type": "stream",
     "text": [
      "printing refute's type\n",
      "<class 'list'>\n",
      "estimated effect [0.5, 0.5, 0.5, 0.5, 0.5]\n",
      "new_effect [-0.6781422706805879, 0.07077949092545097, 0.6565611212442795, -1.8591509663176846, 0.29687110271841155]\n",
      "p_value [0.373460052192658, 0.45761222359359954, 0.47549528459000934, 0.15210825228852132, 0.4685882603672733]\n",
      "true value -1.9478766747356708\n",
      "\n",
      "\n",
      "Running Experiment Number: 9\n",
      "\n",
      "\n",
      "Current Sample Size: 1000\n",
      "\n",
      "\n",
      "The current DGP:\n",
      "\n",
      "        Linear Data Generating Process\n",
      "        -------------------------------\n",
      "        \n",
      "        treatment:['t1']\n",
      "        outcome:['y']\n",
      "        confounder: ['w1', 'w2', 'w3', 'w4', 'w5', 'w6']\n",
      "        effect_modifier: ['x1', 'x2']\n",
      "        weights: {'confounder=>treatment': array([[99.57305315],\n",
      "       [ 0.6984461 ],\n",
      "       [-1.20053665],\n",
      "       [ 0.36031133],\n",
      "       [-1.09354532],\n",
      "       [ 0.2262613 ]]), 'confounder=>outcome': array([[100.22419895],\n",
      "       [  0.66506428],\n",
      "       [ -0.98811932],\n",
      "       [ -0.3378872 ],\n",
      "       [ -0.88137592],\n",
      "       [  0.43839822]]), 'effect_modifier=>outcome': array([[-0.68114275],\n",
      "       [ 0.94016235]]), 'treatment=>outcome': array([[-1.94787667]])}\n",
      "        bias: {'confounder=>treatment': array([-0.63025968]), 'confounder=>outcome': array([0.82307965])}\n",
      "        seed: None\n",
      "        treatment_is_binary: True\n",
      "        percentile: 0.9\n",
      "        \n",
      "printing data shape\n",
      "(1000, 10)\n",
      "[-0.31087694]\n",
      "check\n",
      "printing length of confounder list: 2\n",
      "printing confounder list: ['w2', 'w3']\n",
      "data columns\n",
      "data columns Index(['x1', 'x2', 'w1', 'w2', 'w3', 'w4', 'w5', 'w6', 't1', 'y'], dtype='object')\n",
      "identified_estimand: Estimand type: nonparametric-ate\n",
      "\n",
      "### Estimand : 1\n",
      "Estimand name: backdoor1 (Default)\n",
      "Estimand expression:\n",
      "  d                        \n",
      "─────(Expectation(y|w3,w2))\n",
      "d[t₁]                      \n",
      "Estimand assumption 1, Unconfoundedness: If U→{t1} and U→y then P(y|t1,w3,w2,U) = P(y|t1,w3,w2)\n",
      "\n",
      "### Estimand : 2\n",
      "Estimand name: iv\n",
      "No such variable found!\n",
      "\n",
      "### Estimand : 3\n",
      "Estimand name: frontdoor\n",
      "No such variable found!\n",
      "\n",
      "\n",
      "\n",
      "Running the estimators:\n",
      "\n",
      "The current estimator: Estimator(name='backdoor.linear_regression', params=None)\n",
      "estimator.params None\n",
      "printing estimate's type\n",
      "<class 'dowhy.causal_estimator.CausalEstimate'>\n",
      "The current estimator: Estimator(name='backdoor.propensity_score_matching', params={'init_params': {}})\n",
      "estimator.params {'init_params': {}}\n"
     ]
    },
    {
     "name": "stderr",
     "output_type": "stream",
     "text": [
      "INFO:dowhy.causal_estimator:INFO: Using Propensity Score Weighting Estimator\n",
      "INFO:dowhy.causal_estimator:b: y~t1+w3+w2\n",
      "INFO:dowhy.causal_estimator:INFO: Using EconML Estimator\n",
      "WARNING:dowhy.causal_estimator:Effect modifiers are not a subset of common causes. For efficiency in estimation, EconML will consider all effect modifiers as common causes too.\n",
      "INFO:dowhy.causal_estimator:b: y~t1+w3+w2+x1+x2 | x1,x2\n"
     ]
    },
    {
     "name": "stdout",
     "output_type": "stream",
     "text": [
      "printing estimate's type\n",
      "<class 'dowhy.causal_estimator.CausalEstimate'>\n",
      "The current estimator: Estimator(name='backdoor.propensity_score_weighting', params={'init_params': {}})\n",
      "estimator.params {'init_params': {}}\n",
      "printing estimate's type\n",
      "<class 'dowhy.causal_estimator.CausalEstimate'>\n",
      "The current estimator: Estimator(name='backdoor.econml.dml.DML', params={'init_params': {'model_y': GradientBoostingRegressor(), 'model_t': GradientBoostingRegressor(), 'model_final': LassoCV(), 'featurizer': PolynomialFeatures(degree=1)}, 'fit_params': {}, '_econml_methodname': 'econml.dml.DML'})\n",
      "estimator.params {'init_params': {'model_y': GradientBoostingRegressor(), 'model_t': GradientBoostingRegressor(), 'model_final': LassoCV(), 'featurizer': PolynomialFeatures(degree=1)}, 'fit_params': {}, '_econml_methodname': 'econml.dml.DML'}\n"
     ]
    },
    {
     "name": "stderr",
     "output_type": "stream",
     "text": [
      "INFO:dowhy.causal_estimator:INFO: Using EconML Estimator\n",
      "WARNING:dowhy.causal_estimator:Effect modifiers are not a subset of common causes. For efficiency in estimation, EconML will consider all effect modifiers as common causes too.\n",
      "INFO:dowhy.causal_estimator:b: y~t1+w3+w2+x1+x2 | x1,x2\n"
     ]
    },
    {
     "name": "stdout",
     "output_type": "stream",
     "text": [
      "printing estimate's type\n",
      "<class 'dowhy.causal_estimator.CausalEstimate'>\n",
      "The current estimator: Estimator(name='backdoor.econml.drlearner.LinearDRLearner', params={'init_params': {'model_propensity': LogisticRegressionCV(cv=3)}, 'fit_params': {}, '_econml_methodname': 'econml.drlearner.LinearDRLearner'})\n",
      "estimator.params {'init_params': {'model_propensity': LogisticRegressionCV(cv=3)}, 'fit_params': {}, '_econml_methodname': 'econml.drlearner.LinearDRLearner'}\n"
     ]
    },
    {
     "name": "stderr",
     "output_type": "stream",
     "text": [
      "INFO:dowhy.causal_refuter:All variables required: Running bootstrap adding noise to confounders, instrumental variables and effect modifiers.\n",
      "INFO:dowhy.causal_refuters.dummy_outcome_refuter:Refutation over 5 simulated datasets\n",
      "INFO:dowhy.causal_refuters.dummy_outcome_refuter:The transformation passed: [('random_forest', {'n_estimators': 100, 'max_depth': 6})]\n"
     ]
    },
    {
     "name": "stdout",
     "output_type": "stream",
     "text": [
      "printing estimate's type\n",
      "<class 'dowhy.causal_estimator.CausalEstimate'>\n",
      "estimate_values [59.333218387419585, 58.646413218404, 60.97742159851749, 49.916369527957244, 58.5155614140518]\n",
      "\n",
      "\n",
      "Running the refuters:\n",
      "\n",
      "The current refuter: Refuter(name='dummy_outcome_refuter', params={'num_simulations': 5, 'transformation_list': [('random_forest', {'n_estimators': 100, 'max_depth': 6})], 'true_causal_effect': <function <lambda> at 0x0000022829325828>})\n"
     ]
    },
    {
     "name": "stderr",
     "output_type": "stream",
     "text": [
      "INFO:dowhy.causal_estimator:b: dummy_outcome~t1+w3+w2+t1*x1+t1*x2\n",
      "INFO:dowhy.causal_estimator:INFO: Using Linear Regression Estimator\n",
      "INFO:dowhy.causal_estimator:b: dummy_outcome~t1+w3+w2+t1*x1+t1*x2\n",
      "INFO:dowhy.causal_estimator:INFO: Using Linear Regression Estimator\n",
      "INFO:dowhy.causal_estimator:b: dummy_outcome~t1+w3+w2+t1*x1+t1*x2\n",
      "INFO:dowhy.causal_estimator:INFO: Using Linear Regression Estimator\n",
      "INFO:dowhy.causal_estimator:b: dummy_outcome~t1+w3+w2+t1*x1+t1*x2\n",
      "INFO:dowhy.causal_estimator:INFO: Using Linear Regression Estimator\n",
      "INFO:dowhy.causal_estimator:b: dummy_outcome~t1+w3+w2+t1*x1+t1*x2\n",
      "INFO:dowhy.causal_estimator:INFO: Using Linear Regression Estimator\n",
      "INFO:dowhy.causal_estimator:b: dummy_outcome~t1+w3+w2+t1*x1+t1*x2\n",
      "INFO:dowhy.causal_estimator:INFO: Using Linear Regression Estimator\n",
      "INFO:dowhy.causal_estimator:b: dummy_outcome~t1+w3+w2+t1*x1+t1*x2\n",
      "INFO:dowhy.causal_estimator:INFO: Using Linear Regression Estimator\n",
      "INFO:dowhy.causal_estimator:b: dummy_outcome~t1+w3+w2+t1*x1+t1*x2\n",
      "INFO:dowhy.causal_estimator:INFO: Using Linear Regression Estimator\n",
      "INFO:dowhy.causal_estimator:b: dummy_outcome~t1+w3+w2+t1*x1+t1*x2\n",
      "INFO:dowhy.causal_estimator:INFO: Using Linear Regression Estimator\n",
      "INFO:dowhy.causal_estimator:b: dummy_outcome~t1+w3+w2+t1*x1+t1*x2\n",
      "INFO:dowhy.causal_estimator:INFO: Using Linear Regression Estimator\n",
      "WARNING:dowhy.causal_refuters.dummy_outcome_refuter:We assume a Normal Distribution as the sample has less than 100 examples.\n",
      "                 Note: The underlying distribution may not be Normal. We assume that it approaches normal with the increase in sample size.\n",
      "WARNING:dowhy.causal_refuters.dummy_outcome_refuter:We assume a Normal Distribution as the sample has less than 100 examples.\n",
      "                 Note: The underlying distribution may not be Normal. We assume that it approaches normal with the increase in sample size.\n",
      "INFO:dowhy.causal_refuter:All variables required: Running bootstrap adding noise to confounders, instrumental variables and effect modifiers.\n",
      "INFO:dowhy.causal_refuters.dummy_outcome_refuter:Refutation over 5 simulated datasets\n",
      "INFO:dowhy.causal_refuters.dummy_outcome_refuter:The transformation passed: [('random_forest', {'n_estimators': 100, 'max_depth': 6})]\n"
     ]
    },
    {
     "name": "stdout",
     "output_type": "stream",
     "text": [
      "printing refute's type\n",
      "<class 'list'>\n"
     ]
    },
    {
     "name": "stderr",
     "output_type": "stream",
     "text": [
      "INFO:dowhy.causal_estimator:INFO: Using Propensity Score Matching Estimator\n",
      "INFO:dowhy.causal_estimator:b: dummy_outcome~t1+w3+w2\n",
      "INFO:dowhy.causal_estimator:INFO: Using Propensity Score Matching Estimator\n",
      "INFO:dowhy.causal_estimator:b: dummy_outcome~t1+w3+w2\n",
      "INFO:dowhy.causal_estimator:INFO: Using Propensity Score Matching Estimator\n",
      "INFO:dowhy.causal_estimator:b: dummy_outcome~t1+w3+w2\n",
      "INFO:dowhy.causal_estimator:INFO: Using Propensity Score Matching Estimator\n",
      "INFO:dowhy.causal_estimator:b: dummy_outcome~t1+w3+w2\n",
      "INFO:dowhy.causal_estimator:INFO: Using Propensity Score Matching Estimator\n",
      "INFO:dowhy.causal_estimator:b: dummy_outcome~t1+w3+w2\n",
      "INFO:dowhy.causal_estimator:INFO: Using Propensity Score Matching Estimator\n",
      "INFO:dowhy.causal_estimator:b: dummy_outcome~t1+w3+w2\n",
      "INFO:dowhy.causal_estimator:INFO: Using Propensity Score Matching Estimator\n",
      "INFO:dowhy.causal_estimator:b: dummy_outcome~t1+w3+w2\n",
      "INFO:dowhy.causal_estimator:INFO: Using Propensity Score Matching Estimator\n",
      "INFO:dowhy.causal_estimator:b: dummy_outcome~t1+w3+w2\n",
      "INFO:dowhy.causal_estimator:INFO: Using Propensity Score Matching Estimator\n",
      "INFO:dowhy.causal_estimator:b: dummy_outcome~t1+w3+w2\n",
      "INFO:dowhy.causal_estimator:INFO: Using Propensity Score Matching Estimator\n",
      "INFO:dowhy.causal_estimator:b: dummy_outcome~t1+w3+w2\n",
      "WARNING:dowhy.causal_refuters.dummy_outcome_refuter:We assume a Normal Distribution as the sample has less than 100 examples.\n",
      "                 Note: The underlying distribution may not be Normal. We assume that it approaches normal with the increase in sample size.\n",
      "WARNING:dowhy.causal_refuters.dummy_outcome_refuter:We assume a Normal Distribution as the sample has less than 100 examples.\n",
      "                 Note: The underlying distribution may not be Normal. We assume that it approaches normal with the increase in sample size.\n",
      "INFO:dowhy.causal_refuter:All variables required: Running bootstrap adding noise to confounders, instrumental variables and effect modifiers.\n",
      "INFO:dowhy.causal_refuters.dummy_outcome_refuter:Refutation over 5 simulated datasets\n",
      "INFO:dowhy.causal_refuters.dummy_outcome_refuter:The transformation passed: [('random_forest', {'n_estimators': 100, 'max_depth': 6})]\n"
     ]
    },
    {
     "name": "stdout",
     "output_type": "stream",
     "text": [
      "printing refute's type\n",
      "<class 'list'>\n"
     ]
    },
    {
     "name": "stderr",
     "output_type": "stream",
     "text": [
      "INFO:dowhy.causal_estimator:INFO: Using Propensity Score Weighting Estimator\n",
      "INFO:dowhy.causal_estimator:b: dummy_outcome~t1+w3+w2\n",
      "INFO:dowhy.causal_estimator:INFO: Using Propensity Score Weighting Estimator\n",
      "INFO:dowhy.causal_estimator:b: dummy_outcome~t1+w3+w2\n",
      "INFO:dowhy.causal_estimator:INFO: Using Propensity Score Weighting Estimator\n",
      "INFO:dowhy.causal_estimator:b: dummy_outcome~t1+w3+w2\n",
      "INFO:dowhy.causal_estimator:INFO: Using Propensity Score Weighting Estimator\n",
      "INFO:dowhy.causal_estimator:b: dummy_outcome~t1+w3+w2\n",
      "INFO:dowhy.causal_estimator:INFO: Using Propensity Score Weighting Estimator\n",
      "INFO:dowhy.causal_estimator:b: dummy_outcome~t1+w3+w2\n",
      "INFO:dowhy.causal_estimator:INFO: Using Propensity Score Weighting Estimator\n",
      "INFO:dowhy.causal_estimator:b: dummy_outcome~t1+w3+w2\n",
      "INFO:dowhy.causal_estimator:INFO: Using Propensity Score Weighting Estimator\n",
      "INFO:dowhy.causal_estimator:b: dummy_outcome~t1+w3+w2\n",
      "INFO:dowhy.causal_estimator:INFO: Using Propensity Score Weighting Estimator\n",
      "INFO:dowhy.causal_estimator:b: dummy_outcome~t1+w3+w2\n",
      "INFO:dowhy.causal_estimator:INFO: Using Propensity Score Weighting Estimator\n",
      "INFO:dowhy.causal_estimator:b: dummy_outcome~t1+w3+w2\n",
      "INFO:dowhy.causal_estimator:INFO: Using Propensity Score Weighting Estimator\n",
      "INFO:dowhy.causal_estimator:b: dummy_outcome~t1+w3+w2\n",
      "WARNING:dowhy.causal_refuters.dummy_outcome_refuter:We assume a Normal Distribution as the sample has less than 100 examples.\n",
      "                 Note: The underlying distribution may not be Normal. We assume that it approaches normal with the increase in sample size.\n",
      "WARNING:dowhy.causal_refuters.dummy_outcome_refuter:We assume a Normal Distribution as the sample has less than 100 examples.\n",
      "                 Note: The underlying distribution may not be Normal. We assume that it approaches normal with the increase in sample size.\n",
      "INFO:dowhy.causal_refuter:All variables required: Running bootstrap adding noise to confounders, instrumental variables and effect modifiers.\n",
      "INFO:dowhy.causal_refuters.dummy_outcome_refuter:Refutation over 5 simulated datasets\n",
      "INFO:dowhy.causal_refuters.dummy_outcome_refuter:The transformation passed: [('random_forest', {'n_estimators': 100, 'max_depth': 6})]\n"
     ]
    },
    {
     "name": "stdout",
     "output_type": "stream",
     "text": [
      "printing refute's type\n",
      "<class 'list'>\n"
     ]
    },
    {
     "name": "stderr",
     "output_type": "stream",
     "text": [
      "INFO:dowhy.causal_estimator:INFO: Using EconML Estimator\n",
      "WARNING:dowhy.causal_estimator:Effect modifiers are not a subset of common causes. For efficiency in estimation, EconML will consider all effect modifiers as common causes too.\n",
      "INFO:dowhy.causal_estimator:b: dummy_outcome~t1+w3+w2+x1+x2 | x1,x2\n",
      "INFO:dowhy.causal_estimator:INFO: Using EconML Estimator\n",
      "WARNING:dowhy.causal_estimator:Effect modifiers are not a subset of common causes. For efficiency in estimation, EconML will consider all effect modifiers as common causes too.\n",
      "INFO:dowhy.causal_estimator:b: dummy_outcome~t1+w3+w2+x1+x2 | x1,x2\n",
      "INFO:dowhy.causal_estimator:INFO: Using EconML Estimator\n",
      "WARNING:dowhy.causal_estimator:Effect modifiers are not a subset of common causes. For efficiency in estimation, EconML will consider all effect modifiers as common causes too.\n",
      "INFO:dowhy.causal_estimator:b: dummy_outcome~t1+w3+w2+x1+x2 | x1,x2\n",
      "INFO:dowhy.causal_estimator:INFO: Using EconML Estimator\n",
      "WARNING:dowhy.causal_estimator:Effect modifiers are not a subset of common causes. For efficiency in estimation, EconML will consider all effect modifiers as common causes too.\n",
      "INFO:dowhy.causal_estimator:b: dummy_outcome~t1+w3+w2+x1+x2 | x1,x2\n",
      "INFO:dowhy.causal_estimator:INFO: Using EconML Estimator\n",
      "WARNING:dowhy.causal_estimator:Effect modifiers are not a subset of common causes. For efficiency in estimation, EconML will consider all effect modifiers as common causes too.\n",
      "INFO:dowhy.causal_estimator:b: dummy_outcome~t1+w3+w2+x1+x2 | x1,x2\n",
      "INFO:dowhy.causal_estimator:INFO: Using EconML Estimator\n",
      "WARNING:dowhy.causal_estimator:Effect modifiers are not a subset of common causes. For efficiency in estimation, EconML will consider all effect modifiers as common causes too.\n",
      "INFO:dowhy.causal_estimator:b: dummy_outcome~t1+w3+w2+x1+x2 | x1,x2\n",
      "INFO:dowhy.causal_estimator:INFO: Using EconML Estimator\n",
      "WARNING:dowhy.causal_estimator:Effect modifiers are not a subset of common causes. For efficiency in estimation, EconML will consider all effect modifiers as common causes too.\n",
      "INFO:dowhy.causal_estimator:b: dummy_outcome~t1+w3+w2+x1+x2 | x1,x2\n",
      "INFO:dowhy.causal_estimator:INFO: Using EconML Estimator\n",
      "WARNING:dowhy.causal_estimator:Effect modifiers are not a subset of common causes. For efficiency in estimation, EconML will consider all effect modifiers as common causes too.\n",
      "INFO:dowhy.causal_estimator:b: dummy_outcome~t1+w3+w2+x1+x2 | x1,x2\n",
      "INFO:dowhy.causal_estimator:INFO: Using EconML Estimator\n",
      "WARNING:dowhy.causal_estimator:Effect modifiers are not a subset of common causes. For efficiency in estimation, EconML will consider all effect modifiers as common causes too.\n",
      "INFO:dowhy.causal_estimator:b: dummy_outcome~t1+w3+w2+x1+x2 | x1,x2\n",
      "INFO:dowhy.causal_estimator:INFO: Using EconML Estimator\n",
      "WARNING:dowhy.causal_estimator:Effect modifiers are not a subset of common causes. For efficiency in estimation, EconML will consider all effect modifiers as common causes too.\n",
      "INFO:dowhy.causal_estimator:b: dummy_outcome~t1+w3+w2+x1+x2 | x1,x2\n",
      "WARNING:dowhy.causal_refuters.dummy_outcome_refuter:We assume a Normal Distribution as the sample has less than 100 examples.\n",
      "                 Note: The underlying distribution may not be Normal. We assume that it approaches normal with the increase in sample size.\n",
      "WARNING:dowhy.causal_refuters.dummy_outcome_refuter:We assume a Normal Distribution as the sample has less than 100 examples.\n",
      "                 Note: The underlying distribution may not be Normal. We assume that it approaches normal with the increase in sample size.\n",
      "INFO:dowhy.causal_refuter:All variables required: Running bootstrap adding noise to confounders, instrumental variables and effect modifiers.\n",
      "INFO:dowhy.causal_refuters.dummy_outcome_refuter:Refutation over 5 simulated datasets\n",
      "INFO:dowhy.causal_refuters.dummy_outcome_refuter:The transformation passed: [('random_forest', {'n_estimators': 100, 'max_depth': 6})]\n"
     ]
    },
    {
     "name": "stdout",
     "output_type": "stream",
     "text": [
      "printing refute's type\n",
      "<class 'list'>\n"
     ]
    },
    {
     "name": "stderr",
     "output_type": "stream",
     "text": [
      "INFO:dowhy.causal_estimator:INFO: Using EconML Estimator\n",
      "WARNING:dowhy.causal_estimator:Effect modifiers are not a subset of common causes. For efficiency in estimation, EconML will consider all effect modifiers as common causes too.\n",
      "INFO:dowhy.causal_estimator:b: dummy_outcome~t1+w3+w2+x1+x2 | x1,x2\n",
      "INFO:dowhy.causal_estimator:INFO: Using EconML Estimator\n",
      "WARNING:dowhy.causal_estimator:Effect modifiers are not a subset of common causes. For efficiency in estimation, EconML will consider all effect modifiers as common causes too.\n",
      "INFO:dowhy.causal_estimator:b: dummy_outcome~t1+w3+w2+x1+x2 | x1,x2\n",
      "INFO:dowhy.causal_estimator:INFO: Using EconML Estimator\n",
      "WARNING:dowhy.causal_estimator:Effect modifiers are not a subset of common causes. For efficiency in estimation, EconML will consider all effect modifiers as common causes too.\n",
      "INFO:dowhy.causal_estimator:b: dummy_outcome~t1+w3+w2+x1+x2 | x1,x2\n",
      "INFO:dowhy.causal_estimator:INFO: Using EconML Estimator\n",
      "WARNING:dowhy.causal_estimator:Effect modifiers are not a subset of common causes. For efficiency in estimation, EconML will consider all effect modifiers as common causes too.\n",
      "INFO:dowhy.causal_estimator:b: dummy_outcome~t1+w3+w2+x1+x2 | x1,x2\n",
      "INFO:dowhy.causal_estimator:INFO: Using EconML Estimator\n",
      "WARNING:dowhy.causal_estimator:Effect modifiers are not a subset of common causes. For efficiency in estimation, EconML will consider all effect modifiers as common causes too.\n",
      "INFO:dowhy.causal_estimator:b: dummy_outcome~t1+w3+w2+x1+x2 | x1,x2\n",
      "INFO:dowhy.causal_estimator:INFO: Using EconML Estimator\n",
      "WARNING:dowhy.causal_estimator:Effect modifiers are not a subset of common causes. For efficiency in estimation, EconML will consider all effect modifiers as common causes too.\n",
      "INFO:dowhy.causal_estimator:b: dummy_outcome~t1+w3+w2+x1+x2 | x1,x2\n",
      "INFO:dowhy.causal_estimator:INFO: Using EconML Estimator\n",
      "WARNING:dowhy.causal_estimator:Effect modifiers are not a subset of common causes. For efficiency in estimation, EconML will consider all effect modifiers as common causes too.\n",
      "INFO:dowhy.causal_estimator:b: dummy_outcome~t1+w3+w2+x1+x2 | x1,x2\n",
      "INFO:dowhy.causal_estimator:INFO: Using EconML Estimator\n",
      "WARNING:dowhy.causal_estimator:Effect modifiers are not a subset of common causes. For efficiency in estimation, EconML will consider all effect modifiers as common causes too.\n",
      "INFO:dowhy.causal_estimator:b: dummy_outcome~t1+w3+w2+x1+x2 | x1,x2\n",
      "INFO:dowhy.causal_estimator:INFO: Using EconML Estimator\n",
      "WARNING:dowhy.causal_estimator:Effect modifiers are not a subset of common causes. For efficiency in estimation, EconML will consider all effect modifiers as common causes too.\n",
      "INFO:dowhy.causal_estimator:b: dummy_outcome~t1+w3+w2+x1+x2 | x1,x2\n",
      "INFO:dowhy.causal_estimator:INFO: Using EconML Estimator\n",
      "WARNING:dowhy.causal_estimator:Effect modifiers are not a subset of common causes. For efficiency in estimation, EconML will consider all effect modifiers as common causes too.\n",
      "INFO:dowhy.causal_estimator:b: dummy_outcome~t1+w3+w2+x1+x2 | x1,x2\n",
      "WARNING:dowhy.causal_refuters.dummy_outcome_refuter:We assume a Normal Distribution as the sample has less than 100 examples.\n",
      "                 Note: The underlying distribution may not be Normal. We assume that it approaches normal with the increase in sample size.\n",
      "WARNING:dowhy.causal_refuters.dummy_outcome_refuter:We assume a Normal Distribution as the sample has less than 100 examples.\n",
      "                 Note: The underlying distribution may not be Normal. We assume that it approaches normal with the increase in sample size.\n"
     ]
    },
    {
     "name": "stdout",
     "output_type": "stream",
     "text": [
      "printing refute's type\n",
      "<class 'list'>\n",
      "estimated effect [0.5, 0.5, 0.5, 0.5, 0.5]\n",
      "new_effect [1.496453509225897, -0.2668333406568644, 1.0511224541576076, -1.798588035552989, 0.0023916986901009185]\n",
      "p_value [0.30374155022920946, 0.3642770563191525, 0.3953569836940987, 0.09113969859819848, 0.4489495194010843]\n",
      "true value -0.31087694276013117\n",
      "\n",
      "\n",
      "Completed all experiments. Saving the data...\n",
      "Data has been saved in  results/Test_1_2021-01-27_data.csv\n"
     ]
    }
   ],
   "source": [
    "# Define the properties of the experiment\n",
    "# The name of the experiment\n",
    "# The experiment ID\n",
    "# The number of experiments to be run with the SAME parameters\n",
    "# The size of the samples to be run\n",
    "# The list of DGPs to be run\n",
    "# The list of estimators\n",
    "observed_confounding_error = Experiment(\n",
    "    experiment_name='Test',\n",
    "    experiment_id='1',\n",
    "    num_experiments=10, # 10\n",
    "    sample_sizes=sample_size,\n",
    "    dgps=dgp_list,\n",
    "    estimators=estimator_tuples,\n",
    "    refuters=refuter_tuples,\n",
    "    simulate_unobserved_confounding = False \n",
    ")\n",
    "\n",
    "# Run the experiment\n",
    "res = pd.read_csv(observed_confounding_error.experiment())"
   ]
  },
  {
   "cell_type": "code",
   "execution_count": 9,
   "metadata": {
    "scrolled": true
   },
   "outputs": [
    {
     "data": {
      "image/png": "[encoded data removed]",
      "text/plain": [
       "<Figure size 432x288 with 1 Axes>"
      ]
     },
     "metadata": {
      "needs_background": "light"
     },
     "output_type": "display_data"
    },
    {
     "name": "stdout",
     "output_type": "stream",
     "text": [
      "Printing MAE of various estimates: \n",
      "ORIGINAL_ESTIMATE:backdoor.propensity_score_matching 64.6798838490298\n",
      "ORIGINAL_ESTIMATE:backdoor.econml.drlearner.LinearDRLearner 63.61090624481692\n",
      "ORIGINAL_ESTIMATE:backdoor.linear_regression 63.57319613783475\n",
      "ORIGINAL_ESTIMATE:backdoor.econml.dml.DML 55.96565113865781\n",
      "dummy_outcome_refuter:backdoor.linear_regression:NEW_EFFECT 1.7013445535046063\n",
      "dummy_outcome_refuter:backdoor.propensity_score_matching:NEW_EFFECT 1.5012300834459282\n",
      "dummy_outcome_refuter:backdoor.propensity_score_weighting:NEW_EFFECT 1.4217737266940838\n",
      "dummy_outcome_refuter:backdoor.econml.drlearner.LinearDRLearner:NEW_EFFECT 1.3252150701366132\n",
      "dummy_outcome_refuter:backdoor.linear_regression:ESTIMATED_EFFECT 1.0105303236947338\n",
      "dummy_outcome_refuter:backdoor.propensity_score_matching:ESTIMATED_EFFECT 1.0105303236947338\n",
      "dummy_outcome_refuter:backdoor.propensity_score_weighting:ESTIMATED_EFFECT 1.0105303236947338\n",
      "dummy_outcome_refuter:backdoor.econml.dml.DML:ESTIMATED_EFFECT 1.0105303236947338\n",
      "dummy_outcome_refuter:backdoor.econml.drlearner.LinearDRLearner:ESTIMATED_EFFECT 1.0105303236947338\n",
      "dummy_outcome_refuter:backdoor.propensity_score_weighting:P_VALUE 0.9351156414087886\n",
      "dummy_outcome_refuter:backdoor.linear_regression:P_VALUE 0.8877744467084419\n",
      "dummy_outcome_refuter:backdoor.econml.dml.DML:P_VALUE 0.8737380993264136\n",
      "dummy_outcome_refuter:backdoor.econml.drlearner.LinearDRLearner:P_VALUE 0.8572689347243369\n",
      "dummy_outcome_refuter:backdoor.propensity_score_matching:P_VALUE 0.8274384539775754\n",
      "dummy_outcome_refuter:backdoor.econml.dml.DML:NEW_EFFECT 0.5853728035775261\n"
     ]
    }
   ],
   "source": [
    "#PLOT\n",
    "#This plot shows the Mean Absolute Error of the Orginal Estimate from the true value and of the New Effect from \n",
    "#the expected value for each estimator. \n",
    "plot_MAEs(res)"
   ]
  },
  {
   "cell_type": "markdown",
   "metadata": {},
   "source": [
    "### Ranking based on Original Estimate"
   ]
  },
  {
   "cell_type": "markdown",
   "metadata": {},
   "source": [
    "The Original Estimate is calculated in the presence of the True Value (that is, the ground truth). However in many real life datasets, the ground truth may not be known. Hence, we want the ranking produced by our refutation tests to be in coherence with that obtained from the Original Estimates. According to the Original Estimate values, the ranking of the estimators should be as follows (the method with the least MAE should get the best rank):\n",
    "1. DMLCateEstimator \n",
    "2. LinearRegression \n",
    "3. LinearDRLearner \n",
    "4. Propensity Score Matching "
   ]
  },
  {
   "cell_type": "code",
   "execution_count": 10,
   "metadata": {},
   "outputs": [],
   "source": [
    "estimator_list = [\"backdoor.linear_regression\",\n",
    "                  #\"backdoor.propensity_score_stratification\",\n",
    "                  \"backdoor.propensity_score_matching\",\n",
    "                  \"backdoor.econml.dml.DML\",\n",
    "                  \"backdoor.econml.drlearner.LinearDRLearner\",\n",
    "                  #\"backdoor.econml.metalearners.TLearner\",\n",
    "                  #\"backdoor.econml.metalearners.XLearner\",\n",
    "                  #\"backdoor.causalml.inference.meta.LRSRegressor\",\n",
    "                  #\"backdoor.causalml.inference.meta.XGBTRegressor\",\n",
    "                  #\"backdoor.causalml.inference.meta.MLPTRegressor\",\n",
    "                  #\"backdoor.causalml.inference.meta.BaseXRegressor\"\n",
    "                ]"
   ]
  },
  {
   "cell_type": "code",
   "execution_count": 11,
   "metadata": {},
   "outputs": [
    {
     "data": {
      "image/png": "[encoded data removed]",
      "text/plain": [
       "<Figure size 432x288 with 1 Axes>"
      ]
     },
     "metadata": {
      "needs_background": "light"
     },
     "output_type": "display_data"
    },
    {
     "name": "stdout",
     "output_type": "stream",
     "text": [
      "3.620862678166359\n"
     ]
    },
    {
     "data": {
      "image/png": "[encoded data removed]",
      "text/plain": [
       "<Figure size 432x288 with 1 Axes>"
      ]
     },
     "metadata": {
      "needs_background": "light"
     },
     "output_type": "display_data"
    },
    {
     "name": "stdout",
     "output_type": "stream",
     "text": [
      "-4.937260676865596\n"
     ]
    },
    {
     "data": {
      "image/png": "[encoded data removed]",
      "text/plain": [
       "<Figure size 432x288 with 1 Axes>"
      ]
     },
     "metadata": {
      "needs_background": "light"
     },
     "output_type": "display_data"
    },
    {
     "name": "stdout",
     "output_type": "stream",
     "text": [
      "-2.117627906002552\n"
     ]
    },
    {
     "data": {
      "image/png": "[encoded data removed]",
      "text/plain": [
       "<Figure size 432x288 with 1 Axes>"
      ]
     },
     "metadata": {
      "needs_background": "light"
     },
     "output_type": "display_data"
    },
    {
     "name": "stdout",
     "output_type": "stream",
     "text": [
      "-5.525244017636955\n"
     ]
    },
    {
     "data": {
      "text/plain": [
       "<Figure size 432x288 with 0 Axes>"
      ]
     },
     "metadata": {},
     "output_type": "display_data"
    }
   ],
   "source": [
    "#This plot shows the deviation of the original estimate, the new effect and the estimated effect from the true value \n",
    "refuter = 'dummy_outcome_refuter'\n",
    "deviation_list = []\n",
    "for estimator in estimator_list:\n",
    "    plot_estimators_and_refuters(refuter, estimator)\n",
    "    avg_deviation = ((res[refuter+':'+estimator+':NEW_EFFECT']).sum(axis=0))\n",
    "    print(avg_deviation)\n",
    "    deviation_list.append(avg_deviation)"
   ]
  },
  {
   "cell_type": "code",
   "execution_count": 12,
   "metadata": {},
   "outputs": [
    {
     "data": {
      "image/png": "[encoded data removed]",
      "text/plain": [
       "<Figure size 432x288 with 1 Axes>"
      ]
     },
     "metadata": {
      "needs_background": "light"
     },
     "output_type": "display_data"
    },
    {
     "name": "stdout",
     "output_type": "stream",
     "text": [
      "backdoor.linear_regression: 3.620862678166359\n",
      "backdoor.propensity_score_matching: -4.937260676865596\n",
      "backdoor.econml.dml.DML: -2.117627906002552\n",
      "backdoor.econml.drlearner.LinearDRLearner: -5.525244017636955\n"
     ]
    }
   ],
   "source": [
    "plot_deviations(estimator_list, deviation_list)\n",
    "for i in range(len(estimator_list)):\n",
    "    print(estimator_list[i] +\": \"+ str(deviation_list[i]))"
   ]
  },
  {
   "cell_type": "code",
   "execution_count": 13,
   "metadata": {},
   "outputs": [
    {
     "data": {
      "text/plain": [
       "{'backdoor.linear_regression': 3.620862678166359,\n",
       " 'backdoor.econml.dml.DML': -2.117627906002552,\n",
       " 'backdoor.propensity_score_matching': -4.937260676865596,\n",
       " 'backdoor.econml.drlearner.LinearDRLearner': -5.525244017636955}"
      ]
     },
     "execution_count": 13,
     "metadata": {},
     "output_type": "execute_result"
    }
   ],
   "source": [
    "{k: v for k, v in sorted(zip(estimator_list, deviation_list), key=lambda item: item[1], reverse = True)}\n"
   ]
  },
  {
   "cell_type": "markdown",
   "metadata": {},
   "source": [
    "### Ranking based on New Effect (Refutatation results) "
   ]
  },
  {
   "cell_type": "markdown",
   "metadata": {},
   "source": [
    "The ranking based on absolute value of deviations is :\n",
    "1. Propensity Score Matching \n",
    "2. Linear DR Learner \n",
    "3. DML CATE Estimator \n",
    "4. Linear Regression"
   ]
  },
  {
   "cell_type": "markdown",
   "metadata": {},
   "source": [
    "Clearly, the observed unmodelled confounding error is not able to match the ranking based on the Original Estimate. It is not even able to tell that the clear winner amongst the methods according to the true value is DML CATE Estimator "
   ]
  },
  {
   "cell_type": "markdown",
   "metadata": {},
   "source": [
    "## Unobserved confounding error"
   ]
  },
  {
   "cell_type": "markdown",
   "metadata": {},
   "source": [
    "For each estimator, we now simulate unobserved confounders and check its effect using dummy outcome refuter to check the unobserved confounding error for each estimator. That is, we run the refutation test for each estimator not only on the observed confounder, but also on an unobserved confounder that we simulate using the AddUnobservedCommonCause class and analyse whether there is a strong confounder that is unobserved (missing) and needs to be accounted for. "
   ]
  },
  {
   "cell_type": "code",
   "execution_count": 14,
   "metadata": {},
   "outputs": [
    {
     "name": "stderr",
     "output_type": "stream",
     "text": [
      "WARNING:dowhy.causal_model:Causal Graph not provided. DoWhy will construct a graph based on data inputs.\n",
      "INFO:dowhy.causal_graph:If this is observed data (not from a randomized experiment), there might always be missing confounders. Adding a node named \"Unobserved Confounders\" to reflect this.\n",
      "INFO:dowhy.causal_model:Model to find the causal effect of treatment ['t1'] on outcome ['y']\n",
      "WARNING:dowhy.causal_identifier:If this is observed data (not from a randomized experiment), there might always be missing confounders. Causal effect cannot be identified perfectly.\n",
      "INFO:dowhy.causal_identifier:Continuing by ignoring these unobserved confounders because proceed_when_unidentifiable flag is True.\n",
      "INFO:dowhy.causal_identifier:Instrumental variables for treatment and outcome:[]\n",
      "INFO:dowhy.causal_identifier:Frontdoor variables for treatment and outcome:[]\n",
      "INFO:dowhy.causal_estimator:b: y~t1+w3+w2+t1*x1+t1*x2\n",
      "INFO:dowhy.causal_estimator:INFO: Using Linear Regression Estimator\n",
      "INFO:dowhy.causal_estimator:INFO: Using Propensity Score Matching Estimator\n",
      "INFO:dowhy.causal_estimator:b: y~t1+w3+w2\n"
     ]
    },
    {
     "name": "stdout",
     "output_type": "stream",
     "text": [
      "\n",
      "\n",
      "Running Experiment: Test_2\n",
      "\n",
      "\n",
      "Running Experiment Number: 0\n",
      "\n",
      "\n",
      "Current Sample Size: 1000\n",
      "\n",
      "\n",
      "The current DGP:\n",
      "\n",
      "        Linear Data Generating Process\n",
      "        -------------------------------\n",
      "        \n",
      "        treatment:['t1']\n",
      "        outcome:['y']\n",
      "        confounder: ['w1', 'w2', 'w3', 'w4', 'w5', 'w6']\n",
      "        effect_modifier: ['x1', 'x2']\n",
      "        weights: {'confounder=>treatment': array([[100.07433219],\n",
      "       [  1.86437677],\n",
      "       [  0.34325289],\n",
      "       [  2.01935684],\n",
      "       [  0.45205222],\n",
      "       [ -0.74578421]]), 'confounder=>outcome': array([[1.00942410e+02],\n",
      "       [7.87337996e-01],\n",
      "       [3.39211381e-01],\n",
      "       [8.38616458e-02],\n",
      "       [8.19154334e-01],\n",
      "       [1.62784153e+00]]), 'effect_modifier=>outcome': array([[0.71160853],\n",
      "       [0.50626448]]), 'treatment=>outcome': array([[-0.31087694]])}\n",
      "        bias: {'confounder=>treatment': array([-0.14233977]), 'confounder=>outcome': array([-0.09609283])}\n",
      "        seed: None\n",
      "        treatment_is_binary: True\n",
      "        percentile: 0.9\n",
      "        \n",
      "printing data shape\n",
      "(1000, 10)\n",
      "[-2.06889898]\n",
      "check\n",
      "printing length of confounder list: 2\n",
      "printing confounder list: ['w2', 'w3']\n",
      "data columns\n",
      "data columns Index(['x1', 'x2', 'w1', 'w2', 'w3', 'w4', 'w5', 'w6', 't1', 'y'], dtype='object')\n",
      "identified_estimand: Estimand type: nonparametric-ate\n",
      "\n",
      "### Estimand : 1\n",
      "Estimand name: backdoor1 (Default)\n",
      "Estimand expression:\n",
      "  d                        \n",
      "─────(Expectation(y|w3,w2))\n",
      "d[t₁]                      \n",
      "Estimand assumption 1, Unconfoundedness: If U→{t1} and U→y then P(y|t1,w3,w2,U) = P(y|t1,w3,w2)\n",
      "\n",
      "### Estimand : 2\n",
      "Estimand name: iv\n",
      "No such variable found!\n",
      "\n",
      "### Estimand : 3\n",
      "Estimand name: frontdoor\n",
      "No such variable found!\n",
      "\n",
      "\n",
      "\n",
      "Running the estimators:\n",
      "\n",
      "The current estimator: Estimator(name='backdoor.linear_regression', params=None)\n",
      "estimator.params None\n",
      "printing estimate's type\n",
      "<class 'dowhy.causal_estimator.CausalEstimate'>\n",
      "The current estimator: Estimator(name='backdoor.propensity_score_matching', params={'init_params': {}})\n",
      "estimator.params {'init_params': {}}\n"
     ]
    },
    {
     "name": "stderr",
     "output_type": "stream",
     "text": [
      "INFO:dowhy.causal_estimator:INFO: Using Propensity Score Weighting Estimator\n",
      "INFO:dowhy.causal_estimator:b: y~t1+w3+w2\n",
      "INFO:dowhy.causal_estimator:INFO: Using EconML Estimator\n",
      "WARNING:dowhy.causal_estimator:Effect modifiers are not a subset of common causes. For efficiency in estimation, EconML will consider all effect modifiers as common causes too.\n",
      "INFO:dowhy.causal_estimator:b: y~t1+w3+w2+x1+x2 | x1,x2\n"
     ]
    },
    {
     "name": "stdout",
     "output_type": "stream",
     "text": [
      "printing estimate's type\n",
      "<class 'dowhy.causal_estimator.CausalEstimate'>\n",
      "The current estimator: Estimator(name='backdoor.propensity_score_weighting', params={'init_params': {}})\n",
      "estimator.params {'init_params': {}}\n",
      "printing estimate's type\n",
      "<class 'dowhy.causal_estimator.CausalEstimate'>\n",
      "The current estimator: Estimator(name='backdoor.econml.dml.DML', params={'init_params': {'model_y': GradientBoostingRegressor(), 'model_t': GradientBoostingRegressor(), 'model_final': LassoCV(), 'featurizer': PolynomialFeatures(degree=1)}, 'fit_params': {}, '_econml_methodname': 'econml.dml.DML'})\n",
      "estimator.params {'init_params': {'model_y': GradientBoostingRegressor(), 'model_t': GradientBoostingRegressor(), 'model_final': LassoCV(), 'featurizer': PolynomialFeatures(degree=1)}, 'fit_params': {}, '_econml_methodname': 'econml.dml.DML'}\n"
     ]
    },
    {
     "name": "stderr",
     "output_type": "stream",
     "text": [
      "INFO:dowhy.causal_estimator:INFO: Using EconML Estimator\n",
      "WARNING:dowhy.causal_estimator:Effect modifiers are not a subset of common causes. For efficiency in estimation, EconML will consider all effect modifiers as common causes too.\n",
      "INFO:dowhy.causal_estimator:b: y~t1+w3+w2+x1+x2 | x1,x2\n"
     ]
    },
    {
     "name": "stdout",
     "output_type": "stream",
     "text": [
      "printing estimate's type\n",
      "<class 'dowhy.causal_estimator.CausalEstimate'>\n",
      "The current estimator: Estimator(name='backdoor.econml.drlearner.LinearDRLearner', params={'init_params': {'model_propensity': LogisticRegressionCV(cv=3)}, 'fit_params': {}, '_econml_methodname': 'econml.drlearner.LinearDRLearner'})\n",
      "estimator.params {'init_params': {'model_propensity': LogisticRegressionCV(cv=3)}, 'fit_params': {}, '_econml_methodname': 'econml.drlearner.LinearDRLearner'}\n"
     ]
    },
    {
     "name": "stderr",
     "output_type": "stream",
     "text": [
      "INFO:dowhy.causal_refuters.add_unobserved_common_cause:All variables required: Running bootstrap adding noise to confounders, instrumental variables and effect modifiers.\n"
     ]
    },
    {
     "name": "stdout",
     "output_type": "stream",
     "text": [
      "printing estimate's type\n",
      "<class 'dowhy.causal_estimator.CausalEstimate'>\n",
      "estimate_values [55.18256689739501, 60.440261436611856, 54.416170375058265, 51.36127883399426, 54.741456564062894]\n",
      "\n",
      "\n",
      "Running the refuters:\n",
      "\n",
      "The current refuter: Refuter(name='dummy_outcome_refuter', params={'num_simulations': 5, 'transformation_list': [('random_forest', {'n_estimators': 100, 'max_depth': 6})], 'true_causal_effect': <function <lambda> at 0x0000022829325828>})\n",
      "********%%%%%%%%%$$$$$&&^**^^^^*^*^*\n",
      "add_unobserved_confounder <dowhy.causal_refuters.add_unobserved_common_cause.AddUnobservedCommonCause object at 0x0000022874D86CC8>\n"
     ]
    },
    {
     "name": "stderr",
     "output_type": "stream",
     "text": [
      "INFO:dowhy.causal_refuter:All variables required: Running bootstrap adding noise to confounders, instrumental variables and effect modifiers.\n",
      "INFO:dowhy.causal_refuters.dummy_outcome_refuter:Refutation over 5 simulated datasets\n",
      "INFO:dowhy.causal_refuters.dummy_outcome_refuter:The transformation passed: [('random_forest', {'n_estimators': 100, 'max_depth': 6})]\n"
     ]
    },
    {
     "name": "stdout",
     "output_type": "stream",
     "text": [
      "refuter.params {'num_simulations': 5, 'transformation_list': [('random_forest', {'n_estimators': 100, 'max_depth': 6})], 'true_causal_effect': <function <lambda> at 0x0000022829325828>, 'unobserved_confounder_values': 0       886.024408\n",
      "1      3109.616877\n",
      "2       974.087671\n",
      "3      1618.600702\n",
      "4     -2277.563419\n",
      "          ...     \n",
      "995     -56.090336\n",
      "996    1188.575252\n",
      "997    4898.225601\n",
      "998    1055.900673\n",
      "999    -805.332487\n",
      "Length: 1000, dtype: float64}\n"
     ]
    },
    {
     "name": "stderr",
     "output_type": "stream",
     "text": [
      "INFO:dowhy.causal_estimator:b: dummy_outcome~t1+w3+w2+t1*x1+t1*x2\n",
      "INFO:dowhy.causal_estimator:INFO: Using Linear Regression Estimator\n",
      "INFO:dowhy.causal_estimator:b: dummy_outcome~t1+w3+w2+t1*x1+t1*x2\n",
      "INFO:dowhy.causal_estimator:INFO: Using Linear Regression Estimator\n",
      "INFO:dowhy.causal_estimator:b: dummy_outcome~t1+w3+w2+t1*x1+t1*x2\n",
      "INFO:dowhy.causal_estimator:INFO: Using Linear Regression Estimator\n",
      "INFO:dowhy.causal_estimator:b: dummy_outcome~t1+w3+w2+t1*x1+t1*x2\n",
      "INFO:dowhy.causal_estimator:INFO: Using Linear Regression Estimator\n",
      "INFO:dowhy.causal_estimator:b: dummy_outcome~t1+w3+w2+t1*x1+t1*x2\n",
      "INFO:dowhy.causal_estimator:INFO: Using Linear Regression Estimator\n",
      "INFO:dowhy.causal_estimator:b: dummy_outcome~t1+w3+w2+t1*x1+t1*x2\n",
      "INFO:dowhy.causal_estimator:INFO: Using Linear Regression Estimator\n",
      "INFO:dowhy.causal_estimator:b: dummy_outcome~t1+w3+w2+t1*x1+t1*x2\n",
      "INFO:dowhy.causal_estimator:INFO: Using Linear Regression Estimator\n",
      "INFO:dowhy.causal_estimator:b: dummy_outcome~t1+w3+w2+t1*x1+t1*x2\n",
      "INFO:dowhy.causal_estimator:INFO: Using Linear Regression Estimator\n",
      "INFO:dowhy.causal_estimator:b: dummy_outcome~t1+w3+w2+t1*x1+t1*x2\n",
      "INFO:dowhy.causal_estimator:INFO: Using Linear Regression Estimator\n",
      "INFO:dowhy.causal_estimator:b: dummy_outcome~t1+w3+w2+t1*x1+t1*x2\n",
      "INFO:dowhy.causal_estimator:INFO: Using Linear Regression Estimator\n",
      "WARNING:dowhy.causal_refuters.dummy_outcome_refuter:We assume a Normal Distribution as the sample has less than 100 examples.\n",
      "                 Note: The underlying distribution may not be Normal. We assume that it approaches normal with the increase in sample size.\n",
      "WARNING:dowhy.causal_refuters.dummy_outcome_refuter:We assume a Normal Distribution as the sample has less than 100 examples.\n",
      "                 Note: The underlying distribution may not be Normal. We assume that it approaches normal with the increase in sample size.\n",
      "INFO:dowhy.causal_refuters.add_unobserved_common_cause:All variables required: Running bootstrap adding noise to confounders, instrumental variables and effect modifiers.\n"
     ]
    },
    {
     "name": "stdout",
     "output_type": "stream",
     "text": [
      "printing refute's type\n",
      "<class 'list'>\n",
      "********%%%%%%%%%$$$$$&&^**^^^^*^*^*\n",
      "add_unobserved_confounder <dowhy.causal_refuters.add_unobserved_common_cause.AddUnobservedCommonCause object at 0x00000228749DF448>\n"
     ]
    },
    {
     "name": "stderr",
     "output_type": "stream",
     "text": [
      "INFO:dowhy.causal_refuter:All variables required: Running bootstrap adding noise to confounders, instrumental variables and effect modifiers.\n",
      "INFO:dowhy.causal_refuters.dummy_outcome_refuter:Refutation over 5 simulated datasets\n",
      "INFO:dowhy.causal_refuters.dummy_outcome_refuter:The transformation passed: [('random_forest', {'n_estimators': 100, 'max_depth': 6})]\n"
     ]
    },
    {
     "name": "stdout",
     "output_type": "stream",
     "text": [
      "refuter.params {'num_simulations': 5, 'transformation_list': [('random_forest', {'n_estimators': 100, 'max_depth': 6})], 'true_causal_effect': <function <lambda> at 0x0000022829325828>, 'unobserved_confounder_values': 0       885.819456\n",
      "1      3109.530572\n",
      "2       972.380917\n",
      "3      1620.853827\n",
      "4     -2273.555551\n",
      "          ...     \n",
      "995     -57.899565\n",
      "996    1189.265433\n",
      "997    4900.485712\n",
      "998    1054.399508\n",
      "999    -807.553757\n",
      "Length: 1000, dtype: float64}\n"
     ]
    },
    {
     "name": "stderr",
     "output_type": "stream",
     "text": [
      "INFO:dowhy.causal_estimator:INFO: Using Propensity Score Matching Estimator\n",
      "INFO:dowhy.causal_estimator:b: dummy_outcome~t1+w3+w2\n",
      "INFO:dowhy.causal_estimator:INFO: Using Propensity Score Matching Estimator\n",
      "INFO:dowhy.causal_estimator:b: dummy_outcome~t1+w3+w2\n",
      "INFO:dowhy.causal_estimator:INFO: Using Propensity Score Matching Estimator\n",
      "INFO:dowhy.causal_estimator:b: dummy_outcome~t1+w3+w2\n",
      "INFO:dowhy.causal_estimator:INFO: Using Propensity Score Matching Estimator\n",
      "INFO:dowhy.causal_estimator:b: dummy_outcome~t1+w3+w2\n",
      "INFO:dowhy.causal_estimator:INFO: Using Propensity Score Matching Estimator\n",
      "INFO:dowhy.causal_estimator:b: dummy_outcome~t1+w3+w2\n",
      "INFO:dowhy.causal_estimator:INFO: Using Propensity Score Matching Estimator\n",
      "INFO:dowhy.causal_estimator:b: dummy_outcome~t1+w3+w2\n",
      "INFO:dowhy.causal_estimator:INFO: Using Propensity Score Matching Estimator\n",
      "INFO:dowhy.causal_estimator:b: dummy_outcome~t1+w3+w2\n",
      "INFO:dowhy.causal_estimator:INFO: Using Propensity Score Matching Estimator\n",
      "INFO:dowhy.causal_estimator:b: dummy_outcome~t1+w3+w2\n",
      "INFO:dowhy.causal_estimator:INFO: Using Propensity Score Matching Estimator\n",
      "INFO:dowhy.causal_estimator:b: dummy_outcome~t1+w3+w2\n",
      "INFO:dowhy.causal_estimator:INFO: Using Propensity Score Matching Estimator\n",
      "INFO:dowhy.causal_estimator:b: dummy_outcome~t1+w3+w2\n",
      "WARNING:dowhy.causal_refuters.dummy_outcome_refuter:We assume a Normal Distribution as the sample has less than 100 examples.\n",
      "                 Note: The underlying distribution may not be Normal. We assume that it approaches normal with the increase in sample size.\n",
      "WARNING:dowhy.causal_refuters.dummy_outcome_refuter:We assume a Normal Distribution as the sample has less than 100 examples.\n",
      "                 Note: The underlying distribution may not be Normal. We assume that it approaches normal with the increase in sample size.\n",
      "INFO:dowhy.causal_refuters.add_unobserved_common_cause:All variables required: Running bootstrap adding noise to confounders, instrumental variables and effect modifiers.\n"
     ]
    },
    {
     "name": "stdout",
     "output_type": "stream",
     "text": [
      "printing refute's type\n",
      "<class 'list'>\n",
      "********%%%%%%%%%$$$$$&&^**^^^^*^*^*\n",
      "add_unobserved_confounder <dowhy.causal_refuters.add_unobserved_common_cause.AddUnobservedCommonCause object at 0x0000022874D86D88>\n"
     ]
    },
    {
     "name": "stderr",
     "output_type": "stream",
     "text": [
      "INFO:dowhy.causal_refuter:All variables required: Running bootstrap adding noise to confounders, instrumental variables and effect modifiers.\n",
      "INFO:dowhy.causal_refuters.dummy_outcome_refuter:Refutation over 5 simulated datasets\n",
      "INFO:dowhy.causal_refuters.dummy_outcome_refuter:The transformation passed: [('random_forest', {'n_estimators': 100, 'max_depth': 6})]\n"
     ]
    },
    {
     "name": "stdout",
     "output_type": "stream",
     "text": [
      "refuter.params {'num_simulations': 5, 'transformation_list': [('random_forest', {'n_estimators': 100, 'max_depth': 6})], 'true_causal_effect': <function <lambda> at 0x0000022829325828>, 'unobserved_confounder_values': 0       887.062820\n",
      "1      3109.631616\n",
      "2       973.156898\n",
      "3      1617.869072\n",
      "4     -2277.359864\n",
      "          ...     \n",
      "995     -59.668237\n",
      "996    1190.204751\n",
      "997    4897.413616\n",
      "998    1056.330840\n",
      "999    -805.672653\n",
      "Length: 1000, dtype: float64}\n"
     ]
    },
    {
     "name": "stderr",
     "output_type": "stream",
     "text": [
      "INFO:dowhy.causal_estimator:INFO: Using Propensity Score Weighting Estimator\n",
      "INFO:dowhy.causal_estimator:b: dummy_outcome~t1+w3+w2\n",
      "INFO:dowhy.causal_estimator:INFO: Using Propensity Score Weighting Estimator\n",
      "INFO:dowhy.causal_estimator:b: dummy_outcome~t1+w3+w2\n",
      "INFO:dowhy.causal_estimator:INFO: Using Propensity Score Weighting Estimator\n",
      "INFO:dowhy.causal_estimator:b: dummy_outcome~t1+w3+w2\n",
      "INFO:dowhy.causal_estimator:INFO: Using Propensity Score Weighting Estimator\n",
      "INFO:dowhy.causal_estimator:b: dummy_outcome~t1+w3+w2\n",
      "INFO:dowhy.causal_estimator:INFO: Using Propensity Score Weighting Estimator\n",
      "INFO:dowhy.causal_estimator:b: dummy_outcome~t1+w3+w2\n",
      "INFO:dowhy.causal_estimator:INFO: Using Propensity Score Weighting Estimator\n",
      "INFO:dowhy.causal_estimator:b: dummy_outcome~t1+w3+w2\n",
      "INFO:dowhy.causal_estimator:INFO: Using Propensity Score Weighting Estimator\n",
      "INFO:dowhy.causal_estimator:b: dummy_outcome~t1+w3+w2\n",
      "INFO:dowhy.causal_estimator:INFO: Using Propensity Score Weighting Estimator\n",
      "INFO:dowhy.causal_estimator:b: dummy_outcome~t1+w3+w2\n",
      "INFO:dowhy.causal_estimator:INFO: Using Propensity Score Weighting Estimator\n",
      "INFO:dowhy.causal_estimator:b: dummy_outcome~t1+w3+w2\n",
      "INFO:dowhy.causal_estimator:INFO: Using Propensity Score Weighting Estimator\n",
      "INFO:dowhy.causal_estimator:b: dummy_outcome~t1+w3+w2\n",
      "WARNING:dowhy.causal_refuters.dummy_outcome_refuter:We assume a Normal Distribution as the sample has less than 100 examples.\n",
      "                 Note: The underlying distribution may not be Normal. We assume that it approaches normal with the increase in sample size.\n",
      "WARNING:dowhy.causal_refuters.dummy_outcome_refuter:We assume a Normal Distribution as the sample has less than 100 examples.\n",
      "                 Note: The underlying distribution may not be Normal. We assume that it approaches normal with the increase in sample size.\n",
      "INFO:dowhy.causal_refuters.add_unobserved_common_cause:All variables required: Running bootstrap adding noise to confounders, instrumental variables and effect modifiers.\n"
     ]
    },
    {
     "name": "stdout",
     "output_type": "stream",
     "text": [
      "printing refute's type\n",
      "<class 'list'>\n",
      "********%%%%%%%%%$$$$$&&^**^^^^*^*^*\n",
      "add_unobserved_confounder <dowhy.causal_refuters.add_unobserved_common_cause.AddUnobservedCommonCause object at 0x00000228749E0B08>\n"
     ]
    },
    {
     "name": "stderr",
     "output_type": "stream",
     "text": [
      "INFO:dowhy.causal_refuter:All variables required: Running bootstrap adding noise to confounders, instrumental variables and effect modifiers.\n",
      "INFO:dowhy.causal_refuters.dummy_outcome_refuter:Refutation over 5 simulated datasets\n",
      "INFO:dowhy.causal_refuters.dummy_outcome_refuter:The transformation passed: [('random_forest', {'n_estimators': 100, 'max_depth': 6})]\n"
     ]
    },
    {
     "name": "stdout",
     "output_type": "stream",
     "text": [
      "refuter.params {'num_simulations': 5, 'transformation_list': [('random_forest', {'n_estimators': 100, 'max_depth': 6})], 'true_causal_effect': <function <lambda> at 0x0000022829325828>, 'unobserved_confounder_values': 0       887.429624\n",
      "1      3110.808626\n",
      "2       974.068001\n",
      "3      1616.472514\n",
      "4     -2276.342354\n",
      "          ...     \n",
      "995     -57.856891\n",
      "996    1190.377244\n",
      "997    4898.583883\n",
      "998    1054.970374\n",
      "999    -806.018161\n",
      "Length: 1000, dtype: float64}\n"
     ]
    },
    {
     "name": "stderr",
     "output_type": "stream",
     "text": [
      "INFO:dowhy.causal_estimator:INFO: Using EconML Estimator\n",
      "WARNING:dowhy.causal_estimator:Effect modifiers are not a subset of common causes. For efficiency in estimation, EconML will consider all effect modifiers as common causes too.\n",
      "INFO:dowhy.causal_estimator:b: dummy_outcome~t1+w3+w2+x1+x2 | x1,x2\n",
      "INFO:dowhy.causal_estimator:INFO: Using EconML Estimator\n",
      "WARNING:dowhy.causal_estimator:Effect modifiers are not a subset of common causes. For efficiency in estimation, EconML will consider all effect modifiers as common causes too.\n",
      "INFO:dowhy.causal_estimator:b: dummy_outcome~t1+w3+w2+x1+x2 | x1,x2\n",
      "INFO:dowhy.causal_estimator:INFO: Using EconML Estimator\n",
      "WARNING:dowhy.causal_estimator:Effect modifiers are not a subset of common causes. For efficiency in estimation, EconML will consider all effect modifiers as common causes too.\n",
      "INFO:dowhy.causal_estimator:b: dummy_outcome~t1+w3+w2+x1+x2 | x1,x2\n",
      "INFO:dowhy.causal_estimator:INFO: Using EconML Estimator\n",
      "WARNING:dowhy.causal_estimator:Effect modifiers are not a subset of common causes. For efficiency in estimation, EconML will consider all effect modifiers as common causes too.\n",
      "INFO:dowhy.causal_estimator:b: dummy_outcome~t1+w3+w2+x1+x2 | x1,x2\n",
      "INFO:dowhy.causal_estimator:INFO: Using EconML Estimator\n",
      "WARNING:dowhy.causal_estimator:Effect modifiers are not a subset of common causes. For efficiency in estimation, EconML will consider all effect modifiers as common causes too.\n",
      "INFO:dowhy.causal_estimator:b: dummy_outcome~t1+w3+w2+x1+x2 | x1,x2\n",
      "INFO:dowhy.causal_estimator:INFO: Using EconML Estimator\n",
      "WARNING:dowhy.causal_estimator:Effect modifiers are not a subset of common causes. For efficiency in estimation, EconML will consider all effect modifiers as common causes too.\n",
      "INFO:dowhy.causal_estimator:b: dummy_outcome~t1+w3+w2+x1+x2 | x1,x2\n",
      "INFO:dowhy.causal_estimator:INFO: Using EconML Estimator\n",
      "WARNING:dowhy.causal_estimator:Effect modifiers are not a subset of common causes. For efficiency in estimation, EconML will consider all effect modifiers as common causes too.\n",
      "INFO:dowhy.causal_estimator:b: dummy_outcome~t1+w3+w2+x1+x2 | x1,x2\n",
      "INFO:dowhy.causal_estimator:INFO: Using EconML Estimator\n",
      "WARNING:dowhy.causal_estimator:Effect modifiers are not a subset of common causes. For efficiency in estimation, EconML will consider all effect modifiers as common causes too.\n",
      "INFO:dowhy.causal_estimator:b: dummy_outcome~t1+w3+w2+x1+x2 | x1,x2\n",
      "INFO:dowhy.causal_estimator:INFO: Using EconML Estimator\n",
      "WARNING:dowhy.causal_estimator:Effect modifiers are not a subset of common causes. For efficiency in estimation, EconML will consider all effect modifiers as common causes too.\n",
      "INFO:dowhy.causal_estimator:b: dummy_outcome~t1+w3+w2+x1+x2 | x1,x2\n",
      "INFO:dowhy.causal_estimator:INFO: Using EconML Estimator\n",
      "WARNING:dowhy.causal_estimator:Effect modifiers are not a subset of common causes. For efficiency in estimation, EconML will consider all effect modifiers as common causes too.\n",
      "INFO:dowhy.causal_estimator:b: dummy_outcome~t1+w3+w2+x1+x2 | x1,x2\n",
      "WARNING:dowhy.causal_refuters.dummy_outcome_refuter:We assume a Normal Distribution as the sample has less than 100 examples.\n",
      "                 Note: The underlying distribution may not be Normal. We assume that it approaches normal with the increase in sample size.\n",
      "WARNING:dowhy.causal_refuters.dummy_outcome_refuter:We assume a Normal Distribution as the sample has less than 100 examples.\n",
      "                 Note: The underlying distribution may not be Normal. We assume that it approaches normal with the increase in sample size.\n",
      "INFO:dowhy.causal_refuters.add_unobserved_common_cause:All variables required: Running bootstrap adding noise to confounders, instrumental variables and effect modifiers.\n"
     ]
    },
    {
     "name": "stdout",
     "output_type": "stream",
     "text": [
      "printing refute's type\n",
      "<class 'list'>\n",
      "********%%%%%%%%%$$$$$&&^**^^^^*^*^*\n",
      "add_unobserved_confounder <dowhy.causal_refuters.add_unobserved_common_cause.AddUnobservedCommonCause object at 0x00000228721681C8>\n"
     ]
    },
    {
     "name": "stderr",
     "output_type": "stream",
     "text": [
      "INFO:dowhy.causal_refuter:All variables required: Running bootstrap adding noise to confounders, instrumental variables and effect modifiers.\n",
      "INFO:dowhy.causal_refuters.dummy_outcome_refuter:Refutation over 5 simulated datasets\n",
      "INFO:dowhy.causal_refuters.dummy_outcome_refuter:The transformation passed: [('random_forest', {'n_estimators': 100, 'max_depth': 6})]\n"
     ]
    },
    {
     "name": "stdout",
     "output_type": "stream",
     "text": [
      "refuter.params {'num_simulations': 5, 'transformation_list': [('random_forest', {'n_estimators': 100, 'max_depth': 6})], 'true_causal_effect': <function <lambda> at 0x0000022829325828>, 'unobserved_confounder_values': 0       885.552323\n",
      "1      3110.401784\n",
      "2       973.953302\n",
      "3      1619.530484\n",
      "4     -2275.533373\n",
      "          ...     \n",
      "995     -57.622134\n",
      "996    1188.577183\n",
      "997    4896.785640\n",
      "998    1055.338382\n",
      "999    -806.696522\n",
      "Length: 1000, dtype: float64}\n"
     ]
    },
    {
     "name": "stderr",
     "output_type": "stream",
     "text": [
      "INFO:dowhy.causal_estimator:INFO: Using EconML Estimator\n",
      "WARNING:dowhy.causal_estimator:Effect modifiers are not a subset of common causes. For efficiency in estimation, EconML will consider all effect modifiers as common causes too.\n",
      "INFO:dowhy.causal_estimator:b: dummy_outcome~t1+w3+w2+x1+x2 | x1,x2\n",
      "INFO:dowhy.causal_estimator:INFO: Using EconML Estimator\n",
      "WARNING:dowhy.causal_estimator:Effect modifiers are not a subset of common causes. For efficiency in estimation, EconML will consider all effect modifiers as common causes too.\n",
      "INFO:dowhy.causal_estimator:b: dummy_outcome~t1+w3+w2+x1+x2 | x1,x2\n",
      "INFO:dowhy.causal_estimator:INFO: Using EconML Estimator\n",
      "WARNING:dowhy.causal_estimator:Effect modifiers are not a subset of common causes. For efficiency in estimation, EconML will consider all effect modifiers as common causes too.\n",
      "INFO:dowhy.causal_estimator:b: dummy_outcome~t1+w3+w2+x1+x2 | x1,x2\n",
      "INFO:dowhy.causal_estimator:INFO: Using EconML Estimator\n",
      "WARNING:dowhy.causal_estimator:Effect modifiers are not a subset of common causes. For efficiency in estimation, EconML will consider all effect modifiers as common causes too.\n",
      "INFO:dowhy.causal_estimator:b: dummy_outcome~t1+w3+w2+x1+x2 | x1,x2\n",
      "INFO:dowhy.causal_estimator:INFO: Using EconML Estimator\n",
      "WARNING:dowhy.causal_estimator:Effect modifiers are not a subset of common causes. For efficiency in estimation, EconML will consider all effect modifiers as common causes too.\n",
      "INFO:dowhy.causal_estimator:b: dummy_outcome~t1+w3+w2+x1+x2 | x1,x2\n",
      "INFO:dowhy.causal_estimator:INFO: Using EconML Estimator\n",
      "WARNING:dowhy.causal_estimator:Effect modifiers are not a subset of common causes. For efficiency in estimation, EconML will consider all effect modifiers as common causes too.\n",
      "INFO:dowhy.causal_estimator:b: dummy_outcome~t1+w3+w2+x1+x2 | x1,x2\n",
      "INFO:dowhy.causal_estimator:INFO: Using EconML Estimator\n",
      "WARNING:dowhy.causal_estimator:Effect modifiers are not a subset of common causes. For efficiency in estimation, EconML will consider all effect modifiers as common causes too.\n",
      "INFO:dowhy.causal_estimator:b: dummy_outcome~t1+w3+w2+x1+x2 | x1,x2\n",
      "INFO:dowhy.causal_estimator:INFO: Using EconML Estimator\n",
      "WARNING:dowhy.causal_estimator:Effect modifiers are not a subset of common causes. For efficiency in estimation, EconML will consider all effect modifiers as common causes too.\n",
      "INFO:dowhy.causal_estimator:b: dummy_outcome~t1+w3+w2+x1+x2 | x1,x2\n",
      "INFO:dowhy.causal_estimator:INFO: Using EconML Estimator\n",
      "WARNING:dowhy.causal_estimator:Effect modifiers are not a subset of common causes. For efficiency in estimation, EconML will consider all effect modifiers as common causes too.\n",
      "INFO:dowhy.causal_estimator:b: dummy_outcome~t1+w3+w2+x1+x2 | x1,x2\n",
      "INFO:dowhy.causal_estimator:INFO: Using EconML Estimator\n",
      "WARNING:dowhy.causal_estimator:Effect modifiers are not a subset of common causes. For efficiency in estimation, EconML will consider all effect modifiers as common causes too.\n",
      "INFO:dowhy.causal_estimator:b: dummy_outcome~t1+w3+w2+x1+x2 | x1,x2\n",
      "WARNING:dowhy.causal_refuters.dummy_outcome_refuter:We assume a Normal Distribution as the sample has less than 100 examples.\n",
      "                 Note: The underlying distribution may not be Normal. We assume that it approaches normal with the increase in sample size.\n",
      "WARNING:dowhy.causal_refuters.dummy_outcome_refuter:We assume a Normal Distribution as the sample has less than 100 examples.\n",
      "                 Note: The underlying distribution may not be Normal. We assume that it approaches normal with the increase in sample size.\n",
      "WARNING:dowhy.causal_model:Causal Graph not provided. DoWhy will construct a graph based on data inputs.\n",
      "INFO:dowhy.causal_graph:If this is observed data (not from a randomized experiment), there might always be missing confounders. Adding a node named \"Unobserved Confounders\" to reflect this.\n",
      "INFO:dowhy.causal_model:Model to find the causal effect of treatment ['t1'] on outcome ['y']\n",
      "WARNING:dowhy.causal_identifier:If this is observed data (not from a randomized experiment), there might always be missing confounders. Causal effect cannot be identified perfectly.\n",
      "INFO:dowhy.causal_identifier:Continuing by ignoring these unobserved confounders because proceed_when_unidentifiable flag is True.\n",
      "INFO:dowhy.causal_identifier:Instrumental variables for treatment and outcome:[]\n",
      "INFO:dowhy.causal_identifier:Frontdoor variables for treatment and outcome:[]\n",
      "INFO:dowhy.causal_estimator:b: y~t1+w3+w2+t1*x1+t1*x2\n",
      "INFO:dowhy.causal_estimator:INFO: Using Linear Regression Estimator\n",
      "INFO:dowhy.causal_estimator:INFO: Using Propensity Score Matching Estimator\n",
      "INFO:dowhy.causal_estimator:b: y~t1+w3+w2\n"
     ]
    },
    {
     "name": "stdout",
     "output_type": "stream",
     "text": [
      "printing refute's type\n",
      "<class 'list'>\n",
      "estimated effect [0.5, 0.5, 0.5, 0.5, 0.5]\n",
      "new_effect [14.220660228271054, 8.070147178164813, 14.041167765838651, 11.289685382085215, 15.830851959854382]\n",
      "p_value [0.007926338127170671, 0.32093138655064546, 0.13285687634393362, 0.18875396163043395, 0.034242978646891006]\n",
      "true value -2.0688989774993507\n",
      "\n",
      "\n",
      "Running Experiment Number: 1\n",
      "\n",
      "\n",
      "Current Sample Size: 1000\n",
      "\n",
      "\n",
      "The current DGP:\n",
      "\n",
      "        Linear Data Generating Process\n",
      "        -------------------------------\n",
      "        \n",
      "        treatment:['t1']\n",
      "        outcome:['y']\n",
      "        confounder: ['w1', 'w2', 'w3', 'w4', 'w5', 'w6']\n",
      "        effect_modifier: ['x1', 'x2']\n",
      "        weights: {'confounder=>treatment': array([[100.210826  ],\n",
      "       [ -0.89663495],\n",
      "       [  0.85503159],\n",
      "       [ -0.71551311],\n",
      "       [ -1.38258733],\n",
      "       [ -0.25516296]]), 'confounder=>outcome': array([[99.79143779],\n",
      "       [ 0.49938667],\n",
      "       [-0.23966983],\n",
      "       [ 0.5316778 ],\n",
      "       [-0.6391753 ],\n",
      "       [-0.69775343]]), 'effect_modifier=>outcome': array([[-1.251022  ],\n",
      "       [-0.20452625]]), 'treatment=>outcome': array([[-2.06889898]])}\n",
      "        bias: {'confounder=>treatment': array([-1.84732251]), 'confounder=>outcome': array([1.5124167])}\n",
      "        seed: None\n",
      "        treatment_is_binary: True\n",
      "        percentile: 0.9\n",
      "        \n",
      "printing data shape\n",
      "(1000, 10)\n",
      "[-1.97022822]\n",
      "check\n",
      "printing length of confounder list: 2\n",
      "printing confounder list: ['w2', 'w3']\n",
      "data columns\n",
      "data columns Index(['x1', 'x2', 'w1', 'w2', 'w3', 'w4', 'w5', 'w6', 't1', 'y'], dtype='object')\n",
      "identified_estimand: Estimand type: nonparametric-ate\n",
      "\n",
      "### Estimand : 1\n",
      "Estimand name: backdoor1 (Default)\n",
      "Estimand expression:\n",
      "  d                        \n",
      "─────(Expectation(y|w3,w2))\n",
      "d[t₁]                      \n",
      "Estimand assumption 1, Unconfoundedness: If U→{t1} and U→y then P(y|t1,w3,w2,U) = P(y|t1,w3,w2)\n",
      "\n",
      "### Estimand : 2\n",
      "Estimand name: iv\n",
      "No such variable found!\n",
      "\n",
      "### Estimand : 3\n",
      "Estimand name: frontdoor\n",
      "No such variable found!\n",
      "\n",
      "\n",
      "\n",
      "Running the estimators:\n",
      "\n",
      "The current estimator: Estimator(name='backdoor.linear_regression', params=None)\n",
      "estimator.params None\n",
      "printing estimate's type\n",
      "<class 'dowhy.causal_estimator.CausalEstimate'>\n",
      "The current estimator: Estimator(name='backdoor.propensity_score_matching', params={'init_params': {}})\n",
      "estimator.params {'init_params': {}}\n"
     ]
    },
    {
     "name": "stderr",
     "output_type": "stream",
     "text": [
      "INFO:dowhy.causal_estimator:INFO: Using Propensity Score Weighting Estimator\n",
      "INFO:dowhy.causal_estimator:b: y~t1+w3+w2\n",
      "INFO:dowhy.causal_estimator:INFO: Using EconML Estimator\n",
      "WARNING:dowhy.causal_estimator:Effect modifiers are not a subset of common causes. For efficiency in estimation, EconML will consider all effect modifiers as common causes too.\n",
      "INFO:dowhy.causal_estimator:b: y~t1+w3+w2+x1+x2 | x1,x2\n"
     ]
    },
    {
     "name": "stdout",
     "output_type": "stream",
     "text": [
      "printing estimate's type\n",
      "<class 'dowhy.causal_estimator.CausalEstimate'>\n",
      "The current estimator: Estimator(name='backdoor.propensity_score_weighting', params={'init_params': {}})\n",
      "estimator.params {'init_params': {}}\n",
      "printing estimate's type\n",
      "<class 'dowhy.causal_estimator.CausalEstimate'>\n",
      "The current estimator: Estimator(name='backdoor.econml.dml.DML', params={'init_params': {'model_y': GradientBoostingRegressor(), 'model_t': GradientBoostingRegressor(), 'model_final': LassoCV(), 'featurizer': PolynomialFeatures(degree=1)}, 'fit_params': {}, '_econml_methodname': 'econml.dml.DML'})\n",
      "estimator.params {'init_params': {'model_y': GradientBoostingRegressor(), 'model_t': GradientBoostingRegressor(), 'model_final': LassoCV(), 'featurizer': PolynomialFeatures(degree=1)}, 'fit_params': {}, '_econml_methodname': 'econml.dml.DML'}\n"
     ]
    },
    {
     "name": "stderr",
     "output_type": "stream",
     "text": [
      "INFO:dowhy.causal_estimator:INFO: Using EconML Estimator\n",
      "WARNING:dowhy.causal_estimator:Effect modifiers are not a subset of common causes. For efficiency in estimation, EconML will consider all effect modifiers as common causes too.\n",
      "INFO:dowhy.causal_estimator:b: y~t1+w3+w2+x1+x2 | x1,x2\n"
     ]
    },
    {
     "name": "stdout",
     "output_type": "stream",
     "text": [
      "printing estimate's type\n",
      "<class 'dowhy.causal_estimator.CausalEstimate'>\n",
      "The current estimator: Estimator(name='backdoor.econml.drlearner.LinearDRLearner', params={'init_params': {'model_propensity': LogisticRegressionCV(cv=3)}, 'fit_params': {}, '_econml_methodname': 'econml.drlearner.LinearDRLearner'})\n",
      "estimator.params {'init_params': {'model_propensity': LogisticRegressionCV(cv=3)}, 'fit_params': {}, '_econml_methodname': 'econml.drlearner.LinearDRLearner'}\n"
     ]
    },
    {
     "name": "stderr",
     "output_type": "stream",
     "text": [
      "INFO:dowhy.causal_refuters.add_unobserved_common_cause:All variables required: Running bootstrap adding noise to confounders, instrumental variables and effect modifiers.\n"
     ]
    },
    {
     "name": "stdout",
     "output_type": "stream",
     "text": [
      "printing estimate's type\n",
      "<class 'dowhy.causal_estimator.CausalEstimate'>\n",
      "estimate_values [64.1680008526193, 59.171666776831174, 62.745450425951915, 56.219168167110446, 64.50254783529056]\n",
      "\n",
      "\n",
      "Running the refuters:\n",
      "\n",
      "The current refuter: Refuter(name='dummy_outcome_refuter', params={'num_simulations': 5, 'transformation_list': [('random_forest', {'n_estimators': 100, 'max_depth': 6})], 'true_causal_effect': <function <lambda> at 0x0000022829325828>, 'unobserved_confounder_values': 0       885.552323\n",
      "1      3110.401784\n",
      "2       973.953302\n",
      "3      1619.530484\n",
      "4     -2275.533373\n",
      "          ...     \n",
      "995     -57.622134\n",
      "996    1188.577183\n",
      "997    4896.785640\n",
      "998    1055.338382\n",
      "999    -806.696522\n",
      "Length: 1000, dtype: float64})\n",
      "********%%%%%%%%%$$$$$&&^**^^^^*^*^*\n",
      "add_unobserved_confounder <dowhy.causal_refuters.add_unobserved_common_cause.AddUnobservedCommonCause object at 0x00000228746E9C08>\n"
     ]
    },
    {
     "name": "stderr",
     "output_type": "stream",
     "text": [
      "INFO:dowhy.causal_refuter:All variables required: Running bootstrap adding noise to confounders, instrumental variables and effect modifiers.\n",
      "INFO:dowhy.causal_refuters.dummy_outcome_refuter:Refutation over 5 simulated datasets\n",
      "INFO:dowhy.causal_refuters.dummy_outcome_refuter:The transformation passed: [('random_forest', {'n_estimators': 100, 'max_depth': 6})]\n"
     ]
    },
    {
     "name": "stdout",
     "output_type": "stream",
     "text": [
      "refuter.params {'num_simulations': 5, 'transformation_list': [('random_forest', {'n_estimators': 100, 'max_depth': 6})], 'true_causal_effect': <function <lambda> at 0x0000022829325828>, 'unobserved_confounder_values': 0       737.393707\n",
      "1       271.264459\n",
      "2     -1246.741686\n",
      "3        29.540707\n",
      "4      -177.359985\n",
      "          ...     \n",
      "995     212.353227\n",
      "996   -2025.003866\n",
      "997    1204.455844\n",
      "998    -866.059365\n",
      "999    -676.895518\n",
      "Length: 1000, dtype: float64}\n"
     ]
    },
    {
     "name": "stderr",
     "output_type": "stream",
     "text": [
      "INFO:dowhy.causal_estimator:b: dummy_outcome~t1+w3+w2+t1*x1+t1*x2\n",
      "INFO:dowhy.causal_estimator:INFO: Using Linear Regression Estimator\n",
      "INFO:dowhy.causal_estimator:b: dummy_outcome~t1+w3+w2+t1*x1+t1*x2\n",
      "INFO:dowhy.causal_estimator:INFO: Using Linear Regression Estimator\n",
      "INFO:dowhy.causal_estimator:b: dummy_outcome~t1+w3+w2+t1*x1+t1*x2\n",
      "INFO:dowhy.causal_estimator:INFO: Using Linear Regression Estimator\n",
      "INFO:dowhy.causal_estimator:b: dummy_outcome~t1+w3+w2+t1*x1+t1*x2\n",
      "INFO:dowhy.causal_estimator:INFO: Using Linear Regression Estimator\n",
      "INFO:dowhy.causal_estimator:b: dummy_outcome~t1+w3+w2+t1*x1+t1*x2\n",
      "INFO:dowhy.causal_estimator:INFO: Using Linear Regression Estimator\n",
      "INFO:dowhy.causal_estimator:b: dummy_outcome~t1+w3+w2+t1*x1+t1*x2\n",
      "INFO:dowhy.causal_estimator:INFO: Using Linear Regression Estimator\n",
      "INFO:dowhy.causal_estimator:b: dummy_outcome~t1+w3+w2+t1*x1+t1*x2\n",
      "INFO:dowhy.causal_estimator:INFO: Using Linear Regression Estimator\n",
      "INFO:dowhy.causal_estimator:b: dummy_outcome~t1+w3+w2+t1*x1+t1*x2\n",
      "INFO:dowhy.causal_estimator:INFO: Using Linear Regression Estimator\n",
      "INFO:dowhy.causal_estimator:b: dummy_outcome~t1+w3+w2+t1*x1+t1*x2\n",
      "INFO:dowhy.causal_estimator:INFO: Using Linear Regression Estimator\n",
      "INFO:dowhy.causal_estimator:b: dummy_outcome~t1+w3+w2+t1*x1+t1*x2\n",
      "INFO:dowhy.causal_estimator:INFO: Using Linear Regression Estimator\n",
      "WARNING:dowhy.causal_refuters.dummy_outcome_refuter:We assume a Normal Distribution as the sample has less than 100 examples.\n",
      "                 Note: The underlying distribution may not be Normal. We assume that it approaches normal with the increase in sample size.\n",
      "WARNING:dowhy.causal_refuters.dummy_outcome_refuter:We assume a Normal Distribution as the sample has less than 100 examples.\n",
      "                 Note: The underlying distribution may not be Normal. We assume that it approaches normal with the increase in sample size.\n",
      "INFO:dowhy.causal_refuters.add_unobserved_common_cause:All variables required: Running bootstrap adding noise to confounders, instrumental variables and effect modifiers.\n"
     ]
    },
    {
     "name": "stdout",
     "output_type": "stream",
     "text": [
      "printing refute's type\n",
      "<class 'list'>\n",
      "********%%%%%%%%%$$$$$&&^**^^^^*^*^*\n",
      "add_unobserved_confounder <dowhy.causal_refuters.add_unobserved_common_cause.AddUnobservedCommonCause object at 0x00000228746CAF08>\n"
     ]
    },
    {
     "name": "stderr",
     "output_type": "stream",
     "text": [
      "INFO:dowhy.causal_refuter:All variables required: Running bootstrap adding noise to confounders, instrumental variables and effect modifiers.\n",
      "INFO:dowhy.causal_refuters.dummy_outcome_refuter:Refutation over 5 simulated datasets\n",
      "INFO:dowhy.causal_refuters.dummy_outcome_refuter:The transformation passed: [('random_forest', {'n_estimators': 100, 'max_depth': 6})]\n"
     ]
    },
    {
     "name": "stdout",
     "output_type": "stream",
     "text": [
      "refuter.params {'num_simulations': 5, 'transformation_list': [('random_forest', {'n_estimators': 100, 'max_depth': 6})], 'true_causal_effect': <function <lambda> at 0x0000022829325828>, 'unobserved_confounder_values': 0       735.419140\n",
      "1       271.419642\n",
      "2     -1244.724379\n",
      "3        31.150474\n",
      "4      -177.454205\n",
      "          ...     \n",
      "995     210.840693\n",
      "996   -2025.038422\n",
      "997    1205.896036\n",
      "998    -866.276887\n",
      "999    -676.868222\n",
      "Length: 1000, dtype: float64}\n"
     ]
    },
    {
     "name": "stderr",
     "output_type": "stream",
     "text": [
      "INFO:dowhy.causal_estimator:INFO: Using Propensity Score Matching Estimator\n",
      "INFO:dowhy.causal_estimator:b: dummy_outcome~t1+w3+w2\n",
      "INFO:dowhy.causal_estimator:INFO: Using Propensity Score Matching Estimator\n",
      "INFO:dowhy.causal_estimator:b: dummy_outcome~t1+w3+w2\n",
      "INFO:dowhy.causal_estimator:INFO: Using Propensity Score Matching Estimator\n",
      "INFO:dowhy.causal_estimator:b: dummy_outcome~t1+w3+w2\n",
      "INFO:dowhy.causal_estimator:INFO: Using Propensity Score Matching Estimator\n",
      "INFO:dowhy.causal_estimator:b: dummy_outcome~t1+w3+w2\n",
      "INFO:dowhy.causal_estimator:INFO: Using Propensity Score Matching Estimator\n",
      "INFO:dowhy.causal_estimator:b: dummy_outcome~t1+w3+w2\n",
      "INFO:dowhy.causal_estimator:INFO: Using Propensity Score Matching Estimator\n",
      "INFO:dowhy.causal_estimator:b: dummy_outcome~t1+w3+w2\n",
      "INFO:dowhy.causal_estimator:INFO: Using Propensity Score Matching Estimator\n",
      "INFO:dowhy.causal_estimator:b: dummy_outcome~t1+w3+w2\n",
      "INFO:dowhy.causal_estimator:INFO: Using Propensity Score Matching Estimator\n",
      "INFO:dowhy.causal_estimator:b: dummy_outcome~t1+w3+w2\n",
      "INFO:dowhy.causal_estimator:INFO: Using Propensity Score Matching Estimator\n",
      "INFO:dowhy.causal_estimator:b: dummy_outcome~t1+w3+w2\n",
      "INFO:dowhy.causal_estimator:INFO: Using Propensity Score Matching Estimator\n",
      "INFO:dowhy.causal_estimator:b: dummy_outcome~t1+w3+w2\n",
      "WARNING:dowhy.causal_refuters.dummy_outcome_refuter:We assume a Normal Distribution as the sample has less than 100 examples.\n",
      "                 Note: The underlying distribution may not be Normal. We assume that it approaches normal with the increase in sample size.\n",
      "WARNING:dowhy.causal_refuters.dummy_outcome_refuter:We assume a Normal Distribution as the sample has less than 100 examples.\n",
      "                 Note: The underlying distribution may not be Normal. We assume that it approaches normal with the increase in sample size.\n",
      "INFO:dowhy.causal_refuters.add_unobserved_common_cause:All variables required: Running bootstrap adding noise to confounders, instrumental variables and effect modifiers.\n"
     ]
    },
    {
     "name": "stdout",
     "output_type": "stream",
     "text": [
      "printing refute's type\n",
      "<class 'list'>\n",
      "********%%%%%%%%%$$$$$&&^**^^^^*^*^*\n",
      "add_unobserved_confounder <dowhy.causal_refuters.add_unobserved_common_cause.AddUnobservedCommonCause object at 0x00000228749DFB48>\n"
     ]
    },
    {
     "name": "stderr",
     "output_type": "stream",
     "text": [
      "INFO:dowhy.causal_refuter:All variables required: Running bootstrap adding noise to confounders, instrumental variables and effect modifiers.\n",
      "INFO:dowhy.causal_refuters.dummy_outcome_refuter:Refutation over 5 simulated datasets\n",
      "INFO:dowhy.causal_refuters.dummy_outcome_refuter:The transformation passed: [('random_forest', {'n_estimators': 100, 'max_depth': 6})]\n"
     ]
    },
    {
     "name": "stdout",
     "output_type": "stream",
     "text": [
      "refuter.params {'num_simulations': 5, 'transformation_list': [('random_forest', {'n_estimators': 100, 'max_depth': 6})], 'true_causal_effect': <function <lambda> at 0x0000022829325828>, 'unobserved_confounder_values': 0       734.216764\n",
      "1       271.607087\n",
      "2     -1246.465617\n",
      "3        31.315663\n",
      "4      -177.947434\n",
      "          ...     \n",
      "995     211.799235\n",
      "996   -2024.705939\n",
      "997    1205.631730\n",
      "998    -867.250015\n",
      "999    -676.991666\n",
      "Length: 1000, dtype: float64}\n"
     ]
    },
    {
     "name": "stderr",
     "output_type": "stream",
     "text": [
      "INFO:dowhy.causal_estimator:INFO: Using Propensity Score Weighting Estimator\n",
      "INFO:dowhy.causal_estimator:b: dummy_outcome~t1+w3+w2\n",
      "INFO:dowhy.causal_estimator:INFO: Using Propensity Score Weighting Estimator\n",
      "INFO:dowhy.causal_estimator:b: dummy_outcome~t1+w3+w2\n",
      "INFO:dowhy.causal_estimator:INFO: Using Propensity Score Weighting Estimator\n",
      "INFO:dowhy.causal_estimator:b: dummy_outcome~t1+w3+w2\n",
      "INFO:dowhy.causal_estimator:INFO: Using Propensity Score Weighting Estimator\n",
      "INFO:dowhy.causal_estimator:b: dummy_outcome~t1+w3+w2\n",
      "INFO:dowhy.causal_estimator:INFO: Using Propensity Score Weighting Estimator\n",
      "INFO:dowhy.causal_estimator:b: dummy_outcome~t1+w3+w2\n",
      "INFO:dowhy.causal_estimator:INFO: Using Propensity Score Weighting Estimator\n",
      "INFO:dowhy.causal_estimator:b: dummy_outcome~t1+w3+w2\n",
      "INFO:dowhy.causal_estimator:INFO: Using Propensity Score Weighting Estimator\n",
      "INFO:dowhy.causal_estimator:b: dummy_outcome~t1+w3+w2\n",
      "INFO:dowhy.causal_estimator:INFO: Using Propensity Score Weighting Estimator\n",
      "INFO:dowhy.causal_estimator:b: dummy_outcome~t1+w3+w2\n",
      "INFO:dowhy.causal_estimator:INFO: Using Propensity Score Weighting Estimator\n",
      "INFO:dowhy.causal_estimator:b: dummy_outcome~t1+w3+w2\n",
      "INFO:dowhy.causal_estimator:INFO: Using Propensity Score Weighting Estimator\n",
      "INFO:dowhy.causal_estimator:b: dummy_outcome~t1+w3+w2\n",
      "WARNING:dowhy.causal_refuters.dummy_outcome_refuter:We assume a Normal Distribution as the sample has less than 100 examples.\n",
      "                 Note: The underlying distribution may not be Normal. We assume that it approaches normal with the increase in sample size.\n",
      "WARNING:dowhy.causal_refuters.dummy_outcome_refuter:We assume a Normal Distribution as the sample has less than 100 examples.\n",
      "                 Note: The underlying distribution may not be Normal. We assume that it approaches normal with the increase in sample size.\n",
      "INFO:dowhy.causal_refuters.add_unobserved_common_cause:All variables required: Running bootstrap adding noise to confounders, instrumental variables and effect modifiers.\n"
     ]
    },
    {
     "name": "stdout",
     "output_type": "stream",
     "text": [
      "printing refute's type\n",
      "<class 'list'>\n",
      "********%%%%%%%%%$$$$$&&^**^^^^*^*^*\n",
      "add_unobserved_confounder <dowhy.causal_refuters.add_unobserved_common_cause.AddUnobservedCommonCause object at 0x0000022873654308>\n"
     ]
    },
    {
     "name": "stderr",
     "output_type": "stream",
     "text": [
      "INFO:dowhy.causal_refuter:All variables required: Running bootstrap adding noise to confounders, instrumental variables and effect modifiers.\n",
      "INFO:dowhy.causal_refuters.dummy_outcome_refuter:Refutation over 5 simulated datasets\n",
      "INFO:dowhy.causal_refuters.dummy_outcome_refuter:The transformation passed: [('random_forest', {'n_estimators': 100, 'max_depth': 6})]\n"
     ]
    },
    {
     "name": "stdout",
     "output_type": "stream",
     "text": [
      "refuter.params {'num_simulations': 5, 'transformation_list': [('random_forest', {'n_estimators': 100, 'max_depth': 6})], 'true_causal_effect': <function <lambda> at 0x0000022829325828>, 'unobserved_confounder_values': 0       735.733728\n",
      "1       271.499531\n",
      "2     -1245.399775\n",
      "3        30.574893\n",
      "4      -177.798216\n",
      "          ...     \n",
      "995     212.399764\n",
      "996   -2025.019737\n",
      "997    1205.694633\n",
      "998    -864.107307\n",
      "999    -677.118398\n",
      "Length: 1000, dtype: float64}\n"
     ]
    },
    {
     "name": "stderr",
     "output_type": "stream",
     "text": [
      "INFO:dowhy.causal_estimator:INFO: Using EconML Estimator\n",
      "WARNING:dowhy.causal_estimator:Effect modifiers are not a subset of common causes. For efficiency in estimation, EconML will consider all effect modifiers as common causes too.\n",
      "INFO:dowhy.causal_estimator:b: dummy_outcome~t1+w3+w2+x1+x2 | x1,x2\n",
      "INFO:dowhy.causal_estimator:INFO: Using EconML Estimator\n",
      "WARNING:dowhy.causal_estimator:Effect modifiers are not a subset of common causes. For efficiency in estimation, EconML will consider all effect modifiers as common causes too.\n",
      "INFO:dowhy.causal_estimator:b: dummy_outcome~t1+w3+w2+x1+x2 | x1,x2\n",
      "INFO:dowhy.causal_estimator:INFO: Using EconML Estimator\n",
      "WARNING:dowhy.causal_estimator:Effect modifiers are not a subset of common causes. For efficiency in estimation, EconML will consider all effect modifiers as common causes too.\n",
      "INFO:dowhy.causal_estimator:b: dummy_outcome~t1+w3+w2+x1+x2 | x1,x2\n",
      "INFO:dowhy.causal_estimator:INFO: Using EconML Estimator\n",
      "WARNING:dowhy.causal_estimator:Effect modifiers are not a subset of common causes. For efficiency in estimation, EconML will consider all effect modifiers as common causes too.\n",
      "INFO:dowhy.causal_estimator:b: dummy_outcome~t1+w3+w2+x1+x2 | x1,x2\n",
      "INFO:dowhy.causal_estimator:INFO: Using EconML Estimator\n",
      "WARNING:dowhy.causal_estimator:Effect modifiers are not a subset of common causes. For efficiency in estimation, EconML will consider all effect modifiers as common causes too.\n",
      "INFO:dowhy.causal_estimator:b: dummy_outcome~t1+w3+w2+x1+x2 | x1,x2\n",
      "INFO:dowhy.causal_estimator:INFO: Using EconML Estimator\n",
      "WARNING:dowhy.causal_estimator:Effect modifiers are not a subset of common causes. For efficiency in estimation, EconML will consider all effect modifiers as common causes too.\n",
      "INFO:dowhy.causal_estimator:b: dummy_outcome~t1+w3+w2+x1+x2 | x1,x2\n",
      "INFO:dowhy.causal_estimator:INFO: Using EconML Estimator\n",
      "WARNING:dowhy.causal_estimator:Effect modifiers are not a subset of common causes. For efficiency in estimation, EconML will consider all effect modifiers as common causes too.\n",
      "INFO:dowhy.causal_estimator:b: dummy_outcome~t1+w3+w2+x1+x2 | x1,x2\n",
      "INFO:dowhy.causal_estimator:INFO: Using EconML Estimator\n",
      "WARNING:dowhy.causal_estimator:Effect modifiers are not a subset of common causes. For efficiency in estimation, EconML will consider all effect modifiers as common causes too.\n",
      "INFO:dowhy.causal_estimator:b: dummy_outcome~t1+w3+w2+x1+x2 | x1,x2\n",
      "INFO:dowhy.causal_estimator:INFO: Using EconML Estimator\n",
      "WARNING:dowhy.causal_estimator:Effect modifiers are not a subset of common causes. For efficiency in estimation, EconML will consider all effect modifiers as common causes too.\n",
      "INFO:dowhy.causal_estimator:b: dummy_outcome~t1+w3+w2+x1+x2 | x1,x2\n",
      "INFO:dowhy.causal_estimator:INFO: Using EconML Estimator\n",
      "WARNING:dowhy.causal_estimator:Effect modifiers are not a subset of common causes. For efficiency in estimation, EconML will consider all effect modifiers as common causes too.\n",
      "INFO:dowhy.causal_estimator:b: dummy_outcome~t1+w3+w2+x1+x2 | x1,x2\n",
      "WARNING:dowhy.causal_refuters.dummy_outcome_refuter:We assume a Normal Distribution as the sample has less than 100 examples.\n",
      "                 Note: The underlying distribution may not be Normal. We assume that it approaches normal with the increase in sample size.\n",
      "WARNING:dowhy.causal_refuters.dummy_outcome_refuter:We assume a Normal Distribution as the sample has less than 100 examples.\n",
      "                 Note: The underlying distribution may not be Normal. We assume that it approaches normal with the increase in sample size.\n",
      "INFO:dowhy.causal_refuters.add_unobserved_common_cause:All variables required: Running bootstrap adding noise to confounders, instrumental variables and effect modifiers.\n"
     ]
    },
    {
     "name": "stdout",
     "output_type": "stream",
     "text": [
      "printing refute's type\n",
      "<class 'list'>\n",
      "********%%%%%%%%%$$$$$&&^**^^^^*^*^*\n",
      "add_unobserved_confounder <dowhy.causal_refuters.add_unobserved_common_cause.AddUnobservedCommonCause object at 0x0000022873357288>\n"
     ]
    },
    {
     "name": "stderr",
     "output_type": "stream",
     "text": [
      "INFO:dowhy.causal_refuter:All variables required: Running bootstrap adding noise to confounders, instrumental variables and effect modifiers.\n",
      "INFO:dowhy.causal_refuters.dummy_outcome_refuter:Refutation over 5 simulated datasets\n",
      "INFO:dowhy.causal_refuters.dummy_outcome_refuter:The transformation passed: [('random_forest', {'n_estimators': 100, 'max_depth': 6})]\n"
     ]
    },
    {
     "name": "stdout",
     "output_type": "stream",
     "text": [
      "refuter.params {'num_simulations': 5, 'transformation_list': [('random_forest', {'n_estimators': 100, 'max_depth': 6})], 'true_causal_effect': <function <lambda> at 0x0000022829325828>, 'unobserved_confounder_values': 0       735.081342\n",
      "1       271.427726\n",
      "2     -1247.009398\n",
      "3        29.219769\n",
      "4      -175.638350\n",
      "          ...     \n",
      "995     209.010947\n",
      "996   -2025.021447\n",
      "997    1206.626058\n",
      "998    -866.283008\n",
      "999    -676.019610\n",
      "Length: 1000, dtype: float64}\n"
     ]
    },
    {
     "name": "stderr",
     "output_type": "stream",
     "text": [
      "INFO:dowhy.causal_estimator:INFO: Using EconML Estimator\n",
      "WARNING:dowhy.causal_estimator:Effect modifiers are not a subset of common causes. For efficiency in estimation, EconML will consider all effect modifiers as common causes too.\n",
      "INFO:dowhy.causal_estimator:b: dummy_outcome~t1+w3+w2+x1+x2 | x1,x2\n",
      "INFO:dowhy.causal_estimator:INFO: Using EconML Estimator\n",
      "WARNING:dowhy.causal_estimator:Effect modifiers are not a subset of common causes. For efficiency in estimation, EconML will consider all effect modifiers as common causes too.\n",
      "INFO:dowhy.causal_estimator:b: dummy_outcome~t1+w3+w2+x1+x2 | x1,x2\n",
      "INFO:dowhy.causal_estimator:INFO: Using EconML Estimator\n",
      "WARNING:dowhy.causal_estimator:Effect modifiers are not a subset of common causes. For efficiency in estimation, EconML will consider all effect modifiers as common causes too.\n",
      "INFO:dowhy.causal_estimator:b: dummy_outcome~t1+w3+w2+x1+x2 | x1,x2\n",
      "INFO:dowhy.causal_estimator:INFO: Using EconML Estimator\n",
      "WARNING:dowhy.causal_estimator:Effect modifiers are not a subset of common causes. For efficiency in estimation, EconML will consider all effect modifiers as common causes too.\n",
      "INFO:dowhy.causal_estimator:b: dummy_outcome~t1+w3+w2+x1+x2 | x1,x2\n",
      "INFO:dowhy.causal_estimator:INFO: Using EconML Estimator\n",
      "WARNING:dowhy.causal_estimator:Effect modifiers are not a subset of common causes. For efficiency in estimation, EconML will consider all effect modifiers as common causes too.\n",
      "INFO:dowhy.causal_estimator:b: dummy_outcome~t1+w3+w2+x1+x2 | x1,x2\n",
      "INFO:dowhy.causal_estimator:INFO: Using EconML Estimator\n",
      "WARNING:dowhy.causal_estimator:Effect modifiers are not a subset of common causes. For efficiency in estimation, EconML will consider all effect modifiers as common causes too.\n",
      "INFO:dowhy.causal_estimator:b: dummy_outcome~t1+w3+w2+x1+x2 | x1,x2\n",
      "INFO:dowhy.causal_estimator:INFO: Using EconML Estimator\n",
      "WARNING:dowhy.causal_estimator:Effect modifiers are not a subset of common causes. For efficiency in estimation, EconML will consider all effect modifiers as common causes too.\n",
      "INFO:dowhy.causal_estimator:b: dummy_outcome~t1+w3+w2+x1+x2 | x1,x2\n",
      "INFO:dowhy.causal_estimator:INFO: Using EconML Estimator\n",
      "WARNING:dowhy.causal_estimator:Effect modifiers are not a subset of common causes. For efficiency in estimation, EconML will consider all effect modifiers as common causes too.\n",
      "INFO:dowhy.causal_estimator:b: dummy_outcome~t1+w3+w2+x1+x2 | x1,x2\n",
      "INFO:dowhy.causal_estimator:INFO: Using EconML Estimator\n",
      "WARNING:dowhy.causal_estimator:Effect modifiers are not a subset of common causes. For efficiency in estimation, EconML will consider all effect modifiers as common causes too.\n",
      "INFO:dowhy.causal_estimator:b: dummy_outcome~t1+w3+w2+x1+x2 | x1,x2\n",
      "INFO:dowhy.causal_estimator:INFO: Using EconML Estimator\n",
      "WARNING:dowhy.causal_estimator:Effect modifiers are not a subset of common causes. For efficiency in estimation, EconML will consider all effect modifiers as common causes too.\n",
      "INFO:dowhy.causal_estimator:b: dummy_outcome~t1+w3+w2+x1+x2 | x1,x2\n",
      "WARNING:dowhy.causal_refuters.dummy_outcome_refuter:We assume a Normal Distribution as the sample has less than 100 examples.\n",
      "                 Note: The underlying distribution may not be Normal. We assume that it approaches normal with the increase in sample size.\n",
      "WARNING:dowhy.causal_refuters.dummy_outcome_refuter:We assume a Normal Distribution as the sample has less than 100 examples.\n",
      "                 Note: The underlying distribution may not be Normal. We assume that it approaches normal with the increase in sample size.\n",
      "WARNING:dowhy.causal_model:Causal Graph not provided. DoWhy will construct a graph based on data inputs.\n",
      "INFO:dowhy.causal_graph:If this is observed data (not from a randomized experiment), there might always be missing confounders. Adding a node named \"Unobserved Confounders\" to reflect this.\n",
      "INFO:dowhy.causal_model:Model to find the causal effect of treatment ['t1'] on outcome ['y']\n",
      "WARNING:dowhy.causal_identifier:If this is observed data (not from a randomized experiment), there might always be missing confounders. Causal effect cannot be identified perfectly.\n",
      "INFO:dowhy.causal_identifier:Continuing by ignoring these unobserved confounders because proceed_when_unidentifiable flag is True.\n",
      "INFO:dowhy.causal_identifier:Instrumental variables for treatment and outcome:[]\n",
      "INFO:dowhy.causal_identifier:Frontdoor variables for treatment and outcome:[]\n",
      "INFO:dowhy.causal_estimator:b: y~t1+w3+w2+t1*x1+t1*x2\n",
      "INFO:dowhy.causal_estimator:INFO: Using Linear Regression Estimator\n",
      "INFO:dowhy.causal_estimator:INFO: Using Propensity Score Matching Estimator\n",
      "INFO:dowhy.causal_estimator:b: y~t1+w3+w2\n"
     ]
    },
    {
     "name": "stdout",
     "output_type": "stream",
     "text": [
      "printing refute's type\n",
      "<class 'list'>\n",
      "estimated effect [0.5, 0.5, 0.5, 0.5, 0.5]\n",
      "new_effect [13.297121110461187, 5.9715932573633195, 1.7390608661823144, -2.2087988697669987, 6.075684457494733]\n",
      "p_value [0.03544844390569237, 0.3233187803450168, 0.4490771601742228, 0.2698774449456951, 0.16513974638130757]\n",
      "true value -1.9702282167998624\n",
      "\n",
      "\n",
      "Running Experiment Number: 2\n",
      "\n",
      "\n",
      "Current Sample Size: 1000\n",
      "\n",
      "\n",
      "The current DGP:\n",
      "\n",
      "        Linear Data Generating Process\n",
      "        -------------------------------\n",
      "        \n",
      "        treatment:['t1']\n",
      "        outcome:['y']\n",
      "        confounder: ['w1', 'w2', 'w3', 'w4', 'w5', 'w6']\n",
      "        effect_modifier: ['x1', 'x2']\n",
      "        weights: {'confounder=>treatment': array([[100.92086656],\n",
      "       [  0.46990834],\n",
      "       [  0.76197544],\n",
      "       [  0.40273447],\n",
      "       [  1.21772308],\n",
      "       [ -1.23828636]]), 'confounder=>outcome': array([[99.85474919],\n",
      "       [ 0.82085291],\n",
      "       [-1.57865312],\n",
      "       [ 1.40832346],\n",
      "       [ 0.54192967],\n",
      "       [ 0.3137315 ]]), 'effect_modifier=>outcome': array([[ 0.37353272],\n",
      "       [-0.24981157]]), 'treatment=>outcome': array([[-1.97022822]])}\n",
      "        bias: {'confounder=>treatment': array([1.20068764]), 'confounder=>outcome': array([-1.81395284])}\n",
      "        seed: None\n",
      "        treatment_is_binary: True\n",
      "        percentile: 0.9\n",
      "        \n",
      "printing data shape\n",
      "(1000, 10)\n",
      "[1.60035515]\n",
      "check\n",
      "printing length of confounder list: 2\n",
      "printing confounder list: ['w2', 'w3']\n",
      "data columns\n",
      "data columns Index(['x1', 'x2', 'w1', 'w2', 'w3', 'w4', 'w5', 'w6', 't1', 'y'], dtype='object')\n",
      "identified_estimand: Estimand type: nonparametric-ate\n",
      "\n",
      "### Estimand : 1\n",
      "Estimand name: backdoor1 (Default)\n",
      "Estimand expression:\n",
      "  d                        \n",
      "─────(Expectation(y|w3,w2))\n",
      "d[t₁]                      \n",
      "Estimand assumption 1, Unconfoundedness: If U→{t1} and U→y then P(y|t1,w3,w2,U) = P(y|t1,w3,w2)\n",
      "\n",
      "### Estimand : 2\n",
      "Estimand name: iv\n",
      "No such variable found!\n",
      "\n",
      "### Estimand : 3\n",
      "Estimand name: frontdoor\n",
      "No such variable found!\n",
      "\n",
      "\n",
      "\n",
      "Running the estimators:\n",
      "\n",
      "The current estimator: Estimator(name='backdoor.linear_regression', params=None)\n",
      "estimator.params None\n",
      "printing estimate's type\n",
      "<class 'dowhy.causal_estimator.CausalEstimate'>\n",
      "The current estimator: Estimator(name='backdoor.propensity_score_matching', params={'init_params': {}})\n",
      "estimator.params {'init_params': {}}\n"
     ]
    },
    {
     "name": "stderr",
     "output_type": "stream",
     "text": [
      "INFO:dowhy.causal_estimator:INFO: Using Propensity Score Weighting Estimator\n",
      "INFO:dowhy.causal_estimator:b: y~t1+w3+w2\n",
      "INFO:dowhy.causal_estimator:INFO: Using EconML Estimator\n",
      "WARNING:dowhy.causal_estimator:Effect modifiers are not a subset of common causes. For efficiency in estimation, EconML will consider all effect modifiers as common causes too.\n",
      "INFO:dowhy.causal_estimator:b: y~t1+w3+w2+x1+x2 | x1,x2\n"
     ]
    },
    {
     "name": "stdout",
     "output_type": "stream",
     "text": [
      "printing estimate's type\n",
      "<class 'dowhy.causal_estimator.CausalEstimate'>\n",
      "The current estimator: Estimator(name='backdoor.propensity_score_weighting', params={'init_params': {}})\n",
      "estimator.params {'init_params': {}}\n",
      "printing estimate's type\n",
      "<class 'dowhy.causal_estimator.CausalEstimate'>\n",
      "The current estimator: Estimator(name='backdoor.econml.dml.DML', params={'init_params': {'model_y': GradientBoostingRegressor(), 'model_t': GradientBoostingRegressor(), 'model_final': LassoCV(), 'featurizer': PolynomialFeatures(degree=1)}, 'fit_params': {}, '_econml_methodname': 'econml.dml.DML'})\n",
      "estimator.params {'init_params': {'model_y': GradientBoostingRegressor(), 'model_t': GradientBoostingRegressor(), 'model_final': LassoCV(), 'featurizer': PolynomialFeatures(degree=1)}, 'fit_params': {}, '_econml_methodname': 'econml.dml.DML'}\n"
     ]
    },
    {
     "name": "stderr",
     "output_type": "stream",
     "text": [
      "INFO:dowhy.causal_estimator:INFO: Using EconML Estimator\n",
      "WARNING:dowhy.causal_estimator:Effect modifiers are not a subset of common causes. For efficiency in estimation, EconML will consider all effect modifiers as common causes too.\n",
      "INFO:dowhy.causal_estimator:b: y~t1+w3+w2+x1+x2 | x1,x2\n"
     ]
    },
    {
     "name": "stdout",
     "output_type": "stream",
     "text": [
      "printing estimate's type\n",
      "<class 'dowhy.causal_estimator.CausalEstimate'>\n",
      "The current estimator: Estimator(name='backdoor.econml.drlearner.LinearDRLearner', params={'init_params': {'model_propensity': LogisticRegressionCV(cv=3)}, 'fit_params': {}, '_econml_methodname': 'econml.drlearner.LinearDRLearner'})\n",
      "estimator.params {'init_params': {'model_propensity': LogisticRegressionCV(cv=3)}, 'fit_params': {}, '_econml_methodname': 'econml.drlearner.LinearDRLearner'}\n"
     ]
    },
    {
     "name": "stderr",
     "output_type": "stream",
     "text": [
      "INFO:dowhy.causal_refuters.add_unobserved_common_cause:All variables required: Running bootstrap adding noise to confounders, instrumental variables and effect modifiers.\n"
     ]
    },
    {
     "name": "stdout",
     "output_type": "stream",
     "text": [
      "printing estimate's type\n",
      "<class 'dowhy.causal_estimator.CausalEstimate'>\n",
      "estimate_values [55.44427818834717, 52.299321852720006, 54.116207797546664, 46.726262748355076, 56.099571755893095]\n",
      "\n",
      "\n",
      "Running the refuters:\n",
      "\n",
      "The current refuter: Refuter(name='dummy_outcome_refuter', params={'num_simulations': 5, 'transformation_list': [('random_forest', {'n_estimators': 100, 'max_depth': 6})], 'true_causal_effect': <function <lambda> at 0x0000022829325828>, 'unobserved_confounder_values': 0       735.081342\n",
      "1       271.427726\n",
      "2     -1247.009398\n",
      "3        29.219769\n",
      "4      -175.638350\n",
      "          ...     \n",
      "995     209.010947\n",
      "996   -2025.021447\n",
      "997    1206.626058\n",
      "998    -866.283008\n",
      "999    -676.019610\n",
      "Length: 1000, dtype: float64})\n",
      "********%%%%%%%%%$$$$$&&^**^^^^*^*^*\n",
      "add_unobserved_confounder <dowhy.causal_refuters.add_unobserved_common_cause.AddUnobservedCommonCause object at 0x00000228749E0F08>\n"
     ]
    },
    {
     "name": "stderr",
     "output_type": "stream",
     "text": [
      "INFO:dowhy.causal_refuter:All variables required: Running bootstrap adding noise to confounders, instrumental variables and effect modifiers.\n",
      "INFO:dowhy.causal_refuters.dummy_outcome_refuter:Refutation over 5 simulated datasets\n",
      "INFO:dowhy.causal_refuters.dummy_outcome_refuter:The transformation passed: [('random_forest', {'n_estimators': 100, 'max_depth': 6})]\n"
     ]
    },
    {
     "name": "stdout",
     "output_type": "stream",
     "text": [
      "refuter.params {'num_simulations': 5, 'transformation_list': [('random_forest', {'n_estimators': 100, 'max_depth': 6})], 'true_causal_effect': <function <lambda> at 0x0000022829325828>, 'unobserved_confounder_values': 0      1335.715732\n",
      "1      1845.793022\n",
      "2       461.964981\n",
      "3       148.383289\n",
      "4      1682.419894\n",
      "          ...     \n",
      "995   -1774.949706\n",
      "996    2845.011063\n",
      "997    -468.288458\n",
      "998    -505.790037\n",
      "999    2300.006517\n",
      "Length: 1000, dtype: float64}\n"
     ]
    },
    {
     "name": "stderr",
     "output_type": "stream",
     "text": [
      "INFO:dowhy.causal_estimator:b: dummy_outcome~t1+w3+w2+t1*x1+t1*x2\n",
      "INFO:dowhy.causal_estimator:INFO: Using Linear Regression Estimator\n",
      "INFO:dowhy.causal_estimator:b: dummy_outcome~t1+w3+w2+t1*x1+t1*x2\n",
      "INFO:dowhy.causal_estimator:INFO: Using Linear Regression Estimator\n",
      "INFO:dowhy.causal_estimator:b: dummy_outcome~t1+w3+w2+t1*x1+t1*x2\n",
      "INFO:dowhy.causal_estimator:INFO: Using Linear Regression Estimator\n",
      "INFO:dowhy.causal_estimator:b: dummy_outcome~t1+w3+w2+t1*x1+t1*x2\n",
      "INFO:dowhy.causal_estimator:INFO: Using Linear Regression Estimator\n",
      "INFO:dowhy.causal_estimator:b: dummy_outcome~t1+w3+w2+t1*x1+t1*x2\n",
      "INFO:dowhy.causal_estimator:INFO: Using Linear Regression Estimator\n",
      "INFO:dowhy.causal_estimator:b: dummy_outcome~t1+w3+w2+t1*x1+t1*x2\n",
      "INFO:dowhy.causal_estimator:INFO: Using Linear Regression Estimator\n",
      "INFO:dowhy.causal_estimator:b: dummy_outcome~t1+w3+w2+t1*x1+t1*x2\n",
      "INFO:dowhy.causal_estimator:INFO: Using Linear Regression Estimator\n",
      "INFO:dowhy.causal_estimator:b: dummy_outcome~t1+w3+w2+t1*x1+t1*x2\n",
      "INFO:dowhy.causal_estimator:INFO: Using Linear Regression Estimator\n",
      "INFO:dowhy.causal_estimator:b: dummy_outcome~t1+w3+w2+t1*x1+t1*x2\n",
      "INFO:dowhy.causal_estimator:INFO: Using Linear Regression Estimator\n",
      "INFO:dowhy.causal_estimator:b: dummy_outcome~t1+w3+w2+t1*x1+t1*x2\n",
      "INFO:dowhy.causal_estimator:INFO: Using Linear Regression Estimator\n",
      "WARNING:dowhy.causal_refuters.dummy_outcome_refuter:We assume a Normal Distribution as the sample has less than 100 examples.\n",
      "                 Note: The underlying distribution may not be Normal. We assume that it approaches normal with the increase in sample size.\n",
      "WARNING:dowhy.causal_refuters.dummy_outcome_refuter:We assume a Normal Distribution as the sample has less than 100 examples.\n",
      "                 Note: The underlying distribution may not be Normal. We assume that it approaches normal with the increase in sample size.\n",
      "INFO:dowhy.causal_refuters.add_unobserved_common_cause:All variables required: Running bootstrap adding noise to confounders, instrumental variables and effect modifiers.\n"
     ]
    },
    {
     "name": "stdout",
     "output_type": "stream",
     "text": [
      "printing refute's type\n",
      "<class 'list'>\n",
      "********%%%%%%%%%$$$$$&&^**^^^^*^*^*\n",
      "add_unobserved_confounder <dowhy.causal_refuters.add_unobserved_common_cause.AddUnobservedCommonCause object at 0x00000228748F63C8>\n"
     ]
    },
    {
     "name": "stderr",
     "output_type": "stream",
     "text": [
      "INFO:dowhy.causal_refuter:All variables required: Running bootstrap adding noise to confounders, instrumental variables and effect modifiers.\n",
      "INFO:dowhy.causal_refuters.dummy_outcome_refuter:Refutation over 5 simulated datasets\n",
      "INFO:dowhy.causal_refuters.dummy_outcome_refuter:The transformation passed: [('random_forest', {'n_estimators': 100, 'max_depth': 6})]\n"
     ]
    },
    {
     "name": "stdout",
     "output_type": "stream",
     "text": [
      "refuter.params {'num_simulations': 5, 'transformation_list': [('random_forest', {'n_estimators': 100, 'max_depth': 6})], 'true_causal_effect': <function <lambda> at 0x0000022829325828>, 'unobserved_confounder_values': 0      1335.623793\n",
      "1      1844.612020\n",
      "2       460.157862\n",
      "3       148.520045\n",
      "4      1680.081401\n",
      "          ...     \n",
      "995   -1777.716857\n",
      "996    2844.120425\n",
      "997    -468.687541\n",
      "998    -504.232070\n",
      "999    2299.791475\n",
      "Length: 1000, dtype: float64}\n"
     ]
    },
    {
     "name": "stderr",
     "output_type": "stream",
     "text": [
      "INFO:dowhy.causal_estimator:INFO: Using Propensity Score Matching Estimator\n",
      "INFO:dowhy.causal_estimator:b: dummy_outcome~t1+w3+w2\n",
      "INFO:dowhy.causal_estimator:INFO: Using Propensity Score Matching Estimator\n",
      "INFO:dowhy.causal_estimator:b: dummy_outcome~t1+w3+w2\n",
      "INFO:dowhy.causal_estimator:INFO: Using Propensity Score Matching Estimator\n",
      "INFO:dowhy.causal_estimator:b: dummy_outcome~t1+w3+w2\n",
      "INFO:dowhy.causal_estimator:INFO: Using Propensity Score Matching Estimator\n",
      "INFO:dowhy.causal_estimator:b: dummy_outcome~t1+w3+w2\n",
      "INFO:dowhy.causal_estimator:INFO: Using Propensity Score Matching Estimator\n",
      "INFO:dowhy.causal_estimator:b: dummy_outcome~t1+w3+w2\n",
      "INFO:dowhy.causal_estimator:INFO: Using Propensity Score Matching Estimator\n",
      "INFO:dowhy.causal_estimator:b: dummy_outcome~t1+w3+w2\n",
      "INFO:dowhy.causal_estimator:INFO: Using Propensity Score Matching Estimator\n",
      "INFO:dowhy.causal_estimator:b: dummy_outcome~t1+w3+w2\n",
      "INFO:dowhy.causal_estimator:INFO: Using Propensity Score Matching Estimator\n",
      "INFO:dowhy.causal_estimator:b: dummy_outcome~t1+w3+w2\n",
      "INFO:dowhy.causal_estimator:INFO: Using Propensity Score Matching Estimator\n",
      "INFO:dowhy.causal_estimator:b: dummy_outcome~t1+w3+w2\n",
      "INFO:dowhy.causal_estimator:INFO: Using Propensity Score Matching Estimator\n",
      "INFO:dowhy.causal_estimator:b: dummy_outcome~t1+w3+w2\n",
      "WARNING:dowhy.causal_refuters.dummy_outcome_refuter:We assume a Normal Distribution as the sample has less than 100 examples.\n",
      "                 Note: The underlying distribution may not be Normal. We assume that it approaches normal with the increase in sample size.\n",
      "WARNING:dowhy.causal_refuters.dummy_outcome_refuter:We assume a Normal Distribution as the sample has less than 100 examples.\n",
      "                 Note: The underlying distribution may not be Normal. We assume that it approaches normal with the increase in sample size.\n",
      "INFO:dowhy.causal_refuters.add_unobserved_common_cause:All variables required: Running bootstrap adding noise to confounders, instrumental variables and effect modifiers.\n"
     ]
    },
    {
     "name": "stdout",
     "output_type": "stream",
     "text": [
      "printing refute's type\n",
      "<class 'list'>\n",
      "********%%%%%%%%%$$$$$&&^**^^^^*^*^*\n",
      "add_unobserved_confounder <dowhy.causal_refuters.add_unobserved_common_cause.AddUnobservedCommonCause object at 0x0000022871D98BC8>\n"
     ]
    },
    {
     "name": "stderr",
     "output_type": "stream",
     "text": [
      "INFO:dowhy.causal_refuter:All variables required: Running bootstrap adding noise to confounders, instrumental variables and effect modifiers.\n",
      "INFO:dowhy.causal_refuters.dummy_outcome_refuter:Refutation over 5 simulated datasets\n",
      "INFO:dowhy.causal_refuters.dummy_outcome_refuter:The transformation passed: [('random_forest', {'n_estimators': 100, 'max_depth': 6})]\n"
     ]
    },
    {
     "name": "stdout",
     "output_type": "stream",
     "text": [
      "refuter.params {'num_simulations': 5, 'transformation_list': [('random_forest', {'n_estimators': 100, 'max_depth': 6})], 'true_causal_effect': <function <lambda> at 0x0000022829325828>, 'unobserved_confounder_values': 0      1337.796580\n",
      "1      1844.456423\n",
      "2       463.052456\n",
      "3       150.581955\n",
      "4      1681.972214\n",
      "          ...     \n",
      "995   -1776.558146\n",
      "996    2844.439196\n",
      "997    -467.663413\n",
      "998    -505.330437\n",
      "999    2300.971127\n",
      "Length: 1000, dtype: float64}\n"
     ]
    },
    {
     "name": "stderr",
     "output_type": "stream",
     "text": [
      "INFO:dowhy.causal_estimator:INFO: Using Propensity Score Weighting Estimator\n",
      "INFO:dowhy.causal_estimator:b: dummy_outcome~t1+w3+w2\n",
      "INFO:dowhy.causal_estimator:INFO: Using Propensity Score Weighting Estimator\n",
      "INFO:dowhy.causal_estimator:b: dummy_outcome~t1+w3+w2\n",
      "INFO:dowhy.causal_estimator:INFO: Using Propensity Score Weighting Estimator\n",
      "INFO:dowhy.causal_estimator:b: dummy_outcome~t1+w3+w2\n",
      "INFO:dowhy.causal_estimator:INFO: Using Propensity Score Weighting Estimator\n",
      "INFO:dowhy.causal_estimator:b: dummy_outcome~t1+w3+w2\n",
      "INFO:dowhy.causal_estimator:INFO: Using Propensity Score Weighting Estimator\n",
      "INFO:dowhy.causal_estimator:b: dummy_outcome~t1+w3+w2\n",
      "INFO:dowhy.causal_estimator:INFO: Using Propensity Score Weighting Estimator\n",
      "INFO:dowhy.causal_estimator:b: dummy_outcome~t1+w3+w2\n",
      "INFO:dowhy.causal_estimator:INFO: Using Propensity Score Weighting Estimator\n",
      "INFO:dowhy.causal_estimator:b: dummy_outcome~t1+w3+w2\n",
      "INFO:dowhy.causal_estimator:INFO: Using Propensity Score Weighting Estimator\n",
      "INFO:dowhy.causal_estimator:b: dummy_outcome~t1+w3+w2\n",
      "INFO:dowhy.causal_estimator:INFO: Using Propensity Score Weighting Estimator\n",
      "INFO:dowhy.causal_estimator:b: dummy_outcome~t1+w3+w2\n",
      "INFO:dowhy.causal_estimator:INFO: Using Propensity Score Weighting Estimator\n",
      "INFO:dowhy.causal_estimator:b: dummy_outcome~t1+w3+w2\n",
      "WARNING:dowhy.causal_refuters.dummy_outcome_refuter:We assume a Normal Distribution as the sample has less than 100 examples.\n",
      "                 Note: The underlying distribution may not be Normal. We assume that it approaches normal with the increase in sample size.\n",
      "WARNING:dowhy.causal_refuters.dummy_outcome_refuter:We assume a Normal Distribution as the sample has less than 100 examples.\n",
      "                 Note: The underlying distribution may not be Normal. We assume that it approaches normal with the increase in sample size.\n",
      "INFO:dowhy.causal_refuters.add_unobserved_common_cause:All variables required: Running bootstrap adding noise to confounders, instrumental variables and effect modifiers.\n"
     ]
    },
    {
     "name": "stdout",
     "output_type": "stream",
     "text": [
      "printing refute's type\n",
      "<class 'list'>\n",
      "********%%%%%%%%%$$$$$&&^**^^^^*^*^*\n",
      "add_unobserved_confounder <dowhy.causal_refuters.add_unobserved_common_cause.AddUnobservedCommonCause object at 0x00000228746B3308>\n"
     ]
    },
    {
     "name": "stderr",
     "output_type": "stream",
     "text": [
      "INFO:dowhy.causal_refuter:All variables required: Running bootstrap adding noise to confounders, instrumental variables and effect modifiers.\n",
      "INFO:dowhy.causal_refuters.dummy_outcome_refuter:Refutation over 5 simulated datasets\n",
      "INFO:dowhy.causal_refuters.dummy_outcome_refuter:The transformation passed: [('random_forest', {'n_estimators': 100, 'max_depth': 6})]\n"
     ]
    },
    {
     "name": "stdout",
     "output_type": "stream",
     "text": [
      "refuter.params {'num_simulations': 5, 'transformation_list': [('random_forest', {'n_estimators': 100, 'max_depth': 6})], 'true_causal_effect': <function <lambda> at 0x0000022829325828>, 'unobserved_confounder_values': 0      1336.407962\n",
      "1      1844.453364\n",
      "2       461.785808\n",
      "3       148.347539\n",
      "4      1683.280025\n",
      "          ...     \n",
      "995   -1776.607795\n",
      "996    2844.176676\n",
      "997    -467.919556\n",
      "998    -505.586445\n",
      "999    2300.760986\n",
      "Length: 1000, dtype: float64}\n"
     ]
    },
    {
     "name": "stderr",
     "output_type": "stream",
     "text": [
      "INFO:dowhy.causal_estimator:INFO: Using EconML Estimator\n",
      "WARNING:dowhy.causal_estimator:Effect modifiers are not a subset of common causes. For efficiency in estimation, EconML will consider all effect modifiers as common causes too.\n",
      "INFO:dowhy.causal_estimator:b: dummy_outcome~t1+w3+w2+x1+x2 | x1,x2\n",
      "INFO:dowhy.causal_estimator:INFO: Using EconML Estimator\n",
      "WARNING:dowhy.causal_estimator:Effect modifiers are not a subset of common causes. For efficiency in estimation, EconML will consider all effect modifiers as common causes too.\n",
      "INFO:dowhy.causal_estimator:b: dummy_outcome~t1+w3+w2+x1+x2 | x1,x2\n",
      "INFO:dowhy.causal_estimator:INFO: Using EconML Estimator\n",
      "WARNING:dowhy.causal_estimator:Effect modifiers are not a subset of common causes. For efficiency in estimation, EconML will consider all effect modifiers as common causes too.\n",
      "INFO:dowhy.causal_estimator:b: dummy_outcome~t1+w3+w2+x1+x2 | x1,x2\n",
      "INFO:dowhy.causal_estimator:INFO: Using EconML Estimator\n",
      "WARNING:dowhy.causal_estimator:Effect modifiers are not a subset of common causes. For efficiency in estimation, EconML will consider all effect modifiers as common causes too.\n",
      "INFO:dowhy.causal_estimator:b: dummy_outcome~t1+w3+w2+x1+x2 | x1,x2\n",
      "INFO:dowhy.causal_estimator:INFO: Using EconML Estimator\n",
      "WARNING:dowhy.causal_estimator:Effect modifiers are not a subset of common causes. For efficiency in estimation, EconML will consider all effect modifiers as common causes too.\n",
      "INFO:dowhy.causal_estimator:b: dummy_outcome~t1+w3+w2+x1+x2 | x1,x2\n",
      "INFO:dowhy.causal_estimator:INFO: Using EconML Estimator\n",
      "WARNING:dowhy.causal_estimator:Effect modifiers are not a subset of common causes. For efficiency in estimation, EconML will consider all effect modifiers as common causes too.\n",
      "INFO:dowhy.causal_estimator:b: dummy_outcome~t1+w3+w2+x1+x2 | x1,x2\n",
      "INFO:dowhy.causal_estimator:INFO: Using EconML Estimator\n",
      "WARNING:dowhy.causal_estimator:Effect modifiers are not a subset of common causes. For efficiency in estimation, EconML will consider all effect modifiers as common causes too.\n",
      "INFO:dowhy.causal_estimator:b: dummy_outcome~t1+w3+w2+x1+x2 | x1,x2\n",
      "INFO:dowhy.causal_estimator:INFO: Using EconML Estimator\n",
      "WARNING:dowhy.causal_estimator:Effect modifiers are not a subset of common causes. For efficiency in estimation, EconML will consider all effect modifiers as common causes too.\n",
      "INFO:dowhy.causal_estimator:b: dummy_outcome~t1+w3+w2+x1+x2 | x1,x2\n",
      "INFO:dowhy.causal_estimator:INFO: Using EconML Estimator\n",
      "WARNING:dowhy.causal_estimator:Effect modifiers are not a subset of common causes. For efficiency in estimation, EconML will consider all effect modifiers as common causes too.\n",
      "INFO:dowhy.causal_estimator:b: dummy_outcome~t1+w3+w2+x1+x2 | x1,x2\n",
      "INFO:dowhy.causal_estimator:INFO: Using EconML Estimator\n",
      "WARNING:dowhy.causal_estimator:Effect modifiers are not a subset of common causes. For efficiency in estimation, EconML will consider all effect modifiers as common causes too.\n",
      "INFO:dowhy.causal_estimator:b: dummy_outcome~t1+w3+w2+x1+x2 | x1,x2\n",
      "WARNING:dowhy.causal_refuters.dummy_outcome_refuter:We assume a Normal Distribution as the sample has less than 100 examples.\n",
      "                 Note: The underlying distribution may not be Normal. We assume that it approaches normal with the increase in sample size.\n",
      "WARNING:dowhy.causal_refuters.dummy_outcome_refuter:We assume a Normal Distribution as the sample has less than 100 examples.\n",
      "                 Note: The underlying distribution may not be Normal. We assume that it approaches normal with the increase in sample size.\n",
      "INFO:dowhy.causal_refuters.add_unobserved_common_cause:All variables required: Running bootstrap adding noise to confounders, instrumental variables and effect modifiers.\n"
     ]
    },
    {
     "name": "stdout",
     "output_type": "stream",
     "text": [
      "printing refute's type\n",
      "<class 'list'>\n",
      "********%%%%%%%%%$$$$$&&^**^^^^*^*^*\n",
      "add_unobserved_confounder <dowhy.causal_refuters.add_unobserved_common_cause.AddUnobservedCommonCause object at 0x0000022873461BC8>\n"
     ]
    },
    {
     "name": "stderr",
     "output_type": "stream",
     "text": [
      "INFO:dowhy.causal_refuter:All variables required: Running bootstrap adding noise to confounders, instrumental variables and effect modifiers.\n",
      "INFO:dowhy.causal_refuters.dummy_outcome_refuter:Refutation over 5 simulated datasets\n",
      "INFO:dowhy.causal_refuters.dummy_outcome_refuter:The transformation passed: [('random_forest', {'n_estimators': 100, 'max_depth': 6})]\n"
     ]
    },
    {
     "name": "stdout",
     "output_type": "stream",
     "text": [
      "refuter.params {'num_simulations': 5, 'transformation_list': [('random_forest', {'n_estimators': 100, 'max_depth': 6})], 'true_causal_effect': <function <lambda> at 0x0000022829325828>, 'unobserved_confounder_values': 0      1336.043197\n",
      "1      1844.404948\n",
      "2       461.691145\n",
      "3       150.325945\n",
      "4      1682.057640\n",
      "          ...     \n",
      "995   -1774.900544\n",
      "996    2845.430911\n",
      "997    -468.203187\n",
      "998    -505.411029\n",
      "999    2300.929637\n",
      "Length: 1000, dtype: float64}\n"
     ]
    },
    {
     "name": "stderr",
     "output_type": "stream",
     "text": [
      "INFO:dowhy.causal_estimator:INFO: Using EconML Estimator\n",
      "WARNING:dowhy.causal_estimator:Effect modifiers are not a subset of common causes. For efficiency in estimation, EconML will consider all effect modifiers as common causes too.\n",
      "INFO:dowhy.causal_estimator:b: dummy_outcome~t1+w3+w2+x1+x2 | x1,x2\n",
      "INFO:dowhy.causal_estimator:INFO: Using EconML Estimator\n",
      "WARNING:dowhy.causal_estimator:Effect modifiers are not a subset of common causes. For efficiency in estimation, EconML will consider all effect modifiers as common causes too.\n",
      "INFO:dowhy.causal_estimator:b: dummy_outcome~t1+w3+w2+x1+x2 | x1,x2\n",
      "INFO:dowhy.causal_estimator:INFO: Using EconML Estimator\n",
      "WARNING:dowhy.causal_estimator:Effect modifiers are not a subset of common causes. For efficiency in estimation, EconML will consider all effect modifiers as common causes too.\n",
      "INFO:dowhy.causal_estimator:b: dummy_outcome~t1+w3+w2+x1+x2 | x1,x2\n",
      "INFO:dowhy.causal_estimator:INFO: Using EconML Estimator\n",
      "WARNING:dowhy.causal_estimator:Effect modifiers are not a subset of common causes. For efficiency in estimation, EconML will consider all effect modifiers as common causes too.\n",
      "INFO:dowhy.causal_estimator:b: dummy_outcome~t1+w3+w2+x1+x2 | x1,x2\n",
      "INFO:dowhy.causal_estimator:INFO: Using EconML Estimator\n",
      "WARNING:dowhy.causal_estimator:Effect modifiers are not a subset of common causes. For efficiency in estimation, EconML will consider all effect modifiers as common causes too.\n",
      "INFO:dowhy.causal_estimator:b: dummy_outcome~t1+w3+w2+x1+x2 | x1,x2\n",
      "INFO:dowhy.causal_estimator:INFO: Using EconML Estimator\n",
      "WARNING:dowhy.causal_estimator:Effect modifiers are not a subset of common causes. For efficiency in estimation, EconML will consider all effect modifiers as common causes too.\n",
      "INFO:dowhy.causal_estimator:b: dummy_outcome~t1+w3+w2+x1+x2 | x1,x2\n",
      "INFO:dowhy.causal_estimator:INFO: Using EconML Estimator\n",
      "WARNING:dowhy.causal_estimator:Effect modifiers are not a subset of common causes. For efficiency in estimation, EconML will consider all effect modifiers as common causes too.\n",
      "INFO:dowhy.causal_estimator:b: dummy_outcome~t1+w3+w2+x1+x2 | x1,x2\n",
      "INFO:dowhy.causal_estimator:INFO: Using EconML Estimator\n",
      "WARNING:dowhy.causal_estimator:Effect modifiers are not a subset of common causes. For efficiency in estimation, EconML will consider all effect modifiers as common causes too.\n",
      "INFO:dowhy.causal_estimator:b: dummy_outcome~t1+w3+w2+x1+x2 | x1,x2\n",
      "INFO:dowhy.causal_estimator:INFO: Using EconML Estimator\n",
      "WARNING:dowhy.causal_estimator:Effect modifiers are not a subset of common causes. For efficiency in estimation, EconML will consider all effect modifiers as common causes too.\n",
      "INFO:dowhy.causal_estimator:b: dummy_outcome~t1+w3+w2+x1+x2 | x1,x2\n",
      "INFO:dowhy.causal_estimator:INFO: Using EconML Estimator\n",
      "WARNING:dowhy.causal_estimator:Effect modifiers are not a subset of common causes. For efficiency in estimation, EconML will consider all effect modifiers as common causes too.\n",
      "INFO:dowhy.causal_estimator:b: dummy_outcome~t1+w3+w2+x1+x2 | x1,x2\n",
      "WARNING:dowhy.causal_refuters.dummy_outcome_refuter:We assume a Normal Distribution as the sample has less than 100 examples.\n",
      "                 Note: The underlying distribution may not be Normal. We assume that it approaches normal with the increase in sample size.\n",
      "WARNING:dowhy.causal_refuters.dummy_outcome_refuter:We assume a Normal Distribution as the sample has less than 100 examples.\n",
      "                 Note: The underlying distribution may not be Normal. We assume that it approaches normal with the increase in sample size.\n",
      "WARNING:dowhy.causal_model:Causal Graph not provided. DoWhy will construct a graph based on data inputs.\n",
      "INFO:dowhy.causal_graph:If this is observed data (not from a randomized experiment), there might always be missing confounders. Adding a node named \"Unobserved Confounders\" to reflect this.\n",
      "INFO:dowhy.causal_model:Model to find the causal effect of treatment ['t1'] on outcome ['y']\n",
      "WARNING:dowhy.causal_identifier:If this is observed data (not from a randomized experiment), there might always be missing confounders. Causal effect cannot be identified perfectly.\n",
      "INFO:dowhy.causal_identifier:Continuing by ignoring these unobserved confounders because proceed_when_unidentifiable flag is True.\n",
      "INFO:dowhy.causal_identifier:Instrumental variables for treatment and outcome:[]\n",
      "INFO:dowhy.causal_identifier:Frontdoor variables for treatment and outcome:[]\n",
      "INFO:dowhy.causal_estimator:b: y~t1+w3+w2+t1*x1+t1*x2\n",
      "INFO:dowhy.causal_estimator:INFO: Using Linear Regression Estimator\n",
      "INFO:dowhy.causal_estimator:INFO: Using Propensity Score Matching Estimator\n",
      "INFO:dowhy.causal_estimator:b: y~t1+w3+w2\n"
     ]
    },
    {
     "name": "stdout",
     "output_type": "stream",
     "text": [
      "printing refute's type\n",
      "<class 'list'>\n",
      "estimated effect [0.5, 0.5, 0.5, 0.5, 0.5]\n",
      "new_effect [-1.7677459745633068, 8.604887293589892, 17.377429865749768, -0.18892142715188598, 12.522762600381101]\n",
      "p_value [0.42137045628532455, 0.2981195998193763, 0.038273744349217764, 0.4721417672628778, 0.0019441993047456254]\n",
      "true value 1.6003551511669238\n",
      "\n",
      "\n",
      "Running Experiment Number: 3\n",
      "\n",
      "\n",
      "Current Sample Size: 1000\n",
      "\n",
      "\n",
      "The current DGP:\n",
      "\n",
      "        Linear Data Generating Process\n",
      "        -------------------------------\n",
      "        \n",
      "        treatment:['t1']\n",
      "        outcome:['y']\n",
      "        confounder: ['w1', 'w2', 'w3', 'w4', 'w5', 'w6']\n",
      "        effect_modifier: ['x1', 'x2']\n",
      "        weights: {'confounder=>treatment': array([[99.52263818],\n",
      "       [ 1.77193872],\n",
      "       [-1.40007433],\n",
      "       [-1.04970173],\n",
      "       [ 0.41682674],\n",
      "       [ 0.17731216]]), 'confounder=>outcome': array([[100.70560447],\n",
      "       [  0.59105446],\n",
      "       [  1.49935017],\n",
      "       [  1.10332651],\n",
      "       [ -0.60926048],\n",
      "       [ -0.9424016 ]]), 'effect_modifier=>outcome': array([[ 0.96111878],\n",
      "       [-1.27979194]]), 'treatment=>outcome': array([[1.60035515]])}\n",
      "        bias: {'confounder=>treatment': array([0.1171775]), 'confounder=>outcome': array([-0.50559991])}\n",
      "        seed: None\n",
      "        treatment_is_binary: True\n",
      "        percentile: 0.9\n",
      "        \n",
      "printing data shape\n",
      "(1000, 10)\n",
      "[-0.2561832]\n",
      "check\n",
      "printing length of confounder list: 2\n",
      "printing confounder list: ['w2', 'w3']\n",
      "data columns\n",
      "data columns Index(['x1', 'x2', 'w1', 'w2', 'w3', 'w4', 'w5', 'w6', 't1', 'y'], dtype='object')\n",
      "identified_estimand: Estimand type: nonparametric-ate\n",
      "\n",
      "### Estimand : 1\n",
      "Estimand name: backdoor1 (Default)\n",
      "Estimand expression:\n",
      "  d                        \n",
      "─────(Expectation(y|w3,w2))\n",
      "d[t₁]                      \n",
      "Estimand assumption 1, Unconfoundedness: If U→{t1} and U→y then P(y|t1,w3,w2,U) = P(y|t1,w3,w2)\n",
      "\n",
      "### Estimand : 2\n",
      "Estimand name: iv\n",
      "No such variable found!\n",
      "\n",
      "### Estimand : 3\n",
      "Estimand name: frontdoor\n",
      "No such variable found!\n",
      "\n",
      "\n",
      "\n",
      "Running the estimators:\n",
      "\n",
      "The current estimator: Estimator(name='backdoor.linear_regression', params=None)\n",
      "estimator.params None\n",
      "printing estimate's type\n",
      "<class 'dowhy.causal_estimator.CausalEstimate'>\n",
      "The current estimator: Estimator(name='backdoor.propensity_score_matching', params={'init_params': {}})\n",
      "estimator.params {'init_params': {}}\n"
     ]
    },
    {
     "name": "stderr",
     "output_type": "stream",
     "text": [
      "INFO:dowhy.causal_estimator:INFO: Using Propensity Score Weighting Estimator\n",
      "INFO:dowhy.causal_estimator:b: y~t1+w3+w2\n",
      "INFO:dowhy.causal_estimator:INFO: Using EconML Estimator\n",
      "WARNING:dowhy.causal_estimator:Effect modifiers are not a subset of common causes. For efficiency in estimation, EconML will consider all effect modifiers as common causes too.\n",
      "INFO:dowhy.causal_estimator:b: y~t1+w3+w2+x1+x2 | x1,x2\n"
     ]
    },
    {
     "name": "stdout",
     "output_type": "stream",
     "text": [
      "printing estimate's type\n",
      "<class 'dowhy.causal_estimator.CausalEstimate'>\n",
      "The current estimator: Estimator(name='backdoor.propensity_score_weighting', params={'init_params': {}})\n",
      "estimator.params {'init_params': {}}\n",
      "printing estimate's type\n",
      "<class 'dowhy.causal_estimator.CausalEstimate'>\n",
      "The current estimator: Estimator(name='backdoor.econml.dml.DML', params={'init_params': {'model_y': GradientBoostingRegressor(), 'model_t': GradientBoostingRegressor(), 'model_final': LassoCV(), 'featurizer': PolynomialFeatures(degree=1)}, 'fit_params': {}, '_econml_methodname': 'econml.dml.DML'})\n",
      "estimator.params {'init_params': {'model_y': GradientBoostingRegressor(), 'model_t': GradientBoostingRegressor(), 'model_final': LassoCV(), 'featurizer': PolynomialFeatures(degree=1)}, 'fit_params': {}, '_econml_methodname': 'econml.dml.DML'}\n"
     ]
    },
    {
     "name": "stderr",
     "output_type": "stream",
     "text": [
      "INFO:dowhy.causal_estimator:INFO: Using EconML Estimator\n",
      "WARNING:dowhy.causal_estimator:Effect modifiers are not a subset of common causes. For efficiency in estimation, EconML will consider all effect modifiers as common causes too.\n",
      "INFO:dowhy.causal_estimator:b: y~t1+w3+w2+x1+x2 | x1,x2\n"
     ]
    },
    {
     "name": "stdout",
     "output_type": "stream",
     "text": [
      "printing estimate's type\n",
      "<class 'dowhy.causal_estimator.CausalEstimate'>\n",
      "The current estimator: Estimator(name='backdoor.econml.drlearner.LinearDRLearner', params={'init_params': {'model_propensity': LogisticRegressionCV(cv=3)}, 'fit_params': {}, '_econml_methodname': 'econml.drlearner.LinearDRLearner'})\n",
      "estimator.params {'init_params': {'model_propensity': LogisticRegressionCV(cv=3)}, 'fit_params': {}, '_econml_methodname': 'econml.drlearner.LinearDRLearner'}\n"
     ]
    },
    {
     "name": "stderr",
     "output_type": "stream",
     "text": [
      "INFO:dowhy.causal_refuters.add_unobserved_common_cause:All variables required: Running bootstrap adding noise to confounders, instrumental variables and effect modifiers.\n"
     ]
    },
    {
     "name": "stdout",
     "output_type": "stream",
     "text": [
      "printing estimate's type\n",
      "<class 'dowhy.causal_estimator.CausalEstimate'>\n",
      "estimate_values [58.104749230307746, 57.55629692706383, 58.227224282898995, 61.38670292745906, 57.82495927387495]\n",
      "\n",
      "\n",
      "Running the refuters:\n",
      "\n",
      "The current refuter: Refuter(name='dummy_outcome_refuter', params={'num_simulations': 5, 'transformation_list': [('random_forest', {'n_estimators': 100, 'max_depth': 6})], 'true_causal_effect': <function <lambda> at 0x0000022829325828>, 'unobserved_confounder_values': 0      1336.043197\n",
      "1      1844.404948\n",
      "2       461.691145\n",
      "3       150.325945\n",
      "4      1682.057640\n",
      "          ...     \n",
      "995   -1774.900544\n",
      "996    2845.430911\n",
      "997    -468.203187\n",
      "998    -505.411029\n",
      "999    2300.929637\n",
      "Length: 1000, dtype: float64})\n",
      "********%%%%%%%%%$$$$$&&^**^^^^*^*^*\n",
      "add_unobserved_confounder <dowhy.causal_refuters.add_unobserved_common_cause.AddUnobservedCommonCause object at 0x00000228732D94C8>\n"
     ]
    },
    {
     "name": "stderr",
     "output_type": "stream",
     "text": [
      "INFO:dowhy.causal_refuter:All variables required: Running bootstrap adding noise to confounders, instrumental variables and effect modifiers.\n",
      "INFO:dowhy.causal_refuters.dummy_outcome_refuter:Refutation over 5 simulated datasets\n",
      "INFO:dowhy.causal_refuters.dummy_outcome_refuter:The transformation passed: [('random_forest', {'n_estimators': 100, 'max_depth': 6})]\n"
     ]
    },
    {
     "name": "stdout",
     "output_type": "stream",
     "text": [
      "refuter.params {'num_simulations': 5, 'transformation_list': [('random_forest', {'n_estimators': 100, 'max_depth': 6})], 'true_causal_effect': <function <lambda> at 0x0000022829325828>, 'unobserved_confounder_values': 0     -1145.201998\n",
      "1     -1286.989080\n",
      "2     -2581.190808\n",
      "3      -204.031248\n",
      "4      -204.488006\n",
      "          ...     \n",
      "995     -91.393166\n",
      "996    -334.676223\n",
      "997    1967.066366\n",
      "998    1986.178959\n",
      "999     144.834026\n",
      "Length: 1000, dtype: float64}\n"
     ]
    },
    {
     "name": "stderr",
     "output_type": "stream",
     "text": [
      "INFO:dowhy.causal_estimator:b: dummy_outcome~t1+w3+w2+t1*x1+t1*x2\n",
      "INFO:dowhy.causal_estimator:INFO: Using Linear Regression Estimator\n",
      "INFO:dowhy.causal_estimator:b: dummy_outcome~t1+w3+w2+t1*x1+t1*x2\n",
      "INFO:dowhy.causal_estimator:INFO: Using Linear Regression Estimator\n",
      "INFO:dowhy.causal_estimator:b: dummy_outcome~t1+w3+w2+t1*x1+t1*x2\n",
      "INFO:dowhy.causal_estimator:INFO: Using Linear Regression Estimator\n",
      "INFO:dowhy.causal_estimator:b: dummy_outcome~t1+w3+w2+t1*x1+t1*x2\n",
      "INFO:dowhy.causal_estimator:INFO: Using Linear Regression Estimator\n",
      "INFO:dowhy.causal_estimator:b: dummy_outcome~t1+w3+w2+t1*x1+t1*x2\n",
      "INFO:dowhy.causal_estimator:INFO: Using Linear Regression Estimator\n",
      "INFO:dowhy.causal_estimator:b: dummy_outcome~t1+w3+w2+t1*x1+t1*x2\n",
      "INFO:dowhy.causal_estimator:INFO: Using Linear Regression Estimator\n",
      "INFO:dowhy.causal_estimator:b: dummy_outcome~t1+w3+w2+t1*x1+t1*x2\n",
      "INFO:dowhy.causal_estimator:INFO: Using Linear Regression Estimator\n",
      "INFO:dowhy.causal_estimator:b: dummy_outcome~t1+w3+w2+t1*x1+t1*x2\n",
      "INFO:dowhy.causal_estimator:INFO: Using Linear Regression Estimator\n",
      "INFO:dowhy.causal_estimator:b: dummy_outcome~t1+w3+w2+t1*x1+t1*x2\n",
      "INFO:dowhy.causal_estimator:INFO: Using Linear Regression Estimator\n",
      "INFO:dowhy.causal_estimator:b: dummy_outcome~t1+w3+w2+t1*x1+t1*x2\n",
      "INFO:dowhy.causal_estimator:INFO: Using Linear Regression Estimator\n",
      "WARNING:dowhy.causal_refuters.dummy_outcome_refuter:We assume a Normal Distribution as the sample has less than 100 examples.\n",
      "                 Note: The underlying distribution may not be Normal. We assume that it approaches normal with the increase in sample size.\n",
      "WARNING:dowhy.causal_refuters.dummy_outcome_refuter:We assume a Normal Distribution as the sample has less than 100 examples.\n",
      "                 Note: The underlying distribution may not be Normal. We assume that it approaches normal with the increase in sample size.\n",
      "INFO:dowhy.causal_refuters.add_unobserved_common_cause:All variables required: Running bootstrap adding noise to confounders, instrumental variables and effect modifiers.\n"
     ]
    },
    {
     "name": "stdout",
     "output_type": "stream",
     "text": [
      "printing refute's type\n",
      "<class 'list'>\n",
      "********%%%%%%%%%$$$$$&&^**^^^^*^*^*\n",
      "add_unobserved_confounder <dowhy.causal_refuters.add_unobserved_common_cause.AddUnobservedCommonCause object at 0x0000022873388288>\n"
     ]
    },
    {
     "name": "stderr",
     "output_type": "stream",
     "text": [
      "INFO:dowhy.causal_refuter:All variables required: Running bootstrap adding noise to confounders, instrumental variables and effect modifiers.\n",
      "INFO:dowhy.causal_refuters.dummy_outcome_refuter:Refutation over 5 simulated datasets\n",
      "INFO:dowhy.causal_refuters.dummy_outcome_refuter:The transformation passed: [('random_forest', {'n_estimators': 100, 'max_depth': 6})]\n"
     ]
    },
    {
     "name": "stdout",
     "output_type": "stream",
     "text": [
      "refuter.params {'num_simulations': 5, 'transformation_list': [('random_forest', {'n_estimators': 100, 'max_depth': 6})], 'true_causal_effect': <function <lambda> at 0x0000022829325828>, 'unobserved_confounder_values': 0     -1142.730734\n",
      "1     -1285.252551\n",
      "2     -2581.581565\n",
      "3      -204.651405\n",
      "4      -206.386987\n",
      "          ...     \n",
      "995     -91.580833\n",
      "996    -333.904813\n",
      "997    1963.959397\n",
      "998    1984.571129\n",
      "999     145.833346\n",
      "Length: 1000, dtype: float64}\n"
     ]
    },
    {
     "name": "stderr",
     "output_type": "stream",
     "text": [
      "INFO:dowhy.causal_estimator:INFO: Using Propensity Score Matching Estimator\n",
      "INFO:dowhy.causal_estimator:b: dummy_outcome~t1+w3+w2\n",
      "INFO:dowhy.causal_estimator:INFO: Using Propensity Score Matching Estimator\n",
      "INFO:dowhy.causal_estimator:b: dummy_outcome~t1+w3+w2\n",
      "INFO:dowhy.causal_estimator:INFO: Using Propensity Score Matching Estimator\n",
      "INFO:dowhy.causal_estimator:b: dummy_outcome~t1+w3+w2\n",
      "INFO:dowhy.causal_estimator:INFO: Using Propensity Score Matching Estimator\n",
      "INFO:dowhy.causal_estimator:b: dummy_outcome~t1+w3+w2\n",
      "INFO:dowhy.causal_estimator:INFO: Using Propensity Score Matching Estimator\n",
      "INFO:dowhy.causal_estimator:b: dummy_outcome~t1+w3+w2\n",
      "INFO:dowhy.causal_estimator:INFO: Using Propensity Score Matching Estimator\n",
      "INFO:dowhy.causal_estimator:b: dummy_outcome~t1+w3+w2\n",
      "INFO:dowhy.causal_estimator:INFO: Using Propensity Score Matching Estimator\n",
      "INFO:dowhy.causal_estimator:b: dummy_outcome~t1+w3+w2\n",
      "INFO:dowhy.causal_estimator:INFO: Using Propensity Score Matching Estimator\n",
      "INFO:dowhy.causal_estimator:b: dummy_outcome~t1+w3+w2\n",
      "INFO:dowhy.causal_estimator:INFO: Using Propensity Score Matching Estimator\n",
      "INFO:dowhy.causal_estimator:b: dummy_outcome~t1+w3+w2\n",
      "INFO:dowhy.causal_estimator:INFO: Using Propensity Score Matching Estimator\n",
      "INFO:dowhy.causal_estimator:b: dummy_outcome~t1+w3+w2\n",
      "WARNING:dowhy.causal_refuters.dummy_outcome_refuter:We assume a Normal Distribution as the sample has less than 100 examples.\n",
      "                 Note: The underlying distribution may not be Normal. We assume that it approaches normal with the increase in sample size.\n",
      "WARNING:dowhy.causal_refuters.dummy_outcome_refuter:We assume a Normal Distribution as the sample has less than 100 examples.\n",
      "                 Note: The underlying distribution may not be Normal. We assume that it approaches normal with the increase in sample size.\n",
      "INFO:dowhy.causal_refuters.add_unobserved_common_cause:All variables required: Running bootstrap adding noise to confounders, instrumental variables and effect modifiers.\n"
     ]
    },
    {
     "name": "stdout",
     "output_type": "stream",
     "text": [
      "printing refute's type\n",
      "<class 'list'>\n",
      "********%%%%%%%%%$$$$$&&^**^^^^*^*^*\n",
      "add_unobserved_confounder <dowhy.causal_refuters.add_unobserved_common_cause.AddUnobservedCommonCause object at 0x0000022873386CC8>\n"
     ]
    },
    {
     "name": "stderr",
     "output_type": "stream",
     "text": [
      "INFO:dowhy.causal_refuter:All variables required: Running bootstrap adding noise to confounders, instrumental variables and effect modifiers.\n",
      "INFO:dowhy.causal_refuters.dummy_outcome_refuter:Refutation over 5 simulated datasets\n",
      "INFO:dowhy.causal_refuters.dummy_outcome_refuter:The transformation passed: [('random_forest', {'n_estimators': 100, 'max_depth': 6})]\n"
     ]
    },
    {
     "name": "stdout",
     "output_type": "stream",
     "text": [
      "refuter.params {'num_simulations': 5, 'transformation_list': [('random_forest', {'n_estimators': 100, 'max_depth': 6})], 'true_causal_effect': <function <lambda> at 0x0000022829325828>, 'unobserved_confounder_values': 0     -1142.523696\n",
      "1     -1285.334141\n",
      "2     -2582.958131\n",
      "3      -205.902578\n",
      "4      -204.732566\n",
      "          ...     \n",
      "995     -90.369330\n",
      "996    -333.201451\n",
      "997    1966.530423\n",
      "998    1987.380363\n",
      "999     146.739287\n",
      "Length: 1000, dtype: float64}\n"
     ]
    },
    {
     "name": "stderr",
     "output_type": "stream",
     "text": [
      "INFO:dowhy.causal_estimator:INFO: Using Propensity Score Weighting Estimator\n",
      "INFO:dowhy.causal_estimator:b: dummy_outcome~t1+w3+w2\n",
      "INFO:dowhy.causal_estimator:INFO: Using Propensity Score Weighting Estimator\n",
      "INFO:dowhy.causal_estimator:b: dummy_outcome~t1+w3+w2\n",
      "INFO:dowhy.causal_estimator:INFO: Using Propensity Score Weighting Estimator\n",
      "INFO:dowhy.causal_estimator:b: dummy_outcome~t1+w3+w2\n",
      "INFO:dowhy.causal_estimator:INFO: Using Propensity Score Weighting Estimator\n",
      "INFO:dowhy.causal_estimator:b: dummy_outcome~t1+w3+w2\n",
      "INFO:dowhy.causal_estimator:INFO: Using Propensity Score Weighting Estimator\n",
      "INFO:dowhy.causal_estimator:b: dummy_outcome~t1+w3+w2\n",
      "INFO:dowhy.causal_estimator:INFO: Using Propensity Score Weighting Estimator\n",
      "INFO:dowhy.causal_estimator:b: dummy_outcome~t1+w3+w2\n",
      "INFO:dowhy.causal_estimator:INFO: Using Propensity Score Weighting Estimator\n",
      "INFO:dowhy.causal_estimator:b: dummy_outcome~t1+w3+w2\n",
      "INFO:dowhy.causal_estimator:INFO: Using Propensity Score Weighting Estimator\n",
      "INFO:dowhy.causal_estimator:b: dummy_outcome~t1+w3+w2\n",
      "INFO:dowhy.causal_estimator:INFO: Using Propensity Score Weighting Estimator\n",
      "INFO:dowhy.causal_estimator:b: dummy_outcome~t1+w3+w2\n",
      "INFO:dowhy.causal_estimator:INFO: Using Propensity Score Weighting Estimator\n",
      "INFO:dowhy.causal_estimator:b: dummy_outcome~t1+w3+w2\n",
      "WARNING:dowhy.causal_refuters.dummy_outcome_refuter:We assume a Normal Distribution as the sample has less than 100 examples.\n",
      "                 Note: The underlying distribution may not be Normal. We assume that it approaches normal with the increase in sample size.\n",
      "WARNING:dowhy.causal_refuters.dummy_outcome_refuter:We assume a Normal Distribution as the sample has less than 100 examples.\n",
      "                 Note: The underlying distribution may not be Normal. We assume that it approaches normal with the increase in sample size.\n",
      "INFO:dowhy.causal_refuters.add_unobserved_common_cause:All variables required: Running bootstrap adding noise to confounders, instrumental variables and effect modifiers.\n"
     ]
    },
    {
     "name": "stdout",
     "output_type": "stream",
     "text": [
      "printing refute's type\n",
      "<class 'list'>\n",
      "********%%%%%%%%%$$$$$&&^**^^^^*^*^*\n",
      "add_unobserved_confounder <dowhy.causal_refuters.add_unobserved_common_cause.AddUnobservedCommonCause object at 0x00000228732D94C8>\n"
     ]
    },
    {
     "name": "stderr",
     "output_type": "stream",
     "text": [
      "INFO:dowhy.causal_refuter:All variables required: Running bootstrap adding noise to confounders, instrumental variables and effect modifiers.\n",
      "INFO:dowhy.causal_refuters.dummy_outcome_refuter:Refutation over 5 simulated datasets\n",
      "INFO:dowhy.causal_refuters.dummy_outcome_refuter:The transformation passed: [('random_forest', {'n_estimators': 100, 'max_depth': 6})]\n"
     ]
    },
    {
     "name": "stdout",
     "output_type": "stream",
     "text": [
      "refuter.params {'num_simulations': 5, 'transformation_list': [('random_forest', {'n_estimators': 100, 'max_depth': 6})], 'true_causal_effect': <function <lambda> at 0x0000022829325828>, 'unobserved_confounder_values': 0     -1143.317191\n",
      "1     -1286.921880\n",
      "2     -2583.276144\n",
      "3      -204.936553\n",
      "4      -205.900104\n",
      "          ...     \n",
      "995     -89.474081\n",
      "996    -335.455772\n",
      "997    1965.549484\n",
      "998    1985.702191\n",
      "999     146.922375\n",
      "Length: 1000, dtype: float64}\n"
     ]
    },
    {
     "name": "stderr",
     "output_type": "stream",
     "text": [
      "INFO:dowhy.causal_estimator:INFO: Using EconML Estimator\n",
      "WARNING:dowhy.causal_estimator:Effect modifiers are not a subset of common causes. For efficiency in estimation, EconML will consider all effect modifiers as common causes too.\n",
      "INFO:dowhy.causal_estimator:b: dummy_outcome~t1+w3+w2+x1+x2 | x1,x2\n",
      "INFO:dowhy.causal_estimator:INFO: Using EconML Estimator\n",
      "WARNING:dowhy.causal_estimator:Effect modifiers are not a subset of common causes. For efficiency in estimation, EconML will consider all effect modifiers as common causes too.\n",
      "INFO:dowhy.causal_estimator:b: dummy_outcome~t1+w3+w2+x1+x2 | x1,x2\n",
      "INFO:dowhy.causal_estimator:INFO: Using EconML Estimator\n",
      "WARNING:dowhy.causal_estimator:Effect modifiers are not a subset of common causes. For efficiency in estimation, EconML will consider all effect modifiers as common causes too.\n",
      "INFO:dowhy.causal_estimator:b: dummy_outcome~t1+w3+w2+x1+x2 | x1,x2\n",
      "INFO:dowhy.causal_estimator:INFO: Using EconML Estimator\n",
      "WARNING:dowhy.causal_estimator:Effect modifiers are not a subset of common causes. For efficiency in estimation, EconML will consider all effect modifiers as common causes too.\n",
      "INFO:dowhy.causal_estimator:b: dummy_outcome~t1+w3+w2+x1+x2 | x1,x2\n",
      "INFO:dowhy.causal_estimator:INFO: Using EconML Estimator\n",
      "WARNING:dowhy.causal_estimator:Effect modifiers are not a subset of common causes. For efficiency in estimation, EconML will consider all effect modifiers as common causes too.\n",
      "INFO:dowhy.causal_estimator:b: dummy_outcome~t1+w3+w2+x1+x2 | x1,x2\n",
      "INFO:dowhy.causal_estimator:INFO: Using EconML Estimator\n",
      "WARNING:dowhy.causal_estimator:Effect modifiers are not a subset of common causes. For efficiency in estimation, EconML will consider all effect modifiers as common causes too.\n",
      "INFO:dowhy.causal_estimator:b: dummy_outcome~t1+w3+w2+x1+x2 | x1,x2\n",
      "INFO:dowhy.causal_estimator:INFO: Using EconML Estimator\n",
      "WARNING:dowhy.causal_estimator:Effect modifiers are not a subset of common causes. For efficiency in estimation, EconML will consider all effect modifiers as common causes too.\n",
      "INFO:dowhy.causal_estimator:b: dummy_outcome~t1+w3+w2+x1+x2 | x1,x2\n",
      "INFO:dowhy.causal_estimator:INFO: Using EconML Estimator\n",
      "WARNING:dowhy.causal_estimator:Effect modifiers are not a subset of common causes. For efficiency in estimation, EconML will consider all effect modifiers as common causes too.\n",
      "INFO:dowhy.causal_estimator:b: dummy_outcome~t1+w3+w2+x1+x2 | x1,x2\n",
      "INFO:dowhy.causal_estimator:INFO: Using EconML Estimator\n",
      "WARNING:dowhy.causal_estimator:Effect modifiers are not a subset of common causes. For efficiency in estimation, EconML will consider all effect modifiers as common causes too.\n",
      "INFO:dowhy.causal_estimator:b: dummy_outcome~t1+w3+w2+x1+x2 | x1,x2\n",
      "INFO:dowhy.causal_estimator:INFO: Using EconML Estimator\n",
      "WARNING:dowhy.causal_estimator:Effect modifiers are not a subset of common causes. For efficiency in estimation, EconML will consider all effect modifiers as common causes too.\n",
      "INFO:dowhy.causal_estimator:b: dummy_outcome~t1+w3+w2+x1+x2 | x1,x2\n",
      "WARNING:dowhy.causal_refuters.dummy_outcome_refuter:We assume a Normal Distribution as the sample has less than 100 examples.\n",
      "                 Note: The underlying distribution may not be Normal. We assume that it approaches normal with the increase in sample size.\n",
      "WARNING:dowhy.causal_refuters.dummy_outcome_refuter:We assume a Normal Distribution as the sample has less than 100 examples.\n",
      "                 Note: The underlying distribution may not be Normal. We assume that it approaches normal with the increase in sample size.\n",
      "INFO:dowhy.causal_refuters.add_unobserved_common_cause:All variables required: Running bootstrap adding noise to confounders, instrumental variables and effect modifiers.\n"
     ]
    },
    {
     "name": "stdout",
     "output_type": "stream",
     "text": [
      "printing refute's type\n",
      "<class 'list'>\n",
      "********%%%%%%%%%$$$$$&&^**^^^^*^*^*\n",
      "add_unobserved_confounder <dowhy.causal_refuters.add_unobserved_common_cause.AddUnobservedCommonCause object at 0x00000228734FF088>\n"
     ]
    },
    {
     "name": "stderr",
     "output_type": "stream",
     "text": [
      "INFO:dowhy.causal_refuter:All variables required: Running bootstrap adding noise to confounders, instrumental variables and effect modifiers.\n",
      "INFO:dowhy.causal_refuters.dummy_outcome_refuter:Refutation over 5 simulated datasets\n",
      "INFO:dowhy.causal_refuters.dummy_outcome_refuter:The transformation passed: [('random_forest', {'n_estimators': 100, 'max_depth': 6})]\n"
     ]
    },
    {
     "name": "stdout",
     "output_type": "stream",
     "text": [
      "refuter.params {'num_simulations': 5, 'transformation_list': [('random_forest', {'n_estimators': 100, 'max_depth': 6})], 'true_causal_effect': <function <lambda> at 0x0000022829325828>, 'unobserved_confounder_values': 0     -1142.436302\n",
      "1     -1284.755796\n",
      "2     -2582.647500\n",
      "3      -205.037313\n",
      "4      -205.350348\n",
      "          ...     \n",
      "995     -90.781008\n",
      "996    -335.071387\n",
      "997    1967.534770\n",
      "998    1985.100981\n",
      "999     145.949522\n",
      "Length: 1000, dtype: float64}\n"
     ]
    },
    {
     "name": "stderr",
     "output_type": "stream",
     "text": [
      "INFO:dowhy.causal_estimator:INFO: Using EconML Estimator\n",
      "WARNING:dowhy.causal_estimator:Effect modifiers are not a subset of common causes. For efficiency in estimation, EconML will consider all effect modifiers as common causes too.\n",
      "INFO:dowhy.causal_estimator:b: dummy_outcome~t1+w3+w2+x1+x2 | x1,x2\n",
      "INFO:dowhy.causal_estimator:INFO: Using EconML Estimator\n",
      "WARNING:dowhy.causal_estimator:Effect modifiers are not a subset of common causes. For efficiency in estimation, EconML will consider all effect modifiers as common causes too.\n",
      "INFO:dowhy.causal_estimator:b: dummy_outcome~t1+w3+w2+x1+x2 | x1,x2\n",
      "INFO:dowhy.causal_estimator:INFO: Using EconML Estimator\n",
      "WARNING:dowhy.causal_estimator:Effect modifiers are not a subset of common causes. For efficiency in estimation, EconML will consider all effect modifiers as common causes too.\n",
      "INFO:dowhy.causal_estimator:b: dummy_outcome~t1+w3+w2+x1+x2 | x1,x2\n",
      "INFO:dowhy.causal_estimator:INFO: Using EconML Estimator\n",
      "WARNING:dowhy.causal_estimator:Effect modifiers are not a subset of common causes. For efficiency in estimation, EconML will consider all effect modifiers as common causes too.\n",
      "INFO:dowhy.causal_estimator:b: dummy_outcome~t1+w3+w2+x1+x2 | x1,x2\n",
      "INFO:dowhy.causal_estimator:INFO: Using EconML Estimator\n",
      "WARNING:dowhy.causal_estimator:Effect modifiers are not a subset of common causes. For efficiency in estimation, EconML will consider all effect modifiers as common causes too.\n",
      "INFO:dowhy.causal_estimator:b: dummy_outcome~t1+w3+w2+x1+x2 | x1,x2\n",
      "INFO:dowhy.causal_estimator:INFO: Using EconML Estimator\n",
      "WARNING:dowhy.causal_estimator:Effect modifiers are not a subset of common causes. For efficiency in estimation, EconML will consider all effect modifiers as common causes too.\n",
      "INFO:dowhy.causal_estimator:b: dummy_outcome~t1+w3+w2+x1+x2 | x1,x2\n",
      "INFO:dowhy.causal_estimator:INFO: Using EconML Estimator\n",
      "WARNING:dowhy.causal_estimator:Effect modifiers are not a subset of common causes. For efficiency in estimation, EconML will consider all effect modifiers as common causes too.\n",
      "INFO:dowhy.causal_estimator:b: dummy_outcome~t1+w3+w2+x1+x2 | x1,x2\n",
      "INFO:dowhy.causal_estimator:INFO: Using EconML Estimator\n",
      "WARNING:dowhy.causal_estimator:Effect modifiers are not a subset of common causes. For efficiency in estimation, EconML will consider all effect modifiers as common causes too.\n",
      "INFO:dowhy.causal_estimator:b: dummy_outcome~t1+w3+w2+x1+x2 | x1,x2\n",
      "INFO:dowhy.causal_estimator:INFO: Using EconML Estimator\n",
      "WARNING:dowhy.causal_estimator:Effect modifiers are not a subset of common causes. For efficiency in estimation, EconML will consider all effect modifiers as common causes too.\n",
      "INFO:dowhy.causal_estimator:b: dummy_outcome~t1+w3+w2+x1+x2 | x1,x2\n",
      "INFO:dowhy.causal_estimator:INFO: Using EconML Estimator\n",
      "WARNING:dowhy.causal_estimator:Effect modifiers are not a subset of common causes. For efficiency in estimation, EconML will consider all effect modifiers as common causes too.\n",
      "INFO:dowhy.causal_estimator:b: dummy_outcome~t1+w3+w2+x1+x2 | x1,x2\n",
      "WARNING:dowhy.causal_refuters.dummy_outcome_refuter:We assume a Normal Distribution as the sample has less than 100 examples.\n",
      "                 Note: The underlying distribution may not be Normal. We assume that it approaches normal with the increase in sample size.\n",
      "WARNING:dowhy.causal_refuters.dummy_outcome_refuter:We assume a Normal Distribution as the sample has less than 100 examples.\n",
      "                 Note: The underlying distribution may not be Normal. We assume that it approaches normal with the increase in sample size.\n",
      "WARNING:dowhy.causal_model:Causal Graph not provided. DoWhy will construct a graph based on data inputs.\n",
      "INFO:dowhy.causal_graph:If this is observed data (not from a randomized experiment), there might always be missing confounders. Adding a node named \"Unobserved Confounders\" to reflect this.\n",
      "INFO:dowhy.causal_model:Model to find the causal effect of treatment ['t1'] on outcome ['y']\n",
      "WARNING:dowhy.causal_identifier:If this is observed data (not from a randomized experiment), there might always be missing confounders. Causal effect cannot be identified perfectly.\n",
      "INFO:dowhy.causal_identifier:Continuing by ignoring these unobserved confounders because proceed_when_unidentifiable flag is True.\n",
      "INFO:dowhy.causal_identifier:Instrumental variables for treatment and outcome:[]\n",
      "INFO:dowhy.causal_identifier:Frontdoor variables for treatment and outcome:[]\n",
      "INFO:dowhy.causal_estimator:b: y~t1+w3+w2+t1*x1+t1*x2\n",
      "INFO:dowhy.causal_estimator:INFO: Using Linear Regression Estimator\n",
      "INFO:dowhy.causal_estimator:INFO: Using Propensity Score Matching Estimator\n",
      "INFO:dowhy.causal_estimator:b: y~t1+w3+w2\n"
     ]
    },
    {
     "name": "stdout",
     "output_type": "stream",
     "text": [
      "printing refute's type\n",
      "<class 'list'>\n",
      "estimated effect [0.5, 0.5, 0.5, 0.5, 0.5]\n",
      "new_effect [9.586451403427727, 3.6489125211141236, 7.390598157190698, -0.9745538659814779, 9.9362536463517]\n",
      "p_value [0.14256742384924131, 0.2520179025739736, 0.23659746688157213, 0.36299134490283547, 1.1210592238043359e-05]\n",
      "true value -0.2561831959742903\n",
      "\n",
      "\n",
      "Running Experiment Number: 4\n",
      "\n",
      "\n",
      "Current Sample Size: 1000\n",
      "\n",
      "\n",
      "The current DGP:\n",
      "\n",
      "        Linear Data Generating Process\n",
      "        -------------------------------\n",
      "        \n",
      "        treatment:['t1']\n",
      "        outcome:['y']\n",
      "        confounder: ['w1', 'w2', 'w3', 'w4', 'w5', 'w6']\n",
      "        effect_modifier: ['x1', 'x2']\n",
      "        weights: {'confounder=>treatment': array([[99.71964107],\n",
      "       [ 1.00490758],\n",
      "       [ 2.02296654],\n",
      "       [ 0.55340012],\n",
      "       [ 0.88112747],\n",
      "       [ 1.21420712]]), 'confounder=>outcome': array([[ 9.88261500e+01],\n",
      "       [ 1.95499617e-01],\n",
      "       [ 1.27295128e+00],\n",
      "       [-2.02748018e-02],\n",
      "       [-1.45971626e-01],\n",
      "       [ 3.76948200e-01]]), 'effect_modifier=>outcome': array([[ 3.68009755],\n",
      "       [-0.8987506 ]]), 'treatment=>outcome': array([[-0.2561832]])}\n",
      "        bias: {'confounder=>treatment': array([1.43505002]), 'confounder=>outcome': array([-1.13878894])}\n",
      "        seed: None\n",
      "        treatment_is_binary: True\n",
      "        percentile: 0.9\n",
      "        \n",
      "printing data shape\n",
      "(1000, 10)\n",
      "[-0.60968116]\n",
      "check\n",
      "printing length of confounder list: 2\n",
      "printing confounder list: ['w2', 'w3']\n",
      "data columns\n",
      "data columns Index(['x1', 'x2', 'w1', 'w2', 'w3', 'w4', 'w5', 'w6', 't1', 'y'], dtype='object')\n",
      "identified_estimand: Estimand type: nonparametric-ate\n",
      "\n",
      "### Estimand : 1\n",
      "Estimand name: backdoor1 (Default)\n",
      "Estimand expression:\n",
      "  d                        \n",
      "─────(Expectation(y|w3,w2))\n",
      "d[t₁]                      \n",
      "Estimand assumption 1, Unconfoundedness: If U→{t1} and U→y then P(y|t1,w3,w2,U) = P(y|t1,w3,w2)\n",
      "\n",
      "### Estimand : 2\n",
      "Estimand name: iv\n",
      "No such variable found!\n",
      "\n",
      "### Estimand : 3\n",
      "Estimand name: frontdoor\n",
      "No such variable found!\n",
      "\n",
      "\n",
      "\n",
      "Running the estimators:\n",
      "\n",
      "The current estimator: Estimator(name='backdoor.linear_regression', params=None)\n",
      "estimator.params None\n",
      "printing estimate's type\n",
      "<class 'dowhy.causal_estimator.CausalEstimate'>\n",
      "The current estimator: Estimator(name='backdoor.propensity_score_matching', params={'init_params': {}})\n",
      "estimator.params {'init_params': {}}\n"
     ]
    },
    {
     "name": "stderr",
     "output_type": "stream",
     "text": [
      "INFO:dowhy.causal_estimator:INFO: Using Propensity Score Weighting Estimator\n",
      "INFO:dowhy.causal_estimator:b: y~t1+w3+w2\n",
      "INFO:dowhy.causal_estimator:INFO: Using EconML Estimator\n",
      "WARNING:dowhy.causal_estimator:Effect modifiers are not a subset of common causes. For efficiency in estimation, EconML will consider all effect modifiers as common causes too.\n",
      "INFO:dowhy.causal_estimator:b: y~t1+w3+w2+x1+x2 | x1,x2\n"
     ]
    },
    {
     "name": "stdout",
     "output_type": "stream",
     "text": [
      "printing estimate's type\n",
      "<class 'dowhy.causal_estimator.CausalEstimate'>\n",
      "The current estimator: Estimator(name='backdoor.propensity_score_weighting', params={'init_params': {}})\n",
      "estimator.params {'init_params': {}}\n",
      "printing estimate's type\n",
      "<class 'dowhy.causal_estimator.CausalEstimate'>\n",
      "The current estimator: Estimator(name='backdoor.econml.dml.DML', params={'init_params': {'model_y': GradientBoostingRegressor(), 'model_t': GradientBoostingRegressor(), 'model_final': LassoCV(), 'featurizer': PolynomialFeatures(degree=1)}, 'fit_params': {}, '_econml_methodname': 'econml.dml.DML'})\n",
      "estimator.params {'init_params': {'model_y': GradientBoostingRegressor(), 'model_t': GradientBoostingRegressor(), 'model_final': LassoCV(), 'featurizer': PolynomialFeatures(degree=1)}, 'fit_params': {}, '_econml_methodname': 'econml.dml.DML'}\n"
     ]
    },
    {
     "name": "stderr",
     "output_type": "stream",
     "text": [
      "INFO:dowhy.causal_estimator:INFO: Using EconML Estimator\n",
      "WARNING:dowhy.causal_estimator:Effect modifiers are not a subset of common causes. For efficiency in estimation, EconML will consider all effect modifiers as common causes too.\n",
      "INFO:dowhy.causal_estimator:b: y~t1+w3+w2+x1+x2 | x1,x2\n"
     ]
    },
    {
     "name": "stdout",
     "output_type": "stream",
     "text": [
      "printing estimate's type\n",
      "<class 'dowhy.causal_estimator.CausalEstimate'>\n",
      "The current estimator: Estimator(name='backdoor.econml.drlearner.LinearDRLearner', params={'init_params': {'model_propensity': LogisticRegressionCV(cv=3)}, 'fit_params': {}, '_econml_methodname': 'econml.drlearner.LinearDRLearner'})\n",
      "estimator.params {'init_params': {'model_propensity': LogisticRegressionCV(cv=3)}, 'fit_params': {}, '_econml_methodname': 'econml.drlearner.LinearDRLearner'}\n"
     ]
    },
    {
     "name": "stderr",
     "output_type": "stream",
     "text": [
      "INFO:dowhy.causal_refuters.add_unobserved_common_cause:All variables required: Running bootstrap adding noise to confounders, instrumental variables and effect modifiers.\n"
     ]
    },
    {
     "name": "stdout",
     "output_type": "stream",
     "text": [
      "printing estimate's type\n",
      "<class 'dowhy.causal_estimator.CausalEstimate'>\n",
      "estimate_values [74.59460095479311, 66.68360996413962, 74.49836130745216, 69.62846745612772, 74.60146904578933]\n",
      "\n",
      "\n",
      "Running the refuters:\n",
      "\n",
      "The current refuter: Refuter(name='dummy_outcome_refuter', params={'num_simulations': 5, 'transformation_list': [('random_forest', {'n_estimators': 100, 'max_depth': 6})], 'true_causal_effect': <function <lambda> at 0x0000022829325828>, 'unobserved_confounder_values': 0     -1142.436302\n",
      "1     -1284.755796\n",
      "2     -2582.647500\n",
      "3      -205.037313\n",
      "4      -205.350348\n",
      "          ...     \n",
      "995     -90.781008\n",
      "996    -335.071387\n",
      "997    1967.534770\n",
      "998    1985.100981\n",
      "999     145.949522\n",
      "Length: 1000, dtype: float64})\n",
      "********%%%%%%%%%$$$$$&&^**^^^^*^*^*\n",
      "add_unobserved_confounder <dowhy.causal_refuters.add_unobserved_common_cause.AddUnobservedCommonCause object at 0x00000228734DCE88>\n"
     ]
    },
    {
     "name": "stderr",
     "output_type": "stream",
     "text": [
      "INFO:dowhy.causal_refuter:All variables required: Running bootstrap adding noise to confounders, instrumental variables and effect modifiers.\n",
      "INFO:dowhy.causal_refuters.dummy_outcome_refuter:Refutation over 5 simulated datasets\n",
      "INFO:dowhy.causal_refuters.dummy_outcome_refuter:The transformation passed: [('random_forest', {'n_estimators': 100, 'max_depth': 6})]\n"
     ]
    },
    {
     "name": "stdout",
     "output_type": "stream",
     "text": [
      "refuter.params {'num_simulations': 5, 'transformation_list': [('random_forest', {'n_estimators': 100, 'max_depth': 6})], 'true_causal_effect': <function <lambda> at 0x0000022829325828>, 'unobserved_confounder_values': 0     -2076.816975\n",
      "1       -20.181858\n",
      "2     -1003.472942\n",
      "3      -291.037538\n",
      "4       728.182789\n",
      "          ...     \n",
      "995   -1567.178479\n",
      "996   -1115.066377\n",
      "997    1335.885473\n",
      "998    -246.916243\n",
      "999     204.671005\n",
      "Length: 1000, dtype: float64}\n"
     ]
    },
    {
     "name": "stderr",
     "output_type": "stream",
     "text": [
      "INFO:dowhy.causal_estimator:b: dummy_outcome~t1+w3+w2+t1*x1+t1*x2\n",
      "INFO:dowhy.causal_estimator:INFO: Using Linear Regression Estimator\n",
      "INFO:dowhy.causal_estimator:b: dummy_outcome~t1+w3+w2+t1*x1+t1*x2\n",
      "INFO:dowhy.causal_estimator:INFO: Using Linear Regression Estimator\n",
      "INFO:dowhy.causal_estimator:b: dummy_outcome~t1+w3+w2+t1*x1+t1*x2\n",
      "INFO:dowhy.causal_estimator:INFO: Using Linear Regression Estimator\n",
      "INFO:dowhy.causal_estimator:b: dummy_outcome~t1+w3+w2+t1*x1+t1*x2\n",
      "INFO:dowhy.causal_estimator:INFO: Using Linear Regression Estimator\n",
      "INFO:dowhy.causal_estimator:b: dummy_outcome~t1+w3+w2+t1*x1+t1*x2\n",
      "INFO:dowhy.causal_estimator:INFO: Using Linear Regression Estimator\n",
      "INFO:dowhy.causal_estimator:b: dummy_outcome~t1+w3+w2+t1*x1+t1*x2\n",
      "INFO:dowhy.causal_estimator:INFO: Using Linear Regression Estimator\n",
      "INFO:dowhy.causal_estimator:b: dummy_outcome~t1+w3+w2+t1*x1+t1*x2\n",
      "INFO:dowhy.causal_estimator:INFO: Using Linear Regression Estimator\n",
      "INFO:dowhy.causal_estimator:b: dummy_outcome~t1+w3+w2+t1*x1+t1*x2\n",
      "INFO:dowhy.causal_estimator:INFO: Using Linear Regression Estimator\n",
      "INFO:dowhy.causal_estimator:b: dummy_outcome~t1+w3+w2+t1*x1+t1*x2\n",
      "INFO:dowhy.causal_estimator:INFO: Using Linear Regression Estimator\n",
      "INFO:dowhy.causal_estimator:b: dummy_outcome~t1+w3+w2+t1*x1+t1*x2\n",
      "INFO:dowhy.causal_estimator:INFO: Using Linear Regression Estimator\n",
      "WARNING:dowhy.causal_refuters.dummy_outcome_refuter:We assume a Normal Distribution as the sample has less than 100 examples.\n",
      "                 Note: The underlying distribution may not be Normal. We assume that it approaches normal with the increase in sample size.\n",
      "WARNING:dowhy.causal_refuters.dummy_outcome_refuter:We assume a Normal Distribution as the sample has less than 100 examples.\n",
      "                 Note: The underlying distribution may not be Normal. We assume that it approaches normal with the increase in sample size.\n",
      "INFO:dowhy.causal_refuters.add_unobserved_common_cause:All variables required: Running bootstrap adding noise to confounders, instrumental variables and effect modifiers.\n"
     ]
    },
    {
     "name": "stdout",
     "output_type": "stream",
     "text": [
      "printing refute's type\n",
      "<class 'list'>\n",
      "********%%%%%%%%%$$$$$&&^**^^^^*^*^*\n",
      "add_unobserved_confounder <dowhy.causal_refuters.add_unobserved_common_cause.AddUnobservedCommonCause object at 0x0000022874D86D88>\n"
     ]
    },
    {
     "name": "stderr",
     "output_type": "stream",
     "text": [
      "INFO:dowhy.causal_refuter:All variables required: Running bootstrap adding noise to confounders, instrumental variables and effect modifiers.\n",
      "INFO:dowhy.causal_refuters.dummy_outcome_refuter:Refutation over 5 simulated datasets\n",
      "INFO:dowhy.causal_refuters.dummy_outcome_refuter:The transformation passed: [('random_forest', {'n_estimators': 100, 'max_depth': 6})]\n"
     ]
    },
    {
     "name": "stdout",
     "output_type": "stream",
     "text": [
      "refuter.params {'num_simulations': 5, 'transformation_list': [('random_forest', {'n_estimators': 100, 'max_depth': 6})], 'true_causal_effect': <function <lambda> at 0x0000022829325828>, 'unobserved_confounder_values': 0     -2078.868450\n",
      "1       -20.774723\n",
      "2     -1001.245391\n",
      "3      -291.947832\n",
      "4       728.803280\n",
      "          ...     \n",
      "995   -1567.814609\n",
      "996   -1115.985884\n",
      "997    1336.878187\n",
      "998    -244.463289\n",
      "999     205.523236\n",
      "Length: 1000, dtype: float64}\n"
     ]
    },
    {
     "name": "stderr",
     "output_type": "stream",
     "text": [
      "INFO:dowhy.causal_estimator:INFO: Using Propensity Score Matching Estimator\n",
      "INFO:dowhy.causal_estimator:b: dummy_outcome~t1+w3+w2\n",
      "INFO:dowhy.causal_estimator:INFO: Using Propensity Score Matching Estimator\n",
      "INFO:dowhy.causal_estimator:b: dummy_outcome~t1+w3+w2\n",
      "INFO:dowhy.causal_estimator:INFO: Using Propensity Score Matching Estimator\n",
      "INFO:dowhy.causal_estimator:b: dummy_outcome~t1+w3+w2\n",
      "INFO:dowhy.causal_estimator:INFO: Using Propensity Score Matching Estimator\n",
      "INFO:dowhy.causal_estimator:b: dummy_outcome~t1+w3+w2\n",
      "INFO:dowhy.causal_estimator:INFO: Using Propensity Score Matching Estimator\n",
      "INFO:dowhy.causal_estimator:b: dummy_outcome~t1+w3+w2\n",
      "INFO:dowhy.causal_estimator:INFO: Using Propensity Score Matching Estimator\n",
      "INFO:dowhy.causal_estimator:b: dummy_outcome~t1+w3+w2\n",
      "INFO:dowhy.causal_estimator:INFO: Using Propensity Score Matching Estimator\n",
      "INFO:dowhy.causal_estimator:b: dummy_outcome~t1+w3+w2\n",
      "INFO:dowhy.causal_estimator:INFO: Using Propensity Score Matching Estimator\n",
      "INFO:dowhy.causal_estimator:b: dummy_outcome~t1+w3+w2\n",
      "INFO:dowhy.causal_estimator:INFO: Using Propensity Score Matching Estimator\n",
      "INFO:dowhy.causal_estimator:b: dummy_outcome~t1+w3+w2\n",
      "INFO:dowhy.causal_estimator:INFO: Using Propensity Score Matching Estimator\n",
      "INFO:dowhy.causal_estimator:b: dummy_outcome~t1+w3+w2\n",
      "WARNING:dowhy.causal_refuters.dummy_outcome_refuter:We assume a Normal Distribution as the sample has less than 100 examples.\n",
      "                 Note: The underlying distribution may not be Normal. We assume that it approaches normal with the increase in sample size.\n",
      "WARNING:dowhy.causal_refuters.dummy_outcome_refuter:We assume a Normal Distribution as the sample has less than 100 examples.\n",
      "                 Note: The underlying distribution may not be Normal. We assume that it approaches normal with the increase in sample size.\n",
      "INFO:dowhy.causal_refuters.add_unobserved_common_cause:All variables required: Running bootstrap adding noise to confounders, instrumental variables and effect modifiers.\n"
     ]
    },
    {
     "name": "stdout",
     "output_type": "stream",
     "text": [
      "printing refute's type\n",
      "<class 'list'>\n",
      "********%%%%%%%%%$$$$$&&^**^^^^*^*^*\n",
      "add_unobserved_confounder <dowhy.causal_refuters.add_unobserved_common_cause.AddUnobservedCommonCause object at 0x0000022873388288>\n"
     ]
    },
    {
     "name": "stderr",
     "output_type": "stream",
     "text": [
      "INFO:dowhy.causal_refuter:All variables required: Running bootstrap adding noise to confounders, instrumental variables and effect modifiers.\n",
      "INFO:dowhy.causal_refuters.dummy_outcome_refuter:Refutation over 5 simulated datasets\n",
      "INFO:dowhy.causal_refuters.dummy_outcome_refuter:The transformation passed: [('random_forest', {'n_estimators': 100, 'max_depth': 6})]\n"
     ]
    },
    {
     "name": "stdout",
     "output_type": "stream",
     "text": [
      "refuter.params {'num_simulations': 5, 'transformation_list': [('random_forest', {'n_estimators': 100, 'max_depth': 6})], 'true_causal_effect': <function <lambda> at 0x0000022829325828>, 'unobserved_confounder_values': 0     -2077.577696\n",
      "1       -20.807257\n",
      "2     -1003.030557\n",
      "3      -293.676578\n",
      "4       729.853539\n",
      "          ...     \n",
      "995   -1567.740167\n",
      "996   -1115.915696\n",
      "997    1337.103538\n",
      "998    -244.907950\n",
      "999     204.934033\n",
      "Length: 1000, dtype: float64}\n"
     ]
    },
    {
     "name": "stderr",
     "output_type": "stream",
     "text": [
      "INFO:dowhy.causal_estimator:INFO: Using Propensity Score Weighting Estimator\n",
      "INFO:dowhy.causal_estimator:b: dummy_outcome~t1+w3+w2\n",
      "INFO:dowhy.causal_estimator:INFO: Using Propensity Score Weighting Estimator\n",
      "INFO:dowhy.causal_estimator:b: dummy_outcome~t1+w3+w2\n",
      "INFO:dowhy.causal_estimator:INFO: Using Propensity Score Weighting Estimator\n",
      "INFO:dowhy.causal_estimator:b: dummy_outcome~t1+w3+w2\n",
      "INFO:dowhy.causal_estimator:INFO: Using Propensity Score Weighting Estimator\n",
      "INFO:dowhy.causal_estimator:b: dummy_outcome~t1+w3+w2\n",
      "INFO:dowhy.causal_estimator:INFO: Using Propensity Score Weighting Estimator\n",
      "INFO:dowhy.causal_estimator:b: dummy_outcome~t1+w3+w2\n",
      "INFO:dowhy.causal_estimator:INFO: Using Propensity Score Weighting Estimator\n",
      "INFO:dowhy.causal_estimator:b: dummy_outcome~t1+w3+w2\n",
      "INFO:dowhy.causal_estimator:INFO: Using Propensity Score Weighting Estimator\n",
      "INFO:dowhy.causal_estimator:b: dummy_outcome~t1+w3+w2\n",
      "INFO:dowhy.causal_estimator:INFO: Using Propensity Score Weighting Estimator\n",
      "INFO:dowhy.causal_estimator:b: dummy_outcome~t1+w3+w2\n",
      "INFO:dowhy.causal_estimator:INFO: Using Propensity Score Weighting Estimator\n",
      "INFO:dowhy.causal_estimator:b: dummy_outcome~t1+w3+w2\n",
      "INFO:dowhy.causal_estimator:INFO: Using Propensity Score Weighting Estimator\n",
      "INFO:dowhy.causal_estimator:b: dummy_outcome~t1+w3+w2\n",
      "WARNING:dowhy.causal_refuters.dummy_outcome_refuter:We assume a Normal Distribution as the sample has less than 100 examples.\n",
      "                 Note: The underlying distribution may not be Normal. We assume that it approaches normal with the increase in sample size.\n",
      "WARNING:dowhy.causal_refuters.dummy_outcome_refuter:We assume a Normal Distribution as the sample has less than 100 examples.\n",
      "                 Note: The underlying distribution may not be Normal. We assume that it approaches normal with the increase in sample size.\n",
      "INFO:dowhy.causal_refuters.add_unobserved_common_cause:All variables required: Running bootstrap adding noise to confounders, instrumental variables and effect modifiers.\n"
     ]
    },
    {
     "name": "stdout",
     "output_type": "stream",
     "text": [
      "printing refute's type\n",
      "<class 'list'>\n",
      "********%%%%%%%%%$$$$$&&^**^^^^*^*^*\n",
      "add_unobserved_confounder <dowhy.causal_refuters.add_unobserved_common_cause.AddUnobservedCommonCause object at 0x0000022874A64B08>\n"
     ]
    },
    {
     "name": "stderr",
     "output_type": "stream",
     "text": [
      "INFO:dowhy.causal_refuter:All variables required: Running bootstrap adding noise to confounders, instrumental variables and effect modifiers.\n",
      "INFO:dowhy.causal_refuters.dummy_outcome_refuter:Refutation over 5 simulated datasets\n",
      "INFO:dowhy.causal_refuters.dummy_outcome_refuter:The transformation passed: [('random_forest', {'n_estimators': 100, 'max_depth': 6})]\n"
     ]
    },
    {
     "name": "stdout",
     "output_type": "stream",
     "text": [
      "refuter.params {'num_simulations': 5, 'transformation_list': [('random_forest', {'n_estimators': 100, 'max_depth': 6})], 'true_causal_effect': <function <lambda> at 0x0000022829325828>, 'unobserved_confounder_values': 0     -2078.995253\n",
      "1       -22.571073\n",
      "2     -1003.969491\n",
      "3      -292.227383\n",
      "4       730.028600\n",
      "          ...     \n",
      "995   -1567.296975\n",
      "996   -1116.786151\n",
      "997    1337.246672\n",
      "998    -245.342403\n",
      "999     204.634466\n",
      "Length: 1000, dtype: float64}\n"
     ]
    },
    {
     "name": "stderr",
     "output_type": "stream",
     "text": [
      "INFO:dowhy.causal_estimator:INFO: Using EconML Estimator\n",
      "WARNING:dowhy.causal_estimator:Effect modifiers are not a subset of common causes. For efficiency in estimation, EconML will consider all effect modifiers as common causes too.\n",
      "INFO:dowhy.causal_estimator:b: dummy_outcome~t1+w3+w2+x1+x2 | x1,x2\n",
      "INFO:dowhy.causal_estimator:INFO: Using EconML Estimator\n",
      "WARNING:dowhy.causal_estimator:Effect modifiers are not a subset of common causes. For efficiency in estimation, EconML will consider all effect modifiers as common causes too.\n",
      "INFO:dowhy.causal_estimator:b: dummy_outcome~t1+w3+w2+x1+x2 | x1,x2\n",
      "INFO:dowhy.causal_estimator:INFO: Using EconML Estimator\n",
      "WARNING:dowhy.causal_estimator:Effect modifiers are not a subset of common causes. For efficiency in estimation, EconML will consider all effect modifiers as common causes too.\n",
      "INFO:dowhy.causal_estimator:b: dummy_outcome~t1+w3+w2+x1+x2 | x1,x2\n",
      "INFO:dowhy.causal_estimator:INFO: Using EconML Estimator\n",
      "WARNING:dowhy.causal_estimator:Effect modifiers are not a subset of common causes. For efficiency in estimation, EconML will consider all effect modifiers as common causes too.\n",
      "INFO:dowhy.causal_estimator:b: dummy_outcome~t1+w3+w2+x1+x2 | x1,x2\n",
      "INFO:dowhy.causal_estimator:INFO: Using EconML Estimator\n",
      "WARNING:dowhy.causal_estimator:Effect modifiers are not a subset of common causes. For efficiency in estimation, EconML will consider all effect modifiers as common causes too.\n",
      "INFO:dowhy.causal_estimator:b: dummy_outcome~t1+w3+w2+x1+x2 | x1,x2\n",
      "INFO:dowhy.causal_estimator:INFO: Using EconML Estimator\n",
      "WARNING:dowhy.causal_estimator:Effect modifiers are not a subset of common causes. For efficiency in estimation, EconML will consider all effect modifiers as common causes too.\n",
      "INFO:dowhy.causal_estimator:b: dummy_outcome~t1+w3+w2+x1+x2 | x1,x2\n",
      "INFO:dowhy.causal_estimator:INFO: Using EconML Estimator\n",
      "WARNING:dowhy.causal_estimator:Effect modifiers are not a subset of common causes. For efficiency in estimation, EconML will consider all effect modifiers as common causes too.\n",
      "INFO:dowhy.causal_estimator:b: dummy_outcome~t1+w3+w2+x1+x2 | x1,x2\n",
      "INFO:dowhy.causal_estimator:INFO: Using EconML Estimator\n",
      "WARNING:dowhy.causal_estimator:Effect modifiers are not a subset of common causes. For efficiency in estimation, EconML will consider all effect modifiers as common causes too.\n",
      "INFO:dowhy.causal_estimator:b: dummy_outcome~t1+w3+w2+x1+x2 | x1,x2\n",
      "INFO:dowhy.causal_estimator:INFO: Using EconML Estimator\n",
      "WARNING:dowhy.causal_estimator:Effect modifiers are not a subset of common causes. For efficiency in estimation, EconML will consider all effect modifiers as common causes too.\n",
      "INFO:dowhy.causal_estimator:b: dummy_outcome~t1+w3+w2+x1+x2 | x1,x2\n",
      "INFO:dowhy.causal_estimator:INFO: Using EconML Estimator\n",
      "WARNING:dowhy.causal_estimator:Effect modifiers are not a subset of common causes. For efficiency in estimation, EconML will consider all effect modifiers as common causes too.\n",
      "INFO:dowhy.causal_estimator:b: dummy_outcome~t1+w3+w2+x1+x2 | x1,x2\n",
      "WARNING:dowhy.causal_refuters.dummy_outcome_refuter:We assume a Normal Distribution as the sample has less than 100 examples.\n",
      "                 Note: The underlying distribution may not be Normal. We assume that it approaches normal with the increase in sample size.\n",
      "WARNING:dowhy.causal_refuters.dummy_outcome_refuter:We assume a Normal Distribution as the sample has less than 100 examples.\n",
      "                 Note: The underlying distribution may not be Normal. We assume that it approaches normal with the increase in sample size.\n",
      "INFO:dowhy.causal_refuters.add_unobserved_common_cause:All variables required: Running bootstrap adding noise to confounders, instrumental variables and effect modifiers.\n"
     ]
    },
    {
     "name": "stdout",
     "output_type": "stream",
     "text": [
      "printing refute's type\n",
      "<class 'list'>\n",
      "********%%%%%%%%%$$$$$&&^**^^^^*^*^*\n",
      "add_unobserved_confounder <dowhy.causal_refuters.add_unobserved_common_cause.AddUnobservedCommonCause object at 0x00000228734614C8>\n"
     ]
    },
    {
     "name": "stderr",
     "output_type": "stream",
     "text": [
      "INFO:dowhy.causal_refuter:All variables required: Running bootstrap adding noise to confounders, instrumental variables and effect modifiers.\n",
      "INFO:dowhy.causal_refuters.dummy_outcome_refuter:Refutation over 5 simulated datasets\n",
      "INFO:dowhy.causal_refuters.dummy_outcome_refuter:The transformation passed: [('random_forest', {'n_estimators': 100, 'max_depth': 6})]\n"
     ]
    },
    {
     "name": "stdout",
     "output_type": "stream",
     "text": [
      "refuter.params {'num_simulations': 5, 'transformation_list': [('random_forest', {'n_estimators': 100, 'max_depth': 6})], 'true_causal_effect': <function <lambda> at 0x0000022829325828>, 'unobserved_confounder_values': 0     -2079.003991\n",
      "1       -21.540103\n",
      "2     -1002.389086\n",
      "3      -293.034232\n",
      "4       728.244162\n",
      "          ...     \n",
      "995   -1567.062756\n",
      "996   -1115.422597\n",
      "997    1336.410172\n",
      "998    -244.003519\n",
      "999     204.028876\n",
      "Length: 1000, dtype: float64}\n"
     ]
    },
    {
     "name": "stderr",
     "output_type": "stream",
     "text": [
      "INFO:dowhy.causal_estimator:INFO: Using EconML Estimator\n",
      "WARNING:dowhy.causal_estimator:Effect modifiers are not a subset of common causes. For efficiency in estimation, EconML will consider all effect modifiers as common causes too.\n",
      "INFO:dowhy.causal_estimator:b: dummy_outcome~t1+w3+w2+x1+x2 | x1,x2\n",
      "INFO:dowhy.causal_estimator:INFO: Using EconML Estimator\n",
      "WARNING:dowhy.causal_estimator:Effect modifiers are not a subset of common causes. For efficiency in estimation, EconML will consider all effect modifiers as common causes too.\n",
      "INFO:dowhy.causal_estimator:b: dummy_outcome~t1+w3+w2+x1+x2 | x1,x2\n",
      "INFO:dowhy.causal_estimator:INFO: Using EconML Estimator\n",
      "WARNING:dowhy.causal_estimator:Effect modifiers are not a subset of common causes. For efficiency in estimation, EconML will consider all effect modifiers as common causes too.\n",
      "INFO:dowhy.causal_estimator:b: dummy_outcome~t1+w3+w2+x1+x2 | x1,x2\n",
      "INFO:dowhy.causal_estimator:INFO: Using EconML Estimator\n",
      "WARNING:dowhy.causal_estimator:Effect modifiers are not a subset of common causes. For efficiency in estimation, EconML will consider all effect modifiers as common causes too.\n",
      "INFO:dowhy.causal_estimator:b: dummy_outcome~t1+w3+w2+x1+x2 | x1,x2\n",
      "INFO:dowhy.causal_estimator:INFO: Using EconML Estimator\n",
      "WARNING:dowhy.causal_estimator:Effect modifiers are not a subset of common causes. For efficiency in estimation, EconML will consider all effect modifiers as common causes too.\n",
      "INFO:dowhy.causal_estimator:b: dummy_outcome~t1+w3+w2+x1+x2 | x1,x2\n",
      "INFO:dowhy.causal_estimator:INFO: Using EconML Estimator\n",
      "WARNING:dowhy.causal_estimator:Effect modifiers are not a subset of common causes. For efficiency in estimation, EconML will consider all effect modifiers as common causes too.\n",
      "INFO:dowhy.causal_estimator:b: dummy_outcome~t1+w3+w2+x1+x2 | x1,x2\n",
      "INFO:dowhy.causal_estimator:INFO: Using EconML Estimator\n",
      "WARNING:dowhy.causal_estimator:Effect modifiers are not a subset of common causes. For efficiency in estimation, EconML will consider all effect modifiers as common causes too.\n",
      "INFO:dowhy.causal_estimator:b: dummy_outcome~t1+w3+w2+x1+x2 | x1,x2\n",
      "INFO:dowhy.causal_estimator:INFO: Using EconML Estimator\n",
      "WARNING:dowhy.causal_estimator:Effect modifiers are not a subset of common causes. For efficiency in estimation, EconML will consider all effect modifiers as common causes too.\n",
      "INFO:dowhy.causal_estimator:b: dummy_outcome~t1+w3+w2+x1+x2 | x1,x2\n",
      "INFO:dowhy.causal_estimator:INFO: Using EconML Estimator\n",
      "WARNING:dowhy.causal_estimator:Effect modifiers are not a subset of common causes. For efficiency in estimation, EconML will consider all effect modifiers as common causes too.\n",
      "INFO:dowhy.causal_estimator:b: dummy_outcome~t1+w3+w2+x1+x2 | x1,x2\n",
      "INFO:dowhy.causal_estimator:INFO: Using EconML Estimator\n",
      "WARNING:dowhy.causal_estimator:Effect modifiers are not a subset of common causes. For efficiency in estimation, EconML will consider all effect modifiers as common causes too.\n",
      "INFO:dowhy.causal_estimator:b: dummy_outcome~t1+w3+w2+x1+x2 | x1,x2\n",
      "WARNING:dowhy.causal_refuters.dummy_outcome_refuter:We assume a Normal Distribution as the sample has less than 100 examples.\n",
      "                 Note: The underlying distribution may not be Normal. We assume that it approaches normal with the increase in sample size.\n",
      "WARNING:dowhy.causal_refuters.dummy_outcome_refuter:We assume a Normal Distribution as the sample has less than 100 examples.\n",
      "                 Note: The underlying distribution may not be Normal. We assume that it approaches normal with the increase in sample size.\n",
      "WARNING:dowhy.causal_model:Causal Graph not provided. DoWhy will construct a graph based on data inputs.\n",
      "INFO:dowhy.causal_graph:If this is observed data (not from a randomized experiment), there might always be missing confounders. Adding a node named \"Unobserved Confounders\" to reflect this.\n",
      "INFO:dowhy.causal_model:Model to find the causal effect of treatment ['t1'] on outcome ['y']\n",
      "WARNING:dowhy.causal_identifier:If this is observed data (not from a randomized experiment), there might always be missing confounders. Causal effect cannot be identified perfectly.\n",
      "INFO:dowhy.causal_identifier:Continuing by ignoring these unobserved confounders because proceed_when_unidentifiable flag is True.\n",
      "INFO:dowhy.causal_identifier:Instrumental variables for treatment and outcome:[]\n",
      "INFO:dowhy.causal_identifier:Frontdoor variables for treatment and outcome:[]\n",
      "INFO:dowhy.causal_estimator:b: y~t1+w3+w2+t1*x1+t1*x2\n",
      "INFO:dowhy.causal_estimator:INFO: Using Linear Regression Estimator\n",
      "INFO:dowhy.causal_estimator:INFO: Using Propensity Score Matching Estimator\n",
      "INFO:dowhy.causal_estimator:b: y~t1+w3+w2\n"
     ]
    },
    {
     "name": "stdout",
     "output_type": "stream",
     "text": [
      "printing refute's type\n",
      "<class 'list'>\n",
      "estimated effect [0.5, 0.5, 0.5, 0.5, 0.5]\n",
      "new_effect [10.100552958458039, 13.002102187260695, -3.969169986024537, 2.389207680179451, 8.81321813164233]\n",
      "p_value [0.07903853422679102, 0.11442993038781496, 0.1544888691141948, 0.4256774516047206, 0.16611718638956285]\n",
      "true value -0.609681163399245\n",
      "\n",
      "\n",
      "Running Experiment Number: 5\n",
      "\n",
      "\n",
      "Current Sample Size: 1000\n",
      "\n",
      "\n",
      "The current DGP:\n",
      "\n",
      "        Linear Data Generating Process\n",
      "        -------------------------------\n",
      "        \n",
      "        treatment:['t1']\n",
      "        outcome:['y']\n",
      "        confounder: ['w1', 'w2', 'w3', 'w4', 'w5', 'w6']\n",
      "        effect_modifier: ['x1', 'x2']\n",
      "        weights: {'confounder=>treatment': array([[101.1620353 ],\n",
      "       [  0.20096202],\n",
      "       [  0.83312038],\n",
      "       [ -0.19936883],\n",
      "       [ -0.61294269],\n",
      "       [ -0.81896653]]), 'confounder=>outcome': array([[100.76472037],\n",
      "       [  0.93212604],\n",
      "       [  0.25691303],\n",
      "       [  0.63804508],\n",
      "       [  0.23372473],\n",
      "       [  1.58478531]]), 'effect_modifier=>outcome': array([[ 0.94407905],\n",
      "       [-0.19320593]]), 'treatment=>outcome': array([[-0.60968116]])}\n",
      "        bias: {'confounder=>treatment': array([1.59101598]), 'confounder=>outcome': array([-0.20671747])}\n",
      "        seed: None\n",
      "        treatment_is_binary: True\n",
      "        percentile: 0.9\n",
      "        \n",
      "printing data shape\n",
      "(1000, 10)\n",
      "[-1.57571472]\n",
      "check\n",
      "printing length of confounder list: 2\n",
      "printing confounder list: ['w2', 'w3']\n",
      "data columns\n",
      "data columns Index(['x1', 'x2', 'w1', 'w2', 'w3', 'w4', 'w5', 'w6', 't1', 'y'], dtype='object')\n",
      "identified_estimand: Estimand type: nonparametric-ate\n",
      "\n",
      "### Estimand : 1\n",
      "Estimand name: backdoor1 (Default)\n",
      "Estimand expression:\n",
      "  d                        \n",
      "─────(Expectation(y|w3,w2))\n",
      "d[t₁]                      \n",
      "Estimand assumption 1, Unconfoundedness: If U→{t1} and U→y then P(y|t1,w3,w2,U) = P(y|t1,w3,w2)\n",
      "\n",
      "### Estimand : 2\n",
      "Estimand name: iv\n",
      "No such variable found!\n",
      "\n",
      "### Estimand : 3\n",
      "Estimand name: frontdoor\n",
      "No such variable found!\n",
      "\n",
      "\n",
      "\n",
      "Running the estimators:\n",
      "\n",
      "The current estimator: Estimator(name='backdoor.linear_regression', params=None)\n",
      "estimator.params None\n",
      "printing estimate's type\n",
      "<class 'dowhy.causal_estimator.CausalEstimate'>\n",
      "The current estimator: Estimator(name='backdoor.propensity_score_matching', params={'init_params': {}})\n",
      "estimator.params {'init_params': {}}\n"
     ]
    },
    {
     "name": "stderr",
     "output_type": "stream",
     "text": [
      "INFO:dowhy.causal_estimator:INFO: Using Propensity Score Weighting Estimator\n",
      "INFO:dowhy.causal_estimator:b: y~t1+w3+w2\n",
      "INFO:dowhy.causal_estimator:INFO: Using EconML Estimator\n",
      "WARNING:dowhy.causal_estimator:Effect modifiers are not a subset of common causes. For efficiency in estimation, EconML will consider all effect modifiers as common causes too.\n",
      "INFO:dowhy.causal_estimator:b: y~t1+w3+w2+x1+x2 | x1,x2\n"
     ]
    },
    {
     "name": "stdout",
     "output_type": "stream",
     "text": [
      "printing estimate's type\n",
      "<class 'dowhy.causal_estimator.CausalEstimate'>\n",
      "The current estimator: Estimator(name='backdoor.propensity_score_weighting', params={'init_params': {}})\n",
      "estimator.params {'init_params': {}}\n",
      "printing estimate's type\n",
      "<class 'dowhy.causal_estimator.CausalEstimate'>\n",
      "The current estimator: Estimator(name='backdoor.econml.dml.DML', params={'init_params': {'model_y': GradientBoostingRegressor(), 'model_t': GradientBoostingRegressor(), 'model_final': LassoCV(), 'featurizer': PolynomialFeatures(degree=1)}, 'fit_params': {}, '_econml_methodname': 'econml.dml.DML'})\n",
      "estimator.params {'init_params': {'model_y': GradientBoostingRegressor(), 'model_t': GradientBoostingRegressor(), 'model_final': LassoCV(), 'featurizer': PolynomialFeatures(degree=1)}, 'fit_params': {}, '_econml_methodname': 'econml.dml.DML'}\n"
     ]
    },
    {
     "name": "stderr",
     "output_type": "stream",
     "text": [
      "INFO:dowhy.causal_estimator:INFO: Using EconML Estimator\n",
      "WARNING:dowhy.causal_estimator:Effect modifiers are not a subset of common causes. For efficiency in estimation, EconML will consider all effect modifiers as common causes too.\n",
      "INFO:dowhy.causal_estimator:b: y~t1+w3+w2+x1+x2 | x1,x2\n"
     ]
    },
    {
     "name": "stdout",
     "output_type": "stream",
     "text": [
      "printing estimate's type\n",
      "<class 'dowhy.causal_estimator.CausalEstimate'>\n",
      "The current estimator: Estimator(name='backdoor.econml.drlearner.LinearDRLearner', params={'init_params': {'model_propensity': LogisticRegressionCV(cv=3)}, 'fit_params': {}, '_econml_methodname': 'econml.drlearner.LinearDRLearner'})\n",
      "estimator.params {'init_params': {'model_propensity': LogisticRegressionCV(cv=3)}, 'fit_params': {}, '_econml_methodname': 'econml.drlearner.LinearDRLearner'}\n"
     ]
    },
    {
     "name": "stderr",
     "output_type": "stream",
     "text": [
      "INFO:dowhy.causal_refuters.add_unobserved_common_cause:All variables required: Running bootstrap adding noise to confounders, instrumental variables and effect modifiers.\n"
     ]
    },
    {
     "name": "stdout",
     "output_type": "stream",
     "text": [
      "printing estimate's type\n",
      "<class 'dowhy.causal_estimator.CausalEstimate'>\n",
      "estimate_values [48.88576929967731, 56.924023035852215, 49.93153300619638, 52.010248599486964, 49.309876667708245]\n",
      "\n",
      "\n",
      "Running the refuters:\n",
      "\n",
      "The current refuter: Refuter(name='dummy_outcome_refuter', params={'num_simulations': 5, 'transformation_list': [('random_forest', {'n_estimators': 100, 'max_depth': 6})], 'true_causal_effect': <function <lambda> at 0x0000022829325828>, 'unobserved_confounder_values': 0     -2079.003991\n",
      "1       -21.540103\n",
      "2     -1002.389086\n",
      "3      -293.034232\n",
      "4       728.244162\n",
      "          ...     \n",
      "995   -1567.062756\n",
      "996   -1115.422597\n",
      "997    1336.410172\n",
      "998    -244.003519\n",
      "999     204.028876\n",
      "Length: 1000, dtype: float64})\n",
      "********%%%%%%%%%$$$$$&&^**^^^^*^*^*\n",
      "add_unobserved_confounder <dowhy.causal_refuters.add_unobserved_common_cause.AddUnobservedCommonCause object at 0x00000228733BAF08>\n"
     ]
    },
    {
     "name": "stderr",
     "output_type": "stream",
     "text": [
      "INFO:dowhy.causal_refuter:All variables required: Running bootstrap adding noise to confounders, instrumental variables and effect modifiers.\n",
      "INFO:dowhy.causal_refuters.dummy_outcome_refuter:Refutation over 5 simulated datasets\n",
      "INFO:dowhy.causal_refuters.dummy_outcome_refuter:The transformation passed: [('random_forest', {'n_estimators': 100, 'max_depth': 6})]\n"
     ]
    },
    {
     "name": "stdout",
     "output_type": "stream",
     "text": [
      "refuter.params {'num_simulations': 5, 'transformation_list': [('random_forest', {'n_estimators': 100, 'max_depth': 6})], 'true_causal_effect': <function <lambda> at 0x0000022829325828>, 'unobserved_confounder_values': 0      1502.816946\n",
      "1      -551.377945\n",
      "2      -136.573682\n",
      "3      2188.557532\n",
      "4      1497.092491\n",
      "          ...     \n",
      "995    6361.066313\n",
      "996   -1459.430392\n",
      "997   -1006.600548\n",
      "998   -1592.148854\n",
      "999   -2685.033336\n",
      "Length: 1000, dtype: float64}\n"
     ]
    },
    {
     "name": "stderr",
     "output_type": "stream",
     "text": [
      "INFO:dowhy.causal_estimator:b: dummy_outcome~t1+w3+w2+t1*x1+t1*x2\n",
      "INFO:dowhy.causal_estimator:INFO: Using Linear Regression Estimator\n",
      "INFO:dowhy.causal_estimator:b: dummy_outcome~t1+w3+w2+t1*x1+t1*x2\n",
      "INFO:dowhy.causal_estimator:INFO: Using Linear Regression Estimator\n",
      "INFO:dowhy.causal_estimator:b: dummy_outcome~t1+w3+w2+t1*x1+t1*x2\n",
      "INFO:dowhy.causal_estimator:INFO: Using Linear Regression Estimator\n",
      "INFO:dowhy.causal_estimator:b: dummy_outcome~t1+w3+w2+t1*x1+t1*x2\n",
      "INFO:dowhy.causal_estimator:INFO: Using Linear Regression Estimator\n",
      "INFO:dowhy.causal_estimator:b: dummy_outcome~t1+w3+w2+t1*x1+t1*x2\n",
      "INFO:dowhy.causal_estimator:INFO: Using Linear Regression Estimator\n",
      "INFO:dowhy.causal_estimator:b: dummy_outcome~t1+w3+w2+t1*x1+t1*x2\n",
      "INFO:dowhy.causal_estimator:INFO: Using Linear Regression Estimator\n",
      "INFO:dowhy.causal_estimator:b: dummy_outcome~t1+w3+w2+t1*x1+t1*x2\n",
      "INFO:dowhy.causal_estimator:INFO: Using Linear Regression Estimator\n",
      "INFO:dowhy.causal_estimator:b: dummy_outcome~t1+w3+w2+t1*x1+t1*x2\n",
      "INFO:dowhy.causal_estimator:INFO: Using Linear Regression Estimator\n",
      "INFO:dowhy.causal_estimator:b: dummy_outcome~t1+w3+w2+t1*x1+t1*x2\n",
      "INFO:dowhy.causal_estimator:INFO: Using Linear Regression Estimator\n",
      "INFO:dowhy.causal_estimator:b: dummy_outcome~t1+w3+w2+t1*x1+t1*x2\n",
      "INFO:dowhy.causal_estimator:INFO: Using Linear Regression Estimator\n",
      "WARNING:dowhy.causal_refuters.dummy_outcome_refuter:We assume a Normal Distribution as the sample has less than 100 examples.\n",
      "                 Note: The underlying distribution may not be Normal. We assume that it approaches normal with the increase in sample size.\n",
      "WARNING:dowhy.causal_refuters.dummy_outcome_refuter:We assume a Normal Distribution as the sample has less than 100 examples.\n",
      "                 Note: The underlying distribution may not be Normal. We assume that it approaches normal with the increase in sample size.\n",
      "INFO:dowhy.causal_refuters.add_unobserved_common_cause:All variables required: Running bootstrap adding noise to confounders, instrumental variables and effect modifiers.\n"
     ]
    },
    {
     "name": "stdout",
     "output_type": "stream",
     "text": [
      "printing refute's type\n",
      "<class 'list'>\n",
      "********%%%%%%%%%$$$$$&&^**^^^^*^*^*\n",
      "add_unobserved_confounder <dowhy.causal_refuters.add_unobserved_common_cause.AddUnobservedCommonCause object at 0x0000022872180D88>\n"
     ]
    },
    {
     "name": "stderr",
     "output_type": "stream",
     "text": [
      "INFO:dowhy.causal_refuter:All variables required: Running bootstrap adding noise to confounders, instrumental variables and effect modifiers.\n",
      "INFO:dowhy.causal_refuters.dummy_outcome_refuter:Refutation over 5 simulated datasets\n",
      "INFO:dowhy.causal_refuters.dummy_outcome_refuter:The transformation passed: [('random_forest', {'n_estimators': 100, 'max_depth': 6})]\n"
     ]
    },
    {
     "name": "stdout",
     "output_type": "stream",
     "text": [
      "refuter.params {'num_simulations': 5, 'transformation_list': [('random_forest', {'n_estimators': 100, 'max_depth': 6})], 'true_causal_effect': <function <lambda> at 0x0000022829325828>, 'unobserved_confounder_values': 0      1503.233412\n",
      "1      -550.074237\n",
      "2      -135.636687\n",
      "3      2187.790174\n",
      "4      1495.653390\n",
      "          ...     \n",
      "995    6359.380657\n",
      "996   -1458.048093\n",
      "997   -1009.629624\n",
      "998   -1592.352348\n",
      "999   -2684.414864\n",
      "Length: 1000, dtype: float64}\n"
     ]
    },
    {
     "name": "stderr",
     "output_type": "stream",
     "text": [
      "INFO:dowhy.causal_estimator:INFO: Using Propensity Score Matching Estimator\n",
      "INFO:dowhy.causal_estimator:b: dummy_outcome~t1+w3+w2\n",
      "INFO:dowhy.causal_estimator:INFO: Using Propensity Score Matching Estimator\n",
      "INFO:dowhy.causal_estimator:b: dummy_outcome~t1+w3+w2\n",
      "INFO:dowhy.causal_estimator:INFO: Using Propensity Score Matching Estimator\n",
      "INFO:dowhy.causal_estimator:b: dummy_outcome~t1+w3+w2\n",
      "INFO:dowhy.causal_estimator:INFO: Using Propensity Score Matching Estimator\n",
      "INFO:dowhy.causal_estimator:b: dummy_outcome~t1+w3+w2\n",
      "INFO:dowhy.causal_estimator:INFO: Using Propensity Score Matching Estimator\n",
      "INFO:dowhy.causal_estimator:b: dummy_outcome~t1+w3+w2\n",
      "INFO:dowhy.causal_estimator:INFO: Using Propensity Score Matching Estimator\n",
      "INFO:dowhy.causal_estimator:b: dummy_outcome~t1+w3+w2\n",
      "INFO:dowhy.causal_estimator:INFO: Using Propensity Score Matching Estimator\n",
      "INFO:dowhy.causal_estimator:b: dummy_outcome~t1+w3+w2\n",
      "INFO:dowhy.causal_estimator:INFO: Using Propensity Score Matching Estimator\n",
      "INFO:dowhy.causal_estimator:b: dummy_outcome~t1+w3+w2\n",
      "INFO:dowhy.causal_estimator:INFO: Using Propensity Score Matching Estimator\n",
      "INFO:dowhy.causal_estimator:b: dummy_outcome~t1+w3+w2\n",
      "INFO:dowhy.causal_estimator:INFO: Using Propensity Score Matching Estimator\n",
      "INFO:dowhy.causal_estimator:b: dummy_outcome~t1+w3+w2\n",
      "WARNING:dowhy.causal_refuters.dummy_outcome_refuter:We assume a Normal Distribution as the sample has less than 100 examples.\n",
      "                 Note: The underlying distribution may not be Normal. We assume that it approaches normal with the increase in sample size.\n",
      "WARNING:dowhy.causal_refuters.dummy_outcome_refuter:We assume a Normal Distribution as the sample has less than 100 examples.\n",
      "                 Note: The underlying distribution may not be Normal. We assume that it approaches normal with the increase in sample size.\n",
      "INFO:dowhy.causal_refuters.add_unobserved_common_cause:All variables required: Running bootstrap adding noise to confounders, instrumental variables and effect modifiers.\n"
     ]
    },
    {
     "name": "stdout",
     "output_type": "stream",
     "text": [
      "printing refute's type\n",
      "<class 'list'>\n",
      "********%%%%%%%%%$$$$$&&^**^^^^*^*^*\n",
      "add_unobserved_confounder <dowhy.causal_refuters.add_unobserved_common_cause.AddUnobservedCommonCause object at 0x000002287332E088>\n"
     ]
    },
    {
     "name": "stderr",
     "output_type": "stream",
     "text": [
      "INFO:dowhy.causal_refuter:All variables required: Running bootstrap adding noise to confounders, instrumental variables and effect modifiers.\n",
      "INFO:dowhy.causal_refuters.dummy_outcome_refuter:Refutation over 5 simulated datasets\n",
      "INFO:dowhy.causal_refuters.dummy_outcome_refuter:The transformation passed: [('random_forest', {'n_estimators': 100, 'max_depth': 6})]\n"
     ]
    },
    {
     "name": "stdout",
     "output_type": "stream",
     "text": [
      "refuter.params {'num_simulations': 5, 'transformation_list': [('random_forest', {'n_estimators': 100, 'max_depth': 6})], 'true_causal_effect': <function <lambda> at 0x0000022829325828>, 'unobserved_confounder_values': 0      1502.214181\n",
      "1      -548.960586\n",
      "2      -135.853172\n",
      "3      2187.607579\n",
      "4      1496.854867\n",
      "          ...     \n",
      "995    6360.911542\n",
      "996   -1459.184021\n",
      "997   -1008.657138\n",
      "998   -1591.728295\n",
      "999   -2682.052703\n",
      "Length: 1000, dtype: float64}\n"
     ]
    },
    {
     "name": "stderr",
     "output_type": "stream",
     "text": [
      "INFO:dowhy.causal_estimator:INFO: Using Propensity Score Weighting Estimator\n",
      "INFO:dowhy.causal_estimator:b: dummy_outcome~t1+w3+w2\n",
      "INFO:dowhy.causal_estimator:INFO: Using Propensity Score Weighting Estimator\n",
      "INFO:dowhy.causal_estimator:b: dummy_outcome~t1+w3+w2\n",
      "INFO:dowhy.causal_estimator:INFO: Using Propensity Score Weighting Estimator\n",
      "INFO:dowhy.causal_estimator:b: dummy_outcome~t1+w3+w2\n",
      "INFO:dowhy.causal_estimator:INFO: Using Propensity Score Weighting Estimator\n",
      "INFO:dowhy.causal_estimator:b: dummy_outcome~t1+w3+w2\n",
      "INFO:dowhy.causal_estimator:INFO: Using Propensity Score Weighting Estimator\n",
      "INFO:dowhy.causal_estimator:b: dummy_outcome~t1+w3+w2\n",
      "INFO:dowhy.causal_estimator:INFO: Using Propensity Score Weighting Estimator\n",
      "INFO:dowhy.causal_estimator:b: dummy_outcome~t1+w3+w2\n",
      "INFO:dowhy.causal_estimator:INFO: Using Propensity Score Weighting Estimator\n",
      "INFO:dowhy.causal_estimator:b: dummy_outcome~t1+w3+w2\n",
      "INFO:dowhy.causal_estimator:INFO: Using Propensity Score Weighting Estimator\n",
      "INFO:dowhy.causal_estimator:b: dummy_outcome~t1+w3+w2\n",
      "INFO:dowhy.causal_estimator:INFO: Using Propensity Score Weighting Estimator\n",
      "INFO:dowhy.causal_estimator:b: dummy_outcome~t1+w3+w2\n",
      "INFO:dowhy.causal_estimator:INFO: Using Propensity Score Weighting Estimator\n",
      "INFO:dowhy.causal_estimator:b: dummy_outcome~t1+w3+w2\n",
      "WARNING:dowhy.causal_refuters.dummy_outcome_refuter:We assume a Normal Distribution as the sample has less than 100 examples.\n",
      "                 Note: The underlying distribution may not be Normal. We assume that it approaches normal with the increase in sample size.\n",
      "WARNING:dowhy.causal_refuters.dummy_outcome_refuter:We assume a Normal Distribution as the sample has less than 100 examples.\n",
      "                 Note: The underlying distribution may not be Normal. We assume that it approaches normal with the increase in sample size.\n",
      "INFO:dowhy.causal_refuters.add_unobserved_common_cause:All variables required: Running bootstrap adding noise to confounders, instrumental variables and effect modifiers.\n"
     ]
    },
    {
     "name": "stdout",
     "output_type": "stream",
     "text": [
      "printing refute's type\n",
      "<class 'list'>\n",
      "********%%%%%%%%%$$$$$&&^**^^^^*^*^*\n",
      "add_unobserved_confounder <dowhy.causal_refuters.add_unobserved_common_cause.AddUnobservedCommonCause object at 0x000002287473A508>\n"
     ]
    },
    {
     "name": "stderr",
     "output_type": "stream",
     "text": [
      "INFO:dowhy.causal_refuter:All variables required: Running bootstrap adding noise to confounders, instrumental variables and effect modifiers.\n",
      "INFO:dowhy.causal_refuters.dummy_outcome_refuter:Refutation over 5 simulated datasets\n",
      "INFO:dowhy.causal_refuters.dummy_outcome_refuter:The transformation passed: [('random_forest', {'n_estimators': 100, 'max_depth': 6})]\n"
     ]
    },
    {
     "name": "stdout",
     "output_type": "stream",
     "text": [
      "refuter.params {'num_simulations': 5, 'transformation_list': [('random_forest', {'n_estimators': 100, 'max_depth': 6})], 'true_causal_effect': <function <lambda> at 0x0000022829325828>, 'unobserved_confounder_values': 0      1502.920445\n",
      "1      -550.224272\n",
      "2      -134.911219\n",
      "3      2187.390927\n",
      "4      1496.635592\n",
      "          ...     \n",
      "995    6361.639822\n",
      "996   -1459.933600\n",
      "997   -1010.064012\n",
      "998   -1592.244085\n",
      "999   -2684.234011\n",
      "Length: 1000, dtype: float64}\n"
     ]
    },
    {
     "name": "stderr",
     "output_type": "stream",
     "text": [
      "INFO:dowhy.causal_estimator:INFO: Using EconML Estimator\n",
      "WARNING:dowhy.causal_estimator:Effect modifiers are not a subset of common causes. For efficiency in estimation, EconML will consider all effect modifiers as common causes too.\n",
      "INFO:dowhy.causal_estimator:b: dummy_outcome~t1+w3+w2+x1+x2 | x1,x2\n",
      "INFO:dowhy.causal_estimator:INFO: Using EconML Estimator\n",
      "WARNING:dowhy.causal_estimator:Effect modifiers are not a subset of common causes. For efficiency in estimation, EconML will consider all effect modifiers as common causes too.\n",
      "INFO:dowhy.causal_estimator:b: dummy_outcome~t1+w3+w2+x1+x2 | x1,x2\n",
      "INFO:dowhy.causal_estimator:INFO: Using EconML Estimator\n",
      "WARNING:dowhy.causal_estimator:Effect modifiers are not a subset of common causes. For efficiency in estimation, EconML will consider all effect modifiers as common causes too.\n",
      "INFO:dowhy.causal_estimator:b: dummy_outcome~t1+w3+w2+x1+x2 | x1,x2\n",
      "INFO:dowhy.causal_estimator:INFO: Using EconML Estimator\n",
      "WARNING:dowhy.causal_estimator:Effect modifiers are not a subset of common causes. For efficiency in estimation, EconML will consider all effect modifiers as common causes too.\n",
      "INFO:dowhy.causal_estimator:b: dummy_outcome~t1+w3+w2+x1+x2 | x1,x2\n",
      "INFO:dowhy.causal_estimator:INFO: Using EconML Estimator\n",
      "WARNING:dowhy.causal_estimator:Effect modifiers are not a subset of common causes. For efficiency in estimation, EconML will consider all effect modifiers as common causes too.\n",
      "INFO:dowhy.causal_estimator:b: dummy_outcome~t1+w3+w2+x1+x2 | x1,x2\n",
      "INFO:dowhy.causal_estimator:INFO: Using EconML Estimator\n",
      "WARNING:dowhy.causal_estimator:Effect modifiers are not a subset of common causes. For efficiency in estimation, EconML will consider all effect modifiers as common causes too.\n",
      "INFO:dowhy.causal_estimator:b: dummy_outcome~t1+w3+w2+x1+x2 | x1,x2\n",
      "INFO:dowhy.causal_estimator:INFO: Using EconML Estimator\n",
      "WARNING:dowhy.causal_estimator:Effect modifiers are not a subset of common causes. For efficiency in estimation, EconML will consider all effect modifiers as common causes too.\n",
      "INFO:dowhy.causal_estimator:b: dummy_outcome~t1+w3+w2+x1+x2 | x1,x2\n",
      "INFO:dowhy.causal_estimator:INFO: Using EconML Estimator\n",
      "WARNING:dowhy.causal_estimator:Effect modifiers are not a subset of common causes. For efficiency in estimation, EconML will consider all effect modifiers as common causes too.\n",
      "INFO:dowhy.causal_estimator:b: dummy_outcome~t1+w3+w2+x1+x2 | x1,x2\n",
      "INFO:dowhy.causal_estimator:INFO: Using EconML Estimator\n",
      "WARNING:dowhy.causal_estimator:Effect modifiers are not a subset of common causes. For efficiency in estimation, EconML will consider all effect modifiers as common causes too.\n",
      "INFO:dowhy.causal_estimator:b: dummy_outcome~t1+w3+w2+x1+x2 | x1,x2\n",
      "INFO:dowhy.causal_estimator:INFO: Using EconML Estimator\n",
      "WARNING:dowhy.causal_estimator:Effect modifiers are not a subset of common causes. For efficiency in estimation, EconML will consider all effect modifiers as common causes too.\n",
      "INFO:dowhy.causal_estimator:b: dummy_outcome~t1+w3+w2+x1+x2 | x1,x2\n",
      "WARNING:dowhy.causal_refuters.dummy_outcome_refuter:We assume a Normal Distribution as the sample has less than 100 examples.\n",
      "                 Note: The underlying distribution may not be Normal. We assume that it approaches normal with the increase in sample size.\n",
      "WARNING:dowhy.causal_refuters.dummy_outcome_refuter:We assume a Normal Distribution as the sample has less than 100 examples.\n",
      "                 Note: The underlying distribution may not be Normal. We assume that it approaches normal with the increase in sample size.\n",
      "INFO:dowhy.causal_refuters.add_unobserved_common_cause:All variables required: Running bootstrap adding noise to confounders, instrumental variables and effect modifiers.\n"
     ]
    },
    {
     "name": "stdout",
     "output_type": "stream",
     "text": [
      "printing refute's type\n",
      "<class 'list'>\n",
      "********%%%%%%%%%$$$$$&&^**^^^^*^*^*\n",
      "add_unobserved_confounder <dowhy.causal_refuters.add_unobserved_common_cause.AddUnobservedCommonCause object at 0x000002287345DC88>\n"
     ]
    },
    {
     "name": "stderr",
     "output_type": "stream",
     "text": [
      "INFO:dowhy.causal_refuter:All variables required: Running bootstrap adding noise to confounders, instrumental variables and effect modifiers.\n",
      "INFO:dowhy.causal_refuters.dummy_outcome_refuter:Refutation over 5 simulated datasets\n",
      "INFO:dowhy.causal_refuters.dummy_outcome_refuter:The transformation passed: [('random_forest', {'n_estimators': 100, 'max_depth': 6})]\n"
     ]
    },
    {
     "name": "stdout",
     "output_type": "stream",
     "text": [
      "refuter.params {'num_simulations': 5, 'transformation_list': [('random_forest', {'n_estimators': 100, 'max_depth': 6})], 'true_causal_effect': <function <lambda> at 0x0000022829325828>, 'unobserved_confounder_values': 0      1501.336665\n",
      "1      -551.646082\n",
      "2      -134.276647\n",
      "3      2188.068102\n",
      "4      1495.771368\n",
      "          ...     \n",
      "995    6361.401766\n",
      "996   -1459.525414\n",
      "997   -1010.532823\n",
      "998   -1591.913539\n",
      "999   -2681.742967\n",
      "Length: 1000, dtype: float64}\n"
     ]
    },
    {
     "name": "stderr",
     "output_type": "stream",
     "text": [
      "INFO:dowhy.causal_estimator:INFO: Using EconML Estimator\n",
      "WARNING:dowhy.causal_estimator:Effect modifiers are not a subset of common causes. For efficiency in estimation, EconML will consider all effect modifiers as common causes too.\n",
      "INFO:dowhy.causal_estimator:b: dummy_outcome~t1+w3+w2+x1+x2 | x1,x2\n",
      "INFO:dowhy.causal_estimator:INFO: Using EconML Estimator\n",
      "WARNING:dowhy.causal_estimator:Effect modifiers are not a subset of common causes. For efficiency in estimation, EconML will consider all effect modifiers as common causes too.\n",
      "INFO:dowhy.causal_estimator:b: dummy_outcome~t1+w3+w2+x1+x2 | x1,x2\n",
      "INFO:dowhy.causal_estimator:INFO: Using EconML Estimator\n",
      "WARNING:dowhy.causal_estimator:Effect modifiers are not a subset of common causes. For efficiency in estimation, EconML will consider all effect modifiers as common causes too.\n",
      "INFO:dowhy.causal_estimator:b: dummy_outcome~t1+w3+w2+x1+x2 | x1,x2\n",
      "INFO:dowhy.causal_estimator:INFO: Using EconML Estimator\n",
      "WARNING:dowhy.causal_estimator:Effect modifiers are not a subset of common causes. For efficiency in estimation, EconML will consider all effect modifiers as common causes too.\n",
      "INFO:dowhy.causal_estimator:b: dummy_outcome~t1+w3+w2+x1+x2 | x1,x2\n",
      "INFO:dowhy.causal_estimator:INFO: Using EconML Estimator\n",
      "WARNING:dowhy.causal_estimator:Effect modifiers are not a subset of common causes. For efficiency in estimation, EconML will consider all effect modifiers as common causes too.\n",
      "INFO:dowhy.causal_estimator:b: dummy_outcome~t1+w3+w2+x1+x2 | x1,x2\n",
      "INFO:dowhy.causal_estimator:INFO: Using EconML Estimator\n",
      "WARNING:dowhy.causal_estimator:Effect modifiers are not a subset of common causes. For efficiency in estimation, EconML will consider all effect modifiers as common causes too.\n",
      "INFO:dowhy.causal_estimator:b: dummy_outcome~t1+w3+w2+x1+x2 | x1,x2\n",
      "INFO:dowhy.causal_estimator:INFO: Using EconML Estimator\n",
      "WARNING:dowhy.causal_estimator:Effect modifiers are not a subset of common causes. For efficiency in estimation, EconML will consider all effect modifiers as common causes too.\n",
      "INFO:dowhy.causal_estimator:b: dummy_outcome~t1+w3+w2+x1+x2 | x1,x2\n",
      "INFO:dowhy.causal_estimator:INFO: Using EconML Estimator\n",
      "WARNING:dowhy.causal_estimator:Effect modifiers are not a subset of common causes. For efficiency in estimation, EconML will consider all effect modifiers as common causes too.\n",
      "INFO:dowhy.causal_estimator:b: dummy_outcome~t1+w3+w2+x1+x2 | x1,x2\n",
      "INFO:dowhy.causal_estimator:INFO: Using EconML Estimator\n",
      "WARNING:dowhy.causal_estimator:Effect modifiers are not a subset of common causes. For efficiency in estimation, EconML will consider all effect modifiers as common causes too.\n",
      "INFO:dowhy.causal_estimator:b: dummy_outcome~t1+w3+w2+x1+x2 | x1,x2\n",
      "INFO:dowhy.causal_estimator:INFO: Using EconML Estimator\n",
      "WARNING:dowhy.causal_estimator:Effect modifiers are not a subset of common causes. For efficiency in estimation, EconML will consider all effect modifiers as common causes too.\n",
      "INFO:dowhy.causal_estimator:b: dummy_outcome~t1+w3+w2+x1+x2 | x1,x2\n",
      "WARNING:dowhy.causal_refuters.dummy_outcome_refuter:We assume a Normal Distribution as the sample has less than 100 examples.\n",
      "                 Note: The underlying distribution may not be Normal. We assume that it approaches normal with the increase in sample size.\n",
      "WARNING:dowhy.causal_refuters.dummy_outcome_refuter:We assume a Normal Distribution as the sample has less than 100 examples.\n",
      "                 Note: The underlying distribution may not be Normal. We assume that it approaches normal with the increase in sample size.\n",
      "WARNING:dowhy.causal_model:Causal Graph not provided. DoWhy will construct a graph based on data inputs.\n",
      "INFO:dowhy.causal_graph:If this is observed data (not from a randomized experiment), there might always be missing confounders. Adding a node named \"Unobserved Confounders\" to reflect this.\n",
      "INFO:dowhy.causal_model:Model to find the causal effect of treatment ['t1'] on outcome ['y']\n",
      "WARNING:dowhy.causal_identifier:If this is observed data (not from a randomized experiment), there might always be missing confounders. Causal effect cannot be identified perfectly.\n",
      "INFO:dowhy.causal_identifier:Continuing by ignoring these unobserved confounders because proceed_when_unidentifiable flag is True.\n",
      "INFO:dowhy.causal_identifier:Instrumental variables for treatment and outcome:[]\n",
      "INFO:dowhy.causal_identifier:Frontdoor variables for treatment and outcome:[]\n",
      "INFO:dowhy.causal_estimator:b: y~t1+w3+w2+t1*x1+t1*x2\n",
      "INFO:dowhy.causal_estimator:INFO: Using Linear Regression Estimator\n",
      "INFO:dowhy.causal_estimator:INFO: Using Propensity Score Matching Estimator\n",
      "INFO:dowhy.causal_estimator:b: y~t1+w3+w2\n"
     ]
    },
    {
     "name": "stdout",
     "output_type": "stream",
     "text": [
      "printing refute's type\n",
      "<class 'list'>\n",
      "estimated effect [0.5, 0.5, 0.5, 0.5, 0.5]\n",
      "new_effect [4.988056602945219, 4.243248196636616, 6.456526612001279, 0.6784927372876325, -5.863483320677722]\n",
      "p_value [0.2963145781831768, 0.3446068391513608, 0.0732805214180086, 0.4940996178262118, 0.17261771740306098]\n",
      "true value -1.57571472016098\n",
      "\n",
      "\n",
      "Running Experiment Number: 6\n",
      "\n",
      "\n",
      "Current Sample Size: 1000\n",
      "\n",
      "\n",
      "The current DGP:\n",
      "\n",
      "        Linear Data Generating Process\n",
      "        -------------------------------\n",
      "        \n",
      "        treatment:['t1']\n",
      "        outcome:['y']\n",
      "        confounder: ['w1', 'w2', 'w3', 'w4', 'w5', 'w6']\n",
      "        effect_modifier: ['x1', 'x2']\n",
      "        weights: {'confounder=>treatment': array([[101.09504395],\n",
      "       [ -0.21093248],\n",
      "       [ -0.24433887],\n",
      "       [ -0.70250674],\n",
      "       [  0.74315403],\n",
      "       [ -0.41688439]]), 'confounder=>outcome': array([[99.85120702],\n",
      "       [-0.11089562],\n",
      "       [ 0.76670479],\n",
      "       [-0.40380096],\n",
      "       [-0.37040649],\n",
      "       [-1.06439861]]), 'effect_modifier=>outcome': array([[0.08117534],\n",
      "       [0.56887025]]), 'treatment=>outcome': array([[-1.57571472]])}\n",
      "        bias: {'confounder=>treatment': array([0.62092378]), 'confounder=>outcome': array([1.25355777])}\n",
      "        seed: None\n",
      "        treatment_is_binary: True\n",
      "        percentile: 0.9\n",
      "        \n",
      "printing data shape\n",
      "(1000, 10)\n",
      "[-0.28349433]\n",
      "check\n",
      "printing length of confounder list: 2\n",
      "printing confounder list: ['w2', 'w3']\n",
      "data columns\n",
      "data columns Index(['x1', 'x2', 'w1', 'w2', 'w3', 'w4', 'w5', 'w6', 't1', 'y'], dtype='object')\n",
      "identified_estimand: Estimand type: nonparametric-ate\n",
      "\n",
      "### Estimand : 1\n",
      "Estimand name: backdoor1 (Default)\n",
      "Estimand expression:\n",
      "  d                        \n",
      "─────(Expectation(y|w3,w2))\n",
      "d[t₁]                      \n",
      "Estimand assumption 1, Unconfoundedness: If U→{t1} and U→y then P(y|t1,w3,w2,U) = P(y|t1,w3,w2)\n",
      "\n",
      "### Estimand : 2\n",
      "Estimand name: iv\n",
      "No such variable found!\n",
      "\n",
      "### Estimand : 3\n",
      "Estimand name: frontdoor\n",
      "No such variable found!\n",
      "\n",
      "\n",
      "\n",
      "Running the estimators:\n",
      "\n",
      "The current estimator: Estimator(name='backdoor.linear_regression', params=None)\n",
      "estimator.params None\n",
      "printing estimate's type\n",
      "<class 'dowhy.causal_estimator.CausalEstimate'>\n",
      "The current estimator: Estimator(name='backdoor.propensity_score_matching', params={'init_params': {}})\n",
      "estimator.params {'init_params': {}}\n"
     ]
    },
    {
     "name": "stderr",
     "output_type": "stream",
     "text": [
      "INFO:dowhy.causal_estimator:INFO: Using Propensity Score Weighting Estimator\n",
      "INFO:dowhy.causal_estimator:b: y~t1+w3+w2\n",
      "INFO:dowhy.causal_estimator:INFO: Using EconML Estimator\n",
      "WARNING:dowhy.causal_estimator:Effect modifiers are not a subset of common causes. For efficiency in estimation, EconML will consider all effect modifiers as common causes too.\n",
      "INFO:dowhy.causal_estimator:b: y~t1+w3+w2+x1+x2 | x1,x2\n"
     ]
    },
    {
     "name": "stdout",
     "output_type": "stream",
     "text": [
      "printing estimate's type\n",
      "<class 'dowhy.causal_estimator.CausalEstimate'>\n",
      "The current estimator: Estimator(name='backdoor.propensity_score_weighting', params={'init_params': {}})\n",
      "estimator.params {'init_params': {}}\n",
      "printing estimate's type\n",
      "<class 'dowhy.causal_estimator.CausalEstimate'>\n",
      "The current estimator: Estimator(name='backdoor.econml.dml.DML', params={'init_params': {'model_y': GradientBoostingRegressor(), 'model_t': GradientBoostingRegressor(), 'model_final': LassoCV(), 'featurizer': PolynomialFeatures(degree=1)}, 'fit_params': {}, '_econml_methodname': 'econml.dml.DML'})\n",
      "estimator.params {'init_params': {'model_y': GradientBoostingRegressor(), 'model_t': GradientBoostingRegressor(), 'model_final': LassoCV(), 'featurizer': PolynomialFeatures(degree=1)}, 'fit_params': {}, '_econml_methodname': 'econml.dml.DML'}\n"
     ]
    },
    {
     "name": "stderr",
     "output_type": "stream",
     "text": [
      "INFO:dowhy.causal_estimator:INFO: Using EconML Estimator\n",
      "WARNING:dowhy.causal_estimator:Effect modifiers are not a subset of common causes. For efficiency in estimation, EconML will consider all effect modifiers as common causes too.\n",
      "INFO:dowhy.causal_estimator:b: y~t1+w3+w2+x1+x2 | x1,x2\n"
     ]
    },
    {
     "name": "stdout",
     "output_type": "stream",
     "text": [
      "printing estimate's type\n",
      "<class 'dowhy.causal_estimator.CausalEstimate'>\n",
      "The current estimator: Estimator(name='backdoor.econml.drlearner.LinearDRLearner', params={'init_params': {'model_propensity': LogisticRegressionCV(cv=3)}, 'fit_params': {}, '_econml_methodname': 'econml.drlearner.LinearDRLearner'})\n",
      "estimator.params {'init_params': {'model_propensity': LogisticRegressionCV(cv=3)}, 'fit_params': {}, '_econml_methodname': 'econml.drlearner.LinearDRLearner'}\n"
     ]
    },
    {
     "name": "stderr",
     "output_type": "stream",
     "text": [
      "INFO:dowhy.causal_refuters.add_unobserved_common_cause:All variables required: Running bootstrap adding noise to confounders, instrumental variables and effect modifiers.\n"
     ]
    },
    {
     "name": "stdout",
     "output_type": "stream",
     "text": [
      "printing estimate's type\n",
      "<class 'dowhy.causal_estimator.CausalEstimate'>\n",
      "estimate_values [63.53110986682401, 61.931847939314686, 63.74014146731949, 62.08303070210125, 63.57278140019137]\n",
      "\n",
      "\n",
      "Running the refuters:\n",
      "\n",
      "The current refuter: Refuter(name='dummy_outcome_refuter', params={'num_simulations': 5, 'transformation_list': [('random_forest', {'n_estimators': 100, 'max_depth': 6})], 'true_causal_effect': <function <lambda> at 0x0000022829325828>, 'unobserved_confounder_values': 0      1501.336665\n",
      "1      -551.646082\n",
      "2      -134.276647\n",
      "3      2188.068102\n",
      "4      1495.771368\n",
      "          ...     \n",
      "995    6361.401766\n",
      "996   -1459.525414\n",
      "997   -1010.532823\n",
      "998   -1591.913539\n",
      "999   -2681.742967\n",
      "Length: 1000, dtype: float64})\n",
      "********%%%%%%%%%$$$$$&&^**^^^^*^*^*\n",
      "add_unobserved_confounder <dowhy.causal_refuters.add_unobserved_common_cause.AddUnobservedCommonCause object at 0x00000228747E7048>\n"
     ]
    },
    {
     "name": "stderr",
     "output_type": "stream",
     "text": [
      "INFO:dowhy.causal_refuter:All variables required: Running bootstrap adding noise to confounders, instrumental variables and effect modifiers.\n",
      "INFO:dowhy.causal_refuters.dummy_outcome_refuter:Refutation over 5 simulated datasets\n",
      "INFO:dowhy.causal_refuters.dummy_outcome_refuter:The transformation passed: [('random_forest', {'n_estimators': 100, 'max_depth': 6})]\n"
     ]
    },
    {
     "name": "stdout",
     "output_type": "stream",
     "text": [
      "refuter.params {'num_simulations': 5, 'transformation_list': [('random_forest', {'n_estimators': 100, 'max_depth': 6})], 'true_causal_effect': <function <lambda> at 0x0000022829325828>, 'unobserved_confounder_values': 0     -1863.394952\n",
      "1     -2367.731755\n",
      "2      4576.571533\n",
      "3     -1384.214923\n",
      "4     -2229.684845\n",
      "          ...     \n",
      "995   -1854.612540\n",
      "996   -1421.511508\n",
      "997   -1945.659071\n",
      "998     357.077220\n",
      "999   -2006.744076\n",
      "Length: 1000, dtype: float64}\n"
     ]
    },
    {
     "name": "stderr",
     "output_type": "stream",
     "text": [
      "INFO:dowhy.causal_estimator:b: dummy_outcome~t1+w3+w2+t1*x1+t1*x2\n",
      "INFO:dowhy.causal_estimator:INFO: Using Linear Regression Estimator\n",
      "INFO:dowhy.causal_estimator:b: dummy_outcome~t1+w3+w2+t1*x1+t1*x2\n",
      "INFO:dowhy.causal_estimator:INFO: Using Linear Regression Estimator\n",
      "INFO:dowhy.causal_estimator:b: dummy_outcome~t1+w3+w2+t1*x1+t1*x2\n",
      "INFO:dowhy.causal_estimator:INFO: Using Linear Regression Estimator\n",
      "INFO:dowhy.causal_estimator:b: dummy_outcome~t1+w3+w2+t1*x1+t1*x2\n",
      "INFO:dowhy.causal_estimator:INFO: Using Linear Regression Estimator\n",
      "INFO:dowhy.causal_estimator:b: dummy_outcome~t1+w3+w2+t1*x1+t1*x2\n",
      "INFO:dowhy.causal_estimator:INFO: Using Linear Regression Estimator\n",
      "INFO:dowhy.causal_estimator:b: dummy_outcome~t1+w3+w2+t1*x1+t1*x2\n",
      "INFO:dowhy.causal_estimator:INFO: Using Linear Regression Estimator\n",
      "INFO:dowhy.causal_estimator:b: dummy_outcome~t1+w3+w2+t1*x1+t1*x2\n",
      "INFO:dowhy.causal_estimator:INFO: Using Linear Regression Estimator\n",
      "INFO:dowhy.causal_estimator:b: dummy_outcome~t1+w3+w2+t1*x1+t1*x2\n",
      "INFO:dowhy.causal_estimator:INFO: Using Linear Regression Estimator\n",
      "INFO:dowhy.causal_estimator:b: dummy_outcome~t1+w3+w2+t1*x1+t1*x2\n",
      "INFO:dowhy.causal_estimator:INFO: Using Linear Regression Estimator\n",
      "INFO:dowhy.causal_estimator:b: dummy_outcome~t1+w3+w2+t1*x1+t1*x2\n",
      "INFO:dowhy.causal_estimator:INFO: Using Linear Regression Estimator\n",
      "WARNING:dowhy.causal_refuters.dummy_outcome_refuter:We assume a Normal Distribution as the sample has less than 100 examples.\n",
      "                 Note: The underlying distribution may not be Normal. We assume that it approaches normal with the increase in sample size.\n",
      "WARNING:dowhy.causal_refuters.dummy_outcome_refuter:We assume a Normal Distribution as the sample has less than 100 examples.\n",
      "                 Note: The underlying distribution may not be Normal. We assume that it approaches normal with the increase in sample size.\n",
      "INFO:dowhy.causal_refuters.add_unobserved_common_cause:All variables required: Running bootstrap adding noise to confounders, instrumental variables and effect modifiers.\n"
     ]
    },
    {
     "name": "stdout",
     "output_type": "stream",
     "text": [
      "printing refute's type\n",
      "<class 'list'>\n",
      "********%%%%%%%%%$$$$$&&^**^^^^*^*^*\n",
      "add_unobserved_confounder <dowhy.causal_refuters.add_unobserved_common_cause.AddUnobservedCommonCause object at 0x00000228733DFA48>\n"
     ]
    },
    {
     "name": "stderr",
     "output_type": "stream",
     "text": [
      "INFO:dowhy.causal_refuter:All variables required: Running bootstrap adding noise to confounders, instrumental variables and effect modifiers.\n",
      "INFO:dowhy.causal_refuters.dummy_outcome_refuter:Refutation over 5 simulated datasets\n",
      "INFO:dowhy.causal_refuters.dummy_outcome_refuter:The transformation passed: [('random_forest', {'n_estimators': 100, 'max_depth': 6})]\n"
     ]
    },
    {
     "name": "stdout",
     "output_type": "stream",
     "text": [
      "refuter.params {'num_simulations': 5, 'transformation_list': [('random_forest', {'n_estimators': 100, 'max_depth': 6})], 'true_causal_effect': <function <lambda> at 0x0000022829325828>, 'unobserved_confounder_values': 0     -1863.262550\n",
      "1     -2367.873772\n",
      "2      4575.880184\n",
      "3     -1382.823241\n",
      "4     -2230.837510\n",
      "          ...     \n",
      "995   -1852.537570\n",
      "996   -1425.184530\n",
      "997   -1945.265044\n",
      "998     356.219603\n",
      "999   -2006.791323\n",
      "Length: 1000, dtype: float64}\n"
     ]
    },
    {
     "name": "stderr",
     "output_type": "stream",
     "text": [
      "INFO:dowhy.causal_estimator:INFO: Using Propensity Score Matching Estimator\n",
      "INFO:dowhy.causal_estimator:b: dummy_outcome~t1+w3+w2\n",
      "INFO:dowhy.causal_estimator:INFO: Using Propensity Score Matching Estimator\n",
      "INFO:dowhy.causal_estimator:b: dummy_outcome~t1+w3+w2\n",
      "INFO:dowhy.causal_estimator:INFO: Using Propensity Score Matching Estimator\n",
      "INFO:dowhy.causal_estimator:b: dummy_outcome~t1+w3+w2\n",
      "INFO:dowhy.causal_estimator:INFO: Using Propensity Score Matching Estimator\n",
      "INFO:dowhy.causal_estimator:b: dummy_outcome~t1+w3+w2\n",
      "INFO:dowhy.causal_estimator:INFO: Using Propensity Score Matching Estimator\n",
      "INFO:dowhy.causal_estimator:b: dummy_outcome~t1+w3+w2\n",
      "INFO:dowhy.causal_estimator:INFO: Using Propensity Score Matching Estimator\n",
      "INFO:dowhy.causal_estimator:b: dummy_outcome~t1+w3+w2\n",
      "INFO:dowhy.causal_estimator:INFO: Using Propensity Score Matching Estimator\n",
      "INFO:dowhy.causal_estimator:b: dummy_outcome~t1+w3+w2\n",
      "INFO:dowhy.causal_estimator:INFO: Using Propensity Score Matching Estimator\n",
      "INFO:dowhy.causal_estimator:b: dummy_outcome~t1+w3+w2\n",
      "INFO:dowhy.causal_estimator:INFO: Using Propensity Score Matching Estimator\n",
      "INFO:dowhy.causal_estimator:b: dummy_outcome~t1+w3+w2\n",
      "INFO:dowhy.causal_estimator:INFO: Using Propensity Score Matching Estimator\n",
      "INFO:dowhy.causal_estimator:b: dummy_outcome~t1+w3+w2\n",
      "WARNING:dowhy.causal_refuters.dummy_outcome_refuter:We assume a Normal Distribution as the sample has less than 100 examples.\n",
      "                 Note: The underlying distribution may not be Normal. We assume that it approaches normal with the increase in sample size.\n",
      "WARNING:dowhy.causal_refuters.dummy_outcome_refuter:We assume a Normal Distribution as the sample has less than 100 examples.\n",
      "                 Note: The underlying distribution may not be Normal. We assume that it approaches normal with the increase in sample size.\n",
      "INFO:dowhy.causal_refuters.add_unobserved_common_cause:All variables required: Running bootstrap adding noise to confounders, instrumental variables and effect modifiers.\n"
     ]
    },
    {
     "name": "stdout",
     "output_type": "stream",
     "text": [
      "printing refute's type\n",
      "<class 'list'>\n",
      "********%%%%%%%%%$$$$$&&^**^^^^*^*^*\n",
      "add_unobserved_confounder <dowhy.causal_refuters.add_unobserved_common_cause.AddUnobservedCommonCause object at 0x000002287335F248>\n"
     ]
    },
    {
     "name": "stderr",
     "output_type": "stream",
     "text": [
      "INFO:dowhy.causal_refuter:All variables required: Running bootstrap adding noise to confounders, instrumental variables and effect modifiers.\n",
      "INFO:dowhy.causal_refuters.dummy_outcome_refuter:Refutation over 5 simulated datasets\n",
      "INFO:dowhy.causal_refuters.dummy_outcome_refuter:The transformation passed: [('random_forest', {'n_estimators': 100, 'max_depth': 6})]\n"
     ]
    },
    {
     "name": "stdout",
     "output_type": "stream",
     "text": [
      "refuter.params {'num_simulations': 5, 'transformation_list': [('random_forest', {'n_estimators': 100, 'max_depth': 6})], 'true_causal_effect': <function <lambda> at 0x0000022829325828>, 'unobserved_confounder_values': 0     -1863.584598\n",
      "1     -2365.840255\n",
      "2      4578.429619\n",
      "3     -1382.917518\n",
      "4     -2230.304318\n",
      "          ...     \n",
      "995   -1852.357092\n",
      "996   -1423.199507\n",
      "997   -1945.076668\n",
      "998     354.894337\n",
      "999   -2008.126730\n",
      "Length: 1000, dtype: float64}\n"
     ]
    },
    {
     "name": "stderr",
     "output_type": "stream",
     "text": [
      "INFO:dowhy.causal_estimator:INFO: Using Propensity Score Weighting Estimator\n",
      "INFO:dowhy.causal_estimator:b: dummy_outcome~t1+w3+w2\n",
      "INFO:dowhy.causal_estimator:INFO: Using Propensity Score Weighting Estimator\n",
      "INFO:dowhy.causal_estimator:b: dummy_outcome~t1+w3+w2\n",
      "INFO:dowhy.causal_estimator:INFO: Using Propensity Score Weighting Estimator\n",
      "INFO:dowhy.causal_estimator:b: dummy_outcome~t1+w3+w2\n",
      "INFO:dowhy.causal_estimator:INFO: Using Propensity Score Weighting Estimator\n",
      "INFO:dowhy.causal_estimator:b: dummy_outcome~t1+w3+w2\n",
      "INFO:dowhy.causal_estimator:INFO: Using Propensity Score Weighting Estimator\n",
      "INFO:dowhy.causal_estimator:b: dummy_outcome~t1+w3+w2\n",
      "INFO:dowhy.causal_estimator:INFO: Using Propensity Score Weighting Estimator\n",
      "INFO:dowhy.causal_estimator:b: dummy_outcome~t1+w3+w2\n",
      "INFO:dowhy.causal_estimator:INFO: Using Propensity Score Weighting Estimator\n",
      "INFO:dowhy.causal_estimator:b: dummy_outcome~t1+w3+w2\n",
      "INFO:dowhy.causal_estimator:INFO: Using Propensity Score Weighting Estimator\n",
      "INFO:dowhy.causal_estimator:b: dummy_outcome~t1+w3+w2\n",
      "INFO:dowhy.causal_estimator:INFO: Using Propensity Score Weighting Estimator\n",
      "INFO:dowhy.causal_estimator:b: dummy_outcome~t1+w3+w2\n",
      "INFO:dowhy.causal_estimator:INFO: Using Propensity Score Weighting Estimator\n",
      "INFO:dowhy.causal_estimator:b: dummy_outcome~t1+w3+w2\n",
      "WARNING:dowhy.causal_refuters.dummy_outcome_refuter:We assume a Normal Distribution as the sample has less than 100 examples.\n",
      "                 Note: The underlying distribution may not be Normal. We assume that it approaches normal with the increase in sample size.\n",
      "WARNING:dowhy.causal_refuters.dummy_outcome_refuter:We assume a Normal Distribution as the sample has less than 100 examples.\n",
      "                 Note: The underlying distribution may not be Normal. We assume that it approaches normal with the increase in sample size.\n",
      "INFO:dowhy.causal_refuters.add_unobserved_common_cause:All variables required: Running bootstrap adding noise to confounders, instrumental variables and effect modifiers.\n"
     ]
    },
    {
     "name": "stdout",
     "output_type": "stream",
     "text": [
      "printing refute's type\n",
      "<class 'list'>\n",
      "********%%%%%%%%%$$$$$&&^**^^^^*^*^*\n",
      "add_unobserved_confounder <dowhy.causal_refuters.add_unobserved_common_cause.AddUnobservedCommonCause object at 0x000002287361E908>\n"
     ]
    },
    {
     "name": "stderr",
     "output_type": "stream",
     "text": [
      "INFO:dowhy.causal_refuter:All variables required: Running bootstrap adding noise to confounders, instrumental variables and effect modifiers.\n",
      "INFO:dowhy.causal_refuters.dummy_outcome_refuter:Refutation over 5 simulated datasets\n",
      "INFO:dowhy.causal_refuters.dummy_outcome_refuter:The transformation passed: [('random_forest', {'n_estimators': 100, 'max_depth': 6})]\n"
     ]
    },
    {
     "name": "stdout",
     "output_type": "stream",
     "text": [
      "refuter.params {'num_simulations': 5, 'transformation_list': [('random_forest', {'n_estimators': 100, 'max_depth': 6})], 'true_causal_effect': <function <lambda> at 0x0000022829325828>, 'unobserved_confounder_values': 0     -1864.159708\n",
      "1     -2367.141274\n",
      "2      4578.441947\n",
      "3     -1383.812169\n",
      "4     -2230.189382\n",
      "          ...     \n",
      "995   -1852.778074\n",
      "996   -1423.184286\n",
      "997   -1946.114694\n",
      "998     357.445803\n",
      "999   -2006.746301\n",
      "Length: 1000, dtype: float64}\n"
     ]
    },
    {
     "name": "stderr",
     "output_type": "stream",
     "text": [
      "INFO:dowhy.causal_estimator:INFO: Using EconML Estimator\n",
      "WARNING:dowhy.causal_estimator:Effect modifiers are not a subset of common causes. For efficiency in estimation, EconML will consider all effect modifiers as common causes too.\n",
      "INFO:dowhy.causal_estimator:b: dummy_outcome~t1+w3+w2+x1+x2 | x1,x2\n",
      "INFO:dowhy.causal_estimator:INFO: Using EconML Estimator\n",
      "WARNING:dowhy.causal_estimator:Effect modifiers are not a subset of common causes. For efficiency in estimation, EconML will consider all effect modifiers as common causes too.\n",
      "INFO:dowhy.causal_estimator:b: dummy_outcome~t1+w3+w2+x1+x2 | x1,x2\n",
      "INFO:dowhy.causal_estimator:INFO: Using EconML Estimator\n",
      "WARNING:dowhy.causal_estimator:Effect modifiers are not a subset of common causes. For efficiency in estimation, EconML will consider all effect modifiers as common causes too.\n",
      "INFO:dowhy.causal_estimator:b: dummy_outcome~t1+w3+w2+x1+x2 | x1,x2\n",
      "INFO:dowhy.causal_estimator:INFO: Using EconML Estimator\n",
      "WARNING:dowhy.causal_estimator:Effect modifiers are not a subset of common causes. For efficiency in estimation, EconML will consider all effect modifiers as common causes too.\n",
      "INFO:dowhy.causal_estimator:b: dummy_outcome~t1+w3+w2+x1+x2 | x1,x2\n",
      "INFO:dowhy.causal_estimator:INFO: Using EconML Estimator\n",
      "WARNING:dowhy.causal_estimator:Effect modifiers are not a subset of common causes. For efficiency in estimation, EconML will consider all effect modifiers as common causes too.\n",
      "INFO:dowhy.causal_estimator:b: dummy_outcome~t1+w3+w2+x1+x2 | x1,x2\n",
      "INFO:dowhy.causal_estimator:INFO: Using EconML Estimator\n",
      "WARNING:dowhy.causal_estimator:Effect modifiers are not a subset of common causes. For efficiency in estimation, EconML will consider all effect modifiers as common causes too.\n",
      "INFO:dowhy.causal_estimator:b: dummy_outcome~t1+w3+w2+x1+x2 | x1,x2\n",
      "INFO:dowhy.causal_estimator:INFO: Using EconML Estimator\n",
      "WARNING:dowhy.causal_estimator:Effect modifiers are not a subset of common causes. For efficiency in estimation, EconML will consider all effect modifiers as common causes too.\n",
      "INFO:dowhy.causal_estimator:b: dummy_outcome~t1+w3+w2+x1+x2 | x1,x2\n",
      "INFO:dowhy.causal_estimator:INFO: Using EconML Estimator\n",
      "WARNING:dowhy.causal_estimator:Effect modifiers are not a subset of common causes. For efficiency in estimation, EconML will consider all effect modifiers as common causes too.\n",
      "INFO:dowhy.causal_estimator:b: dummy_outcome~t1+w3+w2+x1+x2 | x1,x2\n",
      "INFO:dowhy.causal_estimator:INFO: Using EconML Estimator\n",
      "WARNING:dowhy.causal_estimator:Effect modifiers are not a subset of common causes. For efficiency in estimation, EconML will consider all effect modifiers as common causes too.\n",
      "INFO:dowhy.causal_estimator:b: dummy_outcome~t1+w3+w2+x1+x2 | x1,x2\n",
      "INFO:dowhy.causal_estimator:INFO: Using EconML Estimator\n",
      "WARNING:dowhy.causal_estimator:Effect modifiers are not a subset of common causes. For efficiency in estimation, EconML will consider all effect modifiers as common causes too.\n",
      "INFO:dowhy.causal_estimator:b: dummy_outcome~t1+w3+w2+x1+x2 | x1,x2\n",
      "WARNING:dowhy.causal_refuters.dummy_outcome_refuter:We assume a Normal Distribution as the sample has less than 100 examples.\n",
      "                 Note: The underlying distribution may not be Normal. We assume that it approaches normal with the increase in sample size.\n",
      "WARNING:dowhy.causal_refuters.dummy_outcome_refuter:We assume a Normal Distribution as the sample has less than 100 examples.\n",
      "                 Note: The underlying distribution may not be Normal. We assume that it approaches normal with the increase in sample size.\n",
      "INFO:dowhy.causal_refuters.add_unobserved_common_cause:All variables required: Running bootstrap adding noise to confounders, instrumental variables and effect modifiers.\n"
     ]
    },
    {
     "name": "stdout",
     "output_type": "stream",
     "text": [
      "printing refute's type\n",
      "<class 'list'>\n",
      "********%%%%%%%%%$$$$$&&^**^^^^*^*^*\n",
      "add_unobserved_confounder <dowhy.causal_refuters.add_unobserved_common_cause.AddUnobservedCommonCause object at 0x00000228734C9508>\n"
     ]
    },
    {
     "name": "stderr",
     "output_type": "stream",
     "text": [
      "INFO:dowhy.causal_refuter:All variables required: Running bootstrap adding noise to confounders, instrumental variables and effect modifiers.\n",
      "INFO:dowhy.causal_refuters.dummy_outcome_refuter:Refutation over 5 simulated datasets\n",
      "INFO:dowhy.causal_refuters.dummy_outcome_refuter:The transformation passed: [('random_forest', {'n_estimators': 100, 'max_depth': 6})]\n"
     ]
    },
    {
     "name": "stdout",
     "output_type": "stream",
     "text": [
      "refuter.params {'num_simulations': 5, 'transformation_list': [('random_forest', {'n_estimators': 100, 'max_depth': 6})], 'true_causal_effect': <function <lambda> at 0x0000022829325828>, 'unobserved_confounder_values': 0     -1863.802856\n",
      "1     -2366.480278\n",
      "2      4576.280095\n",
      "3     -1382.989955\n",
      "4     -2231.599923\n",
      "          ...     \n",
      "995   -1852.808531\n",
      "996   -1425.744907\n",
      "997   -1944.293190\n",
      "998     355.202186\n",
      "999   -2007.014647\n",
      "Length: 1000, dtype: float64}\n"
     ]
    },
    {
     "name": "stderr",
     "output_type": "stream",
     "text": [
      "INFO:dowhy.causal_estimator:INFO: Using EconML Estimator\n",
      "WARNING:dowhy.causal_estimator:Effect modifiers are not a subset of common causes. For efficiency in estimation, EconML will consider all effect modifiers as common causes too.\n",
      "INFO:dowhy.causal_estimator:b: dummy_outcome~t1+w3+w2+x1+x2 | x1,x2\n",
      "INFO:dowhy.causal_estimator:INFO: Using EconML Estimator\n",
      "WARNING:dowhy.causal_estimator:Effect modifiers are not a subset of common causes. For efficiency in estimation, EconML will consider all effect modifiers as common causes too.\n",
      "INFO:dowhy.causal_estimator:b: dummy_outcome~t1+w3+w2+x1+x2 | x1,x2\n",
      "INFO:dowhy.causal_estimator:INFO: Using EconML Estimator\n",
      "WARNING:dowhy.causal_estimator:Effect modifiers are not a subset of common causes. For efficiency in estimation, EconML will consider all effect modifiers as common causes too.\n",
      "INFO:dowhy.causal_estimator:b: dummy_outcome~t1+w3+w2+x1+x2 | x1,x2\n",
      "INFO:dowhy.causal_estimator:INFO: Using EconML Estimator\n",
      "WARNING:dowhy.causal_estimator:Effect modifiers are not a subset of common causes. For efficiency in estimation, EconML will consider all effect modifiers as common causes too.\n",
      "INFO:dowhy.causal_estimator:b: dummy_outcome~t1+w3+w2+x1+x2 | x1,x2\n",
      "INFO:dowhy.causal_estimator:INFO: Using EconML Estimator\n",
      "WARNING:dowhy.causal_estimator:Effect modifiers are not a subset of common causes. For efficiency in estimation, EconML will consider all effect modifiers as common causes too.\n",
      "INFO:dowhy.causal_estimator:b: dummy_outcome~t1+w3+w2+x1+x2 | x1,x2\n",
      "INFO:dowhy.causal_estimator:INFO: Using EconML Estimator\n",
      "WARNING:dowhy.causal_estimator:Effect modifiers are not a subset of common causes. For efficiency in estimation, EconML will consider all effect modifiers as common causes too.\n",
      "INFO:dowhy.causal_estimator:b: dummy_outcome~t1+w3+w2+x1+x2 | x1,x2\n",
      "INFO:dowhy.causal_estimator:INFO: Using EconML Estimator\n",
      "WARNING:dowhy.causal_estimator:Effect modifiers are not a subset of common causes. For efficiency in estimation, EconML will consider all effect modifiers as common causes too.\n",
      "INFO:dowhy.causal_estimator:b: dummy_outcome~t1+w3+w2+x1+x2 | x1,x2\n",
      "INFO:dowhy.causal_estimator:INFO: Using EconML Estimator\n",
      "WARNING:dowhy.causal_estimator:Effect modifiers are not a subset of common causes. For efficiency in estimation, EconML will consider all effect modifiers as common causes too.\n",
      "INFO:dowhy.causal_estimator:b: dummy_outcome~t1+w3+w2+x1+x2 | x1,x2\n",
      "INFO:dowhy.causal_estimator:INFO: Using EconML Estimator\n",
      "WARNING:dowhy.causal_estimator:Effect modifiers are not a subset of common causes. For efficiency in estimation, EconML will consider all effect modifiers as common causes too.\n",
      "INFO:dowhy.causal_estimator:b: dummy_outcome~t1+w3+w2+x1+x2 | x1,x2\n",
      "INFO:dowhy.causal_estimator:INFO: Using EconML Estimator\n",
      "WARNING:dowhy.causal_estimator:Effect modifiers are not a subset of common causes. For efficiency in estimation, EconML will consider all effect modifiers as common causes too.\n",
      "INFO:dowhy.causal_estimator:b: dummy_outcome~t1+w3+w2+x1+x2 | x1,x2\n",
      "WARNING:dowhy.causal_refuters.dummy_outcome_refuter:We assume a Normal Distribution as the sample has less than 100 examples.\n",
      "                 Note: The underlying distribution may not be Normal. We assume that it approaches normal with the increase in sample size.\n",
      "WARNING:dowhy.causal_refuters.dummy_outcome_refuter:We assume a Normal Distribution as the sample has less than 100 examples.\n",
      "                 Note: The underlying distribution may not be Normal. We assume that it approaches normal with the increase in sample size.\n",
      "WARNING:dowhy.causal_model:Causal Graph not provided. DoWhy will construct a graph based on data inputs.\n",
      "INFO:dowhy.causal_graph:If this is observed data (not from a randomized experiment), there might always be missing confounders. Adding a node named \"Unobserved Confounders\" to reflect this.\n",
      "INFO:dowhy.causal_model:Model to find the causal effect of treatment ['t1'] on outcome ['y']\n",
      "WARNING:dowhy.causal_identifier:If this is observed data (not from a randomized experiment), there might always be missing confounders. Causal effect cannot be identified perfectly.\n",
      "INFO:dowhy.causal_identifier:Continuing by ignoring these unobserved confounders because proceed_when_unidentifiable flag is True.\n",
      "INFO:dowhy.causal_identifier:Instrumental variables for treatment and outcome:[]\n",
      "INFO:dowhy.causal_identifier:Frontdoor variables for treatment and outcome:[]\n",
      "INFO:dowhy.causal_estimator:b: y~t1+w3+w2+t1*x1+t1*x2\n",
      "INFO:dowhy.causal_estimator:INFO: Using Linear Regression Estimator\n",
      "INFO:dowhy.causal_estimator:INFO: Using Propensity Score Matching Estimator\n",
      "INFO:dowhy.causal_estimator:b: y~t1+w3+w2\n"
     ]
    },
    {
     "name": "stdout",
     "output_type": "stream",
     "text": [
      "printing refute's type\n",
      "<class 'list'>\n",
      "estimated effect [0.5, 0.5, 0.5, 0.5, 0.5]\n",
      "new_effect [8.00478576057186, 9.056765595264668, 12.736520869376582, 8.06222164142277, 4.915760196002481]\n",
      "p_value [0.06457354680892857, 0.1308871899547559, 0.08975338367769542, 0.21174377930539395, 0.2689411461720407]\n",
      "true value -0.2834943286208714\n",
      "\n",
      "\n",
      "Running Experiment Number: 7\n",
      "\n",
      "\n",
      "Current Sample Size: 1000\n",
      "\n",
      "\n",
      "The current DGP:\n",
      "\n",
      "        Linear Data Generating Process\n",
      "        -------------------------------\n",
      "        \n",
      "        treatment:['t1']\n",
      "        outcome:['y']\n",
      "        confounder: ['w1', 'w2', 'w3', 'w4', 'w5', 'w6']\n",
      "        effect_modifier: ['x1', 'x2']\n",
      "        weights: {'confounder=>treatment': array([[100.4617172 ],\n",
      "       [ -0.3511453 ],\n",
      "       [  1.68591761],\n",
      "       [  0.72115749],\n",
      "       [ -1.04550055],\n",
      "       [  1.62626918]]), 'confounder=>outcome': array([[ 1.00299028e+02],\n",
      "       [-8.24910198e-01],\n",
      "       [-1.23584859e+00],\n",
      "       [ 1.57282627e+00],\n",
      "       [ 1.65191493e+00],\n",
      "       [-5.69747788e-02]]), 'effect_modifier=>outcome': array([[1.13829469],\n",
      "       [1.57910618]]), 'treatment=>outcome': array([[-0.28349433]])}\n",
      "        bias: {'confounder=>treatment': array([0.57217356]), 'confounder=>outcome': array([0.85793605])}\n",
      "        seed: None\n",
      "        treatment_is_binary: True\n",
      "        percentile: 0.9\n",
      "        \n",
      "printing data shape\n",
      "(1000, 10)\n",
      "[-0.36542613]\n",
      "check\n",
      "printing length of confounder list: 2\n",
      "printing confounder list: ['w2', 'w3']\n",
      "data columns\n",
      "data columns Index(['x1', 'x2', 'w1', 'w2', 'w3', 'w4', 'w5', 'w6', 't1', 'y'], dtype='object')\n",
      "identified_estimand: Estimand type: nonparametric-ate\n",
      "\n",
      "### Estimand : 1\n",
      "Estimand name: backdoor1 (Default)\n",
      "Estimand expression:\n",
      "  d                        \n",
      "─────(Expectation(y|w3,w2))\n",
      "d[t₁]                      \n",
      "Estimand assumption 1, Unconfoundedness: If U→{t1} and U→y then P(y|t1,w3,w2,U) = P(y|t1,w3,w2)\n",
      "\n",
      "### Estimand : 2\n",
      "Estimand name: iv\n",
      "No such variable found!\n",
      "\n",
      "### Estimand : 3\n",
      "Estimand name: frontdoor\n",
      "No such variable found!\n",
      "\n",
      "\n",
      "\n",
      "Running the estimators:\n",
      "\n",
      "The current estimator: Estimator(name='backdoor.linear_regression', params=None)\n",
      "estimator.params None\n",
      "printing estimate's type\n",
      "<class 'dowhy.causal_estimator.CausalEstimate'>\n",
      "The current estimator: Estimator(name='backdoor.propensity_score_matching', params={'init_params': {}})\n",
      "estimator.params {'init_params': {}}\n"
     ]
    },
    {
     "name": "stderr",
     "output_type": "stream",
     "text": [
      "INFO:dowhy.causal_estimator:INFO: Using Propensity Score Weighting Estimator\n",
      "INFO:dowhy.causal_estimator:b: y~t1+w3+w2\n",
      "INFO:dowhy.causal_estimator:INFO: Using EconML Estimator\n",
      "WARNING:dowhy.causal_estimator:Effect modifiers are not a subset of common causes. For efficiency in estimation, EconML will consider all effect modifiers as common causes too.\n",
      "INFO:dowhy.causal_estimator:b: y~t1+w3+w2+x1+x2 | x1,x2\n"
     ]
    },
    {
     "name": "stdout",
     "output_type": "stream",
     "text": [
      "printing estimate's type\n",
      "<class 'dowhy.causal_estimator.CausalEstimate'>\n",
      "The current estimator: Estimator(name='backdoor.propensity_score_weighting', params={'init_params': {}})\n",
      "estimator.params {'init_params': {}}\n",
      "printing estimate's type\n",
      "<class 'dowhy.causal_estimator.CausalEstimate'>\n",
      "The current estimator: Estimator(name='backdoor.econml.dml.DML', params={'init_params': {'model_y': GradientBoostingRegressor(), 'model_t': GradientBoostingRegressor(), 'model_final': LassoCV(), 'featurizer': PolynomialFeatures(degree=1)}, 'fit_params': {}, '_econml_methodname': 'econml.dml.DML'})\n",
      "estimator.params {'init_params': {'model_y': GradientBoostingRegressor(), 'model_t': GradientBoostingRegressor(), 'model_final': LassoCV(), 'featurizer': PolynomialFeatures(degree=1)}, 'fit_params': {}, '_econml_methodname': 'econml.dml.DML'}\n"
     ]
    },
    {
     "name": "stderr",
     "output_type": "stream",
     "text": [
      "INFO:dowhy.causal_estimator:INFO: Using EconML Estimator\n",
      "WARNING:dowhy.causal_estimator:Effect modifiers are not a subset of common causes. For efficiency in estimation, EconML will consider all effect modifiers as common causes too.\n",
      "INFO:dowhy.causal_estimator:b: y~t1+w3+w2+x1+x2 | x1,x2\n"
     ]
    },
    {
     "name": "stdout",
     "output_type": "stream",
     "text": [
      "printing estimate's type\n",
      "<class 'dowhy.causal_estimator.CausalEstimate'>\n",
      "The current estimator: Estimator(name='backdoor.econml.drlearner.LinearDRLearner', params={'init_params': {'model_propensity': LogisticRegressionCV(cv=3)}, 'fit_params': {}, '_econml_methodname': 'econml.drlearner.LinearDRLearner'})\n",
      "estimator.params {'init_params': {'model_propensity': LogisticRegressionCV(cv=3)}, 'fit_params': {}, '_econml_methodname': 'econml.drlearner.LinearDRLearner'}\n"
     ]
    },
    {
     "name": "stderr",
     "output_type": "stream",
     "text": [
      "INFO:dowhy.causal_refuters.add_unobserved_common_cause:All variables required: Running bootstrap adding noise to confounders, instrumental variables and effect modifiers.\n"
     ]
    },
    {
     "name": "stdout",
     "output_type": "stream",
     "text": [
      "printing estimate's type\n",
      "<class 'dowhy.causal_estimator.CausalEstimate'>\n",
      "estimate_values [62.025216801367705, 61.03896835065978, 62.170898327673726, 48.81600969497826, 61.87093458889445]\n",
      "\n",
      "\n",
      "Running the refuters:\n",
      "\n",
      "The current refuter: Refuter(name='dummy_outcome_refuter', params={'num_simulations': 5, 'transformation_list': [('random_forest', {'n_estimators': 100, 'max_depth': 6})], 'true_causal_effect': <function <lambda> at 0x0000022829325828>, 'unobserved_confounder_values': 0     -1863.802856\n",
      "1     -2366.480278\n",
      "2      4576.280095\n",
      "3     -1382.989955\n",
      "4     -2231.599923\n",
      "          ...     \n",
      "995   -1852.808531\n",
      "996   -1425.744907\n",
      "997   -1944.293190\n",
      "998     355.202186\n",
      "999   -2007.014647\n",
      "Length: 1000, dtype: float64})\n",
      "********%%%%%%%%%$$$$$&&^**^^^^*^*^*\n",
      "add_unobserved_confounder <dowhy.causal_refuters.add_unobserved_common_cause.AddUnobservedCommonCause object at 0x0000022874D5EC48>\n"
     ]
    },
    {
     "name": "stderr",
     "output_type": "stream",
     "text": [
      "INFO:dowhy.causal_refuter:All variables required: Running bootstrap adding noise to confounders, instrumental variables and effect modifiers.\n",
      "INFO:dowhy.causal_refuters.dummy_outcome_refuter:Refutation over 5 simulated datasets\n",
      "INFO:dowhy.causal_refuters.dummy_outcome_refuter:The transformation passed: [('random_forest', {'n_estimators': 100, 'max_depth': 6})]\n"
     ]
    },
    {
     "name": "stdout",
     "output_type": "stream",
     "text": [
      "refuter.params {'num_simulations': 5, 'transformation_list': [('random_forest', {'n_estimators': 100, 'max_depth': 6})], 'true_causal_effect': <function <lambda> at 0x0000022829325828>, 'unobserved_confounder_values': 0     -2211.251624\n",
      "1     -3418.202460\n",
      "2     -1464.773087\n",
      "3      1097.580378\n",
      "4      2600.955072\n",
      "          ...     \n",
      "995    1167.293078\n",
      "996   -1531.772873\n",
      "997     444.188242\n",
      "998   -2100.814026\n",
      "999    1114.936148\n",
      "Length: 1000, dtype: float64}\n"
     ]
    },
    {
     "name": "stderr",
     "output_type": "stream",
     "text": [
      "INFO:dowhy.causal_estimator:b: dummy_outcome~t1+w3+w2+t1*x1+t1*x2\n",
      "INFO:dowhy.causal_estimator:INFO: Using Linear Regression Estimator\n",
      "INFO:dowhy.causal_estimator:b: dummy_outcome~t1+w3+w2+t1*x1+t1*x2\n",
      "INFO:dowhy.causal_estimator:INFO: Using Linear Regression Estimator\n",
      "INFO:dowhy.causal_estimator:b: dummy_outcome~t1+w3+w2+t1*x1+t1*x2\n",
      "INFO:dowhy.causal_estimator:INFO: Using Linear Regression Estimator\n",
      "INFO:dowhy.causal_estimator:b: dummy_outcome~t1+w3+w2+t1*x1+t1*x2\n",
      "INFO:dowhy.causal_estimator:INFO: Using Linear Regression Estimator\n",
      "INFO:dowhy.causal_estimator:b: dummy_outcome~t1+w3+w2+t1*x1+t1*x2\n",
      "INFO:dowhy.causal_estimator:INFO: Using Linear Regression Estimator\n",
      "INFO:dowhy.causal_estimator:b: dummy_outcome~t1+w3+w2+t1*x1+t1*x2\n",
      "INFO:dowhy.causal_estimator:INFO: Using Linear Regression Estimator\n",
      "INFO:dowhy.causal_estimator:b: dummy_outcome~t1+w3+w2+t1*x1+t1*x2\n",
      "INFO:dowhy.causal_estimator:INFO: Using Linear Regression Estimator\n",
      "INFO:dowhy.causal_estimator:b: dummy_outcome~t1+w3+w2+t1*x1+t1*x2\n",
      "INFO:dowhy.causal_estimator:INFO: Using Linear Regression Estimator\n",
      "INFO:dowhy.causal_estimator:b: dummy_outcome~t1+w3+w2+t1*x1+t1*x2\n",
      "INFO:dowhy.causal_estimator:INFO: Using Linear Regression Estimator\n",
      "INFO:dowhy.causal_estimator:b: dummy_outcome~t1+w3+w2+t1*x1+t1*x2\n",
      "INFO:dowhy.causal_estimator:INFO: Using Linear Regression Estimator\n",
      "WARNING:dowhy.causal_refuters.dummy_outcome_refuter:We assume a Normal Distribution as the sample has less than 100 examples.\n",
      "                 Note: The underlying distribution may not be Normal. We assume that it approaches normal with the increase in sample size.\n",
      "WARNING:dowhy.causal_refuters.dummy_outcome_refuter:We assume a Normal Distribution as the sample has less than 100 examples.\n",
      "                 Note: The underlying distribution may not be Normal. We assume that it approaches normal with the increase in sample size.\n",
      "INFO:dowhy.causal_refuters.add_unobserved_common_cause:All variables required: Running bootstrap adding noise to confounders, instrumental variables and effect modifiers.\n"
     ]
    },
    {
     "name": "stdout",
     "output_type": "stream",
     "text": [
      "printing refute's type\n",
      "<class 'list'>\n",
      "********%%%%%%%%%$$$$$&&^**^^^^*^*^*\n",
      "add_unobserved_confounder <dowhy.causal_refuters.add_unobserved_common_cause.AddUnobservedCommonCause object at 0x00000228732F7748>\n"
     ]
    },
    {
     "name": "stderr",
     "output_type": "stream",
     "text": [
      "INFO:dowhy.causal_refuter:All variables required: Running bootstrap adding noise to confounders, instrumental variables and effect modifiers.\n",
      "INFO:dowhy.causal_refuters.dummy_outcome_refuter:Refutation over 5 simulated datasets\n",
      "INFO:dowhy.causal_refuters.dummy_outcome_refuter:The transformation passed: [('random_forest', {'n_estimators': 100, 'max_depth': 6})]\n"
     ]
    },
    {
     "name": "stdout",
     "output_type": "stream",
     "text": [
      "refuter.params {'num_simulations': 5, 'transformation_list': [('random_forest', {'n_estimators': 100, 'max_depth': 6})], 'true_causal_effect': <function <lambda> at 0x0000022829325828>, 'unobserved_confounder_values': 0     -2210.145388\n",
      "1     -3419.934997\n",
      "2     -1464.192929\n",
      "3      1097.448427\n",
      "4      2600.339183\n",
      "          ...     \n",
      "995    1166.885082\n",
      "996   -1532.956471\n",
      "997     443.691996\n",
      "998   -2100.519337\n",
      "999    1116.705053\n",
      "Length: 1000, dtype: float64}\n"
     ]
    },
    {
     "name": "stderr",
     "output_type": "stream",
     "text": [
      "INFO:dowhy.causal_estimator:INFO: Using Propensity Score Matching Estimator\n",
      "INFO:dowhy.causal_estimator:b: dummy_outcome~t1+w3+w2\n",
      "INFO:dowhy.causal_estimator:INFO: Using Propensity Score Matching Estimator\n",
      "INFO:dowhy.causal_estimator:b: dummy_outcome~t1+w3+w2\n",
      "INFO:dowhy.causal_estimator:INFO: Using Propensity Score Matching Estimator\n",
      "INFO:dowhy.causal_estimator:b: dummy_outcome~t1+w3+w2\n",
      "INFO:dowhy.causal_estimator:INFO: Using Propensity Score Matching Estimator\n",
      "INFO:dowhy.causal_estimator:b: dummy_outcome~t1+w3+w2\n",
      "INFO:dowhy.causal_estimator:INFO: Using Propensity Score Matching Estimator\n",
      "INFO:dowhy.causal_estimator:b: dummy_outcome~t1+w3+w2\n",
      "INFO:dowhy.causal_estimator:INFO: Using Propensity Score Matching Estimator\n",
      "INFO:dowhy.causal_estimator:b: dummy_outcome~t1+w3+w2\n",
      "INFO:dowhy.causal_estimator:INFO: Using Propensity Score Matching Estimator\n",
      "INFO:dowhy.causal_estimator:b: dummy_outcome~t1+w3+w2\n",
      "INFO:dowhy.causal_estimator:INFO: Using Propensity Score Matching Estimator\n",
      "INFO:dowhy.causal_estimator:b: dummy_outcome~t1+w3+w2\n",
      "INFO:dowhy.causal_estimator:INFO: Using Propensity Score Matching Estimator\n",
      "INFO:dowhy.causal_estimator:b: dummy_outcome~t1+w3+w2\n",
      "INFO:dowhy.causal_estimator:INFO: Using Propensity Score Matching Estimator\n",
      "INFO:dowhy.causal_estimator:b: dummy_outcome~t1+w3+w2\n",
      "WARNING:dowhy.causal_refuters.dummy_outcome_refuter:We assume a Normal Distribution as the sample has less than 100 examples.\n",
      "                 Note: The underlying distribution may not be Normal. We assume that it approaches normal with the increase in sample size.\n",
      "WARNING:dowhy.causal_refuters.dummy_outcome_refuter:We assume a Normal Distribution as the sample has less than 100 examples.\n",
      "                 Note: The underlying distribution may not be Normal. We assume that it approaches normal with the increase in sample size.\n",
      "INFO:dowhy.causal_refuters.add_unobserved_common_cause:All variables required: Running bootstrap adding noise to confounders, instrumental variables and effect modifiers.\n"
     ]
    },
    {
     "name": "stdout",
     "output_type": "stream",
     "text": [
      "printing refute's type\n",
      "<class 'list'>\n",
      "********%%%%%%%%%$$$$$&&^**^^^^*^*^*\n",
      "add_unobserved_confounder <dowhy.causal_refuters.add_unobserved_common_cause.AddUnobservedCommonCause object at 0x00000228735F9888>\n"
     ]
    },
    {
     "name": "stderr",
     "output_type": "stream",
     "text": [
      "INFO:dowhy.causal_refuter:All variables required: Running bootstrap adding noise to confounders, instrumental variables and effect modifiers.\n",
      "INFO:dowhy.causal_refuters.dummy_outcome_refuter:Refutation over 5 simulated datasets\n",
      "INFO:dowhy.causal_refuters.dummy_outcome_refuter:The transformation passed: [('random_forest', {'n_estimators': 100, 'max_depth': 6})]\n"
     ]
    },
    {
     "name": "stdout",
     "output_type": "stream",
     "text": [
      "refuter.params {'num_simulations': 5, 'transformation_list': [('random_forest', {'n_estimators': 100, 'max_depth': 6})], 'true_causal_effect': <function <lambda> at 0x0000022829325828>, 'unobserved_confounder_values': 0     -2210.016615\n",
      "1     -3418.511114\n",
      "2     -1464.984834\n",
      "3      1096.719967\n",
      "4      2601.190324\n",
      "          ...     \n",
      "995    1165.913331\n",
      "996   -1530.211587\n",
      "997     443.893923\n",
      "998   -2100.070521\n",
      "999    1113.922397\n",
      "Length: 1000, dtype: float64}\n"
     ]
    },
    {
     "name": "stderr",
     "output_type": "stream",
     "text": [
      "INFO:dowhy.causal_estimator:INFO: Using Propensity Score Weighting Estimator\n",
      "INFO:dowhy.causal_estimator:b: dummy_outcome~t1+w3+w2\n",
      "INFO:dowhy.causal_estimator:INFO: Using Propensity Score Weighting Estimator\n",
      "INFO:dowhy.causal_estimator:b: dummy_outcome~t1+w3+w2\n",
      "INFO:dowhy.causal_estimator:INFO: Using Propensity Score Weighting Estimator\n",
      "INFO:dowhy.causal_estimator:b: dummy_outcome~t1+w3+w2\n",
      "INFO:dowhy.causal_estimator:INFO: Using Propensity Score Weighting Estimator\n",
      "INFO:dowhy.causal_estimator:b: dummy_outcome~t1+w3+w2\n",
      "INFO:dowhy.causal_estimator:INFO: Using Propensity Score Weighting Estimator\n",
      "INFO:dowhy.causal_estimator:b: dummy_outcome~t1+w3+w2\n",
      "INFO:dowhy.causal_estimator:INFO: Using Propensity Score Weighting Estimator\n",
      "INFO:dowhy.causal_estimator:b: dummy_outcome~t1+w3+w2\n",
      "INFO:dowhy.causal_estimator:INFO: Using Propensity Score Weighting Estimator\n",
      "INFO:dowhy.causal_estimator:b: dummy_outcome~t1+w3+w2\n",
      "INFO:dowhy.causal_estimator:INFO: Using Propensity Score Weighting Estimator\n",
      "INFO:dowhy.causal_estimator:b: dummy_outcome~t1+w3+w2\n",
      "INFO:dowhy.causal_estimator:INFO: Using Propensity Score Weighting Estimator\n",
      "INFO:dowhy.causal_estimator:b: dummy_outcome~t1+w3+w2\n",
      "INFO:dowhy.causal_estimator:INFO: Using Propensity Score Weighting Estimator\n",
      "INFO:dowhy.causal_estimator:b: dummy_outcome~t1+w3+w2\n",
      "WARNING:dowhy.causal_refuters.dummy_outcome_refuter:We assume a Normal Distribution as the sample has less than 100 examples.\n",
      "                 Note: The underlying distribution may not be Normal. We assume that it approaches normal with the increase in sample size.\n",
      "WARNING:dowhy.causal_refuters.dummy_outcome_refuter:We assume a Normal Distribution as the sample has less than 100 examples.\n",
      "                 Note: The underlying distribution may not be Normal. We assume that it approaches normal with the increase in sample size.\n",
      "INFO:dowhy.causal_refuters.add_unobserved_common_cause:All variables required: Running bootstrap adding noise to confounders, instrumental variables and effect modifiers.\n"
     ]
    },
    {
     "name": "stdout",
     "output_type": "stream",
     "text": [
      "printing refute's type\n",
      "<class 'list'>\n",
      "********%%%%%%%%%$$$$$&&^**^^^^*^*^*\n",
      "add_unobserved_confounder <dowhy.causal_refuters.add_unobserved_common_cause.AddUnobservedCommonCause object at 0x0000022872109D08>\n"
     ]
    },
    {
     "name": "stderr",
     "output_type": "stream",
     "text": [
      "INFO:dowhy.causal_refuter:All variables required: Running bootstrap adding noise to confounders, instrumental variables and effect modifiers.\n",
      "INFO:dowhy.causal_refuters.dummy_outcome_refuter:Refutation over 5 simulated datasets\n",
      "INFO:dowhy.causal_refuters.dummy_outcome_refuter:The transformation passed: [('random_forest', {'n_estimators': 100, 'max_depth': 6})]\n"
     ]
    },
    {
     "name": "stdout",
     "output_type": "stream",
     "text": [
      "refuter.params {'num_simulations': 5, 'transformation_list': [('random_forest', {'n_estimators': 100, 'max_depth': 6})], 'true_causal_effect': <function <lambda> at 0x0000022829325828>, 'unobserved_confounder_values': 0     -2211.057871\n",
      "1     -3418.720233\n",
      "2     -1466.598597\n",
      "3      1097.453336\n",
      "4      2601.374979\n",
      "          ...     \n",
      "995    1168.954920\n",
      "996   -1533.397168\n",
      "997     444.971123\n",
      "998   -2101.333788\n",
      "999    1115.790399\n",
      "Length: 1000, dtype: float64}\n"
     ]
    },
    {
     "name": "stderr",
     "output_type": "stream",
     "text": [
      "INFO:dowhy.causal_estimator:INFO: Using EconML Estimator\n",
      "WARNING:dowhy.causal_estimator:Effect modifiers are not a subset of common causes. For efficiency in estimation, EconML will consider all effect modifiers as common causes too.\n",
      "INFO:dowhy.causal_estimator:b: dummy_outcome~t1+w3+w2+x1+x2 | x1,x2\n",
      "INFO:dowhy.causal_estimator:INFO: Using EconML Estimator\n",
      "WARNING:dowhy.causal_estimator:Effect modifiers are not a subset of common causes. For efficiency in estimation, EconML will consider all effect modifiers as common causes too.\n",
      "INFO:dowhy.causal_estimator:b: dummy_outcome~t1+w3+w2+x1+x2 | x1,x2\n",
      "INFO:dowhy.causal_estimator:INFO: Using EconML Estimator\n",
      "WARNING:dowhy.causal_estimator:Effect modifiers are not a subset of common causes. For efficiency in estimation, EconML will consider all effect modifiers as common causes too.\n",
      "INFO:dowhy.causal_estimator:b: dummy_outcome~t1+w3+w2+x1+x2 | x1,x2\n",
      "INFO:dowhy.causal_estimator:INFO: Using EconML Estimator\n",
      "WARNING:dowhy.causal_estimator:Effect modifiers are not a subset of common causes. For efficiency in estimation, EconML will consider all effect modifiers as common causes too.\n",
      "INFO:dowhy.causal_estimator:b: dummy_outcome~t1+w3+w2+x1+x2 | x1,x2\n",
      "INFO:dowhy.causal_estimator:INFO: Using EconML Estimator\n",
      "WARNING:dowhy.causal_estimator:Effect modifiers are not a subset of common causes. For efficiency in estimation, EconML will consider all effect modifiers as common causes too.\n",
      "INFO:dowhy.causal_estimator:b: dummy_outcome~t1+w3+w2+x1+x2 | x1,x2\n",
      "INFO:dowhy.causal_estimator:INFO: Using EconML Estimator\n",
      "WARNING:dowhy.causal_estimator:Effect modifiers are not a subset of common causes. For efficiency in estimation, EconML will consider all effect modifiers as common causes too.\n",
      "INFO:dowhy.causal_estimator:b: dummy_outcome~t1+w3+w2+x1+x2 | x1,x2\n",
      "INFO:dowhy.causal_estimator:INFO: Using EconML Estimator\n",
      "WARNING:dowhy.causal_estimator:Effect modifiers are not a subset of common causes. For efficiency in estimation, EconML will consider all effect modifiers as common causes too.\n",
      "INFO:dowhy.causal_estimator:b: dummy_outcome~t1+w3+w2+x1+x2 | x1,x2\n",
      "INFO:dowhy.causal_estimator:INFO: Using EconML Estimator\n",
      "WARNING:dowhy.causal_estimator:Effect modifiers are not a subset of common causes. For efficiency in estimation, EconML will consider all effect modifiers as common causes too.\n",
      "INFO:dowhy.causal_estimator:b: dummy_outcome~t1+w3+w2+x1+x2 | x1,x2\n",
      "INFO:dowhy.causal_estimator:INFO: Using EconML Estimator\n",
      "WARNING:dowhy.causal_estimator:Effect modifiers are not a subset of common causes. For efficiency in estimation, EconML will consider all effect modifiers as common causes too.\n",
      "INFO:dowhy.causal_estimator:b: dummy_outcome~t1+w3+w2+x1+x2 | x1,x2\n",
      "INFO:dowhy.causal_estimator:INFO: Using EconML Estimator\n",
      "WARNING:dowhy.causal_estimator:Effect modifiers are not a subset of common causes. For efficiency in estimation, EconML will consider all effect modifiers as common causes too.\n",
      "INFO:dowhy.causal_estimator:b: dummy_outcome~t1+w3+w2+x1+x2 | x1,x2\n",
      "WARNING:dowhy.causal_refuters.dummy_outcome_refuter:We assume a Normal Distribution as the sample has less than 100 examples.\n",
      "                 Note: The underlying distribution may not be Normal. We assume that it approaches normal with the increase in sample size.\n",
      "WARNING:dowhy.causal_refuters.dummy_outcome_refuter:We assume a Normal Distribution as the sample has less than 100 examples.\n",
      "                 Note: The underlying distribution may not be Normal. We assume that it approaches normal with the increase in sample size.\n",
      "INFO:dowhy.causal_refuters.add_unobserved_common_cause:All variables required: Running bootstrap adding noise to confounders, instrumental variables and effect modifiers.\n"
     ]
    },
    {
     "name": "stdout",
     "output_type": "stream",
     "text": [
      "printing refute's type\n",
      "<class 'list'>\n",
      "********%%%%%%%%%$$$$$&&^**^^^^*^*^*\n",
      "add_unobserved_confounder <dowhy.causal_refuters.add_unobserved_common_cause.AddUnobservedCommonCause object at 0x000002287215DE88>\n"
     ]
    },
    {
     "name": "stderr",
     "output_type": "stream",
     "text": [
      "INFO:dowhy.causal_refuter:All variables required: Running bootstrap adding noise to confounders, instrumental variables and effect modifiers.\n",
      "INFO:dowhy.causal_refuters.dummy_outcome_refuter:Refutation over 5 simulated datasets\n",
      "INFO:dowhy.causal_refuters.dummy_outcome_refuter:The transformation passed: [('random_forest', {'n_estimators': 100, 'max_depth': 6})]\n"
     ]
    },
    {
     "name": "stdout",
     "output_type": "stream",
     "text": [
      "refuter.params {'num_simulations': 5, 'transformation_list': [('random_forest', {'n_estimators': 100, 'max_depth': 6})], 'true_causal_effect': <function <lambda> at 0x0000022829325828>, 'unobserved_confounder_values': 0     -2210.333385\n",
      "1     -3418.401141\n",
      "2     -1463.480937\n",
      "3      1098.510332\n",
      "4      2599.024316\n",
      "          ...     \n",
      "995    1168.286543\n",
      "996   -1532.835618\n",
      "997     445.731650\n",
      "998   -2098.824264\n",
      "999    1114.938970\n",
      "Length: 1000, dtype: float64}\n"
     ]
    },
    {
     "name": "stderr",
     "output_type": "stream",
     "text": [
      "INFO:dowhy.causal_estimator:INFO: Using EconML Estimator\n",
      "WARNING:dowhy.causal_estimator:Effect modifiers are not a subset of common causes. For efficiency in estimation, EconML will consider all effect modifiers as common causes too.\n",
      "INFO:dowhy.causal_estimator:b: dummy_outcome~t1+w3+w2+x1+x2 | x1,x2\n",
      "INFO:dowhy.causal_estimator:INFO: Using EconML Estimator\n",
      "WARNING:dowhy.causal_estimator:Effect modifiers are not a subset of common causes. For efficiency in estimation, EconML will consider all effect modifiers as common causes too.\n",
      "INFO:dowhy.causal_estimator:b: dummy_outcome~t1+w3+w2+x1+x2 | x1,x2\n",
      "INFO:dowhy.causal_estimator:INFO: Using EconML Estimator\n",
      "WARNING:dowhy.causal_estimator:Effect modifiers are not a subset of common causes. For efficiency in estimation, EconML will consider all effect modifiers as common causes too.\n",
      "INFO:dowhy.causal_estimator:b: dummy_outcome~t1+w3+w2+x1+x2 | x1,x2\n",
      "INFO:dowhy.causal_estimator:INFO: Using EconML Estimator\n",
      "WARNING:dowhy.causal_estimator:Effect modifiers are not a subset of common causes. For efficiency in estimation, EconML will consider all effect modifiers as common causes too.\n",
      "INFO:dowhy.causal_estimator:b: dummy_outcome~t1+w3+w2+x1+x2 | x1,x2\n",
      "INFO:dowhy.causal_estimator:INFO: Using EconML Estimator\n",
      "WARNING:dowhy.causal_estimator:Effect modifiers are not a subset of common causes. For efficiency in estimation, EconML will consider all effect modifiers as common causes too.\n",
      "INFO:dowhy.causal_estimator:b: dummy_outcome~t1+w3+w2+x1+x2 | x1,x2\n",
      "INFO:dowhy.causal_estimator:INFO: Using EconML Estimator\n",
      "WARNING:dowhy.causal_estimator:Effect modifiers are not a subset of common causes. For efficiency in estimation, EconML will consider all effect modifiers as common causes too.\n",
      "INFO:dowhy.causal_estimator:b: dummy_outcome~t1+w3+w2+x1+x2 | x1,x2\n",
      "INFO:dowhy.causal_estimator:INFO: Using EconML Estimator\n",
      "WARNING:dowhy.causal_estimator:Effect modifiers are not a subset of common causes. For efficiency in estimation, EconML will consider all effect modifiers as common causes too.\n",
      "INFO:dowhy.causal_estimator:b: dummy_outcome~t1+w3+w2+x1+x2 | x1,x2\n",
      "INFO:dowhy.causal_estimator:INFO: Using EconML Estimator\n",
      "WARNING:dowhy.causal_estimator:Effect modifiers are not a subset of common causes. For efficiency in estimation, EconML will consider all effect modifiers as common causes too.\n",
      "INFO:dowhy.causal_estimator:b: dummy_outcome~t1+w3+w2+x1+x2 | x1,x2\n",
      "INFO:dowhy.causal_estimator:INFO: Using EconML Estimator\n",
      "WARNING:dowhy.causal_estimator:Effect modifiers are not a subset of common causes. For efficiency in estimation, EconML will consider all effect modifiers as common causes too.\n",
      "INFO:dowhy.causal_estimator:b: dummy_outcome~t1+w3+w2+x1+x2 | x1,x2\n",
      "INFO:dowhy.causal_estimator:INFO: Using EconML Estimator\n",
      "WARNING:dowhy.causal_estimator:Effect modifiers are not a subset of common causes. For efficiency in estimation, EconML will consider all effect modifiers as common causes too.\n",
      "INFO:dowhy.causal_estimator:b: dummy_outcome~t1+w3+w2+x1+x2 | x1,x2\n",
      "WARNING:dowhy.causal_refuters.dummy_outcome_refuter:We assume a Normal Distribution as the sample has less than 100 examples.\n",
      "                 Note: The underlying distribution may not be Normal. We assume that it approaches normal with the increase in sample size.\n",
      "WARNING:dowhy.causal_refuters.dummy_outcome_refuter:We assume a Normal Distribution as the sample has less than 100 examples.\n",
      "                 Note: The underlying distribution may not be Normal. We assume that it approaches normal with the increase in sample size.\n",
      "WARNING:dowhy.causal_model:Causal Graph not provided. DoWhy will construct a graph based on data inputs.\n",
      "INFO:dowhy.causal_graph:If this is observed data (not from a randomized experiment), there might always be missing confounders. Adding a node named \"Unobserved Confounders\" to reflect this.\n",
      "INFO:dowhy.causal_model:Model to find the causal effect of treatment ['t1'] on outcome ['y']\n",
      "WARNING:dowhy.causal_identifier:If this is observed data (not from a randomized experiment), there might always be missing confounders. Causal effect cannot be identified perfectly.\n",
      "INFO:dowhy.causal_identifier:Continuing by ignoring these unobserved confounders because proceed_when_unidentifiable flag is True.\n",
      "INFO:dowhy.causal_identifier:Instrumental variables for treatment and outcome:[]\n",
      "INFO:dowhy.causal_identifier:Frontdoor variables for treatment and outcome:[]\n",
      "INFO:dowhy.causal_estimator:b: y~t1+w3+w2+t1*x1+t1*x2\n",
      "INFO:dowhy.causal_estimator:INFO: Using Linear Regression Estimator\n",
      "INFO:dowhy.causal_estimator:INFO: Using Propensity Score Matching Estimator\n",
      "INFO:dowhy.causal_estimator:b: y~t1+w3+w2\n"
     ]
    },
    {
     "name": "stdout",
     "output_type": "stream",
     "text": [
      "printing refute's type\n",
      "<class 'list'>\n",
      "estimated effect [0.5, 0.5, 0.5, 0.5, 0.5]\n",
      "new_effect [3.1924236151443353, 7.158130666308523, -0.1173293981450465, 2.920494776320211, -5.036165864849269]\n",
      "p_value [0.3965386931871492, 0.3029754262839074, 0.4687801563617503, 0.3845085932707414, 0.33248050573884036]\n",
      "true value -0.36542613230371634\n",
      "\n",
      "\n",
      "Running Experiment Number: 8\n",
      "\n",
      "\n",
      "Current Sample Size: 1000\n",
      "\n",
      "\n",
      "The current DGP:\n",
      "\n",
      "        Linear Data Generating Process\n",
      "        -------------------------------\n",
      "        \n",
      "        treatment:['t1']\n",
      "        outcome:['y']\n",
      "        confounder: ['w1', 'w2', 'w3', 'w4', 'w5', 'w6']\n",
      "        effect_modifier: ['x1', 'x2']\n",
      "        weights: {'confounder=>treatment': array([[ 1.00199398e+02],\n",
      "       [-1.02117949e+00],\n",
      "       [-4.97840186e-01],\n",
      "       [ 3.71416858e-01],\n",
      "       [-7.90720786e-01],\n",
      "       [-7.70909067e-02]]), 'confounder=>outcome': array([[98.1255774 ],\n",
      "       [-1.16050815],\n",
      "       [ 2.84982643],\n",
      "       [ 0.55545746],\n",
      "       [-0.36334986],\n",
      "       [ 1.12114618]]), 'effect_modifier=>outcome': array([[-0.2999026 ],\n",
      "       [ 1.63715625]]), 'treatment=>outcome': array([[-0.36542613]])}\n",
      "        bias: {'confounder=>treatment': array([-0.60300987]), 'confounder=>outcome': array([3.81415011])}\n",
      "        seed: None\n",
      "        treatment_is_binary: True\n",
      "        percentile: 0.9\n",
      "        \n",
      "printing data shape\n",
      "(1000, 10)\n",
      "[-1.42558778]\n",
      "check\n",
      "printing length of confounder list: 2\n",
      "printing confounder list: ['w2', 'w3']\n",
      "data columns\n",
      "data columns Index(['x1', 'x2', 'w1', 'w2', 'w3', 'w4', 'w5', 'w6', 't1', 'y'], dtype='object')\n",
      "identified_estimand: Estimand type: nonparametric-ate\n",
      "\n",
      "### Estimand : 1\n",
      "Estimand name: backdoor1 (Default)\n",
      "Estimand expression:\n",
      "  d                        \n",
      "─────(Expectation(y|w3,w2))\n",
      "d[t₁]                      \n",
      "Estimand assumption 1, Unconfoundedness: If U→{t1} and U→y then P(y|t1,w3,w2,U) = P(y|t1,w3,w2)\n",
      "\n",
      "### Estimand : 2\n",
      "Estimand name: iv\n",
      "No such variable found!\n",
      "\n",
      "### Estimand : 3\n",
      "Estimand name: frontdoor\n",
      "No such variable found!\n",
      "\n",
      "\n",
      "\n",
      "Running the estimators:\n",
      "\n",
      "The current estimator: Estimator(name='backdoor.linear_regression', params=None)\n",
      "estimator.params None\n",
      "printing estimate's type\n",
      "<class 'dowhy.causal_estimator.CausalEstimate'>\n",
      "The current estimator: Estimator(name='backdoor.propensity_score_matching', params={'init_params': {}})\n",
      "estimator.params {'init_params': {}}\n"
     ]
    },
    {
     "name": "stderr",
     "output_type": "stream",
     "text": [
      "INFO:dowhy.causal_estimator:INFO: Using Propensity Score Weighting Estimator\n",
      "INFO:dowhy.causal_estimator:b: y~t1+w3+w2\n",
      "INFO:dowhy.causal_estimator:INFO: Using EconML Estimator\n",
      "WARNING:dowhy.causal_estimator:Effect modifiers are not a subset of common causes. For efficiency in estimation, EconML will consider all effect modifiers as common causes too.\n",
      "INFO:dowhy.causal_estimator:b: y~t1+w3+w2+x1+x2 | x1,x2\n"
     ]
    },
    {
     "name": "stdout",
     "output_type": "stream",
     "text": [
      "printing estimate's type\n",
      "<class 'dowhy.causal_estimator.CausalEstimate'>\n",
      "The current estimator: Estimator(name='backdoor.propensity_score_weighting', params={'init_params': {}})\n",
      "estimator.params {'init_params': {}}\n",
      "printing estimate's type\n",
      "<class 'dowhy.causal_estimator.CausalEstimate'>\n",
      "The current estimator: Estimator(name='backdoor.econml.dml.DML', params={'init_params': {'model_y': GradientBoostingRegressor(), 'model_t': GradientBoostingRegressor(), 'model_final': LassoCV(), 'featurizer': PolynomialFeatures(degree=1)}, 'fit_params': {}, '_econml_methodname': 'econml.dml.DML'})\n",
      "estimator.params {'init_params': {'model_y': GradientBoostingRegressor(), 'model_t': GradientBoostingRegressor(), 'model_final': LassoCV(), 'featurizer': PolynomialFeatures(degree=1)}, 'fit_params': {}, '_econml_methodname': 'econml.dml.DML'}\n"
     ]
    },
    {
     "name": "stderr",
     "output_type": "stream",
     "text": [
      "INFO:dowhy.causal_estimator:INFO: Using EconML Estimator\n",
      "WARNING:dowhy.causal_estimator:Effect modifiers are not a subset of common causes. For efficiency in estimation, EconML will consider all effect modifiers as common causes too.\n",
      "INFO:dowhy.causal_estimator:b: y~t1+w3+w2+x1+x2 | x1,x2\n"
     ]
    },
    {
     "name": "stdout",
     "output_type": "stream",
     "text": [
      "printing estimate's type\n",
      "<class 'dowhy.causal_estimator.CausalEstimate'>\n",
      "The current estimator: Estimator(name='backdoor.econml.drlearner.LinearDRLearner', params={'init_params': {'model_propensity': LogisticRegressionCV(cv=3)}, 'fit_params': {}, '_econml_methodname': 'econml.drlearner.LinearDRLearner'})\n",
      "estimator.params {'init_params': {'model_propensity': LogisticRegressionCV(cv=3)}, 'fit_params': {}, '_econml_methodname': 'econml.drlearner.LinearDRLearner'}\n"
     ]
    },
    {
     "name": "stderr",
     "output_type": "stream",
     "text": [
      "INFO:dowhy.causal_refuters.add_unobserved_common_cause:All variables required: Running bootstrap adding noise to confounders, instrumental variables and effect modifiers.\n"
     ]
    },
    {
     "name": "stdout",
     "output_type": "stream",
     "text": [
      "printing estimate's type\n",
      "<class 'dowhy.causal_estimator.CausalEstimate'>\n",
      "estimate_values [62.743853376361386, 67.15881975141896, 64.60102822220878, 58.36423392523547, 62.507224760332065]\n",
      "\n",
      "\n",
      "Running the refuters:\n",
      "\n",
      "The current refuter: Refuter(name='dummy_outcome_refuter', params={'num_simulations': 5, 'transformation_list': [('random_forest', {'n_estimators': 100, 'max_depth': 6})], 'true_causal_effect': <function <lambda> at 0x0000022829325828>, 'unobserved_confounder_values': 0     -2210.333385\n",
      "1     -3418.401141\n",
      "2     -1463.480937\n",
      "3      1098.510332\n",
      "4      2599.024316\n",
      "          ...     \n",
      "995    1168.286543\n",
      "996   -1532.835618\n",
      "997     445.731650\n",
      "998   -2098.824264\n",
      "999    1114.938970\n",
      "Length: 1000, dtype: float64})\n",
      "********%%%%%%%%%$$$$$&&^**^^^^*^*^*\n",
      "add_unobserved_confounder <dowhy.causal_refuters.add_unobserved_common_cause.AddUnobservedCommonCause object at 0x000002287472AF08>\n"
     ]
    },
    {
     "name": "stderr",
     "output_type": "stream",
     "text": [
      "INFO:dowhy.causal_refuter:All variables required: Running bootstrap adding noise to confounders, instrumental variables and effect modifiers.\n",
      "INFO:dowhy.causal_refuters.dummy_outcome_refuter:Refutation over 5 simulated datasets\n",
      "INFO:dowhy.causal_refuters.dummy_outcome_refuter:The transformation passed: [('random_forest', {'n_estimators': 100, 'max_depth': 6})]\n"
     ]
    },
    {
     "name": "stdout",
     "output_type": "stream",
     "text": [
      "refuter.params {'num_simulations': 5, 'transformation_list': [('random_forest', {'n_estimators': 100, 'max_depth': 6})], 'true_causal_effect': <function <lambda> at 0x0000022829325828>, 'unobserved_confounder_values': 0      1576.467446\n",
      "1       899.612305\n",
      "2      3396.643947\n",
      "3      -207.705229\n",
      "4      2527.613489\n",
      "          ...     \n",
      "995     355.071899\n",
      "996    -257.757240\n",
      "997     771.853222\n",
      "998    1750.068856\n",
      "999     817.328049\n",
      "Length: 1000, dtype: float64}\n"
     ]
    },
    {
     "name": "stderr",
     "output_type": "stream",
     "text": [
      "INFO:dowhy.causal_estimator:b: dummy_outcome~t1+w3+w2+t1*x1+t1*x2\n",
      "INFO:dowhy.causal_estimator:INFO: Using Linear Regression Estimator\n",
      "INFO:dowhy.causal_estimator:b: dummy_outcome~t1+w3+w2+t1*x1+t1*x2\n",
      "INFO:dowhy.causal_estimator:INFO: Using Linear Regression Estimator\n",
      "INFO:dowhy.causal_estimator:b: dummy_outcome~t1+w3+w2+t1*x1+t1*x2\n",
      "INFO:dowhy.causal_estimator:INFO: Using Linear Regression Estimator\n",
      "INFO:dowhy.causal_estimator:b: dummy_outcome~t1+w3+w2+t1*x1+t1*x2\n",
      "INFO:dowhy.causal_estimator:INFO: Using Linear Regression Estimator\n",
      "INFO:dowhy.causal_estimator:b: dummy_outcome~t1+w3+w2+t1*x1+t1*x2\n",
      "INFO:dowhy.causal_estimator:INFO: Using Linear Regression Estimator\n",
      "INFO:dowhy.causal_estimator:b: dummy_outcome~t1+w3+w2+t1*x1+t1*x2\n",
      "INFO:dowhy.causal_estimator:INFO: Using Linear Regression Estimator\n",
      "INFO:dowhy.causal_estimator:b: dummy_outcome~t1+w3+w2+t1*x1+t1*x2\n",
      "INFO:dowhy.causal_estimator:INFO: Using Linear Regression Estimator\n",
      "INFO:dowhy.causal_estimator:b: dummy_outcome~t1+w3+w2+t1*x1+t1*x2\n",
      "INFO:dowhy.causal_estimator:INFO: Using Linear Regression Estimator\n",
      "INFO:dowhy.causal_estimator:b: dummy_outcome~t1+w3+w2+t1*x1+t1*x2\n",
      "INFO:dowhy.causal_estimator:INFO: Using Linear Regression Estimator\n",
      "INFO:dowhy.causal_estimator:b: dummy_outcome~t1+w3+w2+t1*x1+t1*x2\n",
      "INFO:dowhy.causal_estimator:INFO: Using Linear Regression Estimator\n",
      "WARNING:dowhy.causal_refuters.dummy_outcome_refuter:We assume a Normal Distribution as the sample has less than 100 examples.\n",
      "                 Note: The underlying distribution may not be Normal. We assume that it approaches normal with the increase in sample size.\n",
      "WARNING:dowhy.causal_refuters.dummy_outcome_refuter:We assume a Normal Distribution as the sample has less than 100 examples.\n",
      "                 Note: The underlying distribution may not be Normal. We assume that it approaches normal with the increase in sample size.\n",
      "INFO:dowhy.causal_refuters.add_unobserved_common_cause:All variables required: Running bootstrap adding noise to confounders, instrumental variables and effect modifiers.\n"
     ]
    },
    {
     "name": "stdout",
     "output_type": "stream",
     "text": [
      "printing refute's type\n",
      "<class 'list'>\n",
      "********%%%%%%%%%$$$$$&&^**^^^^*^*^*\n",
      "add_unobserved_confounder <dowhy.causal_refuters.add_unobserved_common_cause.AddUnobservedCommonCause object at 0x00000228749B1C48>\n"
     ]
    },
    {
     "name": "stderr",
     "output_type": "stream",
     "text": [
      "INFO:dowhy.causal_refuter:All variables required: Running bootstrap adding noise to confounders, instrumental variables and effect modifiers.\n",
      "INFO:dowhy.causal_refuters.dummy_outcome_refuter:Refutation over 5 simulated datasets\n",
      "INFO:dowhy.causal_refuters.dummy_outcome_refuter:The transformation passed: [('random_forest', {'n_estimators': 100, 'max_depth': 6})]\n"
     ]
    },
    {
     "name": "stdout",
     "output_type": "stream",
     "text": [
      "refuter.params {'num_simulations': 5, 'transformation_list': [('random_forest', {'n_estimators': 100, 'max_depth': 6})], 'true_causal_effect': <function <lambda> at 0x0000022829325828>, 'unobserved_confounder_values': 0      1574.491505\n",
      "1       899.287505\n",
      "2      3398.298772\n",
      "3      -206.092775\n",
      "4      2529.311891\n",
      "          ...     \n",
      "995     354.699720\n",
      "996    -258.647144\n",
      "997     772.235431\n",
      "998    1751.050074\n",
      "999     816.578717\n",
      "Length: 1000, dtype: float64}\n"
     ]
    },
    {
     "name": "stderr",
     "output_type": "stream",
     "text": [
      "INFO:dowhy.causal_estimator:INFO: Using Propensity Score Matching Estimator\n",
      "INFO:dowhy.causal_estimator:b: dummy_outcome~t1+w3+w2\n",
      "INFO:dowhy.causal_estimator:INFO: Using Propensity Score Matching Estimator\n",
      "INFO:dowhy.causal_estimator:b: dummy_outcome~t1+w3+w2\n",
      "INFO:dowhy.causal_estimator:INFO: Using Propensity Score Matching Estimator\n",
      "INFO:dowhy.causal_estimator:b: dummy_outcome~t1+w3+w2\n",
      "INFO:dowhy.causal_estimator:INFO: Using Propensity Score Matching Estimator\n",
      "INFO:dowhy.causal_estimator:b: dummy_outcome~t1+w3+w2\n",
      "INFO:dowhy.causal_estimator:INFO: Using Propensity Score Matching Estimator\n",
      "INFO:dowhy.causal_estimator:b: dummy_outcome~t1+w3+w2\n",
      "INFO:dowhy.causal_estimator:INFO: Using Propensity Score Matching Estimator\n",
      "INFO:dowhy.causal_estimator:b: dummy_outcome~t1+w3+w2\n",
      "INFO:dowhy.causal_estimator:INFO: Using Propensity Score Matching Estimator\n",
      "INFO:dowhy.causal_estimator:b: dummy_outcome~t1+w3+w2\n",
      "INFO:dowhy.causal_estimator:INFO: Using Propensity Score Matching Estimator\n",
      "INFO:dowhy.causal_estimator:b: dummy_outcome~t1+w3+w2\n",
      "INFO:dowhy.causal_estimator:INFO: Using Propensity Score Matching Estimator\n",
      "INFO:dowhy.causal_estimator:b: dummy_outcome~t1+w3+w2\n",
      "INFO:dowhy.causal_estimator:INFO: Using Propensity Score Matching Estimator\n",
      "INFO:dowhy.causal_estimator:b: dummy_outcome~t1+w3+w2\n",
      "WARNING:dowhy.causal_refuters.dummy_outcome_refuter:We assume a Normal Distribution as the sample has less than 100 examples.\n",
      "                 Note: The underlying distribution may not be Normal. We assume that it approaches normal with the increase in sample size.\n",
      "WARNING:dowhy.causal_refuters.dummy_outcome_refuter:We assume a Normal Distribution as the sample has less than 100 examples.\n",
      "                 Note: The underlying distribution may not be Normal. We assume that it approaches normal with the increase in sample size.\n",
      "INFO:dowhy.causal_refuters.add_unobserved_common_cause:All variables required: Running bootstrap adding noise to confounders, instrumental variables and effect modifiers.\n"
     ]
    },
    {
     "name": "stdout",
     "output_type": "stream",
     "text": [
      "printing refute's type\n",
      "<class 'list'>\n",
      "********%%%%%%%%%$$$$$&&^**^^^^*^*^*\n",
      "add_unobserved_confounder <dowhy.causal_refuters.add_unobserved_common_cause.AddUnobservedCommonCause object at 0x0000022874641448>\n"
     ]
    },
    {
     "name": "stderr",
     "output_type": "stream",
     "text": [
      "INFO:dowhy.causal_refuter:All variables required: Running bootstrap adding noise to confounders, instrumental variables and effect modifiers.\n",
      "INFO:dowhy.causal_refuters.dummy_outcome_refuter:Refutation over 5 simulated datasets\n",
      "INFO:dowhy.causal_refuters.dummy_outcome_refuter:The transformation passed: [('random_forest', {'n_estimators': 100, 'max_depth': 6})]\n"
     ]
    },
    {
     "name": "stdout",
     "output_type": "stream",
     "text": [
      "refuter.params {'num_simulations': 5, 'transformation_list': [('random_forest', {'n_estimators': 100, 'max_depth': 6})], 'true_causal_effect': <function <lambda> at 0x0000022829325828>, 'unobserved_confounder_values': 0      1576.797662\n",
      "1       898.257952\n",
      "2      3398.144771\n",
      "3      -208.155619\n",
      "4      2528.998805\n",
      "          ...     \n",
      "995     355.134221\n",
      "996    -258.161810\n",
      "997     771.827148\n",
      "998    1752.125605\n",
      "999     816.894827\n",
      "Length: 1000, dtype: float64}\n"
     ]
    },
    {
     "name": "stderr",
     "output_type": "stream",
     "text": [
      "INFO:dowhy.causal_estimator:INFO: Using Propensity Score Weighting Estimator\n",
      "INFO:dowhy.causal_estimator:b: dummy_outcome~t1+w3+w2\n",
      "INFO:dowhy.causal_estimator:INFO: Using Propensity Score Weighting Estimator\n",
      "INFO:dowhy.causal_estimator:b: dummy_outcome~t1+w3+w2\n",
      "INFO:dowhy.causal_estimator:INFO: Using Propensity Score Weighting Estimator\n",
      "INFO:dowhy.causal_estimator:b: dummy_outcome~t1+w3+w2\n",
      "INFO:dowhy.causal_estimator:INFO: Using Propensity Score Weighting Estimator\n",
      "INFO:dowhy.causal_estimator:b: dummy_outcome~t1+w3+w2\n",
      "INFO:dowhy.causal_estimator:INFO: Using Propensity Score Weighting Estimator\n",
      "INFO:dowhy.causal_estimator:b: dummy_outcome~t1+w3+w2\n",
      "INFO:dowhy.causal_estimator:INFO: Using Propensity Score Weighting Estimator\n",
      "INFO:dowhy.causal_estimator:b: dummy_outcome~t1+w3+w2\n",
      "INFO:dowhy.causal_estimator:INFO: Using Propensity Score Weighting Estimator\n",
      "INFO:dowhy.causal_estimator:b: dummy_outcome~t1+w3+w2\n",
      "INFO:dowhy.causal_estimator:INFO: Using Propensity Score Weighting Estimator\n",
      "INFO:dowhy.causal_estimator:b: dummy_outcome~t1+w3+w2\n",
      "INFO:dowhy.causal_estimator:INFO: Using Propensity Score Weighting Estimator\n",
      "INFO:dowhy.causal_estimator:b: dummy_outcome~t1+w3+w2\n",
      "INFO:dowhy.causal_estimator:INFO: Using Propensity Score Weighting Estimator\n",
      "INFO:dowhy.causal_estimator:b: dummy_outcome~t1+w3+w2\n",
      "WARNING:dowhy.causal_refuters.dummy_outcome_refuter:We assume a Normal Distribution as the sample has less than 100 examples.\n",
      "                 Note: The underlying distribution may not be Normal. We assume that it approaches normal with the increase in sample size.\n",
      "WARNING:dowhy.causal_refuters.dummy_outcome_refuter:We assume a Normal Distribution as the sample has less than 100 examples.\n",
      "                 Note: The underlying distribution may not be Normal. We assume that it approaches normal with the increase in sample size.\n",
      "INFO:dowhy.causal_refuters.add_unobserved_common_cause:All variables required: Running bootstrap adding noise to confounders, instrumental variables and effect modifiers.\n"
     ]
    },
    {
     "name": "stdout",
     "output_type": "stream",
     "text": [
      "printing refute's type\n",
      "<class 'list'>\n",
      "********%%%%%%%%%$$$$$&&^**^^^^*^*^*\n",
      "add_unobserved_confounder <dowhy.causal_refuters.add_unobserved_common_cause.AddUnobservedCommonCause object at 0x000002287217E048>\n"
     ]
    },
    {
     "name": "stderr",
     "output_type": "stream",
     "text": [
      "INFO:dowhy.causal_refuter:All variables required: Running bootstrap adding noise to confounders, instrumental variables and effect modifiers.\n",
      "INFO:dowhy.causal_refuters.dummy_outcome_refuter:Refutation over 5 simulated datasets\n",
      "INFO:dowhy.causal_refuters.dummy_outcome_refuter:The transformation passed: [('random_forest', {'n_estimators': 100, 'max_depth': 6})]\n"
     ]
    },
    {
     "name": "stdout",
     "output_type": "stream",
     "text": [
      "refuter.params {'num_simulations': 5, 'transformation_list': [('random_forest', {'n_estimators': 100, 'max_depth': 6})], 'true_causal_effect': <function <lambda> at 0x0000022829325828>, 'unobserved_confounder_values': 0      1576.512393\n",
      "1       899.354282\n",
      "2      3396.932486\n",
      "3      -206.295283\n",
      "4      2528.584210\n",
      "          ...     \n",
      "995     356.084812\n",
      "996    -260.140789\n",
      "997     770.998520\n",
      "998    1748.452592\n",
      "999     817.901841\n",
      "Length: 1000, dtype: float64}\n"
     ]
    },
    {
     "name": "stderr",
     "output_type": "stream",
     "text": [
      "INFO:dowhy.causal_estimator:INFO: Using EconML Estimator\n",
      "WARNING:dowhy.causal_estimator:Effect modifiers are not a subset of common causes. For efficiency in estimation, EconML will consider all effect modifiers as common causes too.\n",
      "INFO:dowhy.causal_estimator:b: dummy_outcome~t1+w3+w2+x1+x2 | x1,x2\n",
      "INFO:dowhy.causal_estimator:INFO: Using EconML Estimator\n",
      "WARNING:dowhy.causal_estimator:Effect modifiers are not a subset of common causes. For efficiency in estimation, EconML will consider all effect modifiers as common causes too.\n",
      "INFO:dowhy.causal_estimator:b: dummy_outcome~t1+w3+w2+x1+x2 | x1,x2\n",
      "INFO:dowhy.causal_estimator:INFO: Using EconML Estimator\n",
      "WARNING:dowhy.causal_estimator:Effect modifiers are not a subset of common causes. For efficiency in estimation, EconML will consider all effect modifiers as common causes too.\n",
      "INFO:dowhy.causal_estimator:b: dummy_outcome~t1+w3+w2+x1+x2 | x1,x2\n",
      "INFO:dowhy.causal_estimator:INFO: Using EconML Estimator\n",
      "WARNING:dowhy.causal_estimator:Effect modifiers are not a subset of common causes. For efficiency in estimation, EconML will consider all effect modifiers as common causes too.\n",
      "INFO:dowhy.causal_estimator:b: dummy_outcome~t1+w3+w2+x1+x2 | x1,x2\n",
      "INFO:dowhy.causal_estimator:INFO: Using EconML Estimator\n",
      "WARNING:dowhy.causal_estimator:Effect modifiers are not a subset of common causes. For efficiency in estimation, EconML will consider all effect modifiers as common causes too.\n",
      "INFO:dowhy.causal_estimator:b: dummy_outcome~t1+w3+w2+x1+x2 | x1,x2\n",
      "INFO:dowhy.causal_estimator:INFO: Using EconML Estimator\n",
      "WARNING:dowhy.causal_estimator:Effect modifiers are not a subset of common causes. For efficiency in estimation, EconML will consider all effect modifiers as common causes too.\n",
      "INFO:dowhy.causal_estimator:b: dummy_outcome~t1+w3+w2+x1+x2 | x1,x2\n",
      "INFO:dowhy.causal_estimator:INFO: Using EconML Estimator\n",
      "WARNING:dowhy.causal_estimator:Effect modifiers are not a subset of common causes. For efficiency in estimation, EconML will consider all effect modifiers as common causes too.\n",
      "INFO:dowhy.causal_estimator:b: dummy_outcome~t1+w3+w2+x1+x2 | x1,x2\n",
      "INFO:dowhy.causal_estimator:INFO: Using EconML Estimator\n",
      "WARNING:dowhy.causal_estimator:Effect modifiers are not a subset of common causes. For efficiency in estimation, EconML will consider all effect modifiers as common causes too.\n",
      "INFO:dowhy.causal_estimator:b: dummy_outcome~t1+w3+w2+x1+x2 | x1,x2\n",
      "INFO:dowhy.causal_estimator:INFO: Using EconML Estimator\n",
      "WARNING:dowhy.causal_estimator:Effect modifiers are not a subset of common causes. For efficiency in estimation, EconML will consider all effect modifiers as common causes too.\n",
      "INFO:dowhy.causal_estimator:b: dummy_outcome~t1+w3+w2+x1+x2 | x1,x2\n",
      "INFO:dowhy.causal_estimator:INFO: Using EconML Estimator\n",
      "WARNING:dowhy.causal_estimator:Effect modifiers are not a subset of common causes. For efficiency in estimation, EconML will consider all effect modifiers as common causes too.\n",
      "INFO:dowhy.causal_estimator:b: dummy_outcome~t1+w3+w2+x1+x2 | x1,x2\n",
      "WARNING:dowhy.causal_refuters.dummy_outcome_refuter:We assume a Normal Distribution as the sample has less than 100 examples.\n",
      "                 Note: The underlying distribution may not be Normal. We assume that it approaches normal with the increase in sample size.\n",
      "WARNING:dowhy.causal_refuters.dummy_outcome_refuter:We assume a Normal Distribution as the sample has less than 100 examples.\n",
      "                 Note: The underlying distribution may not be Normal. We assume that it approaches normal with the increase in sample size.\n",
      "INFO:dowhy.causal_refuters.add_unobserved_common_cause:All variables required: Running bootstrap adding noise to confounders, instrumental variables and effect modifiers.\n"
     ]
    },
    {
     "name": "stdout",
     "output_type": "stream",
     "text": [
      "printing refute's type\n",
      "<class 'list'>\n",
      "********%%%%%%%%%$$$$$&&^**^^^^*^*^*\n",
      "add_unobserved_confounder <dowhy.causal_refuters.add_unobserved_common_cause.AddUnobservedCommonCause object at 0x00000228735DC908>\n"
     ]
    },
    {
     "name": "stderr",
     "output_type": "stream",
     "text": [
      "INFO:dowhy.causal_refuter:All variables required: Running bootstrap adding noise to confounders, instrumental variables and effect modifiers.\n",
      "INFO:dowhy.causal_refuters.dummy_outcome_refuter:Refutation over 5 simulated datasets\n",
      "INFO:dowhy.causal_refuters.dummy_outcome_refuter:The transformation passed: [('random_forest', {'n_estimators': 100, 'max_depth': 6})]\n"
     ]
    },
    {
     "name": "stdout",
     "output_type": "stream",
     "text": [
      "refuter.params {'num_simulations': 5, 'transformation_list': [('random_forest', {'n_estimators': 100, 'max_depth': 6})], 'true_causal_effect': <function <lambda> at 0x0000022829325828>, 'unobserved_confounder_values': 0      1575.601305\n",
      "1       898.664364\n",
      "2      3397.454502\n",
      "3      -206.037929\n",
      "4      2529.362455\n",
      "          ...     \n",
      "995     357.553907\n",
      "996    -260.710003\n",
      "997     771.103588\n",
      "998    1748.237675\n",
      "999     815.861052\n",
      "Length: 1000, dtype: float64}\n"
     ]
    },
    {
     "name": "stderr",
     "output_type": "stream",
     "text": [
      "INFO:dowhy.causal_estimator:INFO: Using EconML Estimator\n",
      "WARNING:dowhy.causal_estimator:Effect modifiers are not a subset of common causes. For efficiency in estimation, EconML will consider all effect modifiers as common causes too.\n",
      "INFO:dowhy.causal_estimator:b: dummy_outcome~t1+w3+w2+x1+x2 | x1,x2\n",
      "INFO:dowhy.causal_estimator:INFO: Using EconML Estimator\n",
      "WARNING:dowhy.causal_estimator:Effect modifiers are not a subset of common causes. For efficiency in estimation, EconML will consider all effect modifiers as common causes too.\n",
      "INFO:dowhy.causal_estimator:b: dummy_outcome~t1+w3+w2+x1+x2 | x1,x2\n",
      "INFO:dowhy.causal_estimator:INFO: Using EconML Estimator\n",
      "WARNING:dowhy.causal_estimator:Effect modifiers are not a subset of common causes. For efficiency in estimation, EconML will consider all effect modifiers as common causes too.\n",
      "INFO:dowhy.causal_estimator:b: dummy_outcome~t1+w3+w2+x1+x2 | x1,x2\n",
      "INFO:dowhy.causal_estimator:INFO: Using EconML Estimator\n",
      "WARNING:dowhy.causal_estimator:Effect modifiers are not a subset of common causes. For efficiency in estimation, EconML will consider all effect modifiers as common causes too.\n",
      "INFO:dowhy.causal_estimator:b: dummy_outcome~t1+w3+w2+x1+x2 | x1,x2\n",
      "INFO:dowhy.causal_estimator:INFO: Using EconML Estimator\n",
      "WARNING:dowhy.causal_estimator:Effect modifiers are not a subset of common causes. For efficiency in estimation, EconML will consider all effect modifiers as common causes too.\n",
      "INFO:dowhy.causal_estimator:b: dummy_outcome~t1+w3+w2+x1+x2 | x1,x2\n",
      "INFO:dowhy.causal_estimator:INFO: Using EconML Estimator\n",
      "WARNING:dowhy.causal_estimator:Effect modifiers are not a subset of common causes. For efficiency in estimation, EconML will consider all effect modifiers as common causes too.\n",
      "INFO:dowhy.causal_estimator:b: dummy_outcome~t1+w3+w2+x1+x2 | x1,x2\n",
      "INFO:dowhy.causal_estimator:INFO: Using EconML Estimator\n",
      "WARNING:dowhy.causal_estimator:Effect modifiers are not a subset of common causes. For efficiency in estimation, EconML will consider all effect modifiers as common causes too.\n",
      "INFO:dowhy.causal_estimator:b: dummy_outcome~t1+w3+w2+x1+x2 | x1,x2\n",
      "INFO:dowhy.causal_estimator:INFO: Using EconML Estimator\n",
      "WARNING:dowhy.causal_estimator:Effect modifiers are not a subset of common causes. For efficiency in estimation, EconML will consider all effect modifiers as common causes too.\n",
      "INFO:dowhy.causal_estimator:b: dummy_outcome~t1+w3+w2+x1+x2 | x1,x2\n",
      "INFO:dowhy.causal_estimator:INFO: Using EconML Estimator\n",
      "WARNING:dowhy.causal_estimator:Effect modifiers are not a subset of common causes. For efficiency in estimation, EconML will consider all effect modifiers as common causes too.\n",
      "INFO:dowhy.causal_estimator:b: dummy_outcome~t1+w3+w2+x1+x2 | x1,x2\n",
      "INFO:dowhy.causal_estimator:INFO: Using EconML Estimator\n",
      "WARNING:dowhy.causal_estimator:Effect modifiers are not a subset of common causes. For efficiency in estimation, EconML will consider all effect modifiers as common causes too.\n",
      "INFO:dowhy.causal_estimator:b: dummy_outcome~t1+w3+w2+x1+x2 | x1,x2\n",
      "WARNING:dowhy.causal_refuters.dummy_outcome_refuter:We assume a Normal Distribution as the sample has less than 100 examples.\n",
      "                 Note: The underlying distribution may not be Normal. We assume that it approaches normal with the increase in sample size.\n",
      "WARNING:dowhy.causal_refuters.dummy_outcome_refuter:We assume a Normal Distribution as the sample has less than 100 examples.\n",
      "                 Note: The underlying distribution may not be Normal. We assume that it approaches normal with the increase in sample size.\n",
      "WARNING:dowhy.causal_model:Causal Graph not provided. DoWhy will construct a graph based on data inputs.\n",
      "INFO:dowhy.causal_graph:If this is observed data (not from a randomized experiment), there might always be missing confounders. Adding a node named \"Unobserved Confounders\" to reflect this.\n",
      "INFO:dowhy.causal_model:Model to find the causal effect of treatment ['t1'] on outcome ['y']\n",
      "WARNING:dowhy.causal_identifier:If this is observed data (not from a randomized experiment), there might always be missing confounders. Causal effect cannot be identified perfectly.\n",
      "INFO:dowhy.causal_identifier:Continuing by ignoring these unobserved confounders because proceed_when_unidentifiable flag is True.\n",
      "INFO:dowhy.causal_identifier:Instrumental variables for treatment and outcome:[]\n",
      "INFO:dowhy.causal_identifier:Frontdoor variables for treatment and outcome:[]\n",
      "INFO:dowhy.causal_estimator:b: y~t1+w3+w2+t1*x1+t1*x2\n",
      "INFO:dowhy.causal_estimator:INFO: Using Linear Regression Estimator\n",
      "INFO:dowhy.causal_estimator:INFO: Using Propensity Score Matching Estimator\n",
      "INFO:dowhy.causal_estimator:b: y~t1+w3+w2\n"
     ]
    },
    {
     "name": "stdout",
     "output_type": "stream",
     "text": [
      "printing refute's type\n",
      "<class 'list'>\n",
      "estimated effect [0.5, 0.5, 0.5, 0.5, 0.5]\n",
      "new_effect [4.3884992174885, 18.349889887028873, 17.20889390325838, -0.05929473907406228, 8.915155764534438]\n",
      "p_value [0.24795793012521222, 0.02915101350959265, 0.03137518880089054, 0.45108253609235094, 0.06305341016184739]\n",
      "true value -1.425587779646994\n",
      "\n",
      "\n",
      "Running Experiment Number: 9\n",
      "\n",
      "\n",
      "Current Sample Size: 1000\n",
      "\n",
      "\n",
      "The current DGP:\n",
      "\n",
      "        Linear Data Generating Process\n",
      "        -------------------------------\n",
      "        \n",
      "        treatment:['t1']\n",
      "        outcome:['y']\n",
      "        confounder: ['w1', 'w2', 'w3', 'w4', 'w5', 'w6']\n",
      "        effect_modifier: ['x1', 'x2']\n",
      "        weights: {'confounder=>treatment': array([[101.02646832],\n",
      "       [  1.40124536],\n",
      "       [ -0.35387936],\n",
      "       [ -0.29347704],\n",
      "       [  0.88260002],\n",
      "       [  0.60329882]]), 'confounder=>outcome': array([[100.99981109],\n",
      "       [ -1.45588402],\n",
      "       [  0.78299423],\n",
      "       [ -0.44974769],\n",
      "       [  1.97394442],\n",
      "       [ -1.30395767]]), 'effect_modifier=>outcome': array([[-0.17360481],\n",
      "       [-0.05809851]]), 'treatment=>outcome': array([[-1.42558778]])}\n",
      "        bias: {'confounder=>treatment': array([0.45043691]), 'confounder=>outcome': array([-0.47882317])}\n",
      "        seed: None\n",
      "        treatment_is_binary: True\n",
      "        percentile: 0.9\n",
      "        \n",
      "printing data shape\n",
      "(1000, 10)\n",
      "[-0.09475491]\n",
      "check\n",
      "printing length of confounder list: 2\n",
      "printing confounder list: ['w2', 'w3']\n",
      "data columns\n",
      "data columns Index(['x1', 'x2', 'w1', 'w2', 'w3', 'w4', 'w5', 'w6', 't1', 'y'], dtype='object')\n",
      "identified_estimand: Estimand type: nonparametric-ate\n",
      "\n",
      "### Estimand : 1\n",
      "Estimand name: backdoor1 (Default)\n",
      "Estimand expression:\n",
      "  d                        \n",
      "─────(Expectation(y|w3,w2))\n",
      "d[t₁]                      \n",
      "Estimand assumption 1, Unconfoundedness: If U→{t1} and U→y then P(y|t1,w3,w2,U) = P(y|t1,w3,w2)\n",
      "\n",
      "### Estimand : 2\n",
      "Estimand name: iv\n",
      "No such variable found!\n",
      "\n",
      "### Estimand : 3\n",
      "Estimand name: frontdoor\n",
      "No such variable found!\n",
      "\n",
      "\n",
      "\n",
      "Running the estimators:\n",
      "\n",
      "The current estimator: Estimator(name='backdoor.linear_regression', params=None)\n",
      "estimator.params None\n",
      "printing estimate's type\n",
      "<class 'dowhy.causal_estimator.CausalEstimate'>\n",
      "The current estimator: Estimator(name='backdoor.propensity_score_matching', params={'init_params': {}})\n",
      "estimator.params {'init_params': {}}\n"
     ]
    },
    {
     "name": "stderr",
     "output_type": "stream",
     "text": [
      "INFO:dowhy.causal_estimator:INFO: Using Propensity Score Weighting Estimator\n",
      "INFO:dowhy.causal_estimator:b: y~t1+w3+w2\n",
      "INFO:dowhy.causal_estimator:INFO: Using EconML Estimator\n",
      "WARNING:dowhy.causal_estimator:Effect modifiers are not a subset of common causes. For efficiency in estimation, EconML will consider all effect modifiers as common causes too.\n",
      "INFO:dowhy.causal_estimator:b: y~t1+w3+w2+x1+x2 | x1,x2\n"
     ]
    },
    {
     "name": "stdout",
     "output_type": "stream",
     "text": [
      "printing estimate's type\n",
      "<class 'dowhy.causal_estimator.CausalEstimate'>\n",
      "The current estimator: Estimator(name='backdoor.propensity_score_weighting', params={'init_params': {}})\n",
      "estimator.params {'init_params': {}}\n",
      "printing estimate's type\n",
      "<class 'dowhy.causal_estimator.CausalEstimate'>\n",
      "The current estimator: Estimator(name='backdoor.econml.dml.DML', params={'init_params': {'model_y': GradientBoostingRegressor(), 'model_t': GradientBoostingRegressor(), 'model_final': LassoCV(), 'featurizer': PolynomialFeatures(degree=1)}, 'fit_params': {}, '_econml_methodname': 'econml.dml.DML'})\n",
      "estimator.params {'init_params': {'model_y': GradientBoostingRegressor(), 'model_t': GradientBoostingRegressor(), 'model_final': LassoCV(), 'featurizer': PolynomialFeatures(degree=1)}, 'fit_params': {}, '_econml_methodname': 'econml.dml.DML'}\n"
     ]
    },
    {
     "name": "stderr",
     "output_type": "stream",
     "text": [
      "INFO:dowhy.causal_estimator:INFO: Using EconML Estimator\n",
      "WARNING:dowhy.causal_estimator:Effect modifiers are not a subset of common causes. For efficiency in estimation, EconML will consider all effect modifiers as common causes too.\n",
      "INFO:dowhy.causal_estimator:b: y~t1+w3+w2+x1+x2 | x1,x2\n"
     ]
    },
    {
     "name": "stdout",
     "output_type": "stream",
     "text": [
      "printing estimate's type\n",
      "<class 'dowhy.causal_estimator.CausalEstimate'>\n",
      "The current estimator: Estimator(name='backdoor.econml.drlearner.LinearDRLearner', params={'init_params': {'model_propensity': LogisticRegressionCV(cv=3)}, 'fit_params': {}, '_econml_methodname': 'econml.drlearner.LinearDRLearner'})\n",
      "estimator.params {'init_params': {'model_propensity': LogisticRegressionCV(cv=3)}, 'fit_params': {}, '_econml_methodname': 'econml.drlearner.LinearDRLearner'}\n"
     ]
    },
    {
     "name": "stderr",
     "output_type": "stream",
     "text": [
      "INFO:dowhy.causal_refuters.add_unobserved_common_cause:All variables required: Running bootstrap adding noise to confounders, instrumental variables and effect modifiers.\n"
     ]
    },
    {
     "name": "stdout",
     "output_type": "stream",
     "text": [
      "printing estimate's type\n",
      "<class 'dowhy.causal_estimator.CausalEstimate'>\n",
      "estimate_values [57.52625611273547, 55.02584292009278, 56.945490337749604, 52.757234195410085, 57.21603277112778]\n",
      "\n",
      "\n",
      "Running the refuters:\n",
      "\n",
      "The current refuter: Refuter(name='dummy_outcome_refuter', params={'num_simulations': 5, 'transformation_list': [('random_forest', {'n_estimators': 100, 'max_depth': 6})], 'true_causal_effect': <function <lambda> at 0x0000022829325828>, 'unobserved_confounder_values': 0      1575.601305\n",
      "1       898.664364\n",
      "2      3397.454502\n",
      "3      -206.037929\n",
      "4      2529.362455\n",
      "          ...     \n",
      "995     357.553907\n",
      "996    -260.710003\n",
      "997     771.103588\n",
      "998    1748.237675\n",
      "999     815.861052\n",
      "Length: 1000, dtype: float64})\n",
      "********%%%%%%%%%$$$$$&&^**^^^^*^*^*\n",
      "add_unobserved_confounder <dowhy.causal_refuters.add_unobserved_common_cause.AddUnobservedCommonCause object at 0x000002287477EF48>\n"
     ]
    },
    {
     "name": "stderr",
     "output_type": "stream",
     "text": [
      "INFO:dowhy.causal_refuter:All variables required: Running bootstrap adding noise to confounders, instrumental variables and effect modifiers.\n",
      "INFO:dowhy.causal_refuters.dummy_outcome_refuter:Refutation over 5 simulated datasets\n",
      "INFO:dowhy.causal_refuters.dummy_outcome_refuter:The transformation passed: [('random_forest', {'n_estimators': 100, 'max_depth': 6})]\n"
     ]
    },
    {
     "name": "stdout",
     "output_type": "stream",
     "text": [
      "refuter.params {'num_simulations': 5, 'transformation_list': [('random_forest', {'n_estimators': 100, 'max_depth': 6})], 'true_causal_effect': <function <lambda> at 0x0000022829325828>, 'unobserved_confounder_values': 0     -1103.713173\n",
      "1     -1446.668879\n",
      "2      1700.698124\n",
      "3      2175.403636\n",
      "4      -360.436432\n",
      "          ...     \n",
      "995    3112.996869\n",
      "996    1475.820174\n",
      "997    1093.827376\n",
      "998    3302.777290\n",
      "999    3300.649145\n",
      "Length: 1000, dtype: float64}\n"
     ]
    },
    {
     "name": "stderr",
     "output_type": "stream",
     "text": [
      "INFO:dowhy.causal_estimator:b: dummy_outcome~t1+w3+w2+t1*x1+t1*x2\n",
      "INFO:dowhy.causal_estimator:INFO: Using Linear Regression Estimator\n",
      "INFO:dowhy.causal_estimator:b: dummy_outcome~t1+w3+w2+t1*x1+t1*x2\n",
      "INFO:dowhy.causal_estimator:INFO: Using Linear Regression Estimator\n",
      "INFO:dowhy.causal_estimator:b: dummy_outcome~t1+w3+w2+t1*x1+t1*x2\n",
      "INFO:dowhy.causal_estimator:INFO: Using Linear Regression Estimator\n",
      "INFO:dowhy.causal_estimator:b: dummy_outcome~t1+w3+w2+t1*x1+t1*x2\n",
      "INFO:dowhy.causal_estimator:INFO: Using Linear Regression Estimator\n",
      "INFO:dowhy.causal_estimator:b: dummy_outcome~t1+w3+w2+t1*x1+t1*x2\n",
      "INFO:dowhy.causal_estimator:INFO: Using Linear Regression Estimator\n",
      "INFO:dowhy.causal_estimator:b: dummy_outcome~t1+w3+w2+t1*x1+t1*x2\n",
      "INFO:dowhy.causal_estimator:INFO: Using Linear Regression Estimator\n",
      "INFO:dowhy.causal_estimator:b: dummy_outcome~t1+w3+w2+t1*x1+t1*x2\n",
      "INFO:dowhy.causal_estimator:INFO: Using Linear Regression Estimator\n",
      "INFO:dowhy.causal_estimator:b: dummy_outcome~t1+w3+w2+t1*x1+t1*x2\n",
      "INFO:dowhy.causal_estimator:INFO: Using Linear Regression Estimator\n",
      "INFO:dowhy.causal_estimator:b: dummy_outcome~t1+w3+w2+t1*x1+t1*x2\n",
      "INFO:dowhy.causal_estimator:INFO: Using Linear Regression Estimator\n",
      "INFO:dowhy.causal_estimator:b: dummy_outcome~t1+w3+w2+t1*x1+t1*x2\n",
      "INFO:dowhy.causal_estimator:INFO: Using Linear Regression Estimator\n",
      "WARNING:dowhy.causal_refuters.dummy_outcome_refuter:We assume a Normal Distribution as the sample has less than 100 examples.\n",
      "                 Note: The underlying distribution may not be Normal. We assume that it approaches normal with the increase in sample size.\n",
      "WARNING:dowhy.causal_refuters.dummy_outcome_refuter:We assume a Normal Distribution as the sample has less than 100 examples.\n",
      "                 Note: The underlying distribution may not be Normal. We assume that it approaches normal with the increase in sample size.\n",
      "INFO:dowhy.causal_refuters.add_unobserved_common_cause:All variables required: Running bootstrap adding noise to confounders, instrumental variables and effect modifiers.\n"
     ]
    },
    {
     "name": "stdout",
     "output_type": "stream",
     "text": [
      "printing refute's type\n",
      "<class 'list'>\n",
      "********%%%%%%%%%$$$$$&&^**^^^^*^*^*\n",
      "add_unobserved_confounder <dowhy.causal_refuters.add_unobserved_common_cause.AddUnobservedCommonCause object at 0x00000228733B54C8>\n"
     ]
    },
    {
     "name": "stderr",
     "output_type": "stream",
     "text": [
      "INFO:dowhy.causal_refuter:All variables required: Running bootstrap adding noise to confounders, instrumental variables and effect modifiers.\n",
      "INFO:dowhy.causal_refuters.dummy_outcome_refuter:Refutation over 5 simulated datasets\n",
      "INFO:dowhy.causal_refuters.dummy_outcome_refuter:The transformation passed: [('random_forest', {'n_estimators': 100, 'max_depth': 6})]\n"
     ]
    },
    {
     "name": "stdout",
     "output_type": "stream",
     "text": [
      "refuter.params {'num_simulations': 5, 'transformation_list': [('random_forest', {'n_estimators': 100, 'max_depth': 6})], 'true_causal_effect': <function <lambda> at 0x0000022829325828>, 'unobserved_confounder_values': 0     -1103.734669\n",
      "1     -1447.218977\n",
      "2      1702.972466\n",
      "3      2175.133603\n",
      "4      -358.679528\n",
      "          ...     \n",
      "995    3116.049819\n",
      "996    1476.170576\n",
      "997    1092.710894\n",
      "998    3303.265692\n",
      "999    3300.187491\n",
      "Length: 1000, dtype: float64}\n"
     ]
    },
    {
     "name": "stderr",
     "output_type": "stream",
     "text": [
      "INFO:dowhy.causal_estimator:INFO: Using Propensity Score Matching Estimator\n",
      "INFO:dowhy.causal_estimator:b: dummy_outcome~t1+w3+w2\n",
      "INFO:dowhy.causal_estimator:INFO: Using Propensity Score Matching Estimator\n",
      "INFO:dowhy.causal_estimator:b: dummy_outcome~t1+w3+w2\n",
      "INFO:dowhy.causal_estimator:INFO: Using Propensity Score Matching Estimator\n",
      "INFO:dowhy.causal_estimator:b: dummy_outcome~t1+w3+w2\n",
      "INFO:dowhy.causal_estimator:INFO: Using Propensity Score Matching Estimator\n",
      "INFO:dowhy.causal_estimator:b: dummy_outcome~t1+w3+w2\n",
      "INFO:dowhy.causal_estimator:INFO: Using Propensity Score Matching Estimator\n",
      "INFO:dowhy.causal_estimator:b: dummy_outcome~t1+w3+w2\n",
      "INFO:dowhy.causal_estimator:INFO: Using Propensity Score Matching Estimator\n",
      "INFO:dowhy.causal_estimator:b: dummy_outcome~t1+w3+w2\n",
      "INFO:dowhy.causal_estimator:INFO: Using Propensity Score Matching Estimator\n",
      "INFO:dowhy.causal_estimator:b: dummy_outcome~t1+w3+w2\n",
      "INFO:dowhy.causal_estimator:INFO: Using Propensity Score Matching Estimator\n",
      "INFO:dowhy.causal_estimator:b: dummy_outcome~t1+w3+w2\n",
      "INFO:dowhy.causal_estimator:INFO: Using Propensity Score Matching Estimator\n",
      "INFO:dowhy.causal_estimator:b: dummy_outcome~t1+w3+w2\n",
      "INFO:dowhy.causal_estimator:INFO: Using Propensity Score Matching Estimator\n",
      "INFO:dowhy.causal_estimator:b: dummy_outcome~t1+w3+w2\n",
      "WARNING:dowhy.causal_refuters.dummy_outcome_refuter:We assume a Normal Distribution as the sample has less than 100 examples.\n",
      "                 Note: The underlying distribution may not be Normal. We assume that it approaches normal with the increase in sample size.\n",
      "WARNING:dowhy.causal_refuters.dummy_outcome_refuter:We assume a Normal Distribution as the sample has less than 100 examples.\n",
      "                 Note: The underlying distribution may not be Normal. We assume that it approaches normal with the increase in sample size.\n",
      "INFO:dowhy.causal_refuters.add_unobserved_common_cause:All variables required: Running bootstrap adding noise to confounders, instrumental variables and effect modifiers.\n"
     ]
    },
    {
     "name": "stdout",
     "output_type": "stream",
     "text": [
      "printing refute's type\n",
      "<class 'list'>\n",
      "********%%%%%%%%%$$$$$&&^**^^^^*^*^*\n",
      "add_unobserved_confounder <dowhy.causal_refuters.add_unobserved_common_cause.AddUnobservedCommonCause object at 0x0000022874A0C388>\n"
     ]
    },
    {
     "name": "stderr",
     "output_type": "stream",
     "text": [
      "INFO:dowhy.causal_refuter:All variables required: Running bootstrap adding noise to confounders, instrumental variables and effect modifiers.\n",
      "INFO:dowhy.causal_refuters.dummy_outcome_refuter:Refutation over 5 simulated datasets\n",
      "INFO:dowhy.causal_refuters.dummy_outcome_refuter:The transformation passed: [('random_forest', {'n_estimators': 100, 'max_depth': 6})]\n"
     ]
    },
    {
     "name": "stdout",
     "output_type": "stream",
     "text": [
      "refuter.params {'num_simulations': 5, 'transformation_list': [('random_forest', {'n_estimators': 100, 'max_depth': 6})], 'true_causal_effect': <function <lambda> at 0x0000022829325828>, 'unobserved_confounder_values': 0     -1102.900166\n",
      "1     -1445.993162\n",
      "2      1702.739541\n",
      "3      2177.150775\n",
      "4      -359.309341\n",
      "          ...     \n",
      "995    3116.139223\n",
      "996    1476.946259\n",
      "997    1093.986252\n",
      "998    3302.669507\n",
      "999    3301.692235\n",
      "Length: 1000, dtype: float64}\n"
     ]
    },
    {
     "name": "stderr",
     "output_type": "stream",
     "text": [
      "INFO:dowhy.causal_estimator:INFO: Using Propensity Score Weighting Estimator\n",
      "INFO:dowhy.causal_estimator:b: dummy_outcome~t1+w3+w2\n",
      "INFO:dowhy.causal_estimator:INFO: Using Propensity Score Weighting Estimator\n",
      "INFO:dowhy.causal_estimator:b: dummy_outcome~t1+w3+w2\n",
      "INFO:dowhy.causal_estimator:INFO: Using Propensity Score Weighting Estimator\n",
      "INFO:dowhy.causal_estimator:b: dummy_outcome~t1+w3+w2\n",
      "INFO:dowhy.causal_estimator:INFO: Using Propensity Score Weighting Estimator\n",
      "INFO:dowhy.causal_estimator:b: dummy_outcome~t1+w3+w2\n",
      "INFO:dowhy.causal_estimator:INFO: Using Propensity Score Weighting Estimator\n",
      "INFO:dowhy.causal_estimator:b: dummy_outcome~t1+w3+w2\n",
      "INFO:dowhy.causal_estimator:INFO: Using Propensity Score Weighting Estimator\n",
      "INFO:dowhy.causal_estimator:b: dummy_outcome~t1+w3+w2\n",
      "INFO:dowhy.causal_estimator:INFO: Using Propensity Score Weighting Estimator\n",
      "INFO:dowhy.causal_estimator:b: dummy_outcome~t1+w3+w2\n",
      "INFO:dowhy.causal_estimator:INFO: Using Propensity Score Weighting Estimator\n",
      "INFO:dowhy.causal_estimator:b: dummy_outcome~t1+w3+w2\n",
      "INFO:dowhy.causal_estimator:INFO: Using Propensity Score Weighting Estimator\n",
      "INFO:dowhy.causal_estimator:b: dummy_outcome~t1+w3+w2\n",
      "INFO:dowhy.causal_estimator:INFO: Using Propensity Score Weighting Estimator\n",
      "INFO:dowhy.causal_estimator:b: dummy_outcome~t1+w3+w2\n",
      "WARNING:dowhy.causal_refuters.dummy_outcome_refuter:We assume a Normal Distribution as the sample has less than 100 examples.\n",
      "                 Note: The underlying distribution may not be Normal. We assume that it approaches normal with the increase in sample size.\n",
      "WARNING:dowhy.causal_refuters.dummy_outcome_refuter:We assume a Normal Distribution as the sample has less than 100 examples.\n",
      "                 Note: The underlying distribution may not be Normal. We assume that it approaches normal with the increase in sample size.\n",
      "INFO:dowhy.causal_refuters.add_unobserved_common_cause:All variables required: Running bootstrap adding noise to confounders, instrumental variables and effect modifiers.\n"
     ]
    },
    {
     "name": "stdout",
     "output_type": "stream",
     "text": [
      "printing refute's type\n",
      "<class 'list'>\n",
      "********%%%%%%%%%$$$$$&&^**^^^^*^*^*\n",
      "add_unobserved_confounder <dowhy.causal_refuters.add_unobserved_common_cause.AddUnobservedCommonCause object at 0x000002287493EC48>\n"
     ]
    },
    {
     "name": "stderr",
     "output_type": "stream",
     "text": [
      "INFO:dowhy.causal_refuter:All variables required: Running bootstrap adding noise to confounders, instrumental variables and effect modifiers.\n",
      "INFO:dowhy.causal_refuters.dummy_outcome_refuter:Refutation over 5 simulated datasets\n",
      "INFO:dowhy.causal_refuters.dummy_outcome_refuter:The transformation passed: [('random_forest', {'n_estimators': 100, 'max_depth': 6})]\n"
     ]
    },
    {
     "name": "stdout",
     "output_type": "stream",
     "text": [
      "refuter.params {'num_simulations': 5, 'transformation_list': [('random_forest', {'n_estimators': 100, 'max_depth': 6})], 'true_causal_effect': <function <lambda> at 0x0000022829325828>, 'unobserved_confounder_values': 0     -1103.719164\n",
      "1     -1447.762458\n",
      "2      1703.702931\n",
      "3      2177.127763\n",
      "4      -358.063007\n",
      "          ...     \n",
      "995    3113.864080\n",
      "996    1475.986492\n",
      "997    1093.179585\n",
      "998    3302.361864\n",
      "999    3301.531649\n",
      "Length: 1000, dtype: float64}\n"
     ]
    },
    {
     "name": "stderr",
     "output_type": "stream",
     "text": [
      "INFO:dowhy.causal_estimator:INFO: Using EconML Estimator\n",
      "WARNING:dowhy.causal_estimator:Effect modifiers are not a subset of common causes. For efficiency in estimation, EconML will consider all effect modifiers as common causes too.\n",
      "INFO:dowhy.causal_estimator:b: dummy_outcome~t1+w3+w2+x1+x2 | x1,x2\n",
      "INFO:dowhy.causal_estimator:INFO: Using EconML Estimator\n",
      "WARNING:dowhy.causal_estimator:Effect modifiers are not a subset of common causes. For efficiency in estimation, EconML will consider all effect modifiers as common causes too.\n",
      "INFO:dowhy.causal_estimator:b: dummy_outcome~t1+w3+w2+x1+x2 | x1,x2\n",
      "INFO:dowhy.causal_estimator:INFO: Using EconML Estimator\n",
      "WARNING:dowhy.causal_estimator:Effect modifiers are not a subset of common causes. For efficiency in estimation, EconML will consider all effect modifiers as common causes too.\n",
      "INFO:dowhy.causal_estimator:b: dummy_outcome~t1+w3+w2+x1+x2 | x1,x2\n",
      "INFO:dowhy.causal_estimator:INFO: Using EconML Estimator\n",
      "WARNING:dowhy.causal_estimator:Effect modifiers are not a subset of common causes. For efficiency in estimation, EconML will consider all effect modifiers as common causes too.\n",
      "INFO:dowhy.causal_estimator:b: dummy_outcome~t1+w3+w2+x1+x2 | x1,x2\n",
      "INFO:dowhy.causal_estimator:INFO: Using EconML Estimator\n",
      "WARNING:dowhy.causal_estimator:Effect modifiers are not a subset of common causes. For efficiency in estimation, EconML will consider all effect modifiers as common causes too.\n",
      "INFO:dowhy.causal_estimator:b: dummy_outcome~t1+w3+w2+x1+x2 | x1,x2\n",
      "INFO:dowhy.causal_estimator:INFO: Using EconML Estimator\n",
      "WARNING:dowhy.causal_estimator:Effect modifiers are not a subset of common causes. For efficiency in estimation, EconML will consider all effect modifiers as common causes too.\n",
      "INFO:dowhy.causal_estimator:b: dummy_outcome~t1+w3+w2+x1+x2 | x1,x2\n",
      "INFO:dowhy.causal_estimator:INFO: Using EconML Estimator\n",
      "WARNING:dowhy.causal_estimator:Effect modifiers are not a subset of common causes. For efficiency in estimation, EconML will consider all effect modifiers as common causes too.\n",
      "INFO:dowhy.causal_estimator:b: dummy_outcome~t1+w3+w2+x1+x2 | x1,x2\n",
      "INFO:dowhy.causal_estimator:INFO: Using EconML Estimator\n",
      "WARNING:dowhy.causal_estimator:Effect modifiers are not a subset of common causes. For efficiency in estimation, EconML will consider all effect modifiers as common causes too.\n",
      "INFO:dowhy.causal_estimator:b: dummy_outcome~t1+w3+w2+x1+x2 | x1,x2\n",
      "INFO:dowhy.causal_estimator:INFO: Using EconML Estimator\n",
      "WARNING:dowhy.causal_estimator:Effect modifiers are not a subset of common causes. For efficiency in estimation, EconML will consider all effect modifiers as common causes too.\n",
      "INFO:dowhy.causal_estimator:b: dummy_outcome~t1+w3+w2+x1+x2 | x1,x2\n",
      "INFO:dowhy.causal_estimator:INFO: Using EconML Estimator\n",
      "WARNING:dowhy.causal_estimator:Effect modifiers are not a subset of common causes. For efficiency in estimation, EconML will consider all effect modifiers as common causes too.\n",
      "INFO:dowhy.causal_estimator:b: dummy_outcome~t1+w3+w2+x1+x2 | x1,x2\n",
      "WARNING:dowhy.causal_refuters.dummy_outcome_refuter:We assume a Normal Distribution as the sample has less than 100 examples.\n",
      "                 Note: The underlying distribution may not be Normal. We assume that it approaches normal with the increase in sample size.\n",
      "WARNING:dowhy.causal_refuters.dummy_outcome_refuter:We assume a Normal Distribution as the sample has less than 100 examples.\n",
      "                 Note: The underlying distribution may not be Normal. We assume that it approaches normal with the increase in sample size.\n",
      "INFO:dowhy.causal_refuters.add_unobserved_common_cause:All variables required: Running bootstrap adding noise to confounders, instrumental variables and effect modifiers.\n"
     ]
    },
    {
     "name": "stdout",
     "output_type": "stream",
     "text": [
      "printing refute's type\n",
      "<class 'list'>\n",
      "********%%%%%%%%%$$$$$&&^**^^^^*^*^*\n",
      "add_unobserved_confounder <dowhy.causal_refuters.add_unobserved_common_cause.AddUnobservedCommonCause object at 0x0000022874805CC8>\n"
     ]
    },
    {
     "name": "stderr",
     "output_type": "stream",
     "text": [
      "INFO:dowhy.causal_refuter:All variables required: Running bootstrap adding noise to confounders, instrumental variables and effect modifiers.\n",
      "INFO:dowhy.causal_refuters.dummy_outcome_refuter:Refutation over 5 simulated datasets\n",
      "INFO:dowhy.causal_refuters.dummy_outcome_refuter:The transformation passed: [('random_forest', {'n_estimators': 100, 'max_depth': 6})]\n"
     ]
    },
    {
     "name": "stdout",
     "output_type": "stream",
     "text": [
      "refuter.params {'num_simulations': 5, 'transformation_list': [('random_forest', {'n_estimators': 100, 'max_depth': 6})], 'true_causal_effect': <function <lambda> at 0x0000022829325828>, 'unobserved_confounder_values': 0     -1102.470974\n",
      "1     -1445.850540\n",
      "2      1702.217484\n",
      "3      2177.458750\n",
      "4      -359.500734\n",
      "          ...     \n",
      "995    3115.122238\n",
      "996    1475.965777\n",
      "997    1095.448733\n",
      "998    3300.929032\n",
      "999    3302.086491\n",
      "Length: 1000, dtype: float64}\n"
     ]
    },
    {
     "name": "stderr",
     "output_type": "stream",
     "text": [
      "INFO:dowhy.causal_estimator:INFO: Using EconML Estimator\n",
      "WARNING:dowhy.causal_estimator:Effect modifiers are not a subset of common causes. For efficiency in estimation, EconML will consider all effect modifiers as common causes too.\n",
      "INFO:dowhy.causal_estimator:b: dummy_outcome~t1+w3+w2+x1+x2 | x1,x2\n",
      "INFO:dowhy.causal_estimator:INFO: Using EconML Estimator\n",
      "WARNING:dowhy.causal_estimator:Effect modifiers are not a subset of common causes. For efficiency in estimation, EconML will consider all effect modifiers as common causes too.\n",
      "INFO:dowhy.causal_estimator:b: dummy_outcome~t1+w3+w2+x1+x2 | x1,x2\n",
      "INFO:dowhy.causal_estimator:INFO: Using EconML Estimator\n",
      "WARNING:dowhy.causal_estimator:Effect modifiers are not a subset of common causes. For efficiency in estimation, EconML will consider all effect modifiers as common causes too.\n",
      "INFO:dowhy.causal_estimator:b: dummy_outcome~t1+w3+w2+x1+x2 | x1,x2\n",
      "INFO:dowhy.causal_estimator:INFO: Using EconML Estimator\n",
      "WARNING:dowhy.causal_estimator:Effect modifiers are not a subset of common causes. For efficiency in estimation, EconML will consider all effect modifiers as common causes too.\n",
      "INFO:dowhy.causal_estimator:b: dummy_outcome~t1+w3+w2+x1+x2 | x1,x2\n",
      "INFO:dowhy.causal_estimator:INFO: Using EconML Estimator\n",
      "WARNING:dowhy.causal_estimator:Effect modifiers are not a subset of common causes. For efficiency in estimation, EconML will consider all effect modifiers as common causes too.\n",
      "INFO:dowhy.causal_estimator:b: dummy_outcome~t1+w3+w2+x1+x2 | x1,x2\n",
      "INFO:dowhy.causal_estimator:INFO: Using EconML Estimator\n",
      "WARNING:dowhy.causal_estimator:Effect modifiers are not a subset of common causes. For efficiency in estimation, EconML will consider all effect modifiers as common causes too.\n",
      "INFO:dowhy.causal_estimator:b: dummy_outcome~t1+w3+w2+x1+x2 | x1,x2\n",
      "INFO:dowhy.causal_estimator:INFO: Using EconML Estimator\n",
      "WARNING:dowhy.causal_estimator:Effect modifiers are not a subset of common causes. For efficiency in estimation, EconML will consider all effect modifiers as common causes too.\n",
      "INFO:dowhy.causal_estimator:b: dummy_outcome~t1+w3+w2+x1+x2 | x1,x2\n",
      "INFO:dowhy.causal_estimator:INFO: Using EconML Estimator\n",
      "WARNING:dowhy.causal_estimator:Effect modifiers are not a subset of common causes. For efficiency in estimation, EconML will consider all effect modifiers as common causes too.\n",
      "INFO:dowhy.causal_estimator:b: dummy_outcome~t1+w3+w2+x1+x2 | x1,x2\n",
      "INFO:dowhy.causal_estimator:INFO: Using EconML Estimator\n",
      "WARNING:dowhy.causal_estimator:Effect modifiers are not a subset of common causes. For efficiency in estimation, EconML will consider all effect modifiers as common causes too.\n",
      "INFO:dowhy.causal_estimator:b: dummy_outcome~t1+w3+w2+x1+x2 | x1,x2\n",
      "INFO:dowhy.causal_estimator:INFO: Using EconML Estimator\n",
      "WARNING:dowhy.causal_estimator:Effect modifiers are not a subset of common causes. For efficiency in estimation, EconML will consider all effect modifiers as common causes too.\n",
      "INFO:dowhy.causal_estimator:b: dummy_outcome~t1+w3+w2+x1+x2 | x1,x2\n",
      "WARNING:dowhy.causal_refuters.dummy_outcome_refuter:We assume a Normal Distribution as the sample has less than 100 examples.\n",
      "                 Note: The underlying distribution may not be Normal. We assume that it approaches normal with the increase in sample size.\n",
      "WARNING:dowhy.causal_refuters.dummy_outcome_refuter:We assume a Normal Distribution as the sample has less than 100 examples.\n",
      "                 Note: The underlying distribution may not be Normal. We assume that it approaches normal with the increase in sample size.\n"
     ]
    },
    {
     "name": "stdout",
     "output_type": "stream",
     "text": [
      "printing refute's type\n",
      "<class 'list'>\n",
      "estimated effect [0.5, 0.5, 0.5, 0.5, 0.5]\n",
      "new_effect [8.566197941906305, 6.82196921229701, 6.633351486118133, 5.212227976885458, 5.987062615324367]\n",
      "p_value [0.09516082997302816, 0.2548250681283013, 0.18386472664419434, 0.1593351158800091, 0.17584379893087243]\n",
      "true value -0.0947549138445049\n",
      "\n",
      "\n",
      "Completed all experiments. Saving the data...\n",
      "Data has been saved in  results/Test_2_2021-01-27_data.csv\n"
     ]
    }
   ],
   "source": [
    "unobserved_confounding_error = Experiment(\n",
    "    experiment_name='Test',\n",
    "    experiment_id='2',\n",
    "    num_experiments=10, # 10\n",
    "    sample_sizes=sample_size,\n",
    "    dgps=dgp_list,\n",
    "    estimators=estimator_tuples,\n",
    "    refuters=refuter_tuples,\n",
    "    simulate_unobserved_confounding = True\n",
    ")\n",
    "\n",
    "# Run the experiment\n",
    "res = pd.read_csv(unobserved_confounding_error.experiment())"
   ]
  },
  {
   "cell_type": "code",
   "execution_count": 15,
   "metadata": {},
   "outputs": [
    {
     "data": {
      "image/png": "[encoded data removed]",
      "text/plain": [
       "<Figure size 432x288 with 1 Axes>"
      ]
     },
     "metadata": {
      "needs_background": "light"
     },
     "output_type": "display_data"
    },
    {
     "name": "stdout",
     "output_type": "stream",
     "text": [
      "Printing MAE of various estimates: \n",
      "ORIGINAL_ESTIMATE:backdoor.econml.drlearner.LinearDRLearner 60.92964689402477\n",
      "ORIGINAL_ESTIMATE:backdoor.linear_regression 60.92560158575111\n",
      "ORIGINAL_ESTIMATE:backdoor.propensity_score_matching 60.528027323178776\n",
      "ORIGINAL_ESTIMATE:backdoor.econml.dml.DML 56.640225152734146\n",
      "dummy_outcome_refuter:backdoor.propensity_score_weighting:NEW_EFFECT 9.32656420638797\n",
      "dummy_outcome_refuter:backdoor.propensity_score_matching:NEW_EFFECT 9.197726027211143\n",
      "dummy_outcome_refuter:backdoor.linear_regression:NEW_EFFECT 8.836281939265426\n",
      "dummy_outcome_refuter:backdoor.econml.drlearner.LinearDRLearner:NEW_EFFECT 8.706373112926602\n",
      "dummy_outcome_refuter:backdoor.econml.dml.DML:NEW_EFFECT 3.966281137187547\n",
      "dummy_outcome_refuter:backdoor.linear_regression:ESTIMATED_EFFECT 1.4250324579416742\n",
      "dummy_outcome_refuter:backdoor.propensity_score_matching:ESTIMATED_EFFECT 1.4250324579416742\n",
      "dummy_outcome_refuter:backdoor.propensity_score_weighting:ESTIMATED_EFFECT 1.4250324579416742\n",
      "dummy_outcome_refuter:backdoor.econml.dml.DML:ESTIMATED_EFFECT 1.4250324579416742\n",
      "dummy_outcome_refuter:backdoor.econml.drlearner.LinearDRLearner:ESTIMATED_EFFECT 1.4250324579416742\n",
      "dummy_outcome_refuter:backdoor.econml.dml.DML:P_VALUE 1.2726252657612254\n",
      "dummy_outcome_refuter:backdoor.propensity_score_weighting:P_VALUE 1.2032125184483982\n",
      "dummy_outcome_refuter:backdoor.propensity_score_matching:P_VALUE 1.202534851648273\n",
      "dummy_outcome_refuter:backdoor.econml.drlearner.LinearDRLearner:P_VALUE 1.1626828080528655\n",
      "dummy_outcome_refuter:backdoor.linear_regression:P_VALUE 1.1194480441517805\n"
     ]
    }
   ],
   "source": [
    "##This plot shows the Mean Absolute Error of the Orginal Estimate from the true value and of the New Effect from \n",
    "#the expected value for each estimator.\n",
    "plot_MAEs(res)"
   ]
  },
  {
   "cell_type": "markdown",
   "metadata": {},
   "source": [
    "### Ranking based on Original Estimate"
   ]
  },
  {
   "cell_type": "markdown",
   "metadata": {},
   "source": [
    "The Original Estimate is calculated in the presence of the True Value (that is, the ground truth). However in many real life datasets, the ground truth may not be known. Hence, we want the ranking produced by our refutation tests to be in coherence with that obtained from the Original Estimates. According to the Original Estimate values, the ranking of the estimators should be as follows (the method with the least MAE should get the best rank):\n",
    "1. DMLCateEstimator \n",
    "2. Propensity Score Matching \n",
    "3. LinearRegression \n",
    "4. LinearDRLearner "
   ]
  },
  {
   "cell_type": "code",
   "execution_count": 16,
   "metadata": {},
   "outputs": [
    {
     "data": {
      "image/png": "[encoded data removed]",
      "text/plain": [
       "<Figure size 432x288 with 1 Axes>"
      ]
     },
     "metadata": {
      "needs_background": "light"
     },
     "output_type": "display_data"
    },
    {
     "name": "stdout",
     "output_type": "stream",
     "text": [
      "74.57700286411092\n"
     ]
    },
    {
     "data": {
      "image/png": "[encoded data removed]",
      "text/plain": [
       "<Figure size 432x288 with 1 Axes>"
      ]
     },
     "metadata": {
      "needs_background": "light"
     },
     "output_type": "display_data"
    },
    {
     "name": "stdout",
     "output_type": "stream",
     "text": [
      "84.92764599502854\n"
     ]
    },
    {
     "data": {
      "image/png": "[encoded data removed]",
      "text/plain": [
       "<Figure size 432x288 with 1 Axes>"
      ]
     },
     "metadata": {
      "needs_background": "light"
     },
     "output_type": "display_data"
    },
    {
     "name": "stdout",
     "output_type": "stream",
     "text": [
      "27.120761292206314\n"
     ]
    },
    {
     "data": {
      "image/png": "[encoded data removed]",
      "text/plain": [
       "<Figure size 432x288 with 1 Axes>"
      ]
     },
     "metadata": {
      "needs_background": "light"
     },
     "output_type": "display_data"
    },
    {
     "name": "stdout",
     "output_type": "stream",
     "text": [
      "62.09710018605855\n"
     ]
    },
    {
     "data": {
      "text/plain": [
       "<Figure size 432x288 with 0 Axes>"
      ]
     },
     "metadata": {},
     "output_type": "display_data"
    }
   ],
   "source": [
    "#This plot shows the deviation of the original estimate, the new effect and the estimated effect from the true value\n",
    "refuter = 'dummy_outcome_refuter'\n",
    "deviation_list = []\n",
    "for estimator in estimator_list:\n",
    "    plot_estimators_and_refuters(refuter, estimator)\n",
    "    avg_deviation = ((res[refuter+':'+estimator+':NEW_EFFECT']).sum(axis=0))\n",
    "    print(avg_deviation)\n",
    "    deviation_list.append(avg_deviation)"
   ]
  },
  {
   "cell_type": "code",
   "execution_count": 17,
   "metadata": {},
   "outputs": [
    {
     "data": {
      "image/png": "[encoded data removed]",
      "text/plain": [
       "<Figure size 432x288 with 1 Axes>"
      ]
     },
     "metadata": {
      "needs_background": "light"
     },
     "output_type": "display_data"
    },
    {
     "name": "stdout",
     "output_type": "stream",
     "text": [
      "backdoor.linear_regression: 74.57700286411092\n",
      "backdoor.propensity_score_matching: 84.92764599502854\n",
      "backdoor.econml.dml.DML: 27.120761292206314\n",
      "backdoor.econml.drlearner.LinearDRLearner: 62.09710018605855\n"
     ]
    }
   ],
   "source": [
    "plot_deviations(estimator_list, deviation_list)\n",
    "for i in range(len(estimator_list)):\n",
    "    print(estimator_list[i] +\": \"+ str(deviation_list[i]))"
   ]
  },
  {
   "cell_type": "code",
   "execution_count": 18,
   "metadata": {},
   "outputs": [
    {
     "data": {
      "text/plain": [
       "{'backdoor.propensity_score_matching': 84.92764599502854,\n",
       " 'backdoor.linear_regression': 74.57700286411092,\n",
       " 'backdoor.econml.drlearner.LinearDRLearner': 62.09710018605855,\n",
       " 'backdoor.econml.dml.DML': 27.120761292206314}"
      ]
     },
     "execution_count": 18,
     "metadata": {},
     "output_type": "execute_result"
    }
   ],
   "source": [
    "{k: v for k, v in sorted(zip(estimator_list, deviation_list), key=lambda item: item[1], reverse = True)}"
   ]
  },
  {
   "cell_type": "markdown",
   "metadata": {},
   "source": [
    "### Ranking based on New Effect (Refutatation results) "
   ]
  },
  {
   "cell_type": "markdown",
   "metadata": {},
   "source": [
    "The ranking based on absolute value of deviations is :\n",
    "1. DML\n",
    "2. Propensity Score Matching \n",
    "3. Linear Regression\n",
    "4. Linear DR Learner "
   ]
  },
  {
   "cell_type": "markdown",
   "metadata": {},
   "source": [
    "#### We can see that this ranking is exactly the same as the one based on Original Estimate. Thus ranking based on the unobserved confounding error solves the problem and gives us a correct ranking amongst methods"
   ]
  }
 ],
 "metadata": {
  "kernelspec": {
   "display_name": "Python 3",
   "language": "python",
   "name": "python3"
  },
  "language_info": {
   "codemirror_mode": {
    "name": "ipython",
    "version": 3
   },
   "file_extension": ".py",
   "mimetype": "text/x-python",
   "name": "python",
   "nbconvert_exporter": "python",
   "pygments_lexer": "ipython3",
   "version": "3.7.6"
  }
 },
 "nbformat": 4,
 "nbformat_minor": 4
}
