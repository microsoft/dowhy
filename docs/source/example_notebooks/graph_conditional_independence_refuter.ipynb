{
 "cells": [
  {
   "cell_type": "markdown",
   "metadata": {},
   "source": [
    "# Testing Assumptions in model with DoWhy: A simple example\n",
    "This is a quick introduction to how we can test if our assumed graph is correct and the assumptions match with the dataset.\n",
    "We do so by checking the conditional independences in the graph and see if they hold true for the data as well. Currently we are using partial correlation to do that. \n",
    "\n",
    "First, let us load all required packages."
   ]
  },
  {
   "cell_type": "code",
   "execution_count": null,
   "metadata": {},
   "outputs": [],
   "source": [
    "%load_ext autoreload\n",
    "%autoreload 2"
   ]
  },
  {
   "cell_type": "code",
   "execution_count": null,
   "metadata": {},
   "outputs": [],
   "source": [
    "import numpy as np\n",
    "import pandas as pd\n",
    "import os, sys\n",
    "sys.path.append(os.path.abspath(\"../../../\"))\n",
    "import dowhy\n",
    "from dowhy import CausalModel\n",
    "import dowhy.datasets "
   ]
  },
  {
   "cell_type": "markdown",
   "metadata": {},
   "source": [
    "## Step 1: Load dataset"
   ]
  },
  {
   "cell_type": "code",
   "execution_count": null,
   "metadata": {},
   "outputs": [],
   "source": [
    "data = dowhy.datasets.linear_dataset(beta=10,\n",
    "        num_common_causes=5,\n",
    "        num_instruments = 2,\n",
    "        num_effect_modifiers=1,\n",
    "        num_samples=5000, \n",
    "        treatment_is_binary=True,\n",
    "        stddev_treatment_noise=10,\n",
    "        num_discrete_common_causes=1)\n",
    "\n",
    "df = data[\"df\"] #Insert dataset here\n",
    "df.head()"
   ]
  },
  {
   "cell_type": "markdown",
   "metadata": {},
   "source": [
    "Note that we are using a pandas dataframe to load the data. At present, DoWhy only supports pandas dataframe as input."
   ]
  },
  {
   "cell_type": "markdown",
   "metadata": {},
   "source": [
    "## Step 2: Input causal graph"
   ]
  },
  {
   "cell_type": "markdown",
   "metadata": {},
   "source": [
    "We now input a causal graph. You can do that in the GML graph format (recommended), DOT format or the output from daggity -\n",
    "To create the causal graph for your dataset, you can use a tool like [DAGitty](http://dagitty.net/dags.html#) that provides a GUI to construct the graph. You can export the graph string that it generates."
   ]
  },
  {
   "cell_type": "code",
   "execution_count": null,
   "metadata": {},
   "outputs": [],
   "source": [
    "graph_string = \"\"\"dag {\n",
    "        W0 [pos=\"-2.200,-1.520\"]\n",
    "        W1 [pos=\"-1.457,-1.533\"]\n",
    "        W2 [pos=\"-0.763,-1.547\"]\n",
    "        W3 [pos=\"1.041,-1.587\"]\n",
    "        W4 [pos=\"1.510,-1.560\"]\n",
    "        X0 [pos=\"1.222,-0.625\"]\n",
    "        Z0 [pos=\"0.390,-1.601\"]\n",
    "        Z1 [pos=\"-0.176,-1.540\"]\n",
    "        v0 [pos=\"-0.219,-0.881\"]\n",
    "        y [pos=\"-0.144,-0.296\"]\n",
    "        W0 -> v0\n",
    "        W0 -> y\n",
    "        W1 -> v0\n",
    "        W1 -> y\n",
    "        W2 -> v0\n",
    "        W2 -> y\n",
    "        W3 -> v0\n",
    "        W3 -> y\n",
    "        W4 -> v0\n",
    "        W4 -> y\n",
    "        X0 -> y\n",
    "        Z0 -> v0\n",
    "        Z1 -> v0\n",
    "        v0 -> y\n",
    "        }\"\"\""
   ]
  },
  {
   "cell_type": "markdown",
   "metadata": {},
   "source": [
    "## Step 3: Create Causal Model"
   ]
  },
  {
   "cell_type": "code",
   "execution_count": null,
   "metadata": {},
   "outputs": [],
   "source": [
    "model=CausalModel(\n",
    "        data = df,\n",
    "        treatment=data[\"treatment_name\"],\n",
    "        outcome=data[\"outcome_name\"],\n",
    "        graph=graph_string\n",
    "        )"
   ]
  },
  {
   "cell_type": "code",
   "execution_count": null,
   "metadata": {},
   "outputs": [],
   "source": [
    "model.view_model()"
   ]
  },
  {
   "cell_type": "code",
   "execution_count": null,
   "metadata": {
    "scrolled": true
   },
   "outputs": [],
   "source": [
    "from IPython.display import Image, display\n",
    "display(Image(filename=\"causal_model.png\"))"
   ]
  },
  {
   "cell_type": "markdown",
   "metadata": {},
   "source": [
    "## Step 4: Testing for Conditional Independence\n",
    "We can check if the assumptions of the graph hold true for the data using model.refute_graph(k, method_name,independence_constraints) \n",
    "We are testing X ⫫ Y | Z where X and Y are singular sets and Z can have k number of variables. \n",
    "Currently we are using \"partial_correlation\" method by default and k value is 1 by default unless input."
   ]
  },
  {
   "cell_type": "code",
   "execution_count": null,
   "metadata": {},
   "outputs": [],
   "source": [
    "refuter_object = model.refute_graph(k=2, method_name = \"partial_correlation\")  #Change k parameter to test conditional independence given different number of variables "
   ]
  },
  {
   "cell_type": "code",
   "execution_count": null,
   "metadata": {},
   "outputs": [],
   "source": [
    "print(refuter_object)"
   ]
  },
  {
   "cell_type": "markdown",
   "metadata": {},
   "source": [
    "### Testing for a set of edges\n",
    "We can also test a set of conditional independences whether they are true or not The input has to be in the form - <br>\n",
    "[( x1, y1, (z1, z2)), <br>\n",
    " ( x2, y2, (z3, z4)),<br>\n",
    " ( x3, y3, (z5,)),<br>\n",
    " ( x4, y4, ())<br>\n",
    " ]"
   ]
  },
  {
   "cell_type": "code",
   "execution_count": null,
   "metadata": {},
   "outputs": [],
   "source": [
    "print(model.refute_graph(method_name = \"partial_correlation\",independence_constraints = [('W3', 'Z0', ()), ('W0', 'Z0', ()),('W3', 'Z0', ('W1','W2',))]))"
   ]
  },
  {
   "cell_type": "markdown",
   "metadata": {},
   "source": [
    "## Testing with a wrong graph input"
   ]
  },
  {
   "cell_type": "code",
   "execution_count": null,
   "metadata": {},
   "outputs": [],
   "source": [
    "graph_string = \"\"\"dag {\n",
    "        W0 [pos=\"-2.200,-1.520\"]\n",
    "        W1 [pos=\"-1.457,-1.533\"]\n",
    "        W2 [pos=\"-0.763,-1.547\"]\n",
    "        W3 [pos=\"1.041,-1.587\"]\n",
    "        W4 [pos=\"1.510,-1.560\"]\n",
    "        X0 [pos=\"1.222,-0.625\"]\n",
    "        Z0 [pos=\"0.390,-1.601\"]\n",
    "        Z1 [pos=\"-0.176,-1.540\"]\n",
    "        v0 [pos=\"-0.219,-0.881\"]\n",
    "        y [pos=\"-0.144,-0.296\"]\n",
    "        W0 -> v0\n",
    "        W0 -> y\n",
    "        W1 -> v0\n",
    "        W1 -> y\n",
    "        W2 -> v0\n",
    "        W2 -> y\n",
    "        W3 -> v0\n",
    "        W3 -> y\n",
    "        W4 -> v0\n",
    "        X0 -> Z0\n",
    "        Z0 -> Z1\n",
    "        }\"\"\""
   ]
  },
  {
   "cell_type": "code",
   "execution_count": null,
   "metadata": {},
   "outputs": [],
   "source": [
    "model = CausalModel(\n",
    "            data=df,\n",
    "            treatment=data[\"treatment_name\"],\n",
    "            outcome=data[\"outcome_name\"],\n",
    "            graph=graph_string,\n",
    "            proceed_when_unidentifiable=True,\n",
    "            test_significance=None\n",
    "        )"
   ]
  },
  {
   "cell_type": "code",
   "execution_count": null,
   "metadata": {},
   "outputs": [],
   "source": [
    "model.view_model()"
   ]
  },
  {
   "cell_type": "code",
   "execution_count": null,
   "metadata": {},
   "outputs": [],
   "source": [
    "from IPython.display import Image, display\n",
    "display(Image(filename=\"causal_model.png\"))"
   ]
  },
  {
   "cell_type": "code",
   "execution_count": null,
   "metadata": {},
   "outputs": [],
   "source": [
    "refuter_object = model.refute_graph(k=1,method_name = \"partial_correlation\")"
   ]
  },
  {
   "cell_type": "markdown",
   "metadata": {},
   "source": [
    "We can see that since we input the wrong graph, many conditional independences were not met"
   ]
  },
  {
   "cell_type": "code",
   "execution_count": null,
   "metadata": {},
   "outputs": [],
   "source": [
    "print(refuter_object)"
   ]
  },
  {
   "cell_type": "code",
   "execution_count": null,
   "metadata": {},
   "outputs": [],
   "source": []
  }
 ],
 "metadata": {
  "kernelspec": {
   "display_name": "Python 3",
   "language": "python",
   "name": "python3"
  },
  "language_info": {
   "codemirror_mode": {
    "name": "ipython",
    "version": 3
   },
   "file_extension": ".py",
   "mimetype": "text/x-python",
   "name": "python",
   "nbconvert_exporter": "python",
   "pygments_lexer": "ipython3",
   "version": "3.6.10"
  },
  "toc": {
   "base_numbering": 1,
   "nav_menu": {},
   "number_sections": false,
   "sideBar": true,
   "skip_h1_title": true,
   "title_cell": "Table of Contents",
   "title_sidebar": "Contents",
   "toc_cell": false,
   "toc_position": {},
   "toc_section_display": true,
   "toc_window_display": false
  }
 },
 "nbformat": 4,
 "nbformat_minor": 4
}
