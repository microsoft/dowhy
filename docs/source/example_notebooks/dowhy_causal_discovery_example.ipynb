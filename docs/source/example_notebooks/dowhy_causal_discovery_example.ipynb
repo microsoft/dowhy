{
 "metadata": {
  "language_info": {
   "codemirror_mode": {
    "name": "ipython",
    "version": 3
   },
   "file_extension": ".py",
   "mimetype": "text/x-python",
   "name": "python",
   "nbconvert_exporter": "python",
   "pygments_lexer": "ipython3",
   "version": "3.6.9"
  },
  "orig_nbformat": 2,
  "kernelspec": {
   "name": "python369jvsc74a57bd031f2aee4e71d21fbe5cf8b01ff0e069b9275f58929596ceb00d14d90e3e16cd6",
   "display_name": "Python 3.6.9 64-bit"
  },
  "metadata": {
   "interpreter": {
    "hash": "31f2aee4e71d21fbe5cf8b01ff0e069b9275f58929596ceb00d14d90e3e16cd6"
   }
  }
 },
 "nbformat": 4,
 "nbformat_minor": 2,
 "cells": [
  {
   "source": [
    "# Causal Discovery example on the Lalonde dataset\n",
    "\n",
    "Here we study the twins dataset as studied by <a href=\"https://arxiv.org/pdf/1705.08821.pdf\" target=\"_blank\">Louizos et al</a>. We focus on twins which are the same sex and weigh less than 2kgs. The treatment t = 1 is being born the heavier twin and the outcome is mortality of each of the twins in their first year of life.The confounding variable taken is 'gestat10', the number of gestational weeks prior to birth, as it is highly correlated with the outcome. The results using the methods below are in coherence with those obtained in the paper. \n",
    "\n"
   ],
   "cell_type": "markdown",
   "metadata": {}
  },
  {
   "cell_type": "code",
   "execution_count": 1,
   "metadata": {},
   "outputs": [
    {
     "output_type": "stream",
     "name": "stderr",
     "text": [
      "R[write to console]: Loading required package: MASS\n",
      "\n",
      "R[write to console]: ## \n",
      "##  Matching (Version 4.9-9, Build Date: 2021-03-15)\n",
      "##  See http://sekhon.berkeley.edu/matching for additional documentation.\n",
      "##  Please cite software as:\n",
      "##   Jasjeet S. Sekhon. 2011. ``Multivariate and Propensity Score Matching\n",
      "##   Software with Automated Balance Optimization: The Matching package for R.''\n",
      "##   Journal of Statistical Software, 42(7): 1-52. \n",
      "##\n",
      "\n",
      "\n",
      "['1.19.5', '1.1.5', '0.16', '1.5.2']\n"
     ]
    }
   ],
   "source": [
    "# import os\n",
    "# os.environ['PATH'] += os.pathsep + 'C:\\Program Files\\Graphviz\\bin\\dot.exe'\n",
    "\n",
    "import dowhy\n",
    "from dowhy import CausalModel\n",
    "from rpy2.robjects import r as R\n",
    "%load_ext rpy2.ipython\n",
    "\n",
    "# %R install.packages(\"Matching\")\n",
    "%R library(Matching)\n",
    "\n",
    "import numpy as np\n",
    "import pandas as pd\n",
    "import graphviz\n",
    "import lingam\n",
    "from lingam.utils import make_prior_knowledge\n",
    "\n",
    "print([np.__version__, pd.__version__, graphviz.__version__, lingam.__version__])\n",
    "\n",
    "np.set_printoptions(precision=3, suppress=True)\n",
    "np.random.seed(0)"
   ]
  },
  {
   "source": [
    "## 1. Load the data"
   ],
   "cell_type": "markdown",
   "metadata": {}
  },
  {
   "cell_type": "code",
   "execution_count": 3,
   "metadata": {},
   "outputs": [
    {
     "output_type": "execute_result",
     "data": {
      "text/plain": [
       "     age  educ  black  hisp  married  nodegr      re74     re75      re78  \\\n",
       "1     37    11      1     0        1       1      0.00      0.0   9930.05   \n",
       "2     22     9      0     1        0       1      0.00      0.0   3595.89   \n",
       "3     30    12      1     0        0       0      0.00      0.0  24909.50   \n",
       "4     27    11      1     0        0       1      0.00      0.0   7506.15   \n",
       "5     33     8      1     0        0       1      0.00      0.0    289.79   \n",
       "..   ...   ...    ...   ...      ...     ...       ...      ...       ...   \n",
       "441   21     9      1     0        0       1  31886.40  12357.2      0.00   \n",
       "442   28    11      1     0        0       1  17491.50  13371.3      0.00   \n",
       "443   29     9      0     1        0       1   9594.31  16341.2  16900.30   \n",
       "444   25     9      1     0        1       1  24731.60  16946.6   7343.96   \n",
       "445   22    10      0     0        1       1  25720.90  23032.0   5448.80   \n",
       "\n",
       "     u74  u75  treat  \n",
       "1      1    1   True  \n",
       "2      1    1   True  \n",
       "3      1    1   True  \n",
       "4      1    1   True  \n",
       "5      1    1   True  \n",
       "..   ...  ...    ...  \n",
       "441    0    0  False  \n",
       "442    0    0  False  \n",
       "443    0    0  False  \n",
       "444    0    0  False  \n",
       "445    0    0  False  \n",
       "\n",
       "[445 rows x 12 columns]"
      ],
      "text/html": "<div>\n<style scoped>\n    .dataframe tbody tr th:only-of-type {\n        vertical-align: middle;\n    }\n\n    .dataframe tbody tr th {\n        vertical-align: top;\n    }\n\n    .dataframe thead th {\n        text-align: right;\n    }\n</style>\n<table border=\"1\" class=\"dataframe\">\n  <thead>\n    <tr style=\"text-align: right;\">\n      <th></th>\n      <th>age</th>\n      <th>educ</th>\n      <th>black</th>\n      <th>hisp</th>\n      <th>married</th>\n      <th>nodegr</th>\n      <th>re74</th>\n      <th>re75</th>\n      <th>re78</th>\n      <th>u74</th>\n      <th>u75</th>\n      <th>treat</th>\n    </tr>\n  </thead>\n  <tbody>\n    <tr>\n      <th>1</th>\n      <td>37</td>\n      <td>11</td>\n      <td>1</td>\n      <td>0</td>\n      <td>1</td>\n      <td>1</td>\n      <td>0.00</td>\n      <td>0.0</td>\n      <td>9930.05</td>\n      <td>1</td>\n      <td>1</td>\n      <td>True</td>\n    </tr>\n    <tr>\n      <th>2</th>\n      <td>22</td>\n      <td>9</td>\n      <td>0</td>\n      <td>1</td>\n      <td>0</td>\n      <td>1</td>\n      <td>0.00</td>\n      <td>0.0</td>\n      <td>3595.89</td>\n      <td>1</td>\n      <td>1</td>\n      <td>True</td>\n    </tr>\n    <tr>\n      <th>3</th>\n      <td>30</td>\n      <td>12</td>\n      <td>1</td>\n      <td>0</td>\n      <td>0</td>\n      <td>0</td>\n      <td>0.00</td>\n      <td>0.0</td>\n      <td>24909.50</td>\n      <td>1</td>\n      <td>1</td>\n      <td>True</td>\n    </tr>\n    <tr>\n      <th>4</th>\n      <td>27</td>\n      <td>11</td>\n      <td>1</td>\n      <td>0</td>\n      <td>0</td>\n      <td>1</td>\n      <td>0.00</td>\n      <td>0.0</td>\n      <td>7506.15</td>\n      <td>1</td>\n      <td>1</td>\n      <td>True</td>\n    </tr>\n    <tr>\n      <th>5</th>\n      <td>33</td>\n      <td>8</td>\n      <td>1</td>\n      <td>0</td>\n      <td>0</td>\n      <td>1</td>\n      <td>0.00</td>\n      <td>0.0</td>\n      <td>289.79</td>\n      <td>1</td>\n      <td>1</td>\n      <td>True</td>\n    </tr>\n    <tr>\n      <th>...</th>\n      <td>...</td>\n      <td>...</td>\n      <td>...</td>\n      <td>...</td>\n      <td>...</td>\n      <td>...</td>\n      <td>...</td>\n      <td>...</td>\n      <td>...</td>\n      <td>...</td>\n      <td>...</td>\n      <td>...</td>\n    </tr>\n    <tr>\n      <th>441</th>\n      <td>21</td>\n      <td>9</td>\n      <td>1</td>\n      <td>0</td>\n      <td>0</td>\n      <td>1</td>\n      <td>31886.40</td>\n      <td>12357.2</td>\n      <td>0.00</td>\n      <td>0</td>\n      <td>0</td>\n      <td>False</td>\n    </tr>\n    <tr>\n      <th>442</th>\n      <td>28</td>\n      <td>11</td>\n      <td>1</td>\n      <td>0</td>\n      <td>0</td>\n      <td>1</td>\n      <td>17491.50</td>\n      <td>13371.3</td>\n      <td>0.00</td>\n      <td>0</td>\n      <td>0</td>\n      <td>False</td>\n    </tr>\n    <tr>\n      <th>443</th>\n      <td>29</td>\n      <td>9</td>\n      <td>0</td>\n      <td>1</td>\n      <td>0</td>\n      <td>1</td>\n      <td>9594.31</td>\n      <td>16341.2</td>\n      <td>16900.30</td>\n      <td>0</td>\n      <td>0</td>\n      <td>False</td>\n    </tr>\n    <tr>\n      <th>444</th>\n      <td>25</td>\n      <td>9</td>\n      <td>1</td>\n      <td>0</td>\n      <td>1</td>\n      <td>1</td>\n      <td>24731.60</td>\n      <td>16946.6</td>\n      <td>7343.96</td>\n      <td>0</td>\n      <td>0</td>\n      <td>False</td>\n    </tr>\n    <tr>\n      <th>445</th>\n      <td>22</td>\n      <td>10</td>\n      <td>0</td>\n      <td>0</td>\n      <td>1</td>\n      <td>1</td>\n      <td>25720.90</td>\n      <td>23032.0</td>\n      <td>5448.80</td>\n      <td>0</td>\n      <td>0</td>\n      <td>False</td>\n    </tr>\n  </tbody>\n</table>\n<p>445 rows × 12 columns</p>\n</div>"
     },
     "metadata": {},
     "execution_count": 3
    }
   ],
   "source": [
    "%R data(lalonde)\n",
    "%R -o lalonde\n",
    "lalonde = lalonde.astype({'treat':'bool'}, copy=False)\n",
    "lalonde"
   ]
  },
  {
   "source": [
    "## Utility function\n",
    "We define a utility function to draw the directed acyclic graph."
   ],
   "cell_type": "markdown",
   "metadata": {}
  },
  {
   "cell_type": "code",
   "execution_count": 2,
   "metadata": {},
   "outputs": [],
   "source": [
    "def make_graph(adjacency_matrix, labels=None):\n",
    "    idx = np.abs(adjacency_matrix) > 0.01\n",
    "    dirs = np.where(idx)\n",
    "    d = graphviz.Digraph(engine='dot')\n",
    "    names = labels if labels else [f'x{i}' for i in range(len(adjacency_matrix))]\n",
    "    for name in names:\n",
    "        d.node(name)\n",
    "    for to, from_, coef in zip(dirs[0], dirs[1], adjacency_matrix[idx]):\n",
    "        d.edge(names[from_], names[to], label=f'{coef:.2f}')\n",
    "    return d"
   ]
  },
  {
   "source": [
    "# Causal Discovery\n",
    "\n",
    "To run causal discovery, we create a DirectLiNGAM object and call the fit method."
   ],
   "cell_type": "markdown",
   "metadata": {}
  },
  {
   "cell_type": "code",
   "execution_count": 7,
   "metadata": {},
   "outputs": [
    {
     "output_type": "stream",
     "name": "stdout",
     "text": [
      "<class 'str'>\ndigraph {\n\tage\n\teduc\n\tblack\n\thisp\n\tmarried\n\tnodegr\n\tre74\n\tre75\n\tre78\n\tu74\n\tu75\n\ttreat\n\tmarried -> age [label=1.89]\n\tnodegr -> educ [label=-2.33]\n\thisp -> black [label=-0.91]\n\tu74 -> re74 [label=-6674.32]\n\tmarried -> re75 [label=854.41]\n\tre74 -> re75 [label=0.24]\n\tu75 -> re75 [label=-2030.49]\n\tu74 -> u75 [label=0.71]\n\tnodegr -> treat [label=-0.08]\n}\n"
     ]
    },
    {
     "output_type": "execute_result",
     "data": {
      "text/plain": [
       "<graphviz.dot.Digraph at 0x7f8cedc74e48>"
      ],
      "image/svg+xml": "<?xml version=\"1.0\" encoding=\"UTF-8\" standalone=\"no\"?>\n<!DOCTYPE svg PUBLIC \"-//W3C//DTD SVG 1.1//EN\"\n \"http://www.w3.org/Graphics/SVG/1.1/DTD/svg11.dtd\">\n<!-- Generated by graphviz version 2.40.1 (20161225.0304)\n -->\n<!-- Title: %3 Pages: 1 -->\n<svg width=\"637pt\" height=\"218pt\"\n viewBox=\"0.00 0.00 636.59 218.00\" xmlns=\"http://www.w3.org/2000/svg\" xmlns:xlink=\"http://www.w3.org/1999/xlink\">\n<g id=\"graph0\" class=\"graph\" transform=\"scale(1 1) rotate(0) translate(4 214)\">\n<title>%3</title>\n<polygon fill=\"#ffffff\" stroke=\"transparent\" points=\"-4,4 -4,-214 632.5928,-214 632.5928,4 -4,4\"/>\n<!-- age -->\n<g id=\"node1\" class=\"node\">\n<title>age</title>\n<ellipse fill=\"none\" stroke=\"#000000\" cx=\"35.0957\" cy=\"-18\" rx=\"27.0966\" ry=\"18\"/>\n<text text-anchor=\"middle\" x=\"35.0957\" y=\"-14.3\" font-family=\"Times,serif\" font-size=\"14.00\" fill=\"#000000\">age</text>\n</g>\n<!-- educ -->\n<g id=\"node2\" class=\"node\">\n<title>educ</title>\n<ellipse fill=\"none\" stroke=\"#000000\" cx=\"342.0957\" cy=\"-105\" rx=\"33.2948\" ry=\"18\"/>\n<text text-anchor=\"middle\" x=\"342.0957\" y=\"-101.3\" font-family=\"Times,serif\" font-size=\"14.00\" fill=\"#000000\">educ</text>\n</g>\n<!-- black -->\n<g id=\"node3\" class=\"node\">\n<title>black</title>\n<ellipse fill=\"none\" stroke=\"#000000\" cx=\"515.0957\" cy=\"-105\" rx=\"36.2938\" ry=\"18\"/>\n<text text-anchor=\"middle\" x=\"515.0957\" y=\"-101.3\" font-family=\"Times,serif\" font-size=\"14.00\" fill=\"#000000\">black</text>\n</g>\n<!-- hisp -->\n<g id=\"node4\" class=\"node\">\n<title>hisp</title>\n<ellipse fill=\"none\" stroke=\"#000000\" cx=\"515.0957\" cy=\"-192\" rx=\"30.5947\" ry=\"18\"/>\n<text text-anchor=\"middle\" x=\"515.0957\" y=\"-188.3\" font-family=\"Times,serif\" font-size=\"14.00\" fill=\"#000000\">hisp</text>\n</g>\n<!-- hisp&#45;&gt;black -->\n<g id=\"edge3\" class=\"edge\">\n<title>hisp&#45;&gt;black</title>\n<path fill=\"none\" stroke=\"#000000\" d=\"M515.0957,-173.9735C515.0957,-162.1918 515.0957,-146.5607 515.0957,-133.1581\"/>\n<polygon fill=\"#000000\" stroke=\"#000000\" points=\"518.5958,-133.0033 515.0957,-123.0034 511.5958,-133.0034 518.5958,-133.0033\"/>\n<text text-anchor=\"middle\" x=\"533.5957\" y=\"-144.8\" font-family=\"Times,serif\" font-size=\"14.00\" fill=\"#000000\">&#45;0.91</text>\n</g>\n<!-- married -->\n<g id=\"node5\" class=\"node\">\n<title>married</title>\n<ellipse fill=\"none\" stroke=\"#000000\" cx=\"48.0957\" cy=\"-105\" rx=\"48.1917\" ry=\"18\"/>\n<text text-anchor=\"middle\" x=\"48.0957\" y=\"-101.3\" font-family=\"Times,serif\" font-size=\"14.00\" fill=\"#000000\">married</text>\n</g>\n<!-- married&#45;&gt;age -->\n<g id=\"edge1\" class=\"edge\">\n<title>married&#45;&gt;age</title>\n<path fill=\"none\" stroke=\"#000000\" d=\"M40.8987,-86.9604C38.9645,-81.3023 37.1252,-74.973 36.0957,-69 34.828,-61.6446 34.2866,-53.6046 34.1307,-46.1279\"/>\n<polygon fill=\"#000000\" stroke=\"#000000\" points=\"37.6306,-46.0637 34.1315,-36.0634 30.6306,-46.0631 37.6306,-46.0637\"/>\n<text text-anchor=\"middle\" x=\"52.0957\" y=\"-57.8\" font-family=\"Times,serif\" font-size=\"14.00\" fill=\"#000000\">1.89</text>\n</g>\n<!-- re75 -->\n<g id=\"node8\" class=\"node\">\n<title>re75</title>\n<ellipse fill=\"none\" stroke=\"#000000\" cx=\"163.0957\" cy=\"-18\" rx=\"32.4942\" ry=\"18\"/>\n<text text-anchor=\"middle\" x=\"163.0957\" y=\"-14.3\" font-family=\"Times,serif\" font-size=\"14.00\" fill=\"#000000\">re75</text>\n</g>\n<!-- married&#45;&gt;re75 -->\n<g id=\"edge5\" class=\"edge\">\n<title>married&#45;&gt;re75</title>\n<path fill=\"none\" stroke=\"#000000\" d=\"M65.3846,-88.0893C76.3489,-77.7365 91.065,-64.5054 105.0957,-54 113.3337,-47.8318 122.6564,-41.7061 131.3801,-36.3037\"/>\n<polygon fill=\"#000000\" stroke=\"#000000\" points=\"133.4485,-39.1427 140.1837,-30.9642 129.8183,-33.1575 133.4485,-39.1427\"/>\n<text text-anchor=\"middle\" x=\"130.0957\" y=\"-57.8\" font-family=\"Times,serif\" font-size=\"14.00\" fill=\"#000000\">854.41</text>\n</g>\n<!-- nodegr -->\n<g id=\"node6\" class=\"node\">\n<title>nodegr</title>\n<ellipse fill=\"none\" stroke=\"#000000\" cx=\"353.0957\" cy=\"-192\" rx=\"43.5923\" ry=\"18\"/>\n<text text-anchor=\"middle\" x=\"353.0957\" y=\"-188.3\" font-family=\"Times,serif\" font-size=\"14.00\" fill=\"#000000\">nodegr</text>\n</g>\n<!-- nodegr&#45;&gt;educ -->\n<g id=\"edge2\" class=\"edge\">\n<title>nodegr&#45;&gt;educ</title>\n<path fill=\"none\" stroke=\"#000000\" d=\"M350.8165,-173.9735C349.3269,-162.1918 347.3505,-146.5607 345.6559,-133.1581\"/>\n<polygon fill=\"#000000\" stroke=\"#000000\" points=\"349.0988,-132.4853 344.372,-123.0034 342.1541,-133.3634 349.0988,-132.4853\"/>\n<text text-anchor=\"middle\" x=\"367.5957\" y=\"-144.8\" font-family=\"Times,serif\" font-size=\"14.00\" fill=\"#000000\">&#45;2.33</text>\n</g>\n<!-- treat -->\n<g id=\"node12\" class=\"node\">\n<title>treat</title>\n<ellipse fill=\"none\" stroke=\"#000000\" cx=\"427.0957\" cy=\"-105\" rx=\"33.5952\" ry=\"18\"/>\n<text text-anchor=\"middle\" x=\"427.0957\" y=\"-101.3\" font-family=\"Times,serif\" font-size=\"14.00\" fill=\"#000000\">treat</text>\n</g>\n<!-- nodegr&#45;&gt;treat -->\n<g id=\"edge9\" class=\"edge\">\n<title>nodegr&#45;&gt;treat</title>\n<path fill=\"none\" stroke=\"#000000\" d=\"M371.4125,-175.3774C377.5789,-169.4738 384.3482,-162.6415 390.0957,-156 397.0023,-148.0192 403.9585,-138.8098 409.946,-130.4315\"/>\n<polygon fill=\"#000000\" stroke=\"#000000\" points=\"412.9203,-132.2858 415.7921,-122.0876 407.1874,-128.2691 412.9203,-132.2858\"/>\n<text text-anchor=\"middle\" x=\"420.5957\" y=\"-144.8\" font-family=\"Times,serif\" font-size=\"14.00\" fill=\"#000000\">&#45;0.08</text>\n</g>\n<!-- re74 -->\n<g id=\"node7\" class=\"node\">\n<title>re74</title>\n<ellipse fill=\"none\" stroke=\"#000000\" cx=\"155.0957\" cy=\"-105\" rx=\"32.4942\" ry=\"18\"/>\n<text text-anchor=\"middle\" x=\"155.0957\" y=\"-101.3\" font-family=\"Times,serif\" font-size=\"14.00\" fill=\"#000000\">re74</text>\n</g>\n<!-- re74&#45;&gt;re75 -->\n<g id=\"edge6\" class=\"edge\">\n<title>re74&#45;&gt;re75</title>\n<path fill=\"none\" stroke=\"#000000\" d=\"M156.7533,-86.9735C157.8367,-75.1918 159.2741,-59.5607 160.5065,-46.1581\"/>\n<polygon fill=\"#000000\" stroke=\"#000000\" points=\"164.0098,-46.2819 161.4403,-36.0034 157.0392,-45.6408 164.0098,-46.2819\"/>\n<text text-anchor=\"middle\" x=\"176.0957\" y=\"-57.8\" font-family=\"Times,serif\" font-size=\"14.00\" fill=\"#000000\">0.24</text>\n</g>\n<!-- re78 -->\n<g id=\"node9\" class=\"node\">\n<title>re78</title>\n<ellipse fill=\"none\" stroke=\"#000000\" cx=\"596.0957\" cy=\"-192\" rx=\"32.4942\" ry=\"18\"/>\n<text text-anchor=\"middle\" x=\"596.0957\" y=\"-188.3\" font-family=\"Times,serif\" font-size=\"14.00\" fill=\"#000000\">re78</text>\n</g>\n<!-- u74 -->\n<g id=\"node10\" class=\"node\">\n<title>u74</title>\n<ellipse fill=\"none\" stroke=\"#000000\" cx=\"229.0957\" cy=\"-192\" rx=\"28.6953\" ry=\"18\"/>\n<text text-anchor=\"middle\" x=\"229.0957\" y=\"-188.3\" font-family=\"Times,serif\" font-size=\"14.00\" fill=\"#000000\">u74</text>\n</g>\n<!-- u74&#45;&gt;re74 -->\n<g id=\"edge4\" class=\"edge\">\n<title>u74&#45;&gt;re74</title>\n<path fill=\"none\" stroke=\"#000000\" d=\"M203.6268,-183.6483C190.1582,-177.9412 174.5073,-169.0169 165.0957,-156 160.3906,-149.4925 157.7484,-141.3457 156.3034,-133.4858\"/>\n<polygon fill=\"#000000\" stroke=\"#000000\" points=\"159.764,-132.9544 155.0206,-123.4807 152.8208,-133.8446 159.764,-132.9544\"/>\n<text text-anchor=\"middle\" x=\"197.0957\" y=\"-144.8\" font-family=\"Times,serif\" font-size=\"14.00\" fill=\"#000000\">&#45;6674.32</text>\n</g>\n<!-- u75 -->\n<g id=\"node11\" class=\"node\">\n<title>u75</title>\n<ellipse fill=\"none\" stroke=\"#000000\" cx=\"238.0957\" cy=\"-105\" rx=\"28.6953\" ry=\"18\"/>\n<text text-anchor=\"middle\" x=\"238.0957\" y=\"-101.3\" font-family=\"Times,serif\" font-size=\"14.00\" fill=\"#000000\">u75</text>\n</g>\n<!-- u74&#45;&gt;u75 -->\n<g id=\"edge8\" class=\"edge\">\n<title>u74&#45;&gt;u75</title>\n<path fill=\"none\" stroke=\"#000000\" d=\"M230.9605,-173.9735C232.1793,-162.1918 233.7964,-146.5607 235.1828,-133.1581\"/>\n<polygon fill=\"#000000\" stroke=\"#000000\" points=\"238.6857,-133.3105 236.2333,-123.0034 231.7228,-132.5901 238.6857,-133.3105\"/>\n<text text-anchor=\"middle\" x=\"251.0957\" y=\"-144.8\" font-family=\"Times,serif\" font-size=\"14.00\" fill=\"#000000\">0.71</text>\n</g>\n<!-- u75&#45;&gt;re75 -->\n<g id=\"edge7\" class=\"edge\">\n<title>u75&#45;&gt;re75</title>\n<path fill=\"none\" stroke=\"#000000\" d=\"M225.0701,-88.7388C216.8833,-78.6304 206.0272,-65.4283 196.0957,-54 192.6389,-50.0222 188.9154,-45.8538 185.2583,-41.8218\"/>\n<polygon fill=\"#000000\" stroke=\"#000000\" points=\"187.7286,-39.3367 178.3955,-34.3223 182.5645,-44.0624 187.7286,-39.3367\"/>\n<text text-anchor=\"middle\" x=\"240.0957\" y=\"-57.8\" font-family=\"Times,serif\" font-size=\"14.00\" fill=\"#000000\">&#45;2030.49</text>\n</g>\n</g>\n</svg>\n"
     },
     "metadata": {},
     "execution_count": 7
    }
   ],
   "source": [
    "# pk = make_prior_knowledge(\n",
    "#     n_variables=len(lalonde.columns),\n",
    "#     sink_variables=[11])\n",
    "# model = lingam.DirectLiNGAM(prior_knowledge=pk)\n",
    "# model.fit(lalonde)\n",
    "\n",
    "model = lingam.ICALiNGAM()\n",
    "d = model.fit(lalonde)\n",
    "# print(d)\n",
    "\n",
    "# print(model.adjacency_matrix_)\n",
    "labels = [f'{col}' for i, col in enumerate(lalonde.columns)]\n",
    "graph_dot = make_graph(model.adjacency_matrix_, labels)\n",
    "print(type(graph_dot.source))\n",
    "print(graph_dot.source)\n",
    "graph_dot"
   ]
  },
  {
   "source": [
    "## Run DoWhy analysis: model, identify, estimate"
   ],
   "cell_type": "markdown",
   "metadata": {}
  },
  {
   "cell_type": "code",
   "execution_count": 16,
   "metadata": {},
   "outputs": [
    {
     "output_type": "stream",
     "name": "stdout",
     "text": [
      "digraph {age;educ;black;hisp;married;nodegr;re74;re75;re78;u74;u75;treat;married -> age [label=1.89];nodegr -> educ [label=-2.33];hisp -> black [label=-0.91];u74 -> re74 [label=-6674.32];married -> re75 [label=854.41];re74 -> re75 [label=0.24];u75 -> re75 [label=-2030.49];u74 -> u75 [label=0.71];nodegr -> treat [label=-0.08]}\n",
      "Causal Estimate is 1794.3430848752596\n"
     ]
    }
   ],
   "source": [
    "graph = graph_dot.source.replace('\\n', ';').replace('\\t','')\n",
    "graph = graph[:9] + graph[10:-2] + graph[-1]\n",
    "print(graph)\n",
    "\n",
    "# graph = \"digraph {a -> b [label=1.89]; a -> c [label=-2.33]}\"\n",
    "\n",
    "# model=CausalModel(\n",
    "#         data = lalonde,\n",
    "#         treatment='a',\n",
    "#         outcome='c',\n",
    "#         graph=graph)\n",
    "\n",
    "model=CausalModel(\n",
    "        data = lalonde,\n",
    "        treatment='treat',\n",
    "        outcome='re78',\n",
    "        graph=graph)#_dot.source)\n",
    "identified_estimand = model.identify_effect(proceed_when_unidentifiable=True)\n",
    "# estimate = model.estimate_effect(identified_estimand,\n",
    "#         method_name=\"backdoor.propensity_score_weighting\",\n",
    "#         method_params={\"weighting_scheme\":\"ips_weight\"})\n",
    "#print(estimate)\n",
    "estimate = model.estimate_effect(identified_estimand,\n",
    "                                method_name=\"backdoor.linear_regression\",\n",
    "                                control_value=0,\n",
    "                                treatment_value=1,\n",
    "                                confidence_intervals=True,\n",
    "                                test_significance=True)\n",
    "\n",
    "print(\"Causal Estimate is \" + str(estimate.value))"
   ]
  },
  {
   "cell_type": "code",
   "execution_count": null,
   "metadata": {},
   "outputs": [],
   "source": []
  }
 ]
}