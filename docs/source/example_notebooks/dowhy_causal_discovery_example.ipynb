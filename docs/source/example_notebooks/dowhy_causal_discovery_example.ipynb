{
 "metadata": {
  "language_info": {
   "codemirror_mode": {
    "name": "ipython",
    "version": 3
   },
   "file_extension": ".py",
   "mimetype": "text/x-python",
   "name": "python",
   "nbconvert_exporter": "python",
   "pygments_lexer": "ipython3",
   "version": "3.6.9"
  },
  "orig_nbformat": 2,
  "kernelspec": {
   "name": "python3",
   "display_name": "Python 3",
   "language": "python"
  },
  "metadata": {
   "interpreter": {
    "hash": "31f2aee4e71d21fbe5cf8b01ff0e069b9275f58929596ceb00d14d90e3e16cd6"
   }
  }
 },
 "nbformat": 4,
 "nbformat_minor": 2,
 "cells": [
  {
   "source": [
    "# Causal Discovery example on the Auto-MPG dataset\n",
    "\n"
   ],
   "cell_type": "markdown",
   "metadata": {}
  },
  {
   "cell_type": "code",
   "execution_count": 1,
   "metadata": {},
   "outputs": [
    {
     "output_type": "stream",
     "name": "stderr",
     "text": [
      "R[write to console]: Loading required package: MASS\n",
      "\n",
      "R[write to console]: ## \n",
      "##  Matching (Version 4.9-9, Build Date: 2021-03-15)\n",
      "##  See http://sekhon.berkeley.edu/matching for additional documentation.\n",
      "##  Please cite software as:\n",
      "##   Jasjeet S. Sekhon. 2011. ``Multivariate and Propensity Score Matching\n",
      "##   Software with Automated Balance Optimization: The Matching package for R.''\n",
      "##   Journal of Statistical Software, 42(7): 1-52. \n",
      "##\n",
      "\n",
      "\n",
      "['1.19.5', '1.1.5', '0.16', '1.5.2']\n"
     ]
    }
   ],
   "source": [
    "import dowhy\n",
    "from dowhy import CausalModel\n",
    "from rpy2.robjects import r as R\n",
    "%load_ext rpy2.ipython\n",
    "\n",
    "# %R install.packages(\"Matching\")\n",
    "%R library(Matching)\n",
    "\n",
    "import numpy as np\n",
    "import pandas as pd\n",
    "import graphviz\n",
    "import lingam\n",
    "from lingam.utils import make_prior_knowledge\n",
    "import networkx as nx \n",
    "# import pcalg\n",
    "# from gsq.ci_tests import ci_test_bin, ci_test_dis\n",
    "# from gsq.gsq_testdata import bin_data, dis_data\n",
    "\n",
    "try:\n",
    "    from urllib.request import Request, urlopen  # Python 3\n",
    "except ImportError:\n",
    "    from urllib2 import Request, urlopen  # Python 2\n",
    "\n",
    "print([np.__version__, pd.__version__, graphviz.__version__, lingam.__version__])\n",
    "\n",
    "np.set_printoptions(precision=3, suppress=True)\n",
    "np.random.seed(0)"
   ]
  },
  {
   "source": [
    "## 1. Load the data"
   ],
   "cell_type": "markdown",
   "metadata": {}
  },
  {
   "cell_type": "code",
   "execution_count": 2,
   "metadata": {},
   "outputs": [
    {
     "output_type": "stream",
     "name": "stderr",
     "text": [
      "No GPU automatically detected. Setting SETTINGS.GPU to 0, and SETTINGS.NJOBS to cpu_count.\n",
      "(7466, 11)\n"
     ]
    },
    {
     "output_type": "execute_result",
     "data": {
      "text/plain": [
       "   praf  pmek   plcg   PIP2   PIP3  p44/42  pakts473    PKA    PKC   P38  pjnk\n",
       "0  26.4  13.2   8.82  18.30  58.80    6.61      17.0  414.0  17.00  44.9  40.0\n",
       "1  35.9  16.5  12.30  16.80   8.13   18.60      32.5  352.0   3.37  16.5  61.5\n",
       "2  59.4  44.1  14.60  10.20  13.00   14.90      32.5  403.0  11.40  31.9  19.5\n",
       "3  73.0  82.8  23.10  13.50   1.29    5.83      11.8  528.0  13.70  28.6  23.1\n",
       "4  33.7  19.8   5.19   9.73  24.80   21.10      46.1  305.0   4.66  25.7  81.3"
      ],
      "text/html": "<div>\n<style scoped>\n    .dataframe tbody tr th:only-of-type {\n        vertical-align: middle;\n    }\n\n    .dataframe tbody tr th {\n        vertical-align: top;\n    }\n\n    .dataframe thead th {\n        text-align: right;\n    }\n</style>\n<table border=\"1\" class=\"dataframe\">\n  <thead>\n    <tr style=\"text-align: right;\">\n      <th></th>\n      <th>praf</th>\n      <th>pmek</th>\n      <th>plcg</th>\n      <th>PIP2</th>\n      <th>PIP3</th>\n      <th>p44/42</th>\n      <th>pakts473</th>\n      <th>PKA</th>\n      <th>PKC</th>\n      <th>P38</th>\n      <th>pjnk</th>\n    </tr>\n  </thead>\n  <tbody>\n    <tr>\n      <th>0</th>\n      <td>26.4</td>\n      <td>13.2</td>\n      <td>8.82</td>\n      <td>18.30</td>\n      <td>58.80</td>\n      <td>6.61</td>\n      <td>17.0</td>\n      <td>414.0</td>\n      <td>17.00</td>\n      <td>44.9</td>\n      <td>40.0</td>\n    </tr>\n    <tr>\n      <th>1</th>\n      <td>35.9</td>\n      <td>16.5</td>\n      <td>12.30</td>\n      <td>16.80</td>\n      <td>8.13</td>\n      <td>18.60</td>\n      <td>32.5</td>\n      <td>352.0</td>\n      <td>3.37</td>\n      <td>16.5</td>\n      <td>61.5</td>\n    </tr>\n    <tr>\n      <th>2</th>\n      <td>59.4</td>\n      <td>44.1</td>\n      <td>14.60</td>\n      <td>10.20</td>\n      <td>13.00</td>\n      <td>14.90</td>\n      <td>32.5</td>\n      <td>403.0</td>\n      <td>11.40</td>\n      <td>31.9</td>\n      <td>19.5</td>\n    </tr>\n    <tr>\n      <th>3</th>\n      <td>73.0</td>\n      <td>82.8</td>\n      <td>23.10</td>\n      <td>13.50</td>\n      <td>1.29</td>\n      <td>5.83</td>\n      <td>11.8</td>\n      <td>528.0</td>\n      <td>13.70</td>\n      <td>28.6</td>\n      <td>23.1</td>\n    </tr>\n    <tr>\n      <th>4</th>\n      <td>33.7</td>\n      <td>19.8</td>\n      <td>5.19</td>\n      <td>9.73</td>\n      <td>24.80</td>\n      <td>21.10</td>\n      <td>46.1</td>\n      <td>305.0</td>\n      <td>4.66</td>\n      <td>25.7</td>\n      <td>81.3</td>\n    </tr>\n  </tbody>\n</table>\n</div>"
     },
     "metadata": {},
     "execution_count": 2
    }
   ],
   "source": [
    "from cdt.data import load_dataset\n",
    "data, graph = load_dataset(\"sachs\")\n",
    "\n",
    "# import io\n",
    "# import requests\n",
    "# # proxy_dict = {\"https\":\"https://xx.xx.x.xx:80\"} #replace proxy setting here\n",
    "\n",
    "# response = requests.get('http://archive.ics.uci.edu/ml/machine-learning-databases/auto-mpg/auto-mpg.data-original').text\n",
    "# # response = requests.get('http://archive.ics.uci.edu/ml/machine-learning-databases/auto-mpg/auto-mpg.data-original', proxies=proxy_dict).text\n",
    "\n",
    "# df = pd.read_csv(io.StringIO(response), delim_whitespace=True, header=None)\n",
    "\n",
    "\n",
    "# # Auto-MPG\n",
    "# req = Request('http://archive.ics.uci.edu/ml/machine-learning-databases/auto-mpg/auto-mpg.data-original')\n",
    "# req.add_header('User-Agent', 'Mozilla/5.0 (X11; Ubuntu; Linux x86_64; rv:77.0) Gecko/20100101 Firefox/77.0')\n",
    "# content = urlopen(req)\n",
    "# data = pd.read_csv(content,\n",
    "#                    delim_whitespace=True, header=None,\n",
    "                #    names = ['mpg', 'cylinders', 'displacement',\n",
    "                #             'horsepower', 'weight', 'acceleration',\n",
    "                #             'model year', 'origin', 'car name'])\n",
    "# data = pd.read_csv('http://archive.ics.uci.edu/ml/machine-learning-databases/auto-mpg/auto-mpg.data-original',\n",
    "#                    delim_whitespace=True, header=None,\n",
    "#                    names = ['mpg', 'cylinders', 'displacement',\n",
    "#                             'horsepower', 'weight', 'acceleration',\n",
    "#                             'model year', 'origin', 'car name'])\n",
    "data.dropna(inplace=True)\n",
    "# data.drop(['model year', 'origin', 'car name'], axis=1, inplace=True)\n",
    "# data.drop(['p44/42', 'PKC', 'PKA', 'praf'], axis=1, inplace=True)\n",
    "# data = data[:346]\n",
    "print(data.shape)\n",
    "data.head()"
   ]
  },
  {
   "source": [
    "## Utility function\n",
    "We define a utility function to draw the directed acyclic graph."
   ],
   "cell_type": "markdown",
   "metadata": {}
  },
  {
   "cell_type": "code",
   "execution_count": 3,
   "metadata": {},
   "outputs": [],
   "source": [
    "def make_graph(adjacency_matrix, labels=None):\n",
    "    idx = np.abs(adjacency_matrix) > 0.01\n",
    "    # print(adjacency_matrix[idx])\n",
    "    dirs = np.where(idx)\n",
    "    d = graphviz.Digraph(engine='dot')\n",
    "    names = labels if labels else [f'x{i}' for i in range(len(adjacency_matrix))]\n",
    "    for name in names:\n",
    "        d.node(name)\n",
    "    for to, from_, coef in zip(dirs[0], dirs[1], adjacency_matrix[idx]):\n",
    "        # print(names[from_], names[to], str(coef))\n",
    "        d.edge(names[from_], names[to], label=str(coef))\n",
    "        # d.edge(names[from_], names[to], label=f'{coef:.2f}')\n",
    "    return d\n",
    "\n",
    "def str_to_dot(string):\n",
    "    '''\n",
    "    Converts input string to valid DOT graph format\n",
    "    '''\n",
    "    graph = string.replace('\\n', ';').replace('\\t','')\n",
    "    graph = graph[:9] + graph[10:-2] + graph[-1]\n",
    "    return graph"
   ]
  },
  {
   "source": [
    "# Causal Discovery\n",
    "\n",
    "To run causal discovery, we create a DirectLiNGAM object and call the fit method."
   ],
   "cell_type": "markdown",
   "metadata": {}
  },
  {
   "cell_type": "code",
   "execution_count": 6,
   "metadata": {},
   "outputs": [
    {
     "output_type": "error",
     "ename": "KeyboardInterrupt",
     "evalue": "",
     "traceback": [
      "\u001b[0;31m---------------------------------------------------------------------------\u001b[0m",
      "\u001b[0;31mKeyboardInterrupt\u001b[0m                         Traceback (most recent call last)",
      "\u001b[0;32m<ipython-input-6-e8bcb917e72a>\u001b[0m in \u001b[0;36m<module>\u001b[0;34m\u001b[0m\n\u001b[1;32m     13\u001b[0m \u001b[0;31m# DirectLiNGAM by Kernel Method\u001b[0m\u001b[0;34m\u001b[0m\u001b[0;34m\u001b[0m\u001b[0;34m\u001b[0m\u001b[0m\n\u001b[1;32m     14\u001b[0m \u001b[0mmodel\u001b[0m \u001b[0;34m=\u001b[0m \u001b[0mlingam\u001b[0m\u001b[0;34m.\u001b[0m\u001b[0mDirectLiNGAM\u001b[0m\u001b[0;34m(\u001b[0m\u001b[0mmeasure\u001b[0m\u001b[0;34m=\u001b[0m\u001b[0;34m'kernel'\u001b[0m\u001b[0;34m)\u001b[0m\u001b[0;34m\u001b[0m\u001b[0;34m\u001b[0m\u001b[0m\n\u001b[0;32m---> 15\u001b[0;31m \u001b[0mmodel\u001b[0m\u001b[0;34m.\u001b[0m\u001b[0mfit\u001b[0m\u001b[0;34m(\u001b[0m\u001b[0mdata\u001b[0m\u001b[0;34m)\u001b[0m\u001b[0;34m\u001b[0m\u001b[0;34m\u001b[0m\u001b[0m\n\u001b[0m\u001b[1;32m     16\u001b[0m \u001b[0;31m# print(model.adjacency_matrix_)\u001b[0m\u001b[0;34m\u001b[0m\u001b[0;34m\u001b[0m\u001b[0;34m\u001b[0m\u001b[0m\n\u001b[1;32m     17\u001b[0m \u001b[0;31m# print(model.adjacency_matrix_.shape)\u001b[0m\u001b[0;34m\u001b[0m\u001b[0;34m\u001b[0m\u001b[0;34m\u001b[0m\u001b[0m\n",
      "\u001b[0;32m/usr/local/lib/python3.6/dist-packages/lingam/direct_lingam.py\u001b[0m in \u001b[0;36mfit\u001b[0;34m(self, X)\u001b[0m\n\u001b[1;32m     86\u001b[0m         \u001b[0;32mfor\u001b[0m \u001b[0m_\u001b[0m \u001b[0;32min\u001b[0m \u001b[0mrange\u001b[0m\u001b[0;34m(\u001b[0m\u001b[0mn_features\u001b[0m\u001b[0;34m)\u001b[0m\u001b[0;34m:\u001b[0m\u001b[0;34m\u001b[0m\u001b[0;34m\u001b[0m\u001b[0m\n\u001b[1;32m     87\u001b[0m             \u001b[0;32mif\u001b[0m \u001b[0mself\u001b[0m\u001b[0;34m.\u001b[0m\u001b[0m_measure\u001b[0m \u001b[0;34m==\u001b[0m \u001b[0;34m'kernel'\u001b[0m\u001b[0;34m:\u001b[0m\u001b[0;34m\u001b[0m\u001b[0;34m\u001b[0m\u001b[0m\n\u001b[0;32m---> 88\u001b[0;31m                 \u001b[0mm\u001b[0m \u001b[0;34m=\u001b[0m \u001b[0mself\u001b[0m\u001b[0;34m.\u001b[0m\u001b[0m_search_causal_order_kernel\u001b[0m\u001b[0;34m(\u001b[0m\u001b[0mX_\u001b[0m\u001b[0;34m,\u001b[0m \u001b[0mU\u001b[0m\u001b[0;34m)\u001b[0m\u001b[0;34m\u001b[0m\u001b[0;34m\u001b[0m\u001b[0m\n\u001b[0m\u001b[1;32m     89\u001b[0m             \u001b[0;32melse\u001b[0m\u001b[0;34m:\u001b[0m\u001b[0;34m\u001b[0m\u001b[0;34m\u001b[0m\u001b[0m\n\u001b[1;32m     90\u001b[0m                 \u001b[0mm\u001b[0m \u001b[0;34m=\u001b[0m \u001b[0mself\u001b[0m\u001b[0;34m.\u001b[0m\u001b[0m_search_causal_order\u001b[0m\u001b[0;34m(\u001b[0m\u001b[0mX_\u001b[0m\u001b[0;34m,\u001b[0m \u001b[0mU\u001b[0m\u001b[0;34m)\u001b[0m\u001b[0;34m\u001b[0m\u001b[0;34m\u001b[0m\u001b[0m\n",
      "\u001b[0;32m/usr/local/lib/python3.6/dist-packages/lingam/direct_lingam.py\u001b[0m in \u001b[0;36m_search_causal_order_kernel\u001b[0;34m(self, X, U)\u001b[0m\n\u001b[1;32m    248\u001b[0m                     ri_j = X[:, i] if j in Vj and i in Uc else self._residual(\n\u001b[1;32m    249\u001b[0m                         X[:, i], X[:, j])\n\u001b[0;32m--> 250\u001b[0;31m                     \u001b[0mTkernel\u001b[0m \u001b[0;34m+=\u001b[0m \u001b[0mself\u001b[0m\u001b[0;34m.\u001b[0m\u001b[0m_mutual_information\u001b[0m\u001b[0;34m(\u001b[0m\u001b[0mX\u001b[0m\u001b[0;34m[\u001b[0m\u001b[0;34m:\u001b[0m\u001b[0;34m,\u001b[0m \u001b[0mj\u001b[0m\u001b[0;34m]\u001b[0m\u001b[0;34m,\u001b[0m \u001b[0mri_j\u001b[0m\u001b[0;34m,\u001b[0m \u001b[0mparam\u001b[0m\u001b[0;34m)\u001b[0m\u001b[0;34m\u001b[0m\u001b[0;34m\u001b[0m\u001b[0m\n\u001b[0m\u001b[1;32m    251\u001b[0m             \u001b[0mTkernels\u001b[0m\u001b[0;34m.\u001b[0m\u001b[0mappend\u001b[0m\u001b[0;34m(\u001b[0m\u001b[0mTkernel\u001b[0m\u001b[0;34m)\u001b[0m\u001b[0;34m\u001b[0m\u001b[0;34m\u001b[0m\u001b[0m\n\u001b[1;32m    252\u001b[0m \u001b[0;34m\u001b[0m\u001b[0m\n",
      "\u001b[0;32m/usr/local/lib/python3.6/dist-packages/lingam/direct_lingam.py\u001b[0m in \u001b[0;36m_mutual_information\u001b[0;34m(self, x1, x2, param)\u001b[0m\n\u001b[1;32m    216\u001b[0m         \u001b[0mK1\u001b[0m \u001b[0;34m=\u001b[0m \u001b[0mnp\u001b[0m\u001b[0;34m.\u001b[0m\u001b[0mexp\u001b[0m\u001b[0;34m(\u001b[0m\u001b[0;34m-\u001b[0m\u001b[0;36m1\u001b[0m\u001b[0;34m/\u001b[0m\u001b[0;34m(\u001b[0m\u001b[0;36m2\u001b[0m\u001b[0;34m*\u001b[0m\u001b[0msigma\u001b[0m\u001b[0;34m**\u001b[0m\u001b[0;36m2\u001b[0m\u001b[0;34m)\u001b[0m \u001b[0;34m*\u001b[0m \u001b[0;34m(\u001b[0m\u001b[0mX1\u001b[0m\u001b[0;34m**\u001b[0m\u001b[0;36m2\u001b[0m \u001b[0;34m+\u001b[0m \u001b[0mX1\u001b[0m\u001b[0;34m.\u001b[0m\u001b[0mT\u001b[0m\u001b[0;34m**\u001b[0m\u001b[0;36m2\u001b[0m \u001b[0;34m-\u001b[0m \u001b[0;36m2\u001b[0m\u001b[0;34m*\u001b[0m\u001b[0mX1\u001b[0m\u001b[0;34m*\u001b[0m\u001b[0mX1\u001b[0m\u001b[0;34m.\u001b[0m\u001b[0mT\u001b[0m\u001b[0;34m)\u001b[0m\u001b[0;34m)\u001b[0m\u001b[0;34m\u001b[0m\u001b[0;34m\u001b[0m\u001b[0m\n\u001b[1;32m    217\u001b[0m         \u001b[0mX2\u001b[0m \u001b[0;34m=\u001b[0m \u001b[0mnp\u001b[0m\u001b[0;34m.\u001b[0m\u001b[0mtile\u001b[0m\u001b[0;34m(\u001b[0m\u001b[0mx2\u001b[0m\u001b[0;34m,\u001b[0m \u001b[0;34m(\u001b[0m\u001b[0mn\u001b[0m\u001b[0;34m,\u001b[0m \u001b[0;36m1\u001b[0m\u001b[0;34m)\u001b[0m\u001b[0;34m)\u001b[0m\u001b[0;34m\u001b[0m\u001b[0;34m\u001b[0m\u001b[0m\n\u001b[0;32m--> 218\u001b[0;31m         \u001b[0mK2\u001b[0m \u001b[0;34m=\u001b[0m \u001b[0mnp\u001b[0m\u001b[0;34m.\u001b[0m\u001b[0mexp\u001b[0m\u001b[0;34m(\u001b[0m\u001b[0;34m-\u001b[0m\u001b[0;36m1\u001b[0m\u001b[0;34m/\u001b[0m\u001b[0;34m(\u001b[0m\u001b[0;36m2\u001b[0m\u001b[0;34m*\u001b[0m\u001b[0msigma\u001b[0m\u001b[0;34m**\u001b[0m\u001b[0;36m2\u001b[0m\u001b[0;34m)\u001b[0m \u001b[0;34m*\u001b[0m \u001b[0;34m(\u001b[0m\u001b[0mX2\u001b[0m\u001b[0;34m**\u001b[0m\u001b[0;36m2\u001b[0m \u001b[0;34m+\u001b[0m \u001b[0mX2\u001b[0m\u001b[0;34m.\u001b[0m\u001b[0mT\u001b[0m\u001b[0;34m**\u001b[0m\u001b[0;36m2\u001b[0m \u001b[0;34m-\u001b[0m \u001b[0;36m2\u001b[0m\u001b[0;34m*\u001b[0m\u001b[0mX2\u001b[0m\u001b[0;34m*\u001b[0m\u001b[0mX2\u001b[0m\u001b[0;34m.\u001b[0m\u001b[0mT\u001b[0m\u001b[0;34m)\u001b[0m\u001b[0;34m)\u001b[0m\u001b[0;34m\u001b[0m\u001b[0;34m\u001b[0m\u001b[0m\n\u001b[0m\u001b[1;32m    219\u001b[0m \u001b[0;34m\u001b[0m\u001b[0m\n\u001b[1;32m    220\u001b[0m         \u001b[0mtmp1\u001b[0m \u001b[0;34m=\u001b[0m \u001b[0mK1\u001b[0m \u001b[0;34m+\u001b[0m \u001b[0mn\u001b[0m\u001b[0;34m*\u001b[0m\u001b[0mkappa\u001b[0m\u001b[0;34m*\u001b[0m\u001b[0mnp\u001b[0m\u001b[0;34m.\u001b[0m\u001b[0midentity\u001b[0m\u001b[0;34m(\u001b[0m\u001b[0mn\u001b[0m\u001b[0;34m)\u001b[0m\u001b[0;34m/\u001b[0m\u001b[0;36m2\u001b[0m\u001b[0;34m\u001b[0m\u001b[0;34m\u001b[0m\u001b[0m\n",
      "\u001b[0;31mKeyboardInterrupt\u001b[0m: "
     ]
    }
   ],
   "source": [
    "graphs = {}\n",
    "labels = [f'{col}' for i, col in enumerate(data.columns)]\n",
    "\n",
    "# # DirectLiNGAM\n",
    "# pk = make_prior_knowledge(\n",
    "#     n_variables=len(data.columns),\n",
    "#     sink_variables=[4])\n",
    "# model = lingam.DirectLiNGAM(prior_knowledge=pk)\n",
    "# model.fit(data)\n",
    "# graph_dot = make_graph(model.adjacency_matrix_, labels)\n",
    "# graphs['DirectLiNGAM'] = graph_dot\n",
    "\n",
    "# DirectLiNGAM by Kernel Method\n",
    "model = lingam.DirectLiNGAM(measure='kernel')\n",
    "model.fit(data)\n",
    "# print(model.adjacency_matrix_)\n",
    "# print(model.adjacency_matrix_.shape)\n",
    "# print(labels)\n",
    "if type(model.adjacency_matrix_) is np.ndarray:\n",
    "    print(\"YES\")\n",
    "graph_dot = make_graph(model.adjacency_matrix_, labels)\n",
    "graphs['DirectLiNGAM by Kernel Method'] = graph_dot\n",
    "\n",
    "# # ICALiNGAM\n",
    "# model = lingam.ICALiNGAM()\n",
    "# model.fit(data)\n",
    "# graph_dot = make_graph(model.adjacency_matrix_, labels)\n",
    "# graphs['ICALiNGAM'] = graph_dot\n",
    "\n",
    "# # BottomUpParceLiNGAM\n",
    "# prior_knowledge = make_prior_knowledge(\n",
    "#     n_variables=len(data.columns),\n",
    "#     sink_variables=[4])\n",
    "# model = lingam.BottomUpParceLiNGAM(prior_knowledge=prior_knowledge)\n",
    "# model.fit(data)\n",
    "# graph_dot = make_graph(model.adjacency_matrix_, labels)\n",
    "# graphs['BottomUpParceLiNGAM'] = graph_dot\n",
    "\n",
    "# # PC Algorithm\n",
    "# dm = np.array(bin_data).reshape((5000, 5))\n",
    "# dm = np.array(data.to_numpy()).astype('int')\n",
    "# print(dm.shape)\n",
    "# print(data.shape)\n",
    "# (g, sep_set) = pcalg.estimate_skeleton(indep_test_func=ci_test_bin, data_matrix=dm, alpha=0.01)\n",
    "# g = pcalg.estimate_cpdag(skel_graph=g, sep_set=sep_set)\n",
    "# adjacency_matrix = nx.to_numpy_matrix(g)\n",
    "# print(adjacency_matrix.shape)\n",
    "\n",
    "# Visualize graphs\n",
    "for method, graph in graphs.items():\n",
    "    print(\"Method : %s\"%(method))\n",
    "    display(graph)"
   ]
  },
  {
   "source": [
    "# Causal Discovery with Causal Discovery Tool (CDT)"
   ],
   "cell_type": "markdown",
   "metadata": {}
  },
  {
   "cell_type": "code",
   "execution_count": 5,
   "metadata": {},
   "outputs": [
    {
     "output_type": "stream",
     "name": "stdout",
     "text": [
      "Method : LiNGAM\n"
     ]
    },
    {
     "output_type": "display_data",
     "data": {
      "text/plain": "<graphviz.dot.Digraph at 0x7fa53c6d54a8>",
      "image/svg+xml": "<?xml version=\"1.0\" encoding=\"UTF-8\" standalone=\"no\"?>\n<!DOCTYPE svg PUBLIC \"-//W3C//DTD SVG 1.1//EN\"\n \"http://www.w3.org/Graphics/SVG/1.1/DTD/svg11.dtd\">\n<!-- Generated by graphviz version 2.40.1 (20161225.0304)\n -->\n<!-- Title: %3 Pages: 1 -->\n<svg width=\"904pt\" height=\"218pt\"\n viewBox=\"0.00 0.00 904.40 218.00\" xmlns=\"http://www.w3.org/2000/svg\" xmlns:xlink=\"http://www.w3.org/1999/xlink\">\n<g id=\"graph0\" class=\"graph\" transform=\"scale(1 1) rotate(0) translate(4 214)\">\n<title>%3</title>\n<polygon fill=\"#ffffff\" stroke=\"transparent\" points=\"-4,4 -4,-214 900.3968,-214 900.3968,4 -4,4\"/>\n<!-- praf -->\n<g id=\"node1\" class=\"node\">\n<title>praf</title>\n<ellipse fill=\"none\" stroke=\"#000000\" cx=\"36.3968\" cy=\"-192\" rx=\"29.795\" ry=\"18\"/>\n<text text-anchor=\"middle\" x=\"36.3968\" y=\"-188.3\" font-family=\"Times,serif\" font-size=\"14.00\" fill=\"#000000\">praf</text>\n</g>\n<!-- pmek -->\n<g id=\"node2\" class=\"node\">\n<title>pmek</title>\n<ellipse fill=\"none\" stroke=\"#000000\" cx=\"36.3968\" cy=\"-105\" rx=\"36.2938\" ry=\"18\"/>\n<text text-anchor=\"middle\" x=\"36.3968\" y=\"-101.3\" font-family=\"Times,serif\" font-size=\"14.00\" fill=\"#000000\">pmek</text>\n</g>\n<!-- praf&#45;&gt;pmek -->\n<g id=\"edge1\" class=\"edge\">\n<title>praf&#45;&gt;pmek</title>\n<path fill=\"none\" stroke=\"#000000\" d=\"M36.3968,-173.9735C36.3968,-162.1918 36.3968,-146.5607 36.3968,-133.1581\"/>\n<polygon fill=\"#000000\" stroke=\"#000000\" points=\"39.8969,-133.0033 36.3968,-123.0034 32.8969,-133.0034 39.8969,-133.0033\"/>\n<text text-anchor=\"middle\" x=\"115.3968\" y=\"-144.8\" font-family=\"Times,serif\" font-size=\"14.00\" fill=\"#000000\">0.8643793158466808</text>\n</g>\n<!-- plcg -->\n<g id=\"node3\" class=\"node\">\n<title>plcg</title>\n<ellipse fill=\"none\" stroke=\"#000000\" cx=\"217.3968\" cy=\"-192\" rx=\"30.5947\" ry=\"18\"/>\n<text text-anchor=\"middle\" x=\"217.3968\" y=\"-188.3\" font-family=\"Times,serif\" font-size=\"14.00\" fill=\"#000000\">plcg</text>\n</g>\n<!-- PIP2 -->\n<g id=\"node4\" class=\"node\">\n<title>PIP2</title>\n<ellipse fill=\"none\" stroke=\"#000000\" cx=\"307.3968\" cy=\"-105\" rx=\"33.2948\" ry=\"18\"/>\n<text text-anchor=\"middle\" x=\"307.3968\" y=\"-101.3\" font-family=\"Times,serif\" font-size=\"14.00\" fill=\"#000000\">PIP2</text>\n</g>\n<!-- plcg&#45;&gt;PIP2 -->\n<g id=\"edge2\" class=\"edge\">\n<title>plcg&#45;&gt;PIP2</title>\n<path fill=\"none\" stroke=\"#000000\" d=\"M213.14,-173.9887C211.7118,-163.4855 211.8676,-150.4822 218.3968,-141 229.0642,-125.5078 247.6219,-116.6786 265.0403,-111.6484\"/>\n<polygon fill=\"#000000\" stroke=\"#000000\" points=\"266.2602,-114.9501 275.0961,-109.1041 264.5431,-108.164 266.2602,-114.9501\"/>\n<text text-anchor=\"middle\" x=\"297.3968\" y=\"-144.8\" font-family=\"Times,serif\" font-size=\"14.00\" fill=\"#000000\">1.7589781213856999</text>\n</g>\n<!-- PIP3 -->\n<g id=\"node5\" class=\"node\">\n<title>PIP3</title>\n<ellipse fill=\"none\" stroke=\"#000000\" cx=\"398.3968\" cy=\"-192\" rx=\"33.2948\" ry=\"18\"/>\n<text text-anchor=\"middle\" x=\"398.3968\" y=\"-188.3\" font-family=\"Times,serif\" font-size=\"14.00\" fill=\"#000000\">PIP3</text>\n</g>\n<!-- PIP3&#45;&gt;PIP2 -->\n<g id=\"edge3\" class=\"edge\">\n<title>PIP3&#45;&gt;PIP2</title>\n<path fill=\"none\" stroke=\"#000000\" d=\"M393.855,-173.7723C390.4685,-163.1924 384.9286,-150.1843 376.3968,-141 367.7755,-131.7194 356.215,-124.4081 345.0243,-118.8684\"/>\n<polygon fill=\"#000000\" stroke=\"#000000\" points=\"346.3321,-115.6177 335.7837,-114.6274 343.4123,-121.9797 346.3321,-115.6177\"/>\n<text text-anchor=\"middle\" x=\"461.8968\" y=\"-144.8\" font-family=\"Times,serif\" font-size=\"14.00\" fill=\"#000000\">0.833424626995035</text>\n</g>\n<!-- p44/42 -->\n<g id=\"node6\" class=\"node\">\n<title>p44/42</title>\n<ellipse fill=\"none\" stroke=\"#000000\" cx=\"570.3968\" cy=\"-192\" rx=\"42.7926\" ry=\"18\"/>\n<text text-anchor=\"middle\" x=\"570.3968\" y=\"-188.3\" font-family=\"Times,serif\" font-size=\"14.00\" fill=\"#000000\">p44/42</text>\n</g>\n<!-- pakts473 -->\n<g id=\"node7\" class=\"node\">\n<title>pakts473</title>\n<ellipse fill=\"none\" stroke=\"#000000\" cx=\"570.3968\" cy=\"-105\" rx=\"53.8905\" ry=\"18\"/>\n<text text-anchor=\"middle\" x=\"570.3968\" y=\"-101.3\" font-family=\"Times,serif\" font-size=\"14.00\" fill=\"#000000\">pakts473</text>\n</g>\n<!-- p44/42&#45;&gt;pakts473 -->\n<g id=\"edge4\" class=\"edge\">\n<title>p44/42&#45;&gt;pakts473</title>\n<path fill=\"none\" stroke=\"#000000\" d=\"M570.3968,-173.9735C570.3968,-162.1918 570.3968,-146.5607 570.3968,-133.1581\"/>\n<polygon fill=\"#000000\" stroke=\"#000000\" points=\"573.8969,-133.0033 570.3968,-123.0034 566.8969,-133.0034 573.8969,-133.0033\"/>\n<text text-anchor=\"middle\" x=\"640.3968\" y=\"-144.8\" font-family=\"Times,serif\" font-size=\"14.00\" fill=\"#000000\">2.25734133053002</text>\n</g>\n<!-- PKA -->\n<g id=\"node8\" class=\"node\">\n<title>PKA</title>\n<ellipse fill=\"none\" stroke=\"#000000\" cx=\"570.3968\" cy=\"-18\" rx=\"30.5947\" ry=\"18\"/>\n<text text-anchor=\"middle\" x=\"570.3968\" y=\"-14.3\" font-family=\"Times,serif\" font-size=\"14.00\" fill=\"#000000\">PKA</text>\n</g>\n<!-- pakts473&#45;&gt;PKA -->\n<g id=\"edge5\" class=\"edge\">\n<title>pakts473&#45;&gt;PKA</title>\n<path fill=\"none\" stroke=\"#000000\" d=\"M570.3968,-86.9735C570.3968,-75.1918 570.3968,-59.5607 570.3968,-46.1581\"/>\n<polygon fill=\"#000000\" stroke=\"#000000\" points=\"573.8969,-46.0033 570.3968,-36.0034 566.8969,-46.0034 573.8969,-46.0033\"/>\n<text text-anchor=\"middle\" x=\"649.3968\" y=\"-57.8\" font-family=\"Times,serif\" font-size=\"14.00\" fill=\"#000000\">12.587072805304999</text>\n</g>\n<!-- PKC -->\n<g id=\"node9\" class=\"node\">\n<title>PKC</title>\n<ellipse fill=\"none\" stroke=\"#000000\" cx=\"661.3968\" cy=\"-192\" rx=\"30.5947\" ry=\"18\"/>\n<text text-anchor=\"middle\" x=\"661.3968\" y=\"-188.3\" font-family=\"Times,serif\" font-size=\"14.00\" fill=\"#000000\">PKC</text>\n</g>\n<!-- P38 -->\n<g id=\"node10\" class=\"node\">\n<title>P38</title>\n<ellipse fill=\"none\" stroke=\"#000000\" cx=\"738.3968\" cy=\"-192\" rx=\"28.6953\" ry=\"18\"/>\n<text text-anchor=\"middle\" x=\"738.3968\" y=\"-188.3\" font-family=\"Times,serif\" font-size=\"14.00\" fill=\"#000000\">P38</text>\n</g>\n<!-- pjnk -->\n<g id=\"node11\" class=\"node\">\n<title>pjnk</title>\n<ellipse fill=\"none\" stroke=\"#000000\" cx=\"738.3968\" cy=\"-105\" rx=\"31.3957\" ry=\"18\"/>\n<text text-anchor=\"middle\" x=\"738.3968\" y=\"-101.3\" font-family=\"Times,serif\" font-size=\"14.00\" fill=\"#000000\">pjnk</text>\n</g>\n<!-- P38&#45;&gt;pjnk -->\n<g id=\"edge6\" class=\"edge\">\n<title>P38&#45;&gt;pjnk</title>\n<path fill=\"none\" stroke=\"#000000\" d=\"M738.3968,-173.9735C738.3968,-162.1918 738.3968,-146.5607 738.3968,-133.1581\"/>\n<polygon fill=\"#000000\" stroke=\"#000000\" points=\"741.8969,-133.0033 738.3968,-123.0034 734.8969,-133.0034 741.8969,-133.0033\"/>\n<text text-anchor=\"middle\" x=\"817.3968\" y=\"-144.8\" font-family=\"Times,serif\" font-size=\"14.00\" fill=\"#000000\">0.6993939446648361</text>\n</g>\n</g>\n</svg>\n"
     },
     "metadata": {}
    },
    {
     "output_type": "stream",
     "name": "stdout",
     "text": [
      "Method : PC\n"
     ]
    },
    {
     "output_type": "display_data",
     "data": {
      "text/plain": "<graphviz.dot.Digraph at 0x7fa53c6d5630>",
      "image/svg+xml": "<?xml version=\"1.0\" encoding=\"UTF-8\" standalone=\"no\"?>\n<!DOCTYPE svg PUBLIC \"-//W3C//DTD SVG 1.1//EN\"\n \"http://www.w3.org/Graphics/SVG/1.1/DTD/svg11.dtd\">\n<!-- Generated by graphviz version 2.40.1 (20161225.0304)\n -->\n<!-- Title: %3 Pages: 1 -->\n<svg width=\"517pt\" height=\"740pt\"\n viewBox=\"0.00 0.00 517.15 740.00\" xmlns=\"http://www.w3.org/2000/svg\" xmlns:xlink=\"http://www.w3.org/1999/xlink\">\n<g id=\"graph0\" class=\"graph\" transform=\"scale(1 1) rotate(0) translate(4 736)\">\n<title>%3</title>\n<polygon fill=\"#ffffff\" stroke=\"transparent\" points=\"-4,4 -4,-736 513.1471,-736 513.1471,4 -4,4\"/>\n<!-- praf -->\n<g id=\"node1\" class=\"node\">\n<title>praf</title>\n<ellipse fill=\"none\" stroke=\"#000000\" cx=\"215\" cy=\"-540\" rx=\"29.795\" ry=\"18\"/>\n<text text-anchor=\"middle\" x=\"215\" y=\"-536.3\" font-family=\"Times,serif\" font-size=\"14.00\" fill=\"#000000\">praf</text>\n</g>\n<!-- pmek -->\n<g id=\"node2\" class=\"node\">\n<title>pmek</title>\n<ellipse fill=\"none\" stroke=\"#000000\" cx=\"211\" cy=\"-453\" rx=\"36.2938\" ry=\"18\"/>\n<text text-anchor=\"middle\" x=\"211\" y=\"-449.3\" font-family=\"Times,serif\" font-size=\"14.00\" fill=\"#000000\">pmek</text>\n</g>\n<!-- praf&#45;&gt;pmek -->\n<g id=\"edge4\" class=\"edge\">\n<title>praf&#45;&gt;pmek</title>\n<path fill=\"none\" stroke=\"#000000\" d=\"M214.1712,-521.9735C213.6295,-510.1918 212.9108,-494.5607 212.2946,-481.1581\"/>\n<polygon fill=\"#000000\" stroke=\"#000000\" points=\"215.7834,-480.832 211.8277,-471.0034 208.7908,-481.1536 215.7834,-480.832\"/>\n<text text-anchor=\"middle\" x=\"224.5\" y=\"-492.8\" font-family=\"Times,serif\" font-size=\"14.00\" fill=\"#000000\">1.0</text>\n</g>\n<!-- P38 -->\n<g id=\"node10\" class=\"node\">\n<title>P38</title>\n<ellipse fill=\"none\" stroke=\"#000000\" cx=\"167\" cy=\"-366\" rx=\"28.6953\" ry=\"18\"/>\n<text text-anchor=\"middle\" x=\"167\" y=\"-362.3\" font-family=\"Times,serif\" font-size=\"14.00\" fill=\"#000000\">P38</text>\n</g>\n<!-- pmek&#45;&gt;P38 -->\n<g id=\"edge21\" class=\"edge\">\n<title>pmek&#45;&gt;P38</title>\n<path fill=\"none\" stroke=\"#000000\" d=\"M202.0959,-435.3943C195.8527,-423.0496 187.3971,-406.3306 180.3499,-392.3965\"/>\n<polygon fill=\"#000000\" stroke=\"#000000\" points=\"183.3771,-390.6267 175.7407,-383.2827 177.1305,-393.7859 183.3771,-390.6267\"/>\n<text text-anchor=\"middle\" x=\"202.5\" y=\"-405.8\" font-family=\"Times,serif\" font-size=\"14.00\" fill=\"#000000\">1.0</text>\n</g>\n<!-- plcg -->\n<g id=\"node3\" class=\"node\">\n<title>plcg</title>\n<ellipse fill=\"none\" stroke=\"#000000\" cx=\"350\" cy=\"-627\" rx=\"30.5947\" ry=\"18\"/>\n<text text-anchor=\"middle\" x=\"350\" y=\"-623.3\" font-family=\"Times,serif\" font-size=\"14.00\" fill=\"#000000\">plcg</text>\n</g>\n<!-- plcg&#45;&gt;praf -->\n<g id=\"edge1\" class=\"edge\">\n<title>plcg&#45;&gt;praf</title>\n<path fill=\"none\" stroke=\"#000000\" d=\"M320.1055,-622.5319C297.4559,-617.8741 266.6449,-608.6718 245,-591 237.1696,-584.607 230.9263,-575.593 226.207,-566.9177\"/>\n<polygon fill=\"#000000\" stroke=\"#000000\" points=\"229.255,-565.1857 221.6812,-557.777 222.9819,-568.2917 229.255,-565.1857\"/>\n<text text-anchor=\"middle\" x=\"256.5\" y=\"-579.8\" font-family=\"Times,serif\" font-size=\"14.00\" fill=\"#000000\">1.0</text>\n</g>\n<!-- plcg&#45;&gt;pmek -->\n<g id=\"edge5\" class=\"edge\">\n<title>plcg&#45;&gt;pmek</title>\n<path fill=\"none\" stroke=\"#000000\" d=\"M335.931,-611.0226C330.5604,-604.83 324.4267,-597.6431 319,-591 282.7243,-546.5931 275.5428,-533.9957 240,-489 237.124,-485.3591 234.0679,-481.5266 231.0599,-477.7749\"/>\n<polygon fill=\"#000000\" stroke=\"#000000\" points=\"233.6358,-475.3931 224.64,-469.7962 228.1821,-479.7814 233.6358,-475.3931\"/>\n<text text-anchor=\"middle\" x=\"303.5\" y=\"-536.3\" font-family=\"Times,serif\" font-size=\"14.00\" fill=\"#000000\">1.0</text>\n</g>\n<!-- PIP3 -->\n<g id=\"node5\" class=\"node\">\n<title>PIP3</title>\n<ellipse fill=\"none\" stroke=\"#000000\" cx=\"476\" cy=\"-540\" rx=\"33.2948\" ry=\"18\"/>\n<text text-anchor=\"middle\" x=\"476\" y=\"-536.3\" font-family=\"Times,serif\" font-size=\"14.00\" fill=\"#000000\">PIP3</text>\n</g>\n<!-- plcg&#45;&gt;PIP3 -->\n<g id=\"edge9\" class=\"edge\">\n<title>plcg&#45;&gt;PIP3</title>\n<path fill=\"none\" stroke=\"#000000\" d=\"M374.9453,-616.4318C389.0121,-609.9712 406.5983,-601.0329 421,-591 432.4662,-583.0121 443.9839,-572.7594 453.4952,-563.5443\"/>\n<polygon fill=\"#000000\" stroke=\"#000000\" points=\"456.0215,-565.9681 460.6535,-556.4394 451.0904,-560.9998 456.0215,-565.9681\"/>\n<text text-anchor=\"middle\" x=\"449.5\" y=\"-579.8\" font-family=\"Times,serif\" font-size=\"14.00\" fill=\"#000000\">1.0</text>\n</g>\n<!-- p44/42 -->\n<g id=\"node6\" class=\"node\">\n<title>p44/42</title>\n<ellipse fill=\"none\" stroke=\"#000000\" cx=\"281\" cy=\"-192\" rx=\"42.7926\" ry=\"18\"/>\n<text text-anchor=\"middle\" x=\"281\" y=\"-188.3\" font-family=\"Times,serif\" font-size=\"14.00\" fill=\"#000000\">p44/42</text>\n</g>\n<!-- plcg&#45;&gt;p44/42 -->\n<g id=\"edge11\" class=\"edge\">\n<title>plcg&#45;&gt;p44/42</title>\n<path fill=\"none\" stroke=\"#000000\" d=\"M354.1724,-609.1538C355.33,-603.3937 356.4262,-596.9575 357,-591 357.6392,-584.364 357.1181,-582.6656 357,-576 354.5045,-435.209 362.3458,-396.2045 323,-261 318.5483,-245.7026 317.0697,-241.737 309,-228 306.8343,-224.3134 304.3364,-220.5803 301.7429,-216.9843\"/>\n<polygon fill=\"#000000\" stroke=\"#000000\" points=\"304.4626,-214.7783 295.6288,-208.9289 298.8868,-219.0104 304.4626,-214.7783\"/>\n<text text-anchor=\"middle\" x=\"364.5\" y=\"-405.8\" font-family=\"Times,serif\" font-size=\"14.00\" fill=\"#000000\">1.0</text>\n</g>\n<!-- pakts473 -->\n<g id=\"node7\" class=\"node\">\n<title>pakts473</title>\n<ellipse fill=\"none\" stroke=\"#000000\" cx=\"80\" cy=\"-279\" rx=\"53.8905\" ry=\"18\"/>\n<text text-anchor=\"middle\" x=\"80\" y=\"-275.3\" font-family=\"Times,serif\" font-size=\"14.00\" fill=\"#000000\">pakts473</text>\n</g>\n<!-- plcg&#45;&gt;pakts473 -->\n<g id=\"edge14\" class=\"edge\">\n<title>plcg&#45;&gt;pakts473</title>\n<path fill=\"none\" stroke=\"#000000\" d=\"M319.2466,-625.9095C233.8401,-622.0521 0,-605.5088 0,-540 0,-540 0,-540 0,-366 0,-338.2847 22.2705,-315.5964 43.3108,-300.3459\"/>\n<polygon fill=\"#000000\" stroke=\"#000000\" points=\"45.3096,-303.2191 51.5697,-294.6715 41.3456,-297.4497 45.3096,-303.2191\"/>\n<text text-anchor=\"middle\" x=\"11.5\" y=\"-449.3\" font-family=\"Times,serif\" font-size=\"14.00\" fill=\"#000000\">1.0</text>\n</g>\n<!-- PKA -->\n<g id=\"node8\" class=\"node\">\n<title>PKA</title>\n<ellipse fill=\"none\" stroke=\"#000000\" cx=\"283\" cy=\"-279\" rx=\"30.5947\" ry=\"18\"/>\n<text text-anchor=\"middle\" x=\"283\" y=\"-275.3\" font-family=\"Times,serif\" font-size=\"14.00\" fill=\"#000000\">PKA</text>\n</g>\n<!-- plcg&#45;&gt;PKA -->\n<g id=\"edge17\" class=\"edge\">\n<title>plcg&#45;&gt;PKA</title>\n<path fill=\"none\" stroke=\"#000000\" d=\"M347.5221,-608.906C340.7588,-560.7269 320.6895,-425.4631 294,-315 293.3463,-312.2942 292.6055,-309.4923 291.8249,-306.701\"/>\n<polygon fill=\"#000000\" stroke=\"#000000\" points=\"295.0981,-305.427 288.9066,-296.8295 288.3852,-307.4115 295.0981,-305.427\"/>\n<text text-anchor=\"middle\" x=\"336.5\" y=\"-449.3\" font-family=\"Times,serif\" font-size=\"14.00\" fill=\"#000000\">1.0</text>\n</g>\n<!-- pjnk -->\n<g id=\"node11\" class=\"node\">\n<title>pjnk</title>\n<ellipse fill=\"none\" stroke=\"#000000\" cx=\"200\" cy=\"-105\" rx=\"31.3957\" ry=\"18\"/>\n<text text-anchor=\"middle\" x=\"200\" y=\"-101.3\" font-family=\"Times,serif\" font-size=\"14.00\" fill=\"#000000\">pjnk</text>\n</g>\n<!-- plcg&#45;&gt;pjnk -->\n<g id=\"edge23\" class=\"edge\">\n<title>plcg&#45;&gt;pjnk</title>\n<path fill=\"none\" stroke=\"#000000\" d=\"M368.328,-612.447C385.9729,-596.6675 410,-569.7235 410,-540 410,-540 410,-540 410,-192 410,-155.5343 300.5581,-126.3782 239.6884,-112.9821\"/>\n<polygon fill=\"#000000\" stroke=\"#000000\" points=\"240.1554,-109.5025 229.6425,-110.817 238.6806,-116.3454 240.1554,-109.5025\"/>\n<text text-anchor=\"middle\" x=\"421.5\" y=\"-362.3\" font-family=\"Times,serif\" font-size=\"14.00\" fill=\"#000000\">1.0</text>\n</g>\n<!-- PIP2 -->\n<g id=\"node4\" class=\"node\">\n<title>PIP2</title>\n<ellipse fill=\"none\" stroke=\"#000000\" cx=\"416\" cy=\"-714\" rx=\"33.2948\" ry=\"18\"/>\n<text text-anchor=\"middle\" x=\"416\" y=\"-710.3\" font-family=\"Times,serif\" font-size=\"14.00\" fill=\"#000000\">PIP2</text>\n</g>\n<!-- PIP2&#45;&gt;plcg -->\n<g id=\"edge8\" class=\"edge\">\n<title>PIP2&#45;&gt;plcg</title>\n<path fill=\"none\" stroke=\"#000000\" d=\"M403.2745,-697.2255C393.5048,-684.3473 379.8644,-666.3667 368.8319,-651.8238\"/>\n<polygon fill=\"#000000\" stroke=\"#000000\" points=\"371.5187,-649.5745 362.6864,-643.723 365.9419,-653.8053 371.5187,-649.5745\"/>\n<text text-anchor=\"middle\" x=\"397.5\" y=\"-666.8\" font-family=\"Times,serif\" font-size=\"14.00\" fill=\"#000000\">1.0</text>\n</g>\n<!-- PIP2&#45;&gt;PIP3 -->\n<g id=\"edge10\" class=\"edge\">\n<title>PIP2&#45;&gt;PIP3</title>\n<path fill=\"none\" stroke=\"#000000\" d=\"M424.0909,-696.4075C434.6827,-672.8281 453.2752,-629.4793 465,-591 467.2507,-583.6135 469.2222,-575.491 470.8509,-567.9417\"/>\n<polygon fill=\"#000000\" stroke=\"#000000\" points=\"474.2839,-568.6233 472.8534,-558.1255 467.4252,-567.2241 474.2839,-568.6233\"/>\n<text text-anchor=\"middle\" x=\"469.5\" y=\"-623.3\" font-family=\"Times,serif\" font-size=\"14.00\" fill=\"#000000\">1.0</text>\n</g>\n<!-- p44/42&#45;&gt;pjnk -->\n<g id=\"edge24\" class=\"edge\">\n<title>p44/42&#45;&gt;pjnk</title>\n<path fill=\"none\" stroke=\"#000000\" d=\"M265.3824,-175.2255C253.1251,-162.0603 235.9033,-143.5628 222.2114,-128.8567\"/>\n<polygon fill=\"#000000\" stroke=\"#000000\" points=\"224.3978,-126.0687 215.022,-121.1347 219.2746,-130.8387 224.3978,-126.0687\"/>\n<text text-anchor=\"middle\" x=\"256.5\" y=\"-144.8\" font-family=\"Times,serif\" font-size=\"14.00\" fill=\"#000000\">1.0</text>\n</g>\n<!-- pakts473&#45;&gt;praf -->\n<g id=\"edge2\" class=\"edge\">\n<title>pakts473&#45;&gt;praf</title>\n<path fill=\"none\" stroke=\"#000000\" d=\"M77.491,-297.0019C74.5409,-324.827 72.5665,-379.03 95,-417 119.6174,-458.6664 161.2204,-496.9162 188.3978,-519.3489\"/>\n<polygon fill=\"#000000\" stroke=\"#000000\" points=\"186.3639,-522.2058 196.3343,-525.7893 190.7747,-516.7703 186.3639,-522.2058\"/>\n<text text-anchor=\"middle\" x=\"106.5\" y=\"-405.8\" font-family=\"Times,serif\" font-size=\"14.00\" fill=\"#000000\">1.0</text>\n</g>\n<!-- pakts473&#45;&gt;pmek -->\n<g id=\"edge6\" class=\"edge\">\n<title>pakts473&#45;&gt;pmek</title>\n<path fill=\"none\" stroke=\"#000000\" d=\"M80.5585,-297.3718C82.0767,-319.7462 87.4437,-357.7907 106,-384 122.8386,-407.7832 150.6972,-425.5345 173.4885,-437.0725\"/>\n<polygon fill=\"#000000\" stroke=\"#000000\" points=\"172.054,-440.2668 182.5783,-441.4873 175.1122,-433.9701 172.054,-440.2668\"/>\n<text text-anchor=\"middle\" x=\"117.5\" y=\"-362.3\" font-family=\"Times,serif\" font-size=\"14.00\" fill=\"#000000\">1.0</text>\n</g>\n<!-- pakts473&#45;&gt;p44/42 -->\n<g id=\"edge12\" class=\"edge\">\n<title>pakts473&#45;&gt;p44/42</title>\n<path fill=\"none\" stroke=\"#000000\" d=\"M130.4794,-272.5263C159.1379,-267.3785 194.9706,-258.3886 224,-243 236.9017,-236.1607 249.2372,-225.7865 259.1122,-216.1762\"/>\n<polygon fill=\"#000000\" stroke=\"#000000\" points=\"261.6161,-218.6218 266.1527,-209.0473 256.6355,-213.703 261.6161,-218.6218\"/>\n<text text-anchor=\"middle\" x=\"255.5\" y=\"-231.8\" font-family=\"Times,serif\" font-size=\"14.00\" fill=\"#000000\">1.0</text>\n</g>\n<!-- PKA&#45;&gt;praf -->\n<g id=\"edge3\" class=\"edge\">\n<title>PKA&#45;&gt;praf</title>\n<path fill=\"none\" stroke=\"#000000\" d=\"M282.3737,-297.1525C280.7631,-331.7256 275.1423,-409.094 256,-471 251.1638,-486.6401 242.1315,-502.4571 233.773,-514.9947\"/>\n<polygon fill=\"#000000\" stroke=\"#000000\" points=\"230.7002,-513.2837 227.8754,-523.495 236.4515,-517.274 230.7002,-513.2837\"/>\n<text text-anchor=\"middle\" x=\"282.5\" y=\"-405.8\" font-family=\"Times,serif\" font-size=\"14.00\" fill=\"#000000\">1.0</text>\n</g>\n<!-- PKA&#45;&gt;pmek -->\n<g id=\"edge7\" class=\"edge\">\n<title>PKA&#45;&gt;pmek</title>\n<path fill=\"none\" stroke=\"#000000\" d=\"M272.7278,-296.1762C264.7854,-309.8957 253.8556,-329.7755 246,-348 235.0186,-373.476 225.2915,-403.6128 218.8966,-425.0505\"/>\n<polygon fill=\"#000000\" stroke=\"#000000\" points=\"215.4881,-424.2364 216.0341,-434.8171 222.2055,-426.2053 215.4881,-424.2364\"/>\n<text text-anchor=\"middle\" x=\"257.5\" y=\"-362.3\" font-family=\"Times,serif\" font-size=\"14.00\" fill=\"#000000\">1.0</text>\n</g>\n<!-- PKA&#45;&gt;p44/42 -->\n<g id=\"edge13\" class=\"edge\">\n<title>PKA&#45;&gt;p44/42</title>\n<path fill=\"none\" stroke=\"#000000\" d=\"M282.5856,-260.9735C282.3148,-249.1918 281.9554,-233.5607 281.6473,-220.1581\"/>\n<polygon fill=\"#000000\" stroke=\"#000000\" points=\"285.1429,-219.9202 281.4139,-210.0034 278.1447,-220.0812 285.1429,-219.9202\"/>\n<text text-anchor=\"middle\" x=\"293.5\" y=\"-231.8\" font-family=\"Times,serif\" font-size=\"14.00\" fill=\"#000000\">1.0</text>\n</g>\n<!-- PKC -->\n<g id=\"node9\" class=\"node\">\n<title>PKC</title>\n<ellipse fill=\"none\" stroke=\"#000000\" cx=\"106\" cy=\"-18\" rx=\"30.5947\" ry=\"18\"/>\n<text text-anchor=\"middle\" x=\"106\" y=\"-14.3\" font-family=\"Times,serif\" font-size=\"14.00\" fill=\"#000000\">PKC</text>\n</g>\n<!-- P38&#45;&gt;pakts473 -->\n<g id=\"edge15\" class=\"edge\">\n<title>P38&#45;&gt;pakts473</title>\n<path fill=\"none\" stroke=\"#000000\" d=\"M149.3541,-351.8101C141.6567,-345.3855 132.6601,-337.551 125,-330 116.843,-321.9592 108.4068,-312.6898 101.0741,-304.2772\"/>\n<polygon fill=\"#000000\" stroke=\"#000000\" points=\"103.5991,-301.8453 94.4271,-296.5421 98.2901,-306.4076 103.5991,-301.8453\"/>\n<text text-anchor=\"middle\" x=\"136.5\" y=\"-318.8\" font-family=\"Times,serif\" font-size=\"14.00\" fill=\"#000000\">1.0</text>\n</g>\n<!-- P38&#45;&gt;PKA -->\n<g id=\"edge18\" class=\"edge\">\n<title>P38&#45;&gt;PKA</title>\n<path fill=\"none\" stroke=\"#000000\" d=\"M181.7543,-350.2692C192.164,-339.6362 206.7418,-325.648 221,-315 230.3152,-308.0434 241.0867,-301.3707 251.0117,-295.7007\"/>\n<polygon fill=\"#000000\" stroke=\"#000000\" points=\"252.7873,-298.7182 259.8225,-290.7962 249.3827,-292.6019 252.7873,-298.7182\"/>\n<text text-anchor=\"middle\" x=\"232.5\" y=\"-318.8\" font-family=\"Times,serif\" font-size=\"14.00\" fill=\"#000000\">1.0</text>\n</g>\n<!-- P38&#45;&gt;PKC -->\n<g id=\"edge19\" class=\"edge\">\n<title>P38&#45;&gt;PKC</title>\n<path fill=\"none\" stroke=\"#000000\" d=\"M165.3982,-347.6886C162.9338,-326.0365 156.9394,-289.3614 143,-261 130.0479,-234.6473 110.9158,-237.6387 101,-210 81.084,-154.4875 91.0748,-84.0319 99.1538,-45.7804\"/>\n<polygon fill=\"#000000\" stroke=\"#000000\" points=\"102.6001,-46.4061 101.3554,-35.8847 95.7672,-44.8859 102.6001,-46.4061\"/>\n<text text-anchor=\"middle\" x=\"112.5\" y=\"-188.3\" font-family=\"Times,serif\" font-size=\"14.00\" fill=\"#000000\">1.0</text>\n</g>\n<!-- pjnk&#45;&gt;pakts473 -->\n<g id=\"edge16\" class=\"edge\">\n<title>pjnk&#45;&gt;pakts473</title>\n<path fill=\"none\" stroke=\"#000000\" d=\"M188.3332,-121.9169C167.3293,-152.3725 123.0222,-216.6178 98.068,-252.8014\"/>\n<polygon fill=\"#000000\" stroke=\"#000000\" points=\"94.9627,-251.1392 92.1666,-261.3584 100.7252,-255.1133 94.9627,-251.1392\"/>\n<text text-anchor=\"middle\" x=\"162.5\" y=\"-188.3\" font-family=\"Times,serif\" font-size=\"14.00\" fill=\"#000000\">1.0</text>\n</g>\n<!-- pjnk&#45;&gt;PKC -->\n<g id=\"edge20\" class=\"edge\">\n<title>pjnk&#45;&gt;PKC</title>\n<path fill=\"none\" stroke=\"#000000\" d=\"M183.1947,-89.4461C168.4909,-75.8374 146.9498,-55.9004 130.3565,-40.5427\"/>\n<polygon fill=\"#000000\" stroke=\"#000000\" points=\"132.3763,-37.6431 122.6598,-33.4192 127.6215,-42.7804 132.3763,-37.6431\"/>\n<text text-anchor=\"middle\" x=\"169.5\" y=\"-57.8\" font-family=\"Times,serif\" font-size=\"14.00\" fill=\"#000000\">1.0</text>\n</g>\n<!-- pjnk&#45;&gt;P38 -->\n<g id=\"edge22\" class=\"edge\">\n<title>pjnk&#45;&gt;P38</title>\n<path fill=\"none\" stroke=\"#000000\" d=\"M198.11,-123.119C194.055,-161.3959 183.9909,-253.2781 173,-330 172.6305,-332.5794 172.2248,-335.2592 171.8042,-337.9404\"/>\n<polygon fill=\"#000000\" stroke=\"#000000\" points=\"168.3059,-337.6471 170.1525,-348.0798 175.2149,-338.7727 168.3059,-337.6471\"/>\n<text text-anchor=\"middle\" x=\"197.5\" y=\"-231.8\" font-family=\"Times,serif\" font-size=\"14.00\" fill=\"#000000\">1.0</text>\n</g>\n</g>\n</svg>\n"
     },
     "metadata": {}
    },
    {
     "output_type": "stream",
     "name": "stdout",
     "text": [
      "Method : GES\n"
     ]
    },
    {
     "output_type": "display_data",
     "data": {
      "text/plain": "<graphviz.dot.Digraph at 0x7fa4807adb38>",
      "image/svg+xml": "<?xml version=\"1.0\" encoding=\"UTF-8\" standalone=\"no\"?>\n<!DOCTYPE svg PUBLIC \"-//W3C//DTD SVG 1.1//EN\"\n \"http://www.w3.org/Graphics/SVG/1.1/DTD/svg11.dtd\">\n<!-- Generated by graphviz version 2.40.1 (20161225.0304)\n -->\n<!-- Title: %3 Pages: 1 -->\n<svg width=\"696pt\" height=\"740pt\"\n viewBox=\"0.00 0.00 696.00 740.00\" xmlns=\"http://www.w3.org/2000/svg\" xmlns:xlink=\"http://www.w3.org/1999/xlink\">\n<g id=\"graph0\" class=\"graph\" transform=\"scale(1 1) rotate(0) translate(4 736)\">\n<title>%3</title>\n<polygon fill=\"#ffffff\" stroke=\"transparent\" points=\"-4,4 -4,-736 692,-736 692,4 -4,4\"/>\n<!-- praf -->\n<g id=\"node1\" class=\"node\">\n<title>praf</title>\n<ellipse fill=\"none\" stroke=\"#000000\" cx=\"252\" cy=\"-453\" rx=\"29.795\" ry=\"18\"/>\n<text text-anchor=\"middle\" x=\"252\" y=\"-449.3\" font-family=\"Times,serif\" font-size=\"14.00\" fill=\"#000000\">praf</text>\n</g>\n<!-- plcg -->\n<g id=\"node3\" class=\"node\">\n<title>plcg</title>\n<ellipse fill=\"none\" stroke=\"#000000\" cx=\"362\" cy=\"-366\" rx=\"30.5947\" ry=\"18\"/>\n<text text-anchor=\"middle\" x=\"362\" y=\"-362.3\" font-family=\"Times,serif\" font-size=\"14.00\" fill=\"#000000\">plcg</text>\n</g>\n<!-- praf&#45;&gt;plcg -->\n<g id=\"edge6\" class=\"edge\">\n<title>praf&#45;&gt;plcg</title>\n<path fill=\"none\" stroke=\"#000000\" d=\"M262.3048,-435.7976C269.3679,-425.0746 279.515,-411.5489 291,-402 301.5657,-393.2155 314.6334,-385.8244 326.6663,-380.0693\"/>\n<polygon fill=\"#000000\" stroke=\"#000000\" points=\"328.375,-383.1372 336.0269,-375.8093 325.4754,-376.7659 328.375,-383.1372\"/>\n<text text-anchor=\"middle\" x=\"302.5\" y=\"-405.8\" font-family=\"Times,serif\" font-size=\"14.00\" fill=\"#000000\">1.0</text>\n</g>\n<!-- p44/42 -->\n<g id=\"node6\" class=\"node\">\n<title>p44/42</title>\n<ellipse fill=\"none\" stroke=\"#000000\" cx=\"310\" cy=\"-18\" rx=\"42.7926\" ry=\"18\"/>\n<text text-anchor=\"middle\" x=\"310\" y=\"-14.3\" font-family=\"Times,serif\" font-size=\"14.00\" fill=\"#000000\">p44/42</text>\n</g>\n<!-- praf&#45;&gt;p44/42 -->\n<g id=\"edge15\" class=\"edge\">\n<title>praf&#45;&gt;p44/42</title>\n<path fill=\"none\" stroke=\"#000000\" d=\"M240.6843,-435.9882C234.079,-426.0676 225.579,-413.3176 218,-402 168.3757,-327.897 106,-324.6842 106,-235.5 106,-235.5 106,-235.5 106,-105 106,-71.3325 201.2017,-43.0633 261.5336,-28.5286\"/>\n<polygon fill=\"#000000\" stroke=\"#000000\" points=\"262.7007,-31.8493 271.6292,-26.1455 261.0925,-25.0365 262.7007,-31.8493\"/>\n<text text-anchor=\"middle\" x=\"118.5\" y=\"-231.8\" font-family=\"Times,serif\" font-size=\"14.00\" fill=\"#000000\">1.0</text>\n</g>\n<!-- pakts473 -->\n<g id=\"node7\" class=\"node\">\n<title>pakts473</title>\n<ellipse fill=\"none\" stroke=\"#000000\" cx=\"263\" cy=\"-192\" rx=\"53.8905\" ry=\"18\"/>\n<text text-anchor=\"middle\" x=\"263\" y=\"-188.3\" font-family=\"Times,serif\" font-size=\"14.00\" fill=\"#000000\">pakts473</text>\n</g>\n<!-- praf&#45;&gt;pakts473 -->\n<g id=\"edge21\" class=\"edge\">\n<title>praf&#45;&gt;pakts473</title>\n<path fill=\"none\" stroke=\"#000000\" d=\"M251.9247,-434.6856C251.8933,-408.2454 252.1235,-357.8488 254,-315 255.4199,-282.578 258.3134,-245.4308 260.4378,-220.5192\"/>\n<polygon fill=\"#000000\" stroke=\"#000000\" points=\"263.9452,-220.5838 261.3231,-210.3186 256.9714,-219.9785 263.9452,-220.5838\"/>\n<text text-anchor=\"middle\" x=\"265.5\" y=\"-318.8\" font-family=\"Times,serif\" font-size=\"14.00\" fill=\"#000000\">1.0</text>\n</g>\n<!-- pmek -->\n<g id=\"node2\" class=\"node\">\n<title>pmek</title>\n<ellipse fill=\"none\" stroke=\"#000000\" cx=\"227\" cy=\"-540\" rx=\"36.2938\" ry=\"18\"/>\n<text text-anchor=\"middle\" x=\"227\" y=\"-536.3\" font-family=\"Times,serif\" font-size=\"14.00\" fill=\"#000000\">pmek</text>\n</g>\n<!-- pmek&#45;&gt;praf -->\n<g id=\"edge1\" class=\"edge\">\n<title>pmek&#45;&gt;praf</title>\n<path fill=\"none\" stroke=\"#000000\" d=\"M232.18,-521.9735C235.5991,-510.0751 240.1463,-494.2508 244.0228,-480.7606\"/>\n<polygon fill=\"#000000\" stroke=\"#000000\" points=\"247.4286,-481.5811 246.8266,-471.0034 240.7009,-479.6478 247.4286,-481.5811\"/>\n<text text-anchor=\"middle\" x=\"252.5\" y=\"-492.8\" font-family=\"Times,serif\" font-size=\"14.00\" fill=\"#000000\">1.0</text>\n</g>\n<!-- pmek&#45;&gt;plcg -->\n<g id=\"edge7\" class=\"edge\">\n<title>pmek&#45;&gt;plcg</title>\n<path fill=\"none\" stroke=\"#000000\" d=\"M246.6693,-524.4112C253.7437,-518.3816 261.5606,-511.2033 268,-504 300.0771,-468.1178 330.0856,-420.7322 347.2161,-391.8576\"/>\n<polygon fill=\"#000000\" stroke=\"#000000\" points=\"350.2707,-393.5676 352.3117,-383.1712 344.2329,-390.0257 350.2707,-393.5676\"/>\n<text text-anchor=\"middle\" x=\"331.5\" y=\"-449.3\" font-family=\"Times,serif\" font-size=\"14.00\" fill=\"#000000\">1.0</text>\n</g>\n<!-- PIP3 -->\n<g id=\"node5\" class=\"node\">\n<title>PIP3</title>\n<ellipse fill=\"none\" stroke=\"#000000\" cx=\"205\" cy=\"-279\" rx=\"33.2948\" ry=\"18\"/>\n<text text-anchor=\"middle\" x=\"205\" y=\"-275.3\" font-family=\"Times,serif\" font-size=\"14.00\" fill=\"#000000\">PIP3</text>\n</g>\n<!-- pmek&#45;&gt;PIP3 -->\n<g id=\"edge11\" class=\"edge\">\n<title>pmek&#45;&gt;PIP3</title>\n<path fill=\"none\" stroke=\"#000000\" d=\"M222.5248,-521.9684C219.2874,-508.1209 215.123,-488.473 213,-471 205.9679,-413.1251 204.8086,-344.7975 204.781,-307.2553\"/>\n<polygon fill=\"#000000\" stroke=\"#000000\" points=\"208.2812,-307.0843 204.8013,-297.0773 201.2812,-307.0702 208.2812,-307.0843\"/>\n<text text-anchor=\"middle\" x=\"220.5\" y=\"-405.8\" font-family=\"Times,serif\" font-size=\"14.00\" fill=\"#000000\">1.0</text>\n</g>\n<!-- pmek&#45;&gt;p44/42 -->\n<g id=\"edge16\" class=\"edge\">\n<title>pmek&#45;&gt;p44/42</title>\n<path fill=\"none\" stroke=\"#000000\" d=\"M191.1861,-536.4649C165.2195,-532.3256 130.5036,-523.3647 106,-504 61.1285,-468.5389 46,-382.7926 46,-322.5 46,-322.5 46,-322.5 46,-105 46,-60.7207 181.6585,-35.218 258.4849,-24.3256\"/>\n<polygon fill=\"#000000\" stroke=\"#000000\" points=\"259.0332,-27.7832 268.4596,-22.9464 258.0744,-20.8491 259.0332,-27.7832\"/>\n<text text-anchor=\"middle\" x=\"57.5\" y=\"-275.3\" font-family=\"Times,serif\" font-size=\"14.00\" fill=\"#000000\">1.0</text>\n</g>\n<!-- pmek&#45;&gt;pakts473 -->\n<g id=\"edge22\" class=\"edge\">\n<title>pmek&#45;&gt;pakts473</title>\n<path fill=\"none\" stroke=\"#000000\" d=\"M193.6222,-532.7377C166.1861,-526.0633 130.3629,-515.4869 121,-504 76.993,-450.0098 87.8219,-415.2392 106,-348 122.114,-288.3956 129.48,-268.5984 176,-228 186.1085,-219.1782 198.6783,-212.3126 211.0921,-207.0557\"/>\n<polygon fill=\"#000000\" stroke=\"#000000\" points=\"212.4909,-210.2664 220.5111,-203.3435 209.9242,-203.754 212.4909,-210.2664\"/>\n<text text-anchor=\"middle\" x=\"117.5\" y=\"-362.3\" font-family=\"Times,serif\" font-size=\"14.00\" fill=\"#000000\">1.0</text>\n</g>\n<!-- pjnk -->\n<g id=\"node11\" class=\"node\">\n<title>pjnk</title>\n<ellipse fill=\"none\" stroke=\"#000000\" cx=\"425\" cy=\"-105\" rx=\"31.3957\" ry=\"18\"/>\n<text text-anchor=\"middle\" x=\"425\" y=\"-101.3\" font-family=\"Times,serif\" font-size=\"14.00\" fill=\"#000000\">pjnk</text>\n</g>\n<!-- pmek&#45;&gt;pjnk -->\n<g id=\"edge32\" class=\"edge\">\n<title>pmek&#45;&gt;pjnk</title>\n<path fill=\"none\" stroke=\"#000000\" d=\"M253.0115,-527.0982C309.2897,-498.4953 438.6967,-428.7567 456,-384 494.9444,-283.266 493.5858,-242.2487 456,-141 454.2957,-136.4089 451.7144,-132.011 448.7545,-127.9635\"/>\n<polygon fill=\"#000000\" stroke=\"#000000\" points=\"451.388,-125.6561 442.3071,-120.1981 446.0023,-130.1277 451.388,-125.6561\"/>\n<text text-anchor=\"middle\" x=\"489.5\" y=\"-318.8\" font-family=\"Times,serif\" font-size=\"14.00\" fill=\"#000000\">1.0</text>\n</g>\n<!-- plcg&#45;&gt;PIP3 -->\n<g id=\"edge12\" class=\"edge\">\n<title>plcg&#45;&gt;PIP3</title>\n<path fill=\"none\" stroke=\"#000000\" d=\"M340.717,-352.9476C329.7176,-346.1621 316.0985,-337.6985 304,-330 293.7037,-323.4483 291.6502,-320.9592 281,-315 267.9793,-307.7144 253.2429,-300.5087 240.2357,-294.48\"/>\n<polygon fill=\"#000000\" stroke=\"#000000\" points=\"241.6692,-291.287 231.1192,-290.314 238.7597,-297.6538 241.6692,-291.287\"/>\n<text text-anchor=\"middle\" x=\"315.5\" y=\"-318.8\" font-family=\"Times,serif\" font-size=\"14.00\" fill=\"#000000\">1.0</text>\n</g>\n<!-- plcg&#45;&gt;p44/42 -->\n<g id=\"edge17\" class=\"edge\">\n<title>plcg&#45;&gt;p44/42</title>\n<path fill=\"none\" stroke=\"#000000\" d=\"M359.8422,-347.7776C357.3385,-326.8264 353.036,-291.4085 349,-261 341.9127,-207.6024 340.5212,-194.1876 332,-141 326.7753,-108.3882 319.9837,-71.0615 315.337,-46.1629\"/>\n<polygon fill=\"#000000\" stroke=\"#000000\" points=\"318.7712,-45.4863 313.4877,-36.303 311.8912,-46.7768 318.7712,-45.4863\"/>\n<text text-anchor=\"middle\" x=\"353.5\" y=\"-188.3\" font-family=\"Times,serif\" font-size=\"14.00\" fill=\"#000000\">1.0</text>\n</g>\n<!-- plcg&#45;&gt;pakts473 -->\n<g id=\"edge23\" class=\"edge\">\n<title>plcg&#45;&gt;pakts473</title>\n<path fill=\"none\" stroke=\"#000000\" d=\"M352.1456,-348.6801C334.8157,-318.2215 298.7762,-254.8794 278.2237,-218.7569\"/>\n<polygon fill=\"#000000\" stroke=\"#000000\" points=\"281.0967,-216.7287 273.1093,-209.7679 275.0125,-220.1904 281.0967,-216.7287\"/>\n<text text-anchor=\"middle\" x=\"333.5\" y=\"-275.3\" font-family=\"Times,serif\" font-size=\"14.00\" fill=\"#000000\">1.0</text>\n</g>\n<!-- plcg&#45;&gt;pjnk -->\n<g id=\"edge33\" class=\"edge\">\n<title>plcg&#45;&gt;pjnk</title>\n<path fill=\"none\" stroke=\"#000000\" d=\"M371.7534,-348.8263C374.7474,-342.9939 377.8229,-336.3451 380,-330 392.4318,-293.767 411.5818,-184.989 420.3397,-133.1142\"/>\n<polygon fill=\"#000000\" stroke=\"#000000\" points=\"423.8412,-133.3964 422.0446,-122.955 416.9377,-132.2377 423.8412,-133.3964\"/>\n<text text-anchor=\"middle\" x=\"413.5\" y=\"-231.8\" font-family=\"Times,serif\" font-size=\"14.00\" fill=\"#000000\">1.0</text>\n</g>\n<!-- PIP2 -->\n<g id=\"node4\" class=\"node\">\n<title>PIP2</title>\n<ellipse fill=\"none\" stroke=\"#000000\" cx=\"240\" cy=\"-714\" rx=\"33.2948\" ry=\"18\"/>\n<text text-anchor=\"middle\" x=\"240\" y=\"-710.3\" font-family=\"Times,serif\" font-size=\"14.00\" fill=\"#000000\">PIP2</text>\n</g>\n<!-- PIP2&#45;&gt;plcg -->\n<g id=\"edge8\" class=\"edge\">\n<title>PIP2&#45;&gt;plcg</title>\n<path fill=\"none\" stroke=\"#000000\" d=\"M272.4212,-709.3894C293.0682,-704.806 318.8717,-695.7555 335,-678 407.5926,-598.0833 383.812,-454.4183 369.4913,-393.9888\"/>\n<polygon fill=\"#000000\" stroke=\"#000000\" points=\"372.8295,-392.9071 367.037,-384.036 366.0331,-394.5831 372.8295,-392.9071\"/>\n<text text-anchor=\"middle\" x=\"395.5\" y=\"-536.3\" font-family=\"Times,serif\" font-size=\"14.00\" fill=\"#000000\">1.0</text>\n</g>\n<!-- PIP2&#45;&gt;PIP3 -->\n<g id=\"edge13\" class=\"edge\">\n<title>PIP2&#45;&gt;PIP3</title>\n<path fill=\"none\" stroke=\"#000000\" d=\"M212.9801,-703.4637C184.2786,-690.2905 143,-664.7779 143,-627 143,-627 143,-627 143,-366 143,-340.105 161.4412,-316.578 178.2087,-300.5383\"/>\n<polygon fill=\"#000000\" stroke=\"#000000\" points=\"180.6732,-303.0281 185.7227,-293.7139 175.9669,-297.8463 180.6732,-303.0281\"/>\n<text text-anchor=\"middle\" x=\"154.5\" y=\"-492.8\" font-family=\"Times,serif\" font-size=\"14.00\" fill=\"#000000\">1.0</text>\n</g>\n<!-- PKC -->\n<g id=\"node9\" class=\"node\">\n<title>PKC</title>\n<ellipse fill=\"none\" stroke=\"#000000\" cx=\"240\" cy=\"-627\" rx=\"30.5947\" ry=\"18\"/>\n<text text-anchor=\"middle\" x=\"240\" y=\"-623.3\" font-family=\"Times,serif\" font-size=\"14.00\" fill=\"#000000\">PKC</text>\n</g>\n<!-- PIP2&#45;&gt;PKC -->\n<g id=\"edge30\" class=\"edge\">\n<title>PIP2&#45;&gt;PKC</title>\n<path fill=\"none\" stroke=\"#000000\" d=\"M240,-695.9735C240,-684.1918 240,-668.5607 240,-655.1581\"/>\n<polygon fill=\"#000000\" stroke=\"#000000\" points=\"243.5001,-655.0033 240,-645.0034 236.5001,-655.0034 243.5001,-655.0033\"/>\n<text text-anchor=\"middle\" x=\"251.5\" y=\"-666.8\" font-family=\"Times,serif\" font-size=\"14.00\" fill=\"#000000\">1.0</text>\n</g>\n<!-- PIP3&#45;&gt;pakts473 -->\n<g id=\"edge24\" class=\"edge\">\n<title>PIP3&#45;&gt;pakts473</title>\n<path fill=\"none\" stroke=\"#000000\" d=\"M211.7086,-261.2621C215.9447,-251.0995 221.9447,-238.3495 229,-228 231.6315,-224.1398 234.6779,-220.2962 237.8445,-216.6362\"/>\n<polygon fill=\"#000000\" stroke=\"#000000\" points=\"240.6818,-218.7203 244.8542,-208.9816 235.5193,-213.9928 240.6818,-218.7203\"/>\n<text text-anchor=\"middle\" x=\"240.5\" y=\"-231.8\" font-family=\"Times,serif\" font-size=\"14.00\" fill=\"#000000\">1.0</text>\n</g>\n<!-- p44/42&#45;&gt;pakts473 -->\n<g id=\"edge25\" class=\"edge\">\n<title>p44/42&#45;&gt;pakts473</title>\n<path fill=\"none\" stroke=\"#000000\" d=\"M291.5396,-34.3767C278.5468,-47.2154 262.2329,-66.3221 255,-87 246.2334,-112.0627 249.9886,-142.4829 254.8794,-164.1151\"/>\n<polygon fill=\"#000000\" stroke=\"#000000\" points=\"251.5182,-165.1027 257.3216,-173.9667 258.3125,-163.4183 251.5182,-165.1027\"/>\n<text text-anchor=\"middle\" x=\"266.5\" y=\"-101.3\" font-family=\"Times,serif\" font-size=\"14.00\" fill=\"#000000\">1.0</text>\n</g>\n<!-- p44/42&#45;&gt;pjnk -->\n<g id=\"edge34\" class=\"edge\">\n<title>p44/42&#45;&gt;pjnk</title>\n<path fill=\"none\" stroke=\"#000000\" d=\"M348.5328,-26.2813C366.254,-31.7058 386.5073,-40.3946 401,-54 407.7687,-60.3544 412.8168,-69.0036 416.4898,-77.3739\"/>\n<polygon fill=\"#000000\" stroke=\"#000000\" points=\"413.312,-78.8596 420.1908,-86.9176 419.8384,-76.3286 413.312,-78.8596\"/>\n<text text-anchor=\"middle\" x=\"423.5\" y=\"-57.8\" font-family=\"Times,serif\" font-size=\"14.00\" fill=\"#000000\">1.0</text>\n</g>\n<!-- pakts473&#45;&gt;PIP3 -->\n<g id=\"edge14\" class=\"edge\">\n<title>pakts473&#45;&gt;PIP3</title>\n<path fill=\"none\" stroke=\"#000000\" d=\"M218.036,-202.0541C204.4499,-207.4209 191.0216,-215.594 183,-228 177.7928,-236.0533 179.9519,-245.5465 184.5396,-254.1453\"/>\n<polygon fill=\"#000000\" stroke=\"#000000\" points=\"181.6607,-256.1403 189.9927,-262.6847 187.5604,-252.3728 181.6607,-256.1403\"/>\n<text text-anchor=\"middle\" x=\"194.5\" y=\"-231.8\" font-family=\"Times,serif\" font-size=\"14.00\" fill=\"#000000\">1.0</text>\n</g>\n<!-- pakts473&#45;&gt;p44/42 -->\n<g id=\"edge18\" class=\"edge\">\n<title>pakts473&#45;&gt;p44/42</title>\n<path fill=\"none\" stroke=\"#000000\" d=\"M267.8528,-174.0343C276.05,-143.6874 292.6952,-82.0644 302.4354,-46.0052\"/>\n<polygon fill=\"#000000\" stroke=\"#000000\" points=\"305.8743,-46.6954 305.1032,-36.1286 299.1165,-44.8699 305.8743,-46.6954\"/>\n<text text-anchor=\"middle\" x=\"303.5\" y=\"-101.3\" font-family=\"Times,serif\" font-size=\"14.00\" fill=\"#000000\">1.0</text>\n</g>\n<!-- pakts473&#45;&gt;pjnk -->\n<g id=\"edge35\" class=\"edge\">\n<title>pakts473&#45;&gt;pjnk</title>\n<path fill=\"none\" stroke=\"#000000\" d=\"M274.8613,-174.1379C282.9995,-163.1517 294.7057,-149.5806 308,-141 331.1759,-126.0415 360.9264,-116.9972 384.6274,-111.7151\"/>\n<polygon fill=\"#000000\" stroke=\"#000000\" points=\"385.6372,-115.0798 394.7111,-109.6103 384.2069,-108.2275 385.6372,-115.0798\"/>\n<text text-anchor=\"middle\" x=\"319.5\" y=\"-144.8\" font-family=\"Times,serif\" font-size=\"14.00\" fill=\"#000000\">1.0</text>\n</g>\n<!-- PKA -->\n<g id=\"node8\" class=\"node\">\n<title>PKA</title>\n<ellipse fill=\"none\" stroke=\"#000000\" cx=\"483\" cy=\"-627\" rx=\"30.5947\" ry=\"18\"/>\n<text text-anchor=\"middle\" x=\"483\" y=\"-623.3\" font-family=\"Times,serif\" font-size=\"14.00\" fill=\"#000000\">PKA</text>\n</g>\n<!-- PKA&#45;&gt;praf -->\n<g id=\"edge2\" class=\"edge\">\n<title>PKA&#45;&gt;praf</title>\n<path fill=\"none\" stroke=\"#000000\" d=\"M459.3015,-615.4811C436.4631,-604.6001 400.7881,-588.1772 369,-576 344.587,-566.648 333.365,-574.3927 313,-558 299.4846,-547.1209 278.1325,-506.8265 264.6078,-479.4387\"/>\n<polygon fill=\"#000000\" stroke=\"#000000\" points=\"267.7077,-477.8104 260.176,-470.359 261.4171,-480.8809 267.7077,-477.8104\"/>\n<text text-anchor=\"middle\" x=\"324.5\" y=\"-536.3\" font-family=\"Times,serif\" font-size=\"14.00\" fill=\"#000000\">1.0</text>\n</g>\n<!-- PKA&#45;&gt;pmek -->\n<g id=\"edge3\" class=\"edge\">\n<title>PKA&#45;&gt;pmek</title>\n<path fill=\"none\" stroke=\"#000000\" d=\"M454.2966,-620.7627C426.3208,-614.3792 382.7474,-603.625 346,-591 317.4144,-581.1791 286.0251,-567.6036 262.6649,-556.9278\"/>\n<polygon fill=\"#000000\" stroke=\"#000000\" points=\"264.0415,-553.7085 253.495,-552.6977 261.1093,-560.0647 264.0415,-553.7085\"/>\n<text text-anchor=\"middle\" x=\"357.5\" y=\"-579.8\" font-family=\"Times,serif\" font-size=\"14.00\" fill=\"#000000\">1.0</text>\n</g>\n<!-- PKA&#45;&gt;plcg -->\n<g id=\"edge9\" class=\"edge\">\n<title>PKA&#45;&gt;plcg</title>\n<path fill=\"none\" stroke=\"#000000\" d=\"M482.6484,-608.755C481.5132,-581.5344 476.9468,-529.1905 459,-489 441.3664,-449.511 408.2108,-411.6198 385.6215,-388.579\"/>\n<polygon fill=\"#000000\" stroke=\"#000000\" points=\"387.9472,-385.9548 378.4036,-381.3537 382.9949,-390.902 387.9472,-385.9548\"/>\n<text text-anchor=\"middle\" x=\"475.5\" y=\"-492.8\" font-family=\"Times,serif\" font-size=\"14.00\" fill=\"#000000\">1.0</text>\n</g>\n<!-- PKA&#45;&gt;p44/42 -->\n<g id=\"edge19\" class=\"edge\">\n<title>PKA&#45;&gt;p44/42</title>\n<path fill=\"none\" stroke=\"#000000\" d=\"M503.7439,-613.3978C511.8229,-607.3038 520.6467,-599.5592 527,-591 603.9637,-487.3139 638,-451.6287 638,-322.5 638,-322.5 638,-322.5 640,-105 640,-48.3913 456.1368,-27.8187 362.8933,-21.0254\"/>\n<polygon fill=\"#000000\" stroke=\"#000000\" points=\"363.0237,-17.526 352.8034,-20.3183 362.5343,-24.5089 363.0237,-17.526\"/>\n<text text-anchor=\"middle\" x=\"649.5\" y=\"-318.8\" font-family=\"Times,serif\" font-size=\"14.00\" fill=\"#000000\">1.0</text>\n</g>\n<!-- PKA&#45;&gt;pakts473 -->\n<g id=\"edge26\" class=\"edge\">\n<title>PKA&#45;&gt;pakts473</title>\n<path fill=\"none\" stroke=\"#000000\" d=\"M489.2002,-609.0183C505.069,-559.9912 543.2332,-420.5974 504,-315 486.2202,-267.145 473.2436,-253.47 429,-228 391.3784,-206.3421 375.3779,-219.4106 333,-210 327.1929,-208.7104 321.136,-207.2812 315.1211,-205.8083\"/>\n<polygon fill=\"#000000\" stroke=\"#000000\" points=\"315.6394,-202.3304 305.0895,-203.3052 313.9447,-209.1221 315.6394,-202.3304\"/>\n<text text-anchor=\"middle\" x=\"532.5\" y=\"-405.8\" font-family=\"Times,serif\" font-size=\"14.00\" fill=\"#000000\">1.0</text>\n</g>\n<!-- PKA&#45;&gt;pjnk -->\n<g id=\"edge36\" class=\"edge\">\n<title>PKA&#45;&gt;pjnk</title>\n<path fill=\"none\" stroke=\"#000000\" d=\"M496.8198,-610.8971C501.4611,-604.9271 506.3742,-597.9202 510,-591 517.1751,-577.3058 516.8609,-572.8956 521,-558 544.4123,-473.7452 564,-453.4472 564,-366 564,-366 564,-366 564,-192 564,-144.9221 506.0006,-122.3631 464.9322,-112.2905\"/>\n<polygon fill=\"#000000\" stroke=\"#000000\" points=\"465.6906,-108.8736 455.1609,-110.0469 464.124,-115.6961 465.6906,-108.8736\"/>\n<text text-anchor=\"middle\" x=\"575.5\" y=\"-362.3\" font-family=\"Times,serif\" font-size=\"14.00\" fill=\"#000000\">1.0</text>\n</g>\n<!-- PKC&#45;&gt;pmek -->\n<g id=\"edge4\" class=\"edge\">\n<title>PKC&#45;&gt;pmek</title>\n<path fill=\"none\" stroke=\"#000000\" d=\"M237.3064,-608.9735C235.5459,-597.1918 233.2102,-581.5607 231.2075,-568.1581\"/>\n<polygon fill=\"#000000\" stroke=\"#000000\" points=\"234.6297,-567.3763 229.6902,-558.0034 227.7065,-568.4108 234.6297,-567.3763\"/>\n<text text-anchor=\"middle\" x=\"246.5\" y=\"-579.8\" font-family=\"Times,serif\" font-size=\"14.00\" fill=\"#000000\">1.0</text>\n</g>\n<!-- PKC&#45;&gt;pjnk -->\n<g id=\"edge37\" class=\"edge\">\n<title>PKC&#45;&gt;pjnk</title>\n<path fill=\"none\" stroke=\"#000000\" d=\"M267.098,-618.5592C277.3708,-615.4414 289.1942,-611.9511 300,-609 332.2356,-600.1962 345.6541,-610.2053 373,-591 387.4251,-580.8692 389.0188,-574.5814 395,-558 418.8823,-491.7926 424.3283,-313.2872 428,-243 430.3649,-197.7284 429.884,-186.2942 428,-141 427.8988,-138.5679 427.7594,-136.0458 427.5956,-133.5168\"/>\n<polygon fill=\"#000000\" stroke=\"#000000\" points=\"431.0668,-133.0026 426.8209,-123.2957 424.0868,-133.5317 431.0668,-133.0026\"/>\n<text text-anchor=\"middle\" x=\"433.5\" y=\"-362.3\" font-family=\"Times,serif\" font-size=\"14.00\" fill=\"#000000\">1.0</text>\n</g>\n<!-- P38 -->\n<g id=\"node10\" class=\"node\">\n<title>P38</title>\n<ellipse fill=\"none\" stroke=\"#000000\" cx=\"409\" cy=\"-714\" rx=\"28.6953\" ry=\"18\"/>\n<text text-anchor=\"middle\" x=\"409\" y=\"-710.3\" font-family=\"Times,serif\" font-size=\"14.00\" fill=\"#000000\">P38</text>\n</g>\n<!-- P38&#45;&gt;pmek -->\n<g id=\"edge5\" class=\"edge\">\n<title>P38&#45;&gt;pmek</title>\n<path fill=\"none\" stroke=\"#000000\" d=\"M394.2234,-698.1427C384.6194,-687.9561 371.7445,-674.523 360,-663 323.425,-627.1151 279.5372,-587.089 252.4572,-562.7261\"/>\n<polygon fill=\"#000000\" stroke=\"#000000\" points=\"254.7317,-560.0645 244.9524,-555.9883 250.0553,-565.2733 254.7317,-560.0645\"/>\n<text text-anchor=\"middle\" x=\"351.5\" y=\"-623.3\" font-family=\"Times,serif\" font-size=\"14.00\" fill=\"#000000\">1.0</text>\n</g>\n<!-- P38&#45;&gt;plcg -->\n<g id=\"edge10\" class=\"edge\">\n<title>P38&#45;&gt;plcg</title>\n<path fill=\"none\" stroke=\"#000000\" d=\"M436.5332,-708.8977C497.5444,-696.0441 636.7662,-657.3874 611,-576 578.597,-473.6489 457.3184,-407.6136 396.8001,-380.3188\"/>\n<polygon fill=\"#000000\" stroke=\"#000000\" points=\"398.1936,-377.1081 387.6318,-376.2711 395.3664,-383.5118 398.1936,-377.1081\"/>\n<text text-anchor=\"middle\" x=\"614.5\" y=\"-536.3\" font-family=\"Times,serif\" font-size=\"14.00\" fill=\"#000000\">1.0</text>\n</g>\n<!-- P38&#45;&gt;pakts473 -->\n<g id=\"edge27\" class=\"edge\">\n<title>P38&#45;&gt;pakts473</title>\n<path fill=\"none\" stroke=\"#000000\" d=\"M380.2015,-712.6652C344.5521,-709.9966 282.823,-701.9943 236,-678 94.6064,-605.5432 0,-568.3777 0,-409.5 0,-409.5 0,-409.5 0,-279 0,-236.6555 124.4411,-211.4008 202.1256,-199.7606\"/>\n<polygon fill=\"#000000\" stroke=\"#000000\" points=\"202.9023,-203.1844 212.291,-198.2748 201.8899,-196.258 202.9023,-203.1844\"/>\n<text text-anchor=\"middle\" x=\"17.5\" y=\"-449.3\" font-family=\"Times,serif\" font-size=\"14.00\" fill=\"#000000\">1.0</text>\n</g>\n<!-- P38&#45;&gt;PKA -->\n<g id=\"edge29\" class=\"edge\">\n<title>P38&#45;&gt;PKA</title>\n<path fill=\"none\" stroke=\"#000000\" d=\"M422.5727,-698.0429C433.7681,-684.8808 449.8245,-666.0036 462.5727,-651.0159\"/>\n<polygon fill=\"#000000\" stroke=\"#000000\" points=\"465.4497,-653.0355 469.2627,-643.1506 460.1176,-648.5002 465.4497,-653.0355\"/>\n<text text-anchor=\"middle\" x=\"461.5\" y=\"-666.8\" font-family=\"Times,serif\" font-size=\"14.00\" fill=\"#000000\">1.0</text>\n</g>\n<!-- P38&#45;&gt;PKC -->\n<g id=\"edge31\" class=\"edge\">\n<title>P38&#45;&gt;PKC</title>\n<path fill=\"none\" stroke=\"#000000\" d=\"M386.2407,-702.7685C372.0446,-695.7261 353.415,-686.4179 337,-678 315.1309,-666.7851 290.6342,-653.9028 271.7299,-643.8913\"/>\n<polygon fill=\"#000000\" stroke=\"#000000\" points=\"273.1411,-640.678 262.6667,-639.0847 269.8613,-646.8621 273.1411,-640.678\"/>\n<text text-anchor=\"middle\" x=\"348.5\" y=\"-666.8\" font-family=\"Times,serif\" font-size=\"14.00\" fill=\"#000000\">1.0</text>\n</g>\n<!-- P38&#45;&gt;pjnk -->\n<g id=\"edge38\" class=\"edge\">\n<title>P38&#45;&gt;pjnk</title>\n<path fill=\"none\" stroke=\"#000000\" d=\"M437.2737,-710.5639C469.2706,-705.9809 522.4665,-696.2384 565,-678 589.471,-667.5068 599.9391,-666.957 615,-645 695.1822,-528.1041 658.9843,-471.625 665,-330 669.1246,-232.8964 634.3197,-197.1649 555,-141 528.7314,-122.3996 493.1977,-113.3949 465.9191,-109.0439\"/>\n<polygon fill=\"#000000\" stroke=\"#000000\" points=\"466.3034,-105.5631 455.905,-107.5938 465.3002,-112.4908 466.3034,-105.5631\"/>\n<text text-anchor=\"middle\" x=\"676.5\" y=\"-405.8\" font-family=\"Times,serif\" font-size=\"14.00\" fill=\"#000000\">1.0</text>\n</g>\n<!-- pjnk&#45;&gt;p44/42 -->\n<g id=\"edge20\" class=\"edge\">\n<title>pjnk&#45;&gt;p44/42</title>\n<path fill=\"none\" stroke=\"#000000\" d=\"M406.0101,-90.6337C387.8434,-76.8902 360.185,-55.966 339.2128,-40.1001\"/>\n<polygon fill=\"#000000\" stroke=\"#000000\" points=\"341.054,-37.1043 330.9674,-33.8623 336.8307,-42.6868 341.054,-37.1043\"/>\n<text text-anchor=\"middle\" x=\"385.5\" y=\"-57.8\" font-family=\"Times,serif\" font-size=\"14.00\" fill=\"#000000\">1.0</text>\n</g>\n<!-- pjnk&#45;&gt;pakts473 -->\n<g id=\"edge28\" class=\"edge\">\n<title>pjnk&#45;&gt;pakts473</title>\n<path fill=\"none\" stroke=\"#000000\" d=\"M402.9857,-117.898C384.8726,-128.4077 358.4572,-143.5003 335,-156 324.6022,-161.5407 313.2444,-167.3363 302.6865,-172.618\"/>\n<polygon fill=\"#000000\" stroke=\"#000000\" points=\"301.0538,-169.521 293.6586,-177.1079 304.1709,-175.7886 301.0538,-169.521\"/>\n<text text-anchor=\"middle\" x=\"370.5\" y=\"-144.8\" font-family=\"Times,serif\" font-size=\"14.00\" fill=\"#000000\">1.0</text>\n</g>\n</g>\n</svg>\n"
     },
     "metadata": {}
    },
    {
     "output_type": "stream",
     "name": "stdout",
     "text": [
      "Method : GIES\n"
     ]
    },
    {
     "output_type": "display_data",
     "data": {
      "text/plain": "<graphviz.dot.Digraph at 0x7fa53c6d5be0>",
      "image/svg+xml": "<?xml version=\"1.0\" encoding=\"UTF-8\" standalone=\"no\"?>\n<!DOCTYPE svg PUBLIC \"-//W3C//DTD SVG 1.1//EN\"\n \"http://www.w3.org/Graphics/SVG/1.1/DTD/svg11.dtd\">\n<!-- Generated by graphviz version 2.40.1 (20161225.0304)\n -->\n<!-- Title: %3 Pages: 1 -->\n<svg width=\"696pt\" height=\"740pt\"\n viewBox=\"0.00 0.00 696.00 740.00\" xmlns=\"http://www.w3.org/2000/svg\" xmlns:xlink=\"http://www.w3.org/1999/xlink\">\n<g id=\"graph0\" class=\"graph\" transform=\"scale(1 1) rotate(0) translate(4 736)\">\n<title>%3</title>\n<polygon fill=\"#ffffff\" stroke=\"transparent\" points=\"-4,4 -4,-736 692,-736 692,4 -4,4\"/>\n<!-- praf -->\n<g id=\"node1\" class=\"node\">\n<title>praf</title>\n<ellipse fill=\"none\" stroke=\"#000000\" cx=\"252\" cy=\"-453\" rx=\"29.795\" ry=\"18\"/>\n<text text-anchor=\"middle\" x=\"252\" y=\"-449.3\" font-family=\"Times,serif\" font-size=\"14.00\" fill=\"#000000\">praf</text>\n</g>\n<!-- plcg -->\n<g id=\"node3\" class=\"node\">\n<title>plcg</title>\n<ellipse fill=\"none\" stroke=\"#000000\" cx=\"362\" cy=\"-366\" rx=\"30.5947\" ry=\"18\"/>\n<text text-anchor=\"middle\" x=\"362\" y=\"-362.3\" font-family=\"Times,serif\" font-size=\"14.00\" fill=\"#000000\">plcg</text>\n</g>\n<!-- praf&#45;&gt;plcg -->\n<g id=\"edge6\" class=\"edge\">\n<title>praf&#45;&gt;plcg</title>\n<path fill=\"none\" stroke=\"#000000\" d=\"M262.3048,-435.7976C269.3679,-425.0746 279.515,-411.5489 291,-402 301.5657,-393.2155 314.6334,-385.8244 326.6663,-380.0693\"/>\n<polygon fill=\"#000000\" stroke=\"#000000\" points=\"328.375,-383.1372 336.0269,-375.8093 325.4754,-376.7659 328.375,-383.1372\"/>\n<text text-anchor=\"middle\" x=\"302.5\" y=\"-405.8\" font-family=\"Times,serif\" font-size=\"14.00\" fill=\"#000000\">1.0</text>\n</g>\n<!-- p44/42 -->\n<g id=\"node6\" class=\"node\">\n<title>p44/42</title>\n<ellipse fill=\"none\" stroke=\"#000000\" cx=\"310\" cy=\"-18\" rx=\"42.7926\" ry=\"18\"/>\n<text text-anchor=\"middle\" x=\"310\" y=\"-14.3\" font-family=\"Times,serif\" font-size=\"14.00\" fill=\"#000000\">p44/42</text>\n</g>\n<!-- praf&#45;&gt;p44/42 -->\n<g id=\"edge15\" class=\"edge\">\n<title>praf&#45;&gt;p44/42</title>\n<path fill=\"none\" stroke=\"#000000\" d=\"M240.6843,-435.9882C234.079,-426.0676 225.579,-413.3176 218,-402 168.3757,-327.897 106,-324.6842 106,-235.5 106,-235.5 106,-235.5 106,-105 106,-71.3325 201.2017,-43.0633 261.5336,-28.5286\"/>\n<polygon fill=\"#000000\" stroke=\"#000000\" points=\"262.7007,-31.8493 271.6292,-26.1455 261.0925,-25.0365 262.7007,-31.8493\"/>\n<text text-anchor=\"middle\" x=\"118.5\" y=\"-231.8\" font-family=\"Times,serif\" font-size=\"14.00\" fill=\"#000000\">1.0</text>\n</g>\n<!-- pakts473 -->\n<g id=\"node7\" class=\"node\">\n<title>pakts473</title>\n<ellipse fill=\"none\" stroke=\"#000000\" cx=\"263\" cy=\"-192\" rx=\"53.8905\" ry=\"18\"/>\n<text text-anchor=\"middle\" x=\"263\" y=\"-188.3\" font-family=\"Times,serif\" font-size=\"14.00\" fill=\"#000000\">pakts473</text>\n</g>\n<!-- praf&#45;&gt;pakts473 -->\n<g id=\"edge21\" class=\"edge\">\n<title>praf&#45;&gt;pakts473</title>\n<path fill=\"none\" stroke=\"#000000\" d=\"M251.9247,-434.6856C251.8933,-408.2454 252.1235,-357.8488 254,-315 255.4199,-282.578 258.3134,-245.4308 260.4378,-220.5192\"/>\n<polygon fill=\"#000000\" stroke=\"#000000\" points=\"263.9452,-220.5838 261.3231,-210.3186 256.9714,-219.9785 263.9452,-220.5838\"/>\n<text text-anchor=\"middle\" x=\"265.5\" y=\"-318.8\" font-family=\"Times,serif\" font-size=\"14.00\" fill=\"#000000\">1.0</text>\n</g>\n<!-- pmek -->\n<g id=\"node2\" class=\"node\">\n<title>pmek</title>\n<ellipse fill=\"none\" stroke=\"#000000\" cx=\"227\" cy=\"-540\" rx=\"36.2938\" ry=\"18\"/>\n<text text-anchor=\"middle\" x=\"227\" y=\"-536.3\" font-family=\"Times,serif\" font-size=\"14.00\" fill=\"#000000\">pmek</text>\n</g>\n<!-- pmek&#45;&gt;praf -->\n<g id=\"edge1\" class=\"edge\">\n<title>pmek&#45;&gt;praf</title>\n<path fill=\"none\" stroke=\"#000000\" d=\"M232.18,-521.9735C235.5991,-510.0751 240.1463,-494.2508 244.0228,-480.7606\"/>\n<polygon fill=\"#000000\" stroke=\"#000000\" points=\"247.4286,-481.5811 246.8266,-471.0034 240.7009,-479.6478 247.4286,-481.5811\"/>\n<text text-anchor=\"middle\" x=\"252.5\" y=\"-492.8\" font-family=\"Times,serif\" font-size=\"14.00\" fill=\"#000000\">1.0</text>\n</g>\n<!-- pmek&#45;&gt;plcg -->\n<g id=\"edge7\" class=\"edge\">\n<title>pmek&#45;&gt;plcg</title>\n<path fill=\"none\" stroke=\"#000000\" d=\"M246.6693,-524.4112C253.7437,-518.3816 261.5606,-511.2033 268,-504 300.0771,-468.1178 330.0856,-420.7322 347.2161,-391.8576\"/>\n<polygon fill=\"#000000\" stroke=\"#000000\" points=\"350.2707,-393.5676 352.3117,-383.1712 344.2329,-390.0257 350.2707,-393.5676\"/>\n<text text-anchor=\"middle\" x=\"331.5\" y=\"-449.3\" font-family=\"Times,serif\" font-size=\"14.00\" fill=\"#000000\">1.0</text>\n</g>\n<!-- PIP3 -->\n<g id=\"node5\" class=\"node\">\n<title>PIP3</title>\n<ellipse fill=\"none\" stroke=\"#000000\" cx=\"205\" cy=\"-279\" rx=\"33.2948\" ry=\"18\"/>\n<text text-anchor=\"middle\" x=\"205\" y=\"-275.3\" font-family=\"Times,serif\" font-size=\"14.00\" fill=\"#000000\">PIP3</text>\n</g>\n<!-- pmek&#45;&gt;PIP3 -->\n<g id=\"edge11\" class=\"edge\">\n<title>pmek&#45;&gt;PIP3</title>\n<path fill=\"none\" stroke=\"#000000\" d=\"M222.5248,-521.9684C219.2874,-508.1209 215.123,-488.473 213,-471 205.9679,-413.1251 204.8086,-344.7975 204.781,-307.2553\"/>\n<polygon fill=\"#000000\" stroke=\"#000000\" points=\"208.2812,-307.0843 204.8013,-297.0773 201.2812,-307.0702 208.2812,-307.0843\"/>\n<text text-anchor=\"middle\" x=\"220.5\" y=\"-405.8\" font-family=\"Times,serif\" font-size=\"14.00\" fill=\"#000000\">1.0</text>\n</g>\n<!-- pmek&#45;&gt;p44/42 -->\n<g id=\"edge16\" class=\"edge\">\n<title>pmek&#45;&gt;p44/42</title>\n<path fill=\"none\" stroke=\"#000000\" d=\"M191.1861,-536.4649C165.2195,-532.3256 130.5036,-523.3647 106,-504 61.1285,-468.5389 46,-382.7926 46,-322.5 46,-322.5 46,-322.5 46,-105 46,-60.7207 181.6585,-35.218 258.4849,-24.3256\"/>\n<polygon fill=\"#000000\" stroke=\"#000000\" points=\"259.0332,-27.7832 268.4596,-22.9464 258.0744,-20.8491 259.0332,-27.7832\"/>\n<text text-anchor=\"middle\" x=\"57.5\" y=\"-275.3\" font-family=\"Times,serif\" font-size=\"14.00\" fill=\"#000000\">1.0</text>\n</g>\n<!-- pmek&#45;&gt;pakts473 -->\n<g id=\"edge22\" class=\"edge\">\n<title>pmek&#45;&gt;pakts473</title>\n<path fill=\"none\" stroke=\"#000000\" d=\"M193.6222,-532.7377C166.1861,-526.0633 130.3629,-515.4869 121,-504 76.993,-450.0098 87.8219,-415.2392 106,-348 122.114,-288.3956 129.48,-268.5984 176,-228 186.1085,-219.1782 198.6783,-212.3126 211.0921,-207.0557\"/>\n<polygon fill=\"#000000\" stroke=\"#000000\" points=\"212.4909,-210.2664 220.5111,-203.3435 209.9242,-203.754 212.4909,-210.2664\"/>\n<text text-anchor=\"middle\" x=\"117.5\" y=\"-362.3\" font-family=\"Times,serif\" font-size=\"14.00\" fill=\"#000000\">1.0</text>\n</g>\n<!-- pjnk -->\n<g id=\"node11\" class=\"node\">\n<title>pjnk</title>\n<ellipse fill=\"none\" stroke=\"#000000\" cx=\"425\" cy=\"-105\" rx=\"31.3957\" ry=\"18\"/>\n<text text-anchor=\"middle\" x=\"425\" y=\"-101.3\" font-family=\"Times,serif\" font-size=\"14.00\" fill=\"#000000\">pjnk</text>\n</g>\n<!-- pmek&#45;&gt;pjnk -->\n<g id=\"edge32\" class=\"edge\">\n<title>pmek&#45;&gt;pjnk</title>\n<path fill=\"none\" stroke=\"#000000\" d=\"M253.0115,-527.0982C309.2897,-498.4953 438.6967,-428.7567 456,-384 494.9444,-283.266 493.5858,-242.2487 456,-141 454.2957,-136.4089 451.7144,-132.011 448.7545,-127.9635\"/>\n<polygon fill=\"#000000\" stroke=\"#000000\" points=\"451.388,-125.6561 442.3071,-120.1981 446.0023,-130.1277 451.388,-125.6561\"/>\n<text text-anchor=\"middle\" x=\"489.5\" y=\"-318.8\" font-family=\"Times,serif\" font-size=\"14.00\" fill=\"#000000\">1.0</text>\n</g>\n<!-- plcg&#45;&gt;PIP3 -->\n<g id=\"edge12\" class=\"edge\">\n<title>plcg&#45;&gt;PIP3</title>\n<path fill=\"none\" stroke=\"#000000\" d=\"M340.717,-352.9476C329.7176,-346.1621 316.0985,-337.6985 304,-330 293.7037,-323.4483 291.6502,-320.9592 281,-315 267.9793,-307.7144 253.2429,-300.5087 240.2357,-294.48\"/>\n<polygon fill=\"#000000\" stroke=\"#000000\" points=\"241.6692,-291.287 231.1192,-290.314 238.7597,-297.6538 241.6692,-291.287\"/>\n<text text-anchor=\"middle\" x=\"315.5\" y=\"-318.8\" font-family=\"Times,serif\" font-size=\"14.00\" fill=\"#000000\">1.0</text>\n</g>\n<!-- plcg&#45;&gt;p44/42 -->\n<g id=\"edge17\" class=\"edge\">\n<title>plcg&#45;&gt;p44/42</title>\n<path fill=\"none\" stroke=\"#000000\" d=\"M359.8422,-347.7776C357.3385,-326.8264 353.036,-291.4085 349,-261 341.9127,-207.6024 340.5212,-194.1876 332,-141 326.7753,-108.3882 319.9837,-71.0615 315.337,-46.1629\"/>\n<polygon fill=\"#000000\" stroke=\"#000000\" points=\"318.7712,-45.4863 313.4877,-36.303 311.8912,-46.7768 318.7712,-45.4863\"/>\n<text text-anchor=\"middle\" x=\"353.5\" y=\"-188.3\" font-family=\"Times,serif\" font-size=\"14.00\" fill=\"#000000\">1.0</text>\n</g>\n<!-- plcg&#45;&gt;pakts473 -->\n<g id=\"edge23\" class=\"edge\">\n<title>plcg&#45;&gt;pakts473</title>\n<path fill=\"none\" stroke=\"#000000\" d=\"M352.1456,-348.6801C334.8157,-318.2215 298.7762,-254.8794 278.2237,-218.7569\"/>\n<polygon fill=\"#000000\" stroke=\"#000000\" points=\"281.0967,-216.7287 273.1093,-209.7679 275.0125,-220.1904 281.0967,-216.7287\"/>\n<text text-anchor=\"middle\" x=\"333.5\" y=\"-275.3\" font-family=\"Times,serif\" font-size=\"14.00\" fill=\"#000000\">1.0</text>\n</g>\n<!-- plcg&#45;&gt;pjnk -->\n<g id=\"edge33\" class=\"edge\">\n<title>plcg&#45;&gt;pjnk</title>\n<path fill=\"none\" stroke=\"#000000\" d=\"M371.7534,-348.8263C374.7474,-342.9939 377.8229,-336.3451 380,-330 392.4318,-293.767 411.5818,-184.989 420.3397,-133.1142\"/>\n<polygon fill=\"#000000\" stroke=\"#000000\" points=\"423.8412,-133.3964 422.0446,-122.955 416.9377,-132.2377 423.8412,-133.3964\"/>\n<text text-anchor=\"middle\" x=\"413.5\" y=\"-231.8\" font-family=\"Times,serif\" font-size=\"14.00\" fill=\"#000000\">1.0</text>\n</g>\n<!-- PIP2 -->\n<g id=\"node4\" class=\"node\">\n<title>PIP2</title>\n<ellipse fill=\"none\" stroke=\"#000000\" cx=\"240\" cy=\"-714\" rx=\"33.2948\" ry=\"18\"/>\n<text text-anchor=\"middle\" x=\"240\" y=\"-710.3\" font-family=\"Times,serif\" font-size=\"14.00\" fill=\"#000000\">PIP2</text>\n</g>\n<!-- PIP2&#45;&gt;plcg -->\n<g id=\"edge8\" class=\"edge\">\n<title>PIP2&#45;&gt;plcg</title>\n<path fill=\"none\" stroke=\"#000000\" d=\"M272.4212,-709.3894C293.0682,-704.806 318.8717,-695.7555 335,-678 407.5926,-598.0833 383.812,-454.4183 369.4913,-393.9888\"/>\n<polygon fill=\"#000000\" stroke=\"#000000\" points=\"372.8295,-392.9071 367.037,-384.036 366.0331,-394.5831 372.8295,-392.9071\"/>\n<text text-anchor=\"middle\" x=\"395.5\" y=\"-536.3\" font-family=\"Times,serif\" font-size=\"14.00\" fill=\"#000000\">1.0</text>\n</g>\n<!-- PIP2&#45;&gt;PIP3 -->\n<g id=\"edge13\" class=\"edge\">\n<title>PIP2&#45;&gt;PIP3</title>\n<path fill=\"none\" stroke=\"#000000\" d=\"M212.9801,-703.4637C184.2786,-690.2905 143,-664.7779 143,-627 143,-627 143,-627 143,-366 143,-340.105 161.4412,-316.578 178.2087,-300.5383\"/>\n<polygon fill=\"#000000\" stroke=\"#000000\" points=\"180.6732,-303.0281 185.7227,-293.7139 175.9669,-297.8463 180.6732,-303.0281\"/>\n<text text-anchor=\"middle\" x=\"154.5\" y=\"-492.8\" font-family=\"Times,serif\" font-size=\"14.00\" fill=\"#000000\">1.0</text>\n</g>\n<!-- PKC -->\n<g id=\"node9\" class=\"node\">\n<title>PKC</title>\n<ellipse fill=\"none\" stroke=\"#000000\" cx=\"240\" cy=\"-627\" rx=\"30.5947\" ry=\"18\"/>\n<text text-anchor=\"middle\" x=\"240\" y=\"-623.3\" font-family=\"Times,serif\" font-size=\"14.00\" fill=\"#000000\">PKC</text>\n</g>\n<!-- PIP2&#45;&gt;PKC -->\n<g id=\"edge30\" class=\"edge\">\n<title>PIP2&#45;&gt;PKC</title>\n<path fill=\"none\" stroke=\"#000000\" d=\"M240,-695.9735C240,-684.1918 240,-668.5607 240,-655.1581\"/>\n<polygon fill=\"#000000\" stroke=\"#000000\" points=\"243.5001,-655.0033 240,-645.0034 236.5001,-655.0034 243.5001,-655.0033\"/>\n<text text-anchor=\"middle\" x=\"251.5\" y=\"-666.8\" font-family=\"Times,serif\" font-size=\"14.00\" fill=\"#000000\">1.0</text>\n</g>\n<!-- PIP3&#45;&gt;pakts473 -->\n<g id=\"edge24\" class=\"edge\">\n<title>PIP3&#45;&gt;pakts473</title>\n<path fill=\"none\" stroke=\"#000000\" d=\"M211.7086,-261.2621C215.9447,-251.0995 221.9447,-238.3495 229,-228 231.6315,-224.1398 234.6779,-220.2962 237.8445,-216.6362\"/>\n<polygon fill=\"#000000\" stroke=\"#000000\" points=\"240.6818,-218.7203 244.8542,-208.9816 235.5193,-213.9928 240.6818,-218.7203\"/>\n<text text-anchor=\"middle\" x=\"240.5\" y=\"-231.8\" font-family=\"Times,serif\" font-size=\"14.00\" fill=\"#000000\">1.0</text>\n</g>\n<!-- p44/42&#45;&gt;pakts473 -->\n<g id=\"edge25\" class=\"edge\">\n<title>p44/42&#45;&gt;pakts473</title>\n<path fill=\"none\" stroke=\"#000000\" d=\"M291.5396,-34.3767C278.5468,-47.2154 262.2329,-66.3221 255,-87 246.2334,-112.0627 249.9886,-142.4829 254.8794,-164.1151\"/>\n<polygon fill=\"#000000\" stroke=\"#000000\" points=\"251.5182,-165.1027 257.3216,-173.9667 258.3125,-163.4183 251.5182,-165.1027\"/>\n<text text-anchor=\"middle\" x=\"266.5\" y=\"-101.3\" font-family=\"Times,serif\" font-size=\"14.00\" fill=\"#000000\">1.0</text>\n</g>\n<!-- p44/42&#45;&gt;pjnk -->\n<g id=\"edge34\" class=\"edge\">\n<title>p44/42&#45;&gt;pjnk</title>\n<path fill=\"none\" stroke=\"#000000\" d=\"M348.5328,-26.2813C366.254,-31.7058 386.5073,-40.3946 401,-54 407.7687,-60.3544 412.8168,-69.0036 416.4898,-77.3739\"/>\n<polygon fill=\"#000000\" stroke=\"#000000\" points=\"413.312,-78.8596 420.1908,-86.9176 419.8384,-76.3286 413.312,-78.8596\"/>\n<text text-anchor=\"middle\" x=\"423.5\" y=\"-57.8\" font-family=\"Times,serif\" font-size=\"14.00\" fill=\"#000000\">1.0</text>\n</g>\n<!-- pakts473&#45;&gt;PIP3 -->\n<g id=\"edge14\" class=\"edge\">\n<title>pakts473&#45;&gt;PIP3</title>\n<path fill=\"none\" stroke=\"#000000\" d=\"M218.036,-202.0541C204.4499,-207.4209 191.0216,-215.594 183,-228 177.7928,-236.0533 179.9519,-245.5465 184.5396,-254.1453\"/>\n<polygon fill=\"#000000\" stroke=\"#000000\" points=\"181.6607,-256.1403 189.9927,-262.6847 187.5604,-252.3728 181.6607,-256.1403\"/>\n<text text-anchor=\"middle\" x=\"194.5\" y=\"-231.8\" font-family=\"Times,serif\" font-size=\"14.00\" fill=\"#000000\">1.0</text>\n</g>\n<!-- pakts473&#45;&gt;p44/42 -->\n<g id=\"edge18\" class=\"edge\">\n<title>pakts473&#45;&gt;p44/42</title>\n<path fill=\"none\" stroke=\"#000000\" d=\"M267.8528,-174.0343C276.05,-143.6874 292.6952,-82.0644 302.4354,-46.0052\"/>\n<polygon fill=\"#000000\" stroke=\"#000000\" points=\"305.8743,-46.6954 305.1032,-36.1286 299.1165,-44.8699 305.8743,-46.6954\"/>\n<text text-anchor=\"middle\" x=\"303.5\" y=\"-101.3\" font-family=\"Times,serif\" font-size=\"14.00\" fill=\"#000000\">1.0</text>\n</g>\n<!-- pakts473&#45;&gt;pjnk -->\n<g id=\"edge35\" class=\"edge\">\n<title>pakts473&#45;&gt;pjnk</title>\n<path fill=\"none\" stroke=\"#000000\" d=\"M274.8613,-174.1379C282.9995,-163.1517 294.7057,-149.5806 308,-141 331.1759,-126.0415 360.9264,-116.9972 384.6274,-111.7151\"/>\n<polygon fill=\"#000000\" stroke=\"#000000\" points=\"385.6372,-115.0798 394.7111,-109.6103 384.2069,-108.2275 385.6372,-115.0798\"/>\n<text text-anchor=\"middle\" x=\"319.5\" y=\"-144.8\" font-family=\"Times,serif\" font-size=\"14.00\" fill=\"#000000\">1.0</text>\n</g>\n<!-- PKA -->\n<g id=\"node8\" class=\"node\">\n<title>PKA</title>\n<ellipse fill=\"none\" stroke=\"#000000\" cx=\"483\" cy=\"-627\" rx=\"30.5947\" ry=\"18\"/>\n<text text-anchor=\"middle\" x=\"483\" y=\"-623.3\" font-family=\"Times,serif\" font-size=\"14.00\" fill=\"#000000\">PKA</text>\n</g>\n<!-- PKA&#45;&gt;praf -->\n<g id=\"edge2\" class=\"edge\">\n<title>PKA&#45;&gt;praf</title>\n<path fill=\"none\" stroke=\"#000000\" d=\"M459.3015,-615.4811C436.4631,-604.6001 400.7881,-588.1772 369,-576 344.587,-566.648 333.365,-574.3927 313,-558 299.4846,-547.1209 278.1325,-506.8265 264.6078,-479.4387\"/>\n<polygon fill=\"#000000\" stroke=\"#000000\" points=\"267.7077,-477.8104 260.176,-470.359 261.4171,-480.8809 267.7077,-477.8104\"/>\n<text text-anchor=\"middle\" x=\"324.5\" y=\"-536.3\" font-family=\"Times,serif\" font-size=\"14.00\" fill=\"#000000\">1.0</text>\n</g>\n<!-- PKA&#45;&gt;pmek -->\n<g id=\"edge3\" class=\"edge\">\n<title>PKA&#45;&gt;pmek</title>\n<path fill=\"none\" stroke=\"#000000\" d=\"M454.2966,-620.7627C426.3208,-614.3792 382.7474,-603.625 346,-591 317.4144,-581.1791 286.0251,-567.6036 262.6649,-556.9278\"/>\n<polygon fill=\"#000000\" stroke=\"#000000\" points=\"264.0415,-553.7085 253.495,-552.6977 261.1093,-560.0647 264.0415,-553.7085\"/>\n<text text-anchor=\"middle\" x=\"357.5\" y=\"-579.8\" font-family=\"Times,serif\" font-size=\"14.00\" fill=\"#000000\">1.0</text>\n</g>\n<!-- PKA&#45;&gt;plcg -->\n<g id=\"edge9\" class=\"edge\">\n<title>PKA&#45;&gt;plcg</title>\n<path fill=\"none\" stroke=\"#000000\" d=\"M482.6484,-608.755C481.5132,-581.5344 476.9468,-529.1905 459,-489 441.3664,-449.511 408.2108,-411.6198 385.6215,-388.579\"/>\n<polygon fill=\"#000000\" stroke=\"#000000\" points=\"387.9472,-385.9548 378.4036,-381.3537 382.9949,-390.902 387.9472,-385.9548\"/>\n<text text-anchor=\"middle\" x=\"475.5\" y=\"-492.8\" font-family=\"Times,serif\" font-size=\"14.00\" fill=\"#000000\">1.0</text>\n</g>\n<!-- PKA&#45;&gt;p44/42 -->\n<g id=\"edge19\" class=\"edge\">\n<title>PKA&#45;&gt;p44/42</title>\n<path fill=\"none\" stroke=\"#000000\" d=\"M503.7439,-613.3978C511.8229,-607.3038 520.6467,-599.5592 527,-591 603.9637,-487.3139 638,-451.6287 638,-322.5 638,-322.5 638,-322.5 640,-105 640,-48.3913 456.1368,-27.8187 362.8933,-21.0254\"/>\n<polygon fill=\"#000000\" stroke=\"#000000\" points=\"363.0237,-17.526 352.8034,-20.3183 362.5343,-24.5089 363.0237,-17.526\"/>\n<text text-anchor=\"middle\" x=\"649.5\" y=\"-318.8\" font-family=\"Times,serif\" font-size=\"14.00\" fill=\"#000000\">1.0</text>\n</g>\n<!-- PKA&#45;&gt;pakts473 -->\n<g id=\"edge26\" class=\"edge\">\n<title>PKA&#45;&gt;pakts473</title>\n<path fill=\"none\" stroke=\"#000000\" d=\"M489.2002,-609.0183C505.069,-559.9912 543.2332,-420.5974 504,-315 486.2202,-267.145 473.2436,-253.47 429,-228 391.3784,-206.3421 375.3779,-219.4106 333,-210 327.1929,-208.7104 321.136,-207.2812 315.1211,-205.8083\"/>\n<polygon fill=\"#000000\" stroke=\"#000000\" points=\"315.6394,-202.3304 305.0895,-203.3052 313.9447,-209.1221 315.6394,-202.3304\"/>\n<text text-anchor=\"middle\" x=\"532.5\" y=\"-405.8\" font-family=\"Times,serif\" font-size=\"14.00\" fill=\"#000000\">1.0</text>\n</g>\n<!-- PKA&#45;&gt;pjnk -->\n<g id=\"edge36\" class=\"edge\">\n<title>PKA&#45;&gt;pjnk</title>\n<path fill=\"none\" stroke=\"#000000\" d=\"M496.8198,-610.8971C501.4611,-604.9271 506.3742,-597.9202 510,-591 517.1751,-577.3058 516.8609,-572.8956 521,-558 544.4123,-473.7452 564,-453.4472 564,-366 564,-366 564,-366 564,-192 564,-144.9221 506.0006,-122.3631 464.9322,-112.2905\"/>\n<polygon fill=\"#000000\" stroke=\"#000000\" points=\"465.6906,-108.8736 455.1609,-110.0469 464.124,-115.6961 465.6906,-108.8736\"/>\n<text text-anchor=\"middle\" x=\"575.5\" y=\"-362.3\" font-family=\"Times,serif\" font-size=\"14.00\" fill=\"#000000\">1.0</text>\n</g>\n<!-- PKC&#45;&gt;pmek -->\n<g id=\"edge4\" class=\"edge\">\n<title>PKC&#45;&gt;pmek</title>\n<path fill=\"none\" stroke=\"#000000\" d=\"M237.3064,-608.9735C235.5459,-597.1918 233.2102,-581.5607 231.2075,-568.1581\"/>\n<polygon fill=\"#000000\" stroke=\"#000000\" points=\"234.6297,-567.3763 229.6902,-558.0034 227.7065,-568.4108 234.6297,-567.3763\"/>\n<text text-anchor=\"middle\" x=\"246.5\" y=\"-579.8\" font-family=\"Times,serif\" font-size=\"14.00\" fill=\"#000000\">1.0</text>\n</g>\n<!-- PKC&#45;&gt;pjnk -->\n<g id=\"edge37\" class=\"edge\">\n<title>PKC&#45;&gt;pjnk</title>\n<path fill=\"none\" stroke=\"#000000\" d=\"M267.098,-618.5592C277.3708,-615.4414 289.1942,-611.9511 300,-609 332.2356,-600.1962 345.6541,-610.2053 373,-591 387.4251,-580.8692 389.0188,-574.5814 395,-558 418.8823,-491.7926 424.3283,-313.2872 428,-243 430.3649,-197.7284 429.884,-186.2942 428,-141 427.8988,-138.5679 427.7594,-136.0458 427.5956,-133.5168\"/>\n<polygon fill=\"#000000\" stroke=\"#000000\" points=\"431.0668,-133.0026 426.8209,-123.2957 424.0868,-133.5317 431.0668,-133.0026\"/>\n<text text-anchor=\"middle\" x=\"433.5\" y=\"-362.3\" font-family=\"Times,serif\" font-size=\"14.00\" fill=\"#000000\">1.0</text>\n</g>\n<!-- P38 -->\n<g id=\"node10\" class=\"node\">\n<title>P38</title>\n<ellipse fill=\"none\" stroke=\"#000000\" cx=\"409\" cy=\"-714\" rx=\"28.6953\" ry=\"18\"/>\n<text text-anchor=\"middle\" x=\"409\" y=\"-710.3\" font-family=\"Times,serif\" font-size=\"14.00\" fill=\"#000000\">P38</text>\n</g>\n<!-- P38&#45;&gt;pmek -->\n<g id=\"edge5\" class=\"edge\">\n<title>P38&#45;&gt;pmek</title>\n<path fill=\"none\" stroke=\"#000000\" d=\"M394.2234,-698.1427C384.6194,-687.9561 371.7445,-674.523 360,-663 323.425,-627.1151 279.5372,-587.089 252.4572,-562.7261\"/>\n<polygon fill=\"#000000\" stroke=\"#000000\" points=\"254.7317,-560.0645 244.9524,-555.9883 250.0553,-565.2733 254.7317,-560.0645\"/>\n<text text-anchor=\"middle\" x=\"351.5\" y=\"-623.3\" font-family=\"Times,serif\" font-size=\"14.00\" fill=\"#000000\">1.0</text>\n</g>\n<!-- P38&#45;&gt;plcg -->\n<g id=\"edge10\" class=\"edge\">\n<title>P38&#45;&gt;plcg</title>\n<path fill=\"none\" stroke=\"#000000\" d=\"M436.5332,-708.8977C497.5444,-696.0441 636.7662,-657.3874 611,-576 578.597,-473.6489 457.3184,-407.6136 396.8001,-380.3188\"/>\n<polygon fill=\"#000000\" stroke=\"#000000\" points=\"398.1936,-377.1081 387.6318,-376.2711 395.3664,-383.5118 398.1936,-377.1081\"/>\n<text text-anchor=\"middle\" x=\"614.5\" y=\"-536.3\" font-family=\"Times,serif\" font-size=\"14.00\" fill=\"#000000\">1.0</text>\n</g>\n<!-- P38&#45;&gt;pakts473 -->\n<g id=\"edge27\" class=\"edge\">\n<title>P38&#45;&gt;pakts473</title>\n<path fill=\"none\" stroke=\"#000000\" d=\"M380.2015,-712.6652C344.5521,-709.9966 282.823,-701.9943 236,-678 94.6064,-605.5432 0,-568.3777 0,-409.5 0,-409.5 0,-409.5 0,-279 0,-236.6555 124.4411,-211.4008 202.1256,-199.7606\"/>\n<polygon fill=\"#000000\" stroke=\"#000000\" points=\"202.9023,-203.1844 212.291,-198.2748 201.8899,-196.258 202.9023,-203.1844\"/>\n<text text-anchor=\"middle\" x=\"17.5\" y=\"-449.3\" font-family=\"Times,serif\" font-size=\"14.00\" fill=\"#000000\">1.0</text>\n</g>\n<!-- P38&#45;&gt;PKA -->\n<g id=\"edge29\" class=\"edge\">\n<title>P38&#45;&gt;PKA</title>\n<path fill=\"none\" stroke=\"#000000\" d=\"M422.5727,-698.0429C433.7681,-684.8808 449.8245,-666.0036 462.5727,-651.0159\"/>\n<polygon fill=\"#000000\" stroke=\"#000000\" points=\"465.4497,-653.0355 469.2627,-643.1506 460.1176,-648.5002 465.4497,-653.0355\"/>\n<text text-anchor=\"middle\" x=\"461.5\" y=\"-666.8\" font-family=\"Times,serif\" font-size=\"14.00\" fill=\"#000000\">1.0</text>\n</g>\n<!-- P38&#45;&gt;PKC -->\n<g id=\"edge31\" class=\"edge\">\n<title>P38&#45;&gt;PKC</title>\n<path fill=\"none\" stroke=\"#000000\" d=\"M386.2407,-702.7685C372.0446,-695.7261 353.415,-686.4179 337,-678 315.1309,-666.7851 290.6342,-653.9028 271.7299,-643.8913\"/>\n<polygon fill=\"#000000\" stroke=\"#000000\" points=\"273.1411,-640.678 262.6667,-639.0847 269.8613,-646.8621 273.1411,-640.678\"/>\n<text text-anchor=\"middle\" x=\"348.5\" y=\"-666.8\" font-family=\"Times,serif\" font-size=\"14.00\" fill=\"#000000\">1.0</text>\n</g>\n<!-- P38&#45;&gt;pjnk -->\n<g id=\"edge38\" class=\"edge\">\n<title>P38&#45;&gt;pjnk</title>\n<path fill=\"none\" stroke=\"#000000\" d=\"M437.2737,-710.5639C469.2706,-705.9809 522.4665,-696.2384 565,-678 589.471,-667.5068 599.9391,-666.957 615,-645 695.1822,-528.1041 658.9843,-471.625 665,-330 669.1246,-232.8964 634.3197,-197.1649 555,-141 528.7314,-122.3996 493.1977,-113.3949 465.9191,-109.0439\"/>\n<polygon fill=\"#000000\" stroke=\"#000000\" points=\"466.3034,-105.5631 455.905,-107.5938 465.3002,-112.4908 466.3034,-105.5631\"/>\n<text text-anchor=\"middle\" x=\"676.5\" y=\"-405.8\" font-family=\"Times,serif\" font-size=\"14.00\" fill=\"#000000\">1.0</text>\n</g>\n<!-- pjnk&#45;&gt;p44/42 -->\n<g id=\"edge20\" class=\"edge\">\n<title>pjnk&#45;&gt;p44/42</title>\n<path fill=\"none\" stroke=\"#000000\" d=\"M406.0101,-90.6337C387.8434,-76.8902 360.185,-55.966 339.2128,-40.1001\"/>\n<polygon fill=\"#000000\" stroke=\"#000000\" points=\"341.054,-37.1043 330.9674,-33.8623 336.8307,-42.6868 341.054,-37.1043\"/>\n<text text-anchor=\"middle\" x=\"385.5\" y=\"-57.8\" font-family=\"Times,serif\" font-size=\"14.00\" fill=\"#000000\">1.0</text>\n</g>\n<!-- pjnk&#45;&gt;pakts473 -->\n<g id=\"edge28\" class=\"edge\">\n<title>pjnk&#45;&gt;pakts473</title>\n<path fill=\"none\" stroke=\"#000000\" d=\"M402.9857,-117.898C384.8726,-128.4077 358.4572,-143.5003 335,-156 324.6022,-161.5407 313.2444,-167.3363 302.6865,-172.618\"/>\n<polygon fill=\"#000000\" stroke=\"#000000\" points=\"301.0538,-169.521 293.6586,-177.1079 304.1709,-175.7886 301.0538,-169.521\"/>\n<text text-anchor=\"middle\" x=\"370.5\" y=\"-144.8\" font-family=\"Times,serif\" font-size=\"14.00\" fill=\"#000000\">1.0</text>\n</g>\n</g>\n</svg>\n"
     },
     "metadata": {}
    }
   ],
   "source": [
    "graphs_cdt = {}\n",
    "labels = [f'{col}' for i, col in enumerate(data.columns)]\n",
    "\n",
    "# LiNGAM\n",
    "from cdt.causality.graph import LiNGAM\n",
    "obj = LiNGAM()\n",
    "output = obj.predict(data)\n",
    "adj_matrix = nx.to_numpy_matrix(output)\n",
    "adj_matrix = np.asarray(adj_matrix)\n",
    "graph_dot_cdt = make_graph(adj_matrix, labels)\n",
    "graphs_cdt['LiNGAM'] = graph_dot_cdt\n",
    "\n",
    "# PC Algorithm\n",
    "from cdt.causality.graph import PC\n",
    "obj = PC()\n",
    "output = obj.predict(data)    #No graph provided as an argument\n",
    "# output = obj.predict(data, nx.Graph(graph))  #With an undirected graph\n",
    "# output = obj.predict(data, graph)  #With a directed graph\n",
    "adj_matrix = nx.to_numpy_matrix(output)\n",
    "adj_matrix = np.asarray(adj_matrix)\n",
    "graph_dot_cdt = make_graph(adj_matrix, labels)\n",
    "graphs_cdt['PC'] = graph_dot_cdt\n",
    "\n",
    "# GES Algorithm\n",
    "from cdt.causality.graph import GES\n",
    "obj = GES()\n",
    "output = obj.predict(data)    #No graph provided as an argument\n",
    "# output = obj.predict(data, nx.Graph(graph))  #With an undirected graph\n",
    "# output = obj.predict(data, graph)  #With a directed graph\n",
    "adj_matrix = nx.to_numpy_matrix(output)\n",
    "adj_matrix = np.asarray(adj_matrix)\n",
    "graph_dot_cdt = make_graph(adj_matrix, labels)\n",
    "graphs_cdt['GES'] = graph_dot_cdt\n",
    "\n",
    "# GIES Algorithm\n",
    "from cdt.causality.graph import GIES\n",
    "obj = GIES()\n",
    "output = obj.predict(data)    #No graph provided as an argument\n",
    "# output = obj.predict(data, nx.Graph(graph))  #With an undirected graph\n",
    "# output = obj.predict(data, graph)  #With a directed graph\n",
    "adj_matrix = nx.to_numpy_matrix(output)\n",
    "adj_matrix = np.asarray(adj_matrix)\n",
    "graph_dot_cdt = make_graph(adj_matrix, labels)\n",
    "graphs_cdt['GIES'] = graph_dot_cdt\n",
    "\n",
    "# # CGNN Algorithm\n",
    "# from cdt.causality.graph import CGNN\n",
    "# obj = CGNN()\n",
    "# # output = obj.predict(data)    #No graph provided as an argument\n",
    "# output = obj.predict(data, nx.Graph(graph))  #With an undirected graph\n",
    "# # output = obj.predict(data, graph)  #With a directed graph\n",
    "# adj_matrix = nx.to_numpy_matrix(output)\n",
    "# adj_matrix = np.asarray(adj_matrix)\n",
    "# graph_dot_cdt = make_graph(adj_matrix, labels)\n",
    "# graphs_cdt['CGNN'] = graph_dot_cdt\n",
    "\n",
    "# # FSGNN\n",
    "# from cdt.independence.graph import FSGNN\n",
    "# Fsgnn = FSGNN(train_epochs=1000, test_epochs=500, l1=0.1, batch_size=1000)\n",
    "# output = Fsgnn.predict(data, threshold=1e-7)\n",
    "# adj_matrix = nx.to_numpy_matrix(output)\n",
    "# adj_matrix = np.asarray(adj_matrix)\n",
    "# graph_dot_cdt = make_graph(adj_matrix, labels)\n",
    "# graphs_cdt['FSGNN'] = graph_dot_cdt\n",
    "\n",
    "# # Visualize graphs\n",
    "for method, graph in graphs_cdt.items():\n",
    "    print(\"Method : %s\"%(method))\n",
    "    display(graph)\n",
    "    # graph.render(method + '.png', view=True)"
   ]
  },
  {
   "source": [
    "## Estimate effects using Linear Regression"
   ],
   "cell_type": "markdown",
   "metadata": {}
  },
  {
   "cell_type": "code",
   "execution_count": 7,
   "metadata": {},
   "outputs": [
    {
     "output_type": "stream",
     "name": "stdout",
     "text": [
      "\n",
      "*****************************************************************************\n",
      "\n",
      "Causal Discovery Method : DirectLiNGAM\n",
      "*** Causal Estimate ***\n",
      "\n",
      "## Identified estimand\n",
      "Estimand type: nonparametric-ate\n",
      "\n",
      "### Estimand : 1\n",
      "Estimand name: backdoor\n",
      "Estimand expression:\n",
      "  d                                  \n",
      "──────(Expectation(weight|cylinders))\n",
      "d[mpg]                               \n",
      "Estimand assumption 1, Unconfoundedness: If U→{mpg} and U→weight then P(weight|mpg,cylinders,U) = P(weight|mpg,cylinders)\n",
      "\n",
      "## Realized estimand\n",
      "b: weight~mpg+cylinders\n",
      "Target units: ate\n",
      "\n",
      "## Estimate\n",
      "Mean value: -36.97546905326499\n",
      "p-value: [0.]\n",
      "95.0% confidence interval: [[-43.631 -30.319]]\n",
      "\n",
      "Causal Estimate is -36.97546905326499\n"
     ]
    }
   ],
   "source": [
    "for method, graph in graphs.items():\n",
    "        print('\\n*****************************************************************************\\n')\n",
    "        print(\"Causal Discovery Method : %s\"%(method))\n",
    "\n",
    "        # Obtain valid dot format\n",
    "        graph = str_to_dot(graph.source)\n",
    "\n",
    "        # Define Causal Model\n",
    "        model=CausalModel(\n",
    "                data = data,\n",
    "                treatment='mpg',\n",
    "                outcome='weight',\n",
    "                graph=graph)\n",
    "\n",
    "        # Identification\n",
    "        identified_estimand = model.identify_effect(proceed_when_unidentifiable=True)\n",
    "\n",
    "        # Estimation\n",
    "        estimate = model.estimate_effect(identified_estimand,\n",
    "                                        method_name=\"backdoor.linear_regression\",\n",
    "                                        control_value=0,\n",
    "                                        treatment_value=1,\n",
    "                                        confidence_intervals=True,\n",
    "                                        test_significance=True)\n",
    "        print(estimate)\n",
    "        print(\"Causal Estimate is \" + str(estimate.value))"
   ]
  },
  {
   "source": [
    "## Estimate effects using Double ML"
   ],
   "cell_type": "markdown",
   "metadata": {}
  },
  {
   "cell_type": "code",
   "execution_count": 12,
   "metadata": {},
   "outputs": [
    {
     "output_type": "stream",
     "name": "stdout",
     "text": [
      "\n*****************************************************************************\n\nCausal Discovery Method : DirectLiNGAM\n"
     ]
    },
    {
     "output_type": "error",
     "ename": "AttributeError",
     "evalue": "'numpy.ndarray' object has no attribute 'columns'",
     "traceback": [
      "\u001b[0;31m---------------------------------------------------------------------------\u001b[0m",
      "\u001b[0;31mAttributeError\u001b[0m                            Traceback (most recent call last)",
      "\u001b[0;32m<ipython-input-12-4ea1549c4cb7>\u001b[0m in \u001b[0;36m<module>\u001b[0;34m\u001b[0m\n\u001b[1;32m     16\u001b[0m                 \u001b[0mtreatment\u001b[0m\u001b[0;34m=\u001b[0m\u001b[0;34m'mpg'\u001b[0m\u001b[0;34m,\u001b[0m\u001b[0;34m\u001b[0m\u001b[0;34m\u001b[0m\u001b[0m\n\u001b[1;32m     17\u001b[0m                 \u001b[0moutcome\u001b[0m\u001b[0;34m=\u001b[0m\u001b[0;34m'weight'\u001b[0m\u001b[0;34m,\u001b[0m\u001b[0;34m\u001b[0m\u001b[0;34m\u001b[0m\u001b[0m\n\u001b[0;32m---> 18\u001b[0;31m                 graph=graph)\n\u001b[0m\u001b[1;32m     19\u001b[0m \u001b[0;34m\u001b[0m\u001b[0m\n\u001b[1;32m     20\u001b[0m         \u001b[0;31m# Identification\u001b[0m\u001b[0;34m\u001b[0m\u001b[0;34m\u001b[0m\u001b[0;34m\u001b[0m\u001b[0m\n",
      "\u001b[0;32m~/dowhy/dowhy/causal_model.py\u001b[0m in \u001b[0;36m__init__\u001b[0;34m(self, data, treatment, outcome, graph, common_causes, instruments, effect_modifiers, estimand_type, proceed_when_unidentifiable, missing_nodes_as_confounders, **kwargs)\u001b[0m\n\u001b[1;32m    104\u001b[0m                 \u001b[0mgraph\u001b[0m\u001b[0;34m,\u001b[0m\u001b[0;34m\u001b[0m\u001b[0;34m\u001b[0m\u001b[0m\n\u001b[1;32m    105\u001b[0m                 \u001b[0meffect_modifier_names\u001b[0m\u001b[0;34m=\u001b[0m\u001b[0mself\u001b[0m\u001b[0;34m.\u001b[0m\u001b[0m_effect_modifiers\u001b[0m\u001b[0;34m,\u001b[0m\u001b[0;34m\u001b[0m\u001b[0;34m\u001b[0m\u001b[0m\n\u001b[0;32m--> 106\u001b[0;31m                 \u001b[0mobserved_node_names\u001b[0m\u001b[0;34m=\u001b[0m\u001b[0mself\u001b[0m\u001b[0;34m.\u001b[0m\u001b[0m_data\u001b[0m\u001b[0;34m.\u001b[0m\u001b[0mcolumns\u001b[0m\u001b[0;34m.\u001b[0m\u001b[0mtolist\u001b[0m\u001b[0;34m(\u001b[0m\u001b[0;34m)\u001b[0m\u001b[0;34m,\u001b[0m\u001b[0;34m\u001b[0m\u001b[0;34m\u001b[0m\u001b[0m\n\u001b[0m\u001b[1;32m    107\u001b[0m                 \u001b[0mmissing_nodes_as_confounders\u001b[0m \u001b[0;34m=\u001b[0m \u001b[0mself\u001b[0m\u001b[0;34m.\u001b[0m\u001b[0m_missing_nodes_as_confounders\u001b[0m\u001b[0;34m\u001b[0m\u001b[0;34m\u001b[0m\u001b[0m\n\u001b[1;32m    108\u001b[0m             )\n",
      "\u001b[0;31mAttributeError\u001b[0m: 'numpy.ndarray' object has no attribute 'columns'"
     ]
    }
   ],
   "source": [
    "import econml\n",
    "from sklearn.preprocessing import PolynomialFeatures\n",
    "from sklearn.linear_model import LassoCV\n",
    "from sklearn.ensemble import GradientBoostingRegressor\n",
    "\n",
    "for method, graph in graphs.items():\n",
    "        print('\\n*****************************************************************************\\n')\n",
    "        print(\"Causal Discovery Method : %s\"%(method))\n",
    "\n",
    "        # Obtain valid dot format\n",
    "        graph = str_to_dot(graph.source)\n",
    "\n",
    "        # Define Causal Model\n",
    "        model=CausalModel(\n",
    "                data = data,\n",
    "                treatment='mpg',\n",
    "                outcome='weight',\n",
    "                graph=graph)\n",
    "\n",
    "        # Identification\n",
    "        identified_estimand = model.identify_effect(proceed_when_unidentifiable=True)\n",
    "\n",
    "        # Estimation\n",
    "        # dml_estimate = model.estimate_effect(identified_estimand, \n",
    "        #                                     method_name=\"backdoor.econml.dml.DML\",\n",
    "        #                                     method_params={\n",
    "        #                                         'init_params': {'model_y':LassoCV(fit_intercept=False),\n",
    "        #                                                         'model_t': LassoCV(fit_intercept=False),\n",
    "        #                                                         'model_final':LassoCV(fit_intercept=False), },\n",
    "        #                                         'fit_params': {}\n",
    "        #                                     })\n",
    "        \n",
    "        dml_estimate = model.estimate_effect(identified_estimand, \n",
    "                                            method_name=\"backdoor.econml.dml.DML\",\n",
    "                                            method_params={\n",
    "                                                'init_params': {'model_y':GradientBoostingRegressor(),\n",
    "                                                                'model_t': GradientBoostingRegressor(),\n",
    "                                                                'model_final':LassoCV(fit_intercept=False), },\n",
    "                                                'fit_params': {}\n",
    "                                            })\n",
    "        print(dml_estimate)\n",
    "        print(\"Causal Estimate is \" + str(dml_estimate.value))"
   ]
  },
  {
   "cell_type": "code",
   "execution_count": null,
   "metadata": {},
   "outputs": [],
   "source": []
  }
 ]
}