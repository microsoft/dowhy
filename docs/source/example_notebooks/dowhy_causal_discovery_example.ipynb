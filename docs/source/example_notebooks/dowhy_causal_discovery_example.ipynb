{
 "metadata": {
  "language_info": {
   "codemirror_mode": {
    "name": "ipython",
    "version": 3
   },
   "file_extension": ".py",
   "mimetype": "text/x-python",
   "name": "python",
   "nbconvert_exporter": "python",
   "pygments_lexer": "ipython3",
   "version": "3.6.9"
  },
  "orig_nbformat": 2,
  "kernelspec": {
   "name": "python369jvsc74a57bd031f2aee4e71d21fbe5cf8b01ff0e069b9275f58929596ceb00d14d90e3e16cd6",
   "display_name": "Python 3.6.9 64-bit"
  },
  "metadata": {
   "interpreter": {
    "hash": "31f2aee4e71d21fbe5cf8b01ff0e069b9275f58929596ceb00d14d90e3e16cd6"
   }
  }
 },
 "nbformat": 4,
 "nbformat_minor": 2,
 "cells": [
  {
   "source": [
    "# Causal Discovery example on the Auto-MPG dataset\n",
    "\n"
   ],
   "cell_type": "markdown",
   "metadata": {}
  },
  {
   "cell_type": "code",
   "execution_count": 25,
   "metadata": {},
   "outputs": [
    {
     "output_type": "stream",
     "name": "stdout",
     "text": [
      "The rpy2.ipython extension is already loaded. To reload it, use:\n  %reload_ext rpy2.ipython\n['1.19.5', '1.1.5', '0.16', '1.5.2']\n"
     ]
    }
   ],
   "source": [
    "import dowhy\n",
    "from dowhy import CausalModel\n",
    "from rpy2.robjects import r as R\n",
    "%load_ext rpy2.ipython\n",
    "\n",
    "# %R install.packages(\"Matching\")\n",
    "%R library(Matching)\n",
    "\n",
    "import numpy as np\n",
    "import pandas as pd\n",
    "import graphviz\n",
    "import lingam\n",
    "from lingam.utils import make_prior_knowledge\n",
    "\n",
    "print([np.__version__, pd.__version__, graphviz.__version__, lingam.__version__])\n",
    "\n",
    "np.set_printoptions(precision=3, suppress=True)\n",
    "np.random.seed(0)"
   ]
  },
  {
   "source": [
    "## 1. Load the data"
   ],
   "cell_type": "markdown",
   "metadata": {}
  },
  {
   "cell_type": "code",
   "execution_count": 26,
   "metadata": {},
   "outputs": [
    {
     "output_type": "stream",
     "name": "stdout",
     "text": [
      "(392, 6)\n"
     ]
    },
    {
     "output_type": "execute_result",
     "data": {
      "text/plain": [
       "    mpg  cylinders  displacement  horsepower  weight  acceleration\n",
       "0  18.0        8.0         307.0       130.0  3504.0          12.0\n",
       "1  15.0        8.0         350.0       165.0  3693.0          11.5\n",
       "2  18.0        8.0         318.0       150.0  3436.0          11.0\n",
       "3  16.0        8.0         304.0       150.0  3433.0          12.0\n",
       "4  17.0        8.0         302.0       140.0  3449.0          10.5"
      ],
      "text/html": "<div>\n<style scoped>\n    .dataframe tbody tr th:only-of-type {\n        vertical-align: middle;\n    }\n\n    .dataframe tbody tr th {\n        vertical-align: top;\n    }\n\n    .dataframe thead th {\n        text-align: right;\n    }\n</style>\n<table border=\"1\" class=\"dataframe\">\n  <thead>\n    <tr style=\"text-align: right;\">\n      <th></th>\n      <th>mpg</th>\n      <th>cylinders</th>\n      <th>displacement</th>\n      <th>horsepower</th>\n      <th>weight</th>\n      <th>acceleration</th>\n    </tr>\n  </thead>\n  <tbody>\n    <tr>\n      <th>0</th>\n      <td>18.0</td>\n      <td>8.0</td>\n      <td>307.0</td>\n      <td>130.0</td>\n      <td>3504.0</td>\n      <td>12.0</td>\n    </tr>\n    <tr>\n      <th>1</th>\n      <td>15.0</td>\n      <td>8.0</td>\n      <td>350.0</td>\n      <td>165.0</td>\n      <td>3693.0</td>\n      <td>11.5</td>\n    </tr>\n    <tr>\n      <th>2</th>\n      <td>18.0</td>\n      <td>8.0</td>\n      <td>318.0</td>\n      <td>150.0</td>\n      <td>3436.0</td>\n      <td>11.0</td>\n    </tr>\n    <tr>\n      <th>3</th>\n      <td>16.0</td>\n      <td>8.0</td>\n      <td>304.0</td>\n      <td>150.0</td>\n      <td>3433.0</td>\n      <td>12.0</td>\n    </tr>\n    <tr>\n      <th>4</th>\n      <td>17.0</td>\n      <td>8.0</td>\n      <td>302.0</td>\n      <td>140.0</td>\n      <td>3449.0</td>\n      <td>10.5</td>\n    </tr>\n  </tbody>\n</table>\n</div>"
     },
     "metadata": {},
     "execution_count": 26
    }
   ],
   "source": [
    "# Auto-MPG\n",
    "data = pd.read_csv('http://archive.ics.uci.edu/ml/machine-learning-databases/auto-mpg/auto-mpg.data-original',\n",
    "                   delim_whitespace=True, header=None,\n",
    "                   names = ['mpg', 'cylinders', 'displacement',\n",
    "                            'horsepower', 'weight', 'acceleration',\n",
    "                            'model year', 'origin', 'car name'])\n",
    "data.dropna(inplace=True)\n",
    "data.drop(['model year', 'origin', 'car name'], axis=1, inplace=True)\n",
    "print(data.shape)\n",
    "data.head()"
   ]
  },
  {
   "source": [
    "## Utility function\n",
    "We define a utility function to draw the directed acyclic graph."
   ],
   "cell_type": "markdown",
   "metadata": {}
  },
  {
   "cell_type": "code",
   "execution_count": 27,
   "metadata": {},
   "outputs": [],
   "source": [
    "def make_graph(adjacency_matrix, labels=None):\n",
    "    idx = np.abs(adjacency_matrix) > 0.01\n",
    "    dirs = np.where(idx)\n",
    "    d = graphviz.Digraph(engine='dot')\n",
    "    names = labels if labels else [f'x{i}' for i in range(len(adjacency_matrix))]\n",
    "    for name in names:\n",
    "        d.node(name)\n",
    "    for to, from_, coef in zip(dirs[0], dirs[1], adjacency_matrix[idx]):\n",
    "        d.edge(names[from_], names[to], label=f'{coef:.2f}')\n",
    "    return d\n",
    "\n",
    "def str_to_dot(string):\n",
    "    '''\n",
    "    Converts input string to valid DOT graph format\n",
    "    '''\n",
    "    graph = string.replace('\\n', ';').replace('\\t','')\n",
    "    graph = graph[:9] + graph[10:-2] + graph[-1]\n",
    "    return graph"
   ]
  },
  {
   "source": [
    "# Causal Discovery\n",
    "\n",
    "To run causal discovery, we create a DirectLiNGAM object and call the fit method."
   ],
   "cell_type": "markdown",
   "metadata": {}
  },
  {
   "cell_type": "code",
   "execution_count": 37,
   "metadata": {},
   "outputs": [
    {
     "output_type": "stream",
     "name": "stdout",
     "text": [
      "Method : DirectLiNGAM\n"
     ]
    },
    {
     "output_type": "display_data",
     "data": {
      "text/plain": "<graphviz.dot.Digraph at 0x7fdccb5eec88>",
      "image/svg+xml": "<?xml version=\"1.0\" encoding=\"UTF-8\" standalone=\"no\"?>\n<!DOCTYPE svg PUBLIC \"-//W3C//DTD SVG 1.1//EN\"\n \"http://www.w3.org/Graphics/SVG/1.1/DTD/svg11.dtd\">\n<!-- Generated by graphviz version 2.40.1 (20161225.0304)\n -->\n<!-- Title: %3 Pages: 1 -->\n<svg width=\"480pt\" height=\"392pt\"\n viewBox=\"0.00 0.00 480.46 392.00\" xmlns=\"http://www.w3.org/2000/svg\" xmlns:xlink=\"http://www.w3.org/1999/xlink\">\n<g id=\"graph0\" class=\"graph\" transform=\"scale(1 1) rotate(0) translate(4 388)\">\n<title>%3</title>\n<polygon fill=\"#ffffff\" stroke=\"transparent\" points=\"-4,4 -4,-388 476.462,-388 476.462,4 -4,4\"/>\n<!-- mpg -->\n<g id=\"node1\" class=\"node\">\n<title>mpg</title>\n<ellipse fill=\"none\" stroke=\"#000000\" cx=\"217.462\" cy=\"-279\" rx=\"31.3957\" ry=\"18\"/>\n<text text-anchor=\"middle\" x=\"217.462\" y=\"-275.3\" font-family=\"Times,serif\" font-size=\"14.00\" fill=\"#000000\">mpg</text>\n</g>\n<!-- displacement -->\n<g id=\"node3\" class=\"node\">\n<title>displacement</title>\n<ellipse fill=\"none\" stroke=\"#000000\" cx=\"108.462\" cy=\"-105\" rx=\"73.387\" ry=\"18\"/>\n<text text-anchor=\"middle\" x=\"108.462\" y=\"-101.3\" font-family=\"Times,serif\" font-size=\"14.00\" fill=\"#000000\">displacement</text>\n</g>\n<!-- mpg&#45;&gt;displacement -->\n<g id=\"edge2\" class=\"edge\">\n<title>mpg&#45;&gt;displacement</title>\n<path fill=\"none\" stroke=\"#000000\" d=\"M189.541,-270.6272C162.5747,-260.8806 123.279,-241.9033 105.462,-210 92.3357,-186.4959 95.3454,-155.1843 100.2463,-132.8851\"/>\n<polygon fill=\"#000000\" stroke=\"#000000\" points=\"103.6793,-133.5811 102.6606,-123.0354 96.8805,-131.9146 103.6793,-133.5811\"/>\n<text text-anchor=\"middle\" x=\"123.962\" y=\"-188.3\" font-family=\"Times,serif\" font-size=\"14.00\" fill=\"#000000\">&#45;0.91</text>\n</g>\n<!-- horsepower -->\n<g id=\"node4\" class=\"node\">\n<title>horsepower</title>\n<ellipse fill=\"none\" stroke=\"#000000\" cx=\"217.462\" cy=\"-192\" rx=\"65.7887\" ry=\"18\"/>\n<text text-anchor=\"middle\" x=\"217.462\" y=\"-188.3\" font-family=\"Times,serif\" font-size=\"14.00\" fill=\"#000000\">horsepower</text>\n</g>\n<!-- mpg&#45;&gt;horsepower -->\n<g id=\"edge5\" class=\"edge\">\n<title>mpg&#45;&gt;horsepower</title>\n<path fill=\"none\" stroke=\"#000000\" d=\"M217.462,-260.9735C217.462,-249.1918 217.462,-233.5607 217.462,-220.1581\"/>\n<polygon fill=\"#000000\" stroke=\"#000000\" points=\"220.9621,-220.0033 217.462,-210.0034 213.9621,-220.0034 220.9621,-220.0033\"/>\n<text text-anchor=\"middle\" x=\"235.962\" y=\"-231.8\" font-family=\"Times,serif\" font-size=\"14.00\" fill=\"#000000\">&#45;1.53</text>\n</g>\n<!-- weight -->\n<g id=\"node5\" class=\"node\">\n<title>weight</title>\n<ellipse fill=\"none\" stroke=\"#000000\" cx=\"217.462\" cy=\"-18\" rx=\"42.4939\" ry=\"18\"/>\n<text text-anchor=\"middle\" x=\"217.462\" y=\"-14.3\" font-family=\"Times,serif\" font-size=\"14.00\" fill=\"#000000\">weight</text>\n</g>\n<!-- mpg&#45;&gt;weight -->\n<g id=\"edge7\" class=\"edge\">\n<title>mpg&#45;&gt;weight</title>\n<path fill=\"none\" stroke=\"#000000\" d=\"M187.5492,-272.9827C166.2758,-267.6484 137.8039,-258.2793 116.462,-243 51.3777,-196.4044 -19.5282,-152.5135 26.462,-87 43.3167,-62.9903 118.963,-41.0397 169.8474,-28.6161\"/>\n<polygon fill=\"#000000\" stroke=\"#000000\" points=\"170.7613,-31.9963 179.6693,-26.2606 169.1288,-25.1893 170.7613,-31.9963\"/>\n<text text-anchor=\"middle\" x=\"42.462\" y=\"-144.8\" font-family=\"Times,serif\" font-size=\"14.00\" fill=\"#000000\">&#45;18.24</text>\n</g>\n<!-- acceleration -->\n<g id=\"node6\" class=\"node\">\n<title>acceleration</title>\n<ellipse fill=\"none\" stroke=\"#000000\" cx=\"335.462\" cy=\"-105\" rx=\"68.4888\" ry=\"18\"/>\n<text text-anchor=\"middle\" x=\"335.462\" y=\"-101.3\" font-family=\"Times,serif\" font-size=\"14.00\" fill=\"#000000\">acceleration</text>\n</g>\n<!-- mpg&#45;&gt;acceleration -->\n<g id=\"edge12\" class=\"edge\">\n<title>mpg&#45;&gt;acceleration</title>\n<path fill=\"none\" stroke=\"#000000\" d=\"M235.1908,-263.774C242.4738,-257.4313 250.9454,-249.9398 258.462,-243 273.9344,-228.715 280.6672,-227.4453 292.462,-210 308.654,-186.0509 320.4127,-155.0532 327.4998,-132.9591\"/>\n<polygon fill=\"#000000\" stroke=\"#000000\" points=\"330.9084,-133.7827 330.5144,-123.1952 324.22,-131.7175 330.9084,-133.7827\"/>\n<text text-anchor=\"middle\" x=\"328.962\" y=\"-188.3\" font-family=\"Times,serif\" font-size=\"14.00\" fill=\"#000000\">&#45;0.08</text>\n</g>\n<!-- cylinders -->\n<g id=\"node2\" class=\"node\">\n<title>cylinders</title>\n<ellipse fill=\"none\" stroke=\"#000000\" cx=\"315.462\" cy=\"-366\" rx=\"53.8905\" ry=\"18\"/>\n<text text-anchor=\"middle\" x=\"315.462\" y=\"-362.3\" font-family=\"Times,serif\" font-size=\"14.00\" fill=\"#000000\">cylinders</text>\n</g>\n<!-- cylinders&#45;&gt;mpg -->\n<g id=\"edge1\" class=\"edge\">\n<title>cylinders&#45;&gt;mpg</title>\n<path fill=\"none\" stroke=\"#000000\" d=\"M290.5426,-349.9742C281.9794,-344.0658 272.5254,-337.0783 264.462,-330 255.1785,-321.8507 245.7873,-312.0422 237.8658,-303.2133\"/>\n<polygon fill=\"#000000\" stroke=\"#000000\" points=\"240.2795,-300.6577 231.0494,-295.4562 235.0212,-305.2784 240.2795,-300.6577\"/>\n<text text-anchor=\"middle\" x=\"282.962\" y=\"-318.8\" font-family=\"Times,serif\" font-size=\"14.00\" fill=\"#000000\">&#45;3.56</text>\n</g>\n<!-- cylinders&#45;&gt;displacement -->\n<g id=\"edge3\" class=\"edge\">\n<title>cylinders&#45;&gt;displacement</title>\n<path fill=\"none\" stroke=\"#000000\" d=\"M270.983,-355.6022C213.367,-340.0709 112.9339,-305.6978 50.462,-243 16.092,-208.5056 -17.4086,-180.9298 10.462,-141 15.4951,-133.7891 30.7918,-126.8726 47.8486,-121.0633\"/>\n<polygon fill=\"#000000\" stroke=\"#000000\" points=\"49.0155,-124.3645 57.4516,-117.955 46.8598,-117.7047 49.0155,-124.3645\"/>\n<text text-anchor=\"middle\" x=\"70.962\" y=\"-231.8\" font-family=\"Times,serif\" font-size=\"14.00\" fill=\"#000000\">39.11</text>\n</g>\n<!-- cylinders&#45;&gt;horsepower -->\n<g id=\"edge6\" class=\"edge\">\n<title>cylinders&#45;&gt;horsepower</title>\n<path fill=\"none\" stroke=\"#000000\" d=\"M311.2464,-347.9151C304.0614,-319.979 287.3449,-265.6298 258.462,-228 255.2988,-223.8789 251.6093,-219.8713 247.764,-216.1177\"/>\n<polygon fill=\"#000000\" stroke=\"#000000\" points=\"250.0105,-213.429 240.2749,-209.2494 245.2792,-218.588 250.0105,-213.429\"/>\n<text text-anchor=\"middle\" x=\"313.962\" y=\"-275.3\" font-family=\"Times,serif\" font-size=\"14.00\" fill=\"#000000\">13.57</text>\n</g>\n<!-- cylinders&#45;&gt;weight -->\n<g id=\"edge8\" class=\"edge\">\n<title>cylinders&#45;&gt;weight</title>\n<path fill=\"none\" stroke=\"#000000\" d=\"M356.0332,-354.0349C389.4842,-341.3761 431.462,-317.7674 431.462,-279 431.462,-279 431.462,-279 431.462,-105 431.462,-69.5737 329.5477,-41.6102 266.3808,-27.6806\"/>\n<polygon fill=\"#000000\" stroke=\"#000000\" points=\"266.7292,-24.1752 256.2158,-25.4858 265.2518,-31.0176 266.7292,-24.1752\"/>\n<text text-anchor=\"middle\" x=\"451.962\" y=\"-188.3\" font-family=\"Times,serif\" font-size=\"14.00\" fill=\"#000000\">46.56</text>\n</g>\n<!-- cylinders&#45;&gt;acceleration -->\n<g id=\"edge13\" class=\"edge\">\n<title>cylinders&#45;&gt;acceleration</title>\n<path fill=\"none\" stroke=\"#000000\" d=\"M322.475,-348.13C334.9132,-314.3466 358.8645,-238.6932 351.462,-174 349.8893,-160.2555 346.609,-145.266 343.4255,-132.7799\"/>\n<polygon fill=\"#000000\" stroke=\"#000000\" points=\"346.7672,-131.7268 340.8139,-122.9628 340.0025,-133.5265 346.7672,-131.7268\"/>\n<text text-anchor=\"middle\" x=\"366.462\" y=\"-231.8\" font-family=\"Times,serif\" font-size=\"14.00\" fill=\"#000000\">0.27</text>\n</g>\n<!-- displacement&#45;&gt;weight -->\n<g id=\"edge9\" class=\"edge\">\n<title>displacement&#45;&gt;weight</title>\n<path fill=\"none\" stroke=\"#000000\" d=\"M129.6795,-87.6796C141.8651,-77.7685 157.4792,-65.13 171.462,-54 177.0061,-49.587 182.9508,-44.901 188.6643,-40.4198\"/>\n<polygon fill=\"#000000\" stroke=\"#000000\" points=\"191.0777,-42.9756 196.7962,-34.0565 186.7638,-37.4627 191.0777,-42.9756\"/>\n<text text-anchor=\"middle\" x=\"187.462\" y=\"-57.8\" font-family=\"Times,serif\" font-size=\"14.00\" fill=\"#000000\">4.38</text>\n</g>\n<!-- horsepower&#45;&gt;displacement -->\n<g id=\"edge4\" class=\"edge\">\n<title>horsepower&#45;&gt;displacement</title>\n<path fill=\"none\" stroke=\"#000000\" d=\"M195.4099,-174.8606C187.8012,-168.9155 179.2377,-162.1893 171.462,-156 160.3195,-147.1308 148.141,-137.3037 137.4871,-128.6621\"/>\n<polygon fill=\"#000000\" stroke=\"#000000\" points=\"139.6483,-125.9084 129.6795,-122.3204 135.235,-131.3419 139.6483,-125.9084\"/>\n<text text-anchor=\"middle\" x=\"187.462\" y=\"-144.8\" font-family=\"Times,serif\" font-size=\"14.00\" fill=\"#000000\">0.80</text>\n</g>\n<!-- horsepower&#45;&gt;weight -->\n<g id=\"edge10\" class=\"edge\">\n<title>horsepower&#45;&gt;weight</title>\n<path fill=\"none\" stroke=\"#000000\" d=\"M217.462,-173.7078C217.462,-143.3436 217.462,-82.3226 217.462,-46.3464\"/>\n<polygon fill=\"#000000\" stroke=\"#000000\" points=\"220.9621,-46.0471 217.462,-36.0471 213.9621,-46.0471 220.9621,-46.0471\"/>\n<text text-anchor=\"middle\" x=\"233.462\" y=\"-101.3\" font-family=\"Times,serif\" font-size=\"14.00\" fill=\"#000000\">7.03</text>\n</g>\n<!-- horsepower&#45;&gt;acceleration -->\n<g id=\"edge14\" class=\"edge\">\n<title>horsepower&#45;&gt;acceleration</title>\n<path fill=\"none\" stroke=\"#000000\" d=\"M232.87,-174.1551C242.4504,-163.7109 255.3978,-150.7111 268.462,-141 275.9333,-135.4463 284.3708,-130.2212 292.6758,-125.565\"/>\n<polygon fill=\"#000000\" stroke=\"#000000\" points=\"294.4527,-128.5831 301.5835,-120.7471 291.1225,-122.426 294.4527,-128.5831\"/>\n<text text-anchor=\"middle\" x=\"286.962\" y=\"-144.8\" font-family=\"Times,serif\" font-size=\"14.00\" fill=\"#000000\">&#45;0.07</text>\n</g>\n<!-- acceleration&#45;&gt;weight -->\n<g id=\"edge11\" class=\"edge\">\n<title>acceleration&#45;&gt;weight</title>\n<path fill=\"none\" stroke=\"#000000\" d=\"M312.4303,-88.019C293.7679,-74.2594 267.3415,-54.7755 247.1017,-39.853\"/>\n<polygon fill=\"#000000\" stroke=\"#000000\" points=\"248.9728,-36.8841 238.8469,-33.7669 244.8188,-42.5183 248.9728,-36.8841\"/>\n<text text-anchor=\"middle\" x=\"303.962\" y=\"-57.8\" font-family=\"Times,serif\" font-size=\"14.00\" fill=\"#000000\">66.05</text>\n</g>\n</g>\n</svg>\n"
     },
     "metadata": {}
    },
    {
     "output_type": "stream",
     "name": "stdout",
     "text": [
      "Method : DirectLiNGAM by Kernel Method\n"
     ]
    },
    {
     "output_type": "display_data",
     "data": {
      "text/plain": "<graphviz.dot.Digraph at 0x7fdccb5ee9b0>",
      "image/svg+xml": "<?xml version=\"1.0\" encoding=\"UTF-8\" standalone=\"no\"?>\n<!DOCTYPE svg PUBLIC \"-//W3C//DTD SVG 1.1//EN\"\n \"http://www.w3.org/Graphics/SVG/1.1/DTD/svg11.dtd\">\n<!-- Generated by graphviz version 2.40.1 (20161225.0304)\n -->\n<!-- Title: %3 Pages: 1 -->\n<svg width=\"434pt\" height=\"479pt\"\n viewBox=\"0.00 0.00 434.11 479.00\" xmlns=\"http://www.w3.org/2000/svg\" xmlns:xlink=\"http://www.w3.org/1999/xlink\">\n<g id=\"graph0\" class=\"graph\" transform=\"scale(1 1) rotate(0) translate(4 475)\">\n<title>%3</title>\n<polygon fill=\"#ffffff\" stroke=\"transparent\" points=\"-4,4 -4,-475 430.1051,-475 430.1051,4 -4,4\"/>\n<!-- mpg -->\n<g id=\"node1\" class=\"node\">\n<title>mpg</title>\n<ellipse fill=\"none\" stroke=\"#000000\" cx=\"186.1051\" cy=\"-279\" rx=\"31.3957\" ry=\"18\"/>\n<text text-anchor=\"middle\" x=\"186.1051\" y=\"-275.3\" font-family=\"Times,serif\" font-size=\"14.00\" fill=\"#000000\">mpg</text>\n</g>\n<!-- displacement -->\n<g id=\"node3\" class=\"node\">\n<title>displacement</title>\n<ellipse fill=\"none\" stroke=\"#000000\" cx=\"154.1051\" cy=\"-105\" rx=\"73.387\" ry=\"18\"/>\n<text text-anchor=\"middle\" x=\"154.1051\" y=\"-101.3\" font-family=\"Times,serif\" font-size=\"14.00\" fill=\"#000000\">displacement</text>\n</g>\n<!-- mpg&#45;&gt;displacement -->\n<g id=\"edge3\" class=\"edge\">\n<title>mpg&#45;&gt;displacement</title>\n<path fill=\"none\" stroke=\"#000000\" d=\"M182.8637,-260.6817C178.1668,-234.2369 169.1492,-183.8347 161.1051,-141 160.6321,-138.4813 160.1348,-135.8647 159.6326,-133.2432\"/>\n<polygon fill=\"#000000\" stroke=\"#000000\" points=\"163.0459,-132.4594 157.7117,-123.3054 156.1732,-133.788 163.0459,-132.4594\"/>\n<text text-anchor=\"middle\" x=\"192.6051\" y=\"-188.3\" font-family=\"Times,serif\" font-size=\"14.00\" fill=\"#000000\">&#45;0.91</text>\n</g>\n<!-- horsepower -->\n<g id=\"node4\" class=\"node\">\n<title>horsepower</title>\n<ellipse fill=\"none\" stroke=\"#000000\" cx=\"88.1051\" cy=\"-192\" rx=\"65.7887\" ry=\"18\"/>\n<text text-anchor=\"middle\" x=\"88.1051\" y=\"-188.3\" font-family=\"Times,serif\" font-size=\"14.00\" fill=\"#000000\">horsepower</text>\n</g>\n<!-- mpg&#45;&gt;horsepower -->\n<g id=\"edge6\" class=\"edge\">\n<title>mpg&#45;&gt;horsepower</title>\n<path fill=\"none\" stroke=\"#000000\" d=\"M166.4404,-264.8438C157.8417,-258.4254 147.7634,-250.5865 139.1051,-243 129.7815,-234.8305 120.0419,-225.3524 111.6026,-216.7997\"/>\n<polygon fill=\"#000000\" stroke=\"#000000\" points=\"114.0502,-214.2964 104.564,-209.578 109.0373,-219.1822 114.0502,-214.2964\"/>\n<text text-anchor=\"middle\" x=\"157.6051\" y=\"-231.8\" font-family=\"Times,serif\" font-size=\"14.00\" fill=\"#000000\">&#45;1.40</text>\n</g>\n<!-- weight -->\n<g id=\"node5\" class=\"node\">\n<title>weight</title>\n<ellipse fill=\"none\" stroke=\"#000000\" cx=\"255.1051\" cy=\"-18\" rx=\"42.4939\" ry=\"18\"/>\n<text text-anchor=\"middle\" x=\"255.1051\" y=\"-14.3\" font-family=\"Times,serif\" font-size=\"14.00\" fill=\"#000000\">weight</text>\n</g>\n<!-- mpg&#45;&gt;weight -->\n<g id=\"edge9\" class=\"edge\">\n<title>mpg&#45;&gt;weight</title>\n<path fill=\"none\" stroke=\"#000000\" d=\"M194.4172,-261.4288C200.7027,-247.6595 209.2254,-227.9007 215.1051,-210 233.7213,-153.3234 245.5917,-84.2931 251.2301,-46.3658\"/>\n<polygon fill=\"#000000\" stroke=\"#000000\" points=\"254.7495,-46.4834 252.7182,-36.0851 247.8217,-45.4806 254.7495,-46.4834\"/>\n<text text-anchor=\"middle\" x=\"257.1051\" y=\"-144.8\" font-family=\"Times,serif\" font-size=\"14.00\" fill=\"#000000\">&#45;18.24</text>\n</g>\n<!-- cylinders -->\n<g id=\"node2\" class=\"node\">\n<title>cylinders</title>\n<ellipse fill=\"none\" stroke=\"#000000\" cx=\"139.1051\" cy=\"-366\" rx=\"53.8905\" ry=\"18\"/>\n<text text-anchor=\"middle\" x=\"139.1051\" y=\"-362.3\" font-family=\"Times,serif\" font-size=\"14.00\" fill=\"#000000\">cylinders</text>\n</g>\n<!-- cylinders&#45;&gt;mpg -->\n<g id=\"edge1\" class=\"edge\">\n<title>cylinders&#45;&gt;mpg</title>\n<path fill=\"none\" stroke=\"#000000\" d=\"M148.8436,-347.9735C155.4849,-335.6801 164.3903,-319.1956 171.8296,-305.4249\"/>\n<polygon fill=\"#000000\" stroke=\"#000000\" points=\"175.0262,-306.8715 176.6999,-296.4097 168.8674,-303.5443 175.0262,-306.8715\"/>\n<text text-anchor=\"middle\" x=\"184.6051\" y=\"-318.8\" font-family=\"Times,serif\" font-size=\"14.00\" fill=\"#000000\">&#45;3.27</text>\n</g>\n<!-- cylinders&#45;&gt;displacement -->\n<g id=\"edge4\" class=\"edge\">\n<title>cylinders&#45;&gt;displacement</title>\n<path fill=\"none\" stroke=\"#000000\" d=\"M114.4061,-349.9785C67.0851,-317.2298 -28.1565,-240.1292 13.1051,-174 29.8903,-147.0988 60.5425,-130.3976 88.9901,-120.1815\"/>\n<polygon fill=\"#000000\" stroke=\"#000000\" points=\"90.1752,-123.4756 98.5298,-116.9602 87.9356,-116.8435 90.1752,-123.4756\"/>\n<text text-anchor=\"middle\" x=\"31.6051\" y=\"-231.8\" font-family=\"Times,serif\" font-size=\"14.00\" fill=\"#000000\">39.11</text>\n</g>\n<!-- cylinders&#45;&gt;horsepower -->\n<g id=\"edge7\" class=\"edge\">\n<title>cylinders&#45;&gt;horsepower</title>\n<path fill=\"none\" stroke=\"#000000\" d=\"M128.4762,-348.17C120.8438,-334.5895 110.9158,-315.1915 105.1051,-297 97.0298,-271.7185 92.6636,-241.7301 90.387,-220.2878\"/>\n<polygon fill=\"#000000\" stroke=\"#000000\" points=\"93.8588,-219.8283 89.4042,-210.2155 86.8919,-220.5081 93.8588,-219.8283\"/>\n<text text-anchor=\"middle\" x=\"125.6051\" y=\"-275.3\" font-family=\"Times,serif\" font-size=\"14.00\" fill=\"#000000\">10.14</text>\n</g>\n<!-- cylinders&#45;&gt;weight -->\n<g id=\"edge10\" class=\"edge\">\n<title>cylinders&#45;&gt;weight</title>\n<path fill=\"none\" stroke=\"#000000\" d=\"M181.0517,-354.3805C233.393,-338.6145 316.1051,-308.9605 316.1051,-279 316.1051,-279 316.1051,-279 316.1051,-105 316.1051,-79.8848 298.8517,-56.8763 282.6966,-40.8373\"/>\n<polygon fill=\"#000000\" stroke=\"#000000\" points=\"285.0949,-38.2881 275.4173,-33.9759 280.2935,-43.3819 285.0949,-38.2881\"/>\n<text text-anchor=\"middle\" x=\"336.6051\" y=\"-188.3\" font-family=\"Times,serif\" font-size=\"14.00\" fill=\"#000000\">46.56</text>\n</g>\n<!-- displacement&#45;&gt;weight -->\n<g id=\"edge11\" class=\"edge\">\n<title>displacement&#45;&gt;weight</title>\n<path fill=\"none\" stroke=\"#000000\" d=\"M172.3397,-87.3734C182.8846,-77.3634 196.5189,-64.728 209.1051,-54 214.498,-49.4033 220.3739,-44.634 226.0675,-40.1286\"/>\n<polygon fill=\"#000000\" stroke=\"#000000\" points=\"228.4803,-42.6849 234.2012,-33.7675 224.1679,-37.1709 228.4803,-42.6849\"/>\n<text text-anchor=\"middle\" x=\"225.1051\" y=\"-57.8\" font-family=\"Times,serif\" font-size=\"14.00\" fill=\"#000000\">4.38</text>\n</g>\n<!-- horsepower&#45;&gt;displacement -->\n<g id=\"edge5\" class=\"edge\">\n<title>horsepower&#45;&gt;displacement</title>\n<path fill=\"none\" stroke=\"#000000\" d=\"M101.7804,-173.9735C111.2233,-161.5261 123.9257,-144.782 134.4503,-130.9087\"/>\n<polygon fill=\"#000000\" stroke=\"#000000\" points=\"137.4178,-132.788 140.6732,-122.7057 131.8409,-128.5573 137.4178,-132.788\"/>\n<text text-anchor=\"middle\" x=\"141.1051\" y=\"-144.8\" font-family=\"Times,serif\" font-size=\"14.00\" fill=\"#000000\">0.80</text>\n</g>\n<!-- horsepower&#45;&gt;weight -->\n<g id=\"edge12\" class=\"edge\">\n<title>horsepower&#45;&gt;weight</title>\n<path fill=\"none\" stroke=\"#000000\" d=\"M69.4312,-174.5009C48.4419,-152.678 19.7909,-114.8542 40.1051,-87 59.826,-59.9595 148.8865,-38.2942 206.0166,-26.8633\"/>\n<polygon fill=\"#000000\" stroke=\"#000000\" points=\"206.801,-30.2762 215.9398,-24.9161 205.453,-23.4072 206.801,-30.2762\"/>\n<text text-anchor=\"middle\" x=\"56.1051\" y=\"-101.3\" font-family=\"Times,serif\" font-size=\"14.00\" fill=\"#000000\">7.03</text>\n</g>\n<!-- acceleration -->\n<g id=\"node6\" class=\"node\">\n<title>acceleration</title>\n<ellipse fill=\"none\" stroke=\"#000000\" cx=\"139.1051\" cy=\"-453\" rx=\"68.4888\" ry=\"18\"/>\n<text text-anchor=\"middle\" x=\"139.1051\" y=\"-449.3\" font-family=\"Times,serif\" font-size=\"14.00\" fill=\"#000000\">acceleration</text>\n</g>\n<!-- acceleration&#45;&gt;cylinders -->\n<g id=\"edge2\" class=\"edge\">\n<title>acceleration&#45;&gt;cylinders</title>\n<path fill=\"none\" stroke=\"#000000\" d=\"M139.1051,-434.9735C139.1051,-423.1918 139.1051,-407.5607 139.1051,-394.1581\"/>\n<polygon fill=\"#000000\" stroke=\"#000000\" points=\"142.6052,-394.0033 139.1051,-384.0034 135.6052,-394.0034 142.6052,-394.0033\"/>\n<text text-anchor=\"middle\" x=\"157.6051\" y=\"-405.8\" font-family=\"Times,serif\" font-size=\"14.00\" fill=\"#000000\">&#45;0.31</text>\n</g>\n<!-- acceleration&#45;&gt;horsepower -->\n<g id=\"edge8\" class=\"edge\">\n<title>acceleration&#45;&gt;horsepower</title>\n<path fill=\"none\" stroke=\"#000000\" d=\"M122.6186,-435.2818C109.8084,-421.4335 91.6634,-401.64 76.1051,-384 55.2509,-360.3552 45.4539,-357.5389 30.1051,-330 10.3297,-294.5189 8.4035,-283.1286 2.1051,-243 1.0714,-236.414 -1.5883,-233.5501 2.1051,-228 8.0172,-219.116 16.5881,-212.4203 26.0563,-207.3748\"/>\n<polygon fill=\"#000000\" stroke=\"#000000\" points=\"27.7772,-210.4338 35.3514,-203.0256 24.8105,-204.0936 27.7772,-210.4338\"/>\n<text text-anchor=\"middle\" x=\"48.6051\" y=\"-318.8\" font-family=\"Times,serif\" font-size=\"14.00\" fill=\"#000000\">&#45;4.77</text>\n</g>\n<!-- acceleration&#45;&gt;weight -->\n<g id=\"edge13\" class=\"edge\">\n<title>acceleration&#45;&gt;weight</title>\n<path fill=\"none\" stroke=\"#000000\" d=\"M198.6549,-444.0706C271.4593,-431.4398 385.1051,-405.4115 385.1051,-366 385.1051,-366 385.1051,-366 385.1051,-105 385.1051,-63.991 339.8726,-41.0907 302.7698,-29.2044\"/>\n<polygon fill=\"#000000\" stroke=\"#000000\" points=\"303.6406,-25.8114 293.056,-26.2766 301.6205,-32.5136 303.6406,-25.8114\"/>\n<text text-anchor=\"middle\" x=\"405.6051\" y=\"-231.8\" font-family=\"Times,serif\" font-size=\"14.00\" fill=\"#000000\">66.05</text>\n</g>\n</g>\n</svg>\n"
     },
     "metadata": {}
    },
    {
     "output_type": "stream",
     "name": "stdout",
     "text": [
      "Method : ICALiNGAM\n"
     ]
    },
    {
     "output_type": "display_data",
     "data": {
      "text/plain": "<graphviz.dot.Digraph at 0x7fdcda1c7ef0>",
      "image/svg+xml": "<?xml version=\"1.0\" encoding=\"UTF-8\" standalone=\"no\"?>\n<!DOCTYPE svg PUBLIC \"-//W3C//DTD SVG 1.1//EN\"\n \"http://www.w3.org/Graphics/SVG/1.1/DTD/svg11.dtd\">\n<!-- Generated by graphviz version 2.40.1 (20161225.0304)\n -->\n<!-- Title: %3 Pages: 1 -->\n<svg width=\"484pt\" height=\"392pt\"\n viewBox=\"0.00 0.00 484.01 392.00\" xmlns=\"http://www.w3.org/2000/svg\" xmlns:xlink=\"http://www.w3.org/1999/xlink\">\n<g id=\"graph0\" class=\"graph\" transform=\"scale(1 1) rotate(0) translate(4 388)\">\n<title>%3</title>\n<polygon fill=\"#ffffff\" stroke=\"transparent\" points=\"-4,4 -4,-388 480.0081,-388 480.0081,4 -4,4\"/>\n<!-- mpg -->\n<g id=\"node1\" class=\"node\">\n<title>mpg</title>\n<ellipse fill=\"none\" stroke=\"#000000\" cx=\"136.0081\" cy=\"-279\" rx=\"31.3957\" ry=\"18\"/>\n<text text-anchor=\"middle\" x=\"136.0081\" y=\"-275.3\" font-family=\"Times,serif\" font-size=\"14.00\" fill=\"#000000\">mpg</text>\n</g>\n<!-- displacement -->\n<g id=\"node3\" class=\"node\">\n<title>displacement</title>\n<ellipse fill=\"none\" stroke=\"#000000\" cx=\"170.0081\" cy=\"-105\" rx=\"73.387\" ry=\"18\"/>\n<text text-anchor=\"middle\" x=\"170.0081\" y=\"-101.3\" font-family=\"Times,serif\" font-size=\"14.00\" fill=\"#000000\">displacement</text>\n</g>\n<!-- mpg&#45;&gt;displacement -->\n<g id=\"edge2\" class=\"edge\">\n<title>mpg&#45;&gt;displacement</title>\n<path fill=\"none\" stroke=\"#000000\" d=\"M133.5445,-260.8814C131.2303,-239.7252 129.0586,-203.8261 136.0081,-174 139.4372,-159.2827 146.4778,-144.0949 153.2671,-131.7279\"/>\n<polygon fill=\"#000000\" stroke=\"#000000\" points=\"156.4055,-133.2908 158.346,-122.8752 150.3338,-129.8074 156.4055,-133.2908\"/>\n<text text-anchor=\"middle\" x=\"154.5081\" y=\"-188.3\" font-family=\"Times,serif\" font-size=\"14.00\" fill=\"#000000\">&#45;0.91</text>\n</g>\n<!-- horsepower -->\n<g id=\"node4\" class=\"node\">\n<title>horsepower</title>\n<ellipse fill=\"none\" stroke=\"#000000\" cx=\"248.0081\" cy=\"-192\" rx=\"65.7887\" ry=\"18\"/>\n<text text-anchor=\"middle\" x=\"248.0081\" y=\"-188.3\" font-family=\"Times,serif\" font-size=\"14.00\" fill=\"#000000\">horsepower</text>\n</g>\n<!-- mpg&#45;&gt;horsepower -->\n<g id=\"edge5\" class=\"edge\">\n<title>mpg&#45;&gt;horsepower</title>\n<path fill=\"none\" stroke=\"#000000\" d=\"M141.242,-260.9644C145.1669,-250.1883 151.517,-236.9073 161.0081,-228 169.6681,-219.8726 180.4204,-213.4587 191.3796,-208.4403\"/>\n<polygon fill=\"#000000\" stroke=\"#000000\" points=\"192.7444,-211.6634 200.5927,-204.5462 190.0191,-205.2157 192.7444,-211.6634\"/>\n<text text-anchor=\"middle\" x=\"179.5081\" y=\"-231.8\" font-family=\"Times,serif\" font-size=\"14.00\" fill=\"#000000\">&#45;1.40</text>\n</g>\n<!-- weight -->\n<g id=\"node5\" class=\"node\">\n<title>weight</title>\n<ellipse fill=\"none\" stroke=\"#000000\" cx=\"279.0081\" cy=\"-18\" rx=\"42.4939\" ry=\"18\"/>\n<text text-anchor=\"middle\" x=\"279.0081\" y=\"-14.3\" font-family=\"Times,serif\" font-size=\"14.00\" fill=\"#000000\">weight</text>\n</g>\n<!-- mpg&#45;&gt;weight -->\n<g id=\"edge8\" class=\"edge\">\n<title>mpg&#45;&gt;weight</title>\n<path fill=\"none\" stroke=\"#000000\" d=\"M123.5261,-262.2048C98.7578,-226.6599 49.0189,-142.5405 88.0081,-87 104.8628,-62.9903 180.5091,-41.0397 231.3934,-28.6161\"/>\n<polygon fill=\"#000000\" stroke=\"#000000\" points=\"232.3073,-31.9963 241.2154,-26.2606 230.6749,-25.1893 232.3073,-31.9963\"/>\n<text text-anchor=\"middle\" x=\"99.0081\" y=\"-144.8\" font-family=\"Times,serif\" font-size=\"14.00\" fill=\"#000000\">&#45;18.24</text>\n</g>\n<!-- cylinders -->\n<g id=\"node2\" class=\"node\">\n<title>cylinders</title>\n<ellipse fill=\"none\" stroke=\"#000000\" cx=\"212.0081\" cy=\"-366\" rx=\"53.8905\" ry=\"18\"/>\n<text text-anchor=\"middle\" x=\"212.0081\" y=\"-362.3\" font-family=\"Times,serif\" font-size=\"14.00\" fill=\"#000000\">cylinders</text>\n</g>\n<!-- cylinders&#45;&gt;mpg -->\n<g id=\"edge1\" class=\"edge\">\n<title>cylinders&#45;&gt;mpg</title>\n<path fill=\"none\" stroke=\"#000000\" d=\"M184.527,-350.3105C176.2491,-344.6657 167.6174,-337.7527 161.0081,-330 155.0306,-322.9885 150.0862,-314.3011 146.2169,-306.0953\"/>\n<polygon fill=\"#000000\" stroke=\"#000000\" points=\"149.3752,-304.5816 142.1712,-296.8129 142.9582,-307.3785 149.3752,-304.5816\"/>\n<text text-anchor=\"middle\" x=\"179.5081\" y=\"-318.8\" font-family=\"Times,serif\" font-size=\"14.00\" fill=\"#000000\">&#45;3.27</text>\n</g>\n<!-- cylinders&#45;&gt;displacement -->\n<g id=\"edge3\" class=\"edge\">\n<title>cylinders&#45;&gt;displacement</title>\n<path fill=\"none\" stroke=\"#000000\" d=\"M171.0341,-354.1875C123.2471,-337.9312 46.6409,-303.5631 14.0081,-243 -3.455,-210.5903 -14.9551,-198.3199 47.0081,-141 55.8366,-132.833 79.1429,-125.1439 103.1251,-118.9855\"/>\n<polygon fill=\"#000000\" stroke=\"#000000\" points=\"104.1748,-122.3313 113.0401,-116.5299 102.492,-115.5366 104.1748,-122.3313\"/>\n<text text-anchor=\"middle\" x=\"34.5081\" y=\"-231.8\" font-family=\"Times,serif\" font-size=\"14.00\" fill=\"#000000\">39.11</text>\n</g>\n<!-- cylinders&#45;&gt;horsepower -->\n<g id=\"edge6\" class=\"edge\">\n<title>cylinders&#45;&gt;horsepower</title>\n<path fill=\"none\" stroke=\"#000000\" d=\"M211.9913,-347.9194C212.33,-326.7988 214.0232,-290.9331 221.0081,-261 224.3065,-246.8649 229.9426,-231.7855 235.215,-219.3402\"/>\n<polygon fill=\"#000000\" stroke=\"#000000\" points=\"238.5034,-220.5562 239.3136,-209.9924 232.0925,-217.7452 238.5034,-220.5562\"/>\n<text text-anchor=\"middle\" x=\"241.5081\" y=\"-275.3\" font-family=\"Times,serif\" font-size=\"14.00\" fill=\"#000000\">10.14</text>\n</g>\n<!-- cylinders&#45;&gt;weight -->\n<g id=\"edge9\" class=\"edge\">\n<title>cylinders&#45;&gt;weight</title>\n<path fill=\"none\" stroke=\"#000000\" d=\"M259.5736,-357.3835C325.0663,-344.1414 435.0081,-316.3496 435.0081,-279 435.0081,-279 435.0081,-279 435.0081,-105 435.0081,-55.9891 375.5492,-34.3342 330.0478,-24.9381\"/>\n<polygon fill=\"#000000\" stroke=\"#000000\" points=\"330.4755,-21.4564 319.9952,-23.01 329.1569,-28.3311 330.4755,-21.4564\"/>\n<text text-anchor=\"middle\" x=\"455.5081\" y=\"-188.3\" font-family=\"Times,serif\" font-size=\"14.00\" fill=\"#000000\">46.56</text>\n</g>\n<!-- acceleration -->\n<g id=\"node6\" class=\"node\">\n<title>acceleration</title>\n<ellipse fill=\"none\" stroke=\"#000000\" cx=\"339.0081\" cy=\"-279\" rx=\"68.4888\" ry=\"18\"/>\n<text text-anchor=\"middle\" x=\"339.0081\" y=\"-275.3\" font-family=\"Times,serif\" font-size=\"14.00\" fill=\"#000000\">acceleration</text>\n</g>\n<!-- cylinders&#45;&gt;acceleration -->\n<g id=\"edge13\" class=\"edge\">\n<title>cylinders&#45;&gt;acceleration</title>\n<path fill=\"none\" stroke=\"#000000\" d=\"M235.8958,-349.636C255.6868,-336.0783 284.0254,-316.6653 305.9873,-301.6205\"/>\n<polygon fill=\"#000000\" stroke=\"#000000\" points=\"308.0893,-304.4231 314.3612,-295.8841 304.1332,-298.6482 308.0893,-304.4231\"/>\n<text text-anchor=\"middle\" x=\"301.5081\" y=\"-318.8\" font-family=\"Times,serif\" font-size=\"14.00\" fill=\"#000000\">&#45;0.82</text>\n</g>\n<!-- displacement&#45;&gt;weight -->\n<g id=\"edge10\" class=\"edge\">\n<title>displacement&#45;&gt;weight</title>\n<path fill=\"none\" stroke=\"#000000\" d=\"M191.2256,-87.6796C203.4112,-77.7685 219.0253,-65.13 233.0081,-54 238.5522,-49.587 244.4969,-44.901 250.2104,-40.4198\"/>\n<polygon fill=\"#000000\" stroke=\"#000000\" points=\"252.6237,-42.9756 258.3423,-34.0565 248.3099,-37.4627 252.6237,-42.9756\"/>\n<text text-anchor=\"middle\" x=\"249.0081\" y=\"-57.8\" font-family=\"Times,serif\" font-size=\"14.00\" fill=\"#000000\">4.38</text>\n</g>\n<!-- horsepower&#45;&gt;displacement -->\n<g id=\"edge4\" class=\"edge\">\n<title>horsepower&#45;&gt;displacement</title>\n<path fill=\"none\" stroke=\"#000000\" d=\"M232.2236,-174.3943C220.8806,-161.7424 205.418,-144.4957 192.7459,-130.3614\"/>\n<polygon fill=\"#000000\" stroke=\"#000000\" points=\"195.3183,-127.9875 186.0368,-122.8782 190.1063,-132.6603 195.3183,-127.9875\"/>\n<text text-anchor=\"middle\" x=\"229.0081\" y=\"-144.8\" font-family=\"Times,serif\" font-size=\"14.00\" fill=\"#000000\">0.80</text>\n</g>\n<!-- horsepower&#45;&gt;weight -->\n<g id=\"edge11\" class=\"edge\">\n<title>horsepower&#45;&gt;weight</title>\n<path fill=\"none\" stroke=\"#000000\" d=\"M251.267,-173.7078C256.6767,-143.3436 267.5483,-82.3226 273.9579,-46.3464\"/>\n<polygon fill=\"#000000\" stroke=\"#000000\" points=\"277.4845,-46.506 275.7928,-36.0471 270.593,-45.2781 277.4845,-46.506\"/>\n<text text-anchor=\"middle\" x=\"282.0081\" y=\"-101.3\" font-family=\"Times,serif\" font-size=\"14.00\" fill=\"#000000\">7.03</text>\n</g>\n<!-- acceleration&#45;&gt;horsepower -->\n<g id=\"edge7\" class=\"edge\">\n<title>acceleration&#45;&gt;horsepower</title>\n<path fill=\"none\" stroke=\"#000000\" d=\"M314.222,-262.0743C306.4888,-256.3634 298.1263,-249.7237 291.0081,-243 282.8414,-235.286 274.69,-226.0957 267.7149,-217.6554\"/>\n<polygon fill=\"#000000\" stroke=\"#000000\" points=\"270.4307,-215.4476 261.4256,-209.8655 264.9842,-219.8449 270.4307,-215.4476\"/>\n<text text-anchor=\"middle\" x=\"309.5081\" y=\"-231.8\" font-family=\"Times,serif\" font-size=\"14.00\" fill=\"#000000\">&#45;4.77</text>\n</g>\n<!-- acceleration&#45;&gt;weight -->\n<g id=\"edge12\" class=\"edge\">\n<title>acceleration&#45;&gt;weight</title>\n<path fill=\"none\" stroke=\"#000000\" d=\"M336.7041,-260.7079C333.9454,-239.6927 328.9457,-204.2163 323.0081,-174 315.3383,-134.9693 312.9739,-125.2357 302.0081,-87 298.0527,-73.2084 293.0775,-58.0665 288.7669,-45.4899\"/>\n<polygon fill=\"#000000\" stroke=\"#000000\" points=\"292.0689,-44.329 285.4846,-36.0285 285.4555,-46.6233 292.0689,-44.329\"/>\n<text text-anchor=\"middle\" x=\"339.5081\" y=\"-144.8\" font-family=\"Times,serif\" font-size=\"14.00\" fill=\"#000000\">66.05</text>\n</g>\n</g>\n</svg>\n"
     },
     "metadata": {}
    },
    {
     "output_type": "stream",
     "name": "stdout",
     "text": [
      "Method : BottomUpParceLiNGAM\n"
     ]
    },
    {
     "output_type": "display_data",
     "data": {
      "text/plain": "<graphviz.dot.Digraph at 0x7fdccb5e7a58>",
      "image/svg+xml": "<?xml version=\"1.0\" encoding=\"UTF-8\" standalone=\"no\"?>\n<!DOCTYPE svg PUBLIC \"-//W3C//DTD SVG 1.1//EN\"\n \"http://www.w3.org/Graphics/SVG/1.1/DTD/svg11.dtd\">\n<!-- Generated by graphviz version 2.40.1 (20161225.0304)\n -->\n<!-- Title: %3 Pages: 1 -->\n<svg width=\"766pt\" height=\"44pt\"\n viewBox=\"0.00 0.00 766.44 44.00\" xmlns=\"http://www.w3.org/2000/svg\" xmlns:xlink=\"http://www.w3.org/1999/xlink\">\n<g id=\"graph0\" class=\"graph\" transform=\"scale(1 1) rotate(0) translate(4 40)\">\n<title>%3</title>\n<polygon fill=\"#ffffff\" stroke=\"transparent\" points=\"-4,4 -4,-40 762.4412,-40 762.4412,4 -4,4\"/>\n<!-- mpg -->\n<g id=\"node1\" class=\"node\">\n<title>mpg</title>\n<ellipse fill=\"none\" stroke=\"#000000\" cx=\"31.1972\" cy=\"-18\" rx=\"31.3957\" ry=\"18\"/>\n<text text-anchor=\"middle\" x=\"31.1972\" y=\"-14.3\" font-family=\"Times,serif\" font-size=\"14.00\" fill=\"#000000\">mpg</text>\n</g>\n<!-- cylinders -->\n<g id=\"node2\" class=\"node\">\n<title>cylinders</title>\n<ellipse fill=\"none\" stroke=\"#000000\" cx=\"134.1972\" cy=\"-18\" rx=\"53.8905\" ry=\"18\"/>\n<text text-anchor=\"middle\" x=\"134.1972\" y=\"-14.3\" font-family=\"Times,serif\" font-size=\"14.00\" fill=\"#000000\">cylinders</text>\n</g>\n<!-- displacement -->\n<g id=\"node3\" class=\"node\">\n<title>displacement</title>\n<ellipse fill=\"none\" stroke=\"#000000\" cx=\"279.1972\" cy=\"-18\" rx=\"73.387\" ry=\"18\"/>\n<text text-anchor=\"middle\" x=\"279.1972\" y=\"-14.3\" font-family=\"Times,serif\" font-size=\"14.00\" fill=\"#000000\">displacement</text>\n</g>\n<!-- horsepower -->\n<g id=\"node4\" class=\"node\">\n<title>horsepower</title>\n<ellipse fill=\"none\" stroke=\"#000000\" cx=\"436.1972\" cy=\"-18\" rx=\"65.7887\" ry=\"18\"/>\n<text text-anchor=\"middle\" x=\"436.1972\" y=\"-14.3\" font-family=\"Times,serif\" font-size=\"14.00\" fill=\"#000000\">horsepower</text>\n</g>\n<!-- weight -->\n<g id=\"node5\" class=\"node\">\n<title>weight</title>\n<ellipse fill=\"none\" stroke=\"#000000\" cx=\"562.1972\" cy=\"-18\" rx=\"42.4939\" ry=\"18\"/>\n<text text-anchor=\"middle\" x=\"562.1972\" y=\"-14.3\" font-family=\"Times,serif\" font-size=\"14.00\" fill=\"#000000\">weight</text>\n</g>\n<!-- acceleration -->\n<g id=\"node6\" class=\"node\">\n<title>acceleration</title>\n<ellipse fill=\"none\" stroke=\"#000000\" cx=\"690.1972\" cy=\"-18\" rx=\"68.4888\" ry=\"18\"/>\n<text text-anchor=\"middle\" x=\"690.1972\" y=\"-14.3\" font-family=\"Times,serif\" font-size=\"14.00\" fill=\"#000000\">acceleration</text>\n</g>\n</g>\n</svg>\n"
     },
     "metadata": {}
    }
   ],
   "source": [
    "graphs = {}\n",
    "labels = [f'{col}' for i, col in enumerate(data.columns)]\n",
    "\n",
    "# DirectLiNGAM\n",
    "pk = make_prior_knowledge(\n",
    "    n_variables=len(data.columns),\n",
    "    sink_variables=[4])\n",
    "model = lingam.DirectLiNGAM(prior_knowledge=pk)\n",
    "model.fit(data)\n",
    "graph_dot = make_graph(model.adjacency_matrix_, labels)\n",
    "graphs['DirectLiNGAM'] = graph_dot\n",
    "\n",
    "# DirectLiNGAM by Kernel Method\n",
    "model = lingam.DirectLiNGAM(measure='kernel')\n",
    "model.fit(data)\n",
    "graph_dot = make_graph(model.adjacency_matrix_, labels)\n",
    "graphs['DirectLiNGAM by Kernel Method'] = graph_dot\n",
    "\n",
    "# ICALiNGAM\n",
    "model = lingam.ICALiNGAM()\n",
    "model.fit(data)\n",
    "graph_dot = make_graph(model.adjacency_matrix_, labels)\n",
    "graphs['ICALiNGAM'] = graph_dot\n",
    "\n",
    "# BottomUpParceLiNGAM\n",
    "prior_knowledge = make_prior_knowledge(\n",
    "    n_variables=len(data.columns),\n",
    "    sink_variables=[4])\n",
    "model = lingam.BottomUpParceLiNGAM(prior_knowledge=prior_knowledge)\n",
    "model.fit(data)\n",
    "graph_dot = make_graph(model.adjacency_matrix_, labels)\n",
    "graphs['BottomUpParceLiNGAM'] = graph_dot\n",
    "\n",
    "# Visualize graphs\n",
    "for method, graph in graphs.items():\n",
    "    print(\"Method : %s\"%(method))\n",
    "    display(graph)"
   ]
  },
  {
   "source": [
    "## Estimate effects using Linear Regression"
   ],
   "cell_type": "markdown",
   "metadata": {}
  },
  {
   "cell_type": "code",
   "execution_count": 38,
   "metadata": {},
   "outputs": [
    {
     "output_type": "stream",
     "name": "stdout",
     "text": [
      "\n",
      "*****************************************************************************\n",
      "\n",
      "Causal Discovery Method : DirectLiNGAM\n",
      "*** Causal Estimate ***\n",
      "\n",
      "## Identified estimand\n",
      "Estimand type: nonparametric-ate\n",
      "\n",
      "### Estimand : 1\n",
      "Estimand name: backdoor\n",
      "Estimand expression:\n",
      "  d                                  \n",
      "──────(Expectation(weight|cylinders))\n",
      "d[mpg]                               \n",
      "Estimand assumption 1, Unconfoundedness: If U→{mpg} and U→weight then P(weight|mpg,cylinders,U) = P(weight|mpg,cylinders)\n",
      "\n",
      "## Realized estimand\n",
      "b: weight~mpg+cylinders\n",
      "Target units: ate\n",
      "\n",
      "## Estimate\n",
      "Mean value: -36.97546905326499\n",
      "p-value: [0.]\n",
      "95.0% confidence interval: [[-43.631 -30.319]]\n",
      "\n",
      "Causal Estimate is -36.97546905326499\n",
      "\n",
      "*****************************************************************************\n",
      "\n",
      "Causal Discovery Method : DirectLiNGAM by Kernel Method\n",
      "*** Causal Estimate ***\n",
      "\n",
      "## Identified estimand\n",
      "Estimand type: nonparametric-ate\n",
      "\n",
      "### Estimand : 1\n",
      "Estimand name: backdoor\n",
      "Estimand expression:\n",
      "  d                                               \n",
      "──────(Expectation(weight|cylinders,acceleration))\n",
      "d[mpg]                                            \n",
      "Estimand assumption 1, Unconfoundedness: If U→{mpg} and U→weight then P(weight|mpg,cylinders,acceleration,U) = P(weight|mpg,cylinders,acceleration)\n",
      "\n",
      "## Realized estimand\n",
      "b: weight~mpg+cylinders+acceleration\n",
      "Target units: ate\n",
      "\n",
      "## Estimate\n",
      "Mean value: -37.50891710812857\n",
      "p-value: [0.]\n",
      "95.0% confidence interval: [[-44.118 -30.899]]\n",
      "\n",
      "Causal Estimate is -37.50891710812857\n",
      "\n",
      "*****************************************************************************\n",
      "\n",
      "Causal Discovery Method : ICALiNGAM\n",
      "*** Causal Estimate ***\n",
      "\n",
      "## Identified estimand\n",
      "Estimand type: nonparametric-ate\n",
      "\n",
      "### Estimand : 1\n",
      "Estimand name: backdoor\n",
      "Estimand expression:\n",
      "  d                                               \n",
      "──────(Expectation(weight|cylinders,acceleration))\n",
      "d[mpg]                                            \n",
      "Estimand assumption 1, Unconfoundedness: If U→{mpg} and U→weight then P(weight|mpg,cylinders,acceleration,U) = P(weight|mpg,cylinders,acceleration)\n",
      "\n",
      "## Realized estimand\n",
      "b: weight~mpg+cylinders+acceleration+mpg*acceleration\n",
      "Target units: ate\n",
      "\n",
      "## Estimate\n",
      "Mean value: -39.56010817288552\n",
      "p-value: [0.]\n",
      "95.0% confidence interval: [[-85.705 -32.96 ]]\n",
      "### Conditional Estimates\n",
      "__categorical__acceleration\n",
      "(7.999, 13.42]   -44.244280\n",
      "(13.42, 14.8]    -41.347702\n",
      "(14.8, 16.0]     -39.649473\n",
      "(16.0, 17.7]     -37.879260\n",
      "(17.7, 24.8]     -34.438913\n",
      "dtype: float64\n",
      "Causal Estimate is -39.56010817288552\n",
      "\n",
      "*****************************************************************************\n",
      "\n",
      "Causal Discovery Method : BottomUpParceLiNGAM\n",
      "*** Causal Estimate ***\n",
      "\n",
      "## Identified estimand\n",
      "Estimand type: nonparametric-ate\n",
      "\n",
      "### Estimand : 1\n",
      "Estimand name: backdoor\n",
      "Estimand expression:\n",
      "  d                                                                       \n",
      "──────(Expectation(weight|cylinders,acceleration,displacement,horsepower))\n",
      "d[mpg]                                                                    \n",
      "Estimand assumption 1, Unconfoundedness: If U→{mpg} and U→weight then P(weight|mpg,cylinders,acceleration,displacement,horsepower,U) = P(weight|mpg,cylinders,acceleration,displacement,horsepower)\n",
      "\n",
      "## Realized estimand\n",
      "b: weight~mpg+cylinders+acceleration+displacement+horsepower\n",
      "Target units: ate\n",
      "\n",
      "## Estimate\n",
      "Mean value: -18.24249509633546\n",
      "p-value: [0.]\n",
      "95.0% confidence interval: [[-23.89  -12.595]]\n",
      "\n",
      "Causal Estimate is -18.24249509633546\n"
     ]
    }
   ],
   "source": [
    "for method, graph in graphs.items():\n",
    "        print('\\n*****************************************************************************\\n')\n",
    "        print(\"Causal Discovery Method : %s\"%(method))\n",
    "\n",
    "        # Obtain valid dot format\n",
    "        graph = str_to_dot(graph.source)\n",
    "\n",
    "        # Define Causal Model\n",
    "        model=CausalModel(\n",
    "                data = data,\n",
    "                treatment='mpg',\n",
    "                outcome='weight',\n",
    "                graph=graph)\n",
    "\n",
    "        # Identification\n",
    "        identified_estimand = model.identify_effect(proceed_when_unidentifiable=True)\n",
    "\n",
    "        # Estimation\n",
    "        estimate = model.estimate_effect(identified_estimand,\n",
    "                                        method_name=\"backdoor.linear_regression\",\n",
    "                                        control_value=0,\n",
    "                                        treatment_value=1,\n",
    "                                        confidence_intervals=True,\n",
    "                                        test_significance=True)\n",
    "        print(estimate)\n",
    "        print(\"Causal Estimate is \" + str(estimate.value))"
   ]
  },
  {
   "source": [
    "## Estimate effects using Double ML"
   ],
   "cell_type": "markdown",
   "metadata": {}
  },
  {
   "cell_type": "code",
   "execution_count": 43,
   "metadata": {},
   "outputs": [
    {
     "output_type": "stream",
     "name": "stdout",
     "text": [
      "\n",
      "*****************************************************************************\n",
      "\n",
      "Causal Discovery Method : DirectLiNGAM\n",
      "A column-vector y was passed when a 1d array was expected. Please change the shape of y to (n_samples, ), for example using ravel().\n",
      "A column-vector y was passed when a 1d array was expected. Please change the shape of y to (n_samples, ), for example using ravel().\n",
      "*** Causal Estimate ***\n",
      "\n",
      "## Identified estimand\n",
      "Estimand type: nonparametric-ate\n",
      "\n",
      "### Estimand : 1\n",
      "Estimand name: backdoor\n",
      "Estimand expression:\n",
      "  d                                                                       \n",
      "──────(Expectation(weight|cylinders,acceleration,displacement,horsepower))\n",
      "d[mpg]                                                                    \n",
      "Estimand assumption 1, Unconfoundedness: If U→{mpg} and U→weight then P(weight|mpg,cylinders,acceleration,displacement,horsepower,U) = P(weight|mpg,cylinders,acceleration,displacement,horsepower)\n",
      "\n",
      "## Realized estimand\n",
      "b: weight~mpg+cylinders+acceleration+displacement+horsepower\n",
      "Target units: ate\n",
      "\n",
      "## Estimate\n",
      "Mean value: -18.24249509633546\n",
      "p-value: [0.]\n",
      "95.0% confidence interval: [[-23.89  -12.595]]\n",
      "\n",
      "Causal Estimate is -18.24249509633546\n",
      "\n",
      "*****************************************************************************\n",
      "\n",
      "Causal Discovery Method : DirectLiNGAM by Kernel Method\n",
      "A column-vector y was passed when a 1d array was expected. Please change the shape of y to (n_samples, ), for example using ravel().\n",
      "A column-vector y was passed when a 1d array was expected. Please change the shape of y to (n_samples, ), for example using ravel().\n",
      "*** Causal Estimate ***\n",
      "\n",
      "## Identified estimand\n",
      "Estimand type: nonparametric-ate\n",
      "\n",
      "### Estimand : 1\n",
      "Estimand name: backdoor\n",
      "Estimand expression:\n",
      "  d                                                                       \n",
      "──────(Expectation(weight|cylinders,acceleration,displacement,horsepower))\n",
      "d[mpg]                                                                    \n",
      "Estimand assumption 1, Unconfoundedness: If U→{mpg} and U→weight then P(weight|mpg,cylinders,acceleration,displacement,horsepower,U) = P(weight|mpg,cylinders,acceleration,displacement,horsepower)\n",
      "\n",
      "## Realized estimand\n",
      "b: weight~mpg+cylinders+acceleration+displacement+horsepower\n",
      "Target units: ate\n",
      "\n",
      "## Estimate\n",
      "Mean value: -18.24249509633546\n",
      "p-value: [0.]\n",
      "95.0% confidence interval: [[-23.89  -12.595]]\n",
      "\n",
      "Causal Estimate is -18.24249509633546\n",
      "\n",
      "*****************************************************************************\n",
      "\n",
      "Causal Discovery Method : ICALiNGAM\n",
      "A column-vector y was passed when a 1d array was expected. Please change the shape of y to (n_samples, ), for example using ravel().\n",
      "A column-vector y was passed when a 1d array was expected. Please change the shape of y to (n_samples, ), for example using ravel().\n",
      "*** Causal Estimate ***\n",
      "\n",
      "## Identified estimand\n",
      "Estimand type: nonparametric-ate\n",
      "\n",
      "### Estimand : 1\n",
      "Estimand name: backdoor\n",
      "Estimand expression:\n",
      "  d                                                                       \n",
      "──────(Expectation(weight|cylinders,acceleration,displacement,horsepower))\n",
      "d[mpg]                                                                    \n",
      "Estimand assumption 1, Unconfoundedness: If U→{mpg} and U→weight then P(weight|mpg,cylinders,acceleration,displacement,horsepower,U) = P(weight|mpg,cylinders,acceleration,displacement,horsepower)\n",
      "\n",
      "## Realized estimand\n",
      "b: weight~mpg+cylinders+acceleration+displacement+horsepower\n",
      "Target units: ate\n",
      "\n",
      "## Estimate\n",
      "Mean value: -18.24249509633546\n",
      "p-value: [0.]\n",
      "95.0% confidence interval: [[-23.89  -12.595]]\n",
      "\n",
      "Causal Estimate is -18.24249509633546\n",
      "\n",
      "*****************************************************************************\n",
      "\n",
      "Causal Discovery Method : BottomUpParceLiNGAM\n",
      "A column-vector y was passed when a 1d array was expected. Please change the shape of y to (n_samples, ), for example using ravel().\n",
      "A column-vector y was passed when a 1d array was expected. Please change the shape of y to (n_samples, ), for example using ravel().\n",
      "*** Causal Estimate ***\n",
      "\n",
      "## Identified estimand\n",
      "Estimand type: nonparametric-ate\n",
      "\n",
      "### Estimand : 1\n",
      "Estimand name: backdoor\n",
      "Estimand expression:\n",
      "  d                                                                       \n",
      "──────(Expectation(weight|cylinders,acceleration,displacement,horsepower))\n",
      "d[mpg]                                                                    \n",
      "Estimand assumption 1, Unconfoundedness: If U→{mpg} and U→weight then P(weight|mpg,cylinders,acceleration,displacement,horsepower,U) = P(weight|mpg,cylinders,acceleration,displacement,horsepower)\n",
      "\n",
      "## Realized estimand\n",
      "b: weight~mpg+cylinders+acceleration+displacement+horsepower\n",
      "Target units: ate\n",
      "\n",
      "## Estimate\n",
      "Mean value: -18.24249509633546\n",
      "p-value: [0.]\n",
      "95.0% confidence interval: [[-23.89  -12.595]]\n",
      "\n",
      "Causal Estimate is -18.24249509633546\n"
     ]
    }
   ],
   "source": [
    "import econml\n",
    "from sklearn.preprocessing import PolynomialFeatures\n",
    "from sklearn.linear_model import LassoCV\n",
    "from sklearn.ensemble import GradientBoostingRegressor\n",
    "\n",
    "for method, graph in graphs.items():\n",
    "        print('\\n*****************************************************************************\\n')\n",
    "        print(\"Causal Discovery Method : %s\"%(method))\n",
    "\n",
    "        # Obtain valid dot format\n",
    "        graph = str_to_dot(graph.source)\n",
    "\n",
    "        # Define Causal Model\n",
    "        model=CausalModel(\n",
    "                data = data,\n",
    "                treatment='mpg',\n",
    "                outcome='weight',\n",
    "                graph=graph)\n",
    "\n",
    "        # Identification\n",
    "        identified_estimand = model.identify_effect(proceed_when_unidentifiable=True)\n",
    "\n",
    "        # Estimation\n",
    "        dml_estimate = model.estimate_effect(identified_estimand, \n",
    "                                            method_name=\"backdoor.econml.dml.DML\",\n",
    "                                            method_params={\n",
    "                                                'init_params': {'model_y':GradientBoostingRegressor(),\n",
    "                                                                'model_t': GradientBoostingRegressor(),\n",
    "                                                                'model_final':LassoCV(fit_intercept=False), },\n",
    "                                                'fit_params': {}\n",
    "                                            })\n",
    "        print(estimate)\n",
    "        print(\"Causal Estimate is \" + str(estimate.value))"
   ]
  },
  {
   "cell_type": "code",
   "execution_count": null,
   "metadata": {},
   "outputs": [],
   "source": []
  }
 ]
}