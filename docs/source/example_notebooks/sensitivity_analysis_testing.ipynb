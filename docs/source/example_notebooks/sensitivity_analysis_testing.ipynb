{
 "cells": [
  {
   "cell_type": "code",
   "execution_count": null,
   "metadata": {},
   "outputs": [],
   "source": [
    "import os, sys\n",
    "sys.path.append(os.path.abspath(\"../../../\"))\n",
    "import dowhy\n",
    "from dowhy import CausalModel\n",
    "import pandas as pd\n",
    "import numpy as np\n",
    "\n",
    "# Config dict to set the logging level\n",
    "import logging.config\n",
    "DEFAULT_LOGGING = {\n",
    "    'version': 1,\n",
    "    'disable_existing_loggers': False,\n",
    "    'loggers': {\n",
    "        '': {\n",
    "            'level': 'WARN',\n",
    "        },\n",
    "    }\n",
    "}\n",
    "\n",
    "logging.config.dictConfig(DEFAULT_LOGGING)\n",
    "# Disabling warnings output\n",
    "import warnings\n",
    "from sklearn.exceptions import DataConversionWarning\n",
    "warnings.filterwarnings(action='ignore', category=DataConversionWarning)"
   ]
  },
  {
   "cell_type": "code",
   "execution_count": null,
   "metadata": {},
   "outputs": [],
   "source": [
    "url = 'https://github.com/nlapier2/PySensemakr/blob/main/sensemakr/data/darfur.csv?raw=true'\n",
    "df = pd.read_csv(url)\n",
    "df.head()"
   ]
  },
  {
   "cell_type": "code",
   "execution_count": null,
   "metadata": {},
   "outputs": [],
   "source": [
    "causal_graph = \"\"\"dag {\n",
    "age [pos=\"-0.197,-0.949\"]\n",
    "directlyharmed [pos=\"-0.165,0.301\"]\n",
    "farmer_dar [pos=\"-0.838,-0.982\"]\n",
    "female [pos=\"-1.841,-0.220\"]\n",
    "herder_dar [pos=\"0.710,-0.604\"]\n",
    "hhsize_darfur [pos=\"-2.044,0.164\"]\n",
    "pastvoted [pos=\"1.201,-0.226\"]\n",
    "peacefactor [outcome,pos=\"-0.048,0.900\"]\n",
    "village [pos=\"1.831,0.269\"]\n",
    "directlyharmed -> peacefactor\n",
    "farmer_dar -> directlyharmed\n",
    "female -> directlyharmed\n",
    "herder_dar -> directlyharmed\n",
    "hhsize_darfur -> directlyharmed\n",
    "pastvoted -> directlyharmed\n",
    "village -> directlyharmed\n",
    "age -> pastvoted\n",
    "female -> peacefactor\n",
    "age -> peacefactor\n",
    "pastvoted -> peacefactor\n",
    "village -> peacefactor\n",
    "farmer_dar -> peacefactor\n",
    "herder_dar -> peacefactor\n",
    "hhsize_darfur -> peacefactor\n",
    "}\n",
    "\"\"\""
   ]
  },
  {
   "cell_type": "code",
   "execution_count": null,
   "metadata": {},
   "outputs": [],
   "source": [
    "model= dowhy.CausalModel(\n",
    "        data = df,\n",
    "        graph=causal_graph,\n",
    "        treatment=\"directlyharmed\",\n",
    "        outcome='peacefactor')\n",
    "model.view_model()\n",
    "from IPython.display import Image, display\n",
    "display(Image(filename=\"causal_model.png\"))"
   ]
  },
  {
   "cell_type": "code",
   "execution_count": null,
   "metadata": {},
   "outputs": [],
   "source": [
    "identified_estimand = model.identify_effect(proceed_when_unidentifiable=True)\n",
    "print(identified_estimand)"
   ]
  },
  {
   "cell_type": "code",
   "execution_count": null,
   "metadata": {},
   "outputs": [],
   "source": [
    "estimate = model.estimate_effect(identified_estimand,method_name=\"backdoor.linear_regression\")"
   ]
  },
  {
   "cell_type": "code",
   "execution_count": null,
   "metadata": {
    "scrolled": true
   },
   "outputs": [],
   "source": [
    "refute = model.refute_estimate(identified_estimand, estimate , method_name = \"add_unobserved_common_cause\",\n",
    "                              simulated_method_name = \"Carlos\", benchmark_covariates = [\"female\"],\n",
    "                              kd = [1,2,3], \n",
    "                              formula='peacefactor ~ directlyharmed + age + farmer_dar + herder_dar + pastvoted + hhsize_darfur + female + village')"
   ]
  },
  {
   "cell_type": "code",
   "execution_count": null,
   "metadata": {},
   "outputs": [],
   "source": [
    "refute.stats"
   ]
  },
  {
   "cell_type": "code",
   "execution_count": null,
   "metadata": {},
   "outputs": [],
   "source": [
    "refute.bounds_result"
   ]
  },
  {
   "cell_type": "code",
   "execution_count": null,
   "metadata": {},
   "outputs": [],
   "source": []
  }
 ],
 "metadata": {
  "kernelspec": {
   "display_name": "Python 3",
   "language": "python",
   "name": "python3"
  },
  "language_info": {
   "codemirror_mode": {
    "name": "ipython",
    "version": 3
   },
   "file_extension": ".py",
   "mimetype": "text/x-python",
   "name": "python",
   "nbconvert_exporter": "python",
   "pygments_lexer": "ipython3",
   "version": "3.6.10"
  }
 },
 "nbformat": 4,
 "nbformat_minor": 4
}
