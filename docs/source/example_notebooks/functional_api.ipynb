{
 "cells": [
  {
   "cell_type": "code",
   "execution_count": null,
   "metadata": {},
   "outputs": [],
   "source": [
    "import dowhy as dw\n",
    "from dowhy.causal_identifier import (\n",
    "    AutoIdentifier,\n",
    "    BackdoorAdjustment,\n",
    "    IDIdentifier,\n",
    ")"
   ]
  },
  {
   "cell_type": "code",
   "execution_count": null,
   "metadata": {},
   "outputs": [],
   "source": [
    "from dowhy.causal_graph import CausalGraph\n",
    "import dowhy.datasets\n",
    "\n",
    "data = dowhy.datasets.linear_dataset(\n",
    "    beta=4,\n",
    "    num_common_causes=2,\n",
    "    num_instruments=1,\n",
    "    num_effect_modifiers=1,\n",
    "    num_samples=500,\n",
    "    treatment_is_binary=True,\n",
    "    stddev_treatment_noise=10,\n",
    "    num_discrete_common_causes=1,\n",
    ")"
   ]
  },
  {
   "cell_type": "code",
   "execution_count": null,
   "metadata": {},
   "outputs": [],
   "source": [
    "treatment_name = data[\"treatment_name\"]\n",
    "outcome_name = data[\"outcome_name\"]\n",
    "\n",
    "graph = CausalGraph(\n",
    "    treatment_name=treatment_name,\n",
    "    outcome_name=outcome_name,\n",
    "    graph=data[\"gml_graph\"],\n",
    "    effect_modifier_names=data[\"effect_modifier_names\"],\n",
    "    common_cause_names=data[\"common_causes_names\"],\n",
    "    observed_node_names=data[\"df\"].columns.tolist(),\n",
    ")"
   ]
  },
  {
   "cell_type": "markdown",
   "metadata": {},
   "source": [
    "# Functional API Usage"
   ]
  },
  {
   "cell_type": "code",
   "execution_count": null,
   "metadata": {},
   "outputs": [],
   "source": [
    "# New functional API (AutoIdentifier)\n",
    "\n",
    "identified_estimand_auto = dw.identify_effect(\n",
    "    graph=graph,\n",
    "    treatment=treatment_name,\n",
    "    outcome=outcome_name,\n",
    "    method=AutoIdentifier(estimand_type=dw.EstimandType.NONPARAMETRIC_ATE),\n",
    ")\n",
    "print(identified_estimand_auto)"
   ]
  },
  {
   "cell_type": "code",
   "execution_count": null,
   "metadata": {},
   "outputs": [],
   "source": [
    "# New functional API (IDIdentifier)\n",
    "identified_estimand_id = dw.identify_effect(\n",
    "    graph=graph,\n",
    "    treatment=treatment_name,\n",
    "    outcome=outcome_name,\n",
    "    method=IDIdentifier(estimand_type=dw.EstimandType.NONPARAMETRIC_ATE),\n",
    ")\n",
    "print(identified_estimand_id)"
   ]
  },
  {
   "cell_type": "markdown",
   "metadata": {},
   "source": [
    "# Backwards compatibility\n",
    "\n",
    "This section shows the same results as the new Functional API with the old `CausalModel` API"
   ]
  },
  {
   "cell_type": "code",
   "execution_count": null,
   "metadata": {},
   "outputs": [],
   "source": [
    "# CausalModel API with AutoIdentifier\n",
    "\n",
    "model = dw.CausalModel(\n",
    "    data=data[\"df\"],\n",
    "    treatment=data[\"treatment_name\"],\n",
    "    outcome=data[\"outcome_name\"],\n",
    "    graph=data[\"gml_graph\"],\n",
    ")\n",
    "\n",
    "identified_estimand = model.identify_effect()\n",
    "print(identified_estimand)"
   ]
  },
  {
   "cell_type": "code",
   "execution_count": null,
   "metadata": {},
   "outputs": [],
   "source": [
    "# Another way of executing the identify effect by directly calling the object identify_effect method\n",
    "\n",
    "identifier = AutoIdentifier(\n",
    "    estimand_type=dw.EstimandType.NONPARAMETRIC_ATE, backdoor_adjustment=BackdoorAdjustment.BACKDOOR_DEFAULT\n",
    ")\n",
    "\n",
    "identified_estimand = identifier.identify_effect(\n",
    "    graph=graph,\n",
    "    treatment_name=treatment_name,\n",
    "    outcome_name=outcome_name,\n",
    ")\n",
    "\n",
    "print(identified_estimand)"
   ]
  },
  {
   "cell_type": "code",
   "execution_count": null,
   "metadata": {},
   "outputs": [],
   "source": [
    "# CausalModel API with IDIdentifier \n",
    "\n",
    "model = dw.CausalModel(\n",
    "    data=data[\"df\"],\n",
    "    treatment=data[\"treatment_name\"],\n",
    "    outcome=data[\"outcome_name\"],\n",
    "    graph=data[\"gml_graph\"],\n",
    ")\n",
    "\n",
    "identified_estimand = model.identify_effect(method_name=\"id-algorithm\")\n",
    "print(identified_estimand)"
   ]
  },
  {
   "cell_type": "code",
   "execution_count": null,
   "metadata": {},
   "outputs": [],
   "source": [
    "# Another way of executing the identify effect by directly calling the object identify_effect method\n",
    "\n",
    "identifier = IDIdentifier(estimand_type=dw.EstimandType.NONPARAMETRIC_ATE)\n",
    "\n",
    "identified_estimand = identifier.identify_effect(\n",
    "    graph=graph,\n",
    "    treatment_name=treatment_name,\n",
    "    outcome_name=outcome_name,\n",
    ")\n",
    "\n",
    "print(identified_estimand)"
   ]
  },
  {
   "cell_type": "code",
   "execution_count": null,
   "metadata": {},
   "outputs": [],
   "source": []
  }
 ],
 "metadata": {
  "kernelspec": {
   "display_name": "Python 3.8.10 ('dowhy-_zBapv7Q-py3.8')",
   "language": "python",
   "name": "python3"
  },
  "language_info": {
   "codemirror_mode": {
    "name": "ipython",
    "version": 3
   },
   "file_extension": ".py",
   "mimetype": "text/x-python",
   "name": "python",
   "nbconvert_exporter": "python",
   "pygments_lexer": "ipython3",
   "version": "3.8.10"
  },
  "orig_nbformat": 4,
  "vscode": {
   "interpreter": {
    "hash": "dcb481ad5d98e2afacd650b2c07afac80a299b7b701b553e333fc82865502500"
   }
  }
 },
 "nbformat": 4,
 "nbformat_minor": 2
}
