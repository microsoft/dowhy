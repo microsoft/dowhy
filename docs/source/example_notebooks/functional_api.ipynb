{
 "cells": [
  {
   "cell_type": "markdown",
   "metadata": {},
   "source": [
    "# Functional API Preview\n",
    "\n",
    "This notebook provides a preview of the proposed functional API for dowhy. For details on the new API for DoWhy, check out https://github.com/py-why/dowhy/wiki/API-proposal-for-v1 It is a work-in-progress and is updated as we add new functionality. We welcome your feedback through Discord or on the Discussions page.\n",
    "This functional API is designed with backwards compatibility. So both the old and new API will continue to co-exist and work for the immediate new releases. Gradually the old API using CausalModel will be deprecated in favor of the new API."
   ]
  },
  {
   "cell_type": "markdown",
   "metadata": {},
   "source": [
    "### Setup data for tests"
   ]
  },
  {
   "cell_type": "code",
   "execution_count": null,
   "metadata": {},
   "outputs": [],
   "source": [
    "import dowhy as dw\n",
    "from dowhy.causal_identifier import (\n",
    "    AutoIdentifier,\n",
    "    BackdoorAdjustment,\n",
    "    IDIdentifier,\n",
    ")"
   ]
  },
  {
   "cell_type": "code",
   "execution_count": null,
   "metadata": {},
   "outputs": [],
   "source": [
    "from dowhy.causal_graph import CausalGraph\n",
    "import dowhy.datasets\n",
    "\n",
    "data = dowhy.datasets.linear_dataset(\n",
    "    beta=4,\n",
    "    num_common_causes=2,\n",
    "    num_instruments=1,\n",
    "    num_effect_modifiers=1,\n",
    "    num_samples=500,\n",
    "    treatment_is_binary=True,\n",
    "    stddev_treatment_noise=10,\n",
    "    num_discrete_common_causes=1,\n",
    ")"
   ]
  },
  {
   "cell_type": "code",
   "execution_count": null,
   "metadata": {},
   "outputs": [],
   "source": [
    "treatment_name = data[\"treatment_name\"]\n",
    "outcome_name = data[\"outcome_name\"]\n",
    "\n",
    "graph = CausalGraph(\n",
    "    treatment_name=treatment_name,\n",
    "    outcome_name=outcome_name,\n",
    "    graph=data[\"gml_graph\"],\n",
    "    effect_modifier_names=data[\"effect_modifier_names\"],\n",
    "    common_cause_names=data[\"common_causes_names\"],\n",
    "    observed_node_names=data[\"df\"].columns.tolist(),\n",
    ")"
   ]
  },
  {
   "cell_type": "markdown",
   "metadata": {},
   "source": [
    "### Functional API Usage\n",
    "\n",
    "This section describes how to use the **experimental** functional API"
   ]
  },
  {
   "cell_type": "code",
   "execution_count": null,
   "metadata": {},
   "outputs": [],
   "source": [
    "# New functional API identify_effect function this calls auto_identify_effect with pre-set parameters\n",
    "\n",
    "identified_estimand_auto = dw.identify_effect(graph=graph, treatment_name=treatment_name, outcome_name=outcome_name)\n",
    "print(identified_estimand_auto)"
   ]
  },
  {
   "cell_type": "code",
   "execution_count": null,
   "metadata": {},
   "outputs": [],
   "source": [
    "# New functional API (AutoIdentifier with default parameters backdoor_adjustment = DEFAULT)\n",
    "\n",
    "identified_estimand_auto = dw.auto_identify_effect(\n",
    "    graph=graph, treatment_name=treatment_name, outcome_name=outcome_name, estimand_type=dw.EstimandType.NONPARAMETRIC_ATE\n",
    ")\n",
    "print(identified_estimand_auto)"
   ]
  },
  {
   "cell_type": "code",
   "execution_count": null,
   "metadata": {},
   "outputs": [],
   "source": [
    "# New functional API (AutoIdentifier with custom parameters)\n",
    "\n",
    "identified_estimand_auto = dw.auto_identify_effect(\n",
    "    graph=graph,\n",
    "    treatment_name=treatment_name,\n",
    "    outcome_name=outcome_name,\n",
    "    estimand_type=dw.EstimandType.NONPARAMETRIC_NIE,\n",
    "    backdoor_adjustment=BackdoorAdjustment.BACKDOOR_MIN_EFFICIENT,\n",
    ")\n",
    "print(identified_estimand_auto)"
   ]
  },
  {
   "cell_type": "code",
   "execution_count": null,
   "metadata": {},
   "outputs": [],
   "source": [
    "# New functional API (IDIdentifier)\n",
    "identified_estimand_id = dw.id_identify_effect(\n",
    "    graph=graph,\n",
    "    treatment_name=treatment_name,\n",
    "    outcome_name=outcome_name,\n",
    ")\n",
    "print(identified_estimand_id)"
   ]
  },
  {
   "cell_type": "markdown",
   "metadata": {},
   "source": [
    "### Backwards compatibility\n",
    "\n",
    "This section shows the same results as the new Functional API with the old `CausalModel` API"
   ]
  },
  {
   "cell_type": "code",
   "execution_count": null,
   "metadata": {},
   "outputs": [],
   "source": [
    "# CausalModel API with AutoIdentifier\n",
    "\n",
    "model = dw.CausalModel(\n",
    "    data=data[\"df\"],\n",
    "    treatment=data[\"treatment_name\"],\n",
    "    outcome=data[\"outcome_name\"],\n",
    "    graph=data[\"gml_graph\"],\n",
    ")\n",
    "\n",
    "identified_estimand = model.identify_effect()\n",
    "print(identified_estimand)"
   ]
  },
  {
   "cell_type": "code",
   "execution_count": null,
   "metadata": {},
   "outputs": [],
   "source": [
    "# CausalModel API with IDIdentifier \n",
    "\n",
    "model = dw.CausalModel(\n",
    "    data=data[\"df\"],\n",
    "    treatment=data[\"treatment_name\"],\n",
    "    outcome=data[\"outcome_name\"],\n",
    "    graph=data[\"gml_graph\"],\n",
    ")\n",
    "\n",
    "identified_estimand = model.identify_effect(method_name=\"id-algorithm\")\n",
    "print(identified_estimand)"
   ]
  }
 ],
 "metadata": {
  "kernelspec": {
   "display_name": "Python 3.8.10 ('dowhy-_zBapv7Q-py3.8')",
   "language": "python",
   "name": "python3"
  },
  "language_info": {
   "codemirror_mode": {
    "name": "ipython",
    "version": 3
   },
   "file_extension": ".py",
   "mimetype": "text/x-python",
   "name": "python",
   "nbconvert_exporter": "python",
   "pygments_lexer": "ipython3",
   "version": "3.8.10"
  },
  "orig_nbformat": 4,
  "vscode": {
   "interpreter": {
    "hash": "dcb481ad5d98e2afacd650b2c07afac80a299b7b701b553e333fc82865502500"
   }
  }
 },
 "nbformat": 4,
 "nbformat_minor": 2
}
