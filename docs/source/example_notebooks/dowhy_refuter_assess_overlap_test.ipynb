{
 "cells": [
  {
   "cell_type": "code",
   "execution_count": 1,
   "id": "201dfed2",
   "metadata": {},
   "outputs": [],
   "source": [
    "import numpy as np\n",
    "import pandas as pd\n",
    "\n",
    "import dowhy.datasets\n",
    "from dowhy import CausalModel"
   ]
  },
  {
   "cell_type": "code",
   "execution_count": 2,
   "id": "71a42a50",
   "metadata": {},
   "outputs": [],
   "source": [
    "test_data = pd.DataFrame(\n",
    "        np.array(\n",
    "            [\n",
    "                [0, 0, 1, 1],\n",
    "                [0, 0, 0, 0],\n",
    "                [0, 1, 0, 0],\n",
    "                [1, 0, 0, 0],\n",
    "            ]\n",
    "            * 50\n",
    "        ),\n",
    "        columns=[\"X1\", \"X2\", \"T\", \"Y\"],\n",
    "    )"
   ]
  },
  {
   "cell_type": "code",
   "execution_count": 3,
   "id": "cb218c53",
   "metadata": {},
   "outputs": [],
   "source": [
    "model = CausalModel(\n",
    "    data=test_data,\n",
    "    treatment=\"T\",\n",
    "    outcome=\"Y\",\n",
    "    common_causes=['X1', 'X2']\n",
    ")"
   ]
  },
  {
   "cell_type": "code",
   "execution_count": 4,
   "id": "d1b9d144",
   "metadata": {},
   "outputs": [],
   "source": [
    "identified_estimand = model.identify_effect(proceed_when_unidentifiable=True)\n",
    "\n",
    "estimate = model.estimate_effect(identified_estimand, method_name=\"backdoor.linear_regression\")"
   ]
  },
  {
   "cell_type": "code",
   "execution_count": 5,
   "id": "e6afb904",
   "metadata": {},
   "outputs": [
    {
     "ename": "AssertionError",
     "evalue": "",
     "output_type": "error",
     "traceback": [
      "\u001b[0;31m---------------------------------------------------------------------------\u001b[0m",
      "\u001b[0;31mAssertionError\u001b[0m                            Traceback (most recent call last)",
      "Cell \u001b[0;32mIn [5], line 1\u001b[0m\n\u001b[0;32m----> 1\u001b[0m refute \u001b[38;5;241m=\u001b[39m \u001b[43mmodel\u001b[49m\u001b[38;5;241;43m.\u001b[39;49m\u001b[43mrefute_estimate\u001b[49m\u001b[43m(\u001b[49m\u001b[43midentified_estimand\u001b[49m\u001b[43m,\u001b[49m\u001b[43m \u001b[49m\u001b[43mestimate\u001b[49m\u001b[43m,\u001b[49m\u001b[43m \u001b[49m\u001b[43mmethod_name\u001b[49m\u001b[38;5;241;43m=\u001b[39;49m\u001b[38;5;124;43m'\u001b[39;49m\u001b[38;5;124;43massess_overlap\u001b[39;49m\u001b[38;5;124;43m'\u001b[39;49m\u001b[43m)\u001b[49m\n",
      "File \u001b[0;32m~/repos/dowhy/dowhy/causal_model.py:428\u001b[0m, in \u001b[0;36mCausalModel.refute_estimate\u001b[0;34m(self, estimand, estimate, method_name, show_progress_bar, **kwargs)\u001b[0m\n\u001b[1;32m    425\u001b[0m     refuter_class \u001b[38;5;241m=\u001b[39m causal_refuters\u001b[38;5;241m.\u001b[39mget_class_object(method_name)\n\u001b[1;32m    427\u001b[0m refuter \u001b[38;5;241m=\u001b[39m refuter_class(\u001b[38;5;28mself\u001b[39m\u001b[38;5;241m.\u001b[39m_data, identified_estimand\u001b[38;5;241m=\u001b[39mestimand, estimate\u001b[38;5;241m=\u001b[39mestimate, \u001b[38;5;241m*\u001b[39m\u001b[38;5;241m*\u001b[39mkwargs)\n\u001b[0;32m--> 428\u001b[0m res \u001b[38;5;241m=\u001b[39m \u001b[43mrefuter\u001b[49m\u001b[38;5;241;43m.\u001b[39;49m\u001b[43mrefute_estimate\u001b[49m\u001b[43m(\u001b[49m\u001b[43mshow_progress_bar\u001b[49m\u001b[43m)\u001b[49m\n\u001b[1;32m    429\u001b[0m \u001b[38;5;28;01mreturn\u001b[39;00m res\n",
      "File \u001b[0;32m~/repos/dowhy/dowhy/causal_refuters/assess_overlap.py:61\u001b[0m, in \u001b[0;36mAssessOverlap.refute_estimate\u001b[0;34m(self, show_progress_bar)\u001b[0m\n\u001b[1;32m     58\u001b[0m \u001b[38;5;28;01mif\u001b[39;00m show_progress_bar:\n\u001b[1;32m     59\u001b[0m     \u001b[38;5;28;01mraise\u001b[39;00m \u001b[38;5;167;01mNotImplementedError\u001b[39;00m(\u001b[38;5;124m\"\u001b[39m\u001b[38;5;124mNo progress bar is available for OverRule\u001b[39m\u001b[38;5;124m\"\u001b[39m)\n\u001b[0;32m---> 61\u001b[0m \u001b[38;5;28;01mreturn\u001b[39;00m \u001b[43massess_support_and_overlap_overrule\u001b[49m\u001b[43m(\u001b[49m\n\u001b[1;32m     62\u001b[0m \u001b[43m    \u001b[49m\u001b[43mdata\u001b[49m\u001b[38;5;241;43m=\u001b[39;49m\u001b[38;5;28;43mself\u001b[39;49m\u001b[38;5;241;43m.\u001b[39;49m\u001b[43m_data\u001b[49m\u001b[43m,\u001b[49m\n\u001b[1;32m     63\u001b[0m \u001b[43m    \u001b[49m\u001b[43mbackdoor_vars\u001b[49m\u001b[38;5;241;43m=\u001b[39;49m\u001b[38;5;28;43mself\u001b[39;49m\u001b[38;5;241;43m.\u001b[39;49m\u001b[43m_backdoor_vars\u001b[49m\u001b[43m,\u001b[49m\n\u001b[1;32m     64\u001b[0m \u001b[43m    \u001b[49m\u001b[43mtreatment_name\u001b[49m\u001b[38;5;241;43m=\u001b[39;49m\u001b[38;5;28;43mself\u001b[39;49m\u001b[38;5;241;43m.\u001b[39;49m\u001b[43m_treatment_name\u001b[49m\u001b[43m,\u001b[49m\n\u001b[1;32m     65\u001b[0m \u001b[43m    \u001b[49m\u001b[43mcat_feats\u001b[49m\u001b[38;5;241;43m=\u001b[39;49m\u001b[38;5;28;43mself\u001b[39;49m\u001b[38;5;241;43m.\u001b[39;49m\u001b[43m_cat_feats\u001b[49m\u001b[43m,\u001b[49m\n\u001b[1;32m     66\u001b[0m \u001b[43m    \u001b[49m\u001b[43moverlap_config\u001b[49m\u001b[38;5;241;43m=\u001b[39;49m\u001b[38;5;28;43mself\u001b[39;49m\u001b[38;5;241;43m.\u001b[39;49m\u001b[43m_overlap_config\u001b[49m\u001b[43m,\u001b[49m\n\u001b[1;32m     67\u001b[0m \u001b[43m    \u001b[49m\u001b[43msupport_config\u001b[49m\u001b[38;5;241;43m=\u001b[39;49m\u001b[38;5;28;43mself\u001b[39;49m\u001b[38;5;241;43m.\u001b[39;49m\u001b[43m_support_config\u001b[49m\u001b[43m,\u001b[49m\n\u001b[1;32m     68\u001b[0m \u001b[43m    \u001b[49m\u001b[43moverlap_eps\u001b[49m\u001b[38;5;241;43m=\u001b[39;49m\u001b[38;5;28;43mself\u001b[39;49m\u001b[38;5;241;43m.\u001b[39;49m\u001b[43m_overlap_eps\u001b[49m\u001b[43m,\u001b[49m\n\u001b[1;32m     69\u001b[0m \u001b[43m    \u001b[49m\u001b[43mverbose\u001b[49m\u001b[38;5;241;43m=\u001b[39;49m\u001b[38;5;28;43mself\u001b[39;49m\u001b[38;5;241;43m.\u001b[39;49m\u001b[43m_overrule_verbose\u001b[49m\u001b[43m,\u001b[49m\n\u001b[1;32m     70\u001b[0m \u001b[43m\u001b[49m\u001b[43m)\u001b[49m\n",
      "File \u001b[0;32m~/repos/dowhy/dowhy/causal_refuters/assess_overlap.py:111\u001b[0m, in \u001b[0;36massess_support_and_overlap_overrule\u001b[0;34m(data, backdoor_vars, treatment_name, cat_feats, overlap_config, support_config, overlap_eps, verbose)\u001b[0m\n\u001b[1;32m    103\u001b[0m t \u001b[38;5;241m=\u001b[39m data[treatment_name]\n\u001b[1;32m    104\u001b[0m analyzer \u001b[38;5;241m=\u001b[39m OverruleAnalyzer(\n\u001b[1;32m    105\u001b[0m     cat_feats\u001b[38;5;241m=\u001b[39mcat_feats,\n\u001b[1;32m    106\u001b[0m     overlap_config\u001b[38;5;241m=\u001b[39moverlap_config,\n\u001b[0;32m   (...)\u001b[0m\n\u001b[1;32m    109\u001b[0m     verbose\u001b[38;5;241m=\u001b[39mverbose,\n\u001b[1;32m    110\u001b[0m )\n\u001b[0;32m--> 111\u001b[0m \u001b[43manalyzer\u001b[49m\u001b[38;5;241;43m.\u001b[39;49m\u001b[43mfit\u001b[49m\u001b[43m(\u001b[49m\u001b[43mX\u001b[49m\u001b[43m,\u001b[49m\u001b[43m \u001b[49m\u001b[43mt\u001b[49m\u001b[43m)\u001b[49m\n\u001b[1;32m    112\u001b[0m \u001b[38;5;28;01mreturn\u001b[39;00m analyzer\n",
      "File \u001b[0;32m~/repos/dowhy/dowhy/causal_refuters/assess_overlap_overrule.py:159\u001b[0m, in \u001b[0;36mOverruleAnalyzer.fit\u001b[0;34m(self, X, t)\u001b[0m\n\u001b[1;32m    157\u001b[0m \u001b[38;5;66;03m# Get the propensity scores out. Note that we perform cross-fitting here\u001b[39;00m\n\u001b[1;32m    158\u001b[0m \u001b[38;5;28mself\u001b[39m\u001b[38;5;241m.\u001b[39mraw_overlap_set \u001b[38;5;241m=\u001b[39m \u001b[38;5;28mself\u001b[39m\u001b[38;5;241m.\u001b[39m_predict_overlap(X_supp, t_supp)\n\u001b[0;32m--> 159\u001b[0m \u001b[38;5;28;43mself\u001b[39;49m\u001b[38;5;241;43m.\u001b[39;49m\u001b[43mRS_overlap_estimator\u001b[49m\u001b[38;5;241;43m.\u001b[39;49m\u001b[43mfit\u001b[49m\u001b[43m(\u001b[49m\u001b[43mX_supp\u001b[49m\u001b[43m,\u001b[49m\u001b[43m \u001b[49m\u001b[38;5;28;43mself\u001b[39;49m\u001b[38;5;241;43m.\u001b[39;49m\u001b[43mraw_overlap_set\u001b[49m\u001b[43m)\u001b[49m\n\u001b[1;32m    161\u001b[0m \u001b[38;5;28mself\u001b[39m\u001b[38;5;241m.\u001b[39msupport_indicator \u001b[38;5;241m=\u001b[39m supp\n\u001b[1;32m    162\u001b[0m \u001b[38;5;28mself\u001b[39m\u001b[38;5;241m.\u001b[39moverlap_indicator \u001b[38;5;241m=\u001b[39m \u001b[38;5;28mself\u001b[39m\u001b[38;5;241m.\u001b[39mRS_overlap_estimator\u001b[38;5;241m.\u001b[39mpredict(X_supp)\n",
      "File \u001b[0;32m~/repos/dowhy/dowhy/causal_refuters/overrule/ruleset.py:147\u001b[0m, in \u001b[0;36mBCSRulesetEstimator.fit\u001b[0;34m(self, x, o)\u001b[0m\n\u001b[1;32m    144\u001b[0m X \u001b[38;5;241m=\u001b[39m \u001b[38;5;28mself\u001b[39m\u001b[38;5;241m.\u001b[39mFeatureBinarizer\u001b[38;5;241m.\u001b[39mtransform(data)\n\u001b[1;32m    146\u001b[0m \u001b[38;5;66;03m# Fit estimator\u001b[39;00m\n\u001b[0;32m--> 147\u001b[0m \u001b[38;5;28;43mself\u001b[39;49m\u001b[38;5;241;43m.\u001b[39;49m\u001b[43mM\u001b[49m\u001b[38;5;241;43m.\u001b[39;49m\u001b[43mfit\u001b[49m\u001b[43m(\u001b[49m\u001b[43mX\u001b[49m\u001b[43m,\u001b[49m\u001b[43m \u001b[49m\u001b[43mo\u001b[49m\u001b[43m)\u001b[49m\n\u001b[1;32m    149\u001b[0m \u001b[38;5;66;03m# Store reference volume\u001b[39;00m\n\u001b[1;32m    150\u001b[0m \u001b[38;5;28;01mif\u001b[39;00m nRef \u001b[38;5;241m>\u001b[39m \u001b[38;5;241m0\u001b[39m:\n",
      "File \u001b[0;32m~/repos/dowhy/dowhy/causal_refuters/overrule/BCS/overlap_boolean_rule.py:128\u001b[0m, in \u001b[0;36mOverlapBooleanRule.fit\u001b[0;34m(self, X, y)\u001b[0m\n\u001b[1;32m    126\u001b[0m \u001b[38;5;28;01massert\u001b[39;00m nO \u001b[38;5;241m>\u001b[39m \u001b[38;5;241m0\u001b[39m \u001b[38;5;129;01mand\u001b[39;00m (nU \u001b[38;5;241m>\u001b[39m \u001b[38;5;241m0\u001b[39m \u001b[38;5;129;01mor\u001b[39;00m nN \u001b[38;5;241m>\u001b[39m \u001b[38;5;241m0\u001b[39m)\n\u001b[1;32m    127\u001b[0m \u001b[38;5;28mbreakpoint\u001b[39m()\n\u001b[0;32m--> 128\u001b[0m \u001b[38;5;28;01massert\u001b[39;00m nU \u001b[38;5;241m==\u001b[39m \u001b[38;5;241m0\u001b[39m \u001b[38;5;129;01mor\u001b[39;00m nN \u001b[38;5;241m==\u001b[39m \u001b[38;5;241m0\u001b[39m\n\u001b[1;32m    130\u001b[0m \u001b[38;5;66;03m# Initialize with empty and singleton conjunctions, i.e. X plus all-ones feature\u001b[39;00m\n\u001b[1;32m    131\u001b[0m \u001b[38;5;66;03m# Feature indicator and conjunction matrices\u001b[39;00m\n\u001b[1;32m    132\u001b[0m z \u001b[38;5;241m=\u001b[39m pd\u001b[38;5;241m.\u001b[39mDataFrame(np\u001b[38;5;241m.\u001b[39meye(X\u001b[38;5;241m.\u001b[39mshape[\u001b[38;5;241m1\u001b[39m], X\u001b[38;5;241m.\u001b[39mshape[\u001b[38;5;241m1\u001b[39m] \u001b[38;5;241m+\u001b[39m \u001b[38;5;241m1\u001b[39m, \u001b[38;5;241m1\u001b[39m, dtype\u001b[38;5;241m=\u001b[39m\u001b[38;5;28mint\u001b[39m), index\u001b[38;5;241m=\u001b[39mX\u001b[38;5;241m.\u001b[39mcolumns)\n",
      "\u001b[0;31mAssertionError\u001b[0m: "
     ]
    }
   ],
   "source": [
    "refute = model.refute_estimate(identified_estimand, estimate, method_name='assess_overlap')"
   ]
  },
  {
   "cell_type": "code",
   "execution_count": null,
   "id": "e11e8d3b",
   "metadata": {},
   "outputs": [],
   "source": [
    "print(refute)"
   ]
  }
 ],
 "metadata": {
  "kernelspec": {
   "display_name": "Python 3 (ipykernel)",
   "language": "python",
   "name": "python3"
  },
  "language_info": {
   "codemirror_mode": {
    "name": "ipython",
    "version": 3
   },
   "file_extension": ".py",
   "mimetype": "text/x-python",
   "name": "python",
   "nbconvert_exporter": "python",
   "pygments_lexer": "ipython3",
   "version": "3.9.5"
  }
 },
 "nbformat": 4,
 "nbformat_minor": 5
}
