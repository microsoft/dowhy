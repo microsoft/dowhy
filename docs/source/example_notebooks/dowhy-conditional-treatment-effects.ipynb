{
 "cells": [
  {
   "cell_type": "markdown",
   "metadata": {},
   "source": [
    "# Conditional Average Treatment Effects (CATE) with DoWhy and EconML\n",
    "\n",
    "This is an experimental feature where we use [EconML](https://github.com/microsoft/econml) methods from DoWhy. Using EconML allows CATE estimation using different methods. \n",
    "\n",
    "All four steps of causal inference in DoWhy remain the same: model, identify, estimate, and refute. The key difference is that we now call econml methods in the estimation step. There is also a simpler example using linear regression to understand the intuition behind CATE estimators. \n",
    "\n"
   ]
  },
  {
   "cell_type": "code",
   "execution_count": 1,
   "metadata": {},
   "outputs": [],
   "source": [
    "import numpy as np\n",
    "import pandas as pd\n",
    "import logging\n",
    "\n",
    "import dowhy\n",
    "from dowhy import CausalModel\n",
    "import dowhy.datasets\n",
    "\n",
    "import econml\n",
    "import warnings\n",
    "warnings.filterwarnings('ignore')"
   ]
  },
  {
   "cell_type": "code",
   "execution_count": 2,
   "metadata": {},
   "outputs": [
    {
     "data": {
      "text/html": [
       "<div>\n",
       "<style scoped>\n",
       "    .dataframe tbody tr th:only-of-type {\n",
       "        vertical-align: middle;\n",
       "    }\n",
       "\n",
       "    .dataframe tbody tr th {\n",
       "        vertical-align: top;\n",
       "    }\n",
       "\n",
       "    .dataframe thead th {\n",
       "        text-align: right;\n",
       "    }\n",
       "</style>\n",
       "<table border=\"1\" class=\"dataframe\">\n",
       "  <thead>\n",
       "    <tr style=\"text-align: right;\">\n",
       "      <th></th>\n",
       "      <th>X0</th>\n",
       "      <th>X1</th>\n",
       "      <th>Z0</th>\n",
       "      <th>Z1</th>\n",
       "      <th>W0</th>\n",
       "      <th>W1</th>\n",
       "      <th>W2</th>\n",
       "      <th>W3</th>\n",
       "      <th>v0</th>\n",
       "      <th>y</th>\n",
       "    </tr>\n",
       "  </thead>\n",
       "  <tbody>\n",
       "    <tr>\n",
       "      <th>0</th>\n",
       "      <td>0.020438</td>\n",
       "      <td>0.528451</td>\n",
       "      <td>0.0</td>\n",
       "      <td>0.914163</td>\n",
       "      <td>-0.765002</td>\n",
       "      <td>-2.712587</td>\n",
       "      <td>3</td>\n",
       "      <td>3</td>\n",
       "      <td>7.994218</td>\n",
       "      <td>92.428728</td>\n",
       "    </tr>\n",
       "    <tr>\n",
       "      <th>1</th>\n",
       "      <td>-1.202927</td>\n",
       "      <td>0.130721</td>\n",
       "      <td>1.0</td>\n",
       "      <td>0.700723</td>\n",
       "      <td>-0.047809</td>\n",
       "      <td>-0.726578</td>\n",
       "      <td>0</td>\n",
       "      <td>0</td>\n",
       "      <td>15.608856</td>\n",
       "      <td>65.809569</td>\n",
       "    </tr>\n",
       "    <tr>\n",
       "      <th>2</th>\n",
       "      <td>0.440919</td>\n",
       "      <td>-0.795397</td>\n",
       "      <td>1.0</td>\n",
       "      <td>0.775978</td>\n",
       "      <td>-1.302117</td>\n",
       "      <td>-1.762736</td>\n",
       "      <td>3</td>\n",
       "      <td>3</td>\n",
       "      <td>20.549045</td>\n",
       "      <td>249.667566</td>\n",
       "    </tr>\n",
       "    <tr>\n",
       "      <th>3</th>\n",
       "      <td>1.230233</td>\n",
       "      <td>-0.061368</td>\n",
       "      <td>1.0</td>\n",
       "      <td>0.202389</td>\n",
       "      <td>-0.241805</td>\n",
       "      <td>-2.088708</td>\n",
       "      <td>3</td>\n",
       "      <td>0</td>\n",
       "      <td>10.513453</td>\n",
       "      <td>169.664302</td>\n",
       "    </tr>\n",
       "    <tr>\n",
       "      <th>4</th>\n",
       "      <td>-1.598551</td>\n",
       "      <td>0.608297</td>\n",
       "      <td>1.0</td>\n",
       "      <td>0.587971</td>\n",
       "      <td>-1.421515</td>\n",
       "      <td>-0.604940</td>\n",
       "      <td>2</td>\n",
       "      <td>0</td>\n",
       "      <td>16.816861</td>\n",
       "      <td>54.077915</td>\n",
       "    </tr>\n",
       "  </tbody>\n",
       "</table>\n",
       "</div>"
      ],
      "text/plain": [
       "         X0        X1   Z0        Z1        W0        W1 W2 W3         v0  \\\n",
       "0  0.020438  0.528451  0.0  0.914163 -0.765002 -2.712587  3  3   7.994218   \n",
       "1 -1.202927  0.130721  1.0  0.700723 -0.047809 -0.726578  0  0  15.608856   \n",
       "2  0.440919 -0.795397  1.0  0.775978 -1.302117 -1.762736  3  3  20.549045   \n",
       "3  1.230233 -0.061368  1.0  0.202389 -0.241805 -2.088708  3  0  10.513453   \n",
       "4 -1.598551  0.608297  1.0  0.587971 -1.421515 -0.604940  2  0  16.816861   \n",
       "\n",
       "            y  \n",
       "0   92.428728  \n",
       "1   65.809569  \n",
       "2  249.667566  \n",
       "3  169.664302  \n",
       "4   54.077915  "
      ]
     },
     "execution_count": 2,
     "metadata": {},
     "output_type": "execute_result"
    }
   ],
   "source": [
    "data = dowhy.datasets.linear_dataset(10, num_common_causes=4, num_samples=10000,\n",
    "                                    num_instruments=2, num_effect_modifiers=2,\n",
    "                                     num_treatments=1,\n",
    "                                    treatment_is_binary=False,\n",
    "                                    num_discrete_common_causes=2,\n",
    "                                    num_discrete_effect_modifiers=0,\n",
    "                                    one_hot_encode=False)\n",
    "df=data['df']\n",
    "df.head()"
   ]
  },
  {
   "cell_type": "code",
   "execution_count": 3,
   "metadata": {},
   "outputs": [
    {
     "name": "stderr",
     "output_type": "stream",
     "text": [
      "INFO:dowhy.causal_model:Model to find the causal effect of treatment ['v0'] on outcome ['y']\n"
     ]
    }
   ],
   "source": [
    "model = CausalModel(data=data[\"df\"], \n",
    "                    treatment=data[\"treatment_name\"], outcome=data[\"outcome_name\"], \n",
    "                    graph=data[\"gml_graph\"])"
   ]
  },
  {
   "cell_type": "code",
   "execution_count": 4,
   "metadata": {},
   "outputs": [
    {
     "data": {
      "image/png": "[encoded data removed]",
      "text/plain": [
       "<IPython.core.display.Image object>"
      ]
     },
     "metadata": {},
     "output_type": "display_data"
    }
   ],
   "source": [
    "model.view_model()\n",
    "from IPython.display import Image, display\n",
    "display(Image(filename=\"causal_model.png\"))"
   ]
  },
  {
   "cell_type": "code",
   "execution_count": 5,
   "metadata": {
    "scrolled": true
   },
   "outputs": [
    {
     "name": "stderr",
     "output_type": "stream",
     "text": [
      "WARNING:dowhy.causal_identifier:If this is observed data (not from a randomized experiment), there might always be missing confounders. Causal effect cannot be identified perfectly.\n",
      "INFO:dowhy.causal_identifier:Continuing by ignoring these unobserved confounders because proceed_when_unidentifiable flag is True.\n",
      "INFO:dowhy.causal_identifier:Instrumental variables for treatment and outcome:['Z1', 'Z0']\n",
      "INFO:dowhy.causal_identifier:Frontdoor variables for treatment and outcome:[]\n"
     ]
    },
    {
     "name": "stdout",
     "output_type": "stream",
     "text": [
      "Estimand type: nonparametric-ate\n",
      "\n",
      "### Estimand : 1\n",
      "Estimand name: backdoor1 (Default)\n",
      "Estimand expression:\n",
      "  d                                    \n",
      "─────(Expectation(y|W0,X1,W3,W2,W1,X0))\n",
      "d[v₀]                                  \n",
      "Estimand assumption 1, Unconfoundedness: If U→{v0} and U→y then P(y|v0,W0,X1,W3,W2,W1,X0,U) = P(y|v0,W0,X1,W3,W2,W1,X0)\n",
      "\n",
      "### Estimand : 2\n",
      "Estimand name: backdoor2\n",
      "Estimand expression:\n",
      "  d                                 \n",
      "─────(Expectation(y|W0,X1,W3,W2,W1))\n",
      "d[v₀]                               \n",
      "Estimand assumption 1, Unconfoundedness: If U→{v0} and U→y then P(y|v0,W0,X1,W3,W2,W1,U) = P(y|v0,W0,X1,W3,W2,W1)\n",
      "\n",
      "### Estimand : 3\n",
      "Estimand name: backdoor3\n",
      "Estimand expression:\n",
      "  d                                 \n",
      "─────(Expectation(y|W0,W3,W2,W1,X0))\n",
      "d[v₀]                               \n",
      "Estimand assumption 1, Unconfoundedness: If U→{v0} and U→y then P(y|v0,W0,W3,W2,W1,X0,U) = P(y|v0,W0,W3,W2,W1,X0)\n",
      "\n",
      "### Estimand : 4\n",
      "Estimand name: backdoor4\n",
      "Estimand expression:\n",
      "  d                              \n",
      "─────(Expectation(y|W0,W3,W2,W1))\n",
      "d[v₀]                            \n",
      "Estimand assumption 1, Unconfoundedness: If U→{v0} and U→y then P(y|v0,W0,W3,W2,W1,U) = P(y|v0,W0,W3,W2,W1)\n",
      "\n",
      "### Estimand : 5\n",
      "Estimand name: iv\n",
      "Estimand expression:\n",
      "Expectation(Derivative(y, [Z1, Z0])*Derivative([v0], [Z1, Z0])**(-1))\n",
      "Estimand assumption 1, As-if-random: If U→→y then ¬(U →→{Z1,Z0})\n",
      "Estimand assumption 2, Exclusion: If we remove {Z1,Z0}→{v0}, then ¬({Z1,Z0}→y)\n",
      "\n",
      "### Estimand : 6\n",
      "Estimand name: frontdoor\n",
      "No such variable found!\n",
      "\n"
     ]
    }
   ],
   "source": [
    "identified_estimand= model.identify_effect(proceed_when_unidentifiable=True)\n",
    "print(identified_estimand)"
   ]
  },
  {
   "cell_type": "markdown",
   "metadata": {},
   "source": [
    "## Linear Model \n",
    "First, let us build some intuition using a linear model for estimating CATE. The effect modifiers (that lead to a heterogeneous treatment effect) can be modeled as interaction terms with the treatment. Thus, their value modulates the effect of treatment. \n",
    "\n",
    "Below the estimated effect of changing treatment from 0 to 1. "
   ]
  },
  {
   "cell_type": "code",
   "execution_count": 6,
   "metadata": {},
   "outputs": [
    {
     "name": "stderr",
     "output_type": "stream",
     "text": [
      "INFO:dowhy.causal_estimator:b: y~v0+W0+X1+W3+W2+W1+X0+v0*X1+v0*X0\n",
      "INFO:dowhy.causal_estimator:INFO: Using Linear Regression Estimator\n"
     ]
    },
    {
     "name": "stdout",
     "output_type": "stream",
     "text": [
      "*** Causal Estimate ***\n",
      "\n",
      "## Identified estimand\n",
      "Estimand type: nonparametric-ate\n",
      "\n",
      "## Realized estimand\n",
      "b: y~v0+W0+X1+W3+W2+W1+X0+v0*X1+v0*X0\n",
      "Target units: ate\n",
      "\n",
      "## Estimate\n",
      "Mean value: 10.289826051395593\n",
      "### Conditional Estimates\n",
      "__categorical__X1              __categorical__X0            \n",
      "(-3.3819999999999997, -0.503]  (-3.5669999999999997, -0.836]     2.769112\n",
      "                               (-0.836, -0.225]                  6.825982\n",
      "                               (-0.225, 0.266]                   9.377288\n",
      "                               (0.266, 0.857]                   11.880354\n",
      "                               (0.857, 3.583]                   15.895080\n",
      "(-0.503, 0.0804]               (-3.5669999999999997, -0.836]     3.433273\n",
      "                               (-0.836, -0.225]                  7.454798\n",
      "                               (-0.225, 0.266]                  10.005408\n",
      "                               (0.266, 0.857]                   12.426070\n",
      "                               (0.857, 3.583]                   16.572507\n",
      "(0.0804, 0.591]                (-3.5669999999999997, -0.836]     3.613143\n",
      "                               (-0.836, -0.225]                  7.772475\n",
      "                               (-0.225, 0.266]                  10.331117\n",
      "                               (0.266, 0.857]                   12.859927\n",
      "                               (0.857, 3.583]                   16.846241\n",
      "(0.591, 1.182]                 (-3.5669999999999997, -0.836]     4.116170\n",
      "                               (-0.836, -0.225]                  8.159930\n",
      "                               (-0.225, 0.266]                  10.680333\n",
      "                               (0.266, 0.857]                   13.127107\n",
      "                               (0.857, 3.583]                   17.069771\n",
      "(1.182, 4.095]                 (-3.5669999999999997, -0.836]     4.722704\n",
      "                               (-0.836, -0.225]                  8.715063\n",
      "                               (-0.225, 0.266]                  11.243465\n",
      "                               (0.266, 0.857]                   13.663010\n",
      "                               (0.857, 3.583]                   17.692644\n",
      "dtype: float64\n"
     ]
    }
   ],
   "source": [
    "linear_estimate = model.estimate_effect(identified_estimand, \n",
    "                                        method_name=\"backdoor.linear_regression\",\n",
    "                                       control_value=0,\n",
    "                                       treatment_value=1)\n",
    "print(linear_estimate) "
   ]
  },
  {
   "cell_type": "markdown",
   "metadata": {},
   "source": [
    "## EconML methods\n",
    "We now move to the more advanced methods from the EconML package for estimating CATE.\n",
    "\n",
    "First, let us look at the double machine learning estimator. Method_name corresponds to the fully qualified name of the class that we want to use. For double ML, it is \"econml.dml.DMLCateEstimator\". \n",
    "\n",
    "Target units defines the units over which the causal estimate is to be computed. This can be a lambda function filter on the original dataframe, a new Pandas dataframe, or a string corresponding to the three main kinds of target units (\"ate\", \"att\" and \"atc\"). Below we show an example of a lambda function. \n",
    "\n",
    "Method_params are passed directly to EconML. For details on allowed parameters, refer to the EconML documentation. "
   ]
  },
  {
   "cell_type": "code",
   "execution_count": 7,
   "metadata": {
    "scrolled": false
   },
   "outputs": [
    {
     "name": "stderr",
     "output_type": "stream",
     "text": [
      "INFO:dowhy.causal_estimator:INFO: Using EconML Estimator\n",
      "INFO:dowhy.causal_estimator:b: y~v0+W0+X1+W3+W2+W1+X0 | X1,X0\n"
     ]
    },
    {
     "name": "stdout",
     "output_type": "stream",
     "text": [
      "*** Causal Estimate ***\n",
      "\n",
      "## Identified estimand\n",
      "Estimand type: nonparametric-ate\n",
      "\n",
      "## Realized estimand\n",
      "b: y~v0+W0+X1+W3+W2+W1+X0 | X1,X0\n",
      "Target units: Data subset defined by a function\n",
      "\n",
      "## Estimate\n",
      "Mean value: 17.171634444490774\n",
      "Effect estimates: [15.61178484 16.68011577 20.4769992  ... 15.10173708 19.19292624\n",
      " 14.23641882]\n",
      "\n"
     ]
    }
   ],
   "source": [
    "from sklearn.preprocessing import PolynomialFeatures\n",
    "from sklearn.linear_model import LassoCV\n",
    "from sklearn.ensemble import GradientBoostingRegressor\n",
    "dml_estimate = model.estimate_effect(identified_estimand, method_name=\"backdoor.econml.dml.DMLCateEstimator\",\n",
    "                                     control_value = 0,\n",
    "                                     treatment_value = 1,\n",
    "                                 target_units = lambda df: df[\"X0\"]>1,  # condition used for CATE\n",
    "                                 confidence_intervals=False,\n",
    "                                method_params={\"init_params\":{'model_y':GradientBoostingRegressor(),\n",
    "                                                              'model_t': GradientBoostingRegressor(),\n",
    "                                                              \"model_final\":LassoCV(fit_intercept=False), \n",
    "                                                              'featurizer':PolynomialFeatures(degree=1, include_bias=False)},\n",
    "                                               \"fit_params\":{}})\n",
    "print(dml_estimate)"
   ]
  },
  {
   "cell_type": "code",
   "execution_count": 8,
   "metadata": {},
   "outputs": [
    {
     "name": "stdout",
     "output_type": "stream",
     "text": [
      "True causal estimate is 10.28982957507499\n"
     ]
    }
   ],
   "source": [
    "print(\"True causal estimate is\", data[\"ate\"])"
   ]
  },
  {
   "cell_type": "code",
   "execution_count": 9,
   "metadata": {},
   "outputs": [
    {
     "name": "stderr",
     "output_type": "stream",
     "text": [
      "INFO:dowhy.causal_estimator:INFO: Using EconML Estimator\n",
      "INFO:dowhy.causal_estimator:b: y~v0+W0+X1+W3+W2+W1+X0 | X1,X0\n"
     ]
    },
    {
     "name": "stdout",
     "output_type": "stream",
     "text": [
      "*** Causal Estimate ***\n",
      "\n",
      "## Identified estimand\n",
      "Estimand type: nonparametric-ate\n",
      "\n",
      "## Realized estimand\n",
      "b: y~v0+W0+X1+W3+W2+W1+X0 | X1,X0\n",
      "Target units: \n",
      "\n",
      "## Estimate\n",
      "Mean value: 10.196536397917297\n",
      "Effect estimates: [10.35480369  4.43225691 11.43962706 ... 11.52322586  5.74919866\n",
      " 12.6065523 ]\n",
      "\n"
     ]
    }
   ],
   "source": [
    "dml_estimate = model.estimate_effect(identified_estimand, method_name=\"backdoor.econml.dml.DMLCateEstimator\",\n",
    "                                     control_value = 0,\n",
    "                                     treatment_value = 1,\n",
    "                                 target_units = 1,  # condition used for CATE\n",
    "                                 confidence_intervals=False,\n",
    "                                method_params={\"init_params\":{'model_y':GradientBoostingRegressor(),\n",
    "                                                              'model_t': GradientBoostingRegressor(),\n",
    "                                                              \"model_final\":LassoCV(fit_intercept=False), \n",
    "                                                              'featurizer':PolynomialFeatures(degree=1, include_bias=True)},\n",
    "                                               \"fit_params\":{}})\n",
    "print(dml_estimate)"
   ]
  },
  {
   "cell_type": "markdown",
   "metadata": {},
   "source": [
    "### CATE Object and Confidence Intervals\n",
    "EconML provides its own methods to compute confidence intervals. Using BootstrapInference in the example below. "
   ]
  },
  {
   "cell_type": "code",
   "execution_count": 10,
   "metadata": {},
   "outputs": [
    {
     "name": "stderr",
     "output_type": "stream",
     "text": [
      "INFO:dowhy.causal_estimator:INFO: Using EconML Estimator\n",
      "INFO:dowhy.causal_estimator:b: y~v0+W0+X1+W3+W2+W1+X0 | X1,X0\n",
      "[Parallel(n_jobs=-1)]: Using backend ThreadingBackend with 8 concurrent workers.\n",
      "[Parallel(n_jobs=-1)]: Done   3 out of  10 | elapsed:    9.4s remaining:   21.9s\n",
      "[Parallel(n_jobs=-1)]: Done   7 out of  10 | elapsed:    9.4s remaining:    4.0s\n"
     ]
    },
    {
     "name": "stdout",
     "output_type": "stream",
     "text": [
      "*** Causal Estimate ***\n",
      "\n",
      "## Identified estimand\n",
      "Estimand type: nonparametric-ate\n",
      "\n",
      "## Realized estimand\n",
      "b: y~v0+W0+X1+W3+W2+W1+X0 | X1,X0\n",
      "Target units: ate\n",
      "\n",
      "## Estimate\n",
      "Mean value: 10.23367138762885\n",
      "Effect estimates: [10.39436064  4.44345901 11.47175756 ... 11.56362583  5.74802898\n",
      " 12.65430729]\n",
      "95.0% confidence interval: (array([10.27935888,  4.45438846, 11.29194072, ..., 11.4159319 ,\n",
      "        5.67829885, 12.48113385]), array([10.39003714,  4.57589999, 11.49646702, ..., 11.56800329,\n",
      "        5.88462184, 12.64997284]))\n",
      "\n",
      "[10.39436064  4.44345901 11.47175756 15.62768401  2.92075562 13.64386409\n",
      "  7.60485042  3.2575185  10.68773978 14.37565172]\n",
      "(array([10.27935888,  4.45438846, 11.29194072, ..., 11.4159319 ,\n",
      "        5.67829885, 12.48113385]), array([10.39003714,  4.57589999, 11.49646702, ..., 11.56800329,\n",
      "        5.88462184, 12.64997284]))\n"
     ]
    },
    {
     "name": "stderr",
     "output_type": "stream",
     "text": [
      "[Parallel(n_jobs=-1)]: Done  10 out of  10 | elapsed:   13.7s finished\n",
      "[Parallel(n_jobs=-1)]: Using backend ThreadingBackend with 8 concurrent workers.\n",
      "[Parallel(n_jobs=-1)]: Done   3 out of  10 | elapsed:    0.0s remaining:    0.1s\n",
      "[Parallel(n_jobs=-1)]: Done   7 out of  10 | elapsed:    0.0s remaining:    0.0s\n",
      "[Parallel(n_jobs=-1)]: Done  10 out of  10 | elapsed:    0.0s finished\n"
     ]
    }
   ],
   "source": [
    "from sklearn.preprocessing import PolynomialFeatures\n",
    "from sklearn.linear_model import LassoCV\n",
    "from sklearn.ensemble import GradientBoostingRegressor\n",
    "from econml.inference import BootstrapInference\n",
    "dml_estimate = model.estimate_effect(identified_estimand, \n",
    "                                     method_name=\"backdoor.econml.dml.DMLCateEstimator\",\n",
    "                                     target_units = \"ate\",\n",
    "                                     confidence_intervals=True,\n",
    "                                     method_params={\"init_params\":{'model_y':GradientBoostingRegressor(),\n",
    "                                                              'model_t': GradientBoostingRegressor(),\n",
    "                                                              \"model_final\": LassoCV(fit_intercept=False), \n",
    "                                                              'featurizer':PolynomialFeatures(degree=1, include_bias=True)},\n",
    "                                               \"fit_params\":{\n",
    "                                                               'inference': BootstrapInference(n_bootstrap_samples=100, n_jobs=-1),\n",
    "                                                            }\n",
    "                                              })\n",
    "print(dml_estimate)"
   ]
  },
  {
   "cell_type": "markdown",
   "metadata": {},
   "source": [
    "### Can provide a new inputs as target units and estimate CATE on them."
   ]
  },
  {
   "cell_type": "code",
   "execution_count": 11,
   "metadata": {},
   "outputs": [
    {
     "name": "stderr",
     "output_type": "stream",
     "text": [
      "INFO:dowhy.causal_estimator:INFO: Using EconML Estimator\n",
      "INFO:dowhy.causal_estimator:b: y~v0+W0+X1+W3+W2+W1+X0 | X1,X0\n"
     ]
    },
    {
     "name": "stdout",
     "output_type": "stream",
     "text": [
      "[12.70686496 13.29604226 14.45538533 14.08504563 14.82337538 11.45486938\n",
      " 12.46671782 13.7903808  11.58381091 14.30085111]\n"
     ]
    }
   ],
   "source": [
    "test_cols= data['effect_modifier_names'] # only need effect modifiers' values\n",
    "test_arr = [np.random.uniform(0,1, 10) for _ in range(len(test_cols))] # all variables are sampled uniformly, sample of 10\n",
    "test_df = pd.DataFrame(np.array(test_arr).transpose(), columns=test_cols)\n",
    "dml_estimate = model.estimate_effect(identified_estimand, \n",
    "                                     method_name=\"backdoor.econml.dml.DMLCateEstimator\",\n",
    "                                     target_units = test_df,\n",
    "                                     confidence_intervals=False,\n",
    "                                     method_params={\"init_params\":{'model_y':GradientBoostingRegressor(),\n",
    "                                                              'model_t': GradientBoostingRegressor(),\n",
    "                                                              \"model_final\":LassoCV(), \n",
    "                                                              'featurizer':PolynomialFeatures(degree=1, include_bias=True)},\n",
    "                                               \"fit_params\":{}\n",
    "                                              })\n",
    "print(dml_estimate.cate_estimates)"
   ]
  },
  {
   "cell_type": "markdown",
   "metadata": {},
   "source": [
    "### Can also retrieve the raw EconML estimator object for any further operations"
   ]
  },
  {
   "cell_type": "code",
   "execution_count": 12,
   "metadata": {},
   "outputs": [
    {
     "name": "stdout",
     "output_type": "stream",
     "text": [
      "<econml.dml.DMLCateEstimator object at 0x7f37077c1e50>\n"
     ]
    },
    {
     "data": {
      "text/plain": [
       "<dowhy.causal_estimator.CausalEstimate at 0x7f36ecde01f0>"
      ]
     },
     "execution_count": 12,
     "metadata": {},
     "output_type": "execute_result"
    }
   ],
   "source": [
    "print(dml_estimate._estimator_object)"
   ]
  },
  {
   "cell_type": "markdown",
   "metadata": {},
   "source": [
    "## Works with any EconML method\n",
    "In addition to double machine learning, below we example analyses using orthogonal forests, DRLearner (bug to fix), and neural network-based instrumental variables. "
   ]
  },
  {
   "cell_type": "markdown",
   "metadata": {},
   "source": [
    "### Continuous treatment, Continuous outcome\n",
    "\n",
    "This method is computationally intensive, may take a while depending on your machine. "
   ]
  },
  {
   "cell_type": "code",
   "execution_count": 13,
   "metadata": {},
   "outputs": [
    {
     "name": "stderr",
     "output_type": "stream",
     "text": [
      "INFO:dowhy.causal_estimator:INFO: Using EconML Estimator\n",
      "INFO:dowhy.causal_estimator:b: y~v0+W0+X1+W3+W2+W1+X0 | X1,X0\n",
      "[Parallel(n_jobs=-1)]: Using backend LokyBackend with 8 concurrent workers.\n",
      "[Parallel(n_jobs=-1)]: Done   2 out of   2 | elapsed:    6.2s remaining:    0.0s\n",
      "[Parallel(n_jobs=-1)]: Done   2 out of   2 | elapsed:    6.2s finished\n",
      "[Parallel(n_jobs=-1)]: Using backend LokyBackend with 8 concurrent workers.\n",
      "[Parallel(n_jobs=-1)]: Done   2 out of   2 | elapsed:    5.7s remaining:    0.0s\n",
      "[Parallel(n_jobs=-1)]: Done   2 out of   2 | elapsed:    5.7s finished\n",
      "[Parallel(n_jobs=-1)]: Using backend ThreadingBackend with 8 concurrent workers.\n",
      "[Parallel(n_jobs=-1)]: Done  16 tasks      | elapsed:    4.0s\n",
      "[Parallel(n_jobs=-1)]: Done 112 tasks      | elapsed:   24.0s\n",
      "[Parallel(n_jobs=-1)]: Done 272 tasks      | elapsed:   57.8s\n",
      "[Parallel(n_jobs=-1)]: Done 496 tasks      | elapsed:  1.8min\n",
      "[Parallel(n_jobs=-1)]: Done 784 tasks      | elapsed:  2.7min\n",
      "[Parallel(n_jobs=-1)]: Done 1136 tasks      | elapsed:  4.0min\n",
      "[Parallel(n_jobs=-1)]: Done 1552 tasks      | elapsed:  5.4min\n"
     ]
    },
    {
     "name": "stdout",
     "output_type": "stream",
     "text": [
      "*** Causal Estimate ***\n",
      "\n",
      "## Identified estimand\n",
      "Estimand type: nonparametric-ate\n",
      "\n",
      "## Realized estimand\n",
      "b: y~v0+W0+X1+W3+W2+W1+X0 | X1,X0\n",
      "Target units: Data subset defined by a function\n",
      "\n",
      "## Estimate\n",
      "Mean value: 17.356885905566333\n",
      "Effect estimates: [14.56514872 17.58481163 21.36692314 ... 15.29894085 20.04035586\n",
      " 12.48323249]\n",
      "\n"
     ]
    },
    {
     "name": "stderr",
     "output_type": "stream",
     "text": [
      "[Parallel(n_jobs=-1)]: Done 1632 out of 1632 | elapsed:  5.6min finished\n"
     ]
    }
   ],
   "source": [
    "from sklearn.linear_model import LogisticRegression\n",
    "orthoforest_estimate = model.estimate_effect(identified_estimand, method_name=\"backdoor.econml.ortho_forest.ContinuousTreatmentOrthoForest\",\n",
    "                                 confidence_intervals=False,\n",
    "                                method_params={\"init_params\":{\n",
    "                                                    'n_trees':2, # not ideal, just as an example to speed up computation\n",
    "                                                    },\n",
    "                                               \"fit_params\":{}\n",
    "                                              })\n",
    "print(orthoforest_estimate)"
   ]
  },
  {
   "cell_type": "markdown",
   "metadata": {},
   "source": [
    "### Binary treatment, Binary outcome"
   ]
  },
  {
   "cell_type": "code",
   "execution_count": 14,
   "metadata": {},
   "outputs": [
    {
     "name": "stderr",
     "output_type": "stream",
     "text": [
      "INFO:dowhy.causal_model:Model to find the causal effect of treatment ['v0'] on outcome ['y']\n",
      "WARNING:dowhy.causal_identifier:If this is observed data (not from a randomized experiment), there might always be missing confounders. Causal effect cannot be identified perfectly.\n",
      "INFO:dowhy.causal_identifier:Continuing by ignoring these unobserved confounders because proceed_when_unidentifiable flag is True.\n",
      "INFO:dowhy.causal_identifier:Instrumental variables for treatment and outcome:['Z1', 'Z0']\n",
      "INFO:dowhy.causal_identifier:Frontdoor variables for treatment and outcome:[]\n"
     ]
    },
    {
     "name": "stdout",
     "output_type": "stream",
     "text": [
      "            X0        X1   Z0        Z1        W0        W1        W2  \\\n",
      "0    -0.857468  0.902003  1.0  0.813743 -0.202984 -2.759156 -1.679577   \n",
      "1    -1.222928  1.397139  1.0  0.574540 -0.713438 -0.182368  1.030861   \n",
      "2    -0.684620 -1.271648  1.0  0.062960 -1.495873 -0.387853 -0.080516   \n",
      "3    -1.084030  1.508654  1.0  0.185505 -0.091422 -0.476764 -0.072984   \n",
      "4    -1.454599  2.217028  1.0  0.576932 -0.698251  0.903661  1.196306   \n",
      "...        ...       ...  ...       ...       ...       ...       ...   \n",
      "9995  0.062914  0.443736  1.0  0.950825  1.366133 -1.808942 -2.744749   \n",
      "9996 -1.803521  0.724647  1.0  0.017332 -0.598770  1.132992 -0.452070   \n",
      "9997 -1.815662  0.635427  1.0  0.617730  1.384554 -0.056143 -2.574848   \n",
      "9998 -0.112852  0.054143  1.0  0.297388 -1.458090 -1.322138 -0.369988   \n",
      "9999 -1.312036  0.124026  1.0  0.676653 -1.297546  0.653916  1.085150   \n",
      "\n",
      "            W3  v0  y  \n",
      "0     1.609308   1  1  \n",
      "1     0.547863   1  1  \n",
      "2    -0.599447   1  0  \n",
      "3     0.349878   1  1  \n",
      "4    -1.307840   1  1  \n",
      "...        ...  .. ..  \n",
      "9995  0.029843   1  1  \n",
      "9996 -1.072980   1  1  \n",
      "9997  0.851351   1  1  \n",
      "9998 -1.496292   0  0  \n",
      "9999  0.909459   1  1  \n",
      "\n",
      "[10000 rows x 10 columns]\n"
     ]
    }
   ],
   "source": [
    "data_binary = dowhy.datasets.linear_dataset(10, num_common_causes=4, num_samples=10000,\n",
    "                                    num_instruments=2, num_effect_modifiers=2,\n",
    "                                    treatment_is_binary=True, outcome_is_binary=True)\n",
    "# convert boolean values to {0,1} numeric\n",
    "data_binary['df'].v0 = data_binary['df'].v0.astype(int)\n",
    "data_binary['df'].y = data_binary['df'].y.astype(int)\n",
    "print(data_binary['df'])\n",
    "\n",
    "model_binary = CausalModel(data=data_binary[\"df\"], \n",
    "                    treatment=data_binary[\"treatment_name\"], outcome=data_binary[\"outcome_name\"], \n",
    "                    graph=data_binary[\"gml_graph\"])\n",
    "identified_estimand_binary = model_binary.identify_effect(proceed_when_unidentifiable=True)"
   ]
  },
  {
   "cell_type": "markdown",
   "metadata": {},
   "source": [
    "#### Using DRLearner estimator"
   ]
  },
  {
   "cell_type": "code",
   "execution_count": 15,
   "metadata": {},
   "outputs": [
    {
     "name": "stderr",
     "output_type": "stream",
     "text": [
      "INFO:dowhy.causal_estimator:INFO: Using EconML Estimator\n",
      "INFO:dowhy.causal_estimator:b: y~v0+W0+X1+W3+W2+W1+X0 | X1,X0\n"
     ]
    },
    {
     "name": "stdout",
     "output_type": "stream",
     "text": [
      "*** Causal Estimate ***\n",
      "\n",
      "## Identified estimand\n",
      "Estimand type: nonparametric-ate\n",
      "\n",
      "## Realized estimand\n",
      "b: y~v0+W0+X1+W3+W2+W1+X0 | X1,X0\n",
      "Target units: Data subset defined by a function\n",
      "\n",
      "## Estimate\n",
      "Mean value: 0.9046964398828231\n",
      "Effect estimates: [0.98732169 0.86104482 0.74706927 0.60909795 0.48963887 1.31035473\n",
      " 1.24498447 0.72784302 1.134212   1.17814957 0.98129879 0.90393852\n",
      " 1.11146773 0.91911049 1.01090887 1.13024438 0.54258659 0.79981609\n",
      " 0.82406848 1.03796007 0.79016101 1.26290143 0.64293109 0.88396406\n",
      " 0.67649434 1.04470024 0.82959912 0.79661992 0.87031547 1.21193036\n",
      " 0.90444846 1.08652597 0.89682558 1.07210495 0.74864264 0.91040557\n",
      " 0.634132   1.28772    0.65430327 0.99927764 0.62201892 0.55003477\n",
      " 0.51726932 0.7960831  1.23126346 0.97151554 0.96306413 0.83716338\n",
      " 0.93283008 1.04579244 1.21007929 1.25822157 1.08056368 0.69822537\n",
      " 0.98460404 1.088023   0.51067753 1.12070291 0.96884641 0.84304086\n",
      " 0.9073033  0.59938126 0.96630429 1.18076692 1.22978282 0.51331991\n",
      " 0.96074041 1.09591115 0.77268798 1.02241498 0.8268592  0.94569064\n",
      " 0.89181117 1.00087197 1.18042357 0.8439879  0.95015088 0.58529787\n",
      " 0.83528925 0.7966051  1.13777332 0.88572076 1.09420061 1.12093529\n",
      " 0.80590328 0.96271157 0.51040658 0.87961944 0.89983739 0.89081668\n",
      " 1.02198775 0.60820662 1.07182608 0.61567099 0.95878528 0.94871971\n",
      " 0.72662137 0.74594248 0.98870036 0.68838266 0.91092745 0.82392762\n",
      " 0.92156584 0.94898833 1.27079312 0.96317662 0.82411205 0.91075641\n",
      " 0.87868361 0.86146387 0.69741937 1.06052946 1.03559815 1.24923011\n",
      " 1.23089166 1.30047586 0.87317128 0.61859761 0.76227129 0.60282336\n",
      " 0.87906441 1.08209697 1.03920486 0.9474721  0.728187   0.93481498\n",
      " 1.03196078 1.21444624 0.78420789 0.99710186 1.02348509 1.01046706\n",
      " 1.0983594  0.93322995 0.74119133 0.87361394 0.70684721 0.86109695\n",
      " 0.79625009 0.63325884 1.31682225 1.01129357 1.16755979 0.97610941\n",
      " 1.02337036 1.08668703 0.83622252 0.97366157 0.72164444 0.66983011\n",
      " 1.02555273 0.8210741  0.72958604 1.03896231 0.7019167  0.92940133\n",
      " 0.86141967 0.58574544 0.53827298 0.83112906 1.01296232 0.96525166\n",
      " 1.0357319  0.83635271 1.02288117 1.07625772 0.90153934 0.78849379\n",
      " 0.88439907 0.77270562 1.11419733 0.95171882 0.74884288 0.67663253\n",
      " 0.6925682  0.87900212 0.36441653 1.01830659 0.83661529 1.04365115\n",
      " 0.72186613 1.18794229 0.86792376 1.03308385 1.0882281  0.98904641\n",
      " 0.83652469 1.1141187  0.67694263 0.79821211 0.78854437 0.65289021\n",
      " 1.22921519 0.94015368 0.96348892 0.63794289 1.17647435 0.68627855\n",
      " 0.94808323 0.4611092  0.98537884 0.8252386  0.93135291 0.75150877\n",
      " 0.76643324 1.2008932  1.05738408 1.06518796 1.24609077 0.79246689\n",
      " 0.70300785 1.14208419 0.81687563 0.66332445 0.64826078 0.83221129\n",
      " 1.13945731 1.218192   0.68057536 1.08206434 1.40907169 0.70112065\n",
      " 0.85074687 1.01031723 0.66498734 0.66428632 0.82266826 0.82998269\n",
      " 1.25607395 1.11541109 0.77550819 0.69529498 1.03619277 0.10156539\n",
      " 0.7567637  1.05548191 1.22269994 0.8561832  0.85735395 1.34867637\n",
      " 0.93830933 0.87073317 1.11573978 1.05310708 1.00124816 0.90934054\n",
      " 0.64950595 0.84572885 0.95078321 0.84253375 0.92812637 1.17630712\n",
      " 1.04519416 1.00012136 1.01962251 1.1746061  0.95480105 0.56059827\n",
      " 1.13694363 0.70044003 0.44053987 0.74941722 0.54926306 0.84262404\n",
      " 0.72842141]\n",
      "\n"
     ]
    }
   ],
   "source": [
    "from sklearn.linear_model import LogisticRegressionCV\n",
    "#todo needs binary y\n",
    "drlearner_estimate = model_binary.estimate_effect(identified_estimand_binary, \n",
    "                                method_name=\"backdoor.econml.drlearner.LinearDRLearner\",\n",
    "                                confidence_intervals=False,\n",
    "                                method_params={\"init_params\":{\n",
    "                                                    'model_propensity': LogisticRegressionCV(cv=3, solver='lbfgs', multi_class='auto')\n",
    "                                                    },\n",
    "                                               \"fit_params\":{}\n",
    "                                              })\n",
    "print(drlearner_estimate)"
   ]
  },
  {
   "cell_type": "markdown",
   "metadata": {},
   "source": [
    "### Instrumental Variable Method"
   ]
  },
  {
   "cell_type": "code",
   "execution_count": 16,
   "metadata": {},
   "outputs": [
    {
     "name": "stderr",
     "output_type": "stream",
     "text": [
      "Using TensorFlow backend.\n",
      "INFO:dowhy.causal_estimator:INFO: Using EconML Estimator\n",
      "INFO:dowhy.causal_estimator:b: y~v0+W0+X1+W3+W2+W1+X0 | X1,X0\n"
     ]
    },
    {
     "name": "stdout",
     "output_type": "stream",
     "text": [
      "Epoch 1/25\n",
      "10000/10000 [==============================] - 1s 101us/step - loss: 5.6563\n",
      "Epoch 2/25\n",
      "10000/10000 [==============================] - 1s 64us/step - loss: 2.8784\n",
      "Epoch 3/25\n",
      "10000/10000 [==============================] - 1s 64us/step - loss: 1.9167\n",
      "Epoch 4/25\n",
      "10000/10000 [==============================] - 1s 63us/step - loss: 1.7605\n",
      "Epoch 5/25\n",
      "10000/10000 [==============================] - 1s 65us/step - loss: 1.6946\n",
      "Epoch 6/25\n",
      "10000/10000 [==============================] - 1s 58us/step - loss: 1.6383\n",
      "Epoch 7/25\n",
      "10000/10000 [==============================] - 1s 62us/step - loss: 1.5963\n",
      "Epoch 8/25\n",
      "10000/10000 [==============================] - 1s 61us/step - loss: 1.5739\n",
      "Epoch 9/25\n",
      "10000/10000 [==============================] - 1s 60us/step - loss: 1.5754\n",
      "Epoch 10/25\n",
      "10000/10000 [==============================] - 1s 60us/step - loss: 1.5291\n",
      "Epoch 11/25\n",
      "10000/10000 [==============================] - 1s 59us/step - loss: 1.5353\n",
      "Epoch 12/25\n",
      "10000/10000 [==============================] - 1s 60us/step - loss: 1.5299\n",
      "Epoch 13/25\n",
      "10000/10000 [==============================] - 1s 60us/step - loss: 1.5264\n",
      "Epoch 14/25\n",
      "10000/10000 [==============================] - 1s 61us/step - loss: 1.5092\n",
      "Epoch 15/25\n",
      "10000/10000 [==============================] - 1s 59us/step - loss: 1.5087\n",
      "Epoch 16/25\n",
      "10000/10000 [==============================] - 1s 61us/step - loss: 1.5070\n",
      "Epoch 17/25\n",
      "10000/10000 [==============================] - 1s 60us/step - loss: 1.4965\n",
      "Epoch 18/25\n",
      "10000/10000 [==============================] - 1s 59us/step - loss: 1.4920\n",
      "Epoch 19/25\n",
      "10000/10000 [==============================] - 1s 60us/step - loss: 1.4916\n",
      "Epoch 20/25\n",
      "10000/10000 [==============================] - 1s 59us/step - loss: 1.4902\n",
      "Epoch 21/25\n",
      "10000/10000 [==============================] - 1s 61us/step - loss: 1.4829\n",
      "Epoch 22/25\n",
      "10000/10000 [==============================] - 1s 67us/step - loss: 1.4720\n",
      "Epoch 23/25\n",
      "10000/10000 [==============================] - 1s 65us/step - loss: 1.4698\n",
      "Epoch 24/25\n",
      "10000/10000 [==============================] - 1s 59us/step - loss: 1.4680\n",
      "Epoch 25/25\n",
      "10000/10000 [==============================] - 1s 64us/step - loss: 1.4664\n",
      "Epoch 1/25\n",
      "10000/10000 [==============================] - 2s 155us/step - loss: 6901.9798\n",
      "Epoch 2/25\n",
      "10000/10000 [==============================] - 1s 108us/step - loss: 2915.9131\n",
      "Epoch 3/25\n",
      "10000/10000 [==============================] - 1s 113us/step - loss: 2827.7863\n",
      "Epoch 4/25\n",
      "10000/10000 [==============================] - 1s 99us/step - loss: 2604.5579\n",
      "Epoch 5/25\n",
      "10000/10000 [==============================] - 1s 97us/step - loss: 2563.8555\n",
      "Epoch 6/25\n",
      "10000/10000 [==============================] - 1s 103us/step - loss: 2598.3800\n",
      "Epoch 7/25\n",
      "10000/10000 [==============================] - 1s 105us/step - loss: 2557.9621\n",
      "Epoch 8/25\n",
      "10000/10000 [==============================] - 1s 102us/step - loss: 2511.2756\n",
      "Epoch 9/25\n",
      "10000/10000 [==============================] - 1s 99us/step - loss: 2514.5126\n",
      "Epoch 10/25\n",
      "10000/10000 [==============================] - 1s 106us/step - loss: 2563.1472\n",
      "Epoch 11/25\n",
      "10000/10000 [==============================] - 1s 102us/step - loss: 2480.2290\n",
      "Epoch 12/25\n",
      "10000/10000 [==============================] - 1s 95us/step - loss: 2399.5942\n",
      "Epoch 13/25\n",
      "10000/10000 [==============================] - 1s 92us/step - loss: 2474.6755\n",
      "Epoch 14/25\n",
      "10000/10000 [==============================] - 1s 95us/step - loss: 2414.2940\n",
      "Epoch 15/25\n",
      "10000/10000 [==============================] - 1s 91us/step - loss: 2409.5745\n",
      "Epoch 16/25\n",
      "10000/10000 [==============================] - 1s 86us/step - loss: 2391.4086\n",
      "Epoch 17/25\n",
      "10000/10000 [==============================] - 1s 92us/step - loss: 2343.7564\n",
      "Epoch 18/25\n",
      "10000/10000 [==============================] - 1s 95us/step - loss: 2402.0839\n",
      "Epoch 19/25\n",
      "10000/10000 [==============================] - 1s 106us/step - loss: 2511.0784\n",
      "Epoch 20/25\n",
      "10000/10000 [==============================] - 1s 106us/step - loss: 2387.8651\n",
      "Epoch 21/25\n",
      "10000/10000 [==============================] - 1s 124us/step - loss: 2400.7627\n",
      "Epoch 22/25\n",
      "10000/10000 [==============================] - 1s 119us/step - loss: 2433.9784\n",
      "Epoch 23/25\n",
      "10000/10000 [==============================] - 1s 111us/step - loss: 2421.6465\n",
      "Epoch 24/25\n",
      "10000/10000 [==============================] - 1s 100us/step - loss: 2307.4309\n",
      "Epoch 25/25\n",
      "10000/10000 [==============================] - 1s 99us/step - loss: 2351.3173\n",
      "*** Causal Estimate ***\n",
      "\n",
      "## Identified estimand\n",
      "Estimand type: nonparametric-ate\n",
      "\n",
      "### Estimand : 1\n",
      "Estimand name: iv\n",
      "Estimand expression:\n",
      "Expectation(Derivative(y, [Z1, Z0])*Derivative([v0], [Z1, Z0])**(-1))\n",
      "Estimand assumption 1, As-if-random: If U→→y then ¬(U →→{Z1,Z0})\n",
      "Estimand assumption 2, Exclusion: If we remove {Z1,Z0}→{v0}, then ¬({Z1,Z0}→y)\n",
      "\n",
      "## Realized estimand\n",
      "b: y~v0+W0+X1+W3+W2+W1+X0 | X1,X0\n",
      "Target units: Data subset defined by a function\n",
      "\n",
      "## Estimate\n",
      "Mean value: 1.948096513748169\n",
      "Effect estimates: [1.6138268 2.0959167 3.5729218 ... 1.7907028 0.7765007 2.03759  ]\n",
      "\n"
     ]
    }
   ],
   "source": [
    "import keras\n",
    "from econml.deepiv import DeepIVEstimator\n",
    "dims_zx = len(model._instruments)+len(model._effect_modifiers)\n",
    "dims_tx = len(model._treatment)+len(model._effect_modifiers)\n",
    "treatment_model = keras.Sequential([keras.layers.Dense(128, activation='relu', input_shape=(dims_zx,)), # sum of dims of Z and X \n",
    "                                    keras.layers.Dropout(0.17),\n",
    "                                    keras.layers.Dense(64, activation='relu'),\n",
    "                                    keras.layers.Dropout(0.17),\n",
    "                                    keras.layers.Dense(32, activation='relu'),\n",
    "                                    keras.layers.Dropout(0.17)])                \n",
    "response_model = keras.Sequential([keras.layers.Dense(128, activation='relu', input_shape=(dims_tx,)), # sum of dims of T and X\n",
    "                                    keras.layers.Dropout(0.17), \n",
    "                                    keras.layers.Dense(64, activation='relu'),\n",
    "                                    keras.layers.Dropout(0.17),\n",
    "                                    keras.layers.Dense(32, activation='relu'),\n",
    "                                    keras.layers.Dropout(0.17),\n",
    "                                    keras.layers.Dense(1)])\n",
    "\n",
    "deepiv_estimate = model.estimate_effect(identified_estimand, \n",
    "                                        method_name=\"iv.econml.deepiv.DeepIVEstimator\",\n",
    "                                        target_units = lambda df: df[\"X0\"]>-1, \n",
    "                                        confidence_intervals=False,\n",
    "                                method_params={\"init_params\":{'n_components': 10, # Number of gaussians in the mixture density networks\n",
    "                                                              'm': lambda z, x: treatment_model(keras.layers.concatenate([z, x])), # Treatment model,\n",
    "                                                              \"h\": lambda t, x: response_model(keras.layers.concatenate([t, x])), # Response model\n",
    "                                                              'n_samples': 1, # Number of samples used to estimate the response\n",
    "                                                              'first_stage_options': {'epochs':25},\n",
    "                                                              'second_stage_options': {'epochs':25}\n",
    "                                                             },\n",
    "                                               \"fit_params\":{}})\n",
    "print(deepiv_estimate)"
   ]
  },
  {
   "cell_type": "markdown",
   "metadata": {},
   "source": [
    "### Metalearners"
   ]
  },
  {
   "cell_type": "code",
   "execution_count": 17,
   "metadata": {},
   "outputs": [
    {
     "name": "stderr",
     "output_type": "stream",
     "text": [
      "INFO:dowhy.causal_model:Model to find the causal effect of treatment ['v0'] on outcome ['y']\n",
      "WARNING:dowhy.causal_identifier:If this is observed data (not from a randomized experiment), there might always be missing confounders. Causal effect cannot be identified perfectly.\n",
      "INFO:dowhy.causal_identifier:Continuing by ignoring these unobserved confounders because proceed_when_unidentifiable flag is True.\n",
      "INFO:dowhy.causal_identifier:Instrumental variables for treatment and outcome:['Z1', 'Z0']\n",
      "INFO:dowhy.causal_identifier:Frontdoor variables for treatment and outcome:[]\n"
     ]
    },
    {
     "name": "stdout",
     "output_type": "stream",
     "text": [
      "            X0        X1        X2        X3   Z0        Z1  v0  y\n",
      "0    -0.464795  1.002648 -0.833063  0.356187  1.0  0.343335   1  1\n",
      "1     0.392936 -0.736792  0.657846 -0.066270  1.0  0.159672   1  1\n",
      "2    -3.647063  0.201819  0.087180 -0.020421  1.0  0.267230   1  0\n",
      "3    -2.053150  0.690551  1.109607 -0.273678  1.0  0.537687   1  1\n",
      "4     0.433543 -0.591914  0.817199 -0.784008  1.0  0.876465   1  1\n",
      "...        ...       ...       ...       ...  ...       ...  .. ..\n",
      "9995 -0.929409  1.328642  0.544286 -0.819403  0.0  0.139637   1  1\n",
      "9996 -1.049198  0.214327 -0.242168  0.637564  0.0  0.855527   1  1\n",
      "9997 -0.214810 -1.682216  2.302478 -0.801219  1.0  0.468263   1  1\n",
      "9998 -1.789588 -1.980676 -1.436301 -0.834215  0.0  0.706576   1  0\n",
      "9999 -0.372375  1.255655 -1.642403 -1.328467  0.0  0.605626   1  1\n",
      "\n",
      "[10000 rows x 8 columns]\n"
     ]
    }
   ],
   "source": [
    "data_experiment = dowhy.datasets.linear_dataset(10, num_common_causes=0, num_samples=10000,\n",
    "                                    num_instruments=2, num_effect_modifiers=4,\n",
    "                                    treatment_is_binary=True, outcome_is_binary=True)\n",
    "# convert boolean values to {0,1} numeric\n",
    "data_experiment['df'].v0 = data_experiment['df'].v0.astype(int)\n",
    "data_experiment['df'].y = data_experiment['df'].y.astype(int)\n",
    "print(data_experiment['df'])\n",
    "\n",
    "model_experiment = CausalModel(data=data_experiment[\"df\"], \n",
    "                    treatment=data_experiment[\"treatment_name\"], outcome=data_experiment[\"outcome_name\"], \n",
    "                    graph=data_experiment[\"gml_graph\"])\n",
    "identified_estimand_experiment = model_experiment.identify_effect(proceed_when_unidentifiable=True)"
   ]
  },
  {
   "cell_type": "code",
   "execution_count": 18,
   "metadata": {},
   "outputs": [
    {
     "name": "stderr",
     "output_type": "stream",
     "text": [
      "INFO:dowhy.causal_estimator:INFO: Using EconML Estimator\n",
      "INFO:dowhy.causal_estimator:b: y~v0+X2+X1+X3+X0 | X2,X3,X1,X0\n"
     ]
    },
    {
     "name": "stdout",
     "output_type": "stream",
     "text": [
      "*** Causal Estimate ***\n",
      "\n",
      "## Identified estimand\n",
      "Estimand type: nonparametric-ate\n",
      "\n",
      "## Realized estimand\n",
      "b: y~v0+X2+X1+X3+X0 | X2,X3,X1,X0\n",
      "Target units: Data subset defined by a function\n",
      "\n",
      "## Estimate\n",
      "Mean value: 0.0\n",
      "Effect estimates: [0. 0. 0. 0. 0. 0. 0. 0. 0. 0. 0. 0. 0. 0. 0. 0. 0. 0. 0. 0. 0. 0. 0. 0.\n",
      " 0. 0. 0. 0. 0. 0. 0. 0. 0. 0. 0. 0. 0. 0. 0. 0. 0. 0. 0. 0. 0. 0. 0. 0.\n",
      " 0. 0. 0. 0. 0. 0. 0. 0. 0. 0. 0. 0. 0. 0. 0. 0. 0. 0. 0. 0. 0. 0. 0. 0.\n",
      " 0. 0. 0. 0. 0. 0. 0. 0. 0. 0. 0. 0. 0. 0. 0. 0. 0. 0. 0. 0. 0. 0. 0. 0.\n",
      " 0. 0. 0. 0. 0. 0. 0. 0. 0. 0. 0. 0. 0. 0. 0. 0. 0. 0. 0. 0. 0. 0. 0. 0.\n",
      " 0. 0. 0. 0. 0. 0. 0. 0. 0. 0. 0. 0. 0. 0. 0. 0. 0. 0. 0. 0. 0. 0. 0. 0.\n",
      " 0. 0. 0. 0. 0. 0. 0. 0. 0. 0. 0. 0. 0. 0. 0. 0. 0. 0. 0. 0. 0. 0. 0. 0.\n",
      " 0. 0. 0. 0. 0. 0. 0. 0. 0. 0. 0. 0. 0. 0. 0. 0. 0. 0. 0. 0. 0. 0. 0. 0.\n",
      " 0. 0. 0. 0. 0. 0. 0. 0. 0. 0. 0. 0. 0. 0. 0. 0. 0. 0. 0. 0. 0. 0. 0. 0.\n",
      " 0. 0. 0. 0. 0. 0. 0. 0. 0. 0. 0. 0. 0. 0. 0. 0. 0. 0. 0. 0. 0. 0. 0. 0.\n",
      " 0. 0. 0. 0. 0. 0. 0. 0. 0. 0. 0. 0. 0. 0. 0. 0. 0. 0. 0. 0. 0. 0. 0. 0.\n",
      " 0. 0. 0. 0. 0. 0. 0. 0. 0. 0. 0. 0. 0. 0. 0. 0. 0. 0. 0. 0. 0. 0. 0. 0.\n",
      " 0. 0. 0. 0. 0. 0. 0. 0. 0. 0. 0. 0. 0. 0. 0. 0. 0. 0. 0. 0. 0. 0. 0. 0.\n",
      " 0. 0. 0. 0. 0. 0. 0. 0. 0. 0. 0. 0. 0. 0. 0. 0. 0. 0. 0. 0. 0. 0. 0. 0.\n",
      " 0. 0. 0. 0. 0. 0. 0. 0. 0. 0. 0. 0. 0. 0. 0. 0. 0. 0. 0. 0. 0. 0. 0. 0.\n",
      " 0. 0. 0. 0. 0. 0. 0. 0. 0. 0. 0. 0. 0. 0. 0. 0. 0. 0. 0. 0. 0. 0. 0. 0.\n",
      " 0. 0. 0. 0. 0. 0. 0. 0. 0. 0. 0. 0. 0. 0. 0. 0. 0. 0. 0. 0. 0. 0. 0. 0.\n",
      " 0. 0. 0. 0. 0. 0. 0. 0. 0. 0. 0. 0. 0. 0. 0. 0. 0. 0. 0. 0. 0. 0. 0. 0.\n",
      " 0.]\n",
      "\n"
     ]
    }
   ],
   "source": [
    "from sklearn.linear_model import LogisticRegressionCV\n",
    "metalearner_estimate = model_experiment.estimate_effect(identified_estimand_experiment, \n",
    "                                method_name=\"backdoor.econml.metalearners.TLearner\",\n",
    "                                target_units = lambda df: df[\"X0\"]>1, \n",
    "                                confidence_intervals=False,\n",
    "                                method_params={\"init_params\":{\n",
    "                                                    'models': LogisticRegressionCV(cv=3, solver='lbfgs', multi_class='auto')\n",
    "                                                    },\n",
    "                                               \"fit_params\":{}\n",
    "                                              })\n",
    "print(metalearner_estimate)"
   ]
  },
  {
   "cell_type": "markdown",
   "metadata": {},
   "source": [
    "## Refuting the estimate"
   ]
  },
  {
   "cell_type": "markdown",
   "metadata": {},
   "source": [
    "### Random "
   ]
  },
  {
   "cell_type": "code",
   "execution_count": 19,
   "metadata": {},
   "outputs": [
    {
     "name": "stderr",
     "output_type": "stream",
     "text": [
      "INFO:dowhy.causal_estimator:INFO: Using EconML Estimator\n",
      "INFO:dowhy.causal_estimator:b: y~v0+W0+X1+W3+W2+W1+X0 | X1,X0\n"
     ]
    },
    {
     "name": "stdout",
     "output_type": "stream",
     "text": [
      "Refute: Add a Random Common Cause\n",
      "Estimated effect:13.296334356793176\n",
      "New effect:13.358289702983607\n",
      "\n"
     ]
    }
   ],
   "source": [
    "res_random=model.refute_estimate(identified_estimand, dml_estimate, method_name=\"random_common_cause\")\n",
    "print(res_random)"
   ]
  },
  {
   "cell_type": "markdown",
   "metadata": {},
   "source": [
    "### Adding an unobserved common cause variable"
   ]
  },
  {
   "cell_type": "code",
   "execution_count": 20,
   "metadata": {},
   "outputs": [
    {
     "name": "stderr",
     "output_type": "stream",
     "text": [
      "INFO:dowhy.causal_estimator:INFO: Using EconML Estimator\n",
      "INFO:dowhy.causal_estimator:b: y~v0+W0+X1+W3+W2+W1+X0 | X1,X0\n"
     ]
    },
    {
     "name": "stdout",
     "output_type": "stream",
     "text": [
      "Refute: Add an Unobserved Common Cause\n",
      "Estimated effect:13.296334356793176\n",
      "New effect:13.324428024823797\n",
      "\n"
     ]
    }
   ],
   "source": [
    "res_unobserved=model.refute_estimate(identified_estimand, dml_estimate, method_name=\"add_unobserved_common_cause\",\n",
    "                                     confounders_effect_on_treatment=\"linear\", confounders_effect_on_outcome=\"linear\",\n",
    "                                    effect_strength_on_treatment=0.01, effect_strength_on_outcome=0.02)\n",
    "print(res_unobserved)"
   ]
  },
  {
   "cell_type": "markdown",
   "metadata": {},
   "source": [
    "### Replacing treatment with a random (placebo) variable"
   ]
  },
  {
   "cell_type": "code",
   "execution_count": 21,
   "metadata": {},
   "outputs": [
    {
     "name": "stderr",
     "output_type": "stream",
     "text": [
      "INFO:dowhy.causal_refuters.placebo_treatment_refuter:Refutation over 100 simulated datasets of permute treatment\n",
      "INFO:dowhy.causal_estimator:INFO: Using EconML Estimator\n",
      "INFO:dowhy.causal_estimator:b: y~placebo+W0+X1+W3+W2+W1+X0 | X1,X0\n",
      "INFO:dowhy.causal_estimator:INFO: Using EconML Estimator\n",
      "INFO:dowhy.causal_estimator:b: y~placebo+W0+X1+W3+W2+W1+X0 | X1,X0\n",
      "INFO:dowhy.causal_estimator:INFO: Using EconML Estimator\n",
      "INFO:dowhy.causal_estimator:b: y~placebo+W0+X1+W3+W2+W1+X0 | X1,X0\n",
      "INFO:dowhy.causal_estimator:INFO: Using EconML Estimator\n",
      "INFO:dowhy.causal_estimator:b: y~placebo+W0+X1+W3+W2+W1+X0 | X1,X0\n",
      "INFO:dowhy.causal_estimator:INFO: Using EconML Estimator\n",
      "INFO:dowhy.causal_estimator:b: y~placebo+W0+X1+W3+W2+W1+X0 | X1,X0\n",
      "INFO:dowhy.causal_estimator:INFO: Using EconML Estimator\n",
      "INFO:dowhy.causal_estimator:b: y~placebo+W0+X1+W3+W2+W1+X0 | X1,X0\n",
      "INFO:dowhy.causal_estimator:INFO: Using EconML Estimator\n",
      "INFO:dowhy.causal_estimator:b: y~placebo+W0+X1+W3+W2+W1+X0 | X1,X0\n",
      "INFO:dowhy.causal_estimator:INFO: Using EconML Estimator\n",
      "INFO:dowhy.causal_estimator:b: y~placebo+W0+X1+W3+W2+W1+X0 | X1,X0\n",
      "INFO:dowhy.causal_estimator:INFO: Using EconML Estimator\n",
      "INFO:dowhy.causal_estimator:b: y~placebo+W0+X1+W3+W2+W1+X0 | X1,X0\n",
      "INFO:dowhy.causal_estimator:INFO: Using EconML Estimator\n",
      "INFO:dowhy.causal_estimator:b: y~placebo+W0+X1+W3+W2+W1+X0 | X1,X0\n",
      "INFO:dowhy.causal_estimator:INFO: Using EconML Estimator\n",
      "INFO:dowhy.causal_estimator:b: y~placebo+W0+X1+W3+W2+W1+X0 | X1,X0\n",
      "INFO:dowhy.causal_estimator:INFO: Using EconML Estimator\n",
      "INFO:dowhy.causal_estimator:b: y~placebo+W0+X1+W3+W2+W1+X0 | X1,X0\n",
      "INFO:dowhy.causal_estimator:INFO: Using EconML Estimator\n",
      "INFO:dowhy.causal_estimator:b: y~placebo+W0+X1+W3+W2+W1+X0 | X1,X0\n",
      "INFO:dowhy.causal_estimator:INFO: Using EconML Estimator\n",
      "INFO:dowhy.causal_estimator:b: y~placebo+W0+X1+W3+W2+W1+X0 | X1,X0\n",
      "INFO:dowhy.causal_estimator:INFO: Using EconML Estimator\n",
      "INFO:dowhy.causal_estimator:b: y~placebo+W0+X1+W3+W2+W1+X0 | X1,X0\n",
      "INFO:dowhy.causal_estimator:INFO: Using EconML Estimator\n",
      "INFO:dowhy.causal_estimator:b: y~placebo+W0+X1+W3+W2+W1+X0 | X1,X0\n",
      "INFO:dowhy.causal_estimator:INFO: Using EconML Estimator\n",
      "INFO:dowhy.causal_estimator:b: y~placebo+W0+X1+W3+W2+W1+X0 | X1,X0\n",
      "INFO:dowhy.causal_estimator:INFO: Using EconML Estimator\n",
      "INFO:dowhy.causal_estimator:b: y~placebo+W0+X1+W3+W2+W1+X0 | X1,X0\n",
      "INFO:dowhy.causal_estimator:INFO: Using EconML Estimator\n",
      "INFO:dowhy.causal_estimator:b: y~placebo+W0+X1+W3+W2+W1+X0 | X1,X0\n",
      "INFO:dowhy.causal_estimator:INFO: Using EconML Estimator\n",
      "INFO:dowhy.causal_estimator:b: y~placebo+W0+X1+W3+W2+W1+X0 | X1,X0\n",
      "INFO:dowhy.causal_estimator:INFO: Using EconML Estimator\n",
      "INFO:dowhy.causal_estimator:b: y~placebo+W0+X1+W3+W2+W1+X0 | X1,X0\n",
      "INFO:dowhy.causal_estimator:INFO: Using EconML Estimator\n",
      "INFO:dowhy.causal_estimator:b: y~placebo+W0+X1+W3+W2+W1+X0 | X1,X0\n",
      "INFO:dowhy.causal_estimator:INFO: Using EconML Estimator\n",
      "INFO:dowhy.causal_estimator:b: y~placebo+W0+X1+W3+W2+W1+X0 | X1,X0\n",
      "INFO:dowhy.causal_estimator:INFO: Using EconML Estimator\n",
      "INFO:dowhy.causal_estimator:b: y~placebo+W0+X1+W3+W2+W1+X0 | X1,X0\n",
      "INFO:dowhy.causal_estimator:INFO: Using EconML Estimator\n",
      "INFO:dowhy.causal_estimator:b: y~placebo+W0+X1+W3+W2+W1+X0 | X1,X0\n",
      "INFO:dowhy.causal_estimator:INFO: Using EconML Estimator\n",
      "INFO:dowhy.causal_estimator:b: y~placebo+W0+X1+W3+W2+W1+X0 | X1,X0\n",
      "INFO:dowhy.causal_estimator:INFO: Using EconML Estimator\n",
      "INFO:dowhy.causal_estimator:b: y~placebo+W0+X1+W3+W2+W1+X0 | X1,X0\n",
      "INFO:dowhy.causal_estimator:INFO: Using EconML Estimator\n",
      "INFO:dowhy.causal_estimator:b: y~placebo+W0+X1+W3+W2+W1+X0 | X1,X0\n",
      "INFO:dowhy.causal_estimator:INFO: Using EconML Estimator\n",
      "INFO:dowhy.causal_estimator:b: y~placebo+W0+X1+W3+W2+W1+X0 | X1,X0\n",
      "INFO:dowhy.causal_estimator:INFO: Using EconML Estimator\n",
      "INFO:dowhy.causal_estimator:b: y~placebo+W0+X1+W3+W2+W1+X0 | X1,X0\n",
      "INFO:dowhy.causal_estimator:INFO: Using EconML Estimator\n",
      "INFO:dowhy.causal_estimator:b: y~placebo+W0+X1+W3+W2+W1+X0 | X1,X0\n",
      "INFO:dowhy.causal_estimator:INFO: Using EconML Estimator\n",
      "INFO:dowhy.causal_estimator:b: y~placebo+W0+X1+W3+W2+W1+X0 | X1,X0\n",
      "INFO:dowhy.causal_estimator:INFO: Using EconML Estimator\n",
      "INFO:dowhy.causal_estimator:b: y~placebo+W0+X1+W3+W2+W1+X0 | X1,X0\n",
      "INFO:dowhy.causal_estimator:INFO: Using EconML Estimator\n",
      "INFO:dowhy.causal_estimator:b: y~placebo+W0+X1+W3+W2+W1+X0 | X1,X0\n",
      "INFO:dowhy.causal_estimator:INFO: Using EconML Estimator\n",
      "INFO:dowhy.causal_estimator:b: y~placebo+W0+X1+W3+W2+W1+X0 | X1,X0\n",
      "INFO:dowhy.causal_estimator:INFO: Using EconML Estimator\n",
      "INFO:dowhy.causal_estimator:b: y~placebo+W0+X1+W3+W2+W1+X0 | X1,X0\n",
      "INFO:dowhy.causal_estimator:INFO: Using EconML Estimator\n",
      "INFO:dowhy.causal_estimator:b: y~placebo+W0+X1+W3+W2+W1+X0 | X1,X0\n",
      "INFO:dowhy.causal_estimator:INFO: Using EconML Estimator\n",
      "INFO:dowhy.causal_estimator:b: y~placebo+W0+X1+W3+W2+W1+X0 | X1,X0\n",
      "INFO:dowhy.causal_estimator:INFO: Using EconML Estimator\n",
      "INFO:dowhy.causal_estimator:b: y~placebo+W0+X1+W3+W2+W1+X0 | X1,X0\n",
      "INFO:dowhy.causal_estimator:INFO: Using EconML Estimator\n",
      "INFO:dowhy.causal_estimator:b: y~placebo+W0+X1+W3+W2+W1+X0 | X1,X0\n",
      "INFO:dowhy.causal_estimator:INFO: Using EconML Estimator\n",
      "INFO:dowhy.causal_estimator:b: y~placebo+W0+X1+W3+W2+W1+X0 | X1,X0\n",
      "INFO:dowhy.causal_estimator:INFO: Using EconML Estimator\n",
      "INFO:dowhy.causal_estimator:b: y~placebo+W0+X1+W3+W2+W1+X0 | X1,X0\n",
      "INFO:dowhy.causal_estimator:INFO: Using EconML Estimator\n",
      "INFO:dowhy.causal_estimator:b: y~placebo+W0+X1+W3+W2+W1+X0 | X1,X0\n",
      "INFO:dowhy.causal_estimator:INFO: Using EconML Estimator\n",
      "INFO:dowhy.causal_estimator:b: y~placebo+W0+X1+W3+W2+W1+X0 | X1,X0\n",
      "INFO:dowhy.causal_estimator:INFO: Using EconML Estimator\n",
      "INFO:dowhy.causal_estimator:b: y~placebo+W0+X1+W3+W2+W1+X0 | X1,X0\n",
      "INFO:dowhy.causal_estimator:INFO: Using EconML Estimator\n",
      "INFO:dowhy.causal_estimator:b: y~placebo+W0+X1+W3+W2+W1+X0 | X1,X0\n",
      "INFO:dowhy.causal_estimator:INFO: Using EconML Estimator\n",
      "INFO:dowhy.causal_estimator:b: y~placebo+W0+X1+W3+W2+W1+X0 | X1,X0\n",
      "INFO:dowhy.causal_estimator:INFO: Using EconML Estimator\n",
      "INFO:dowhy.causal_estimator:b: y~placebo+W0+X1+W3+W2+W1+X0 | X1,X0\n",
      "INFO:dowhy.causal_estimator:INFO: Using EconML Estimator\n",
      "INFO:dowhy.causal_estimator:b: y~placebo+W0+X1+W3+W2+W1+X0 | X1,X0\n",
      "INFO:dowhy.causal_estimator:INFO: Using EconML Estimator\n",
      "INFO:dowhy.causal_estimator:b: y~placebo+W0+X1+W3+W2+W1+X0 | X1,X0\n",
      "INFO:dowhy.causal_estimator:INFO: Using EconML Estimator\n",
      "INFO:dowhy.causal_estimator:b: y~placebo+W0+X1+W3+W2+W1+X0 | X1,X0\n",
      "INFO:dowhy.causal_estimator:INFO: Using EconML Estimator\n",
      "INFO:dowhy.causal_estimator:b: y~placebo+W0+X1+W3+W2+W1+X0 | X1,X0\n",
      "INFO:dowhy.causal_estimator:INFO: Using EconML Estimator\n",
      "INFO:dowhy.causal_estimator:b: y~placebo+W0+X1+W3+W2+W1+X0 | X1,X0\n",
      "INFO:dowhy.causal_estimator:INFO: Using EconML Estimator\n",
      "INFO:dowhy.causal_estimator:b: y~placebo+W0+X1+W3+W2+W1+X0 | X1,X0\n",
      "INFO:dowhy.causal_estimator:INFO: Using EconML Estimator\n",
      "INFO:dowhy.causal_estimator:b: y~placebo+W0+X1+W3+W2+W1+X0 | X1,X0\n",
      "INFO:dowhy.causal_estimator:INFO: Using EconML Estimator\n",
      "INFO:dowhy.causal_estimator:b: y~placebo+W0+X1+W3+W2+W1+X0 | X1,X0\n",
      "INFO:dowhy.causal_estimator:INFO: Using EconML Estimator\n",
      "INFO:dowhy.causal_estimator:b: y~placebo+W0+X1+W3+W2+W1+X0 | X1,X0\n",
      "INFO:dowhy.causal_estimator:INFO: Using EconML Estimator\n",
      "INFO:dowhy.causal_estimator:b: y~placebo+W0+X1+W3+W2+W1+X0 | X1,X0\n",
      "INFO:dowhy.causal_estimator:INFO: Using EconML Estimator\n",
      "INFO:dowhy.causal_estimator:b: y~placebo+W0+X1+W3+W2+W1+X0 | X1,X0\n",
      "INFO:dowhy.causal_estimator:INFO: Using EconML Estimator\n",
      "INFO:dowhy.causal_estimator:b: y~placebo+W0+X1+W3+W2+W1+X0 | X1,X0\n",
      "INFO:dowhy.causal_estimator:INFO: Using EconML Estimator\n",
      "INFO:dowhy.causal_estimator:b: y~placebo+W0+X1+W3+W2+W1+X0 | X1,X0\n",
      "INFO:dowhy.causal_estimator:INFO: Using EconML Estimator\n",
      "INFO:dowhy.causal_estimator:b: y~placebo+W0+X1+W3+W2+W1+X0 | X1,X0\n",
      "INFO:dowhy.causal_estimator:INFO: Using EconML Estimator\n",
      "INFO:dowhy.causal_estimator:b: y~placebo+W0+X1+W3+W2+W1+X0 | X1,X0\n",
      "INFO:dowhy.causal_estimator:INFO: Using EconML Estimator\n",
      "INFO:dowhy.causal_estimator:b: y~placebo+W0+X1+W3+W2+W1+X0 | X1,X0\n",
      "INFO:dowhy.causal_estimator:INFO: Using EconML Estimator\n",
      "INFO:dowhy.causal_estimator:b: y~placebo+W0+X1+W3+W2+W1+X0 | X1,X0\n",
      "INFO:dowhy.causal_estimator:INFO: Using EconML Estimator\n"
     ]
    },
    {
     "name": "stderr",
     "output_type": "stream",
     "text": [
      "INFO:dowhy.causal_estimator:b: y~placebo+W0+X1+W3+W2+W1+X0 | X1,X0\n",
      "INFO:dowhy.causal_estimator:INFO: Using EconML Estimator\n",
      "INFO:dowhy.causal_estimator:b: y~placebo+W0+X1+W3+W2+W1+X0 | X1,X0\n",
      "INFO:dowhy.causal_estimator:INFO: Using EconML Estimator\n",
      "INFO:dowhy.causal_estimator:b: y~placebo+W0+X1+W3+W2+W1+X0 | X1,X0\n",
      "INFO:dowhy.causal_estimator:INFO: Using EconML Estimator\n",
      "INFO:dowhy.causal_estimator:b: y~placebo+W0+X1+W3+W2+W1+X0 | X1,X0\n",
      "INFO:dowhy.causal_estimator:INFO: Using EconML Estimator\n",
      "INFO:dowhy.causal_estimator:b: y~placebo+W0+X1+W3+W2+W1+X0 | X1,X0\n",
      "INFO:dowhy.causal_estimator:INFO: Using EconML Estimator\n",
      "INFO:dowhy.causal_estimator:b: y~placebo+W0+X1+W3+W2+W1+X0 | X1,X0\n",
      "INFO:dowhy.causal_estimator:INFO: Using EconML Estimator\n",
      "INFO:dowhy.causal_estimator:b: y~placebo+W0+X1+W3+W2+W1+X0 | X1,X0\n",
      "INFO:dowhy.causal_estimator:INFO: Using EconML Estimator\n",
      "INFO:dowhy.causal_estimator:b: y~placebo+W0+X1+W3+W2+W1+X0 | X1,X0\n",
      "INFO:dowhy.causal_estimator:INFO: Using EconML Estimator\n",
      "INFO:dowhy.causal_estimator:b: y~placebo+W0+X1+W3+W2+W1+X0 | X1,X0\n",
      "INFO:dowhy.causal_estimator:INFO: Using EconML Estimator\n",
      "INFO:dowhy.causal_estimator:b: y~placebo+W0+X1+W3+W2+W1+X0 | X1,X0\n",
      "INFO:dowhy.causal_estimator:INFO: Using EconML Estimator\n",
      "INFO:dowhy.causal_estimator:b: y~placebo+W0+X1+W3+W2+W1+X0 | X1,X0\n",
      "INFO:dowhy.causal_estimator:INFO: Using EconML Estimator\n",
      "INFO:dowhy.causal_estimator:b: y~placebo+W0+X1+W3+W2+W1+X0 | X1,X0\n",
      "INFO:dowhy.causal_estimator:INFO: Using EconML Estimator\n",
      "INFO:dowhy.causal_estimator:b: y~placebo+W0+X1+W3+W2+W1+X0 | X1,X0\n",
      "INFO:dowhy.causal_estimator:INFO: Using EconML Estimator\n",
      "INFO:dowhy.causal_estimator:b: y~placebo+W0+X1+W3+W2+W1+X0 | X1,X0\n",
      "INFO:dowhy.causal_estimator:INFO: Using EconML Estimator\n",
      "INFO:dowhy.causal_estimator:b: y~placebo+W0+X1+W3+W2+W1+X0 | X1,X0\n",
      "INFO:dowhy.causal_estimator:INFO: Using EconML Estimator\n",
      "INFO:dowhy.causal_estimator:b: y~placebo+W0+X1+W3+W2+W1+X0 | X1,X0\n",
      "INFO:dowhy.causal_estimator:INFO: Using EconML Estimator\n",
      "INFO:dowhy.causal_estimator:b: y~placebo+W0+X1+W3+W2+W1+X0 | X1,X0\n",
      "INFO:dowhy.causal_estimator:INFO: Using EconML Estimator\n",
      "INFO:dowhy.causal_estimator:b: y~placebo+W0+X1+W3+W2+W1+X0 | X1,X0\n",
      "INFO:dowhy.causal_estimator:INFO: Using EconML Estimator\n",
      "INFO:dowhy.causal_estimator:b: y~placebo+W0+X1+W3+W2+W1+X0 | X1,X0\n",
      "INFO:dowhy.causal_estimator:INFO: Using EconML Estimator\n",
      "INFO:dowhy.causal_estimator:b: y~placebo+W0+X1+W3+W2+W1+X0 | X1,X0\n",
      "INFO:dowhy.causal_estimator:INFO: Using EconML Estimator\n",
      "INFO:dowhy.causal_estimator:b: y~placebo+W0+X1+W3+W2+W1+X0 | X1,X0\n",
      "INFO:dowhy.causal_estimator:INFO: Using EconML Estimator\n",
      "INFO:dowhy.causal_estimator:b: y~placebo+W0+X1+W3+W2+W1+X0 | X1,X0\n",
      "INFO:dowhy.causal_estimator:INFO: Using EconML Estimator\n",
      "INFO:dowhy.causal_estimator:b: y~placebo+W0+X1+W3+W2+W1+X0 | X1,X0\n",
      "INFO:dowhy.causal_estimator:INFO: Using EconML Estimator\n",
      "INFO:dowhy.causal_estimator:b: y~placebo+W0+X1+W3+W2+W1+X0 | X1,X0\n",
      "INFO:dowhy.causal_estimator:INFO: Using EconML Estimator\n",
      "INFO:dowhy.causal_estimator:b: y~placebo+W0+X1+W3+W2+W1+X0 | X1,X0\n",
      "INFO:dowhy.causal_estimator:INFO: Using EconML Estimator\n",
      "INFO:dowhy.causal_estimator:b: y~placebo+W0+X1+W3+W2+W1+X0 | X1,X0\n",
      "INFO:dowhy.causal_estimator:INFO: Using EconML Estimator\n",
      "INFO:dowhy.causal_estimator:b: y~placebo+W0+X1+W3+W2+W1+X0 | X1,X0\n",
      "INFO:dowhy.causal_estimator:INFO: Using EconML Estimator\n",
      "INFO:dowhy.causal_estimator:b: y~placebo+W0+X1+W3+W2+W1+X0 | X1,X0\n",
      "INFO:dowhy.causal_estimator:INFO: Using EconML Estimator\n",
      "INFO:dowhy.causal_estimator:b: y~placebo+W0+X1+W3+W2+W1+X0 | X1,X0\n",
      "INFO:dowhy.causal_estimator:INFO: Using EconML Estimator\n",
      "INFO:dowhy.causal_estimator:b: y~placebo+W0+X1+W3+W2+W1+X0 | X1,X0\n",
      "INFO:dowhy.causal_estimator:INFO: Using EconML Estimator\n",
      "INFO:dowhy.causal_estimator:b: y~placebo+W0+X1+W3+W2+W1+X0 | X1,X0\n",
      "INFO:dowhy.causal_estimator:INFO: Using EconML Estimator\n",
      "INFO:dowhy.causal_estimator:b: y~placebo+W0+X1+W3+W2+W1+X0 | X1,X0\n",
      "INFO:dowhy.causal_estimator:INFO: Using EconML Estimator\n",
      "INFO:dowhy.causal_estimator:b: y~placebo+W0+X1+W3+W2+W1+X0 | X1,X0\n",
      "INFO:dowhy.causal_estimator:INFO: Using EconML Estimator\n",
      "INFO:dowhy.causal_estimator:b: y~placebo+W0+X1+W3+W2+W1+X0 | X1,X0\n",
      "INFO:dowhy.causal_estimator:INFO: Using EconML Estimator\n",
      "INFO:dowhy.causal_estimator:b: y~placebo+W0+X1+W3+W2+W1+X0 | X1,X0\n",
      "INFO:dowhy.causal_refuters.placebo_treatment_refuter:Making use of Bootstrap as we have more than 100 examples.\n",
      "                 Note: The greater the number of examples, the more accurate are the confidence estimates\n"
     ]
    },
    {
     "name": "stdout",
     "output_type": "stream",
     "text": [
      "Refute: Use a Placebo Treatment\n",
      "Estimated effect:13.296334356793176\n",
      "New effect:0.013601470163468696\n",
      "p value:0.71\n",
      "\n"
     ]
    }
   ],
   "source": [
    "res_placebo=model.refute_estimate(identified_estimand, dml_estimate,\n",
    "        method_name=\"placebo_treatment_refuter\", placebo_type=\"permute\")\n",
    "print(res_placebo)"
   ]
  },
  {
   "cell_type": "markdown",
   "metadata": {},
   "source": [
    "### Removing a random subset of the data"
   ]
  },
  {
   "cell_type": "code",
   "execution_count": 22,
   "metadata": {},
   "outputs": [
    {
     "name": "stderr",
     "output_type": "stream",
     "text": [
      "INFO:dowhy.causal_refuters.data_subset_refuter:Refutation over 0.8 simulated datasets of size 8000.0 each\n",
      "INFO:dowhy.causal_estimator:INFO: Using EconML Estimator\n",
      "INFO:dowhy.causal_estimator:b: y~v0+W0+X1+W3+W2+W1+X0 | X1,X0\n",
      "INFO:dowhy.causal_estimator:INFO: Using EconML Estimator\n",
      "INFO:dowhy.causal_estimator:b: y~v0+W0+X1+W3+W2+W1+X0 | X1,X0\n",
      "INFO:dowhy.causal_estimator:INFO: Using EconML Estimator\n",
      "INFO:dowhy.causal_estimator:b: y~v0+W0+X1+W3+W2+W1+X0 | X1,X0\n",
      "INFO:dowhy.causal_estimator:INFO: Using EconML Estimator\n",
      "INFO:dowhy.causal_estimator:b: y~v0+W0+X1+W3+W2+W1+X0 | X1,X0\n",
      "INFO:dowhy.causal_estimator:INFO: Using EconML Estimator\n",
      "INFO:dowhy.causal_estimator:b: y~v0+W0+X1+W3+W2+W1+X0 | X1,X0\n",
      "INFO:dowhy.causal_estimator:INFO: Using EconML Estimator\n",
      "INFO:dowhy.causal_estimator:b: y~v0+W0+X1+W3+W2+W1+X0 | X1,X0\n",
      "INFO:dowhy.causal_estimator:INFO: Using EconML Estimator\n",
      "INFO:dowhy.causal_estimator:b: y~v0+W0+X1+W3+W2+W1+X0 | X1,X0\n",
      "INFO:dowhy.causal_estimator:INFO: Using EconML Estimator\n",
      "INFO:dowhy.causal_estimator:b: y~v0+W0+X1+W3+W2+W1+X0 | X1,X0\n",
      "INFO:dowhy.causal_estimator:INFO: Using EconML Estimator\n",
      "INFO:dowhy.causal_estimator:b: y~v0+W0+X1+W3+W2+W1+X0 | X1,X0\n",
      "INFO:dowhy.causal_estimator:INFO: Using EconML Estimator\n",
      "INFO:dowhy.causal_estimator:b: y~v0+W0+X1+W3+W2+W1+X0 | X1,X0\n",
      "INFO:dowhy.causal_estimator:INFO: Using EconML Estimator\n",
      "INFO:dowhy.causal_estimator:b: y~v0+W0+X1+W3+W2+W1+X0 | X1,X0\n",
      "INFO:dowhy.causal_estimator:INFO: Using EconML Estimator\n",
      "INFO:dowhy.causal_estimator:b: y~v0+W0+X1+W3+W2+W1+X0 | X1,X0\n",
      "INFO:dowhy.causal_estimator:INFO: Using EconML Estimator\n",
      "INFO:dowhy.causal_estimator:b: y~v0+W0+X1+W3+W2+W1+X0 | X1,X0\n",
      "INFO:dowhy.causal_estimator:INFO: Using EconML Estimator\n",
      "INFO:dowhy.causal_estimator:b: y~v0+W0+X1+W3+W2+W1+X0 | X1,X0\n",
      "INFO:dowhy.causal_estimator:INFO: Using EconML Estimator\n",
      "INFO:dowhy.causal_estimator:b: y~v0+W0+X1+W3+W2+W1+X0 | X1,X0\n",
      "INFO:dowhy.causal_estimator:INFO: Using EconML Estimator\n",
      "INFO:dowhy.causal_estimator:b: y~v0+W0+X1+W3+W2+W1+X0 | X1,X0\n",
      "INFO:dowhy.causal_estimator:INFO: Using EconML Estimator\n",
      "INFO:dowhy.causal_estimator:b: y~v0+W0+X1+W3+W2+W1+X0 | X1,X0\n",
      "INFO:dowhy.causal_estimator:INFO: Using EconML Estimator\n",
      "INFO:dowhy.causal_estimator:b: y~v0+W0+X1+W3+W2+W1+X0 | X1,X0\n",
      "INFO:dowhy.causal_estimator:INFO: Using EconML Estimator\n",
      "INFO:dowhy.causal_estimator:b: y~v0+W0+X1+W3+W2+W1+X0 | X1,X0\n",
      "INFO:dowhy.causal_estimator:INFO: Using EconML Estimator\n",
      "INFO:dowhy.causal_estimator:b: y~v0+W0+X1+W3+W2+W1+X0 | X1,X0\n",
      "INFO:dowhy.causal_estimator:INFO: Using EconML Estimator\n",
      "INFO:dowhy.causal_estimator:b: y~v0+W0+X1+W3+W2+W1+X0 | X1,X0\n",
      "INFO:dowhy.causal_estimator:INFO: Using EconML Estimator\n",
      "INFO:dowhy.causal_estimator:b: y~v0+W0+X1+W3+W2+W1+X0 | X1,X0\n",
      "INFO:dowhy.causal_estimator:INFO: Using EconML Estimator\n",
      "INFO:dowhy.causal_estimator:b: y~v0+W0+X1+W3+W2+W1+X0 | X1,X0\n",
      "INFO:dowhy.causal_estimator:INFO: Using EconML Estimator\n",
      "INFO:dowhy.causal_estimator:b: y~v0+W0+X1+W3+W2+W1+X0 | X1,X0\n",
      "INFO:dowhy.causal_estimator:INFO: Using EconML Estimator\n",
      "INFO:dowhy.causal_estimator:b: y~v0+W0+X1+W3+W2+W1+X0 | X1,X0\n",
      "INFO:dowhy.causal_estimator:INFO: Using EconML Estimator\n",
      "INFO:dowhy.causal_estimator:b: y~v0+W0+X1+W3+W2+W1+X0 | X1,X0\n",
      "INFO:dowhy.causal_estimator:INFO: Using EconML Estimator\n",
      "INFO:dowhy.causal_estimator:b: y~v0+W0+X1+W3+W2+W1+X0 | X1,X0\n",
      "INFO:dowhy.causal_estimator:INFO: Using EconML Estimator\n",
      "INFO:dowhy.causal_estimator:b: y~v0+W0+X1+W3+W2+W1+X0 | X1,X0\n",
      "INFO:dowhy.causal_estimator:INFO: Using EconML Estimator\n",
      "INFO:dowhy.causal_estimator:b: y~v0+W0+X1+W3+W2+W1+X0 | X1,X0\n",
      "INFO:dowhy.causal_estimator:INFO: Using EconML Estimator\n",
      "INFO:dowhy.causal_estimator:b: y~v0+W0+X1+W3+W2+W1+X0 | X1,X0\n",
      "INFO:dowhy.causal_estimator:INFO: Using EconML Estimator\n",
      "INFO:dowhy.causal_estimator:b: y~v0+W0+X1+W3+W2+W1+X0 | X1,X0\n",
      "INFO:dowhy.causal_estimator:INFO: Using EconML Estimator\n",
      "INFO:dowhy.causal_estimator:b: y~v0+W0+X1+W3+W2+W1+X0 | X1,X0\n",
      "INFO:dowhy.causal_estimator:INFO: Using EconML Estimator\n",
      "INFO:dowhy.causal_estimator:b: y~v0+W0+X1+W3+W2+W1+X0 | X1,X0\n",
      "INFO:dowhy.causal_estimator:INFO: Using EconML Estimator\n",
      "INFO:dowhy.causal_estimator:b: y~v0+W0+X1+W3+W2+W1+X0 | X1,X0\n",
      "INFO:dowhy.causal_estimator:INFO: Using EconML Estimator\n",
      "INFO:dowhy.causal_estimator:b: y~v0+W0+X1+W3+W2+W1+X0 | X1,X0\n",
      "INFO:dowhy.causal_estimator:INFO: Using EconML Estimator\n",
      "INFO:dowhy.causal_estimator:b: y~v0+W0+X1+W3+W2+W1+X0 | X1,X0\n",
      "INFO:dowhy.causal_estimator:INFO: Using EconML Estimator\n",
      "INFO:dowhy.causal_estimator:b: y~v0+W0+X1+W3+W2+W1+X0 | X1,X0\n",
      "INFO:dowhy.causal_estimator:INFO: Using EconML Estimator\n",
      "INFO:dowhy.causal_estimator:b: y~v0+W0+X1+W3+W2+W1+X0 | X1,X0\n",
      "INFO:dowhy.causal_estimator:INFO: Using EconML Estimator\n",
      "INFO:dowhy.causal_estimator:b: y~v0+W0+X1+W3+W2+W1+X0 | X1,X0\n",
      "INFO:dowhy.causal_estimator:INFO: Using EconML Estimator\n",
      "INFO:dowhy.causal_estimator:b: y~v0+W0+X1+W3+W2+W1+X0 | X1,X0\n",
      "INFO:dowhy.causal_estimator:INFO: Using EconML Estimator\n",
      "INFO:dowhy.causal_estimator:b: y~v0+W0+X1+W3+W2+W1+X0 | X1,X0\n",
      "INFO:dowhy.causal_estimator:INFO: Using EconML Estimator\n",
      "INFO:dowhy.causal_estimator:b: y~v0+W0+X1+W3+W2+W1+X0 | X1,X0\n",
      "INFO:dowhy.causal_estimator:INFO: Using EconML Estimator\n",
      "INFO:dowhy.causal_estimator:b: y~v0+W0+X1+W3+W2+W1+X0 | X1,X0\n",
      "INFO:dowhy.causal_estimator:INFO: Using EconML Estimator\n",
      "INFO:dowhy.causal_estimator:b: y~v0+W0+X1+W3+W2+W1+X0 | X1,X0\n",
      "INFO:dowhy.causal_estimator:INFO: Using EconML Estimator\n",
      "INFO:dowhy.causal_estimator:b: y~v0+W0+X1+W3+W2+W1+X0 | X1,X0\n",
      "INFO:dowhy.causal_estimator:INFO: Using EconML Estimator\n",
      "INFO:dowhy.causal_estimator:b: y~v0+W0+X1+W3+W2+W1+X0 | X1,X0\n",
      "INFO:dowhy.causal_estimator:INFO: Using EconML Estimator\n",
      "INFO:dowhy.causal_estimator:b: y~v0+W0+X1+W3+W2+W1+X0 | X1,X0\n",
      "INFO:dowhy.causal_estimator:INFO: Using EconML Estimator\n",
      "INFO:dowhy.causal_estimator:b: y~v0+W0+X1+W3+W2+W1+X0 | X1,X0\n",
      "INFO:dowhy.causal_estimator:INFO: Using EconML Estimator\n",
      "INFO:dowhy.causal_estimator:b: y~v0+W0+X1+W3+W2+W1+X0 | X1,X0\n",
      "INFO:dowhy.causal_estimator:INFO: Using EconML Estimator\n",
      "INFO:dowhy.causal_estimator:b: y~v0+W0+X1+W3+W2+W1+X0 | X1,X0\n",
      "INFO:dowhy.causal_estimator:INFO: Using EconML Estimator\n",
      "INFO:dowhy.causal_estimator:b: y~v0+W0+X1+W3+W2+W1+X0 | X1,X0\n",
      "INFO:dowhy.causal_estimator:INFO: Using EconML Estimator\n",
      "INFO:dowhy.causal_estimator:b: y~v0+W0+X1+W3+W2+W1+X0 | X1,X0\n",
      "INFO:dowhy.causal_estimator:INFO: Using EconML Estimator\n",
      "INFO:dowhy.causal_estimator:b: y~v0+W0+X1+W3+W2+W1+X0 | X1,X0\n",
      "INFO:dowhy.causal_estimator:INFO: Using EconML Estimator\n",
      "INFO:dowhy.causal_estimator:b: y~v0+W0+X1+W3+W2+W1+X0 | X1,X0\n",
      "INFO:dowhy.causal_estimator:INFO: Using EconML Estimator\n",
      "INFO:dowhy.causal_estimator:b: y~v0+W0+X1+W3+W2+W1+X0 | X1,X0\n",
      "INFO:dowhy.causal_estimator:INFO: Using EconML Estimator\n",
      "INFO:dowhy.causal_estimator:b: y~v0+W0+X1+W3+W2+W1+X0 | X1,X0\n",
      "INFO:dowhy.causal_estimator:INFO: Using EconML Estimator\n",
      "INFO:dowhy.causal_estimator:b: y~v0+W0+X1+W3+W2+W1+X0 | X1,X0\n",
      "INFO:dowhy.causal_estimator:INFO: Using EconML Estimator\n",
      "INFO:dowhy.causal_estimator:b: y~v0+W0+X1+W3+W2+W1+X0 | X1,X0\n",
      "INFO:dowhy.causal_estimator:INFO: Using EconML Estimator\n",
      "INFO:dowhy.causal_estimator:b: y~v0+W0+X1+W3+W2+W1+X0 | X1,X0\n",
      "INFO:dowhy.causal_estimator:INFO: Using EconML Estimator\n",
      "INFO:dowhy.causal_estimator:b: y~v0+W0+X1+W3+W2+W1+X0 | X1,X0\n",
      "INFO:dowhy.causal_estimator:INFO: Using EconML Estimator\n",
      "INFO:dowhy.causal_estimator:b: y~v0+W0+X1+W3+W2+W1+X0 | X1,X0\n",
      "INFO:dowhy.causal_estimator:INFO: Using EconML Estimator\n",
      "INFO:dowhy.causal_estimator:b: y~v0+W0+X1+W3+W2+W1+X0 | X1,X0\n",
      "INFO:dowhy.causal_estimator:INFO: Using EconML Estimator\n",
      "INFO:dowhy.causal_estimator:b: y~v0+W0+X1+W3+W2+W1+X0 | X1,X0\n",
      "INFO:dowhy.causal_estimator:INFO: Using EconML Estimator\n",
      "INFO:dowhy.causal_estimator:b: y~v0+W0+X1+W3+W2+W1+X0 | X1,X0\n",
      "INFO:dowhy.causal_estimator:INFO: Using EconML Estimator\n",
      "INFO:dowhy.causal_estimator:b: y~v0+W0+X1+W3+W2+W1+X0 | X1,X0\n",
      "INFO:dowhy.causal_estimator:INFO: Using EconML Estimator\n",
      "INFO:dowhy.causal_estimator:b: y~v0+W0+X1+W3+W2+W1+X0 | X1,X0\n",
      "INFO:dowhy.causal_estimator:INFO: Using EconML Estimator\n",
      "INFO:dowhy.causal_estimator:b: y~v0+W0+X1+W3+W2+W1+X0 | X1,X0\n",
      "INFO:dowhy.causal_estimator:INFO: Using EconML Estimator\n",
      "INFO:dowhy.causal_estimator:b: y~v0+W0+X1+W3+W2+W1+X0 | X1,X0\n"
     ]
    },
    {
     "name": "stderr",
     "output_type": "stream",
     "text": [
      "INFO:dowhy.causal_estimator:INFO: Using EconML Estimator\n",
      "INFO:dowhy.causal_estimator:b: y~v0+W0+X1+W3+W2+W1+X0 | X1,X0\n",
      "INFO:dowhy.causal_estimator:INFO: Using EconML Estimator\n",
      "INFO:dowhy.causal_estimator:b: y~v0+W0+X1+W3+W2+W1+X0 | X1,X0\n",
      "INFO:dowhy.causal_estimator:INFO: Using EconML Estimator\n",
      "INFO:dowhy.causal_estimator:b: y~v0+W0+X1+W3+W2+W1+X0 | X1,X0\n",
      "INFO:dowhy.causal_estimator:INFO: Using EconML Estimator\n",
      "INFO:dowhy.causal_estimator:b: y~v0+W0+X1+W3+W2+W1+X0 | X1,X0\n",
      "INFO:dowhy.causal_estimator:INFO: Using EconML Estimator\n",
      "INFO:dowhy.causal_estimator:b: y~v0+W0+X1+W3+W2+W1+X0 | X1,X0\n",
      "INFO:dowhy.causal_estimator:INFO: Using EconML Estimator\n",
      "INFO:dowhy.causal_estimator:b: y~v0+W0+X1+W3+W2+W1+X0 | X1,X0\n",
      "INFO:dowhy.causal_estimator:INFO: Using EconML Estimator\n",
      "INFO:dowhy.causal_estimator:b: y~v0+W0+X1+W3+W2+W1+X0 | X1,X0\n",
      "INFO:dowhy.causal_estimator:INFO: Using EconML Estimator\n",
      "INFO:dowhy.causal_estimator:b: y~v0+W0+X1+W3+W2+W1+X0 | X1,X0\n",
      "INFO:dowhy.causal_estimator:INFO: Using EconML Estimator\n",
      "INFO:dowhy.causal_estimator:b: y~v0+W0+X1+W3+W2+W1+X0 | X1,X0\n",
      "INFO:dowhy.causal_estimator:INFO: Using EconML Estimator\n",
      "INFO:dowhy.causal_estimator:b: y~v0+W0+X1+W3+W2+W1+X0 | X1,X0\n",
      "INFO:dowhy.causal_estimator:INFO: Using EconML Estimator\n",
      "INFO:dowhy.causal_estimator:b: y~v0+W0+X1+W3+W2+W1+X0 | X1,X0\n",
      "INFO:dowhy.causal_estimator:INFO: Using EconML Estimator\n",
      "INFO:dowhy.causal_estimator:b: y~v0+W0+X1+W3+W2+W1+X0 | X1,X0\n",
      "INFO:dowhy.causal_estimator:INFO: Using EconML Estimator\n",
      "INFO:dowhy.causal_estimator:b: y~v0+W0+X1+W3+W2+W1+X0 | X1,X0\n",
      "INFO:dowhy.causal_estimator:INFO: Using EconML Estimator\n",
      "INFO:dowhy.causal_estimator:b: y~v0+W0+X1+W3+W2+W1+X0 | X1,X0\n",
      "INFO:dowhy.causal_estimator:INFO: Using EconML Estimator\n",
      "INFO:dowhy.causal_estimator:b: y~v0+W0+X1+W3+W2+W1+X0 | X1,X0\n",
      "INFO:dowhy.causal_estimator:INFO: Using EconML Estimator\n",
      "INFO:dowhy.causal_estimator:b: y~v0+W0+X1+W3+W2+W1+X0 | X1,X0\n",
      "INFO:dowhy.causal_estimator:INFO: Using EconML Estimator\n",
      "INFO:dowhy.causal_estimator:b: y~v0+W0+X1+W3+W2+W1+X0 | X1,X0\n",
      "INFO:dowhy.causal_estimator:INFO: Using EconML Estimator\n",
      "INFO:dowhy.causal_estimator:b: y~v0+W0+X1+W3+W2+W1+X0 | X1,X0\n",
      "INFO:dowhy.causal_estimator:INFO: Using EconML Estimator\n",
      "INFO:dowhy.causal_estimator:b: y~v0+W0+X1+W3+W2+W1+X0 | X1,X0\n",
      "INFO:dowhy.causal_estimator:INFO: Using EconML Estimator\n",
      "INFO:dowhy.causal_estimator:b: y~v0+W0+X1+W3+W2+W1+X0 | X1,X0\n",
      "INFO:dowhy.causal_estimator:INFO: Using EconML Estimator\n",
      "INFO:dowhy.causal_estimator:b: y~v0+W0+X1+W3+W2+W1+X0 | X1,X0\n",
      "INFO:dowhy.causal_estimator:INFO: Using EconML Estimator\n",
      "INFO:dowhy.causal_estimator:b: y~v0+W0+X1+W3+W2+W1+X0 | X1,X0\n",
      "INFO:dowhy.causal_estimator:INFO: Using EconML Estimator\n",
      "INFO:dowhy.causal_estimator:b: y~v0+W0+X1+W3+W2+W1+X0 | X1,X0\n",
      "INFO:dowhy.causal_estimator:INFO: Using EconML Estimator\n",
      "INFO:dowhy.causal_estimator:b: y~v0+W0+X1+W3+W2+W1+X0 | X1,X0\n",
      "INFO:dowhy.causal_estimator:INFO: Using EconML Estimator\n",
      "INFO:dowhy.causal_estimator:b: y~v0+W0+X1+W3+W2+W1+X0 | X1,X0\n",
      "INFO:dowhy.causal_estimator:INFO: Using EconML Estimator\n",
      "INFO:dowhy.causal_estimator:b: y~v0+W0+X1+W3+W2+W1+X0 | X1,X0\n",
      "INFO:dowhy.causal_estimator:INFO: Using EconML Estimator\n",
      "INFO:dowhy.causal_estimator:b: y~v0+W0+X1+W3+W2+W1+X0 | X1,X0\n",
      "INFO:dowhy.causal_estimator:INFO: Using EconML Estimator\n",
      "INFO:dowhy.causal_estimator:b: y~v0+W0+X1+W3+W2+W1+X0 | X1,X0\n",
      "INFO:dowhy.causal_estimator:INFO: Using EconML Estimator\n",
      "INFO:dowhy.causal_estimator:b: y~v0+W0+X1+W3+W2+W1+X0 | X1,X0\n",
      "INFO:dowhy.causal_estimator:INFO: Using EconML Estimator\n",
      "INFO:dowhy.causal_estimator:b: y~v0+W0+X1+W3+W2+W1+X0 | X1,X0\n",
      "INFO:dowhy.causal_estimator:INFO: Using EconML Estimator\n",
      "INFO:dowhy.causal_estimator:b: y~v0+W0+X1+W3+W2+W1+X0 | X1,X0\n",
      "INFO:dowhy.causal_estimator:INFO: Using EconML Estimator\n",
      "INFO:dowhy.causal_estimator:b: y~v0+W0+X1+W3+W2+W1+X0 | X1,X0\n",
      "INFO:dowhy.causal_refuters.data_subset_refuter:Making use of Bootstrap as we have more than 100 examples.\n",
      "                 Note: The greater the number of examples, the more accurate are the confidence estimates\n"
     ]
    },
    {
     "name": "stdout",
     "output_type": "stream",
     "text": [
      "Refute: Use a subset of data\n",
      "Estimated effect:13.296334356793176\n",
      "New effect:13.286368156471026\n",
      "p value:0.37\n",
      "\n"
     ]
    }
   ],
   "source": [
    "res_subset=model.refute_estimate(identified_estimand, dml_estimate,\n",
    "        method_name=\"data_subset_refuter\", subset_fraction=0.8)\n",
    "print(res_subset)"
   ]
  },
  {
   "cell_type": "markdown",
   "metadata": {},
   "source": [
    "More refutation methods to come, especially specific to the CATE estimators."
   ]
  }
 ],
 "metadata": {
  "kernelspec": {
   "display_name": "Python 3",
   "language": "python",
   "name": "python3"
  },
  "language_info": {
   "codemirror_mode": {
    "name": "ipython",
    "version": 3
   },
   "file_extension": ".py",
   "mimetype": "text/x-python",
   "name": "python",
   "nbconvert_exporter": "python",
   "pygments_lexer": "ipython3",
   "version": "3.8.5"
  },
  "toc": {
   "base_numbering": 1,
   "nav_menu": {},
   "number_sections": false,
   "sideBar": true,
   "skip_h1_title": true,
   "title_cell": "Table of Contents",
   "title_sidebar": "Contents",
   "toc_cell": false,
   "toc_position": {},
   "toc_section_display": true,
   "toc_window_display": false
  }
 },
 "nbformat": 4,
 "nbformat_minor": 2
}
