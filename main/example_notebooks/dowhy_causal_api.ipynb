{
 "cells": [
  {
   "cell_type": "markdown",
   "metadata": {},
   "source": [
    "# Demo for the DoWhy causal API\n",
    "We show a simple example of adding a causal extension to any dataframe. "
   ]
  },
  {
   "cell_type": "code",
   "execution_count": 1,
   "metadata": {
    "execution": {
     "iopub.execute_input": "2024-12-31T08:35:01.132506Z",
     "iopub.status.busy": "2024-12-31T08:35:01.132294Z",
     "iopub.status.idle": "2024-12-31T08:35:02.501741Z",
     "shell.execute_reply": "2024-12-31T08:35:02.501144Z"
    }
   },
   "outputs": [],
   "source": [
    "import dowhy.datasets\n",
    "import dowhy.api\n",
    "from dowhy.graph import build_graph_from_str\n",
    "\n",
    "import numpy as np\n",
    "import pandas as pd\n",
    "\n",
    "from statsmodels.api import OLS"
   ]
  },
  {
   "cell_type": "code",
   "execution_count": 2,
   "metadata": {
    "execution": {
     "iopub.execute_input": "2024-12-31T08:35:02.503908Z",
     "iopub.status.busy": "2024-12-31T08:35:02.503626Z",
     "iopub.status.idle": "2024-12-31T08:35:02.548082Z",
     "shell.execute_reply": "2024-12-31T08:35:02.547609Z"
    }
   },
   "outputs": [
    {
     "data": {
      "text/html": [
       "<div>\n",
       "<style scoped>\n",
       "    .dataframe tbody tr th:only-of-type {\n",
       "        vertical-align: middle;\n",
       "    }\n",
       "\n",
       "    .dataframe tbody tr th {\n",
       "        vertical-align: top;\n",
       "    }\n",
       "\n",
       "    .dataframe thead th {\n",
       "        text-align: right;\n",
       "    }\n",
       "</style>\n",
       "<table border=\"1\" class=\"dataframe\">\n",
       "  <thead>\n",
       "    <tr style=\"text-align: right;\">\n",
       "      <th></th>\n",
       "      <th>W0</th>\n",
       "      <th>v0</th>\n",
       "      <th>y</th>\n",
       "    </tr>\n",
       "  </thead>\n",
       "  <tbody>\n",
       "    <tr>\n",
       "      <th>0</th>\n",
       "      <td>0.692489</td>\n",
       "      <td>True</td>\n",
       "      <td>6.513994</td>\n",
       "    </tr>\n",
       "    <tr>\n",
       "      <th>1</th>\n",
       "      <td>0.647121</td>\n",
       "      <td>True</td>\n",
       "      <td>8.080264</td>\n",
       "    </tr>\n",
       "    <tr>\n",
       "      <th>2</th>\n",
       "      <td>-0.291692</td>\n",
       "      <td>True</td>\n",
       "      <td>3.450810</td>\n",
       "    </tr>\n",
       "    <tr>\n",
       "      <th>3</th>\n",
       "      <td>1.054548</td>\n",
       "      <td>True</td>\n",
       "      <td>8.130324</td>\n",
       "    </tr>\n",
       "    <tr>\n",
       "      <th>4</th>\n",
       "      <td>-0.618836</td>\n",
       "      <td>True</td>\n",
       "      <td>3.947363</td>\n",
       "    </tr>\n",
       "    <tr>\n",
       "      <th>...</th>\n",
       "      <td>...</td>\n",
       "      <td>...</td>\n",
       "      <td>...</td>\n",
       "    </tr>\n",
       "    <tr>\n",
       "      <th>995</th>\n",
       "      <td>2.401029</td>\n",
       "      <td>True</td>\n",
       "      <td>9.171075</td>\n",
       "    </tr>\n",
       "    <tr>\n",
       "      <th>996</th>\n",
       "      <td>1.724637</td>\n",
       "      <td>True</td>\n",
       "      <td>8.373037</td>\n",
       "    </tr>\n",
       "    <tr>\n",
       "      <th>997</th>\n",
       "      <td>0.999508</td>\n",
       "      <td>True</td>\n",
       "      <td>7.068687</td>\n",
       "    </tr>\n",
       "    <tr>\n",
       "      <th>998</th>\n",
       "      <td>-0.378417</td>\n",
       "      <td>False</td>\n",
       "      <td>1.271395</td>\n",
       "    </tr>\n",
       "    <tr>\n",
       "      <th>999</th>\n",
       "      <td>-0.114634</td>\n",
       "      <td>True</td>\n",
       "      <td>4.968926</td>\n",
       "    </tr>\n",
       "  </tbody>\n",
       "</table>\n",
       "<p>1000 rows × 3 columns</p>\n",
       "</div>"
      ],
      "text/plain": [
       "           W0     v0         y\n",
       "0    0.692489   True  6.513994\n",
       "1    0.647121   True  8.080264\n",
       "2   -0.291692   True  3.450810\n",
       "3    1.054548   True  8.130324\n",
       "4   -0.618836   True  3.947363\n",
       "..        ...    ...       ...\n",
       "995  2.401029   True  9.171075\n",
       "996  1.724637   True  8.373037\n",
       "997  0.999508   True  7.068687\n",
       "998 -0.378417  False  1.271395\n",
       "999 -0.114634   True  4.968926\n",
       "\n",
       "[1000 rows x 3 columns]"
      ]
     },
     "execution_count": 2,
     "metadata": {},
     "output_type": "execute_result"
    }
   ],
   "source": [
    "data = dowhy.datasets.linear_dataset(beta=5,\n",
    "        num_common_causes=1,\n",
    "        num_instruments = 0,\n",
    "        num_samples=1000,\n",
    "        treatment_is_binary=True)\n",
    "df = data['df']\n",
    "df['y'] = df['y'] + np.random.normal(size=len(df)) # Adding noise to data. Without noise, the variance in Y|X, Z is zero, and mcmc fails.\n",
    "nx_graph = build_graph_from_str(data[\"dot_graph\"])\n",
    "\n",
    "treatment= data[\"treatment_name\"][0]\n",
    "outcome = data[\"outcome_name\"][0]\n",
    "common_cause = data[\"common_causes_names\"][0]\n",
    "df"
   ]
  },
  {
   "cell_type": "code",
   "execution_count": 3,
   "metadata": {
    "execution": {
     "iopub.execute_input": "2024-12-31T08:35:02.549872Z",
     "iopub.status.busy": "2024-12-31T08:35:02.549521Z",
     "iopub.status.idle": "2024-12-31T08:35:02.732058Z",
     "shell.execute_reply": "2024-12-31T08:35:02.731537Z"
    },
    "scrolled": true
   },
   "outputs": [
    {
     "data": {
      "text/plain": [
       "<Axes: xlabel='v0'>"
      ]
     },
     "execution_count": 3,
     "metadata": {},
     "output_type": "execute_result"
    },
    {
     "data": {
      "image/png": "[encoded data removed]",
      "text/plain": [
       "<Figure size 640x480 with 1 Axes>"
      ]
     },
     "metadata": {},
     "output_type": "display_data"
    }
   ],
   "source": [
    "# data['df'] is just a regular pandas.DataFrame\n",
    "df.causal.do(x=treatment,\n",
    "             variable_types={treatment: 'b', outcome: 'c', common_cause: 'c'},\n",
    "             outcome=outcome,\n",
    "             common_causes=[common_cause],\n",
    "            ).groupby(treatment).mean().plot(y=outcome, kind='bar')"
   ]
  },
  {
   "cell_type": "code",
   "execution_count": 4,
   "metadata": {
    "execution": {
     "iopub.execute_input": "2024-12-31T08:35:02.733980Z",
     "iopub.status.busy": "2024-12-31T08:35:02.733602Z",
     "iopub.status.idle": "2024-12-31T08:35:02.873300Z",
     "shell.execute_reply": "2024-12-31T08:35:02.872809Z"
    }
   },
   "outputs": [
    {
     "data": {
      "text/plain": [
       "<Axes: xlabel='v0'>"
      ]
     },
     "execution_count": 4,
     "metadata": {},
     "output_type": "execute_result"
    },
    {
     "data": {
      "image/png": "[encoded data removed]",
      "text/plain": [
       "<Figure size 640x480 with 1 Axes>"
      ]
     },
     "metadata": {},
     "output_type": "display_data"
    }
   ],
   "source": [
    "df.causal.do(x={treatment: 1}, \n",
    "              variable_types={treatment:'b', outcome: 'c', common_cause: 'c'}, \n",
    "              outcome=outcome,\n",
    "              method='weighting', \n",
    "              common_causes=[common_cause]\n",
    "              ).groupby(treatment).mean().plot(y=outcome, kind='bar')"
   ]
  },
  {
   "cell_type": "code",
   "execution_count": 5,
   "metadata": {
    "execution": {
     "iopub.execute_input": "2024-12-31T08:35:02.875056Z",
     "iopub.status.busy": "2024-12-31T08:35:02.874864Z",
     "iopub.status.idle": "2024-12-31T08:35:02.895106Z",
     "shell.execute_reply": "2024-12-31T08:35:02.894650Z"
    }
   },
   "outputs": [],
   "source": [
    "cdf_1 = df.causal.do(x={treatment: 1}, \n",
    "              variable_types={treatment: 'b', outcome: 'c', common_cause: 'c'}, \n",
    "              outcome=outcome, \n",
    "              graph=nx_graph\n",
    "              )\n",
    "\n",
    "cdf_0 = df.causal.do(x={treatment: 0}, \n",
    "              variable_types={treatment: 'b', outcome: 'c', common_cause: 'c'}, \n",
    "              outcome=outcome, \n",
    "              graph=nx_graph\n",
    "              )\n"
   ]
  },
  {
   "cell_type": "code",
   "execution_count": 6,
   "metadata": {
    "execution": {
     "iopub.execute_input": "2024-12-31T08:35:02.896757Z",
     "iopub.status.busy": "2024-12-31T08:35:02.896570Z",
     "iopub.status.idle": "2024-12-31T08:35:02.905480Z",
     "shell.execute_reply": "2024-12-31T08:35:02.904885Z"
    },
    "scrolled": true
   },
   "outputs": [
    {
     "data": {
      "text/html": [
       "<div>\n",
       "<style scoped>\n",
       "    .dataframe tbody tr th:only-of-type {\n",
       "        vertical-align: middle;\n",
       "    }\n",
       "\n",
       "    .dataframe tbody tr th {\n",
       "        vertical-align: top;\n",
       "    }\n",
       "\n",
       "    .dataframe thead th {\n",
       "        text-align: right;\n",
       "    }\n",
       "</style>\n",
       "<table border=\"1\" class=\"dataframe\">\n",
       "  <thead>\n",
       "    <tr style=\"text-align: right;\">\n",
       "      <th></th>\n",
       "      <th>W0</th>\n",
       "      <th>v0</th>\n",
       "      <th>y</th>\n",
       "      <th>propensity_score</th>\n",
       "      <th>weight</th>\n",
       "    </tr>\n",
       "  </thead>\n",
       "  <tbody>\n",
       "    <tr>\n",
       "      <th>0</th>\n",
       "      <td>1.232935</td>\n",
       "      <td>False</td>\n",
       "      <td>0.530949</td>\n",
       "      <td>0.070514</td>\n",
       "      <td>14.181545</td>\n",
       "    </tr>\n",
       "    <tr>\n",
       "      <th>1</th>\n",
       "      <td>-0.120800</td>\n",
       "      <td>False</td>\n",
       "      <td>-1.078003</td>\n",
       "      <td>0.539004</td>\n",
       "      <td>1.855275</td>\n",
       "    </tr>\n",
       "    <tr>\n",
       "      <th>2</th>\n",
       "      <td>0.601958</td>\n",
       "      <td>False</td>\n",
       "      <td>2.265526</td>\n",
       "      <td>0.213499</td>\n",
       "      <td>4.683865</td>\n",
       "    </tr>\n",
       "    <tr>\n",
       "      <th>3</th>\n",
       "      <td>0.292528</td>\n",
       "      <td>False</td>\n",
       "      <td>0.574488</td>\n",
       "      <td>0.336535</td>\n",
       "      <td>2.971462</td>\n",
       "    </tr>\n",
       "    <tr>\n",
       "      <th>4</th>\n",
       "      <td>1.000027</td>\n",
       "      <td>False</td>\n",
       "      <td>0.634646</td>\n",
       "      <td>0.108299</td>\n",
       "      <td>9.233726</td>\n",
       "    </tr>\n",
       "    <tr>\n",
       "      <th>...</th>\n",
       "      <td>...</td>\n",
       "      <td>...</td>\n",
       "      <td>...</td>\n",
       "      <td>...</td>\n",
       "      <td>...</td>\n",
       "    </tr>\n",
       "    <tr>\n",
       "      <th>995</th>\n",
       "      <td>1.312027</td>\n",
       "      <td>False</td>\n",
       "      <td>3.808483</td>\n",
       "      <td>0.060733</td>\n",
       "      <td>16.465611</td>\n",
       "    </tr>\n",
       "    <tr>\n",
       "      <th>996</th>\n",
       "      <td>0.707995</td>\n",
       "      <td>False</td>\n",
       "      <td>1.570884</td>\n",
       "      <td>0.179726</td>\n",
       "      <td>5.564022</td>\n",
       "    </tr>\n",
       "    <tr>\n",
       "      <th>997</th>\n",
       "      <td>0.805173</td>\n",
       "      <td>False</td>\n",
       "      <td>1.552603</td>\n",
       "      <td>0.152575</td>\n",
       "      <td>6.554158</td>\n",
       "    </tr>\n",
       "    <tr>\n",
       "      <th>998</th>\n",
       "      <td>0.598637</td>\n",
       "      <td>False</td>\n",
       "      <td>-0.046964</td>\n",
       "      <td>0.214628</td>\n",
       "      <td>4.659231</td>\n",
       "    </tr>\n",
       "    <tr>\n",
       "      <th>999</th>\n",
       "      <td>0.204984</td>\n",
       "      <td>False</td>\n",
       "      <td>-1.838001</td>\n",
       "      <td>0.377095</td>\n",
       "      <td>2.651853</td>\n",
       "    </tr>\n",
       "  </tbody>\n",
       "</table>\n",
       "<p>1000 rows × 5 columns</p>\n",
       "</div>"
      ],
      "text/plain": [
       "           W0     v0         y  propensity_score     weight\n",
       "0    1.232935  False  0.530949          0.070514  14.181545\n",
       "1   -0.120800  False -1.078003          0.539004   1.855275\n",
       "2    0.601958  False  2.265526          0.213499   4.683865\n",
       "3    0.292528  False  0.574488          0.336535   2.971462\n",
       "4    1.000027  False  0.634646          0.108299   9.233726\n",
       "..        ...    ...       ...               ...        ...\n",
       "995  1.312027  False  3.808483          0.060733  16.465611\n",
       "996  0.707995  False  1.570884          0.179726   5.564022\n",
       "997  0.805173  False  1.552603          0.152575   6.554158\n",
       "998  0.598637  False -0.046964          0.214628   4.659231\n",
       "999  0.204984  False -1.838001          0.377095   2.651853\n",
       "\n",
       "[1000 rows x 5 columns]"
      ]
     },
     "execution_count": 6,
     "metadata": {},
     "output_type": "execute_result"
    }
   ],
   "source": [
    "cdf_0"
   ]
  },
  {
   "cell_type": "code",
   "execution_count": 7,
   "metadata": {
    "execution": {
     "iopub.execute_input": "2024-12-31T08:35:02.907290Z",
     "iopub.status.busy": "2024-12-31T08:35:02.906865Z",
     "iopub.status.idle": "2024-12-31T08:35:02.915494Z",
     "shell.execute_reply": "2024-12-31T08:35:02.914916Z"
    }
   },
   "outputs": [
    {
     "data": {
      "text/html": [
       "<div>\n",
       "<style scoped>\n",
       "    .dataframe tbody tr th:only-of-type {\n",
       "        vertical-align: middle;\n",
       "    }\n",
       "\n",
       "    .dataframe tbody tr th {\n",
       "        vertical-align: top;\n",
       "    }\n",
       "\n",
       "    .dataframe thead th {\n",
       "        text-align: right;\n",
       "    }\n",
       "</style>\n",
       "<table border=\"1\" class=\"dataframe\">\n",
       "  <thead>\n",
       "    <tr style=\"text-align: right;\">\n",
       "      <th></th>\n",
       "      <th>W0</th>\n",
       "      <th>v0</th>\n",
       "      <th>y</th>\n",
       "      <th>propensity_score</th>\n",
       "      <th>weight</th>\n",
       "    </tr>\n",
       "  </thead>\n",
       "  <tbody>\n",
       "    <tr>\n",
       "      <th>0</th>\n",
       "      <td>0.411220</td>\n",
       "      <td>True</td>\n",
       "      <td>5.997172</td>\n",
       "      <td>0.714754</td>\n",
       "      <td>1.399083</td>\n",
       "    </tr>\n",
       "    <tr>\n",
       "      <th>1</th>\n",
       "      <td>1.470005</td>\n",
       "      <td>True</td>\n",
       "      <td>7.939459</td>\n",
       "      <td>0.955118</td>\n",
       "      <td>1.046991</td>\n",
       "    </tr>\n",
       "    <tr>\n",
       "      <th>2</th>\n",
       "      <td>0.302906</td>\n",
       "      <td>True</td>\n",
       "      <td>6.055634</td>\n",
       "      <td>0.668131</td>\n",
       "      <td>1.496713</td>\n",
       "    </tr>\n",
       "    <tr>\n",
       "      <th>3</th>\n",
       "      <td>0.763221</td>\n",
       "      <td>True</td>\n",
       "      <td>5.912023</td>\n",
       "      <td>0.836140</td>\n",
       "      <td>1.195972</td>\n",
       "    </tr>\n",
       "    <tr>\n",
       "      <th>4</th>\n",
       "      <td>-0.505381</td>\n",
       "      <td>True</td>\n",
       "      <td>3.969568</td>\n",
       "      <td>0.282244</td>\n",
       "      <td>3.543032</td>\n",
       "    </tr>\n",
       "    <tr>\n",
       "      <th>...</th>\n",
       "      <td>...</td>\n",
       "      <td>...</td>\n",
       "      <td>...</td>\n",
       "      <td>...</td>\n",
       "      <td>...</td>\n",
       "    </tr>\n",
       "    <tr>\n",
       "      <th>995</th>\n",
       "      <td>0.879454</td>\n",
       "      <td>True</td>\n",
       "      <td>5.608546</td>\n",
       "      <td>0.865835</td>\n",
       "      <td>1.154954</td>\n",
       "    </tr>\n",
       "    <tr>\n",
       "      <th>996</th>\n",
       "      <td>2.503162</td>\n",
       "      <td>True</td>\n",
       "      <td>10.771813</td>\n",
       "      <td>0.994207</td>\n",
       "      <td>1.005827</td>\n",
       "    </tr>\n",
       "    <tr>\n",
       "      <th>997</th>\n",
       "      <td>2.256445</td>\n",
       "      <td>True</td>\n",
       "      <td>8.361526</td>\n",
       "      <td>0.990499</td>\n",
       "      <td>1.009593</td>\n",
       "    </tr>\n",
       "    <tr>\n",
       "      <th>998</th>\n",
       "      <td>1.252414</td>\n",
       "      <td>True</td>\n",
       "      <td>6.828937</td>\n",
       "      <td>0.932022</td>\n",
       "      <td>1.072936</td>\n",
       "    </tr>\n",
       "    <tr>\n",
       "      <th>999</th>\n",
       "      <td>1.605996</td>\n",
       "      <td>True</td>\n",
       "      <td>8.848931</td>\n",
       "      <td>0.965529</td>\n",
       "      <td>1.035701</td>\n",
       "    </tr>\n",
       "  </tbody>\n",
       "</table>\n",
       "<p>1000 rows × 5 columns</p>\n",
       "</div>"
      ],
      "text/plain": [
       "           W0    v0          y  propensity_score    weight\n",
       "0    0.411220  True   5.997172          0.714754  1.399083\n",
       "1    1.470005  True   7.939459          0.955118  1.046991\n",
       "2    0.302906  True   6.055634          0.668131  1.496713\n",
       "3    0.763221  True   5.912023          0.836140  1.195972\n",
       "4   -0.505381  True   3.969568          0.282244  3.543032\n",
       "..        ...   ...        ...               ...       ...\n",
       "995  0.879454  True   5.608546          0.865835  1.154954\n",
       "996  2.503162  True  10.771813          0.994207  1.005827\n",
       "997  2.256445  True   8.361526          0.990499  1.009593\n",
       "998  1.252414  True   6.828937          0.932022  1.072936\n",
       "999  1.605996  True   8.848931          0.965529  1.035701\n",
       "\n",
       "[1000 rows x 5 columns]"
      ]
     },
     "execution_count": 7,
     "metadata": {},
     "output_type": "execute_result"
    }
   ],
   "source": [
    "cdf_1"
   ]
  },
  {
   "cell_type": "markdown",
   "metadata": {},
   "source": [
    "## Comparing the estimate to Linear Regression\n",
    "First, estimating the effect using the causal data frame, and the 95% confidence interval."
   ]
  },
  {
   "cell_type": "code",
   "execution_count": 8,
   "metadata": {
    "execution": {
     "iopub.execute_input": "2024-12-31T08:35:02.917222Z",
     "iopub.status.busy": "2024-12-31T08:35:02.916897Z",
     "iopub.status.idle": "2024-12-31T08:35:02.962854Z",
     "shell.execute_reply": "2024-12-31T08:35:02.962248Z"
    }
   },
   "outputs": [
    {
     "data": {
      "image/png": "[encoded data removed]",
      "text/latex": [
       "$\\displaystyle 5.60782363962144$"
      ],
      "text/plain": [
       "5.607823639621442"
      ]
     },
     "execution_count": 8,
     "metadata": {},
     "output_type": "execute_result"
    }
   ],
   "source": [
    "(cdf_1['y'] - cdf_0['y']).mean()"
   ]
  },
  {
   "cell_type": "code",
   "execution_count": 9,
   "metadata": {
    "execution": {
     "iopub.execute_input": "2024-12-31T08:35:02.964773Z",
     "iopub.status.busy": "2024-12-31T08:35:02.964317Z",
     "iopub.status.idle": "2024-12-31T08:35:02.979192Z",
     "shell.execute_reply": "2024-12-31T08:35:02.978610Z"
    }
   },
   "outputs": [
    {
     "data": {
      "image/png": "[encoded data removed]",
      "text/latex": [
       "$\\displaystyle 0.16460849994063$"
      ],
      "text/plain": [
       "0.16460849994063037"
      ]
     },
     "execution_count": 9,
     "metadata": {},
     "output_type": "execute_result"
    }
   ],
   "source": [
    "1.96*(cdf_1['y'] - cdf_0['y']).std() / np.sqrt(len(df))"
   ]
  },
  {
   "cell_type": "markdown",
   "metadata": {},
   "source": [
    "Comparing to the estimate from OLS."
   ]
  },
  {
   "cell_type": "code",
   "execution_count": 10,
   "metadata": {
    "execution": {
     "iopub.execute_input": "2024-12-31T08:35:02.980871Z",
     "iopub.status.busy": "2024-12-31T08:35:02.980688Z",
     "iopub.status.idle": "2024-12-31T08:35:02.997300Z",
     "shell.execute_reply": "2024-12-31T08:35:02.996727Z"
    }
   },
   "outputs": [
    {
     "data": {
      "text/html": [
       "<table class=\"simpletable\">\n",
       "<caption>OLS Regression Results</caption>\n",
       "<tr>\n",
       "  <th>Dep. Variable:</th>            <td>y</td>        <th>  R-squared (uncentered):</th>      <td>   0.973</td> \n",
       "</tr>\n",
       "<tr>\n",
       "  <th>Model:</th>                   <td>OLS</td>       <th>  Adj. R-squared (uncentered):</th> <td>   0.973</td> \n",
       "</tr>\n",
       "<tr>\n",
       "  <th>Method:</th>             <td>Least Squares</td>  <th>  F-statistic:       </th>          <td>1.808e+04</td>\n",
       "</tr>\n",
       "<tr>\n",
       "  <th>Date:</th>             <td>Tue, 31 Dec 2024</td> <th>  Prob (F-statistic):</th>           <td>  0.00</td>  \n",
       "</tr>\n",
       "<tr>\n",
       "  <th>Time:</th>                 <td>08:35:02</td>     <th>  Log-Likelihood:    </th>          <td> -1451.6</td> \n",
       "</tr>\n",
       "<tr>\n",
       "  <th>No. Observations:</th>      <td>  1000</td>      <th>  AIC:               </th>          <td>   2907.</td> \n",
       "</tr>\n",
       "<tr>\n",
       "  <th>Df Residuals:</th>          <td>   998</td>      <th>  BIC:               </th>          <td>   2917.</td> \n",
       "</tr>\n",
       "<tr>\n",
       "  <th>Df Model:</th>              <td>     2</td>      <th>                     </th>              <td> </td>    \n",
       "</tr>\n",
       "<tr>\n",
       "  <th>Covariance Type:</th>      <td>nonrobust</td>    <th>                     </th>              <td> </td>    \n",
       "</tr>\n",
       "</table>\n",
       "<table class=\"simpletable\">\n",
       "<tr>\n",
       "   <td></td>     <th>coef</th>     <th>std err</th>      <th>t</th>      <th>P>|t|</th>  <th>[0.025</th>    <th>0.975]</th>  \n",
       "</tr>\n",
       "<tr>\n",
       "  <th>x1</th> <td>    1.9217</td> <td>    0.040</td> <td>   48.081</td> <td> 0.000</td> <td>    1.843</td> <td>    2.000</td>\n",
       "</tr>\n",
       "<tr>\n",
       "  <th>x2</th> <td>    5.0082</td> <td>    0.058</td> <td>   86.916</td> <td> 0.000</td> <td>    4.895</td> <td>    5.121</td>\n",
       "</tr>\n",
       "</table>\n",
       "<table class=\"simpletable\">\n",
       "<tr>\n",
       "  <th>Omnibus:</th>       <td> 0.132</td> <th>  Durbin-Watson:     </th> <td>   1.898</td>\n",
       "</tr>\n",
       "<tr>\n",
       "  <th>Prob(Omnibus):</th> <td> 0.936</td> <th>  Jarque-Bera (JB):  </th> <td>   0.193</td>\n",
       "</tr>\n",
       "<tr>\n",
       "  <th>Skew:</th>          <td> 0.020</td> <th>  Prob(JB):          </th> <td>   0.908</td>\n",
       "</tr>\n",
       "<tr>\n",
       "  <th>Kurtosis:</th>      <td> 2.945</td> <th>  Cond. No.          </th> <td>    2.85</td>\n",
       "</tr>\n",
       "</table><br/><br/>Notes:<br/>[1] R² is computed without centering (uncentered) since the model does not contain a constant.<br/>[2] Standard Errors assume that the covariance matrix of the errors is correctly specified."
      ],
      "text/latex": [
       "\\begin{center}\n",
       "\\begin{tabular}{lclc}\n",
       "\\toprule\n",
       "\\textbf{Dep. Variable:}    &        y         & \\textbf{  R-squared (uncentered):}      &     0.973   \\\\\n",
       "\\textbf{Model:}            &       OLS        & \\textbf{  Adj. R-squared (uncentered):} &     0.973   \\\\\n",
       "\\textbf{Method:}           &  Least Squares   & \\textbf{  F-statistic:       }          & 1.808e+04   \\\\\n",
       "\\textbf{Date:}             & Tue, 31 Dec 2024 & \\textbf{  Prob (F-statistic):}          &     0.00    \\\\\n",
       "\\textbf{Time:}             &     08:35:02     & \\textbf{  Log-Likelihood:    }          &   -1451.6   \\\\\n",
       "\\textbf{No. Observations:} &        1000      & \\textbf{  AIC:               }          &     2907.   \\\\\n",
       "\\textbf{Df Residuals:}     &         998      & \\textbf{  BIC:               }          &     2917.   \\\\\n",
       "\\textbf{Df Model:}         &           2      & \\textbf{                     }          &             \\\\\n",
       "\\textbf{Covariance Type:}  &    nonrobust     & \\textbf{                     }          &             \\\\\n",
       "\\bottomrule\n",
       "\\end{tabular}\n",
       "\\begin{tabular}{lcccccc}\n",
       "            & \\textbf{coef} & \\textbf{std err} & \\textbf{t} & \\textbf{P$> |$t$|$} & \\textbf{[0.025} & \\textbf{0.975]}  \\\\\n",
       "\\midrule\n",
       "\\textbf{x1} &       1.9217  &        0.040     &    48.081  &         0.000        &        1.843    &        2.000     \\\\\n",
       "\\textbf{x2} &       5.0082  &        0.058     &    86.916  &         0.000        &        4.895    &        5.121     \\\\\n",
       "\\bottomrule\n",
       "\\end{tabular}\n",
       "\\begin{tabular}{lclc}\n",
       "\\textbf{Omnibus:}       &  0.132 & \\textbf{  Durbin-Watson:     } &    1.898  \\\\\n",
       "\\textbf{Prob(Omnibus):} &  0.936 & \\textbf{  Jarque-Bera (JB):  } &    0.193  \\\\\n",
       "\\textbf{Skew:}          &  0.020 & \\textbf{  Prob(JB):          } &    0.908  \\\\\n",
       "\\textbf{Kurtosis:}      &  2.945 & \\textbf{  Cond. No.          } &     2.85  \\\\\n",
       "\\bottomrule\n",
       "\\end{tabular}\n",
       "%\\caption{OLS Regression Results}\n",
       "\\end{center}\n",
       "\n",
       "Notes: \\newline\n",
       " [1] R² is computed without centering (uncentered) since the model does not contain a constant. \\newline\n",
       " [2] Standard Errors assume that the covariance matrix of the errors is correctly specified."
      ],
      "text/plain": [
       "<class 'statsmodels.iolib.summary.Summary'>\n",
       "\"\"\"\n",
       "                                 OLS Regression Results                                \n",
       "=======================================================================================\n",
       "Dep. Variable:                      y   R-squared (uncentered):                   0.973\n",
       "Model:                            OLS   Adj. R-squared (uncentered):              0.973\n",
       "Method:                 Least Squares   F-statistic:                          1.808e+04\n",
       "Date:                Tue, 31 Dec 2024   Prob (F-statistic):                        0.00\n",
       "Time:                        08:35:02   Log-Likelihood:                         -1451.6\n",
       "No. Observations:                1000   AIC:                                      2907.\n",
       "Df Residuals:                     998   BIC:                                      2917.\n",
       "Df Model:                           2                                                  \n",
       "Covariance Type:            nonrobust                                                  \n",
       "==============================================================================\n",
       "                 coef    std err          t      P>|t|      [0.025      0.975]\n",
       "------------------------------------------------------------------------------\n",
       "x1             1.9217      0.040     48.081      0.000       1.843       2.000\n",
       "x2             5.0082      0.058     86.916      0.000       4.895       5.121\n",
       "==============================================================================\n",
       "Omnibus:                        0.132   Durbin-Watson:                   1.898\n",
       "Prob(Omnibus):                  0.936   Jarque-Bera (JB):                0.193\n",
       "Skew:                           0.020   Prob(JB):                        0.908\n",
       "Kurtosis:                       2.945   Cond. No.                         2.85\n",
       "==============================================================================\n",
       "\n",
       "Notes:\n",
       "[1] R² is computed without centering (uncentered) since the model does not contain a constant.\n",
       "[2] Standard Errors assume that the covariance matrix of the errors is correctly specified.\n",
       "\"\"\""
      ]
     },
     "execution_count": 10,
     "metadata": {},
     "output_type": "execute_result"
    }
   ],
   "source": [
    "model = OLS(np.asarray(df[outcome]), np.asarray(df[[common_cause, treatment]], dtype=np.float64))\n",
    "result = model.fit()\n",
    "result.summary()"
   ]
  }
 ],
 "metadata": {
  "kernelspec": {
   "display_name": "Python 3 (ipykernel)",
   "language": "python",
   "name": "python3"
  },
  "language_info": {
   "codemirror_mode": {
    "name": "ipython",
    "version": 3
   },
   "file_extension": ".py",
   "mimetype": "text/x-python",
   "name": "python",
   "nbconvert_exporter": "python",
   "pygments_lexer": "ipython3",
   "version": "3.8.10"
  },
  "toc": {
   "base_numbering": 1,
   "nav_menu": {},
   "number_sections": false,
   "sideBar": true,
   "skip_h1_title": true,
   "title_cell": "Table of Contents",
   "title_sidebar": "Contents",
   "toc_cell": false,
   "toc_position": {},
   "toc_section_display": true,
   "toc_window_display": false
  }
 },
 "nbformat": 4,
 "nbformat_minor": 4
}
